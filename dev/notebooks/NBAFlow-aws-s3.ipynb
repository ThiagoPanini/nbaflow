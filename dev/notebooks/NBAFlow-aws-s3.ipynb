{
 "cells": [
  {
   "cell_type": "markdown",
   "id": "8b07edc0",
   "metadata": {
    "toc": true
   },
   "source": [
    "<h1>Table of Contents<span class=\"tocSkip\"></span></h1>\n",
    "<div class=\"toc\"><ul class=\"toc-item\"><li><span><a href=\"#Introdução-e-Cenário\" data-toc-modified-id=\"Introdução-e-Cenário-1\"><span class=\"toc-item-num\">1&nbsp;&nbsp;</span>Introdução e Cenário</a></span><ul class=\"toc-item\"><li><span><a href=\"#Objetos-e-Elementos-do-Projeto\" data-toc-modified-id=\"Objetos-e-Elementos-do-Projeto-1.1\"><span class=\"toc-item-num\">1.1&nbsp;&nbsp;</span>Objetos e Elementos do Projeto</a></span></li></ul></li><li><span><a href=\"#Operações-com-Buckets-no-S3\" data-toc-modified-id=\"Operações-com-Buckets-no-S3-2\"><span class=\"toc-item-num\">2&nbsp;&nbsp;</span>Operações com Buckets no S3</a></span><ul class=\"toc-item\"><li><span><a href=\"#Via-Console\" data-toc-modified-id=\"Via-Console-2.1\"><span class=\"toc-item-num\">2.1&nbsp;&nbsp;</span>Via Console</a></span></li><li><span><a href=\"#Via-boto3\" data-toc-modified-id=\"Via-boto3-2.2\"><span class=\"toc-item-num\">2.2&nbsp;&nbsp;</span>Via boto3</a></span></li></ul></li><li><span><a href=\"#NBAFlow-+-boto3\" data-toc-modified-id=\"NBAFlow-+-boto3-3\"><span class=\"toc-item-num\">3&nbsp;&nbsp;</span>NBAFlow + boto3</a></span></li></ul></div>"
   ]
  },
  {
   "cell_type": "markdown",
   "id": "a67b16fd",
   "metadata": {},
   "source": [
    "# Introdução e Cenário"
   ]
  },
  {
   "cell_type": "markdown",
   "id": "417a7d04",
   "metadata": {},
   "source": [
    "Este notebook tem por objetivo documentar e detalhar os passos realizados para a utilização do serviço **S3** (do inglês, _Simple Storage Service_) da AWS para o armazenamento de objetos gerados pelas funcionalidades do projeto [nbaflow](https://github.com/ThiagoPanini/nbaflow). Dentro da proposta de migração do projeto para uma arquitetura em nuvem, no notebook [NBAFlow-aws-migration](https://github.com/ThiagoPanini/nbaflow/blob/main/notebooks/NBAFlow-aws-migration.ipynb) foi proposta uma documentação completa sobre todas as etapas realizadas dentro do processo de utilização de um serviço de banco de dados relacional (RDS) conectado a um serviço computacional (EC2) para consultar dados de jogadores da NBA e, eventualmente, entregá-los por e-mail ao usuário.\n",
    "\n",
    "Como resultado dessa frente de migração, foi possível alcançar a seguinte arquitetura já testada e validada dentro dos propósitos iniciais estabelecidos:\n",
    "\n",
    "<div align=\"center\">\n",
    "    <br><img src=\"https://i.imgur.com/8uRYLEH.png\" alt=\"aws_diagram\">\n",
    "</div>\n",
    "\n",
    "Na prática, a instância EC2 possui scripts python clonados do repositório oficial do projeto no GitHub via SSH e, a partir deles, o desenvolvedor pode manualmente solicitar a execução para dois propósitos específicos:\n",
    "\n",
    "* _**insert_gamelog_data.py**_: lê um arquivo csv processado previamente e disponibilizado no diretório `data/` para realizar um processo de criação de tabela e ingestão de dados em um banco de dados RDS PostgreSQL.\n",
    "* _**player_gamelog_from_db.py**_: recebe parâmetros do usuário no prompt de comando (nome de um jogador e temporada válida da NBA) para construir uma query de consulta a ser executada no banco de dados. Os dados são retornados em um formato DataFrame e, opcionalmente, enviados por e-mail para um destinatário fornecido também manualmente.\n",
    "\n",
    "<div class=\"alert alert-block alert-info\">\n",
    "<b>Observação:</b> Até este ponto, ainda não foi possível construir uma lógica inteiramente voltada à APIs. Em outras palavras, todas as iterações usuário-código são feitas diretamente pelo prompt de comando e, futuramente, a ideia é que essa comunicação seja feita a partir de uma rota específica onde o usuário possa acessar e enviar suas solicitações de acordo com os filtros desejados. Além disso, ainda existem oportunidades de otimizar esse fluxo a partir da utilização de outros serviços da AWS capazes de servir como um alicerce computacional como, por exemplo, funções lambda.\n",
    "</div>\n",
    "\n",
    "___\n",
    "**_Para entender todo o contexto do projeto, é sugerido o consumo dos seguintes materiais:_**\n",
    "\n",
    "* [1. NBAFlow - documentação e exploração inicial da API nba_api](https://github.com/ThiagoPanini/nbaflow/blob/main/notebooks/NBAflow-doc-api.ipynb)\n",
    "\n",
    "* [2. NBAFlow - documentação de fluxo de extração de imagens de jogadores](https://github.com/ThiagoPanini/nbaflow/blob/main/notebooks/NBAflow-players-images.ipynb)\n",
    "\n",
    "* [3. NBAFlow - estruturação de armazenamento em banco de dados Postgres (OPCIONAL)](https://github.com/ThiagoPanini/nbaflow/blob/main/notebooks/NBAflow-psql.ipynb)\n",
    "\n",
    "* [4. NBAFlow - primeiros passos da migração para a AWS](https://github.com/ThiagoPanini/nbaflow/blob/main/notebooks/NBAFlow-aws-migration.ipynb)\n",
    "\n",
    "* [5. Classes estruturadas de processamento de dados](https://github.com/ThiagoPanini/nbaflow/tree/main/core)\n",
    "\n",
    "* [6. Scripts de processamento de dados utilizando as classes estruturadas](https://github.com/ThiagoPanini/nbaflow/tree/main/scripts)\n",
    "___"
   ]
  },
  {
   "cell_type": "markdown",
   "id": "9b036c69",
   "metadata": {},
   "source": [
    "## Objetos e Elementos do Projeto"
   ]
  },
  {
   "cell_type": "markdown",
   "id": "4d1b2600",
   "metadata": {},
   "source": [
    "Assim, em paralelo aos desafios acima explicados e, dentro dos objetivos estabelecidos no início deste material, a grande exploração a ser realizada nas próxima seções gira em torno da utilização do serviço S3 para o armazenamento de alguns objetos presentes em momentos específicos do fluxo de trabalho do projeto NBAFlow. \n",
    "\n",
    "Neste cenário, os objetos citados referem-se a:\n",
    "\n",
    "* **_Arquivos de dados_**: ao longo do desenvolvimento do projeto, foram criados scripts de requisição e processamento de dados de jogadores da NBA para serem analisados posteriormente. Neste propósito, o módulo [`gamelog`](https://github.com/ThiagoPanini/nbaflow/blob/main/core/gamelog.py) foi concebido como uma forma de centralizar o consumo do pacote [nba_api](https://github.com/swar/nba_api) no univero de análise de partidas e estatísticas individuais de jogadores da liga em todas as temporadas disponíveis. Ao longo do processamento, notou-se uma carga excessiva de requisições realizadas, gerando assim um alto tempo de execução para o retorno dos dados de todas as partidas, de todos os jogadores, em todas as temporadas válidas. Assim, visando otimizar as etapas posteriores, todo o histórico processado foi armazenado no arquivo [all_players_gamelog.csv](https://github.com/ThiagoPanini/nbaflow/blob/main/data/all_players_gamelog.csv) contendo todos os insumos necessários para uma análise completa da liga. Exemplificando a utilidade deste arquivo, o script [`insert_gamelog_data`](https://github.com/ThiagoPanini/nbaflow/blob/main/scripts/db_integration/insert_gamelog_data.py) se utiliza deste arquivo csv para inserir registros em uma tabela em um banco de dados PostgreSQL (local ou na nuvem). Como um passo adicional, neste material será proposto o armazenamento deste arquivo em um bucket do S3 para consumo direto via script. Eventualmente, será possível adicionar lógicas no módulo `gamelog` para salvar os resultados das requisições à nba_api direto em buckets do S3 utilizando o SDK [`boto3`](https://boto3.amazonaws.com/v1/documentation/api/latest/guide/quickstart.html).\n",
    "\n",
    "\n",
    "* **_Imagens de jogadores_**: em uma outra frente extremamente relevante dentro do projeto NBAFlow, foi construída uma lógica capaz de extrair imagens de alta qualidade dos jogadores da NBA diretamente do [site oficial](https://www.nba.com/stats/). Neste cenário, o módulo [`images`](https://github.com/ThiagoPanini/nbaflow/blob/main/core/images.py) foi concebido como uma forma de centralizar os elementos necessários para a consolidação dessas requisições e o salvamento local dos arquivos png recebidos no sistema operacional. Como alternativas, será proposta a inclusão dessas imagens em um bucket do S3 para um armazenamento mais sustentável dentro das propostas gerais do projeto. Eventualmente, será possível aplicar algumas alterações no módulo `images` para que as imagens obtidas pelas requisições já sejam automaticamente salvas em buckets do S3. Para tal, mais uma vez, será preciso utilizar as funcionalidade so SDK `boto3`."
   ]
  },
  {
   "cell_type": "markdown",
   "id": "bf774288",
   "metadata": {},
   "source": [
    "# Operações com Buckets no S3"
   ]
  },
  {
   "cell_type": "markdown",
   "id": "40d09d4f",
   "metadata": {},
   "source": [
    "Iniciando as etapas práticas de construção dos elementos propostos, em um primeiro momento, serão detalhados os passos para a criação de um (ou mais de um) bucket S3 pela AWS utilizando o console de gerenciamento. Posteriormente, um primeiro contato com o SDK `boto3` será fornecido como uma forma eficiente de automatizar, organizar e gerenciar recursos da AWS utilizando a linguagem Python."
   ]
  },
  {
   "cell_type": "markdown",
   "id": "c87e7969",
   "metadata": {},
   "source": [
    "## Via Console"
   ]
  },
  {
   "cell_type": "markdown",
   "id": "8dacfaf6",
   "metadata": {},
   "source": [
    "Conforme mencionado acima, as primeiras iterações com o serviço S3 serão obtidas a partir do console de gerenciamento da AWS. Nesse formato, a [página do serviço](https://console.aws.amazon.com/s3/home?region=sa-east-1) foi utilizada para a criação de um novo bucket denominado `nbaflow-console`. Nele, dois novos [diretórios](https://docs.aws.amazon.com/AmazonS3/latest/userguide/using-folders.html) foram criados para armazenar _dados_ (arquivos em geral) e _imagens_.\n",
    "\n",
    "> 📌**Nota**: de acordo com a documentação oficial, no S3, buckets e objetos são os recursos principais, sendo os objetos armazenados em buckets. Mesmo sem o mesmo significado dos sistemas operacionais, é possível criar \"diretórios\" nos buckets para fins organizacionais, facilitando assim as referências e o armazenamento de objetos. O conceito fundamental de diretórios no S3 é o de simplesmente agrupar objetos a partir de um prefixo adicionado à rota do objeto.\n",
    "\n",
    "A imagem abaixo traz o bucket `nbaflow-console` criado com os diretórios `data/` e `imgs/` associados:\n",
    "\n",
    "<div align=\"center\">\n",
    "    <br><img src=\"https://i.imgur.com/geU2QZE.png\" alt=\"s3_bucket_nbaflow-console\">\n",
    "</div>\n",
    "\n",
    "Na sequência, também utilizando as funcionalidades do console, foram realizados os uploads do arquivo `all_players_gamelog.csv` e das imagens png originalmente armazenadas no diretório `data/images/players` do repositório do projeto. A imagem abaixo traz um exemplo do diretório `imgs/` do bucket recém criado já com as imagens de jogadores armazenadas.\n",
    "\n",
    "<div align=\"center\">\n",
    "    <br><img src=\"https://i.imgur.com/0s9jFyP.png\" alt=\"s3_imgs\">\n",
    "</div>\n",
    "\n",
    "Dessa forma, em um processo altamente intuitivo, foi possível finalizar essa primeira etapa de criação de bucket a partir do console de gerenciamento da AWS. Além disso, o upload dos arquivos selecionados foram realizados dentro dos diretórios criados no bucket. A criação do bucket e o upload dos arquivos foram realizados seguindos todas as configurações padrão propostas no processo o que, em resumo, podem ser descritadas como:\n",
    "\n",
    "* Bucket criado sem acesso público\n",
    "* Bucket criado sem versionamento\n",
    "* Bucket sem encriptação dos dados\n",
    "* Acesso de leitura e escrita aos objetos está restrito ao owner do bucket\n",
    "\n",
    "Na próxima seção, os processos de criação, configuração e upload de objetos no bucket serão realizados a partir do SDK Python `boto3`."
   ]
  },
  {
   "cell_type": "markdown",
   "id": "a35042ec",
   "metadata": {},
   "source": [
    "## Via boto3"
   ]
  },
  {
   "cell_type": "markdown",
   "id": "744e5ef3",
   "metadata": {},
   "source": [
    "De acordo com a [página oficial de documentação](https://boto3.amazonaws.com/v1/documentation/api/latest/index.html), o SDK `boto3` pode ser resumido a:\n",
    "\n",
    "> _You use the AWS SDK for Python (Boto3) to create, configure, and manage AWS services, such as Amazon Elastic Compute Cloud (Amazon EC2) and Amazon Simple Storage Service (Amazon S3). The SDK provides an object-oriented API as well as low-level access to AWS services._\n",
    "\n",
    "Considerando a riqueza de detalhes e de exemplos fornecidos pela própria AWS, grande parte dos primeiros passos aqui documentados serão reproduções adaptadas da página oficial de documentação. Para tal, visando alinhar os propósitos deste notebook, é sugerido que o usuário consumidor do material aqui presente siga algumas instruções básicas de configuração propostas pela documentação do boto3 para que os códigos aqui escritos tenham a eficácia planejada.\n",
    "\n",
    "Assim, depois de um breve estudo no material oficial, a instalação do boto3 foi feita, dentro do ambiente virtual criado para o projeto NBAFLow, através do comando:\n",
    "\n",
    "    pip install boto3\n",
    "    \n",
    "Mesmo após a instalação, as primeiras tentativas de uso do SDK não foram bem sucedidas. Isto porque, de maneira direta, o boto3 necessita encontrar (ou ser devidamente configurado para isso) credenciais válidas do usuário para que as operações possam ser realizadas. Dessa forma, com a instalação do [AWS CLI](https://aws.amazon.com/pt/cli/) e a execução do comando `aws configure`, foi possível providenciar os insumos necessários para que o boto3 consiga autenticar o usuário dentro da utilização dos recursos na nuvem. Para detalhes adicionais, pode-se analisar a seção de [Configuração](https://boto3.amazonaws.com/v1/documentation/api/latest/guide/quickstart.html#configuration) da documentação oficial.\n",
    "\n",
    "Por fim, as linhas de código abaixo trazem a importação da biblioteca boto3 juntamente com a criação de um recurso \"s3\" utilizado para gerenciar e automatizar ações dentro deste serviço de armazenamento. Como validação, serão mostrados todos os buckets presentes na conta AWS configurada."
   ]
  },
  {
   "cell_type": "code",
   "execution_count": 45,
   "id": "779a370a",
   "metadata": {
    "ExecuteTime": {
     "end_time": "2021-08-29T22:38:07.151552Z",
     "start_time": "2021-08-29T22:38:05.720308Z"
    }
   },
   "outputs": [
    {
     "name": "stdout",
     "output_type": "stream",
     "text": [
      "nbaflow-boto3\n",
      "nbaflow-console\n",
      "nbaflow-files\n"
     ]
    }
   ],
   "source": [
    "# Importando biblioteca\n",
    "import boto3\n",
    "\n",
    "# Criando recurso e listando buckets\n",
    "s3 = boto3.resource('s3')\n",
    "for bucket in s3.buckets.all():\n",
    "    print(bucket.name)"
   ]
  },
  {
   "cell_type": "markdown",
   "id": "b45b14ab",
   "metadata": {},
   "source": [
    "De fato, com o código acima, foi possível verificar que existe apenas um bucket criado na conta configurada da AWS (o recém criado *nbaflow-console*). Ainda nessas primeiras interações com boto3 e buckets S3, o código abaixo é responsável por conectar a um bucket e ler um objeto diretamente na memória. Neste caso, será proposta a leitura de uma das imagens de jogadores da NBA utilizando uma `key` específica que contempla, como prefixo, o diretório criado manualmente no bucket para organização do armazenamento."
   ]
  },
  {
   "cell_type": "code",
   "execution_count": 46,
   "id": "1fe9f3fa",
   "metadata": {
    "ExecuteTime": {
     "end_time": "2021-08-29T22:38:07.721251Z",
     "start_time": "2021-08-29T22:38:07.268173Z"
    }
   },
   "outputs": [
    {
     "data": {
      "image/png": "[encoded data removed]",
      "text/plain": [
       "<PIL.PngImagePlugin.PngImageFile image mode=P size=260x190 at 0x21FB0BF0FA0>"
      ]
     },
     "execution_count": 46,
     "metadata": {},
     "output_type": "execute_result"
    }
   ],
   "source": [
    "from PIL import Image\n",
    "from io import BytesIO\n",
    "\n",
    "# Vinculando bucket alvo\n",
    "bucket = s3.Bucket('nbaflow-console')\n",
    "\n",
    "# Coletando objeto\n",
    "obj = bucket.Object(key='imgs/Damian Lillard.png')\n",
    "response = obj.get()\n",
    "file_stream = response['Body']\n",
    "Image.open(file_stream)"
   ]
  },
  {
   "cell_type": "code",
   "execution_count": 49,
   "id": "ad7f9400",
   "metadata": {
    "ExecuteTime": {
     "end_time": "2021-08-29T22:38:38.757625Z",
     "start_time": "2021-08-29T22:38:38.744630Z"
    }
   },
   "outputs": [
    {
     "data": {
      "text/plain": [
       "b''"
      ]
     },
     "execution_count": 49,
     "metadata": {},
     "output_type": "execute_result"
    }
   ],
   "source": [
    "file_stream.read()"
   ]
  },
  {
   "cell_type": "markdown",
   "id": "a5715036",
   "metadata": {
    "ExecuteTime": {
     "end_time": "2021-08-26T18:58:34.227503Z",
     "start_time": "2021-08-26T18:58:34.207528Z"
    }
   },
   "source": [
    "**_Referência:_** https://stackoverflow.com/questions/44043036/how-to-read-image-file-from-s3-bucket-directly-into-memory\n",
    "\n",
    "Até este ponto, já é possível mensurar o poder fornecido pelo SDK boto3 dentro das possibilidades de gerenciamento de recursos na AWS. Com ele, foi possível ler diretamente na memória um objeto armazenado manualmente em um bucket s3 criado diretamente pelo console. Considerando esta atuação, o bloco de código abaixo irá propor a criação de um **novo bucket** S3 em uma região específica para que, futuramente, este código possa ser encapsulado juntamente com outras funcionalidades de leitura e escrita de objetos dentro de buckets, tudo via boto3."
   ]
  },
  {
   "cell_type": "code",
   "execution_count": 3,
   "id": "9e609016",
   "metadata": {
    "ExecuteTime": {
     "end_time": "2021-08-28T01:49:50.994706Z",
     "start_time": "2021-08-28T01:49:50.306503Z"
    }
   },
   "outputs": [
    {
     "name": "stdout",
     "output_type": "stream",
     "text": [
      "Erro ao tentar deletar bucket nbaflow-boto3. Exception: An error occurred (BucketNotEmpty) when calling the DeleteBucket operation: The bucket you tried to delete is not empty\n",
      "Erro ao criar bucket. Exception: An error occurred (BucketAlreadyOwnedByYou) when calling the CreateBucket operation: Your previous request to create the named bucket succeeded and you already own it.\n",
      "\n",
      "nbaflow-boto3\n",
      "nbaflow-console\n",
      "nbaflow-files\n"
     ]
    }
   ],
   "source": [
    "# Definindo parâmetros\n",
    "REGION = 'sa-east-1'\n",
    "BUCKET_NAME = 'nbaflow-boto3'\n",
    "LOCATION = {'LocationConstraint': REGION}\n",
    "\n",
    "# Instanciando client\n",
    "s3_client = boto3.client('s3', region_name=REGION)\n",
    "\n",
    "# Deletando bucket\n",
    "try:\n",
    "    s3_client.delete_bucket(Bucket=BUCKET_NAME)\n",
    "except Exception as e:\n",
    "    print(f'Erro ao tentar deletar bucket {BUCKET_NAME}. Exception: {e}')\n",
    "\n",
    "# Criando um novo bucket\n",
    "try:\n",
    "    s3_client.create_bucket(Bucket=BUCKET_NAME,\n",
    "                            CreateBucketConfiguration=LOCATION)\n",
    "except Exception as e:\n",
    "    print(f'Erro ao criar bucket. Exception: {e}')\n",
    "    \n",
    "# Listando buckets criados\n",
    "print()\n",
    "for bucket in s3.buckets.all():\n",
    "    print(bucket.name)"
   ]
  },
  {
   "cell_type": "markdown",
   "id": "be8530b6",
   "metadata": {
    "ExecuteTime": {
     "end_time": "2021-08-26T18:56:54.911104Z",
     "start_time": "2021-08-26T18:56:54.899168Z"
    }
   },
   "source": [
    "* **_Referência:_** https://boto3.amazonaws.com/v1/documentation/api/latest/guide/s3-example-creating-buckets.html\n",
    "\n",
    "Com o resultado acima, percebe-se agora a presença de dois buckets listados na conta AWS. Ao atualizar a página no console de gerenciamento, uma nova linha na lista de buckets que realmente a criação foi realizada com sucesso. Entretanto, observando os detalhes relacionados a acesso, mesmo que tenhamos restringido a criação do bucket a uma região em específico da maneira referenciada na documentação, os objetos do novo bucket `nbaflow-boto3` criado podem ser acessados publicamente o que, de fato, pode não ser o desejado pra grande parte das aplicações.\n",
    "\n",
    "<div align=\"center\">\n",
    "    <br><img src=\"https://i.imgur.com/jMzMEeZ.png\" alt=\"s3_public_bucket\">\n",
    "</div>\n",
    "\n",
    "Assim, para manter um bucket restrito através do boto3, é possível definir um dicionário de configurações com algumas chaves específicas e executar o método `put_public_access_block()` do objeto `s3_client`. Adicionalmente, na referência oficial da [documentação do client S3](https://boto3.amazonaws.com/v1/documentation/api/1.9.42/reference/services/s3.html#S3.Client.create_bucket), pode-se procurar pelo método `create_bucket()` e observar alguns detalhes adicionais sobre como o processo de criação pode ser melhor gerenciado."
   ]
  },
  {
   "cell_type": "code",
   "execution_count": 4,
   "id": "569b70a1",
   "metadata": {
    "ExecuteTime": {
     "end_time": "2021-08-28T01:49:51.343184Z",
     "start_time": "2021-08-28T01:49:50.998689Z"
    }
   },
   "outputs": [
    {
     "data": {
      "text/plain": [
       "{'ResponseMetadata': {'RequestId': 'DB28ZTKFAJG7ETKT',\n",
       "  'HostId': 'SWi0tLuoOwukWj+L72ZApRXlEG2Wvlsd34ErodgcqQb7AlftkvSdtxW9KTAeEJDNWoBzXJkz25Y=',\n",
       "  'HTTPStatusCode': 200,\n",
       "  'HTTPHeaders': {'x-amz-id-2': 'SWi0tLuoOwukWj+L72ZApRXlEG2Wvlsd34ErodgcqQb7AlftkvSdtxW9KTAeEJDNWoBzXJkz25Y=',\n",
       "   'x-amz-request-id': 'DB28ZTKFAJG7ETKT',\n",
       "   'date': 'Sat, 28 Aug 2021 01:49:52 GMT',\n",
       "   'server': 'AmazonS3',\n",
       "   'content-length': '0'},\n",
       "  'RetryAttempts': 0}}"
      ]
     },
     "execution_count": 4,
     "metadata": {},
     "output_type": "execute_result"
    }
   ],
   "source": [
    "# Definindo configurações\n",
    "BLOCK_PUBLIC_CONFIG = {\n",
    "    'BlockPublicAcls': True,\n",
    "    'IgnorePublicAcls': True,\n",
    "    'BlockPublicPolicy': True,\n",
    "    'RestrictPublicBuckets': True\n",
    "}\n",
    "\n",
    "# Modificando acesso do bucket\n",
    "response_public = s3_client.put_public_access_block(Bucket=BUCKET_NAME,\n",
    "                                                    PublicAccessBlockConfiguration=BLOCK_PUBLIC_CONFIG)\n",
    "response_public"
   ]
  },
  {
   "cell_type": "markdown",
   "id": "93a8809f",
   "metadata": {},
   "source": [
    "Após a execução do bloco de código acima, foi possível verificar, no console, o efeito da alteração das permissões no bucket `nbaflow-boto3`.\n",
    "\n",
    "<div align=\"center\">\n",
    "    <br><img src=\"https://i.imgur.com/c4VYbgH.png\" alt=\"s3_notpublic_bucket\">\n",
    "</div>"
   ]
  },
  {
   "cell_type": "markdown",
   "id": "a4abb715",
   "metadata": {},
   "source": [
    "Assim como a criação e leitura de objetos em buckets, é possível realizar a ingestão de novos objetos a partir da definição de chaves específicas que, eventualmente, podem conter informações a respeito de _diretórios_ de armazenamento. Como informado anteriormente, os diretórios em buckets do S3 funcionam, em essência, como organizadores de objetos e, na prática, seu impacto se reflete como um prefixo das _chaves_ relacionadas aos objetos. Dessa forma, ao definir uma chave de objeto com uma referência semelhante a um caminho de diretório, o mesmo será automaticamente armazenado dentro desta estrutura.\n",
    "\n",
    "Para ilustrar este conceito, será proposta a leitura, em memória, de um arquivo csv salvo localmente para que, posteriormente, seja aplicado um processo de ingestão dos dados no bucket S3 recém criado."
   ]
  },
  {
   "cell_type": "code",
   "execution_count": 5,
   "id": "9ef48542",
   "metadata": {
    "ExecuteTime": {
     "end_time": "2021-08-28T01:49:51.359168Z",
     "start_time": "2021-08-28T01:49:51.346174Z"
    }
   },
   "outputs": [
    {
     "data": {
      "text/plain": [
       "'nbaflow-boto3'"
      ]
     },
     "execution_count": 5,
     "metadata": {},
     "output_type": "execute_result"
    }
   ],
   "source": [
    "BUCKET_NAME"
   ]
  },
  {
   "cell_type": "code",
   "execution_count": 6,
   "id": "8a0411ee",
   "metadata": {
    "ExecuteTime": {
     "end_time": "2021-08-28T01:50:03.375755Z",
     "start_time": "2021-08-28T01:49:51.362131Z"
    }
   },
   "outputs": [
    {
     "data": {
      "text/plain": [
       "{'ResponseMetadata': {'RequestId': 'DB2B2C164EXC5E7V',\n",
       "  'HostId': 'JHbmPSyLGfEjpcTHa6ZFbOtgCMC1owIf1ISDkvgq290DUc4HZdqvfgdw3n5lWkAQN6oC1oUAFcg=',\n",
       "  'HTTPStatusCode': 200,\n",
       "  'HTTPHeaders': {'x-amz-id-2': 'JHbmPSyLGfEjpcTHa6ZFbOtgCMC1owIf1ISDkvgq290DUc4HZdqvfgdw3n5lWkAQN6oC1oUAFcg=',\n",
       "   'x-amz-request-id': 'DB2B2C164EXC5E7V',\n",
       "   'date': 'Sat, 28 Aug 2021 01:49:52 GMT',\n",
       "   'etag': '\"412281cfcdc50b2bcac43630b4d0099a\"',\n",
       "   'server': 'AmazonS3',\n",
       "   'content-length': '0'},\n",
       "  'RetryAttempts': 0},\n",
       " 'ETag': '\"412281cfcdc50b2bcac43630b4d0099a\"'}"
      ]
     },
     "execution_count": 6,
     "metadata": {},
     "output_type": "execute_result"
    }
   ],
   "source": [
    "# Definindo variáveis\n",
    "FILEPATH = r'C:\\Users\\thipa\\workspaces\\nbaflow\\dev\\data\\all_players_gamelog.csv'\n",
    "KEY = 'data/all_players_gamelog.csv'\n",
    "with open(FILEPATH, 'rb') as f:\n",
    "    file = f.read()\n",
    "    \n",
    "# Coletando recurso e realizando upload\n",
    "s3_client.put_object(Bucket=BUCKET_NAME, Body=file, Key=KEY)"
   ]
  },
  {
   "cell_type": "code",
   "execution_count": 7,
   "id": "32b56784",
   "metadata": {
    "ExecuteTime": {
     "end_time": "2021-08-28T01:50:15.079373Z",
     "start_time": "2021-08-28T01:50:03.377750Z"
    }
   },
   "outputs": [],
   "source": [
    "# Testando outra forma de uploag\n",
    "KEY2 = 'data/all_players_gamelog_2.csv'\n",
    "s3_client.upload_file(Filename=FILEPATH, Bucket=BUCKET_NAME, Key=KEY2)"
   ]
  },
  {
   "cell_type": "markdown",
   "id": "5587c44a",
   "metadata": {},
   "source": [
    "https://www.stackvidhya.com/write-a-file-to-s3-using-boto3/\n",
    "\n",
    "https://stackoverflow.com/questions/40336918/how-to-write-a-file-or-data-to-an-s3-object-using-boto3"
   ]
  },
  {
   "cell_type": "code",
   "execution_count": 8,
   "id": "44d75cde",
   "metadata": {
    "ExecuteTime": {
     "end_time": "2021-08-28T01:50:15.095134Z",
     "start_time": "2021-08-28T01:50:15.081175Z"
    }
   },
   "outputs": [
    {
     "ename": "SyntaxError",
     "evalue": "unexpected EOF while parsing (Temp/ipykernel_8720/1872490330.py, line 2)",
     "output_type": "error",
     "traceback": [
      "\u001b[1;36m  File \u001b[1;32m\"C:\\Users\\thipa\\AppData\\Local\\Temp/ipykernel_8720/1872490330.py\"\u001b[1;36m, line \u001b[1;32m2\u001b[0m\n\u001b[1;33m    \u001b[0m\n\u001b[1;37m    ^\u001b[0m\n\u001b[1;31mSyntaxError\u001b[0m\u001b[1;31m:\u001b[0m unexpected EOF while parsing\n"
     ]
    }
   ],
   "source": [
    "def upload_object():\n",
    "    "
   ]
  },
  {
   "cell_type": "markdown",
   "id": "4aa49685",
   "metadata": {},
   "source": [
    "Nos exemplos acima, foram utilizadas dois métodos distintos para o upload de objetos em um bucket S3. No primeiro exemplo, o método `put_object()` recebe um arquivo em formato binário como argumento Body do método, permitindo assim com que arquivos já lidos em memória sejam transferidos pro bucket. No segundo caso, o método `upload_file()` recebe, de forma direta, um caminho do arquivo salvo localmente na máquina para que a ingestão seja realizada sem a leitura explícita.\n",
    "\n",
    "**_Referências:_**\n",
    "* https://boto3.amazonaws.com/v1/documentation/api/latest/guide/s3-uploading-files.html\n",
    "* https://boto3.amazonaws.com/v1/documentation/api/1.9.42/reference/services/s3.html#S3.Client.upload_file\n",
    "* https://stackoverflow.com/questions/1939743/amazon-s3-boto-how-to-create-a-folder\n",
    "* https://intellipaat.com/community/41744/using-boto3-how-can-i-create-a-folder-inside-s3"
   ]
  },
  {
   "cell_type": "markdown",
   "id": "a80736c3",
   "metadata": {},
   "source": [
    "# NBAFlow + boto3"
   ]
  },
  {
   "cell_type": "markdown",
   "id": "f59c3ebe",
   "metadata": {},
   "source": [
    "Após uma jornada inicial em algumas operações básicas com S3 utilizando o boto3, nesta seção será proposta a aplicação de alguns recursos já construídos para o projeto NBAFlow para que, de forma adaptada, o SDK boto3 possa ser utilizado como uma forma adicional de prover a escrita e leitura de objetos direto no S3. Para validar, de fato, este tipo de abordagem, será desenvolvido um bloco de código capaz de navegar por todas as imagens de jogadores salvas localmente em formato png e realizar ingestões individuais dos arquivos diretamente em um bucket s3."
   ]
  },
  {
   "cell_type": "code",
   "execution_count": null,
   "id": "48df9687",
   "metadata": {
    "ExecuteTime": {
     "end_time": "2021-08-28T01:50:15.125054Z",
     "start_time": "2021-08-28T01:50:15.125054Z"
    }
   },
   "outputs": [],
   "source": [
    "# Importando bibliotecas\n",
    "import boto3\n",
    "from botocore.exceptions import ClientError, EndpointConnectionError\n",
    "import os\n",
    "import logging"
   ]
  },
  {
   "cell_type": "code",
   "execution_count": null,
   "id": "ee806f6f",
   "metadata": {
    "ExecuteTime": {
     "end_time": "2021-08-28T01:50:15.130041Z",
     "start_time": "2021-08-28T01:50:15.130041Z"
    },
    "code_folding": [
     1
    ]
   },
   "outputs": [],
   "source": [
    "# Definindo função para gerenciamento de logs\n",
    "def log_config(logger, level=logging.DEBUG, \n",
    "               log_format='%(levelname)s;%(asctime)s;%(filename)s;%(module)s;%(lineno)d;%(message)s',\n",
    "               log_filepath=os.path.join(os.getcwd(), 'exec_log/execution_log.log'),\n",
    "               flag_file_handler=False, flag_stream_handler=True, filemode='a'):\n",
    "    \"\"\"\n",
    "    Função que recebe um objeto logging e aplica configurações básicas ao mesmo\n",
    "    \n",
    "    Parâmetros\n",
    "    ----------\n",
    "    :param logger: objeto logger criado no escopo do módulo [type: logging.getLogger()]\n",
    "    :param level: level do objeto logger criado [type: level, default=logging.DEBUG]\n",
    "    :param log_format: formato do log a ser armazenado [type: string]\n",
    "    :param log_filepath: caminho onde o arquivo .log será armazenado \n",
    "        [type: string, default='exec_log/execution_log.log']\n",
    "    :param flag_file_handler: define se será criado um arquivo de armazenamento de log\n",
    "        [type: bool, default=False]\n",
    "    :param flag_stream_handler: define se as mensagens de log serão mostradas na tela\n",
    "        [type: bool, default=True]\n",
    "    :param filemode: tipo de escrita no arquivo de log [type: string, default='a' (append)]\n",
    "    \n",
    "    Retorno\n",
    "    -------\n",
    "    :return logger: objeto logger pré-configurado\n",
    "    \"\"\"\n",
    "\n",
    "    # Setting level for the logger object\n",
    "    logger.setLevel(level)\n",
    "\n",
    "    # Creating a formatter\n",
    "    formatter = logging.Formatter(log_format, datefmt='%Y-%m-%d %H:%M:%S')\n",
    "\n",
    "    # Creating handlers\n",
    "    if flag_file_handler:\n",
    "        log_path = '/'.join(log_filepath.split('/')[:-1])\n",
    "        if not isdir(log_path):\n",
    "            makedirs(log_path)\n",
    "\n",
    "        # Adding file_handler\n",
    "        file_handler = logging.FileHandler(log_filepath, mode=filemode, encoding='utf-8')\n",
    "        file_handler.setFormatter(formatter)\n",
    "        logger.addHandler(file_handler)\n",
    "\n",
    "    if flag_stream_handler:\n",
    "        # Adding stream_handler\n",
    "        stream_handler = logging.StreamHandler()\n",
    "        stream_handler.setFormatter(formatter)    \n",
    "        logger.addHandler(stream_handler)\n",
    "\n",
    "    return logger\n",
    "\n",
    "# Instanciando e configurando objeto de log\n",
    "logger = logging.getLogger('notebook')\n",
    "logger = log_config(logger)"
   ]
  },
  {
   "cell_type": "code",
   "execution_count": null,
   "id": "d276cfee",
   "metadata": {
    "ExecuteTime": {
     "end_time": "2021-08-28T01:50:15.135027Z",
     "start_time": "2021-08-28T01:50:15.135027Z"
    }
   },
   "outputs": [],
   "source": [
    "# Definindo variáveis do ambiente S3\n",
    "REGION = 'sa-east-1'\n",
    "BUCKET_NAME = 'nbaflow-files'\n",
    "IMGS_FOLDER = 'imgs/'\n",
    "DATA_FOLDER = 'data/'\n",
    "\n",
    "# Definindo variáveis de configuração do bucket\n",
    "LOCATION = {'LocationConstraint': REGION}\n",
    "BLOCK_PUBLIC = True\n",
    "BLOCK_PUBLIC_CONFIG = {\n",
    "    'BlockPublicAcls': True,\n",
    "    'IgnorePublicAcls': True,\n",
    "    'BlockPublicPolicy': True,\n",
    "    'RestrictPublicBuckets': True\n",
    "}\n",
    "\n",
    "# Definindo variáveis de repositório local\n",
    "DATA_PATH = r'C:/Users/thipa/workspaces/nbaflow/data'\n",
    "IMGS_PATH = os.path.join(DATA_PATH, 'images/players')\n",
    "\n",
    "# Instanciando client e resource do S3\n",
    "try:\n",
    "    s3_client = boto3.client('s3', region_name=REGION)\n",
    "    s3 = boto3.resource('s3', region_name=REGION)\n",
    "except Exception as e:\n",
    "    logger.error(f'Erro ao instanciar o client ou o recurso S3. Exception: {e}')\n",
    "\n",
    "# Gerenciando criação de um novo bucket\n",
    "try:\n",
    "    # Listando buckets já existentes\n",
    "    buckets = [bucket.name for bucket in s3.buckets.all()]\n",
    "    if BUCKET_NAME not in buckets:\n",
    "        s3.create_bucket(Bucket=BUCKET_NAME,\n",
    "                         ACL='private',\n",
    "                         CreateBucketConfiguration=LOCATION)\n",
    "\n",
    "        # Definindo acesso público restrito\n",
    "        if BLOCK_PUBLIC:\n",
    "            response = s3_client.put_public_access_block(Bucket=BUCKET_NAME,\n",
    "                                                         PublicAccessBlockConfiguration=BLOCK_PUBLIC_CONFIG)\n",
    "        logger.info(f'Bucket {BUCKET_NAME} criado com sucesso')\n",
    "    else: \n",
    "        # Bucket já existente\n",
    "        logger.warning(f'Bucket {BUCKET_NAME} já existente. A criação de um novo bucket não será realizada.')\n",
    "\n",
    "except EndpointConnectionError as edperror:\n",
    "    logger.error(f'Erro de conexão ao endpoint. Verificar região fornecida na instância do recurso ou do client. Exception: {edperror}')\n"
   ]
  },
  {
   "cell_type": "code",
   "execution_count": null,
   "id": "5e7de2ad",
   "metadata": {
    "ExecuteTime": {
     "end_time": "2021-08-28T01:50:15.139017Z",
     "start_time": "2021-08-28T01:50:15.139017Z"
    },
    "code_folding": [
     1
    ]
   },
   "outputs": [],
   "source": [
    "# Definindo função encapsulada para a criação de novos buckets na AWS\n",
    "def create_bucket(bucket_name, region, acl='private', **kwargs):\n",
    "    \"\"\"\n",
    "    Função criada para consolidar os principais elementos de\n",
    "    criação de buckets s3 através do SDK boto3. O código aqui\n",
    "    encapsulado visa propor um detalhamento mais claro sobre\n",
    "    as etapas mais comuns de criação de bucket, providenciando\n",
    "    ao usuário uma maior abstração nas configurações mais\n",
    "    básicas dentro deste universo. De maneira geral, esta\n",
    "    função instancia um recurso s3 via boto3 e utiliza o método\n",
    "    create_bucket() para consolidar as operações de criação\n",
    "    de buckets.\n",
    "    \n",
    "    Para detalhes adicionais ou operações mais avançadas\n",
    "    relacionadas à criação de buckets, verificar a documentação\n",
    "    oficial do boto3 na AWS.\n",
    "    \n",
    "    Parâmetros\n",
    "    ----------\n",
    "    :param bucket_name:\n",
    "        Referência do bucket a ser criado dentro da conta\n",
    "        AWS configurada para a utilização do boto3. O nome\n",
    "        do bucket deve seguir as diretrizes propostas pela\n",
    "        própria AWS dentro das boas práticas e restrições\n",
    "        estabelecidas.\n",
    "        [type: string]\n",
    "        \n",
    "    :param region:\n",
    "        Região a qual o bucket será criado. Este argumento\n",
    "        também é utilizado para a criação do dicionário\n",
    "        de configuração de localização do bucket a ser \n",
    "        passado também como parâmetro do método\n",
    "        create_bucket() do recurso s3 instanciado.\n",
    "        \n",
    "    :param acl:\n",
    "        Parâmetro que define o controle de acesso definido\n",
    "        para o bucket (Access Control List). Neste contexto\n",
    "        o argumento acl propõe a utilização de um bloco\n",
    "        consolidado de controle predefinido dentro das \n",
    "        diretrizes da AWS. Através da documentação de \n",
    "        referência do SDK, é possível visualizar as opções \n",
    "        possíveis enblocadas para a definição de controle \n",
    "        de acesso.\n",
    "        [type: string, default='private']\n",
    "        \n",
    "    Argumentos Adicionais\n",
    "    ---------------------\n",
    "    :kwarg block_public:\n",
    "        Flag que define a modificação da política de acesso\n",
    "        ao bucket criado. Ao ser configurado como True, é\n",
    "        instanciado um client s3 via boto3 e executado o\n",
    "        método put_public_access_block() para bloqueio de\n",
    "        todo acesso público proveniente ACLs ou configurações\n",
    "        adicionais do bucket. A definição exata do bloqueio\n",
    "        de acesso público é definida a partir do argumento\n",
    "        adicional block_public_config.\n",
    "        [type: bool, default=True]\n",
    "    \n",
    "    :kwarg block_public_config:\n",
    "        Dicionário de configuração com chaves específicas \n",
    "        de definição das restrições a serem aplicadas no\n",
    "        método put_public_acess_block() do client s3\n",
    "        instanciado.\n",
    "        [type: dict, default={\n",
    "                        'BlockPublicAcls': True,\n",
    "                        'IgnorePublicAcls': True,\n",
    "                        'BlockPublicPolicy': True,\n",
    "                        'RestrictPublicBuckets': True\n",
    "                    }]\n",
    "    \"\"\"\n",
    "    \n",
    "    # Instanciando recurso S3 e listando buckets existentes\n",
    "    s3 = boto3.resource('s3', region_name=region)\n",
    "    try:\n",
    "        buckets = [bucket.name for bucket in s3.buckets.all()]\n",
    "    except EndpointConnectionError as ece:\n",
    "        logger.error(f'Erro de conexão ao endpoint. Verificar região {region}. Exception: {ece}')\n",
    "        return None\n",
    "    \n",
    "    # Validando existência do bucket\n",
    "    if bucket_name in buckets:\n",
    "        logger.warning(f'Bucket {bucket_name} já existente. A criação de um novo bucket não será realizada.')\n",
    "        return None\n",
    "    else:\n",
    "        # Criando um novo bucket\n",
    "        try:\n",
    "            location = kwargs['location'] if 'location' in kwargs else {'LocationConstraint': region}\n",
    "            s3.create_bucket(\n",
    "                Bucket=bucket_name, \n",
    "                ACL=acl,\n",
    "                CreateBucketConfiguration=location\n",
    "            )\n",
    "            logger.info(f'Bucket {bucket_name} criado com sucesso.')\n",
    "        except ClientError as ce:\n",
    "            logger.error(f'Erro durante a criação do bucket. Exception: {ce}')\n",
    "            \n",
    "    # Validando bloqueio de acesso público ao bucket\n",
    "    block_public = kwargs['block_public'] if 'block_public' in kwargs else True\n",
    "    if block_public:\n",
    "        config = {\n",
    "            'BlockPublicAcls': True,\n",
    "            'IgnorePublicAcls': True,\n",
    "            'BlockPublicPolicy': True,\n",
    "            'RestrictPublicBuckets': True\n",
    "        }\n",
    "        block_public_config = kwargs['block_public_config'] if 'block_public_config' in kwargs else config\n",
    "        \n",
    "        # Instanciando sessão e configurando bloqueio de acesso público\n",
    "        try:\n",
    "            s3_client = boto3.client('s3', region_name=region)\n",
    "            response = s3_client.put_public_access_block(Bucket=bucket_name,\n",
    "                                                         PublicAccessBlockConfiguration=block_public_config)\n",
    "        except Exception as e:\n",
    "            logger.warning(f'Erro ao instanciar client e bloquear acesso público ao bucket {bucket_name}. Exception: {e}')\n",
    "            "
   ]
  },
  {
   "cell_type": "code",
   "execution_count": null,
   "id": "33b69440",
   "metadata": {
    "ExecuteTime": {
     "end_time": "2021-08-28T01:50:15.141012Z",
     "start_time": "2021-08-28T01:50:15.141012Z"
    }
   },
   "outputs": [],
   "source": [
    "# Definindo variáveis do ambiente S3\n",
    "REGION = 'sa-east-1'\n",
    "BUCKET_NAME = 'nbaflow-files'\n",
    "IMGS_FOLDER = 'imgs/'\n",
    "DATA_FOLDER = 'data/'\n",
    "\n",
    "# Definindo variáveis de configuração do bucket\n",
    "LOCATION = {'LocationConstraint': REGION}\n",
    "ACL = 'private'\n",
    "BLOCK_PUBLIC = True\n",
    "BLOCK_PUBLIC_CONFIG = {\n",
    "    'BlockPublicAcls': True,\n",
    "    'IgnorePublicAcls': True,\n",
    "    'BlockPublicPolicy': True,\n",
    "    'RestrictPublicBuckets': True\n",
    "}\n",
    "\n",
    "# Definindo variáveis de repositório local\n",
    "DATA_PATH = r'C:/Users/thipa/workspaces/nbaflow/data'\n",
    "IMGS_PATH = os.path.join(DATA_PATH, 'images/players')"
   ]
  },
  {
   "cell_type": "code",
   "execution_count": null,
   "id": "b2496a57",
   "metadata": {
    "ExecuteTime": {
     "end_time": "2021-08-28T01:50:15.151982Z",
     "start_time": "2021-08-28T01:50:15.151982Z"
    }
   },
   "outputs": [],
   "source": [
    "# Deletando bucket (opcional)\n",
    "s3_client = boto3.client('s3', region_name=REGION)\n",
    "s3_client.delete_bucket(Bucket=BUCKET_NAME)"
   ]
  },
  {
   "cell_type": "code",
   "execution_count": null,
   "id": "9245596c",
   "metadata": {
    "ExecuteTime": {
     "end_time": "2021-08-28T01:50:15.157968Z",
     "start_time": "2021-08-28T01:50:15.157968Z"
    }
   },
   "outputs": [],
   "source": [
    "# Criando novo bucket\n",
    "create_bucket(bucket_name=BUCKET_NAME, region=REGION, acl=ACL, \n",
    "              block_public=BLOCK_PUBLIC, block_public_config=BLOCK_PUBLIC_CONFIG)"
   ]
  },
  {
   "cell_type": "code",
   "execution_count": null,
   "id": "a7ef145e",
   "metadata": {
    "ExecuteTime": {
     "end_time": "2021-08-28T01:50:15.163951Z",
     "start_time": "2021-08-28T01:50:15.162957Z"
    }
   },
   "outputs": [],
   "source": [
    "s3 = boto3.resource('s3')\n",
    "bucket = s3.Bucket('nbaflow-boto3')\n",
    "bucket.delete()"
   ]
  },
  {
   "cell_type": "code",
   "execution_count": null,
   "id": "94605f26",
   "metadata": {
    "ExecuteTime": {
     "end_time": "2021-08-28T01:50:15.166943Z",
     "start_time": "2021-08-28T01:50:15.166943Z"
    }
   },
   "outputs": [],
   "source": [
    "bucket.objects.all().delete()"
   ]
  },
  {
   "cell_type": "code",
   "execution_count": null,
   "id": "6c7a412c",
   "metadata": {
    "ExecuteTime": {
     "end_time": "2021-08-28T01:50:15.169955Z",
     "start_time": "2021-08-28T01:50:15.168938Z"
    }
   },
   "outputs": [],
   "source": [
    "bucket_objects = [obj for obj in bucket.objects.all()]\n",
    "bucket_objects[0].e_tag"
   ]
  },
  {
   "cell_type": "code",
   "execution_count": null,
   "id": "8125967b",
   "metadata": {
    "ExecuteTime": {
     "end_time": "2021-08-28T01:50:15.171930Z",
     "start_time": "2021-08-28T01:50:15.171930Z"
    }
   },
   "outputs": [],
   "source": [
    "from botocore.errorfactory import No"
   ]
  },
  {
   "cell_type": "code",
   "execution_count": null,
   "id": "e89af313",
   "metadata": {
    "ExecuteTime": {
     "end_time": "2021-08-28T01:50:15.173930Z",
     "start_time": "2021-08-28T01:50:15.173930Z"
    }
   },
   "outputs": [],
   "source": [
    "[e for e in dir(s3.exceptions) if e.endswith('Exception')]"
   ]
  },
  {
   "cell_type": "code",
   "execution_count": null,
   "id": "0d286e63",
   "metadata": {
    "ExecuteTime": {
     "end_time": "2021-08-28T01:50:15.175920Z",
     "start_time": "2021-08-28T01:50:15.175920Z"
    }
   },
   "outputs": [],
   "source": [
    "s3_client.exceptions.BucketNotEmpty"
   ]
  },
  {
   "cell_type": "code",
   "execution_count": null,
   "id": "df6733fa",
   "metadata": {
    "ExecuteTime": {
     "end_time": "2021-08-28T01:50:15.177913Z",
     "start_time": "2021-08-28T01:50:15.177913Z"
    }
   },
   "outputs": [],
   "source": [
    "boto3.client('s3').exceptions.NoSuchBucket"
   ]
  },
  {
   "cell_type": "code",
   "execution_count": null,
   "id": "7b7dce60",
   "metadata": {
    "ExecuteTime": {
     "end_time": "2021-08-28T01:50:15.180906Z",
     "start_time": "2021-08-28T01:50:15.180906Z"
    }
   },
   "outputs": [],
   "source": [
    "boto3.client('s3').exceptions.BucketNotEmpty"
   ]
  },
  {
   "cell_type": "code",
   "execution_count": null,
   "id": "3c6cb7d1",
   "metadata": {
    "ExecuteTime": {
     "end_time": "2021-08-28T01:50:15.184895Z",
     "start_time": "2021-08-28T01:50:15.184895Z"
    }
   },
   "outputs": [],
   "source": [
    "DATA_PATH = r'C:/Users/thipa/workspaces/nbaflow/dev/data/'\n",
    "import os\n",
    "print(os.listdir(DATA_PATH))"
   ]
  },
  {
   "cell_type": "code",
   "execution_count": null,
   "id": "3546634d",
   "metadata": {
    "ExecuteTime": {
     "end_time": "2021-08-28T01:50:15.188898Z",
     "start_time": "2021-08-28T01:50:15.188898Z"
    }
   },
   "outputs": [],
   "source": [
    "for path, dirs, files in os.walk(DATA_PATH):\n",
    "    for d in dirs:\n",
    "        print(d)\n",
    "    \"\"\"for name in files:\n",
    "        filepath = os.path.join(path, name)\n",
    "        print(name)\n",
    "        #print(os.path.basename(filepath))\"\"\""
   ]
  },
  {
   "cell_type": "code",
   "execution_count": null,
   "id": "3a0be15c",
   "metadata": {
    "ExecuteTime": {
     "end_time": "2021-08-28T01:50:15.194869Z",
     "start_time": "2021-08-28T01:50:15.194869Z"
    }
   },
   "outputs": [],
   "source": [
    "path, dirs, files = os.walk(DATA_PATH)"
   ]
  },
  {
   "cell_type": "code",
   "execution_count": null,
   "id": "789ca844",
   "metadata": {
    "ExecuteTime": {
     "end_time": "2021-08-28T01:50:15.197861Z",
     "start_time": "2021-08-28T01:50:15.197861Z"
    }
   },
   "outputs": [],
   "source": [
    "len([name for _, _, files in os.walk(DATA_PATH) for name in files])"
   ]
  },
  {
   "cell_type": "code",
   "execution_count": null,
   "id": "c799392e",
   "metadata": {
    "ExecuteTime": {
     "end_time": "2021-08-28T01:50:15.204852Z",
     "start_time": "2021-08-28T01:50:15.204852Z"
    }
   },
   "outputs": [],
   "source": [
    "for path, dirs, files in os.walk(DATA_PATH):\n",
    "    for name in files:\n",
    "        filepath = os.path.join(path, name)\n",
    "        key = filepath.replace(DATA_PATH, 'root/')\n",
    "        print(key)"
   ]
  },
  {
   "cell_type": "code",
   "execution_count": null,
   "id": "464f2761",
   "metadata": {
    "ExecuteTime": {
     "end_time": "2021-08-28T01:50:15.207833Z",
     "start_time": "2021-08-28T01:50:15.207833Z"
    }
   },
   "outputs": [],
   "source": [
    "os.path.basename(DATA_PATH)"
   ]
  },
  {
   "cell_type": "code",
   "execution_count": null,
   "id": "8f7a469a",
   "metadata": {
    "ExecuteTime": {
     "end_time": "2021-08-28T01:50:15.209828Z",
     "start_time": "2021-08-28T01:50:15.209828Z"
    }
   },
   "outputs": [],
   "source": [
    "os.path.sep"
   ]
  },
  {
   "cell_type": "code",
   "execution_count": null,
   "id": "dd2ee36c",
   "metadata": {
    "ExecuteTime": {
     "end_time": "2021-08-28T01:50:15.210825Z",
     "start_time": "2021-08-28T01:50:15.210825Z"
    }
   },
   "outputs": [],
   "source": [
    "DATA_PATH"
   ]
  },
  {
   "cell_type": "code",
   "execution_count": null,
   "id": "53986ddb",
   "metadata": {
    "ExecuteTime": {
     "end_time": "2021-08-28T01:50:15.212819Z",
     "start_time": "2021-08-28T01:50:15.212819Z"
    }
   },
   "outputs": [],
   "source": [
    "DATA_PATH.replace(os.path.sep, '')"
   ]
  },
  {
   "cell_type": "markdown",
   "id": "1ce64039",
   "metadata": {},
   "source": [
    "https://towardsdatascience.com/reading-and-writing-files-from-to-amazon-s3-with-pandas-ccaf90bfe86c"
   ]
  },
  {
   "cell_type": "code",
   "execution_count": null,
   "id": "aa6a2177",
   "metadata": {
    "ExecuteTime": {
     "end_time": "2021-08-28T01:50:15.215812Z",
     "start_time": "2021-08-28T01:50:15.215812Z"
    }
   },
   "outputs": [],
   "source": [
    "from io import BytesIO, StringIO\n",
    "import pandas as pd\n",
    "\n",
    "bucket = 'nbaflow-files'\n",
    "obj = s3_client.get_object(Bucket=bucket, Key='imgs/Damian Lillard.png')\n",
    "data_stream = BytesIO(obj['Body'].read())\n",
    "pd.read_csv(data_stream)"
   ]
  },
  {
   "cell_type": "code",
   "execution_count": null,
   "id": "05d1826e",
   "metadata": {
    "ExecuteTime": {
     "end_time": "2021-08-28T01:50:15.216809Z",
     "start_time": "2021-08-28T01:50:15.216809Z"
    }
   },
   "outputs": [],
   "source": [
    "s3_client.exceptions.NoSuchKey"
   ]
  },
  {
   "cell_type": "code",
   "execution_count": null,
   "id": "eabb9227",
   "metadata": {
    "ExecuteTime": {
     "end_time": "2021-08-28T01:50:15.218804Z",
     "start_time": "2021-08-28T01:50:15.218804Z"
    }
   },
   "outputs": [],
   "source": [
    "import os\n",
    "local_dir = os.path.join(os.getcwd(), 's3_temp')\n",
    "\n",
    "paginator = s3_client.get_paginator('list_objects')\n",
    "for result in paginator.paginate(Bucket='nbaflow-files', Delimiter='/', Prefix=''):\n",
    "    prefixes = result.get('CommonPrefixes')\n",
    "    if prefixes is not None:\n",
    "        for subdir in result.get('CommonPrefixes'):\n",
    "            print(subdir.get('Prefix'))\n",
    "            \n",
    "    contents = result.get('Contents', [])\n",
    "    for file in contents:\n",
    "        obj_key = file.get('Key')\n",
    "        local_path = os.path.join(local_dir, obj_key)\n",
    "        if not os.path.exists(os.path.dirname(local_path)):\n",
    "            os.makedirs(os.path.dirname(local_path))\n",
    "        s3_client.download_file('nbaflow-files', obj_key, local_path)"
   ]
  },
  {
   "cell_type": "code",
   "execution_count": null,
   "id": "ffba3fa2",
   "metadata": {
    "ExecuteTime": {
     "end_time": "2021-08-28T01:50:15.220814Z",
     "start_time": "2021-08-28T01:50:15.220814Z"
    }
   },
   "outputs": [],
   "source": [
    "import os\n",
    "local_dir = os.path.join(os.getcwd(), 's3_temp')\n",
    "\n",
    "def download_all_objects(bucket, prefix='', local=local_dir):\n",
    "    paginator = s3_client.get_paginator('list_objects')\n",
    "    for result in paginator.paginate(Bucket='nbaflow-files', Delimiter='/', Prefix=''):\n",
    "        prefixes = result.get('CommonPrefixes')\n",
    "        if prefixes is not None:\n",
    "            for subdir in result.get('CommonPrefixes'):\n",
    "                #print(subdir.get('Prefix'))\n",
    "                download_all_objects(bucket=bucket, prefix=subdir.get('Prefix'))\n",
    "\n",
    "        contents = result.get('Contents', [])\n",
    "        for file in contents:\n",
    "            obj_key = file.get('Key')\n",
    "            local_path = os.path.join(local_dir, obj_key)\n",
    "            if not os.path.exists(os.path.dirname(local_path)):\n",
    "                os.makedirs(os.path.dirname(local_path))\n",
    "            s3_client.download_file('nbaflow-files', obj_key, local_path)"
   ]
  },
  {
   "cell_type": "code",
   "execution_count": null,
   "id": "51847c02",
   "metadata": {
    "ExecuteTime": {
     "end_time": "2021-08-28T01:50:15.221796Z",
     "start_time": "2021-08-28T01:50:15.221796Z"
    }
   },
   "outputs": [],
   "source": [
    "download_all_objects(bucket='nbaflow-files')"
   ]
  },
  {
   "cell_type": "code",
   "execution_count": null,
   "id": "8d0fd4a7",
   "metadata": {
    "ExecuteTime": {
     "end_time": "2021-08-28T01:50:15.225786Z",
     "start_time": "2021-08-28T01:50:15.225786Z"
    }
   },
   "outputs": [],
   "source": [
    "bucket = s3.Bucket('nbaflow-files')\n",
    "objects = [obj for obj in bucket.objects.all()]\n",
    "objects"
   ]
  },
  {
   "cell_type": "code",
   "execution_count": null,
   "id": "ef83679b",
   "metadata": {
    "ExecuteTime": {
     "end_time": "2021-08-28T01:50:15.228781Z",
     "start_time": "2021-08-28T01:50:15.228781Z"
    }
   },
   "outputs": [],
   "source": [
    "os.path.dirname(objects[50].key)"
   ]
  },
  {
   "cell_type": "code",
   "execution_count": null,
   "id": "70437c2c",
   "metadata": {
    "ExecuteTime": {
     "end_time": "2021-08-28T01:50:15.231780Z",
     "start_time": "2021-08-28T01:50:15.231780Z"
    }
   },
   "outputs": [],
   "source": [
    "objects[50].key"
   ]
  },
  {
   "cell_type": "code",
   "execution_count": null,
   "id": "d7678416",
   "metadata": {
    "ExecuteTime": {
     "end_time": "2021-08-28T01:50:15.235758Z",
     "start_time": "2021-08-28T01:50:15.235758Z"
    }
   },
   "outputs": [],
   "source": [
    "import os\n",
    "local_dir = os.path.join(os.getcwd(), 's3_temp')\n",
    "\n",
    "paginator = s3_client.get_paginator('list_objects')\n",
    "for result in paginator.paginate(Bucket='nbaflow-files', Delimiter='/', Prefix=''):\n",
    "    prefixes = result.get('CommonPrefixes')\n",
    "    if prefixes is not None:\n",
    "        for subdir in result.get('CommonPrefixes'):\n",
    "            print(subdir.get('Prefix'))\n",
    "            \n",
    "    contents = result.get('Contents', [])\n",
    "    for file in contents:\n",
    "        obj_key = file.get('Key')\n",
    "        local_path = os.path.join(local_dir, obj_key)\n",
    "        if not os.path.exists(os.path.dirname(local_path)):\n",
    "            os.makedirs(os.path.dirname(local_path))\n",
    "        s3_client.download_file('nbaflow-files', obj_key, local_path)"
   ]
  },
  {
   "cell_type": "code",
   "execution_count": null,
   "id": "60ffb462",
   "metadata": {},
   "outputs": [],
   "source": []
  },
  {
   "cell_type": "code",
   "execution_count": null,
   "id": "0dfad42b",
   "metadata": {
    "ExecuteTime": {
     "end_time": "2021-08-28T01:50:15.237754Z",
     "start_time": "2021-08-28T01:50:15.237754Z"
    }
   },
   "outputs": [],
   "source": [
    "objects = s3.list_objects(Bucket='nbaflow-files')['Contents']"
   ]
  },
  {
   "cell_type": "code",
   "execution_count": 42,
   "id": "aa517a4b",
   "metadata": {
    "ExecuteTime": {
     "end_time": "2021-08-28T02:16:04.213736Z",
     "start_time": "2021-08-28T02:14:34.649483Z"
    }
   },
   "outputs": [
    {
     "name": "stdout",
     "output_type": "stream",
     "text": [
      "True\n",
      "True\n",
      "True\n",
      "True\n",
      "True\n"
     ]
    }
   ],
   "source": [
    "import os\n",
    "import boto3\n",
    "\n",
    "s3_resource = boto3.resource('s3')\n",
    "s3_client = boto3.client('s3')\n",
    "\n",
    "# Coletando estrutura do bucket com chaves e prefixos\n",
    "bucket = s3_resource.Bucket('nbaflow-files')\n",
    "keys = [obj.key for obj in bucket.objects.all()]\n",
    "prefixes = sorted(list(dict.fromkeys([os.path.dirname(k) for k in keys if '/' in k ])))\n",
    "\n",
    "# Criando estrutura local de diretórios com os prefixos\n",
    "local_dir = os.path.join(os.getcwd(), 's3_temp')\n",
    "for dirname in prefixes:\n",
    "    try:\n",
    "        print(os.path.isdir(os.path.join(local_dir, dirname)))\n",
    "        os.makedirs(os.path.join(local_dir, dirname))\n",
    "    except FileExistsError as fee:\n",
    "        continue\n",
    "        \n",
    "# Realizando o download dos objetos\n",
    "for k in keys:\n",
    "    s3_client.download_file('nbaflow-files', k, os.path.join(local_dir, k))"
   ]
  },
  {
   "cell_type": "markdown",
   "id": "1d9b78ef",
   "metadata": {},
   "source": [
    "https://qastack.com.br/programming/30249069/listing-contents-of-a-bucket-with-boto3"
   ]
  },
  {
   "cell_type": "code",
   "execution_count": null,
   "id": "95fe5b7a",
   "metadata": {},
   "outputs": [],
   "source": []
  },
  {
   "cell_type": "code",
   "execution_count": 40,
   "id": "28153d76",
   "metadata": {
    "ExecuteTime": {
     "end_time": "2021-08-28T02:09:58.243298Z",
     "start_time": "2021-08-28T02:09:57.474348Z"
    }
   },
   "outputs": [
    {
     "data": {
      "text/plain": [
       "['all_players_gamelog.csv',\n",
       " 'backup/2019-20_gamelog.csv',\n",
       " 'backup/2020-21_gamelog.csv',\n",
       " 'backup/all_players_gamelog.csv',\n",
       " 'backup/all_players_gamelog_101_150.csv',\n",
       " 'backup/all_players_gamelog_151_200.csv',\n",
       " 'backup/all_players_gamelog_1_50.csv',\n",
       " 'backup/all_players_gamelog_201_250.csv',\n",
       " 'backup/all_players_gamelog_251_300.csv',\n",
       " 'backup/all_players_gamelog_301_350.csv',\n",
       " 'backup/all_players_gamelog_351_400.csv',\n",
       " 'backup/all_players_gamelog_401_450.csv',\n",
       " 'backup/all_players_gamelog_451_end.csv',\n",
       " 'backup/all_players_gamelog_51_100.csv',\n",
       " 'backup/images/Aaron Gordon.png',\n",
       " 'backup/images/Aaron Holiday.png',\n",
       " 'backup/images/Abdel Nader.png',\n",
       " 'backup/images/Adam Mokoka.png',\n",
       " 'backup/images/Al Horford.png',\n",
       " 'backup/images/Al-Farouq Aminu.png',\n",
       " 'backup/images/Alec Burks.png',\n",
       " 'backup/images/Alen Smailagic.png',\n",
       " 'backup/images/Alex Caruso.png',\n",
       " 'backup/images/Alex Len.png',\n",
       " 'backup/images/Alfonzo McKinnie.png',\n",
       " 'backup/images/Alize Johnson.png',\n",
       " 'backup/images/Amida Brimah.png',\n",
       " 'backup/images/Amir Coffey.png',\n",
       " 'backup/images/Andre Drummond.png',\n",
       " 'backup/images/Andre Iguodala.png',\n",
       " 'backup/images/Andrew Wiggins.png',\n",
       " 'backup/images/Anfernee Simons.png',\n",
       " 'backup/images/Anthony Davis.png',\n",
       " 'backup/images/Anthony Tolliver.png',\n",
       " 'backup/images/Aron Baynes.png',\n",
       " 'backup/images/Austin Rivers.png',\n",
       " 'backup/images/Avery Bradley.png',\n",
       " 'backup/images/Axel Toupane.png',\n",
       " 'backup/images/Bam Adebayo.png',\n",
       " 'backup/images/Ben McLemore.png',\n",
       " 'backup/images/Ben Simmons.png',\n",
       " 'backup/images/Bismack Biyombo.png',\n",
       " 'backup/images/Blake Griffin.png',\n",
       " 'backup/images/Boban Marjanovic.png',\n",
       " 'backup/images/Bobby Portis.png',\n",
       " 'backup/images/Bogdan Bogdanovic.png',\n",
       " 'backup/images/Bojan Bogdanovic.png',\n",
       " 'backup/images/Bol Bol.png',\n",
       " 'backup/images/Brad Wanamaker.png',\n",
       " 'backup/images/Bradley Beal.png',\n",
       " 'backup/images/Brandon Clarke.png',\n",
       " 'backup/images/Brandon Goodwin.png',\n",
       " 'backup/images/Brandon Ingram.png',\n",
       " 'backup/images/Brook Lopez.png',\n",
       " 'backup/images/Bruce Brown.png',\n",
       " 'backup/images/Bruno Fernando.png',\n",
       " 'backup/images/Bryn Forbes.png',\n",
       " 'backup/images/Buddy Hield.png',\n",
       " 'backup/images/CJ McCollum.png',\n",
       " 'backup/images/Caleb Martin.png',\n",
       " 'backup/images/Cam Reddish.png',\n",
       " 'backup/images/Cameron Johnson.png',\n",
       " 'backup/images/Cameron Payne.png',\n",
       " 'backup/images/Caris LeVert.png',\n",
       " 'backup/images/Carmelo Anthony.png',\n",
       " 'backup/images/Carsen Edwards.png',\n",
       " 'backup/images/Cedi Osman.png',\n",
       " 'backup/images/Chandler Hutchison.png',\n",
       " 'backup/images/Charlie Brown Jr..png',\n",
       " 'backup/images/Chasson Randle.png',\n",
       " 'backup/images/Chimezie Metu.png',\n",
       " 'backup/images/Chris Boucher.png',\n",
       " 'backup/images/Chris Chiozza.png',\n",
       " 'backup/images/Chris Paul.png',\n",
       " 'backup/images/Christian Wood.png',\n",
       " 'backup/images/Clint Capela.png',\n",
       " 'backup/images/Coby White.png',\n",
       " 'backup/images/Cody Martin.png',\n",
       " 'backup/images/Cody Zeller.png',\n",
       " 'backup/images/Collin Sexton.png',\n",
       " 'backup/images/Cory Joseph.png',\n",
       " 'backup/images/Cristiano Felicio.png',\n",
       " \"backup/images/D'Angelo Russell.png\",\n",
       " 'backup/images/D.J. Augustin.png',\n",
       " 'backup/images/D.J. Wilson.png',\n",
       " 'backup/images/DaQuan Jeffries.png',\n",
       " 'backup/images/Damian Jones.png',\n",
       " 'backup/images/Damian Lillard.png',\n",
       " 'backup/images/Damion Lee.png',\n",
       " 'backup/images/Damyean Dotson.png',\n",
       " 'backup/images/Daniel Gafford.png',\n",
       " 'backup/images/Daniel Theis.png',\n",
       " 'backup/images/Danilo Gallinari.png',\n",
       " 'backup/images/Danny Green.png',\n",
       " 'backup/images/Dante Exum.png',\n",
       " 'backup/images/Danuel House Jr..png',\n",
       " 'backup/images/Dario Saric.png',\n",
       " 'backup/images/Darius Bazley.png',\n",
       " 'backup/images/Darius Garland.png',\n",
       " 'backup/images/David Nwaba.png',\n",
       " 'backup/images/Davis Bertans.png',\n",
       " \"backup/images/De'Aaron Fox.png\",\n",
       " \"backup/images/De'Andre Hunter.png\",\n",
       " \"backup/images/De'Anthony Melton.png\",\n",
       " 'backup/images/DeAndre Jordan.png',\n",
       " \"backup/images/DeAndre' Bembry.png\",\n",
       " 'backup/images/DeMar DeRozan.png',\n",
       " 'backup/images/DeMarcus Cousins.png',\n",
       " 'backup/images/Dean Wade.png',\n",
       " 'backup/images/Deandre Ayton.png',\n",
       " 'backup/images/Dejounte Murray.png',\n",
       " 'backup/images/Delon Wright.png',\n",
       " 'backup/images/Dennis Schroder.png',\n",
       " 'backup/images/Dennis Smith Jr..png',\n",
       " 'backup/images/Denzel Valentine.png',\n",
       " 'backup/images/Derrick Favors.png',\n",
       " 'backup/images/Derrick Jones Jr..png',\n",
       " 'backup/images/Derrick Rose.png',\n",
       " 'backup/images/Derrick White.png',\n",
       " 'backup/images/Devin Booker.png',\n",
       " 'backup/images/Devontae Cacok.png',\n",
       " \"backup/images/Devonte' Graham.png\",\n",
       " 'backup/images/Dewayne Dedmon.png',\n",
       " 'backup/images/Dillon Brooks.png',\n",
       " 'backup/images/Domantas Sabonis.png',\n",
       " 'backup/images/Donovan Mitchell.png',\n",
       " 'backup/images/Donte DiVincenzo.png',\n",
       " 'backup/images/Dorian Finney-Smith.png',\n",
       " 'backup/images/Doug McDermott.png',\n",
       " 'backup/images/Draymond Green.png',\n",
       " 'backup/images/Drew Eubanks.png',\n",
       " 'backup/images/Duncan Robinson.png',\n",
       " 'backup/images/Dwayne Bacon.png',\n",
       " 'backup/images/Dwight Howard.png',\n",
       " 'backup/images/Dwight Powell.png',\n",
       " \"backup/images/E'Twaun Moore.png\",\n",
       " 'backup/images/Ed Davis.png',\n",
       " 'backup/images/Edmond Sumner.png',\n",
       " 'backup/images/Elfrid Payton.png',\n",
       " 'backup/images/Enes Kanter.png',\n",
       " 'backup/images/Eric Bledsoe.png',\n",
       " 'backup/images/Eric Gordon.png',\n",
       " 'backup/images/Eric Paschall.png',\n",
       " 'backup/images/Ersan Ilyasova.png',\n",
       " 'backup/images/Evan Fournier.png',\n",
       " 'backup/images/Frank Jackson.png',\n",
       " 'backup/images/Frank Kaminsky.png',\n",
       " 'backup/images/Frank Ntilikina.png',\n",
       " 'backup/images/Fred VanVleet.png',\n",
       " 'backup/images/Furkan Korkmaz.png',\n",
       " 'backup/images/Gabe Vincent.png',\n",
       " 'backup/images/Garrett Temple.png',\n",
       " 'backup/images/Garrison Mathews.png',\n",
       " 'backup/images/Gary Clark.png',\n",
       " 'backup/images/Gary Harris.png',\n",
       " 'backup/images/Gary Payton II.png',\n",
       " 'backup/images/Gary Trent Jr..png',\n",
       " 'backup/images/George Hill.png',\n",
       " 'backup/images/Georges Niang.png',\n",
       " 'backup/images/Giannis Antetokounmpo.png',\n",
       " 'backup/images/Goga Bitadze.png',\n",
       " 'backup/images/Goran Dragic.png',\n",
       " 'backup/images/Gordon Hayward.png',\n",
       " 'backup/images/Gorgui Dieng.png',\n",
       " 'backup/images/Grant Williams.png',\n",
       " 'backup/images/Grayson Allen.png',\n",
       " 'backup/images/Hamidou Diallo.png',\n",
       " 'backup/images/Harrison Barnes.png',\n",
       " 'backup/images/Harry Giles III.png',\n",
       " 'backup/images/Hassan Whiteside.png',\n",
       " 'backup/images/Ignas Brazdeikis.png',\n",
       " 'backup/images/Isaac Bonga.png',\n",
       " 'backup/images/Isaiah Hartenstein.png',\n",
       " 'backup/images/Isaiah Roby.png',\n",
       " 'backup/images/Ish Smith.png',\n",
       " 'backup/images/Ivica Zubac.png',\n",
       " 'backup/images/JJ Redick.png',\n",
       " 'backup/images/Ja Morant.png',\n",
       " 'backup/images/JaKarr Sampson.png',\n",
       " 'backup/images/JaMychal Green.png',\n",
       " 'backup/images/JaVale McGee.png',\n",
       " 'backup/images/Jabari Parker.png',\n",
       " 'backup/images/Jae Crowder.png',\n",
       " 'backup/images/Jahlil Okafor.png',\n",
       " 'backup/images/Jake Layman.png',\n",
       " 'backup/images/Jakob Poeltl.png',\n",
       " 'backup/images/Jalen Brunson.png',\n",
       " 'backup/images/Jalen McDaniels.png',\n",
       " 'backup/images/Jamal Murray.png',\n",
       " 'backup/images/James Ennis III.png',\n",
       " 'backup/images/James Harden.png',\n",
       " 'backup/images/James Johnson.png',\n",
       " 'backup/images/James Nunnally.png',\n",
       " 'backup/images/Jared Dudley.png',\n",
       " 'backup/images/Jared Harper.png',\n",
       " 'backup/images/Jaren Jackson Jr..png',\n",
       " 'backup/images/Jarred Vanderbilt.png',\n",
       " 'backup/images/Jarrell Brantley.png',\n",
       " 'backup/images/Jarrett Allen.png',\n",
       " 'backup/images/Jarrett Culver.png',\n",
       " 'backup/images/Javonte Green.png',\n",
       " 'backup/images/Jaxson Hayes.png',\n",
       " 'backup/images/Jaylen Brown.png',\n",
       " 'backup/images/Jaylen Hoard.png',\n",
       " 'backup/images/Jaylen Nowell.png',\n",
       " 'backup/images/Jayson Tatum.png',\n",
       " 'backup/images/Jeff Green.png',\n",
       " 'backup/images/Jeff Teague.png',\n",
       " 'backup/images/Jerami Grant.png',\n",
       " 'backup/images/Jeremiah Martin.png',\n",
       " 'backup/images/Jeremy Lamb.png',\n",
       " 'backup/images/Jevon Carter.png',\n",
       " 'backup/images/Jimmy Butler.png',\n",
       " 'backup/images/Joe Harris.png',\n",
       " 'backup/images/Joe Ingles.png',\n",
       " 'backup/images/Joel Embiid.png',\n",
       " 'backup/images/John Collins.png',\n",
       " 'backup/images/John Konchar.png',\n",
       " 'backup/images/John Wall.png',\n",
       " 'backup/images/Jonas Valanciunas.png',\n",
       " 'backup/images/Jonathan Isaac.png',\n",
       " 'backup/images/Jordan Bell.png',\n",
       " 'backup/images/Jordan Clarkson.png',\n",
       " 'backup/images/Jordan McLaughlin.png',\n",
       " 'backup/images/Jordan Poole.png',\n",
       " 'backup/images/Josh Hart.png',\n",
       " 'backup/images/Josh Jackson.png',\n",
       " 'backup/images/Josh Okogie.png',\n",
       " 'backup/images/Josh Richardson.png',\n",
       " 'backup/images/Jrue Holiday.png',\n",
       " 'backup/images/Juan Toscano-Anderson.png',\n",
       " 'backup/images/Juancho Hernangomez.png',\n",
       " 'backup/images/Julius Randle.png',\n",
       " 'backup/images/Justin Holiday.png',\n",
       " 'backup/images/Justin Jackson.png',\n",
       " 'backup/images/Justin James.png',\n",
       " 'backup/images/Justise Winslow.png',\n",
       " 'backup/images/Jusuf Nurkic.png',\n",
       " 'backup/images/Juwan Morgan.png',\n",
       " 'backup/images/KZ Okpala.png',\n",
       " 'backup/images/Karl-Anthony Towns.png',\n",
       " 'backup/images/Kawhi Leonard.png',\n",
       " 'backup/images/Keita Bates-Diop.png',\n",
       " 'backup/images/Kelan Martin.png',\n",
       " 'backup/images/Keldon Johnson.png',\n",
       " 'backup/images/Kelly Olynyk.png',\n",
       " 'backup/images/Kelly Oubre Jr..png',\n",
       " 'backup/images/Kemba Walker.png',\n",
       " 'backup/images/Kendrick Nunn.png',\n",
       " 'backup/images/Kenrich Williams.png',\n",
       " 'backup/images/Kent Bazemore.png',\n",
       " 'backup/images/Kentavious Caldwell-Pope.png',\n",
       " 'backup/images/Kevin Durant.png',\n",
       " 'backup/images/Kevin Huerter.png',\n",
       " 'backup/images/Kevin Knox II.png',\n",
       " 'backup/images/Kevin Love.png',\n",
       " 'backup/images/Kevin Porter Jr..png',\n",
       " 'backup/images/Kevon Looney.png',\n",
       " 'backup/images/Khem Birch.png',\n",
       " 'backup/images/Khris Middleton.png',\n",
       " 'backup/images/Khyri Thomas.png',\n",
       " 'backup/images/Klay Thompson.png',\n",
       " 'backup/images/Kostas Antetokounmpo.png',\n",
       " 'backup/images/Kris Dunn.png',\n",
       " 'backup/images/Kristaps Porzingis.png',\n",
       " 'backup/images/Kyle Anderson.png',\n",
       " 'backup/images/Kyle Guy.png',\n",
       " 'backup/images/Kyle Kuzma.png',\n",
       " 'backup/images/Kyle Lowry.png',\n",
       " 'backup/images/Kyrie Irving.png',\n",
       " 'backup/images/Landry Shamet.png',\n",
       " 'backup/images/Langston Galloway.png',\n",
       " 'backup/images/Larry Nance Jr..png',\n",
       " 'backup/images/Lauri Markkanen.png',\n",
       " 'backup/images/LeBron James.png',\n",
       " 'backup/images/Lonnie Walker IV.png',\n",
       " 'backup/images/Lonzo Ball.png',\n",
       " 'backup/images/Lou Williams.png',\n",
       " 'backup/images/Louis King.png',\n",
       " 'backup/images/Luguentz Dort.png',\n",
       " 'backup/images/Luka Doncic.png',\n",
       " 'backup/images/Luka Samanic.png',\n",
       " 'backup/images/Luke Kennard.png',\n",
       " 'backup/images/Luke Kornet.png',\n",
       " 'backup/images/Malcolm Brogdon.png',\n",
       " 'backup/images/Malik Beasley.png',\n",
       " 'backup/images/Malik Monk.png',\n",
       " 'backup/images/Marc Gasol.png',\n",
       " 'backup/images/Marcus Morris Sr..png',\n",
       " 'backup/images/Marcus Smart.png',\n",
       " 'backup/images/Markelle Fultz.png',\n",
       " 'backup/images/Markieff Morris.png',\n",
       " 'backup/images/Marvin Bagley III.png',\n",
       " 'backup/images/Mason Plumlee.png',\n",
       " 'backup/images/Matisse Thybulle.png',\n",
       " 'backup/images/Matt Thomas.png',\n",
       " 'backup/images/Matthew Dellavedova.png',\n",
       " 'backup/images/Maurice Harkless.png',\n",
       " 'backup/images/Max Strus.png',\n",
       " 'backup/images/Maxi Kleber.png',\n",
       " 'backup/images/Mfiondu Kabengele.png',\n",
       " 'backup/images/Michael Carter-Williams.png',\n",
       " 'backup/images/Michael Porter Jr..png',\n",
       " 'backup/images/Mikal Bridges.png',\n",
       " 'backup/images/Mike Conley.png',\n",
       " 'backup/images/Mike James.png',\n",
       " 'backup/images/Mike Muscala.png',\n",
       " 'backup/images/Mike Scott.png',\n",
       " 'backup/images/Miles Bridges.png',\n",
       " 'backup/images/Mitchell Robinson.png',\n",
       " 'backup/images/Miye Oni.png',\n",
       " 'backup/images/Mo Bamba.png',\n",
       " 'backup/images/Monte Morris.png',\n",
       " 'backup/images/Montrezl Harrell.png',\n",
       " 'backup/images/Moritz Wagner.png',\n",
       " 'backup/images/Moses Brown.png',\n",
       " 'backup/images/Mychal Mulder.png',\n",
       " 'backup/images/Myles Turner.png',\n",
       " 'backup/images/Nassir Little.png',\n",
       " 'backup/images/Naz Reid.png',\n",
       " 'backup/images/Nemanja Bjelica.png',\n",
       " 'backup/images/Nerlens Noel.png',\n",
       " 'backup/images/Nickeil Alexander-Walker.png',\n",
       " 'backup/images/Nico Mannion.png',\n",
       " 'backup/images/Nicolas Batum.png',\n",
       " 'backup/images/Nicolas Claxton.png',\n",
       " 'backup/images/Nicolo Melli.png',\n",
       " 'backup/images/Nikola Jokic.png',\n",
       " 'backup/images/Nikola Vucevic.png',\n",
       " 'backup/images/Norman Powell.png',\n",
       " 'backup/images/Norvel Pelle.png',\n",
       " 'backup/images/OG Anunoby.png',\n",
       " 'backup/images/Oshae Brissett.png',\n",
       " 'backup/images/Otto Porter Jr..png',\n",
       " 'backup/images/P.J. Tucker.png',\n",
       " 'backup/images/P.J. Washington.png',\n",
       " 'backup/images/PJ Dozier.png',\n",
       " 'backup/images/Pascal Siakam.png',\n",
       " 'backup/images/Pat Connaughton.png',\n",
       " 'backup/images/Patrick Beverley.png',\n",
       " 'backup/images/Patrick Patterson.png',\n",
       " 'backup/images/Patty Mills.png',\n",
       " 'backup/images/Paul George.png',\n",
       " 'backup/images/Paul Millsap.png',\n",
       " 'backup/images/Paul Watson.png',\n",
       " 'backup/images/Quinndary Weatherspoon.png',\n",
       " 'backup/images/RJ Barrett.png',\n",
       " 'backup/images/Rajon Rondo.png',\n",
       " 'backup/images/Raul Neto.png',\n",
       " 'backup/images/Rayjon Tucker.png',\n",
       " 'backup/images/Reggie Bullock.png',\n",
       " 'backup/images/Reggie Jackson.png',\n",
       " 'backup/images/Richaun Holmes.png',\n",
       " 'backup/images/Ricky Rubio.png',\n",
       " 'backup/images/Robert Covington.png',\n",
       " 'backup/images/Robert Williams III.png',\n",
       " 'backup/images/Robin Lopez.png',\n",
       " 'backup/images/Rodney Hood.png',\n",
       " 'backup/images/Rodney McGruder.png',\n",
       " 'backup/images/Romeo Langford.png',\n",
       " 'backup/images/Rondae Hollis-Jefferson.png',\n",
       " \"backup/images/Royce O'Neale.png\",\n",
       " 'backup/images/Rudy Gay.png',\n",
       " 'backup/images/Rudy Gobert.png',\n",
       " 'backup/images/Rui Hachimura.png',\n",
       " 'backup/images/Russell Westbrook.png',\n",
       " 'backup/images/Ryan Arcidiacono.png',\n",
       " 'backup/images/Sean McDermott.png',\n",
       " 'backup/images/Sekou Doumbouya.png',\n",
       " 'backup/images/Semi Ojeleye.png',\n",
       " 'backup/images/Serge Ibaka.png',\n",
       " 'backup/images/Seth Curry.png',\n",
       " 'backup/images/Shai Gilgeous-Alexander.png',\n",
       " 'backup/images/Shake Milton.png',\n",
       " 'backup/images/Shaquille Harrison.png',\n",
       " 'backup/images/Sindarius Thornwell.png',\n",
       " 'backup/images/Solomon Hill.png',\n",
       " 'backup/images/Spencer Dinwiddie.png',\n",
       " 'backup/images/Stanley Johnson.png',\n",
       " 'backup/images/Stephen Curry.png',\n",
       " 'backup/images/Sterling Brown.png',\n",
       " 'backup/images/Steven Adams.png',\n",
       " 'backup/images/Svi Mykhailiuk.png',\n",
       " 'backup/images/T.J. Leaf.png',\n",
       " 'backup/images/T.J. McConnell.png',\n",
       " 'backup/images/T.J. Warren.png',\n",
       " 'backup/images/Tacko Fall.png',\n",
       " 'backup/images/Taj Gibson.png',\n",
       " 'backup/images/Talen Horton-Tucker.png',\n",
       " 'backup/images/Taurean Prince.png',\n",
       " 'backup/images/Terance Mann.png',\n",
       " 'backup/images/Terence Davis.png',\n",
       " 'backup/images/Terrence Ross.png',\n",
       " 'backup/images/Terry Rozier.png',\n",
       " 'backup/images/Thaddeus Young.png',\n",
       " 'backup/images/Thanasis Antetokounmpo.png',\n",
       " 'backup/images/Theo Pinson.png',\n",
       " 'backup/images/Thomas Bryant.png',\n",
       " 'backup/images/Tim Frazier.png',\n",
       " 'backup/images/Tim Hardaway Jr..png',\n",
       " 'backup/images/Timothe Luwawu-Cabarrot.png',\n",
       " 'backup/images/Tobias Harris.png',\n",
       " 'backup/images/Tomas Satoransky.png',\n",
       " 'backup/images/Tony Bradley.png',\n",
       " 'backup/images/Tony Snell.png',\n",
       " 'backup/images/Torrey Craig.png',\n",
       " 'backup/images/Trae Young.png',\n",
       " 'backup/images/Tremont Waters.png',\n",
       " 'backup/images/Trevor Ariza.png',\n",
       " 'backup/images/Trey Burke.png',\n",
       " 'backup/images/Trey Lyles.png',\n",
       " 'backup/images/Tristan Thompson.png',\n",
       " 'backup/images/Troy Brown Jr..png',\n",
       " 'backup/images/Ty Jerome.png',\n",
       " 'backup/images/Ty-Shon Alexander.png',\n",
       " 'backup/images/Tyler Cook.png',\n",
       " 'backup/images/Tyler Herro.png',\n",
       " 'backup/images/Tyler Johnson.png',\n",
       " 'backup/images/Tyus Jones.png',\n",
       " 'backup/images/Udonis Haslem.png',\n",
       " 'backup/images/Victor Oladipo.png',\n",
       " 'backup/images/Vlatko Cancar.png',\n",
       " 'backup/images/Wayne Ellington.png',\n",
       " 'backup/images/Wendell Carter Jr..png',\n",
       " 'backup/images/Wenyen Gabriel.png',\n",
       " 'backup/images/Wes Iwundu.png',\n",
       " 'backup/images/Wesley Matthews.png',\n",
       " 'backup/images/Will Barton.png',\n",
       " 'backup/images/Willie Cauley-Stein.png',\n",
       " 'backup/images/Willy Hernangomez.png',\n",
       " 'backup/images/Yogi Ferrell.png',\n",
       " 'backup/images/Yuta Watanabe.png',\n",
       " 'backup/images/Zach Collins.png',\n",
       " 'backup/images/Zach LaVine.png',\n",
       " 'backup/images/Zion Williamson.png',\n",
       " 'backup/one_player_gamelog.csv',\n",
       " 'images/docs/aws-defaultvpc.PNG',\n",
       " 'images/docs/aws-dev-diagram-v0.png',\n",
       " 'images/docs/aws-dev-diagram-v1.png',\n",
       " 'images/docs/aws-dev-diagram-v2.png',\n",
       " 'images/docs/aws-ec2-connection.PNG',\n",
       " 'images/docs/aws-ec2-insertdata.PNG',\n",
       " 'images/docs/aws-ec2-playergamelog.PNG',\n",
       " 'images/docs/aws-ec2-vscode.PNG',\n",
       " 'images/docs/aws-git-clone.PNG',\n",
       " 'images/docs/aws-igw.PNG',\n",
       " 'images/docs/aws-rds-creation.PNG',\n",
       " 'images/docs/aws-rds-local-createtable.PNG',\n",
       " 'images/docs/aws-rds-pgadmin.PNG',\n",
       " 'images/docs/aws-rtb.PNG',\n",
       " 'images/docs/aws-s3-boto3-creation.PNG',\n",
       " 'images/docs/aws-s3-bucket-nbaflow.PNG',\n",
       " 'images/docs/aws-s3-bucket-public.PNG',\n",
       " 'images/docs/aws-s3-imgs.PNG',\n",
       " 'images/docs/aws-s3-not-public.PNG',\n",
       " 'images/docs/aws-sg-creation.PNG',\n",
       " 'images/docs/aws-ssh-config.PNG',\n",
       " 'images/docs/aws-subnets.PNG',\n",
       " 'images/docs/aws-vpcprojectdev.PNG',\n",
       " 'images/docs/aws-vscode-sshextension.PNG',\n",
       " 'images/docs/local-pgadmin-script.PNG',\n",
       " 'images/docs/local-pgadmin-server.PNG',\n",
       " 'images/docs/local-psycopg2-conn.PNG',\n",
       " 'images/players/Aaron Gordon.png',\n",
       " 'images/players/Aaron Holiday.png',\n",
       " 'images/players/Abdel Nader.png',\n",
       " 'images/players/Adam Mokoka.png',\n",
       " 'images/players/Al Horford.png',\n",
       " 'images/players/Al-Farouq Aminu.png',\n",
       " 'images/players/Alec Burks.png',\n",
       " 'images/players/Alen Smailagic.png',\n",
       " 'images/players/Alex Caruso.png',\n",
       " 'images/players/Alex Len.png',\n",
       " 'images/players/Alfonzo McKinnie.png',\n",
       " 'images/players/Alize Johnson.png',\n",
       " 'images/players/Amida Brimah.png',\n",
       " 'images/players/Amir Coffey.png',\n",
       " 'images/players/Andre Drummond.png',\n",
       " 'images/players/Andre Iguodala.png',\n",
       " 'images/players/Andrew Wiggins.png',\n",
       " 'images/players/Anfernee Simons.png',\n",
       " 'images/players/Anthony Davis.png',\n",
       " 'images/players/Anthony Tolliver.png',\n",
       " 'images/players/Aron Baynes.png',\n",
       " 'images/players/Austin Rivers.png',\n",
       " 'images/players/Avery Bradley.png',\n",
       " 'images/players/Axel Toupane.png',\n",
       " 'images/players/Bam Adebayo.png',\n",
       " 'images/players/Ben McLemore.png',\n",
       " 'images/players/Ben Simmons.png',\n",
       " 'images/players/Bismack Biyombo.png',\n",
       " 'images/players/Blake Griffin.png',\n",
       " 'images/players/Boban Marjanovic.png',\n",
       " 'images/players/Bobby Portis.png',\n",
       " 'images/players/Bogdan Bogdanovic.png',\n",
       " 'images/players/Bojan Bogdanovic.png',\n",
       " 'images/players/Bol Bol.png',\n",
       " 'images/players/Brad Wanamaker.png',\n",
       " 'images/players/Bradley Beal.png',\n",
       " 'images/players/Brandon Clarke.png',\n",
       " 'images/players/Brandon Goodwin.png',\n",
       " 'images/players/Brandon Ingram.png',\n",
       " 'images/players/Brook Lopez.png',\n",
       " 'images/players/Bruce Brown.png',\n",
       " 'images/players/Bruno Fernando.png',\n",
       " 'images/players/Bryn Forbes.png',\n",
       " 'images/players/Buddy Hield.png',\n",
       " 'images/players/CJ McCollum.png',\n",
       " 'images/players/Caleb Martin.png',\n",
       " 'images/players/Cam Reddish.png',\n",
       " 'images/players/Cameron Johnson.png',\n",
       " 'images/players/Cameron Payne.png',\n",
       " 'images/players/Caris LeVert.png',\n",
       " 'images/players/Carmelo Anthony.png',\n",
       " 'images/players/Carsen Edwards.png',\n",
       " 'images/players/Cedi Osman.png',\n",
       " 'images/players/Chandler Hutchison.png',\n",
       " 'images/players/Charlie Brown Jr..png',\n",
       " 'images/players/Chasson Randle.png',\n",
       " 'images/players/Chimezie Metu.png',\n",
       " 'images/players/Chris Boucher.png',\n",
       " 'images/players/Chris Chiozza.png',\n",
       " 'images/players/Chris Paul.png',\n",
       " 'images/players/Christian Wood.png',\n",
       " 'images/players/Clint Capela.png',\n",
       " 'images/players/Coby White.png',\n",
       " 'images/players/Cody Martin.png',\n",
       " 'images/players/Cody Zeller.png',\n",
       " 'images/players/Collin Sexton.png',\n",
       " 'images/players/Cory Joseph.png',\n",
       " 'images/players/Cristiano Felicio.png',\n",
       " \"images/players/D'Angelo Russell.png\",\n",
       " 'images/players/D.J. Augustin.png',\n",
       " 'images/players/D.J. Wilson.png',\n",
       " 'images/players/DaQuan Jeffries.png',\n",
       " 'images/players/Damian Jones.png',\n",
       " 'images/players/Damian Lillard.png',\n",
       " 'images/players/Damion Lee.png',\n",
       " 'images/players/Damyean Dotson.png',\n",
       " 'images/players/Daniel Gafford.png',\n",
       " 'images/players/Daniel Theis.png',\n",
       " 'images/players/Danilo Gallinari.png',\n",
       " 'images/players/Danny Green.png',\n",
       " 'images/players/Dante Exum.png',\n",
       " 'images/players/Danuel House Jr..png',\n",
       " 'images/players/Dario Saric.png',\n",
       " 'images/players/Darius Bazley.png',\n",
       " 'images/players/Darius Garland.png',\n",
       " 'images/players/David Nwaba.png',\n",
       " 'images/players/Davis Bertans.png',\n",
       " \"images/players/De'Aaron Fox.png\",\n",
       " \"images/players/De'Andre Hunter.png\",\n",
       " \"images/players/De'Anthony Melton.png\",\n",
       " 'images/players/DeAndre Jordan.png',\n",
       " \"images/players/DeAndre' Bembry.png\",\n",
       " 'images/players/DeMar DeRozan.png',\n",
       " 'images/players/DeMarcus Cousins.png',\n",
       " 'images/players/Dean Wade.png',\n",
       " 'images/players/Deandre Ayton.png',\n",
       " 'images/players/Dejounte Murray.png',\n",
       " 'images/players/Delon Wright.png',\n",
       " 'images/players/Dennis Schroder.png',\n",
       " 'images/players/Dennis Smith Jr..png',\n",
       " 'images/players/Denzel Valentine.png',\n",
       " 'images/players/Derrick Favors.png',\n",
       " 'images/players/Derrick Jones Jr..png',\n",
       " 'images/players/Derrick Rose.png',\n",
       " 'images/players/Derrick White.png',\n",
       " 'images/players/Devin Booker.png',\n",
       " 'images/players/Devontae Cacok.png',\n",
       " \"images/players/Devonte' Graham.png\",\n",
       " 'images/players/Dewayne Dedmon.png',\n",
       " 'images/players/Dillon Brooks.png',\n",
       " 'images/players/Domantas Sabonis.png',\n",
       " 'images/players/Donovan Mitchell.png',\n",
       " 'images/players/Donte DiVincenzo.png',\n",
       " 'images/players/Dorian Finney-Smith.png',\n",
       " 'images/players/Doug McDermott.png',\n",
       " 'images/players/Draymond Green.png',\n",
       " 'images/players/Drew Eubanks.png',\n",
       " 'images/players/Duncan Robinson.png',\n",
       " 'images/players/Dwayne Bacon.png',\n",
       " 'images/players/Dwight Howard.png',\n",
       " 'images/players/Dwight Powell.png',\n",
       " \"images/players/E'Twaun Moore.png\",\n",
       " 'images/players/Ed Davis.png',\n",
       " 'images/players/Edmond Sumner.png',\n",
       " 'images/players/Elfrid Payton.png',\n",
       " 'images/players/Enes Kanter.png',\n",
       " 'images/players/Eric Bledsoe.png',\n",
       " 'images/players/Eric Gordon.png',\n",
       " 'images/players/Eric Paschall.png',\n",
       " 'images/players/Ersan Ilyasova.png',\n",
       " 'images/players/Evan Fournier.png',\n",
       " 'images/players/Frank Jackson.png',\n",
       " 'images/players/Frank Kaminsky.png',\n",
       " 'images/players/Frank Ntilikina.png',\n",
       " 'images/players/Fred VanVleet.png',\n",
       " 'images/players/Furkan Korkmaz.png',\n",
       " 'images/players/Gabe Vincent.png',\n",
       " 'images/players/Garrett Temple.png',\n",
       " 'images/players/Garrison Mathews.png',\n",
       " 'images/players/Gary Clark.png',\n",
       " 'images/players/Gary Harris.png',\n",
       " 'images/players/Gary Payton II.png',\n",
       " 'images/players/Gary Trent Jr..png',\n",
       " 'images/players/George Hill.png',\n",
       " 'images/players/Georges Niang.png',\n",
       " 'images/players/Giannis Antetokounmpo.png',\n",
       " 'images/players/Goga Bitadze.png',\n",
       " 'images/players/Goran Dragic.png',\n",
       " 'images/players/Gordon Hayward.png',\n",
       " 'images/players/Gorgui Dieng.png',\n",
       " 'images/players/Grant Williams.png',\n",
       " 'images/players/Grayson Allen.png',\n",
       " 'images/players/Hamidou Diallo.png',\n",
       " 'images/players/Harrison Barnes.png',\n",
       " 'images/players/Harry Giles III.png',\n",
       " 'images/players/Hassan Whiteside.png',\n",
       " 'images/players/Ignas Brazdeikis.png',\n",
       " 'images/players/Isaac Bonga.png',\n",
       " 'images/players/Isaiah Hartenstein.png',\n",
       " 'images/players/Isaiah Roby.png',\n",
       " 'images/players/Ish Smith.png',\n",
       " 'images/players/Ivica Zubac.png',\n",
       " 'images/players/JJ Redick.png',\n",
       " 'images/players/Ja Morant.png',\n",
       " 'images/players/JaKarr Sampson.png',\n",
       " 'images/players/JaMychal Green.png',\n",
       " 'images/players/JaVale McGee.png',\n",
       " 'images/players/Jabari Parker.png',\n",
       " 'images/players/Jae Crowder.png',\n",
       " 'images/players/Jahlil Okafor.png',\n",
       " 'images/players/Jake Layman.png',\n",
       " 'images/players/Jakob Poeltl.png',\n",
       " 'images/players/Jalen Brunson.png',\n",
       " 'images/players/Jalen McDaniels.png',\n",
       " 'images/players/Jamal Murray.png',\n",
       " 'images/players/James Ennis III.png',\n",
       " 'images/players/James Harden.png',\n",
       " 'images/players/James Johnson.png',\n",
       " 'images/players/James Nunnally.png',\n",
       " 'images/players/Jared Dudley.png',\n",
       " 'images/players/Jared Harper.png',\n",
       " 'images/players/Jaren Jackson Jr..png',\n",
       " 'images/players/Jarred Vanderbilt.png',\n",
       " 'images/players/Jarrell Brantley.png',\n",
       " 'images/players/Jarrett Allen.png',\n",
       " 'images/players/Jarrett Culver.png',\n",
       " 'images/players/Javonte Green.png',\n",
       " 'images/players/Jaxson Hayes.png',\n",
       " 'images/players/Jaylen Brown.png',\n",
       " 'images/players/Jaylen Hoard.png',\n",
       " 'images/players/Jaylen Nowell.png',\n",
       " 'images/players/Jayson Tatum.png',\n",
       " 'images/players/Jeff Green.png',\n",
       " 'images/players/Jeff Teague.png',\n",
       " 'images/players/Jerami Grant.png',\n",
       " 'images/players/Jeremiah Martin.png',\n",
       " 'images/players/Jeremy Lamb.png',\n",
       " 'images/players/Jevon Carter.png',\n",
       " 'images/players/Jimmy Butler.png',\n",
       " 'images/players/Joe Harris.png',\n",
       " 'images/players/Joe Ingles.png',\n",
       " 'images/players/Joel Embiid.png',\n",
       " 'images/players/John Collins.png',\n",
       " 'images/players/John Konchar.png',\n",
       " 'images/players/John Wall.png',\n",
       " 'images/players/Jonas Valanciunas.png',\n",
       " 'images/players/Jonathan Isaac.png',\n",
       " 'images/players/Jordan Bell.png',\n",
       " 'images/players/Jordan Clarkson.png',\n",
       " 'images/players/Jordan McLaughlin.png',\n",
       " 'images/players/Jordan Poole.png',\n",
       " 'images/players/Josh Hart.png',\n",
       " 'images/players/Josh Jackson.png',\n",
       " 'images/players/Josh Okogie.png',\n",
       " 'images/players/Josh Richardson.png',\n",
       " 'images/players/Jrue Holiday.png',\n",
       " 'images/players/Juan Toscano-Anderson.png',\n",
       " 'images/players/Juancho Hernangomez.png',\n",
       " 'images/players/Julius Randle.png',\n",
       " 'images/players/Justin Holiday.png',\n",
       " 'images/players/Justin Jackson.png',\n",
       " 'images/players/Justin James.png',\n",
       " 'images/players/Justise Winslow.png',\n",
       " 'images/players/Jusuf Nurkic.png',\n",
       " 'images/players/Juwan Morgan.png',\n",
       " 'images/players/KZ Okpala.png',\n",
       " 'images/players/Karl-Anthony Towns.png',\n",
       " 'images/players/Kawhi Leonard.png',\n",
       " 'images/players/Keita Bates-Diop.png',\n",
       " 'images/players/Kelan Martin.png',\n",
       " 'images/players/Keldon Johnson.png',\n",
       " 'images/players/Kelly Olynyk.png',\n",
       " 'images/players/Kelly Oubre Jr..png',\n",
       " 'images/players/Kemba Walker.png',\n",
       " 'images/players/Kendrick Nunn.png',\n",
       " 'images/players/Kenrich Williams.png',\n",
       " 'images/players/Kent Bazemore.png',\n",
       " 'images/players/Kentavious Caldwell-Pope.png',\n",
       " 'images/players/Kevin Durant.png',\n",
       " 'images/players/Kevin Huerter.png',\n",
       " 'images/players/Kevin Knox II.png',\n",
       " 'images/players/Kevin Love.png',\n",
       " 'images/players/Kevin Porter Jr..png',\n",
       " 'images/players/Kevon Looney.png',\n",
       " 'images/players/Khem Birch.png',\n",
       " 'images/players/Khris Middleton.png',\n",
       " 'images/players/Khyri Thomas.png',\n",
       " 'images/players/Klay Thompson.png',\n",
       " 'images/players/Kostas Antetokounmpo.png',\n",
       " 'images/players/Kris Dunn.png',\n",
       " 'images/players/Kristaps Porzingis.png',\n",
       " 'images/players/Kyle Anderson.png',\n",
       " 'images/players/Kyle Guy.png',\n",
       " 'images/players/Kyle Kuzma.png',\n",
       " 'images/players/Kyle Lowry.png',\n",
       " 'images/players/Kyrie Irving.png',\n",
       " 'images/players/Landry Shamet.png',\n",
       " 'images/players/Langston Galloway.png',\n",
       " 'images/players/Larry Nance Jr..png',\n",
       " 'images/players/Lauri Markkanen.png',\n",
       " 'images/players/LeBron James.png',\n",
       " 'images/players/Lonnie Walker IV.png',\n",
       " 'images/players/Lonzo Ball.png',\n",
       " 'images/players/Lou Williams.png',\n",
       " 'images/players/Louis King.png',\n",
       " 'images/players/Luguentz Dort.png',\n",
       " 'images/players/Luka Doncic.png',\n",
       " 'images/players/Luka Samanic.png',\n",
       " 'images/players/Luke Kennard.png',\n",
       " 'images/players/Luke Kornet.png',\n",
       " 'images/players/Malcolm Brogdon.png',\n",
       " 'images/players/Malik Beasley.png',\n",
       " 'images/players/Malik Monk.png',\n",
       " 'images/players/Marc Gasol.png',\n",
       " 'images/players/Marcus Morris Sr..png',\n",
       " 'images/players/Marcus Smart.png',\n",
       " 'images/players/Markelle Fultz.png',\n",
       " 'images/players/Markieff Morris.png',\n",
       " 'images/players/Marvin Bagley III.png',\n",
       " 'images/players/Mason Plumlee.png',\n",
       " 'images/players/Matisse Thybulle.png',\n",
       " 'images/players/Matt Thomas.png',\n",
       " 'images/players/Matthew Dellavedova.png',\n",
       " 'images/players/Maurice Harkless.png',\n",
       " 'images/players/Max Strus.png',\n",
       " 'images/players/Maxi Kleber.png',\n",
       " 'images/players/Mfiondu Kabengele.png',\n",
       " 'images/players/Michael Carter-Williams.png',\n",
       " 'images/players/Michael Porter Jr..png',\n",
       " 'images/players/Mikal Bridges.png',\n",
       " 'images/players/Mike Conley.png',\n",
       " 'images/players/Mike James.png',\n",
       " 'images/players/Mike Muscala.png',\n",
       " 'images/players/Mike Scott.png',\n",
       " 'images/players/Miles Bridges.png',\n",
       " 'images/players/Mitchell Robinson.png',\n",
       " 'images/players/Miye Oni.png',\n",
       " 'images/players/Mo Bamba.png',\n",
       " 'images/players/Monte Morris.png',\n",
       " 'images/players/Montrezl Harrell.png',\n",
       " 'images/players/Moritz Wagner.png',\n",
       " 'images/players/Moses Brown.png',\n",
       " 'images/players/Mychal Mulder.png',\n",
       " 'images/players/Myles Turner.png',\n",
       " 'images/players/Nassir Little.png',\n",
       " 'images/players/Naz Reid.png',\n",
       " 'images/players/Nemanja Bjelica.png',\n",
       " 'images/players/Nerlens Noel.png',\n",
       " 'images/players/Nickeil Alexander-Walker.png',\n",
       " 'images/players/Nico Mannion.png',\n",
       " 'images/players/Nicolas Batum.png',\n",
       " 'images/players/Nicolas Claxton.png',\n",
       " 'images/players/Nicolo Melli.png',\n",
       " 'images/players/Nikola Jokic.png',\n",
       " 'images/players/Nikola Vucevic.png',\n",
       " 'images/players/Norman Powell.png',\n",
       " 'images/players/Norvel Pelle.png',\n",
       " 'images/players/OG Anunoby.png',\n",
       " 'images/players/Oshae Brissett.png',\n",
       " 'images/players/Otto Porter Jr..png',\n",
       " 'images/players/P.J. Tucker.png',\n",
       " 'images/players/P.J. Washington.png',\n",
       " 'images/players/PJ Dozier.png',\n",
       " 'images/players/Pascal Siakam.png',\n",
       " 'images/players/Pat Connaughton.png',\n",
       " 'images/players/Patrick Beverley.png',\n",
       " 'images/players/Patrick Patterson.png',\n",
       " 'images/players/Patty Mills.png',\n",
       " 'images/players/Paul George.png',\n",
       " 'images/players/Paul Millsap.png',\n",
       " 'images/players/Paul Watson.png',\n",
       " 'images/players/Quinndary Weatherspoon.png',\n",
       " 'images/players/RJ Barrett.png',\n",
       " 'images/players/Rajon Rondo.png',\n",
       " 'images/players/Raul Neto.png',\n",
       " 'images/players/Rayjon Tucker.png',\n",
       " 'images/players/Reggie Bullock.png',\n",
       " 'images/players/Reggie Jackson.png',\n",
       " 'images/players/Richaun Holmes.png',\n",
       " 'images/players/Ricky Rubio.png',\n",
       " 'images/players/Robert Covington.png',\n",
       " 'images/players/Robert Williams III.png',\n",
       " 'images/players/Robin Lopez.png',\n",
       " 'images/players/Rodney Hood.png',\n",
       " 'images/players/Rodney McGruder.png',\n",
       " 'images/players/Romeo Langford.png',\n",
       " 'images/players/Rondae Hollis-Jefferson.png',\n",
       " \"images/players/Royce O'Neale.png\",\n",
       " 'images/players/Rudy Gay.png',\n",
       " 'images/players/Rudy Gobert.png',\n",
       " 'images/players/Rui Hachimura.png',\n",
       " 'images/players/Russell Westbrook.png',\n",
       " 'images/players/Ryan Arcidiacono.png',\n",
       " 'images/players/Sean McDermott.png',\n",
       " 'images/players/Sekou Doumbouya.png',\n",
       " 'images/players/Semi Ojeleye.png',\n",
       " 'images/players/Serge Ibaka.png',\n",
       " 'images/players/Seth Curry.png',\n",
       " 'images/players/Shai Gilgeous-Alexander.png',\n",
       " 'images/players/Shake Milton.png',\n",
       " 'images/players/Shaquille Harrison.png',\n",
       " 'images/players/Sindarius Thornwell.png',\n",
       " 'images/players/Solomon Hill.png',\n",
       " 'images/players/Spencer Dinwiddie.png',\n",
       " 'images/players/Stanley Johnson.png',\n",
       " 'images/players/Stephen Curry.png',\n",
       " 'images/players/Sterling Brown.png',\n",
       " 'images/players/Steven Adams.png',\n",
       " 'images/players/Svi Mykhailiuk.png',\n",
       " 'images/players/T.J. Leaf.png',\n",
       " 'images/players/T.J. McConnell.png',\n",
       " 'images/players/T.J. Warren.png',\n",
       " 'images/players/Tacko Fall.png',\n",
       " 'images/players/Taj Gibson.png',\n",
       " 'images/players/Talen Horton-Tucker.png',\n",
       " 'images/players/Taurean Prince.png',\n",
       " 'images/players/Terance Mann.png',\n",
       " 'images/players/Terence Davis.png',\n",
       " 'images/players/Terrence Ross.png',\n",
       " 'images/players/Terry Rozier.png',\n",
       " 'images/players/Thaddeus Young.png',\n",
       " 'images/players/Thanasis Antetokounmpo.png',\n",
       " 'images/players/Theo Pinson.png',\n",
       " 'images/players/Thomas Bryant.png',\n",
       " 'images/players/Tim Frazier.png',\n",
       " 'images/players/Tim Hardaway Jr..png',\n",
       " 'images/players/Timothe Luwawu-Cabarrot.png',\n",
       " 'images/players/Tobias Harris.png',\n",
       " 'images/players/Tomas Satoransky.png',\n",
       " 'images/players/Tony Bradley.png',\n",
       " 'images/players/Tony Snell.png',\n",
       " 'images/players/Torrey Craig.png',\n",
       " 'images/players/Trae Young.png',\n",
       " 'images/players/Tremont Waters.png',\n",
       " 'images/players/Trevor Ariza.png',\n",
       " 'images/players/Trey Burke.png',\n",
       " 'images/players/Trey Lyles.png',\n",
       " 'images/players/Tristan Thompson.png',\n",
       " 'images/players/Troy Brown Jr..png',\n",
       " 'images/players/Ty Jerome.png',\n",
       " 'images/players/Ty-Shon Alexander.png',\n",
       " 'images/players/Tyler Cook.png',\n",
       " 'images/players/Tyler Herro.png',\n",
       " 'images/players/Tyler Johnson.png',\n",
       " 'images/players/Tyus Jones.png',\n",
       " 'images/players/Udonis Haslem.png',\n",
       " 'images/players/Victor Oladipo.png',\n",
       " 'images/players/Vlatko Cancar.png',\n",
       " 'images/players/Wayne Ellington.png',\n",
       " 'images/players/Wendell Carter Jr..png',\n",
       " 'images/players/Wenyen Gabriel.png',\n",
       " 'images/players/Wes Iwundu.png',\n",
       " 'images/players/Wesley Matthews.png',\n",
       " 'images/players/Will Barton.png',\n",
       " 'images/players/Willie Cauley-Stein.png',\n",
       " 'images/players/Willy Hernangomez.png',\n",
       " 'images/players/Yogi Ferrell.png',\n",
       " 'images/players/Yuta Watanabe.png',\n",
       " 'images/players/Zach Collins.png',\n",
       " 'images/players/Zach LaVine.png',\n",
       " 'images/players/Zion Williamson.png',\n",
       " 'images/unknown.png']"
      ]
     },
     "execution_count": 40,
     "metadata": {},
     "output_type": "execute_result"
    }
   ],
   "source": [
    "keys = [obj.key for obj in bucket.objects.filter(Prefix='')]\n",
    "keys"
   ]
  },
  {
   "cell_type": "code",
   "execution_count": 30,
   "id": "d3fcaefb",
   "metadata": {
    "ExecuteTime": {
     "end_time": "2021-08-28T02:00:24.843743Z",
     "start_time": "2021-08-28T02:00:24.829749Z"
    }
   },
   "outputs": [],
   "source": [
    "local_dir = os.path.join(os.getcwd(), 's3_temp')\n",
    "for dirname in prefixes:\n",
    "    os.makedirs(os.path.join(local_dir, dirname))"
   ]
  },
  {
   "cell_type": "code",
   "execution_count": 28,
   "id": "acee7c22",
   "metadata": {
    "ExecuteTime": {
     "end_time": "2021-08-28T01:59:31.110920Z",
     "start_time": "2021-08-28T01:59:31.090938Z"
    }
   },
   "outputs": [],
   "source": [
    "local_dir = os.path.join(os.getcwd(), 's3_temp')\n",
    "for dirname in prefixes:\n",
    "    try:\n",
    "        os.makedirs(os.path.join(local_dir, dirname))\n",
    "    except FileExistsError as fee:\n",
    "        continue"
   ]
  },
  {
   "cell_type": "code",
   "execution_count": null,
   "id": "454ad8c2",
   "metadata": {},
   "outputs": [],
   "source": [
    "keys = [obj.key for obj in bucket.objects.all()]"
   ]
  },
  {
   "cell_type": "code",
   "execution_count": 18,
   "id": "b7bdf433",
   "metadata": {
    "ExecuteTime": {
     "end_time": "2021-08-28T01:54:33.833332Z",
     "start_time": "2021-08-28T01:54:33.818372Z"
    }
   },
   "outputs": [
    {
     "data": {
      "text/plain": [
       "'backup'"
      ]
     },
     "execution_count": 18,
     "metadata": {},
     "output_type": "execute_result"
    }
   ],
   "source": [
    "os.path.dirname(keys[10])"
   ]
  },
  {
   "cell_type": "code",
   "execution_count": 19,
   "id": "125e9a70",
   "metadata": {
    "ExecuteTime": {
     "end_time": "2021-08-28T01:54:39.607416Z",
     "start_time": "2021-08-28T01:54:39.600436Z"
    }
   },
   "outputs": [
    {
     "data": {
      "text/plain": [
       "'backup/images'"
      ]
     },
     "execution_count": 19,
     "metadata": {},
     "output_type": "execute_result"
    }
   ],
   "source": [
    "os.path.dirname(keys[50])"
   ]
  },
  {
   "cell_type": "code",
   "execution_count": 16,
   "id": "2d971752",
   "metadata": {
    "ExecuteTime": {
     "end_time": "2021-08-28T01:53:33.913677Z",
     "start_time": "2021-08-28T01:53:33.893224Z"
    }
   },
   "outputs": [
    {
     "data": {
      "text/plain": [
       "['backup']"
      ]
     },
     "execution_count": 16,
     "metadata": {},
     "output_type": "execute_result"
    }
   ],
   "source": [
    "keys[10].split('/')[:-1]"
   ]
  },
  {
   "cell_type": "code",
   "execution_count": 17,
   "id": "6d1c41e0",
   "metadata": {
    "ExecuteTime": {
     "end_time": "2021-08-28T01:53:39.950389Z",
     "start_time": "2021-08-28T01:53:39.931483Z"
    }
   },
   "outputs": [
    {
     "data": {
      "text/plain": [
       "['backup', 'images']"
      ]
     },
     "execution_count": 17,
     "metadata": {},
     "output_type": "execute_result"
    }
   ],
   "source": [
    "keys[50].split('/')[:-1]"
   ]
  },
  {
   "cell_type": "code",
   "execution_count": 12,
   "id": "87685d45",
   "metadata": {
    "ExecuteTime": {
     "end_time": "2021-08-28T01:53:03.407064Z",
     "start_time": "2021-08-28T01:53:03.126467Z"
    }
   },
   "outputs": [
    {
     "data": {
      "text/plain": [
       "['backup/', 'images/']"
      ]
     },
     "execution_count": 12,
     "metadata": {},
     "output_type": "execute_result"
    }
   ],
   "source": [
    "def get_list_of_prefixes_from_prefix(bucket, prefix):\n",
    "    \"\"\"gets list of prefixes for given bucket and prefix\"\"\"\n",
    "    list_of_prefixes = []\n",
    "    paginator = boto3.resource('s3').meta.client.get_paginator('list_objects')\n",
    "    for result in paginator.paginate(Bucket=bucket, Prefix=prefix, Delimiter='/'):\n",
    "        # print(result)\n",
    "        if 'CommonPrefixes' in result:\n",
    "            prefixes = [f['Prefix'] for f in result['CommonPrefixes']]\n",
    "            list_of_prefixes.extend(prefixes)\n",
    "    return list_of_prefixes\n",
    "\n",
    "list_of_prefixes = get_list_of_prefixes_from_prefix('nbaflow-files', '')\n",
    "list_of_prefixes"
   ]
  },
  {
   "cell_type": "markdown",
   "id": "2d462098",
   "metadata": {},
   "source": [
    "___\n",
    "Enviando imagem de jogador por e-mail"
   ]
  },
  {
   "cell_type": "code",
   "execution_count": 81,
   "id": "c12eb020",
   "metadata": {
    "ExecuteTime": {
     "end_time": "2021-08-30T01:25:42.314469Z",
     "start_time": "2021-08-30T01:25:42.297515Z"
    }
   },
   "outputs": [],
   "source": [
    "# Códigos úteis AWS\n",
    "from dotenv.main import find_dotenv, load_dotenv\n",
    "from utils.aws.s3 import JimmyBuckets\n",
    "\n",
    "# Bibliotecas padrão\n",
    "import os\n",
    "from io import BytesIO\n",
    "\n",
    "# Gerenciamento de e-mails\n",
    "from exchangelib import Credentials, Account, Configuration, Message, DELEGATE, \\\n",
    "                        FileAttachment, HTMLBody\n",
    "\n",
    "# Logging\n",
    "import logging"
   ]
  },
  {
   "cell_type": "code",
   "execution_count": 86,
   "id": "a4d13f86",
   "metadata": {
    "ExecuteTime": {
     "end_time": "2021-08-30T01:30:26.960415Z",
     "start_time": "2021-08-30T01:30:26.940466Z"
    }
   },
   "outputs": [],
   "source": [
    "# Variáveis de configuração AWS\n",
    "REGION = 'sa-east-1'\n",
    "BUCKET_NAME = 'nbaflow-files'\n",
    "FOLDER_PREFIX = 'images/players/'\n",
    "\n",
    "# Variáveis de credenciais de e-mail\n",
    "load_dotenv(find_dotenv())\n",
    "MAIL_FROM = os.getenv('MAIL_FROM')\n",
    "MAIL_SERVER = 'outlook.office365.com'\n",
    "MAIL_BOX = os.getenv('MAIL_BOX')\n",
    "MAIL_SUBJECT = '[NBAFlow] Imagem de <player_name> direto de bucket s3'\n",
    "MAIL_TO = ['thipanini94@gmail.com']"
   ]
  },
  {
   "cell_type": "code",
   "execution_count": 87,
   "id": "e236de37",
   "metadata": {
    "ExecuteTime": {
     "end_time": "2021-08-30T01:30:27.475219Z",
     "start_time": "2021-08-30T01:30:27.295695Z"
    }
   },
   "outputs": [
    {
     "name": "stderr",
     "output_type": "stream",
     "text": [
      "INFO;2021-08-29 22:30:27;s3.py;s3;530;Objeto images/players/Damian Lillard.png lido com sucesso e transformado em bytes\n"
     ]
    }
   ],
   "source": [
    "# Coletando imagem de bucket s3\n",
    "jbuckets = JimmyBuckets(region=REGION)\n",
    "player_key = FOLDER_PREFIX + 'Damian Lillard.png'\n",
    "player_img = jbuckets.read_object(bucket_name=BUCKET_NAME, key=player_key)\n",
    "bytes_img = player_img.getvalue()\n",
    "filename = 'Damian Lillard.png'"
   ]
  },
  {
   "cell_type": "code",
   "execution_count": 89,
   "id": "4a760f17",
   "metadata": {
    "ExecuteTime": {
     "end_time": "2021-08-30T01:33:02.324088Z",
     "start_time": "2021-08-30T01:33:00.848962Z"
    }
   },
   "outputs": [],
   "source": [
    "# Coletando credenciais do usuário\n",
    "creds = Credentials(\n",
    "    username=MAIL_FROM,\n",
    "    password=os.getenv('MAIL_PWD')\n",
    ")\n",
    "\n",
    "# Configurando servidor\n",
    "config = Configuration(\n",
    "    credentials=creds,\n",
    "    server=MAIL_SERVER\n",
    ")\n",
    "\n",
    "# Criando e configurando conta\n",
    "account = Account(\n",
    "    primary_smtp_address=MAIL_BOX,\n",
    "    credentials=creds,\n",
    "    config=config,\n",
    "    autodiscover=False,\n",
    "    access_type=DELEGATE\n",
    ")\n",
    "\n",
    "# Criando mensagem\n",
    "msg = Message(\n",
    "    account=account,\n",
    "    subject=MAIL_SUBJECT,\n",
    "    to_recipients=MAIL_TO\n",
    ")\n",
    "\n",
    "# Anexando imagem\n",
    "img = FileAttachment(\n",
    "    name=filename,\n",
    "    content=bytes_img,\n",
    "    is_inline=True,\n",
    "    content_id=filename\n",
    ")\n",
    "msg.attach(img)\n",
    "\n",
    "\n",
    "html_image_body = f'<img src=\"cid:{filename}\">'\n",
    "msg.body = HTMLBody(html_image_body)\n",
    "msg.send_and_save()"
   ]
  },
  {
   "cell_type": "markdown",
   "id": "2c182880",
   "metadata": {},
   "source": [
    "https://jdhao.github.io/2019/07/06/python_opencv_pil_image_to_bytes/\n",
    "\n",
    "https://mailtrap.io/blog/embedding-images-in-html-email-have-the-rules-changed/\n",
    "\n",
    "https://stackoverflow.com/questions/7755501/embed-picture-in-email\n",
    "\n",
    "https://stackabuse.com/encoding-and-decoding-base64-strings-in-python/\n",
    "\n",
    "https://stackoverflow.com/questions/6706891/embedding-image-in-html-email"
   ]
  },
  {
   "cell_type": "code",
   "execution_count": 69,
   "id": "ca841a4e",
   "metadata": {
    "ExecuteTime": {
     "end_time": "2021-08-30T00:57:00.149422Z",
     "start_time": "2021-08-30T00:57:00.003440Z"
    }
   },
   "outputs": [
    {
     "data": {
      "text/plain": [
       "<botocore.response.StreamingBody at 0x21fb0e69880>"
      ]
     },
     "execution_count": 69,
     "metadata": {},
     "output_type": "execute_result"
    }
   ],
   "source": [
    "s3_client = boto3.client('s3')\n",
    "obj = s3_client.get_object(Bucket='nbaflow-files', Key='images/players/Damian Lillard.png')\n",
    "obj['Body']"
   ]
  },
  {
   "cell_type": "code",
   "execution_count": 65,
   "id": "c261db9f",
   "metadata": {
    "ExecuteTime": {
     "end_time": "2021-08-30T00:52:10.538895Z",
     "start_time": "2021-08-30T00:52:10.519910Z"
    }
   },
   "outputs": [
    {
     "data": {
      "text/plain": [
       "b'\\x89PNG\\r\\n\\x1a\\n\\x00\\x00\\x00\\rIHDR\\x00\\x00\\x01\\x04\\x00\\x00\\x00\\xbe\\x08\\x03\\x00\\x00\\x00\\xe4\\xf0\\x81\\x9f\\x00\\x00\\x03\\x00PLTE\\x00\\x00\\x00\\x94lU\\x9cmP\\x19\\x18\\x18;77-36\\xec\\xed\\xf2\\xf1\\xf2\\xf78@F*,,\\x8a\\x9c\\xa7W)\\x13\\xa7~f\\xe5\\xe4\\xeaC74\\x1b\\x1d\\x1c-10\\x1f#$\\x1e!\"\\x15\\x14\\x13\\xe2:9KA=010\\xe9LK\\r\\x0e\\x0eE/(s]Sw\\x83\\x93\\x8fjVjN?`L@]afV?0sP:wy\\x7f=0+h\\x14\\x1c\\x81\\x8b\\x9e\\xf0\\xf1\\xf6\\xef\\xef\\xf4\\xed\\xed\\xf3\\xeb\\xeb\\xf1\\x02\\x02\\x02\\x07\\x06\\x06\\xe9\\xe8\\xee\\xff\\xfe\\xff\\x0b\\x0b\\n\\x99^<\\x90W6\\x1b\\x13\\x10\\xf3\\xf3\\xf8\\xe2\\xe2\\xeb\\xe0\\xdf\\xe7\\xa2fB\\xb9}U\\xc2\\x84V\\x98bD\\xbd\\x80W\\x11\\x10\\x10\\xa0iJ\\x9db@%\\x1a\\x15\\xb0vQ\\xa5mM\\xb5zU\\xe5\\xe5\\xec\\xaanH\\x87O-\\xc0\\x84\\\\\\xdc\\xdc\\xe5\\x9cfG\\x89S4\\x93_A\\x90[>\\xd9\\xd9\\xe3\\xc5\\x89b\\xb1rJ\\x89W<\\x96[7\\xacqM\\x80I\\'\\xc6\\xc4\\xca\\xb5uN\\xabsR\\x81R8\\xf144\\xd2\\x96h\\xbaxLzM3\\xd7\\xd6\\xdb\\xca\\xc9\\xd0\\xc9\\x8a\\\\\\xc0~Q\\x8a]F\\xe4#,- \\x1bsK5\\xc5\\x88Z\\xa7kDc@+F/#\\xcf\\xcf\\xd6\\xb8\\x80^vQ=\\xcc\\x8ef\\xdc\\xdb\\xe0\\xcb\\x8f`iL<\\xb0lE\\xdc\\x1e+=)\\x1f\\xbd\\x85e\\x91bHjF3\\x81M/Y>0sF,t@ \\xf8\\xf8\\xfc\\xb1|\\\\VVX\\xf5>:\\xd4\\x1a)7\"\\x17\\xea*0S8*zE$\\xd8\\x9am\\xae\\xae\\xb5\\x94fN\\xc1\\xbf\\xc3\\xd6\\x9dv_E6\\xba\\t\\x1e\\x80^IlA(\\xb6qH\\x83WAe8\\x1c\\xa3mT\\xa6iH[:&Q2!\\x8eS.\\xc8\\x18\\'\\x9as\\\\I5*\\xd1\\x98q\\x8bdM{XBK+\\x18\\x13\\x0b\\x08EIM\\xcc\\x93l\\xaerY3)#\\xc3\\x8dkm<\\x1e\\\\4\\x1b\\xa4tXPD><0*B#\\x13\\xd3\\xd4\\xe0\\xbcwT\\xabgA\\xa2a<M=3\\x97\\x97\\x9e\\xb2\\x82g\\xa9x^+-1/\\x1a\\x10\\xb7\\xb5\\xbb\\x9f\\x9e\\xa5\\x89jW<AEMOS\\xf6\\x11\\x11_`c[NE169\\xde\\xa3vsYJ\\xa8\\x0b\\x17\\xe1\\n\\x14\\xb5\\xb8\\xc4\\xa8\\xa5\\xabjTF>;9\\xc7\\x81Z%%\\'\\xf5\"%\\x8d\\x8f\\x99\\xfd.3gYR\\x91\\x06\\r\\xb6\\x8bt\\xd3\\x8fckko\\xfe>=waR\\xd2\\x87~uu{\\x8cqb\\x83dR\\xbb\\xbf\\xcb\\x83\\x87\\x93\\xe4\\xac~\\x9a|i\\xb3\\xd5\\xd9\\xc3\\x97y~\\x80\\x87wg_\\x90\\xaa\\xb6\\xd2\\xa4\\x85\\xcb\\x02\\x14s\\x04\\x06\\xe4\\xc2\\xa8\\xdd\\xb2\\x99\\xb8xf\\xc8?>\\x04iD\\xa0\\xa7\\xb5\\xa4\\x84t\\x96\\xb8\\xc4\\xed\\xd9\\xc2\\xa2\\xbd\\xc1\\x9eeS\\xa7\\xc8\\xcf\\xcamn\\xae//\\xb6\\x00\\x07\\xc4\\xa9\\xa5\\x8e\\x89\\x8c\\x00E!\\xdc\\x9d\\x90\\x87vo\\xc0]T\\xf8\\xec\\xd9\\x18(+\\xba\\x9a\\x97\\x1f\\x80b\\xb1QC\\x8e0)\\xb1\\x84\\x8e\\xdbb_\\x9bCC\\xbc\\xe0\\xe6\\xcc\\xbc\\xb7\\xae^g\\x7f&!o\\x9c\\x96\\x84\\xbc\\xacn\\x80\\x8bR\\x8f{\\x943\\xef\\xe8\\x00\\x00\\x00&tRNS\\x00\\xfe\\xfe\\xfd<#\\xef\\xef\\x12Q\\xfc\\xfe\\xfe\\xef\\x86\\xb0\\xa5g\\x87\\xcf\\xfdj\\xd0\\xfc\\xe1\\xc5\\x96[\\xcd\\xb4\\xed\\xee\\xee\\xe6\\xe4\\xe4\\xb9\\xb5\\x8fd1Q\\x00\\x00\\x01\\x01iTXtXML:com.adobe.xmp\\x00\\x00\\x00\\x00\\x00<?xpacket begin=\"\\xef\\xbb\\xbf\"?><r:RDF xmlns:r=\"http://www.w3.org/1999/02/22-rdf-syntax-ns#\"><r:Description xmlns:x=\"http://ns.adobe.com/xap/1.0/\"><x:CreateDate>2020-12-16T15:11:55-00:00</x:CreateDate></r:Description></r:RDF><?xpacket end=\"r\"?>\\'D\\xfd\\xf9\\x00\\x009\\x8aIDATx\\xda\\xec\\x98M\\x8b\\x12q\\x1c\\xc7ema\\x97\\x0e\\xb6y\\xd9\\xd7\\xe0\\xc0<\\x1cf\\x9b\\xe6ACc\\x1e\\xc8Q\\xd1!\\x85\\nM\\xa5\\x8d\\x90\\xb2)\\xe9 \\x19Q\\x90\\xa9\\xb5\\xf4\\xe4@\\xa5\\xc1\\xa2B!t\\xeb\\xb8\\x9d\\xbau(:t\\xe8\\xd2K\\xe9\\xfb\\x9b\\xed\\xe9%4\\xd3~\\x9b\\xf97\\xeb\\xee\\xe5\\xf7\\xf1\\xfb{\\x9a\\xc8\\x81\\x0et\\xa0\\x03\\x1d\\xe8@\\xff\\x98\\xd6\\xd6\\x0e\\xad\\xaf\\xad\\x1f=\\x14\\xf9O\\x85\\xd8\\xe3\\x9b\\xd1(\\x93`\\x13\\ty3zt}u-\\xf2\\x7fiu#\\xce2\\x89\\x04Cw\\xe2\\x97\\xa2\\xb1\\xff\\xc9\\x11\\xeb\\xb1(\\x82\\'\\x02\\xac\\x0f\\x828\\xe0 G\\xc4V#\\xff\\x85\\xd67)d\"\\xc0\\x10\\x00\\x16\\x96\\xf8\\x05\\x81t$\\x12~m\\xb0\\x14\\xf0~\\xfc\\x0c+\\xfb8 \\xfa\\x99h\\xe0\\xda\\x0c}m\\xd8\\xa48!\\x99N\\x96X\\xe0\\x99\\xa5\\'\\x1f\\x8a\\x8fA\\x0e\\xb7\\x19V\\xe3~\\xd4\\xb8qA\\xc8\\x05\\x96\\x80\\xb0\\xc4\\xe1wu\\x80\\x19\\xd6#\\xa1\\xd5:\\xc2\\x96e\\xbf\\x0e\\xec\\xdb !\\xcbt\\x12\\x17\\\\\\xf41\\x89\\x00\\xc5\"!U\\x8c2\\x9f\\x82\\x06\\x01\\x04O\\x18\\xf0\\xbf\\x1f\\xbc\\x8cg\\x82\\xf3\\xbb>$\\xe2\\xa1l\\x13\\xab\\x98\\x8b(XD\\x8d\\x83\\x91\\x89\\x87\\xff\\xe4y,%\\x04~\\xf9W\\xa6\\xc0$!\\xa4\\x10#\\xef#tHf\\xfdR(x\\xb0\\x83\\x80\\x84\\xf0<\\x8fa=\\x86\\x11X\\xdf\\n\\xc0\\x84\\x83\\ta\\x97Xe |\\xedQ\\xfa\\xc6\\x05\\x01\\xa5A\\xf6<\\x01$d\\xfaT\\x06\\x0bO\\xa0|\\xf8S7CH!\\x86\\xf8\\xa8\\x19F\\xa3\\tV\\x80^T\\xa3\\xb2\\x9c\\x10^\\xbcxQ\\xbdv\\xb7\\xd9|\\xdc\\xac\\n\\x1aJ\\x83L\\xf9\\x01\\xfd\\xac\\x96\\xe1j\\x12\\x9b\\x94\\xfd22\\xc0\\x13\\x04|\\xe7\\xd5&\\x82\\xae^\\xdb\\xae\\xddo\\xb7\\xdbRJo;\\xce\\xf6\\xd5&(\\x00\\xc1{\\xe1\\xa7!\\x08C\\x98(\\x1ced\\x82 x\\tM\\x93\\xab\\x8cv\\xed\\xc1\\xb5\\x9b7\\x9f\\xadl)\\xa6$\\x8eD(g\\xd9\\x96\\xbd\\xfdx)T58\"\\xc1z2\\x0eP\\x88\\x86\\xa7:n$|\\x04r\\xb5\\x8a /_{X\\xbb\\x7f\\xf5\\xfe9]\\x92$\\xdd\\xd1\\xc5\\x05\\x97S\\xb9\\x1co\\xd8<gW\\xdcJc\\xacU5F\\xa6\\xe6A\\xfbU<\\x12\\x12m0\\xd4\\x1a\\x11\\xbfV\\xed>\\xdc\\xb6m\\xb3m[\\xba\\xa2[\\x92\\xa2H\\xa2\\x9a\\xe385\\xc7\\xefd2n&\\xc3\\x03Fe:mt\\x05\\x01\\x99\\xe3\\xefXG#\\xa1\\xd0!B {\\x9a 4\\x1b\\xd7j:\\x8c/q\\xa2hI\\xa2\\xa2;\\x12\\x07\\x04*\\xc7\\xe5v\\\\\\x17\\x10H;\\xbc\\xeb\\x1a\\x0f\\x96\\x84\\xc1\\x9f\\x9e\\xc2\\xf1\\x8e!\\x0e#\\x08\\xd5\\xaa\\xb6l\\x9c3-\\xc3\\xb0x\\x1eq\\xf3\\x86*\\xa9\\xbc#\\xa9*\\xbc@\\xda\\xa1\\xf83\\x05\\xfft\\r\\xbb\\xd1\\xed\\x82\\x02\\xeac8\\x12b\\x83AW\\xd0\\xba\\xcd\\xcb5\\xc51x\\x83\\xe7y3\\xc7\\xe5,\\x8e3-\\x0e\\x08\\xeaiq\\x91\\xcb\\xc1\\n\\xfc\\x0eq\\xc8\\x14\\n\\xb83\\x86\\xebN\\xba\\x9a\\xc0z,\\x13\\x865bU\\x96\\xa9\\x1c4\\x1c\\xdbr\\\\ \\xb0\\x101e\\x00\\x04\\x13,\\xe6\\xad\\xd6|\\xbeX,\\x00\\x81\\x87\\x07p\\x11\\x057\\x83\\xec\\xe8\\x8c\\x97T\\x18\\x98\\xe0\\xbffY\\xdb\\x94eA\\xab>tL\\xdep\\xe1\\x02.\\x87\\xd8\\x15\\x10\\xc8\\xa9\"b\\x17\\x01\\x810\\xcc\\xc5\\x1c\\x8a\"\\xb9\\xc1\\xb7\\x83\\x0b+\\xdc\\xebL\\xa6\\xbbK\\x8f\\tA\\x878\\xca\\x82Aw\\\\\\xb1\\x0cw\\xbf\\x1cHzJ!\\x1f,\\xc4\\xf4\\xbc^le\\xfb\\xfdr\\x7f\\xde\\x12\\x17\\xa2\\x8aj\\t\\x87\\xec\\xf7\\t\\xdc\\x9dNg\\xd2\\x9b\\x80\\x02\\xc3lD\\x82\\xad8\\xcbV\\x85\\xee\\x03\\xc74@\\xc12%\\xb4\\xc5|\\x1eN\\x10G\\xe9\\xfc\\xd6\\xd6lv\\xfcl\\xb9\\xdf\\xef\\xcfEq\\xa4r\\xea\\x08\\x14\\xf8\\x9c\\x85\\xca\\x01\\x08\\x85^g\\xd2\\xe9\\x0c\\xba\\xe8\\x10\\x9b\\x91@\\xeb\\x10*\\x82v\\xf9a\\xc5\\xb6m\\x87\\x18(\\xba\\xae\\x9b\\xfaHJ%O\\\\H&\\x8b\\xb3\\xe3\\xc7g\\xe520\\x94\\xb3\\xf9Q]\\xe4\\xa8B\\xf2\\x90\\x81| \\x08\\x93Ig `l\\nv\\x9b\\x8c\\xc9Q\\xf8\\xe0\\xaam\\x196\\x18\\xd0\\x90\\x9cJ)\\xc3\\xd2\\xf3\\x0bI}\\x94\\xcd\\x16g\\xfd~\\xb1|\\xb6\\x8f\\xaa\\xb0he\\xd3\\xe9t]U\\x01\\x01\\x97\\x81\\x84\\xe8\\xf5z\\xc8\\x88\\x81\\x86\\xb5#\\xd0\\x13\\x13Z\\x83\\x0c#\\\\7M\\x8b\\xb7M\\xd3\\xd4\\xc1`x\\xe3\\xf9\\xf3\\x1b\\xc9\\xb4(fg\\xb3b\\x16\\x0c\\xce\\xee\\xcd\\x08\\x03R\\xa2\\x9e\\xc5\\xe7\\xa8\\x17<\\x84F\\xd9#\\x0c\\xa8\\n\\x01/\\x8d\\xfb\\x10nn\\x9b\\x96\\x85\\\\0M%5\\x1c\\x0eS\\xa9\\xd4(=\\x1a\\xa5\\xb3\\xb3b\\x11\\x1c\\x08\\xc3\\xec,\\x01I\\x83B\\xbd\\xeeWGT\\x06\\xe4\\x03\\xfd\\xebL5\\x8f\\r\\xf4N\\xbd\\x81l\\xd0\\xbaw\\xef[\\xb0\\x02\\xedK\\xcap\\xa8\\x10\\x82\\xf4H\\x04\\x84\\xf2\\xec\\xf8\\x0c*\\x17\\x8b\\xc5>\\x1e\\x8bi\\x14\\xcbz\\x9d\\x86\\xe8\\x9cA[D\\xc1\\x870\\xd8\\xd5\\x98D\\x90\\xfbC\\x0cs\\xd2\\xe5f\\x03\\xdb\\x82\\t#\\xe8p\\x01i\\xa4\\x8cJ\\xa5d>\\xb9u\\x12\\x10\\x8aPv>\\xcff\\xd3\\xf9|:\\x9d\\x07\\x1e\\x15\\xb3\\x04o\\xa0\\x9b\\xb8\\xa0\\x80\\xb20\\xd6\\xd8@O\\x8dq\\xd6\\xebv\\x9b\\xf7,\\x1d\\x0c,\\x13>\\xd0S\\xa5T\\xaa\\xa4\\xe0\\xd2G\\x14r\\x96&F\\xdcYL\\n\\xaa(b\\x94\\xd4\\xc1\\xc0\\xe4x\\xd7\\xc8\\x14\\\\L\\x8f\\x05@\\xa0M*\\xb8\\xfda\\x15\\x83\\x12\\x8cPk+\\x12YAG\\xfcCe\\xa8H:g\\xf041\\xa6\\xb3i\\x8a\\xbf\\x85y\\xa95\\x17\\xebj\\xce\\x80\\x03x\\x92\\x911\\x8c^\\xc1Wo\\x8aM*\\xc0\\xaf\\x98\\x8e\\xb2X\\x9c\\x1e\\xd4\\x1aVJGM\\xc0\\xa4\\x94\\x1a*x\\xa2\\xa4\\xe7 \\x11\\xe32!\\xe8\\x17gY4I\\xca\\x03\\xea\\n\\xc4\\xc1\\xa0\\xee\\xd0\\xe9\\x15\\xc8\\x0b\\x83]\\xc1\\x0b\\xf0\\xfe@%\\xe1a\\xad\\xf1\\xc0D\\xe4\\xa6e\\x9b\\xd2J\\xbb\\x8dq\\x89\\xd6\\'x\\x7f\\xe1\\xab\\xe5S(\\x12\\x05N\\x05\\x1dB\\x80\\x1b\\r\\xc2\\xed\\xf4\\xc8\\x0c\\x99\\xc1x\\x89\\xd7\\xf5\\x81}\\xf3\\x1cg\\xabM@pR\\x12z\\xa4\\xe3H\\xba\\xdeVP\\x1c\\xd1\\x1aF\\xd9\\x162\\x01\\x81/\\xe0\\x06<\\x14\\x8b8\\xe8G\\x95\\x96m\\xbcP\\x80`\\x05\\xc2\\x90\\x99\\x8ew\\x056\\xb0\\xefV\\xd6\\xa2r\\xb5y\\xf3AEQ\\x14\\xf8\\xa0b\\xdf^Y\\x19\\xbe*\\x95J\\xa9|>\\x99E[l\\x91\\xe6Da\\x0e7\\xf4[\\xf8\\x00\\xe5\\xd1\\xef\\x0cH\\x03\\x9a\\x9b;\\x9dBfg2\\xeev\\x97\\x81m\\x92k\\x18\\x99\\x9bWk\\xe7\\x14E\\x02\\x83\\xca\\xb9\\xdb\\x8a\\xf2\\xa64,\\x95\\xf2h\\x8fEl\\r}\\n\\x1d\\x00p\\xfcy\\xaa\\xa3>\\xe6x\\xbf?v\\xf6!t\\xa6\\xd3]-\\x11\\xd4\\xc9y\\x9d\\xea\\xe26\\x92 %YN\\xed\\xfe9Z!S4 \\x9c\\xd8:u\\xea\\xe2\\xc5\\x8b\\'\\xb1B\\xfaK$\\xcer\\x1f\\x9a\\x1d\\xdb\\xdb*b\\x87\\x10U\\xbc\\x82w\\xdd\\xded0\\x01\\x84\\xccdww\\x19`\\x08\\x02\\xfa\\xa3\\xa5\\xeb\\xc8\\x86J\\xcd6\\x89\\xc1\\x89\\x13\\x17.\\xbc|\\xf9\\xf2\\xce\\x93\\'\\xb8.\\x9e9\\x7f\\xe9\\xcc\\xd9\\xb3e,\\xd4\\xd0\\xf93\\x00sj\\x0b\\x7fQ\\xca\\x8fF\\x92i;\\xf7\\xa6\\x83\\x1eYa<^\\x06v\\\\\\x82\\x13n6\\x1c\\x13V\\x90\\x9c\\xab\\xf7Wn\\xdf~\\xf5\\xe6\\xf5\\xcb/_\\xbe\\xbc\\xf9\\xf0\\xed\\xeb\\xd7\\xafwHON_\\xda\\xdb\\xdb;\\xb3\\xb7w\\xe9\\xd2\\xe9\\'\\xa7\\x81\\xe5\\xd4\\x97\\'/_^\\xb9r\\xe1FR1Mgpx\\xd2+\\xec\\xf4\\x06c\\x8d\\t\\xea\\x0eu\\x88\\xd5\\x1e\\xd6l\\x0b\\x14\\xac{\\xdb\\xc3\\x95\\xa7o\\x1f}\\xfc\\xfc\\xe1\\xc3\\xf7\\x0f\\x9f\\t\\x82\\x8f\\xe1\\xd3\\xbb;\\xa7/B\\x97.>\\xb9\\x05\"\\xe4\\x8e\\xaf_\\x81\\xe9\\xf5\\xeb\\x1b\\xafV\\xda\\x96\\xe9\\x1e>L]\\x12\\xfd!\\xb0/V~po.\\xaf\\x89\\x9da\\x18W\\xdbBKB\\xaf\\xb4\\xd0a\\xdaM\\x17\\x85vq\\xcc\\xc2\\xa3\\xa7Z=\\x18\\xf1\\x82\\xb7\\xa0\\x87x@eL\\x14\\x95\\x18\\xe2\\xbd)\\x84DD\\xd1x\\x89\\xc1\\xc4\\x18b\\xa3I\\xc5d\\xd0\\x86f3\\xa4\\x9b\\x19\\xbb(Z\\x06f %\\x94\\x81d\\x16!\\xb8\\x99.\\x1aB\\x17ev}N\\x16\\xbd\\xfc\\t\\xa7o$$$\\x1b\\x7f\\xe7\\xfb\\xde\\xef{\\x9f\\xe7\\xf1\\xd5/\\xbe\\xf4y\\x18P\\xd02\\xdet\\xb5\\xf6\\xf4\\xc9\\x93\\'?\\xfd\\xf4\\xf0\\xa7_\\x1f\\xffr98\\xdb\\xe5\\xde\\xf0\\xe9i&5\\x8d\\x1a\\x0e3\\x99\\x93\\xd4\\xe6\\xce\\x0e\\x00\\x0c\\xaa\\xc7O\\xf1\\x95\\x0by\\x02nCq\\x8c\\x1b%\\x8bc\\xedm\\xbe^\\x14^{\\xe5\\x9bJ\\x9e\\xe1\\x86h\\xcfV:\\x90=\\xfe\\xe5\\xc9\\x93\\x07\\x0f\\x1e=\\xda\\xdf\\xdf\\x7f\\xfc\\xa4\\x9a\\xee\\xed\\x1a7\\x01!\\x03\\x0c\\xa9\\xe9\\xe1t\\n4\\xfc{\\xe3\\xd5\\xad\\x87\\xd9\\xfb\\xf7\\xefo\\xc4\\xb3\\xa1@4Z`\\xc6\\x8aX\\t\\xcd\\xb1\\xa5\\t\\xbef6^\\x7f\\xe5\\x9e\\xcf\\xcbBJ0{\\n\\xf1\\xd0\\xc3_\\x06\\x97\\xa8\\xc7\\x8f\\xf6\\x1f|{\\xff\\xf1\\xf1\\xb8p\\xcf\\xe8\\x9c\\xce\\x9c\\x00B\\nKan\\xce9\\xa7)\\xd5\\x9e\\x86\\x1e<x\\xb0\\x7f\\xff\\xdb\\xfd\\\\.\\xb0\\x95\\xcb\\xb6\\x98\\xfcX\\x92\\xd3\\x14\\x8ex\\x0bA\\xf0\\xde7>/\\x03\\x088\\x1fs\\xbf\\x8c\\x8f?\\xe3Z\\xc1\\xd9\\xe5\\xe3\\x87\\x0f\\x7f\\x10V\\xbb\\xdd\\x1e\\x8d\\x13a\\'\\x83e\\x00\\x08N\\xc7\\xaaI%\\x12\\xe6~\\xf8\\x01\\x0b!t<\\x18\\x8c\\xf7\\xf6\\xf6\\x84\\xdeb\\xac\\x95D\\x15\\xdb\\xdb\\xaf\\xf0t;\\x08\\xde\\xfe\\xb2\\xe2ea\\xc0\\xb2\\x81tw\\xb0{\\x86N\\x88\\xd7i&\\xbcH\\x1b5\\xb4\\x9fT\\xce\\x1f\\xacJ3;.\\x1c\\x0fR\\xd7\\xfc!!Q\\xed\\x89D\\xb5Z\\xad\\xb7\\xbb\\xb3\\xb9\\xb3\\xbb\\xb9\\xbb\\xe8\\x17\\xad\\xe5\\x8b\\xc9\\x95f\\xb2\\xb9\\xb4\\xcd\\xd7\\xd3A\\xf0\\xce=_\\x94e\\xccf6P\\xf3\\xef\\xec\\xecl\\xa2\\xfd?;=I\\xa5RC\\xa9\\x8d2R\\xb4\\tCtj\\x87\\xea\\xbb\\\\\\xab\\x07``U*i\\xa5\\x95\\x9a\\xe3\\x0e\\x0c`0\\x1a\\xfd\\x8b5o\\xab9\\t\\xc9\\xf9h\\x9b\\xaf\\xf7\\x04\\xc1k?\\xfa\\xbc\\t\\xc6\\xc0\\x04D\\xa5\\xc5\\xddM`H\\x9dd65\\xa4MIS.*\\x1c\\xd6P\\x90\\xdbg\\xa6\\x83R\\xe8\\xcd\\x18\\'\\x1d$EQR\\xe74*\\x15\\xd48\\x83\\xd3s\\x1aRe.\\x16\\xa7\\x92\\xc5\\xd6\\xd26_g\\x074\\x85\\x05\\x0e\\x02[\\xb0/\\xfa\\xf1hS\\xd3J\\x99>\\xad\\xd7M\\x9a\\x19F\\xaf\\xd4\\xecj\\x1c\\xd2\\xbeK\\x13\\x0c:\\xa5\\x0e\\xccQ\\x0e\\x07\\xa9\\x91\\x9a\\xd4J\\xbb\\xd5J\\xfa5\\x9a\\x99\\xb99\\xa9\\x94T\\xcb\\x12\\xc5\\x95\\x15@\\xe0m_\\xc4\\x9dq\\xc1\\xeba\\x18Fk\\xf7\\x1b\\xb1\\x0ch\\xb6\\x950\\xe7\\xbc\\xad\\xb1\\xbc\\xbb\\xc0\\xb0\\xaapc\\x1e\\x97e\\xe3&n\\x8d\\x8e\\x038\\xb3&\\x92\\xb4\\x98\\xd3\\xd5\\xb4\\x81\\xe0\\x8c\\x87\\xf5Y\\xe7\\xdc\\x0ce\"b\\xcd[\\x08\\xbcm\\t\\xa8\\x0f\\xbc\\t6aV.\\x02B\\xb0\\\\l%Z\\x95\\x89G\\xdf}\\xf1\\xed\\x91wE\\x9fn4fW\\x1d\\x0e\\xe9\\xe6\\x8e\\xd3\\xb9jY?<\\x9c5\\x89\\x0b\\x97\\x83\\xae0\\xdf\\xcc\\xb3\\xcd\\x95\\xb1\\xb1Ij\\x8e\\x9c%\\xc4+Il\\x87#\\xfe\\xcak\\x02\\xc1\\xfbY@\\xd0\\xc3s\\xa3(\\xb9\\'?\\xd6\\xde\\xff\\xed\\xf3_\\xbf\\xfe\\xee\\xa7o_\\x1e\\x17\\xf4r\\xb9\\xe4`\\xd5!\\r\\xe2xp\\xc0\\x9a_\\xb7\\xe8\"\\x03\\x15S\\xd9\\xffq\\xe2\\xfeD\\xbb\\xb5R\\x1c\\x9b\"I+$W@X\\xe3m[\\x14\\x08\\xde|\\xf3\\xa3\\xac\\x87eU\\xa4\\x92\\xb6\\xab\\xb4l{\\xfb\\xfe\\xcbO\\xf7\\xb7\\x8f&\\x8e.\\xaf\\xcf\\x85\\x9e\\x82X\\x01\\x05\\xa1c4\\xc2|!`\\xc9\\xaf\\xb0%\\xc3\\xd3\\x97\\x8f\\xbe\\xfe\\xfa\\xbb\\x9f?{\\x1cj\\xd7\\xc7\\x9a\\xeb&\\x13\\xfe\\x80\\x89\\xba\\xf2\\xe1\\xdb\\x1f\\xf2\\xf4\\x9e\\xf0\\xaa\\x81\\xc8\\xc7=y\\xd6J\\xd1j\\xad\\xb9\\x10\\xf5\\xad1\\xd5\\x9b\\xcb\\xa3\\xa3\\xa3\\xe5j$\\xc6fCi\\x05\\x0c\\xfay\\x8d\\xd1\\xe1\\xa2\\x0e9E5\\xe1\\x8d\\xbe\\xb8\\xfe\\xfe\\x1e\\xfe\\xe1\\xcb\\x17/\\xb2GGc+\\x96C\\xb4\\x07@\\xf0U\\x92\\xc57\\x05\\xbc\\xac\\xf7\\x19\\x96\\x89\\xe6\\xf3\\x065I*\\x98\\x80\\'\\x9a` \\xa3\\x8f./\\x852\\xb1\\xd9 \\x12\\x1eG\\xa0\\xa6\\x1er\\x10\\xfa\\x9a\\xf9\\xf5d2\\xe6YK\\xb8\\xb5\\x83\\x07\\x13G\\xdb\\xc7\\xcf\\xaa\\xecZ\\xbb\\x9e\\x8cM\\xae[\\xd0\\x14\\x9a\\xf5\\x84e\\x8a\\xaf\\x10<\\xac(\\xba\\x96(+\\xe9\\xb2\\xd9\\xedf\\x18\\x9dY&\\xb7w\\xcf\\x06=\\xad\\xbe\\x10I\\x8f\\xd2\\xe2I\\x1d\\xa1\\xee\\x04\\x83\\x1d\\x97\\xc6d\\x81\\xdf\\x96w\\x8bJ\\x8d\\xb2U$\\x14\\xca!\\xb7\\'\\x8aE8\\xf3\\xeb\\x04\\xb6C\\xb3\\xce\\x1e\\xae\\xf3\\x14\\xc2\\x1d\\x99[\\x1b\\xf5&\\x14V;\\x97J\\x90A_\\xb5\\xd2\\xfepxQk\\x8e\\xa4\\x85\\xe9\\x88\\x1e\\xb9\\xc5r\\x07\\xf7\\x84~\\x9f2I\\xc4S\\xcd&\\xab\\x1f\\xa5K4m\\x0c\\xabd\\x84\\x98\\xe3\\x00]\\x89\\xc0!Y\\xac3\\x96\\xd8\\xfb\\x02^\\xd6\\x9d\\xbe6\\x10\\xcf\\xc7\\xb4v\\x95\\x1c\\x16\\x14\\x00\\x18\\xc3(\\xda^\\x1a\\x95F\\xe9\\x88\\x9c\\xd0\\xe9\\x144\\x85\\xc6\\x08\\x08eB?\\t\\xe1@\\x17\\x19E\\xb4\\x80\\x85\\xa4\\x02\\xc1\\x95E7)\\xc6!Yl\\xe7\\xa7\\xd6y\\xaa\\xb9\\xdfY]\\x8f.\\xe7\\xf5v\\xbb\\\\\\xa6\\x8f\\xf85FT\\x18\\xe1\\x84R\\xa9\\xd1h\\xd0~\\xabxRl\\xf5\\x93\\x1a,\\x84NG\\xcd]\\x8f&\\xd7\\t\\x02\\xc6\\xb5]^\\x96\\xc0\\x9bQ+\\x95\\xcaY\\x89X\\x07\\xe5\\xb9X\\xaf\\xaf\\x1c\\xf2\\x14\\xc2]\\x0b\\x11]N\\xc8\\xec2\\x83\\xdc\\\\\\x82r\\xa8\\xf1/\\xd2v;\\x08\\xf8\\x83\\xc6\\xb0_\\xa6\\x13Kh%I\\xf5)8\\xd3e\\x98\\r0\\x9b$65\\'H\\xd3\\xb4\\x92\\xb3\\xac)\\xbf\\xcd\\x84\\x0c\\x93n\\n\\x10\\x92b\\xbeB8\\xf0\\x07*\\xac^\\x0e\\xb9\\xd9\\xee\\xf7\\xd3J\\xdaj\\xb5\\xe3\\rj\\x82;F\\xda\\xae\\xb5(\\x14e\\x1b\\xddA\\xc1\\x80PpO\\x1c\\xdbAB\\xd3V\\xad\\xa2\\xac\\xa4H\\x92\\xa2)\\reEl\\xe5\\x16B\\xcc\\xc0W\\x08\\xd4t`\\x995\\xc8\\xec%\\x0c\\x0f\\x1a\\xa5\\x8d$m$\\x85=\\x114bb.\\xdbljnr\\xee\\xf4\\xfb\\xf0\\xe0\\x14\\n\\x9d\\xee6\\xabD`\\x9eV#\\xe8\\xaa\\xb6\\xe1\\x7fIZ\\xa90\\xc0\\x94k\\xd6\\xeb\\x06=_!\\x047\\x01A\\'S\\xc9\\xb9@\\x06z\\x02$\\xb4 \\x06\\xea 8\\xe0\\xbb\\x1f\\x1bC\\xd9\\xa1\\xd0\\x12l\\xf3\\xe52\\xdcz\\x85Zi\\x95\\xc0r\\xa0\\xc9Y@@a\\xa4,\\xdf\\xda\\xd3cm\\x89\\x9e\\xa7c\\xe4\\xdd\\x13@H\\xe8\\x0cZ\\x95\\x12J\\xc1\\xcc\\x8cs\\xc69\\xe4\\xe4\\x12\\x0c\\x8e;\\xc10\\xddCt\\xc7O\\xa1+\\xe2uP\\x96\\xeb\\xccfB\\xad\\xc1\\xe3\\xb7\\xaam4\\x92L\\x98*m\\xb4Ub\\xe1 \\xb4\\xda6\\xa1\\x80\\x9fu7e\\x0cq\\x10\\xe4h\\x7f\\x0ejf.\\xe8\\x1c\\xc2^\\tB`\\x0ev\\x1aZ\\x83\\x01W\\'\\xd2u\\xeb\\xbd`1\\x94u\\x0c\\xcb\\x9aU\\xa41\\xa8!Q\\xc8\\xba\\xda\\x1c\\xa4\\rG\\xe5mDaI}W\\xc0\\xcf\\xba\\xeb4\\x85\\x96YF\\'\\xc3\\xa3\\x95:\\xb1\\x04`\\xae\\xe0\\x05\\x06\\xab\\x8d\\x12\\x81\\xbeh\\xb7u\\xfa\\xceaj8t:\\xfb\\xf3\\x16\\x04>c\\x8c\\xcc\\x84m3c\\x9c\\xb9u)\\x1d6\\xb5D|\\x0ba\\xc1\\xc2W\\x08\\x1f\\xb9\\x0e\\x03q6\\x86\\xa5@\\x93N\\xe7\\x0e\\xde\\x7f\\n\\x95\\xd9\\x1c:\\xec]Yy\\x1eG\\x03VA\\xe6\\xe2d\\xd8?\\xc98\\x1d\\x87\\n\\x99\\\\\\x16\\x8b\\x11e\\xaa\\x1f\\x9cv\\xf6\\xe7\\xa40)M\\xd0\\x13\\xd6\\x91Qh-\\x13w\\x04\\xfc\\xac;V\"\\x1a\\xc7\\x1a\\x17\\xc3\\x86\\xa5\\xfa\\x9bP\\xdc3\\x9c\\xe1\\xe4\\xec\\xd0\\x18\\x1fl\\x0e\\x9c\\x13\\xf0\\xde\\xae\\xae\\xa0\\xbb\\x9e\\x9f\\x0f\\xfb\\x8ey\\x04\\xf8\\xc41\\x83\\xe1\\xc057\\x1c\\xceM\\xcf9!=J\\x08\\xf1\\xe4Jr\\xa5\\xb5f\\xe1\\xe9\\xe8 x\\xdf`N,{X\\xb3^e\\xa5\\xa9`\\xe6\\xe2\\xfc\\x02\\x06,\\x1c\\x06\\x93\\xbf\\x0b\\x083X\\x15\\'\\xa7\\xa7\\xe7W\\'\\xa9\\x93\\xf3S\\xa7\\xd3)E\\x92\\xf1\\x10\\xae\\x9d\\xc2\\xe4r\\xc2\\x91\\xcaL\\xf7\\xb1\\x12\\xd0\\x18!-U*+|\\x95\\x96^5k\\xedY\\xef-\\x04\\x9b\\xe6\\x16\\xc2\\xc94v\\xff\\xaa\\xcd\\xda\\x1btU6\\x12\\xc3\\x84s8<9\\x05\\r\\x97\\x86\"q\\x8a\\xda,\\x06\\x83\\x9809\\xfa\\x80p\\x92r\\xba\\x10\\xe0\\x01\\x04n\\x94fyzB\\n^w\\xfbO\\xb66\\xe0\\xbeh\\xe5j\\n\\x10.N3\\xc3>\\xd6\\xb8u1\\x1c\\x1et\\xd3\\xf9\\xbc[Xk\\xa4Rx\\xc3}\\t\\xc3\\xb0\\x9eDDk\\xd6#\\xf8\\xaa\\xee\\xb8@\\xe1$\\x13t\\xac\\xce\\x1eZ\\x90\\xd5h\\xd5\\x89\\x8f\\x04|\\xad\\x8f\\xfc\\xc1\\xc0\\x06\\xe4f\\x83\\xbeL\\xcd\\x18a?9\\x11H98\\xa0w\\xcf\\xc2\\r\\x7f/\\xed6\\x17\\x9e\\x1e\\x8b\\x00&\\xa8\\xce\\x17\\xf3\\xcd\\xd6XB&Q \\xedY\\xb69n7D\\xb0c\\xc3J\\x98\\x02\\x84\\x85u\\xbe\\xf6E\\xec\\x87R\\x9fY\\xe6<(Bm\\xa3\\xa4F\\xbf\\xc9\\xd5q\\x98\\xe6I\\xcea\\xb3#\\xee\\x1e\\xf1D\\xb3\\x0f\\xe3\\xe9\\xa0]\\x0e\\xd5\\xa9\\t\\xab\\x89\\xfbh\\x90\\x95\\xb6\\xabM6W\\x1f\\x14\\x9c$\\xe2l\\x16x/\\x95\\x85$\\x7f!\\x08\\xee\\x1c\\xb2\\xcbY\\x0f\\xae\\x82\\nSG\\xd3)\\xcb;dY\\xd1\\x08s\\x0c\\x1aZ7[Y\\x0e\\xc5\\xe3\\xd9h!\\x9d\\xae\\xd5\\xbc\\xdez+\\x19\\x8b!\\xe7\\xaa\\xc4\\x08\\t\\n\\xc8\\xae\\xcc\\x98f\\x0f\\t\\xcb\\x14$\\xc6z\\x93\\xbf\\xdbA\\xf0\\x06\\xa1\\x8f\\xc7\\xb9\\xfd\\xa0P\\xe3\\xc2D\\xab\\xca*\\x99\\xdc\\xbf\\x1b\\xf4\\xcb#n\\xc6\\xb3|\\x0f\\x106\\xd6<\\xee\\x92(\\x1d\\xa8\\xf8*\\xf5\\xa5Vbr\\xd2P\\xe6\\xa2[\\xa0 \\x95:\\xac\\x80\\x10kb7\\xac\\xf1\\x19\\x82\\xe0\\xae)\\xba\\x11\\xc7\\xb1G\\x94\\xcbj\\xa8kr\\x99jq\\xc7/\\xdas{\\xbc\\xde\\xb8\\xcf\\xb7\\xb0\\xe0[\\xa8{\\xf6J\\x85-O|a\\xa9\\xd2^j\\xb7\\xdb\\xacB,W\\xce\\x96\\xad&\\xab\\xcd\\x06\\xd1M\\x9c,6+>\\xdd\\x14Og\\xc8\\xdbz\\xfdn`9\\xce\\x82\\x82D\\xa2\\x95p\\x17\\xe5Fx\\xb7\\x96\\x0bx\\xa3\\x15\\xdf\\xc2\\x06(\\xf8\\xa2n\\xb7\\'\\xe2.\\xb8\\x0b\\xd1\\x85\\xf6\\xd2\\x11\\xbeZy8V\\xc8\\xbc*0T\\xce*\\xc4\\x98\\x9e\\x9a\\xed\\x8a\\x85\\xc7-\\x81\\xab7\\xa3q\\x0f\\xcb\\x18d2.\\xc6\\x0fQ\\xc9_\\xdb\\ne7\\x16\\xe2\\xde\\xad@<P\\xed\\x0ez%=\\x94\\xe7\\xd2^\\xc3\\x9c\\xf0V*\\x95|\\xe5\\xc8\\xe7\\xd5+,\\n\\x8bX\"A\\xaa\\x13Rs\\xb3\\xfd!_/\\t\\x7f\\x9f\\x10!o\\x94)\\x98\\r\\x9cPb\\xb57J[\\xd9\\xe5\\x8dP`+-\\n\\x0f\\xaa\\x83\\x1b\\xe4\\xb4\\xc2\\xcf\\x1b\\xcf\\x9f7\\xba\\xe1\\xe7\\xa5Q\\xc4lN\\xd4\\xb1\\'\\xa2f\\x1dA\\x80\\x034\\xb7f\\xb1\\xd8\\xaa\\xf3\\xd7\\x96\\xff\\x07\\x82\\xb7\\xc0\\x00\\x82\\x1a\\xaa\\x99\\xbdQ\\x08\\xc5\\xf1\\x99(a\\xa3\\xd1\\x1b\\x1f\\x1f\\xdc\\xdc\\xdc\\x0c\\x9e\\xdfV\\xaf\\xdb\\x1d\\xef\\x8d\\xa0\\xc3\\x19\\xf2\\xf5\\xca\\xc2B>\\xc6Q@\\xc4\\xb9\\xd9*6\\xeb\\xf7\\xf8\\xdc\\x10n\\xeb\\xf5\\x8f\\xe1\\xaeqqVtE{c/\\x17\\xda\\xd8\\xd8\\xaaE\"nwu\\xfcr\\x80\\x85\\xd0@\\x81B\\x17\\x19\\xa6R\\xda\\xcc\\xc4t\\xac\\x17\\x10\\x12\\xd0\\x99$\\x9c\\xf8\\n\\n\\xedo\\xf8\\xbe\\x1b\\x04\\xaf\\x7f\\xc2F\\xa3\\x9e\\x02R\\xde\\xf6R\\xc9\\xbe\\x17\\nl\\xf8\\xaa\\xee\\x80\\' \\x1c\\xefU\\xdd\\xeeH\\x04\\xda\\n!\\x1b\\xc9\\xd0\\x1cqV\\x96\\xdc\\xf9<\\xcbz\\xe3\\xf1\\x04\\xfc\\x06BGX&\\x13\\xf9\\xd6\\xd1\\x07\\x02\\xde\\xd7\\xbb\\x81\\xa87\\x1a\\x08\\x14D%\\x91\\xbc\\x94\\x0e\\x1d\\xc7\\xe3\\x08(\\xa2+\\x08\\xd3\\xc2\\xc1`TB\\x82\\xb7{\\xf6\\xecYct6\\xce\\x8c\\xdc\\x883\\xb7\\xea\\x85jh-\\xaf\\x13\\xeb\\xadeq\\x0c\\xbfWx\\xec\\xcb\\xff\\xd3\\x14\\xd8h(\\x1a\\r\\xa4E\\xa2\\x86=\\x9d\\x0b\\xe5\\x8e\\xe3\\x9f/]\\xde\\\\\\x9e\\x9d?\\xbb\\xbe\\xbe\\xb8\\xb8>\\xbf8\\xbf\\xbe\\xba>}vu\\xde=\\x13\\xd5\\xaa\\xf1\\xed\\xcf=\\x83Z\\xbe\\x98\\x10\\xab\\x94\\xe2X\"\\x86H/_\\xa5\\x84\\x7fC\\x88\\x9b=\\x01<\\xfeBz\\x8f\\x8b&\\x1e#\\xb0\\xbb\\xbd}yuuqu~u}~\\x8e\\xd7\\xf9\\x15 \\xe0\\x07\\x84\\x1c\\x07g\\xfb\\x9fM\\xb8\\xc7\\xd3n6\\x86\\x10\\x87.\\x91\\xc0v\\xb8\\xc7\\xfb\\xc3\\x01\\xf5!\\x0b_~\\xad\\xb2\\x15)\\x95\\xf6\\xf6j\\xd5jnkk\\xed\\xe1\\xcd\\xcd\\xc59 \\\\\\x81\\xc3\\x15\\xea+\\xfc|q\\xb1;\\x18\\x17f\\xdb\\xd1\\xe3j\\xcd\\xcd\\x8aU\\xa1\\x84\\x98M\\xac$\\xc7\\xee\\xf1\\xf5\\xa3\\x0e\\xff\\x81\\x80\\x88r!P\\x89FD\\xa2^)\\x1b\\xaaUs\\xeeQd4j,\\x8e\\xbf\\xbc\\xe9^_\\x03\\x01\\x87b\\xf0\\xe2\\xacW\\xd2Ale\\x13\\xb5\\'\\xb9P%&\\xf3\\xb0\\xba\\x98.\\x96oO\\xfc\\x0fV\\xc2\\xaboy=\\x85B-\\x1bM\\x8b\\xf6J\\xa2@\\xe8i\\xaf\\x96\\xcb\\xb9e\\xa3?\\xff\\xf8\\xe3Pw\\xfc\\xf2\\xc5\\xcb\\x17\\x90\\x9c.^\\x14\\x98\\xc6\\xef\\x7f\\xfc)\\xd3\\x15<y!\\x9a\\xa7\\x8f5\\'b:\\x06fl{\\x82\\xaf\\xca\\xda_\\xdc]\\xfbk#U\\x146\\x8d\\x82/\\xea\\x03\\x14\\x1f\\xf8V\\x10\\x85m\\x83\\x9a&m\\xa7\\xa9mL\\x1b\\xd34\\xda\\x04\\x8d\\xd6q\\xa6\\x9d1\\xb3\\xec\\xecN2\\x9dH\\xc4q\\xc4b\\x9a\\x9a\\x8d\\x936c\\x92j\\x13\\x8dQ\\xb1\\xb6\\x14EDZ_\\xa8X\\x15+\\xab\\x88\\xa2[\\x8d\\xf8\\xa0\\xac\\x0f\\xd6*(\\x8a\\x0f\\xc4\\xef\\x8eE\\x14\\xfc\\x03\\x9a9\\x9b\\xc9t\\x97\\xfd\\xe5~\\xfd\\xce\\xb9\\xe7>\\xcew\\xfem\\xc7p\\\\\\x04sa\\x91\\xce\\xda&[&W@\\x85\\xa2p`\\x92\\xce\\x1d:\\xb4\\xb5u\\xa8\\xf1\\xf9\\xaf7\\xfcz\\xc3\\x97\\xbf~\\xd3\\xf8qkks~3\\x98IF\\'3\\xd2\\xb2\\xee\\x0frQ\\x10\\x01\\xb7\\xf7Nl\\xd2\\xdbJ\\xff\\x05\\xc1\\x88\\xca\\xd1l\"\\x9b\\x15h\\x9b\\xad\\x98\\xd62\\xc7\\x17\\xe8\\x03\\xefm\\xba\\xe6\\xd7\\xd7\\xb7\\xb6~\\xdcj|\\x84m\\xe8\\xc6\\xd6\\xcf[{\\x1b\\r\\x97\\xbf <\\x14\\xc9\\xd1\\xbc\\x8at!\\n\\x10\\xaeA\\r\\x98\\x05\\xbc\\x01\\x97{/\\x88\\xea:-\\x08t\\x91\\xc6\\x0c\\xa9\\xf0\\xc5j\\xad\\x98\\xcd\\x146\\xe7\\xab\\x1f\\x7f\\xbc\\x85\\xc1\\xff\\xf8\\xe3cx\\xad\\xaf\\xaf7\\xba\\\\\\x05z\\xfaA\\xff<\\xadqQ.\\xcfM\\x0c\\xa0\\x06l\\xee\\xb4\\xa6\\xcf\\x17Mk\\xcd\\xf3:Q[+N\\x162\\x8a\\xa6,US\\x93E\\xa1\\x88U\\xc3\\xe1\\xef?\\xc6\\xd8\\x0f\\x1d:\\x84o\\xec\\xc7\\xc7\\xe7\\x17\\x0b\\xd3\\x0f\\x0e\\xdc\\x1b\\x8e\\xc82\\x17\\xd5\\x1fJ\\x0e\\xf4\\xa3\\xd0\\xa1\\x99\\xef\\xb2\\xfe\\xcbN\\xe2y^1w\\r\\x8a\\x072i\\xd1\\x16\\x8b\\xcfO&\\xe8\\xcd\\xc6\\xfa:B\\xe2a\\xd8\\xfa\\xe1O>\\xf9\\xe4\\xf0\\xdd\\x0fTs\\xc9\\xe9hw\\xa8+\\x11)\\xf3\\x11x\\x03.&P\\x0e\\x0b\\xe4\\x8b\\xc4\\x8e>W\\xa7(\\x85\\xce\\nB)\\x9dY\\xc9\\xd8Rq\\xa0\\x80\\xc8\\xd8\\xa8\\x1e>L@X_\\xc7\\x17^\\x8d\\\\0\\x19\\x1d\\xf4x\\x12YV\\xd3\\xa7\\x93\\xd1\\x81\\xfd\\xcb\\xcb\\x0e+L\\x90\\xa6\\x9dbPT^\\x144MKg\\xc4R-e\\xa2@O\\xd6\\xe6\\x1b\\xd5u\\x18\\xbc\\x01\\xd6\\x98\\xcf\\xb9\\xd8\\xa4\\xbf\\xcf\\x83\\xacB\\xd7\\xe5\\xa4\\x9e\\xdf\\xafB\\xb4\\xeeTk\\x84\\x04\\xb2\\x92T\\x19U\\xd2\\x0c\\x95\\xa7Kp\\x87\\xc5\\xa5\\x14\\x96M-Q\\xba\\x96\\x9b\\xff\\xdb\\x1axr.\\x9aM\\x06}!\\x9f\\xc0Fu\\x89\\xe7\\xcae\\xf5\\x929\\x87%\\xd2\\xc5\\xed\\xa4Q\\xe3!9%1J\\x16)\\xb3\\xb0\\x98\\x8a\\xc5a\\x9e`\\x16\\xc4\\x97\\xe5H\\xc2\\x1f\\x8c\\x04#\\\\\\xbe\\x8c\\xd2r\\x8f\\xc7\\xe7\\x915=\\xbf\\xac\\xaa*\\x05\\x1d\\xdfN\\xeb\\x80pb\\x85\\xe7)\\x95\\xd7\\x14Y(ib\\x0e\\xfeP\\rx\\xbd\\xb1\\xae\\xc1\\x88\\xccqr\\x96\\xe5d.\\xaf\\xcb\\x11WW\\xa8\\x17\\x9a+r^\\xc7ep\\xe8g@\\x7f\\xce\\xde\\xf4\\xbbJ\\xffX\\xabdH\\x94\\xa1\\xf0\\x92\\xa2\\x19|i2\\x0e\\x14\\x02\\xa4f\\xdc\\x1b\\x8b\\x85<]\\xbeM\"\\xc5\\x15v\\xf6tyzz\\xc2\\x9e\\xc1hY\\xe2\\x96!\\xb45\\xb7\\xcbQ\\xb7B\\xca\\xbcmg\\xb0F]Kk\\xbcD6\\xda\\xc5b*\\x0e\\x7f\\xc0\\x8d\\x94\\x07H\\x85x`\\xd4\\xdb\\xeb\\xecq\\x02\\x13T\\xc8\\xe1\\xf4\\t\\x17\\x9f\\x15I\\x82\\x16#d\\x08\\xa9\\xe6U\\x11\\xf9\\x1f\\x10\\x06\\x19\\xbb\\xa6\\xaaJ\\x9d\\x92\\x141-\\xe7P\\x11\\x1e0-\\xbe\\xfb\\x81\\xdd\\xd7\\xdd\\xb7\\xdb\\x1b\\xd8\\r\\xf7\\xc0\\x95\\xbdpOx\\xd0Gs\\x00\\xe1R\"ol\\x8d\\x94\\xf9\\x1f\\x10\\xd8\\n\\x84\\xaa%\\x062\\xa5\\x9aX\\x9aL\\x05b\\xb18\\xc1 \\x0e2\\x10\\xb7\\x80\\x96\\x02\\xae\\xb1\\x86p\\xb3\\x11\\xda;l\\x1e1\\xf1R\\x88\\xb4R\\x94u\"\\x02@p\\x85\\xe9z\\xc5\\xa0\\x1c0F\\xcc\\x94r\\xd5X\\x8cd\\x0b\\xa9j5\\x00\\xab\\xa6\\xc8|\\xe1\\x86\\x1e\\x9b3\\xec\\xf2%X\\xc9A\\xf4Y\\xe7\\xd4\\xb2n%\\x10\\xce\\x82B1-;^f\\x1c\\x0e;\\xa3e\\x9e*,-\"GX\\xac-\\xbe_E\\x89\\xd8|<\\xde\\x82\\rW\\x8f\\'t\\x85\\xc7\\x87\\x93Z\\x19\\xff\\xad\\x13-\\x00\\xf23wZ\\n\\x04\\x97\\xcf\\xe5i\\xd1\\x18\\xbb\\x1dd0\\xd2+\\x05\\x9b\\xcd\\xb6\\xb4\\xb8\\x84\\xefZj\\xb1Z\\xa0kK\\xc5\\x04]j\\xe9\\x1d\\xf4\\xb3\\x11V7\\x18\\xfb.;\\x14\\xbc\\x1fj\\xb3\\x16\\x08\\xd85\\xf5\\xe5\\x122\\xd3i\\xb7C\\x8dM)\\xbc\\xb7r\\xa0\\x90\\xc9\\xd8\\x0e\\x1c(\\x15k\\xb5\\x82\\x9c(\\xdaJ\\x02-$\\x12\\xac\\xa2s\\x1a\\xef\\xe8\\xdc\\x05\\to\\x15B\"\\x96\\x02\\x01r*\\t_*a8\\x88\\x9a9\\xb5\\xf0VF\\x14_\\\\Y\\x11\\x00\\x83P\\xb4\\x89\"+\\x08B\\xa6X\\x92K\\xb2\\xc6H<\\xc4i\\x01\\x035\\xf1x\\xbf\\xa5@8\\x8fH\\xecLb\\xe5XA_\\x83]vF2\\x16\\xd2JZ\\x11\\x051MC5\\x02h`\\x85\\xa9\\xb3\\x8a&K\\x14E\\x11\\x11\\xf7N5?0\\xdc\\x7f\\xab\\x85r\\xa5#\\xce\\x1bD\\xc9C*\\x9c\\x138\\x0c\\x12\\x92\\xe6L\\xbd\\xae\\x19u)\\x8d<ZT4Q\\xd4dA1\\x96U\\xbeR\\xa1(\\x90\\x00\\x7f(}z\\xc2Z \\x1c\\r\\xb1%\\xa4\\xc4\\xb1\\x16!!2\\x94\\xdd\\xde\\x89\\x1e\\x17\\x8ez\\x9dQ\\x8d\\xb4\\xc8\\x1b\\xc8#\\x91Mk<E\\x91\\xbe\\x06\\x98\\x18\\x900S<w\\r\\x94\\xcd\\x9b\\xf6\\n\\xe7\\xff\\xd8Q\\xec\\xa0\\x0f\\xab\\xc3T\\xadV\\xcb\\x18\\x0c\\x83\\x81RvdB\\x9d\\x00Bb\\x18\\x89\\xaa\\xf0*X\\xc0\\x00\\x84\\xb9N\\xb2l\\x02\\x1c\\xbc\\x1e\\x1dn\\xef\\xbf\\xb5IK\\xe0\\xfe\\xcf\\x8eD\\xf9\\x8b\\'Lj\\x80b\\x93i\\x86\\x829\\xd0\\xec\\x84L\\x01\\xcc\\xdf\\x90\\xe0e\\x9f\\xc3k\\x17\\x9a\\xe3\\x90\\xb7\\xa4\\xe5\\xa7\\x93\\xed3\\xd7X\\t\\x84S&\\xfc>W8\\xe6\\t\\xc7\\xe39\\xa1B\\xf1F\\xc5\\x8ei\\xc2\\xf4}dO\\xbb\\x1c\\xe0\\x84\\x1d?\\xe3A0\\xa0\\xec\\xe0E\\x9eC%\\x90\\xb5@h\\x1d\\xf0{\\xba<\\xf3\\xb1T8\\x9e\\x9aT\\xa4\\x8a\\xa2\\x81\\x00\\x18\\xfa\\xcbv\\x8c\\x1c\\x8f\\x83\\xd0\\x02\\x7fs\\xc0(\\x95\\xe1yG~\\xb0}x\\xd8Z \\x9c\\x15\\x84X14\\x08S\\xf0\\x87x\\xd6`()\\xad\\xd4\\xe1\\x12\\x0c(@\\x80\\x00\\x1f@\\x05\\x82\\x01|E\\xa5\\x18\\x8d\\xcf\\x07\\xc7\\x1f\\x9f\\x01\\x08\\x168\\x95\\xffg\\x86\\x1c 1\\x01\\x1b&X6-\\x15\\x15iY|\\x11(T\\x80\\xc1\\x1c\\t\\x8fH\\xa6\\xed\\x97\\x9a\\xa1\\x12\\x8bL\\xac4y\\xad\\xac\\xfb\\xbbq\\xbf\\xddJ \\x1c\\xc5\\xfa1;x\\xb0u\\x82\\xc5b,!\\x88\\x86\\x9c^\\xd0\\xea\\x15\\xa0\\x80y\\x00c\\x07\\x14 \\x81\\t\\x81\\x84D\\x82/s\\x11t\\x04j\\xb7\\x14\\x08\\xad\\x13\\xd8>\\xbb7\\xd4\\x8b\\xba_\\xe8\\x10\\xb6\\x94V\\x0cmE4\\x16*\\x95\\x05\\x060\\xbc\\xdc\\t\\x04H\\x96D\\xba\\x81\\xa8\\x86\\xccS\\x1c\\xcbE\\x87\\xc7\\xbbg\\x00\\x82uv\\x96\\xce\\x0e\\x12\"\\x84\\xc1\\x85po\\xac\\x1a/\\x89\\xb2(\\x8auQ4\\x10\\x1c\\x19\\xf3a*\\x12\\xd6\\x0c\\x9a\\xceKZRW\\xb9 \\xcb\\xcd<\\xde\\x06&\\xdcy\\xfa\\x11\\x16\\xb1\\xd3\\x93$.b\\x0f\\xd5C\"c\\xa0\\n-\\xbat\\x1a\\xe70\\x86V\\xa1\\xe6\\xf8:e\\xa8\\x8e\\xca\\x02@\\xe0tN\\xd6\\xb0\\xdb\\xae\\xa38 \\x82\\x96 \\x84\\t\\x16\\x01\\xe1\\xc8s\\xa1A\\x87\\x95t\\x08\\xce\\xd0\\x0b\\xd5\\xcd\\xdd\\xb1\\xdaRF\\x14\\x0cE\\x94\\xd2\\x0b\\x8c!WT^E(\\xe0\\x15\\x03\\xb7zq\\xec\\xc4\\xb1\\xd1\\xaeH\\x04-\\x0e\\xc8\\x14y\\xe7\\xb9V\\xb8\\x9bp\\xe4\\x89\\x8a\\xceEi\\x97\\x8fH\\xb3\\xe2\\xe3\\x8c\\xa1t>\\xbeh\\x13\\x04E\\x12\\xc5\\xe2\\x02\\xcbQ\\x9a\"I\\x86\\xc4\\xa7\\r\\x9c]s\\xc0\\x80eC\\xa1n\\x14\\x85v\\xb7\\xa3\\xc5\\xc3\\xfe\\xe6>\\x85;\\xf2\\xf4\\x93\\x8f8\\xea\\xd4:\\x98?\\x1dA-,\\xf4uP\\x10\\x0f\\xbd\\xb1^O<VM--\\x96\\xd4t\\xa9\\x946\\x8f\"$N\\xac/+\\x1a/\\xd2\\x11\\x1dB\\xd7\\xfe!4\\x7fA#\\x1c\\x13\\x84\\xb2\\xda\\xbc\\x9d\\xa6\\x8f\\xbap\\xc3\\xf1\\xf2\\xa9/\\xd5\\xf1\\xab\\x96\\xd9\\xa0\\x0bGKa\\xa2\\x89@\\x04\\x01z\\xbc\\x01o*U\\xb0\\x15k\\xe0\\x83\\x9efyU\\x8e\\xc8\\xaa\\x14e\\x15\\x97/JG\\xda\\x08\\rH\\x83\\x83a\\x12\\x14\\x88f3sjs\\xae%[7\\xd6\\xd6^\\xaec\\xe7\\x84M\\xca\\xa40\\xd2\\x87\\xc0\\x08\\x1axI\\xd9\\x9f\\x13\\xb2\\x08\\xb1pn\\t\\xaa\\x12\\xaf\\x97\\xc0\\x06A\\xe3u\\x9d\\x13\\xb2tdp\\xbc\\x0b\\x1b\\xce`\\x01\\xa80\\x8e\\xb2P\\xb2\\x82z\\xa8\\x8cB\\x10\\xf5\\x82\\xe6\\x83\\xe1\\x18@\\xb0\\xba\\xca\\xd7!4%\\x88(\\xfeA;<\\xd2\\xcf!\\xd4\\xeb\\xf4B\\x1f\\x83|b\\x017\\x04V\\xaaq[\\xae\\x85\\xce&ZXT\\xbf\\xb8z|\\xae\\xa1>\\xd7\\xf8\\xf5}]\\xe3\\xa1q\\x82\\x05\\xe9\\x94v\\xeb~\\x08H\\xe4\\xcb\\x8f,WZ\\x8f<\\x81om\\x9a0y\\xca9\\xbf\\x13\\x0c\\x0e\\x1e\\xa7\\x04\\x05\\\\\\xe3\\x14\\xa0\\xc7\\xe8\\xc2\\x8e\\x8a\\xa7\\xc7I\"\\x02  N\\x11\\xf0\\xba\\x03\\xbb\\xab\\x88\\x925\\xcc\\x19o\\x84[\\x02$d\\x90\\xa6/\\xb0\\xb6n\\x800\\xde\\xd7=\\x03&\\x90\\x9a\\xc8\\xf2#e\\xb3&\\x06K\\xcfGNo\\x8aM\\xc7\\xa3/z\\xe6\\xcf\\x9fVWW\\xa7\\x0e\\xae-$h!\\x1a\\xccfq\\x8f}\\x9b\\x08\\xce^74\\x17\\xe1\\x12n/\\xd1\\x94\\xf0\\x06F\\x9d\\xde\\xd1={\\xbc\\xbd\\xa9\\x189\\x7fB/\\x9c\\x11\\x08\\xeb\\x90\\x90p\\x05\\xa6\\x87aS?\"\\xbf\\xbf,\\xe9j\\xf9\\xa1\\xf2\\xb2\\xca\\xd8766v~\"}\\xe6E\\xcf\\xbf\\xfb\\xcc\\x1f\\xbf|=555{0\\xff\\xd2\\xc3+\\x99\\xa0\\x1f\\x86\\xd5\\x13~\\xd1@\\x0088\\xc1\\x04\\x84F\\x98\\x89\\x03\"D\\xc0\\xed\\xf6Bped\\xc8\\xac\\x82\\xeb\\x1b\\x1aB#$\\x80`6\\x91D= t\\x03t\\x89\\xcf\\xf3\\xbcJ\\xd5\\x7f\\x02\\n\\x17\\xee\\xec\\xd9\\xe2\\xccc?{\\xfe\\xc6\\'\\xdf>\\xf6;\\x800;\\xfb\\xca\\xda\\x0f\\xcf\\x16\\xb3\\x82\\xcbEz`\\x85\\x08\\x08\\xa0\\x00\\x06M\\xa8\\x10\\x00\\x17\\xc6\\xc6 <966\\xd6\\x01Iw\\xe7\\x08\\x8c\\x00\\x80r\\xc0!0\\xa1\\x1b\\\\@%\\x1cI\\x9co\\xbd&Y\\xa9\\xf0XX\\xe5u\\xf5\\xc5\\xaf\\xd6\\xd666\\x8e\\xdb\\xb9d8\\x9a@\\xf0\\xce;\\xb7<\\xff\\xc1\\xbb\\xc7~upv\\xf6\\xf6}\\xfb\\x96\\x9fM\\x0c\\xa2\\xe4\\xc5\\x8f]V\\xf8Bo\\xef\\x08q\\x043$xac\\x1dcc\\x10*\\xee\\x18\\xeb\\xe8\\xe8\\xb8\\xc9\\t\\x1b\\x02\\x04{A\\x07\\xf8C\\x1fi\\x844l\\xfa\\x03\\xe4Iu>\\xcfq\\xd3\\xd7\\xf4\\x97~[]#(<}\\xea\\xce\\x0c\\x90G_\\x04\\x08\\x80\\xc1\\x8d\\xb7<z\\xec\\x07_\\xfcv\\xf0v\\x18\\xa8\\x90\\tu\\xf9\\xd0\\xed\\xc5C\\x02B\\xcf\\x90\\x13\\xe6\\x06\\x0ePi\\x85\\'`\\xf0\\xe0\\xc1(\\x1e\\xfc\\x04s_?t\\xfd\\xc8\\xde\\x11\\xc2\\x05\\xc2\\x03\\x92(@p\\xeb\\xce|r\\x06*T\\x90k\\x9c\\xd9\\xff\\xdd\\xd6\\xaa\\x89\\xc23\\xf7\\x9fs\\xe6\\x11;\\xce\\xce\\xbc\\xe8\\xb3\\xbb\\xb6!x\\xf4\\xb2\\xe7\\xdf\\xfd\\xf0\\xb3\\xd9\\xe7\\x08\\n\\xfb\\xf2\\xaf\\x85\\xc3\\x04\\x05\\xcf\\xbd!\\xa7\\x1b\\xee\\x00\\xf3vxG1h\\xaf\\xbbc\\x1b\\x04h\\xf3\\xee\\xc1\\xbf@7\\x03\\xaa\\xb5C\\xd0\\x93\\xd9K\\xfc\\x81\\xe4\\t\\xb0v\\x88\\xf3\\xcd\\xccD\\'\\x86\\xd1\\xfac8\\xbd95EP\\xf8\\xfd\\xcd\\xa7\\xdf|\\xe2\\xfc\\x1d\\x06\\xc3\\x99\\xdb$\\xb8\\xf1\\x16`\\xf0\\xe8\\xe5W=\\xf1\\xea\\x17\\xbf\\x99 \\xdc1%.aS\\x8dt\\xfd\\xe9\\xc1\\xf0\\x11\\x16\\x11\\x11L\\x0cFG\\xa1\\xcb\\xdba\\xfa\\x03Dy\\xf7\\xec\\x01\\x19\\x80\\x01\\x0c3\\xe4^29\\xc0!L*\\xf4\\xf7O\\'\\xa7\\xa7\\xdb\\xd8\\x01\\x7fp\\xf8\\xbbO\\xbf\\x9eZ\\x05\\n+\\x7f\\xde\\xf6\\xf6\\x0b\\xaf~\\xbb\\x93`0C\\x01\\x81\\x00\\x08\\\\\\xfd\\xe8\\xd5W]}1\\xa8\\xf0\\xe4\\xed@a\\xdf\\xbe}?\\x15R\\x90\\xe4D\\\\t\\xbbGFHPt\\x92\\xb1\\x13\\xb9! `\\x82\\x01&\\xc0\\xf6\\x8c\\x99D\\xc0\\x04Ab\\x02&\\xc8\\xbenX\\x1b\\x14\\xc7\\xda\\x8d\\xfc\\xc4pT\\xbe\\'\\x18\\xb4\\xfdv\\x10L\\x80}\\xf0\\xf63O\\xdc\\xf5\\xe4\\x13\\xdf\\xee\\x10\\x18\\x8e\\x06\\x04w=\\xff\\xce\\xb5&\\x02\\xb7\\x00\\x01bWnS\\x01\\x18\\xdc\\xbcZ\\xaa\\xc2!\\xbaH\\\\t#,\\x12\\x10\\xc6 \\xcd\\x8cO\\x07\\x1e\\x10\\x01F\\x98`\\x12\\x01\\xda\\nC&\\n$i6W\\x0f\\x98$\\x07\\x8c\\xe9\\xbd\\xed\\\\\\xdbM\\x83\\xa5\\xc2\\xec\\xd7\\x04\\x84\\xbf\\x8a;\\x13\\xa06\\xaa0\\x8e\\x9b\\xe0I\\xeb]\\xed\\x8c\\xcex\\x8c\\n\\xa1\\xb2\\xa2\\x81RZ\\x14\\x08\\x16\\xa4\\xa5\\x88\\xe1R\\xa8P\\xa4M\\x81bKZ0I)H8\\x0c\\xa2V\\x01A\\xc3\\xc0H\\xc0#\\x814\\x17I\\x88%d\\x02DKS\\xa0\\x08\\x02\\xa33\"v\\x10\\xd1j\\x9d\\xaa\\xf5l\\xab\\xfe\\xdf\\xdbE\\xeb1\\xde\\xc7\\xb7\\x9b\\xbce\\xa9\\xb5\\xef\\xb7\\xff\\xef{\\xdf{\\xbb\\xfb\\xde\\xfb_\\x9e\\x1a\\x1a6\\x18\\x94N\\xa3N\\xf7\\xffc8\\xff\\x9c\\xab\\x14c\\x8b\\x1a\\x80\\n@!&&$$&DH\\xa2B\\tK\\xe1D}T$\\x18\\xa0\\xdf\\x80\\x80\\x08\\x83\\xeb\\xaf\\xc2\\xfb\\xf0\\xd0\\xc1\\xfd\\xab\\x10\\x0f\\x08\\x82\\x07 \\x07\\x9c\\x06\\x03\\xba\\xf2\\t\\x96H\\xcb\\x81Ec\\xf1\\xc8 \\xbc\\x12\\xb8\\xab,\\xe5\\xd1[\\x13\\xee\\xbd7\\xc5\\xf1\\xd9\\x1b\\x8f\\x00\\xc2\\xfb/ON\\x0e\\xe92*\\rJ\\xa5\\x13\\x1c\\xfe_\\x0cg\\xdf\\xf8\\xa6\\xe7\\xdb\\xa11\\t\\x17\\t\\xd6\\xc3H\\x11\\x03\\x0e\\x011\\x03D\\n\\xdbA\\xa1\\xf4\\x91\\x9aB(!:\\x02\\xa9\\x01\\x9b\\x19\\xadf\\t\\x80\\x05l#\\x8b\\x81B\\x00\\x03\\xc2\\x01\\xd3X\\xb3\\x14\\xc8\\xb2\\xcbA)\\xc5wfgF\\xc6!\\x93\\xcc\\xdd\\x05\\x06T\\x08\\xbe\\xc3C\\x06Ie\\xa5\\x01\\xa6t\\xea\\x10\\x1b\\xfe\\xa7\\xe4\\t=e\\xf4\\x91N\\x9c\\xfav\\xb87\\x84E\\x10\\x13\\x12\\xc3Q\\x80\\x18\\x84\\x87Y)\\x80B\\xff+\\xaa\\xf8H\\x8c\\xa6$\\xd1\\xfc0>\\xf4^\\xac\\xee\\x82I\\xa9\\x01\\x00\\x188-l\\xdc\\x08(X\\x18\\r\\x100\\xc3\\x14Y\\x15\\t-$\\x95B\\xca\\xa6\\xb2\\x97^\\x92\\xba\\x8b6<\\xbaRU\\xc7\\tallH\\'\\xc9\\x10W\\x1238\\x8dN\\xa7\\xee\\xe8Mg\\xfd\\x1fv\\x05\\x10\\xa0\\x93t\\xccwx6\\x00\\x12@\\xbd\\x83\\x83\\t\\x05\\x8e\\x87(\\xc08p\\xe4\\xf3\\xfd\\xc4\\x1d\\xb2\\xb6?V\\x9f,_\\x1bA\\xdb\\x85\\xb5\\xab\\x1e\\x80G\\x90\\x88\\x88j\\xdf\\xcbja\\x1bM\\x1aQ{V\\x07\\xf8\\xc2\\x8c:\\xc8\\x96\\x88\\x16\\x9eJ\\xf1\\xd9\\x14\\xf4\\xa2T\\xefS\\x90\\xd8\\xb4\\x00\\x06\\xb0\\xf7G|\\x87\\x87+\\xd33\\xa8\\x19\\x9cNx\\x05\\xa2\\xc3\\xc0\\xd5\\xff\\x83\\x1a\\xce~\\xe5\\xe5W\\x882\\xa7\\xc7\\xc6\\xd6\\x07\\xa0\\xfe!\"\\x11\\xf9\\x8e\\xe1(\\xc4\\x083\\xc6|\\x8f\\xcc\\x80\\x02\\xa4\\xf0\\xc8\\xe6F\\x8d\\t\\x04\\xd0] \\xd1pU(\\t\\x06\\x0fP\\x07\\xa0+\\xfe\\xc0\\x08\\x11\\x08\\x83l(\\x1f\\\\\\xf9b\\xf4\\xbd\\x1b\\xd0D\\xdc}WP\\xc1-\\xd9\\x8f\\xc6\\xd9\\xecn\\x9f\\x13\\xdb)\\x048\\xc3\\xe4\\x90\\x91e 68\\x95\\x06\\x188\\x18&\\xd5\\x97\\xfc\\xf7\\x18nD7\\x11\\xd2\\x1c\\xf0\\xfd\\xf6\\xb0\\x0c\\xf5\\xe7,&\\x86\\x8b\\x0e\\xc1\\x02\\xe3\\x18\\xa4\\x90E\\xa40\\xf8\\xf2\\x1a\\x1f\\x07A\\x809\\x08\\x1f \\xe1\\x90$F8\\xa0B\\xa0\\xa9\\x02\\xa7\\n\\xe8\\x83D\\x8b$dKH\\x1d\\xe9\\xea\\x99w\\xc5i}\\xd6\\x857\\xf2\\x8e?\\xfbFI\\x1d\\x18Pg8*\\x91\\x10\\x04\\x95J\\xa7\\x12\\x0eQ)\\xc6\\xc70\\xa4\\xb0j\\x96\\xdc\\xf8\\xdfv\\xb3/=\\xc9j\\xf3\\x9b\\xe9I\\xa3\\x00RX\\xb4\\x10H\\x81j\\xc1\\xff\\xf91\\xdd\\x91\\x8f\\xf7\\xc3\\x1b\\xb2J\\x07\\xf7\\xd9\\x0b\\xd16\\xe4\\x01\\x02\\xa6cDc\\x90\\x97Fc\\xc2\\xbd\\xa86\\x81@\"\\x02)`8A|\\x02\\xa93&\\x13\\t\\x8dF\\x1b)u\\xb7\\xf0#T\\x9bK\\xb6\\xd7Q\\x08\\xc7Xg\\x10\\x8b+{q\\xfd+ab\\xf0\\x908\\xadCC\\'\\xff\\xdbn\\xf6\\xd9W\\xb6,A\\x8c\\xc2\\xbfia\\xdawR\"X$\\x80\\x0f\\xe2\\x02\\x81\\xc05\\x93\\xdb\\xf7g\\xc1J\\xb3\\x964\\xae\\x8e/\\xdf\\x86\\x87\\x97\\xd3\\xd2\\xaa\\xd2\\x10\\x05\\x90\\x1c!$B\\xfaP\\xc5\\xb6<\\x9cXEy\\x80\\x01|\\x04}\\x08dTH\\'\\xa2s\\x00!H\\xe5n\\xb7\\xd5,2x\\x17\\xce\\xe0\\xcc\\xcf\\x00\\x02\\x03e\\x00\\xcb\\x80\\xa5\\x8f\\r}\\xebE\\xc7\\n\\x1d\\xcc\\xff\\xc8)\\xce\\xbf\\xb8\\x05\\xb7R_y\\x84\\xda\\xd1\\xe9Ie \\xc2\"\\x00\\xc0\\xb8\\xe8HBe\\xa0\\xc8\\x17\\xb1\\x91Ja\\xfb`\\xdd3\\xf5<Sa\\x1e\\xaa\\x8be\\x0c\\xe8\\x9aWH\\x12I\\x9fa\\x1b l#\\n %\\xcd\\x9c\\x00\\x03D\\xe0<m\\x9a\\x84\\xa4\\xdbo\\xc5\\xbc*\\xaa\\xe3\\xb7\\xd5e\\xd5\\x01\\x02\\x1b\\x10\\x06\\xd2%\\x95\\x94A/\\xe4@\\x85\\x90\\x91\\xdf;4\\xfc\\xed\\tDjP\\xf8o<\\xe2\"WYQuY\\xcb\\x9b4N\\xbd\\xf1\\xcd\\xf4\\x98\\x8e\\xe6\\x06!?\\x84\\x85\\xf5\\\\l\\x94\\x8c\\x19\\xe7\\xdf\\xeb\\xce\"6X\\xd7r\\xdc\\xec\\xdd\\x8aU~\\x08\\x824\\xccBWUN\\xac*\\x0f\\x08\\xb0mCI&\\x9cC\\xca\\x00\\x1c\\x98\\xbeS\\xae\\xd1\\x1cwm@\\xaa\\xf0\\x04?\\xac`\\xc7#\\x1c\\x83\\x05\\xdf\\x81\\xe1\\xc9\\x0c\\x9a\"(\\x11\\x0e(\\x031(<?0\\xf4\\xed\\xd4+\\x14\\xc2cg\\xfd\\x07v\\xa96\\x1bs\\xa4\\xed\\xdc\\xab}\\xec\\x91:\\xd8\\x1b\\x0b\\xd3\\x03c\\x92`\\x82\\xe1\\x0c-P\\x0b\\xf1S\\x8e\\xcd\\xce\\xcdt\\x97\\xc2\\x1fJ\\x07_\\xa9n\\x93\\xaf\\xedin\\xa6\\x18\\xaa\\x9e\\xceK\\x03\\x10\\x1c\\xe3\\x03=\\xe4\\xe5\\xe1\\xa0\\x1ck\\x83\\xf5\\x94C\\x0bP\\xc6\\x01\\x9e^oKN\\xba\\xfd\\xf6\\xdc\\x86\\xf65\\x1d%\\x84A\\xdd\"\\x83t\\xaa\\x03\\xc4C\\x8e\\x01(\\x1c\\xfev\\xf8\\xd4\\x97\\xe8]\\xc2:\\xfe\\xf5\\x9b\\x14\\xe7_V\\xbd\\xb7\\xf8\\xf6\\xd8\\xa6\\x02X\\xeeB\\t\\x81P\\xa7\\xf3\\x9d<,\\xa2\\x97\\xfe\\x0c-P\\x13\\t\\x90,\\xcceu\\x97\\x02B\\xd6\\xe0\\xc2\\xe6\\xd5r\\x95Z\\xcdC\\xb5\\xf30;e\\x0f\\xe6 \\xecy\\xad\\x87`\\xa8\\x02\\x08\\x18\\xce\\xe0TOO\\xda6\\x84\\t\\x9e\\xa9+~5\\x9ey\\xaf\\xbe\\xf9\\xe6\\x8e\\xed`@y\\xfb\\xfa\\x0eO\\x8a\\xd3\\xc5\\xbd\\xbd\\x06\\x03\\xba+\\x04\\x82\\x98\\x9aD9\\xfc\\xed\\xe4\\xcb0\\xb4\\xdb\\xfbZ\\xf4\\xff\\xeeK\\xc5\\x17\\xd9\\xb2\\xd7e\\xd6F$7\\xa9x\\x15*\\xd3B\\t\\xa5\\xf0\\x0e\\x82\\x82\\x08\\x0e\\xf0\\x13)\\x90m=\\x12\\x08t\\xa4\\x94\\xa0PZ\\x9a\\x9a\\xda\\x7fR5\\xe2\\x19\\x9d2\\xc5\\xc3\\x1b\\x9a\\xcb\\xab^\\x7fg\\x04\\xcb\\xc4UaA0\\xfc\\\\\\x0e\\x14\\xaf\\xbd\\xf6\\xfa\\xab\\xe3S\\x1e/\\xafp#R\\n\\xafcch\\xa8\\xaa\\xbd\\xa8\\xdd\\xe7\\xe4`)E\\xb0\\xc8\\x001\\x11\\xdd\\xf6J\\x8e\\x01\\xb5\\xe7u\\xc3\\xa7L\\xef\\x13\\n\\x8f\\xbc\\xb9\\xe9\\xc9\\xb2\\x06\\xfde\\xff\\x16\\x86\\xf3\\xafp\\x15d6\\xb5%W\\xe0n\\xaa\\x89\\xa7\\x1a]\\xfa \\x0b\\xe1\\x9b#cF4\\x8c4k\\xa4\\x18PP-\\x00\\x8b\\xffz\\x9d\\xee\\x88s?\\xa50\\x98u\\xd2D\\x96\\xfdZ\\x1b\\xbf-\\xady|\\xc8j\\x86\\xa9=K_{\\xad\\x9c\\xac\\t\\xd7\\xf3\\xda\\xebS\\n\\x8b\\x1a\\xe7\\xf4-\\xfc\\x07\\x12\\xb7z\\xd6\\xb4\\xc4\\x85V\\xbb\\xd7\\xdcV7\\x98\\x85q\\t0\\xf8l\\x9ac@\\x0c.\\x00\\x08\\xf4[\\x8c\\xfe\\xdb\\xd8\\xb0/\\x86v\\x89u\\xb4\\xec\\xc1c\\x0e\\xee\\x7f\\x07\\xc39\\x97(\\xaa\\xfb2s\\xb5\\xda\\xbe>S\\xa7\\xc9\\xbbtT\\xa3\\xc9,!\\xb6\\x7ffz@\\x17\\x13\\xc2V\\x9a\\xa3\\xc0j\\x81\\xc4\\t\\xbf\\xe7\\x07t\\xf3\\x1fp\\x14\\xfaO6\\xc5o$\\xc1?~JmQ(,\\x16Ri\\xcf\\xd3p\\x010\\x18\\xb1\\xa8\\xadCV\\x8bBmw\\xb7\\xf3#\\xc2+lk\\xee\\xd8Y]}2k\\x10\\xbd\\xb0\\x92\\x927\\x10\\x80\\x07\\x86\\x8ff\\xa4\\xd3\\xaa\\x93\\x8e{\\xc6\\x8fBH?<96@\\x93\\xea7^~\\xac\\t\\xafXw\\xec\\x03\\x87\\x7f:c\\xc0\\x9de\\xbb}SK\\xbb\\xcb\\xe5\\xb2{y\\x9d\\xe5\\xf5\\x8e\\xd6\\x9e\\x11\\xb3\\xcf\\xcb\\xa5\\x80\\xf0\\xc6\\xcc\\xac\\xef\\xc0\\xfa\\x00\\xee\\xda\\x83\\x02\\x85@\\xb5\\x00\\x12!~\\xcf\\xeb\\x8c\\xf3\\x9fts\\x14N4%\\xafF\\xee\\xac\\xb2\\xab\\x15\\n\\xab\\x82r0{\\xaa\\xc0\\xa0jJ\\xad@\\xba\\x83s.\\xbd\\xcb\\xa7:4:\\'R\\xa5\\xbfe\\xcb\\xcc`\\x16\\xf2n\\x90\\xae\\xfb|zl\\xd2(\\x01\\x03\\x82\\x00F\\x19d\\xb0\\x16\\xd2;\\xe9{\\xf4\\x917\\x10\\xa8K^NH$\\x13\\x95\\x15?\\xd6\\xb1g\\x93\\xfb\\x9fT\\x03\\xee,\\x1f\\xf7\\xf1q\\xbb]\\x9e\\x91q\\x8f\\xddT(O\\x93\\x9b:\\xd3\\xdaL\\x8a\\x05\\x08\\x15=E\\x9d\\xef\\x98D\\xc8\\xd5;\\x04\\x86C\\xf2\\x03\\x84\\x90\\x8f\\x8f\\x9f\\x04\\x14>\\xe8\\xefN%\\x14\\x06\\x17\\x8a+\\xa2B\\x0b5z\\xb5Y\\r\\n\\xd4@\\xa1\\xbcgJM\\x10\\xe0\\x94\\xc5\\xecjw\\x17%?\\x11\\xbe\\x92\\xef8Y\\n\\x06Y\\xc0\\xb0\\x7f\\xc69}tR\\x99.\\xe1\\x18H$\\x80\\xc02\\x90\\xc0D\\xca\\xc9\\xe9o0\\xba\\r\\x08\\'T\\xe1\\x18\\xd5\\xc5\\xb4\\xe7\\xb8\\x99\\xdd\\xb1\\xc7\\xfd\\x8fu\\'\\xce\\xbf\\xc4\\xaeo\\xd1\\xf6\\xd9\\xbcKy^\\x9b[o\\x1f\\xe9\\x8c\\xef\\xf2\\xd6\\x97\\xcb\\x0bL\\x9f\\xe1\"\\xc1p\\x91\\xc4\\xe8>\\x84\\x10\\xf9\\xd3\\xb8@\\x81Pi\\x90\\x82jAY\\n\\n\\xa9\\xa9\\xbb\\x07\\xb7\\xdf\\xa3\\x8a\\xd8j\\xd3\\xdb\\xf5.\\x0bB\\x00\\x0c\\xd5\\x1eym\\\\m\\xb5\\xc29,V\\x85\\xd9\\xd5\\xe2\\xd2\\xf7\\xad\\x8d\\x8cU\\xed\\x9a9\\xb8\\xbb4\\x0b\\xb6\\x7f\\xff{s\\xd3Gu\\xe2\\x18\\t\\t\\x01l\\xc5\\x01a\\xf10=]4;\\x06\\x08%`Pr2\\x05k\\xf9c\\x80\\x16b\\xa8\\xa9\\xd9\\xfb\\xcc\\x9e\\x96\\x8b\\xcf\\xfeGZ\\x04\\\\\\x9a\\xf6\\x02\\x87\\xa3]\\xaf\\xb1\\x1f\\xd7\\xdb\\xcdzO\\xd7\\xb6Bo\\x9f\\xca\\xd4\\x07\\x08T\\xaa\\xef\\x1c\\x19\\xeb\\x15\\x06\\x82\\x02\\x07\\x81\\x13\\x02\\xe7 $:\\xce\\xea\\xe6{\\x97u\\xf7\\xa7\\xc2\\x0e\\xa6.4u\\x9a\\xecn\\xbdK\\xa3\\xf6x@\\x80\\x98\\x07,\\x14\\x9e\\x11,(j\\xb1\\x03\\xb3\\xa6+\\x8a\\xd7\\xb4P:X\\n\\x03\\x83e\\x9f\\xcc;\\x07\\x94!\\x81\\xe9\\xe9\\x92E\\xcb\\xe0\\x14A\\x19\\xe4\\x07\\x1b\\xc7\\xa6g\\xf6\\x13\\x06u\\x0f\\xc7%\\x91\\xc19\\x8cN\\xe2\\xa1\\xa7\\xb2\\x86\\x1d{\\xf6m\\xba\\xf2oc8G\\xad\\xd66\\xb4\\x93h`v\\xe9-\\x1e\\xef\\x88\\xc5n\\xa9_\\xbb\\x8dW\\xef\\xb5\\xbb\\x1d/@\\xaa\\xd0\\xea7G\\x06\\x94~\"\\xda\\x95\\x86\\x0c\\xb8\\x1d\\x08\\x16-_ R\\xea\\xe6\\xe6\\xbf\\xe0(\\x1c\\x9c\\t\\x9a2\\xb7\\xb7\\xbb4\\xf5\\xadX&\\xb4s\\x1c\\x8b\\x89\\x9a\\xc6\\x97\\xbe\\xfaz\\x15\\xb2\\x06\\x93\\xddn7\\xdbGZy\\t3\\x83\\xf8\\xb3\\x80\\xd0\\xbd\\xff\\xbd\\xf9y\\xa3\\xae\\xd2?\\x10|\\xf3\\xf3\\xf3\\xd3\\x81\\xe2\\':\\x00\\x83\\xf5:_\\xe3\\xcc~2\\xc0\\xbf\\xb0+<1\\x9a\\x8cS\\xc75U7\\xb4\\xc3Z6m\\xda\\xd7\\xf27\\x1fu\\xb9\\xc2\\xd5p_\\xae\\xfb\\xb8\\xdd\\xd3\\xd99\\xa5wun\\xcb\\x8b\\x1f5\\x9b\\xeb7\\xaem\\xe4\\x97\\xd7\\xbb|\\xb2\\x97Q\\x08\\x1f\\x1f\\x19\\x98\\r\\x08\\x08\\x14\\xc1~\\xecA\\x80\\x020p$\\x02\\x03{us\\x13\\x1f!0\\xc0#v\\x1f\\xdc\\xfd\\x99\\xebxK\\x8bKN&\\xe9%\\x19\\x12v\\xd2B4\\xf7\\xb4\\xda\\xccj\\xb3\\xdb\\xf3\\xaa\\xe9\\xb3T\\x96A\\x7f\\xf7\\xb2\\x0f&\\x94F\\xa3D\\x16\\x10\\x8c\\xbf>\\x04F8\\xd0\\x8e4\\xab\\x03X\\xa0d\\xc0W\\x07\\x04\\x04\\x02\\x9e\\xa5\\x8f]\\x19\\x1d\\xdeTD\\x104h\\xcb\\x8a\\x8a\\xf6\\xee}r\\xcf\\xa6\\xbf\\xd3R\\\\\\xd6\\xbecKv\\x18\\xcfl\\xd6\\xf07.\\xd5\\xbb\\xb6\\xde\\xbf:\\xb4^}\\xdc!_\\xeb\\xe0\\x1d\\x90\\xab4>u\\xa9\\x04\\xc2\\xcc\\x9c\\xaf1P\\x00\\x080J\\x00%\\xbcC\\xc4\\xe1 &\\xf2\\xcb0*\\'*\\x97w\\x0f\\xee&\\x14\\x0e.\\xdb{\\xdc\\xae\\x19\\x8d\\xd8X\\x0e\\x03\\x07\\xec(\\xab\\x9a\\xeb\\xd1f\\xda\\xd5\\xef\\xf0f\\x06Y\\x06\\xdd\\xdd\\x90\\x81S\\xa7\\x0c\\x91\\x05\\x04\\x12\\x13Q\\xba\\xf9\\x14\\x82\\x84e\\x00\\x0b\\x10\\x8fMc\\x10\\x8b@8\\xb13.\\x16\\x08\\xf0|dCA\\x13y\"`]\\xc2\\xce\\xbd;6\\xed\\xbb\\xe3\\xaf\\xdf\\xb5\\xbbd\\xef\\xde\\x06mA\\x81\\n\\x15\\xef\\xdb\\x98\\xe7\\xb1\\xb5\\xad>\\xb0\\xb1\\xde\\xe6\\xb1\\xa9\\x0ex5\\xf2\\xf8\\x82\\x8a\\xbe\\x85~\\x1a\\xbag}\\x8d\"\\x7f\\n\\x01\\x00(\\x82\\xc0\\x00\\xd6HI\\xff\\xf5\\x81\\xb2\\xf5J\\xe7\\xfc\\xc4\\xa1\\xfenP \\x18\\x16\\xb4z{{Ac\\x05Y7\\x8f\\xbc!\\xda\\xc5\\x1bu\\xd846\\x8b\\xda>\\xf5\\x05d\\x00ce\\xd0k4\\x8a\\x852\\xfc\\x85\\xd8\\xc8\\xff\\x02\\x14\\x88\\x14XKg!\\xf4\\x0eL\\xbf\\x05o\\x80=t\\xdf\\x86\\xc4\\xdc\\x86\\x96vmu-\\x9e\\x1d\\xbd=v]B\\xd8N\\xdc\\xc8\\xdd\\xfb\\\\\\x87\\xfe\\xec\\xbf\\xc8\\x00k\\x1c\\xee\\xd4V\\xf7\\xb9F\\xa7\\x8e{\\x0e\\x1ch\\x9d\\xea\\xe3\\xf1U\\x1a\\xcf\\x88\\xdd\\xdb\\xcc\\xf3j\\n\\x1a\\xa5\\xbc\\x19\\xc4-\\x16B\\xb0\\x1f*\\xcar@I\\xea\\xee\\xe7/\\xf0\\xf7\\x13\\xf8\\t\\xfcQ\\x06\\x08\\x02\\x04\\xb2\\x80\\xc3\\xce\\xde\\xaf\\xbe&b\\xa0\\x14v\\x7f\\xa9\\xb5\\xbb\\xf4n\\xb7\\xbeE\\xdf\\xde\\xe2Fiwy<j\\x85y\\xd7\\xf2\\xc1\\x83\\xbb\\x81 \\xb5\\xbb\\xfb\\x8b\\xc3\\xf3J\\xa33\\x9f\\xf1\\x03\\x00\\x16\\x02\\x8cBH\\xe7\\x08\\xd0\\x18\\x11\\xa0\\x1c;\\xf2\\r\\x1d\\xd3\\xad\\xbbg]\\xad\\xb6\\xbd(73\\xf6\\x89\\x9c\\x95ODGg\\xee\\xbcoe\\x9c\\xb6}\\xc7\\xe6\\x9a%\\xcf\\xec\\xb8\\xe0/5\\x0be5;\\x13\\xc2\\n4\\xa3\\x1e\\xbbGm\\xeb\\xe2{5n\\xbb\\x1e\\xcd\\x83\\xfbf[kc\\x9b\\\\\\xe3R\\xb5\\xcd\\xf4\\x13\\x08\\xdbg\\xa7u1B\\x0e\\x02\\x0c\\x10\\x04\\x80\\x00\\xf3\\xf7\\x13bC\\x89\\x8f@&\\x93(\\x95\\x13T\\x0c\\x8b\\x182\\xbd\\xdeQ\\x87\\xc3\\xd1\\xd7\\xe7\\xf5\\x8e,\\xc5\\x12Yj\\xb5t\\xd9\\xc1\\x83\\xa9\\xbbSa\\xdd\\xa5\\x9f@\\x06:\\xb1\\x9fL\\x80\\xfasF \\x90\\xe8\\x08c!\\xe08?P9\\x80!\\xac\\xed\\xa0P\\xf2\\xd0\\x8e\\x86\\x9d\\xd2\\xa4$\\xdc\\xbc\\x8a\\xc3\\xe2A\\xeb\\x12b\\xa3s\\x9a\\xb4\\rx.pK\\xc7s\\xcf\\xfc\\x05\\n\\x17ly\\xb2\\xac\\xa86Rj\\xeb\\x1bQ\\xe3\\x92\\xa9\\xed\\xc7\\xd1>\\xe8\\xcd\\n\\x8f\\xc7l\\xc6\\x1b\\x9dy\\xcd\\xae5\\xde\\x19\\xda\\x8cowN\\x0f\\xa4\\x0bI\\xdd\\t\\x00R\\xe2\\xca\\xfb\\xfb\\xfb\\xa3\\xf2 @ \\xb0$dLp\\xaf\\xf20\\x11C\\xff\"\\x86\\x99\\x07\\xdb:[\\xf1\\xaet\\xf9kO\\x8f\\x8f\\x8f\\xab\\xbe\\x04\\x02\\x10\\x80\\xf5w\\x7fQ\\x89\\x88\\xa8\\x0ca\\x84\\xe4\\xef\\xa3\\x008w\\xe0(p\\x0c\\x00!xv`z\\x06\\x10\\xd0\\xd9\\xdc\\xb7%<4)26n]\\xdc\\xedA\\xd8\\xf0\\xb4GXu\\x83\\x16\\x8f\\xc7\\x16\\xef\\xd8\\xf4\\x17(\\x9c\\xd3\\x80y!\\xb5\\xaa\\xe4\\x88\\xc6\\xbeq\\x8f\\x8f[\\xef\\x19\\x1fQ\\x80\\x81eh\\xbc\\xf5\\x98}\\xb4\\xbe+~+\\xafe\\xcd\\xc2 \\xc9f\\xb6\\x7f2= \\x91\\x05R\\x0b\\xa0\\xb2\\x85\\xfa)\\x04V\\x08\\\\\\xe1\\xef/d\\x84\\x19\\x06\\xc3\\xc4W\\x1f\\xed\\x86Op\\x18\\x96}\\xf6\\x92\\xd4\\x14\\x998j\\xcb\\xfdl\\x06\\xcd\\'NR\\x04\\xa5\\x87&\\xe6\\x9d\\xce\\x0c\\x19\\x1b\\x11\\xcf\\x14\\x02 \\x10c!\\xc4P\\x08\\xc6\\x81Y\\x16\\xc2\\xcb{o\\x8f\\xc2}\\xcfX\\xb2\\x8aTP\\x10\\xbd\\xb1]\\xd0\\xae-X\\x17\\xb7\\xee\\xae\\xcd\\x9b\\xf6,\\xe9\\xf8\\xb3\\x14.yrsAuQSdh\\xd4\\xa8i\\\\a\\xb7{\\xf2\\xaa4>f\\xab\\xc5\\xae1\\xd9\\x8e\\x8f\\xd4w\\xad\\xed\\xaaP\\xad9I!\\xec\\xff\\x9c@`C >\\xc0  \\x91\\x80\\x13\\x02\\xc7\\x02\\x1b~\\x941\"\\xb1\\xb2\\xf7+\\t|\"\\x95\\xc5\\x00[\\xf6\\xd9;\\xc3\\xd93\\x07\\x079\\x04\\xf0\\x84\\xfe/z!\\x03\\x83hQ\\x06\"\\xcaw\\x91\\x02j\\xbeh1h*BH\\x9a\\xb0\\x8c\\x0e\\xee/\\xa4$\\xf0\\xf1\\xa8\\xe0\\x86h\\xe4\\xce\\x98!9..G\\x8a\\xc5\\x99\\xe3@#\\xe8\\xbe-\\x9b\\xf6-\\xd9s\\xf6\\x9ft\\x86-x\\x06]\\xd3\\xd7\\xc4\\x8bo\\xeb\\xeb\\xaa\\xf2\\xaa\\x15\\x9ew\\\\\\xc7\\xa7^\\x9f\\xa2Y\\xa3\\xa9K\\x8e77*\\\\\\x8b\\x10\\x8e\\xb0\\x10`D\\x0b` \\xc0u\\xc7.$\\x18\\xa8\\x11\\x1c\\x14\\x05#\\x8b\\xa9$>\\xf1\\x05\\xc1\\xc0q\\x18\\\\\\xfe\\xc5n\\xdavRG@@D\\xa3\\xe0tJd\\x8c\\x80\\xfa\\xd6O\\xa4@\\x9a\\xdc3 @\\x11!$M@d\"\\xb7=w\\xa6\\xf0\\x93\\xa3B\\x13\\xe3\\xc2\\x10\\x15W&\\xa4\\xc4\\x86\\x17h\\x0b\\xa4\\xe4.\\xf7K\\xeb\\x8a\\xd0R>s\\xf9\\x9fj)\\xaf\\xdc\\xd2\\xa0\\xcd-\\xd0hlH\\n\\x1ay\\x07Z\\x87\\xd0\\xe3\\xb1\\x98\\x97\\xbeVu\\xcc\\xaaP\\xeb=\\x9dr\\xb9\\xbc\"\\xd3v\\xe2\\x07\\x08\\x19\\x80 \\xc0\\x1eHv\\xb6]\\xa0A\\xe1\\x0c!\\xc08\\x0c\\xeb\\x89O|\\x00\\x0c\\xacS\\xa0G\\xd1O\\x83!E\\xd0\\x0f\\x04\\xf0\\x84\\xca@FHS/RsN\\n\\x9c\\x12 \\x05\\x02\"\\x86*\\x01=\\x87\\x8c\\x81\\xe9\\xcf\\x81\\x80@(K@/5Q\\x1a\\x16\\x99\\x14\\x15\\x89\\xc7\\x06\\x13\\x0bZ\\xb4qx\\x02(\\xf1\\x89\\x95A\\x98!x\\xd3\\xbe\\x8e\\x8b\\xff\\xcc@\\xe2\\x93\\rZ\\xad\\xaaBE\\x02\\xf7\\xd6\\xad\\xa6\\xae\\x03\\x85V\\x8bK=T\\x88E\\xc1\\xdf\\x19\\xb7Z\\xd4\\xe3x\\x89\\x87G!\\x94\\x9e\\xa9\\x04h\\x00_\\x04\\x02\\x08\\x10\\x06\\xf8\\x08\\xcf\\x8c\\r\\\\\\x80\\xf4\\xcfP\\x1a\\xbe\\xa2\\x18\\xfai\\xe5\\x01\\x82\\x13A\\xea{\\x1fLL(\\x9d\\x86|\\x99,P$\\x10\\n\\x19\\x86\\x81g\\x89\\x02 \\x01\\xb0\\xc07\\'\\x05\\x90\\x08\\x81/\\xc4\\xa0\\xbd\\x14\\x89Y\\x08\\xb0\\x93{\\xc3V=\\x10!\\rK\\xc4\\xa2\\xab\\x99\\xb5a\\xf7J\\xdb\\xdbs\\x93\\x92b\\xe3\\x9e\\x88\\xceYW\\x86\\xd7(\\xee\\xd8\\xb3\\xef\\xd2?1)R\\x19 h\\xfa\\xf0&\\xe7\\xa8\\xc7Th\\xe2\\x1d80e\\xb1(\\x8eM\\xd9\\x15S\\x1e\\x8dZ\\xa1\\xf6b2\\x10~- \\xa4\\xb2\\x10t\\x12\\x99\\x800\\xa0\\xbb?\\xf1\\x06\\xce\\x0b\\xc8\\xc6\\x85E\\x19*\\xc4\\x9dgd\\xc1b%\\xd4\\xf0\\xf5\\xa1\\xdd\\xdd\\xfd\\x83,\\x84A\\x8c9|q\\xa8wb\\x1e\\xb7\\x95$~2\\xe4\\x06\\xe4\\xbf\\x10\\x1f\\x1532\\x82B\\xc8\\xa0\\x94\\x91\\xbb<P\\x00 p\\x16\\x03\\x08\\x87i\\xc2H\\xec\\xe1\\xe2\\x9cUQ|i\\xe4\\xea\\xd0H\\xcc\\x02\\xbc!Q\\xdb\\xb2s\\xc3\\xa39\\xb5Ma\\x0f\\xe6\\xdc\\x87\\x85\\x98v=\\xb9\\xafc\\xc79\\x7f\\xb8\\xcb\\xf0d\\xbb\\xb6\\xa8\\xda\\xe6\\xea\\xeb\\xe2\\xe31\\xec.\\xd3h\\xe1\\x88Y\\x8d\\x8e.r\\x19\\x94f\\x8b\\xc5\\xd6\\x19\\x0f\\x08\\x9e/\\x01\\xa1\\x14\\x10\\xe6t\\xe9\\x0c\\x82!\\xab\\x03\\xea\\rd\\xa35FX \\x08\\x18X\\xe5\\xd0\\xb0P\\x06\\x1a,\\x86\\x181q\\n\\xf1\\xa1\\xe5\\xfd\\xddp\\x06|-?d\\x98\\x98\\xe8\\x85\\n$\\x81\\x0c\\xd5\\x95P&c\\xd4C\\n\\xe4\\x16F\\x97\\x91Q\\x1e5\\xc8\\xf2\\x03\\x18\\x7f\\xf0\\x08\\x0c\\x06\\x05Q\\x08T\\x91\\xbf\\x9e@\\x188\\xf2\\x1e\\xbd\\xc7S\\xf2TJNr\\x9849tu\\xb2\\xb4)3\\xf1\\xfe\\\\}Q\\xec\\xbd\\x1bbkk\\xc3\\x1e|\\x02\\xeb\\x92\\x05\\xdd\\xba\\xf7\\xb9\\xe7:.\\xf9\\xc3/\\xaaln\\xaf.\\xb0i4\\x1a$\\x04\\x85\\xf1r\\xde(\\x86\\xff\\xac\\xd6c\\xc7\\x86\\x80\\xe1\\xd8\\xb1\\xf1)\\x85\\xdd\\x94\\'\\xe7g\\xda\\x00!\\x15\\x10>\\x99\\xd3\\xad\\x87j\\x01\\x01\\x14\\x02e\\xe4p\\xd1\\x0b\\x08\\tz!\\r\\n\\xb7\\xdeZ)\\x13\\xfa\\x81\\x10\\xdb\\\\\\xca\\xf2+\\x95\\x86\\xc3_M|ph9u\\x83yB@Y\\x99/`\\x844\\xb6B\\t2\\xc62i\\xd1\\xcd\\xe9\\x14\\x06\\xb5\\xce2Vy\\xd4>$\\xf6\\xc7\\x98\\xbb\\xcc\\x9f\\xb0\\xf0\\x0f\\x14\\n\\x03I\\xff\\xa9\\x97@@\\xfe\\x0e\\x08\\xbbR\\xa4\\xd0\\xc1\\xaa\\x88\\nL\\x12}o\\xa4\\xb6]\\xba\\x01\\x99BS\\xd3\\x13\\x1brR6\\xdf\\x15\\xb4\\x8bd\\x8e\\x1dg\\xff\\xc1\\xa6\\xa1,\\xa5\\xba\\xbaO\\xe3r\\xd8\\xbcm\\xa3\\xf2x\\xb9\\xc9\\xc4{\\x07\\x83>\\xefT\\xbdz\\xcc\\xa2\\x18oNk\\x9d\\xb2;\\xe2\\x93\\xf9\\xb5}T\\t\\xfdY\\x80\\x90\\x8f\\x9a#\\x12\\x80\\x01#\\x19\\x16\\x9eA\\x808\\x81\\xc8\\xa9X\\xb1\\xc2\\xe5\\x04\\x0c\\x01\\x0b\\x00:!\\x18\\xfc\\x9e\\x07\\x86\\xde\\x89\\xaf2\\x0e\\x1d\\xaa\\xfcjN\\x89\\xdcH\\x12\\x8c\\\\B\\x10\\x80\\rz\"\\xa0\\xd4:\\xb5\\xf2\\xa8u\\x98\\x19\\x9a\\xb4N2\\x93\\xc3\\xba!\\xa7^W9l\\x19\\xa8\\x1c\\xa8L\\xf7\\xcf\\x17\\x07\\xf8I\\xd0uXTB\\xdd\\x9d5\\xd9*~\\x14<\"33<)4S_@\\xeei\\xc6\\xe5\\xe6\\xc6n@S\\x11\\x14TS\\xf3\\xd8s\\x8f-\\xf9\\x83\\xaf\\x13]\\xbc\\xa5\\xb6Zk\\xd3\\xa8\\xe4\\xb6\\xbe./?\\xbek\\xd4d*\\x1fA\\xf5\\xd3\\n_W(\\xc6\\xf3\\xf2\\n\\xc7-\\x1e,\\x84\\xdf\\xe4\\x98Y\\x84`\\x8c!\\x10`\\x012\\xc6me\\xb8pH\\t\\x04\\x1b\\x15x\\xfdy8\\x04>M3\\x07!\\x8d\\x99D7\\xf8\\xb5_z%\\xee(\\x8a\\'&\\x0eW:\\x81@\\x80?\\x13\\xc0z\\x15\\x07\\xc1<iq\\x0e\\x0f[\\xd2\\x15\\x93\\x8a\\xa3\\xa2\\xb1I\\x8b\\xe1\\xb0\\xdd)SX\\x94\\x19\\xba5F\\x9db \\x83\\xc9?\\x13\\xc2=\\xc5\\xd9\\xd2\\xe4Uk\\x1f\\xaf\\x90VD\\xac\\x8e\\xd2h#\\x93\"\\x92\\x92\\xa0\\x04\\xe9\\x13aXY\\x01\\xcb\\xb8>V\\xf3\\xd8\\x92?\\xb6H\\xf7\\xd9-[\\n\\xaa\\xd1\\xa3\\xdb\\xcawy\\xbb\\xfa\\xda\\xd2\\xda\\x1c\\xf5\\xf5\\xcdO+\\x14S\\xcd[\\x9f\\x9e\\xb2\\xd4\\xc7\\x17v.\\xb5(\\xe4m\\x98\\xfa\\x01\\x10\\xd0\\xd9+u\\xce\\x1a\\x83QC\\xf4\\x96\\x02\\xfc\\x18\\x85\\x9b\\x91\\x11\\x02\\xd4\\x0b\\xf2u\\n\\x9f\\x15+\\xd4\\x06\\x1c\\x82\\x00\\xbb\\x83\\x001\\xca\\x021\\xe2\\xf9^%8(\\x91\\x17 P\\x08\\x04\\x04\\x02\\xd7\\xfd\\xc4o\\x85\\xc2\\xaf\\xd3\\x99\\x0c?\\x9d\\xc5(\\x1ef\\x18\\x85\\xce9i\\xb4W\\n\\xadV1#v1Cz\\xa7\\x88\\t\\xc9\\x0f\\xc0X\\x05\\xbd\\xd9WZW|\\xcf]\\xe1Q\\xab#\\xf8\\xaa\\xda\\x88\\xd0\\x8d*m[T,\\x9e\\xf2AL\\x88\\x8d\\x0eK\\xb8\\x9d@\\xa8)~n\\xcf\\xbe\\x8b\\xffP\\xb2\\xb8\\xa5\\xa8H\\xe3\\xe8\\xc3n\\xe39\\xbc[\\xe3\\x1b\\xbd\\x9d\\xbc\\xce\\x9e\\x11\\xb5\\xa2\\xb3\\xb5|\\x1c\\x10Z\\xbb:\\x15\\xb66\\xfe\\x8f\\x10\\x94\\xb3\\xce@D<\\x01\\xbc\\x811\\xae\\xd01\\x84\\x01\\xaa\\x9d>\\xa0p\\xafXq\\xdbP\\x06C\\xb1\\x90\\xf8\\xc8\\xaa@@\\xbf\\x88G\\x08\\xd0\\x02\\x08c2\\x0cJ1\\x89\\x86\\x08\\xad$\\x18P\\x088B\\xbb\\xc2|u\\xfa\\xf4\\xe9y\\x11\\x03\\xb7\\x02\\x90|\\x7f\\x99\\xc1`\\x1d\\xcePX\\r\\xfe\\xee\\xa3\\x8c\\xd5e\\x10\\xc8\\xf2\\xf3\\x05\\x87Y\\x08PB\\xf1\\xc3\\xb7&\\xaf\\x8d\\xe2\\xf33\\xa5\\xabW%k3W\\xf1c#\\xa3\\xa3\\xc3k3WF\\xc7\\xc5\\xad\\\\\\x99\\xb2\\xb9\\x06OD>\\xd3\\xf1G\\xa2\\xc29;\\x1a\\xaa\\xab5\\x9a\\xbe>\\x9b\\xc3\\xe4p\\xc8\\xa3\\xe4\\xde\\xfaf\\xd3\\xd2\\x9eq\\xb5e\\xbc\\xb9\\xb9u\\xaa\\xbe\\xb9\\xb9\\xab\\xd3\\xeai\\xcb\\xccl*Xv\\x90$\\xb9\\xcb\\x0e\\xcf*\\x052?\\x81\\x00\\x0cB\\xdc\\x80@\\xccOi\\xf5\\xb9y\\xc5\\n\\xfb$\\xf1\\x03\\xd2\\\\\\x08\\xb1\\xd1\\x1c\\x8a\\x83\\x00\\x03\\x15h_\\x06\\x1f@4e\\x04\\xac?\\x91~7\\x0c\\x10@2\\xf8mb\\x8c\\xe0\\xd3\\xb7?\\xfd\\xf4\\x14\\xc3\\x9c\\x9e\\x8b\\xf9*X\"\\x0c4:\\xc5j\\xabxLa\\x143\\xf9\\xf9\\xfe\\x1c\\x84R@(\\xde\\x15\\x1d\\xca\\xaf\\xa8x<4t\\x95\\xaa \\x14\\x8d%n\\xe4\\xc5ffF\\x87\\xe7\\xc6\\xe5$\\xec,.\\xde\\\\\\xf3\\xf0\\x93K\\x96\\xfc\\x81\\x06\\xe2\\xa2-\\xedZ\\x1b\\xdc\\x01]\\\\\\x87\\xa9\\xb3Q\\xde\\xe6\\xe8j\\xe6\\xd5\\xf7\\xbcjQO\\xb5\\xe6\\x95\\x8f 0\\x16.\\xb5*\\xea!\\x84\\\\\\x16\\xc2\\xf2y\\xa3\\x01\\xed \\xb9\\x8c\\xcc\\xf0\\n\\xbd{ \\x10\\xf7\\x06]\\xb7\\xdcr\\xcb\\xcdf\\x1d\\x14!$*\\xa0\\x10\\x04\\xd4ePW\\xea\\x12\\x90>\\x0e\\xb0\\xe3\\x8a\\xcbP\\xe24I\\xb6\\xb0Qo\\xc0\\x8f\\x0c\\x83\\xca\\xbf\\xfdv\\x08[<\\xcf|\\xfa!\\x88\\x88\\x98S\\xa7&&\\xe6\\x18A\\xbaP\\xe2\\x94 &\\x00\\xc2\\xfc{\\xf4\\xae/ \\xdc\\x15\\x0b\\x06H\\x9d\\xa3B#C\\x93\\xa5\\xfc\\xc8\\x88\\xa4Difltln\\xdcJ\\xac1\\x83\\xe6\\x01k\\x95/\\xe9\\xf8\\xfd\\\\\\xe1\\x86\\'\\xdb]\\x05}*8C\\x1f\\xaf\\xd3\\xeb\\xd8::*O\\xeb\\xaaOK\\x9b2\\x0f\\xb5\\xc6/\\xb5Z_/o\\xed\\xf4\\x98M\\x99\\xb9}\\t\\x18.\\x04\\x84/\\xe6\\x8dh\\xfbH\\xad\\x98@\\xbb\\x8f\\xde}\\x8b\\xde\\xbd\\xe6\\x16\\xf7\\x9a\\x9b\\xd5J\\\\_\\x1a\\x0bi4\\x84\\xf9\\xb3\\xad\\x03\\n|ho[\\xc0\\xfd@vD\\x03jl\\'\\x84\\xc4\\x97\\xd3\\x10\\xc0\\xdbs\\xccw\\xa8\\xfc\\x87\\\\q\\x9a9\\xf5!\\xec\\x14\\xfd\\xdd\\xa7\\xe9\\x14\\x82\\x91@(\\x05\\x84\\x9a\\x9a;\\x130\\x17.\\xdeK\\xc7\\xc3aQ\\x15\\x15\\xe1x\\xeb*\\xb1B\\x1a\\t5\\xac\\x8c\\xab\\xc6\\x8c\\x875\\xc5X`mI\\xc7e\\xbf\\xdfu*C\\xaeX\\xe0\\x18\\xc5D\\xaam}\\xb66\\xb9\\x03\\x0fWt\\xd6\\xe7\\xf5\\x8c(\\x86_\\x1dQ#]\\x98\\x9a:\\xa6P\\xd7K\\x9b\\x1cA\\xe8\\xf6\\x01\\xc2{\\x13\\xc6\\x0cFH|\\x9c\\x11\\xa3\\xd3\\xad\\xd7\\xe3\\xb3f\\x85YI\\xfc`1Y\\xe6\\x1a\\x06\\xea\\x14`A\\x85@\\n\\xa8\\x01$\\xb0\\xb1:\\xe0\\xfc\\x01B\\xa0\\x1e\\x11,\\x08X\\x9f\\xcf\\x08N\\x9f>\\xf5\\xddif\\xe2m0\\xf8\\x8e9\\xfd\\xe1\\x87\\xa4\\x98\\x03\\x89[\\xbecdT\\ts\\x80\\x00+y\\x08ca\\x99\\xf0\\x01\\xbc\\\\\\xb2:\\xa2\\xa21\\x16\\x0c\"\"\\xa5\\xb1\\x89\\x89\\xb1\\xebV\\xae\\xab\\xdey\\xdff@\\xc0\\n\\xd5\\xfb.\\xff\\xfd\\xb0XV\\x8d\\x80\\xa0\\xb15n\\xe5\\xd9l\\xa3y<\\x9b\\t\\x8db\\xfd\\xc8\\xd4\\x90\\x02w\\x89\\xb0Y\\xccj\\xdc62E\\x847~\\xc6B84a\\x94P\\xd1\\xfb1!>k\\xec\\x80p\\xf3\\x1a\\xcb,\\xf1\\x03.e$\\xde\\x80\\x03\\xb6i\\xe4\\xea\\xcfB\\xa0j`\\xf5@7.\\x1ap\\xdf\"\\x7f!\\x02\\x06R\\x0fb2\\x8c^O\\xcc\\t\\x99S\\x10\\xc7\\xa7L\\x00\\x91\\xc3\\xdb8\\x9b\\x9e\\xee/1\\xce\\x1d\\x02\\x048\\xc4C\\x9bkR\\xc2\"#`\\xe1|0\\xc0QT\"&w\\xda\\x10\\xbeneNX6f\\xf2\\xaa)\\xbe\\x07sa\\xef\\xf9\\xbdV\\xf2\\x9c\\x96\\x86\"t\\x1bT\\x8d\\x8e\\xb6\\n\\x8d\\xcd#\\x97;l]]\\xc8\\x18\\xcdf\\x0b\\x12\\xe7\\xe1a\\xc5\\x10\\xee\\x9c\\r+\\xf4\\x9e\\xe4\\xd8\\xc6\\x19\\x02\\xa1\\xbf\\xff\\x83y\\x8c\\x03\\n\\x85\\xe4J3N\\x9f\\x9b\\xd7\\xf8\\xd8\\xad\\xbd\\x8b*\\xa0=IRp\\x1fT\\x97~\\xc1Pp\\xf5\\x17rd \\x82E\\nt\\xf7g{\\xcfd\\'aBH\\xa2g\\x08:\\xd8\\xc8\\x9e\\xc5\\xbe\\xa7\\xbe\\x833\\x08\\x85\\x18b|\\xde8\\xf7y\\x7fi*0\\x9c\\xd8[s\\xdf:\\xf26r\\x85J\\xd5\\xc8O\\x86\"\\xa2\\x12#\\xa5\\xe1\\x11a\\xb5\\xd1\\xd1qx\\x19+\\x05\\x91\\xf3\\xce\\x9a\\x8eg~/a\\xba\\x94\\xb4\\rZ\\x97\\x06\\xeb\\xde7jl\\xbc\\xf8QM}\\xa1w\\xca\\xaa@\\xd2l\\x1dBa\\xb5b\\x1c\\xec\\xd5)\\xbb\\xadB*]N!,C\\xbe\\x13\\xc0A\\x80\\x16\\x8c\\xc6^\\x11\\x10\\xa0^\\x8bI#5T\\x97\\xfeD}\\xe0\\x07=\\xb0\\x05\\x8cU\\x06Ka\\xb1}\\xc0\\xf6\\xe3\\x88\\x12\\xfd&\\xb7\\xf8p(\\x13 \\xb7\\x86\\x91\\x1eF~\\xba`\\xbdq\\xee\\x93\\xfe~@\\x18<QVS\\x8c\\x95\\x8bC\\xdb\\x1a\\xc1\\x00\\xef\\x95\\xe1\\xc5\\x82\\x88H\\xb8\\x87\\xb46\\',7;;\\xe1\\xae\\xfbj\\xc8B\\xac\\xcf\\xfdNh<\\xff\\xca\\x1dZ\\xdam\\x18\\xe5!\\x1a8\\xb6\\xd6k\\x1c\\xad[\\x0b{ZG^M\\xebD\\xdf\\xc1\\xaeG\\xcaXX\\xf8\\xf4\\x88\\xde\\xc6o\\xbc}7\\x19\\n\\xea_>\\xa14\\xc8d`@w\\x86\\x18m\\x0c\\xa9\\xff\\xd3\\x8a\\xa3\\x00\\n\\x01\\xf9\"\\x05\\x1b\\nX\\r\\xd0\\xca\\xd3\\r\\xe6G\\xea\\x8f\\xfd\\xc76\\xe2\\xc7a\\x04v\\x881\\x98\\x1de\\xa47\\xffC \\x0f\\x91(?=0fv\\xd6\\x99\\xda_\\n\\x08\\x0b\\x04\\xc2\\xedI\\x10BE$\\x08\\xd0w\\xb3c\\xa5\\xd1\\x89\\xd2\\xda\\xe8\\xcc\\x82\\x9d\\xd9\\xb7b\\xb1\\x88\\xe2{\\x1e&\\xef\\x18^\\xf6\\x9baqG\\xc3u\\xd7]w\\xcd5\\xd7\\xf0x\\xf5<oW\\xfd5\\xd7t\\x16\\xb6\\x15>\\xdd9ZX\\xbe\\xd4;u\\xad\\xe2Z\\xd8\\xc8\\xd2\\xd6\\x11\\xf3\\xf5|\\xd5\\x8b\\x07\\x97/\\x07\\x84C\\x13N\\xb1\\xec<\\xd6\\xce\\xc5\\x8e\\x8d\\x1e\\x9di\\xdc)\\xfakl0Z,\\x9e\\xa2\\xa7\\x7f\\xdd.$\\x1b\\xbb\\xff\\xcc\\xd2\\xf19\\x97\\x14\\xe7\\xa2\\xdf\\xb5\\xbc\\x7f\\xd9\\xb2e\\xbbg\\xae\\xcb\\xde\\x95\\x10\\xc6ol\\xe4\\xf1\\xe5QQ\\xf2d>\\x1f\\x0b\\xac\\xf0\\x93\\x9333\\x933\\xaf\\xb9\\xfe\\xfa\\xb0[\\xaf\\xcf\\xce\\xde\\x85\\xc8\\xf0\\xdc\\x9e\\xcb\\x7f\\x11\\x15\\xbe\\x07\\xc1\\x0e\\xbd\\xb9\\'\\xe3\\xb9\\x87\\x00\\x00\\x00\\x00IEND\\xaeB`\\x82'"
      ]
     },
     "execution_count": 65,
     "metadata": {},
     "output_type": "execute_result"
    }
   ],
   "source": [
    "bytes_img"
   ]
  },
  {
   "cell_type": "code",
   "execution_count": 64,
   "id": "6ac3c628",
   "metadata": {
    "ExecuteTime": {
     "end_time": "2021-08-30T00:47:49.331606Z",
     "start_time": "2021-08-30T00:47:49.308666Z"
    }
   },
   "outputs": [
    {
     "ename": "AttributeError",
     "evalue": "'bytes' object has no attribute 'save'",
     "output_type": "error",
     "traceback": [
      "\u001b[1;31m---------------------------------------------------------------------------\u001b[0m",
      "\u001b[1;31mAttributeError\u001b[0m                            Traceback (most recent call last)",
      "\u001b[1;32m~\\AppData\\Local\\Temp/ipykernel_2404/3476922095.py\u001b[0m in \u001b[0;36m<module>\u001b[1;34m\u001b[0m\n\u001b[0;32m      1\u001b[0m \u001b[0mbuffer\u001b[0m \u001b[1;33m=\u001b[0m \u001b[0mBytesIO\u001b[0m\u001b[1;33m(\u001b[0m\u001b[1;33m)\u001b[0m\u001b[1;33m\u001b[0m\u001b[1;33m\u001b[0m\u001b[0m\n\u001b[1;32m----> 2\u001b[1;33m \u001b[0mbytes_img\u001b[0m\u001b[1;33m.\u001b[0m\u001b[0msave\u001b[0m\u001b[1;33m(\u001b[0m\u001b[0mbuffer\u001b[0m\u001b[1;33m)\u001b[0m\u001b[1;33m\u001b[0m\u001b[1;33m\u001b[0m\u001b[0m\n\u001b[0m",
      "\u001b[1;31mAttributeError\u001b[0m: 'bytes' object has no attribute 'save'"
     ]
    }
   ],
   "source": [
    "buffer = BytesIO()\n",
    "bytes_img.save(buffer)"
   ]
  },
  {
   "cell_type": "code",
   "execution_count": 23,
   "id": "d7df9f9e",
   "metadata": {
    "ExecuteTime": {
     "end_time": "2021-08-29T22:26:03.434305Z",
     "start_time": "2021-08-29T22:26:03.411337Z"
    }
   },
   "outputs": [
    {
     "ename": "AttributeError",
     "evalue": "'contend_id' are invalid kwargs for this class",
     "output_type": "error",
     "traceback": [
      "\u001b[1;31m---------------------------------------------------------------------------\u001b[0m",
      "\u001b[1;31mAttributeError\u001b[0m                            Traceback (most recent call last)",
      "\u001b[1;32m~\\AppData\\Local\\Temp/ipykernel_2404/38123234.py\u001b[0m in \u001b[0;36m<module>\u001b[1;34m\u001b[0m\n\u001b[1;32m----> 1\u001b[1;33m img = FileAttachment(\n\u001b[0m\u001b[0;32m      2\u001b[0m     \u001b[0mname\u001b[0m\u001b[1;33m=\u001b[0m\u001b[1;34m'Damian Lillard.png'\u001b[0m\u001b[1;33m,\u001b[0m\u001b[1;33m\u001b[0m\u001b[1;33m\u001b[0m\u001b[0m\n\u001b[0;32m      3\u001b[0m     \u001b[0mcontent\u001b[0m\u001b[1;33m=\u001b[0m\u001b[0mplayer_img\u001b[0m\u001b[1;33m,\u001b[0m\u001b[1;33m\u001b[0m\u001b[1;33m\u001b[0m\u001b[0m\n\u001b[0;32m      4\u001b[0m     \u001b[0mis_inline\u001b[0m\u001b[1;33m=\u001b[0m\u001b[1;32mTrue\u001b[0m\u001b[1;33m,\u001b[0m\u001b[1;33m\u001b[0m\u001b[1;33m\u001b[0m\u001b[0m\n\u001b[0;32m      5\u001b[0m     \u001b[0mcontend_id\u001b[0m\u001b[1;33m=\u001b[0m\u001b[0mplayer_img\u001b[0m\u001b[1;33m.\u001b[0m\u001b[0mread\u001b[0m\u001b[1;33m(\u001b[0m\u001b[1;33m)\u001b[0m\u001b[1;33m\u001b[0m\u001b[1;33m\u001b[0m\u001b[0m\n",
      "\u001b[1;32mc:\\users\\thipa\\python-venvs\\nbaflow-venv\\lib\\site-packages\\exchangelib\\attachments.py\u001b[0m in \u001b[0;36m__init__\u001b[1;34m(self, **kwargs)\u001b[0m\n\u001b[0;32m    132\u001b[0m     \u001b[1;32mdef\u001b[0m \u001b[0m__init__\u001b[0m\u001b[1;33m(\u001b[0m\u001b[0mself\u001b[0m\u001b[1;33m,\u001b[0m \u001b[1;33m**\u001b[0m\u001b[0mkwargs\u001b[0m\u001b[1;33m)\u001b[0m\u001b[1;33m:\u001b[0m\u001b[1;33m\u001b[0m\u001b[1;33m\u001b[0m\u001b[0m\n\u001b[0;32m    133\u001b[0m         \u001b[0mkwargs\u001b[0m\u001b[1;33m[\u001b[0m\u001b[1;34m'_content'\u001b[0m\u001b[1;33m]\u001b[0m \u001b[1;33m=\u001b[0m \u001b[0mkwargs\u001b[0m\u001b[1;33m.\u001b[0m\u001b[0mpop\u001b[0m\u001b[1;33m(\u001b[0m\u001b[1;34m'content'\u001b[0m\u001b[1;33m,\u001b[0m \u001b[1;32mNone\u001b[0m\u001b[1;33m)\u001b[0m\u001b[1;33m\u001b[0m\u001b[1;33m\u001b[0m\u001b[0m\n\u001b[1;32m--> 134\u001b[1;33m         \u001b[0msuper\u001b[0m\u001b[1;33m(\u001b[0m\u001b[1;33m)\u001b[0m\u001b[1;33m.\u001b[0m\u001b[0m__init__\u001b[0m\u001b[1;33m(\u001b[0m\u001b[1;33m**\u001b[0m\u001b[0mkwargs\u001b[0m\u001b[1;33m)\u001b[0m\u001b[1;33m\u001b[0m\u001b[1;33m\u001b[0m\u001b[0m\n\u001b[0m\u001b[0;32m    135\u001b[0m         \u001b[0mself\u001b[0m\u001b[1;33m.\u001b[0m\u001b[0m_fp\u001b[0m \u001b[1;33m=\u001b[0m \u001b[1;32mNone\u001b[0m\u001b[1;33m\u001b[0m\u001b[1;33m\u001b[0m\u001b[0m\n\u001b[0;32m    136\u001b[0m \u001b[1;33m\u001b[0m\u001b[0m\n",
      "\u001b[1;32mc:\\users\\thipa\\python-venvs\\nbaflow-venv\\lib\\site-packages\\exchangelib\\attachments.py\u001b[0m in \u001b[0;36m__init__\u001b[1;34m(self, **kwargs)\u001b[0m\n\u001b[0;32m     48\u001b[0m     \u001b[1;32mdef\u001b[0m \u001b[0m__init__\u001b[0m\u001b[1;33m(\u001b[0m\u001b[0mself\u001b[0m\u001b[1;33m,\u001b[0m \u001b[1;33m**\u001b[0m\u001b[0mkwargs\u001b[0m\u001b[1;33m)\u001b[0m\u001b[1;33m:\u001b[0m\u001b[1;33m\u001b[0m\u001b[1;33m\u001b[0m\u001b[0m\n\u001b[0;32m     49\u001b[0m         \u001b[0mself\u001b[0m\u001b[1;33m.\u001b[0m\u001b[0mparent_item\u001b[0m \u001b[1;33m=\u001b[0m \u001b[0mkwargs\u001b[0m\u001b[1;33m.\u001b[0m\u001b[0mpop\u001b[0m\u001b[1;33m(\u001b[0m\u001b[1;34m'parent_item'\u001b[0m\u001b[1;33m,\u001b[0m \u001b[1;32mNone\u001b[0m\u001b[1;33m)\u001b[0m\u001b[1;33m\u001b[0m\u001b[1;33m\u001b[0m\u001b[0m\n\u001b[1;32m---> 50\u001b[1;33m         \u001b[0msuper\u001b[0m\u001b[1;33m(\u001b[0m\u001b[1;33m)\u001b[0m\u001b[1;33m.\u001b[0m\u001b[0m__init__\u001b[0m\u001b[1;33m(\u001b[0m\u001b[1;33m**\u001b[0m\u001b[0mkwargs\u001b[0m\u001b[1;33m)\u001b[0m\u001b[1;33m\u001b[0m\u001b[1;33m\u001b[0m\u001b[0m\n\u001b[0m\u001b[0;32m     51\u001b[0m \u001b[1;33m\u001b[0m\u001b[0m\n\u001b[0;32m     52\u001b[0m     \u001b[1;32mdef\u001b[0m \u001b[0mclean\u001b[0m\u001b[1;33m(\u001b[0m\u001b[0mself\u001b[0m\u001b[1;33m,\u001b[0m \u001b[0mversion\u001b[0m\u001b[1;33m=\u001b[0m\u001b[1;32mNone\u001b[0m\u001b[1;33m)\u001b[0m\u001b[1;33m:\u001b[0m\u001b[1;33m\u001b[0m\u001b[1;33m\u001b[0m\u001b[0m\n",
      "\u001b[1;32mc:\\users\\thipa\\python-venvs\\nbaflow-venv\\lib\\site-packages\\exchangelib\\properties.py\u001b[0m in \u001b[0;36m__init__\u001b[1;34m(self, **kwargs)\u001b[0m\n\u001b[0;32m    159\u001b[0m             \u001b[0msetattr\u001b[0m\u001b[1;33m(\u001b[0m\u001b[0mself\u001b[0m\u001b[1;33m,\u001b[0m \u001b[0mf\u001b[0m\u001b[1;33m.\u001b[0m\u001b[0mname\u001b[0m\u001b[1;33m,\u001b[0m \u001b[0mkwargs\u001b[0m\u001b[1;33m.\u001b[0m\u001b[0mpop\u001b[0m\u001b[1;33m(\u001b[0m\u001b[0mf\u001b[0m\u001b[1;33m.\u001b[0m\u001b[0mname\u001b[0m\u001b[1;33m,\u001b[0m \u001b[1;32mNone\u001b[0m\u001b[1;33m)\u001b[0m\u001b[1;33m)\u001b[0m\u001b[1;33m\u001b[0m\u001b[1;33m\u001b[0m\u001b[0m\n\u001b[0;32m    160\u001b[0m         \u001b[1;32mif\u001b[0m \u001b[0mkwargs\u001b[0m\u001b[1;33m:\u001b[0m\u001b[1;33m\u001b[0m\u001b[1;33m\u001b[0m\u001b[0m\n\u001b[1;32m--> 161\u001b[1;33m             \u001b[1;32mraise\u001b[0m \u001b[0mAttributeError\u001b[0m\u001b[1;33m(\u001b[0m\u001b[1;34m\"%s are invalid kwargs for this class\"\u001b[0m \u001b[1;33m%\u001b[0m \u001b[1;34m', '\u001b[0m\u001b[1;33m.\u001b[0m\u001b[0mjoin\u001b[0m\u001b[1;33m(\u001b[0m\u001b[1;34m\"'%s'\"\u001b[0m \u001b[1;33m%\u001b[0m \u001b[0mk\u001b[0m \u001b[1;32mfor\u001b[0m \u001b[0mk\u001b[0m \u001b[1;32min\u001b[0m \u001b[0mkwargs\u001b[0m\u001b[1;33m)\u001b[0m\u001b[1;33m)\u001b[0m\u001b[1;33m\u001b[0m\u001b[1;33m\u001b[0m\u001b[0m\n\u001b[0m\u001b[0;32m    162\u001b[0m \u001b[1;33m\u001b[0m\u001b[0m\n\u001b[0;32m    163\u001b[0m     \u001b[1;33m@\u001b[0m\u001b[0mclassmethod\u001b[0m\u001b[1;33m\u001b[0m\u001b[1;33m\u001b[0m\u001b[0m\n",
      "\u001b[1;31mAttributeError\u001b[0m: 'contend_id' are invalid kwargs for this class"
     ]
    }
   ],
   "source": [
    "img = FileAttachment(\n",
    "    name='Damian Lillard.png',\n",
    "    content=player_img,\n",
    "    is_inline=True,\n",
    "    contend_id=player_img.read()\n",
    ")\n",
    "msg.attach(img)\n",
    "msg.send_and_save()"
   ]
  },
  {
   "cell_type": "code",
   "execution_count": 54,
   "id": "f1af3173",
   "metadata": {
    "ExecuteTime": {
     "end_time": "2021-08-30T00:40:35.517850Z",
     "start_time": "2021-08-30T00:40:35.498472Z"
    }
   },
   "outputs": [
    {
     "data": {
      "text/plain": [
       "_io.BytesIO"
      ]
     },
     "execution_count": 54,
     "metadata": {},
     "output_type": "execute_result"
    }
   ],
   "source": [
    "type(player_img)"
   ]
  },
  {
   "cell_type": "code",
   "execution_count": 56,
   "id": "db8bf72a",
   "metadata": {
    "ExecuteTime": {
     "end_time": "2021-08-30T00:42:43.897054Z",
     "start_time": "2021-08-30T00:42:43.884088Z"
    }
   },
   "outputs": [
    {
     "data": {
      "text/plain": [
       "b'\\x89PNG\\r\\n\\x1a\\n\\x00\\x00\\x00\\rIHDR\\x00\\x00\\x01\\x04\\x00\\x00\\x00\\xbe\\x08\\x03\\x00\\x00\\x00\\xe4\\xf0\\x81\\x9f\\x00\\x00\\x03\\x00PLTE\\x00\\x00\\x00\\x94lU\\x9cmP\\x19\\x18\\x18;77-36\\xec\\xed\\xf2\\xf1\\xf2\\xf78@F*,,\\x8a\\x9c\\xa7W)\\x13\\xa7~f\\xe5\\xe4\\xeaC74\\x1b\\x1d\\x1c-10\\x1f#$\\x1e!\"\\x15\\x14\\x13\\xe2:9KA=010\\xe9LK\\r\\x0e\\x0eE/(s]Sw\\x83\\x93\\x8fjVjN?`L@]afV?0sP:wy\\x7f=0+h\\x14\\x1c\\x81\\x8b\\x9e\\xf0\\xf1\\xf6\\xef\\xef\\xf4\\xed\\xed\\xf3\\xeb\\xeb\\xf1\\x02\\x02\\x02\\x07\\x06\\x06\\xe9\\xe8\\xee\\xff\\xfe\\xff\\x0b\\x0b\\n\\x99^<\\x90W6\\x1b\\x13\\x10\\xf3\\xf3\\xf8\\xe2\\xe2\\xeb\\xe0\\xdf\\xe7\\xa2fB\\xb9}U\\xc2\\x84V\\x98bD\\xbd\\x80W\\x11\\x10\\x10\\xa0iJ\\x9db@%\\x1a\\x15\\xb0vQ\\xa5mM\\xb5zU\\xe5\\xe5\\xec\\xaanH\\x87O-\\xc0\\x84\\\\\\xdc\\xdc\\xe5\\x9cfG\\x89S4\\x93_A\\x90[>\\xd9\\xd9\\xe3\\xc5\\x89b\\xb1rJ\\x89W<\\x96[7\\xacqM\\x80I\\'\\xc6\\xc4\\xca\\xb5uN\\xabsR\\x81R8\\xf144\\xd2\\x96h\\xbaxLzM3\\xd7\\xd6\\xdb\\xca\\xc9\\xd0\\xc9\\x8a\\\\\\xc0~Q\\x8a]F\\xe4#,- \\x1bsK5\\xc5\\x88Z\\xa7kDc@+F/#\\xcf\\xcf\\xd6\\xb8\\x80^vQ=\\xcc\\x8ef\\xdc\\xdb\\xe0\\xcb\\x8f`iL<\\xb0lE\\xdc\\x1e+=)\\x1f\\xbd\\x85e\\x91bHjF3\\x81M/Y>0sF,t@ \\xf8\\xf8\\xfc\\xb1|\\\\VVX\\xf5>:\\xd4\\x1a)7\"\\x17\\xea*0S8*zE$\\xd8\\x9am\\xae\\xae\\xb5\\x94fN\\xc1\\xbf\\xc3\\xd6\\x9dv_E6\\xba\\t\\x1e\\x80^IlA(\\xb6qH\\x83WAe8\\x1c\\xa3mT\\xa6iH[:&Q2!\\x8eS.\\xc8\\x18\\'\\x9as\\\\I5*\\xd1\\x98q\\x8bdM{XBK+\\x18\\x13\\x0b\\x08EIM\\xcc\\x93l\\xaerY3)#\\xc3\\x8dkm<\\x1e\\\\4\\x1b\\xa4tXPD><0*B#\\x13\\xd3\\xd4\\xe0\\xbcwT\\xabgA\\xa2a<M=3\\x97\\x97\\x9e\\xb2\\x82g\\xa9x^+-1/\\x1a\\x10\\xb7\\xb5\\xbb\\x9f\\x9e\\xa5\\x89jW<AEMOS\\xf6\\x11\\x11_`c[NE169\\xde\\xa3vsYJ\\xa8\\x0b\\x17\\xe1\\n\\x14\\xb5\\xb8\\xc4\\xa8\\xa5\\xabjTF>;9\\xc7\\x81Z%%\\'\\xf5\"%\\x8d\\x8f\\x99\\xfd.3gYR\\x91\\x06\\r\\xb6\\x8bt\\xd3\\x8fckko\\xfe>=waR\\xd2\\x87~uu{\\x8cqb\\x83dR\\xbb\\xbf\\xcb\\x83\\x87\\x93\\xe4\\xac~\\x9a|i\\xb3\\xd5\\xd9\\xc3\\x97y~\\x80\\x87wg_\\x90\\xaa\\xb6\\xd2\\xa4\\x85\\xcb\\x02\\x14s\\x04\\x06\\xe4\\xc2\\xa8\\xdd\\xb2\\x99\\xb8xf\\xc8?>\\x04iD\\xa0\\xa7\\xb5\\xa4\\x84t\\x96\\xb8\\xc4\\xed\\xd9\\xc2\\xa2\\xbd\\xc1\\x9eeS\\xa7\\xc8\\xcf\\xcamn\\xae//\\xb6\\x00\\x07\\xc4\\xa9\\xa5\\x8e\\x89\\x8c\\x00E!\\xdc\\x9d\\x90\\x87vo\\xc0]T\\xf8\\xec\\xd9\\x18(+\\xba\\x9a\\x97\\x1f\\x80b\\xb1QC\\x8e0)\\xb1\\x84\\x8e\\xdbb_\\x9bCC\\xbc\\xe0\\xe6\\xcc\\xbc\\xb7\\xae^g\\x7f&!o\\x9c\\x96\\x84\\xbc\\xacn\\x80\\x8bR\\x8f{\\x943\\xef\\xe8\\x00\\x00\\x00&tRNS\\x00\\xfe\\xfe\\xfd<#\\xef\\xef\\x12Q\\xfc\\xfe\\xfe\\xef\\x86\\xb0\\xa5g\\x87\\xcf\\xfdj\\xd0\\xfc\\xe1\\xc5\\x96[\\xcd\\xb4\\xed\\xee\\xee\\xe6\\xe4\\xe4\\xb9\\xb5\\x8fd1Q\\x00\\x00\\x01\\x01iTXtXML:com.adobe.xmp\\x00\\x00\\x00\\x00\\x00<?xpacket begin=\"\\xef\\xbb\\xbf\"?><r:RDF xmlns:r=\"http://www.w3.org/1999/02/22-rdf-syntax-ns#\"><r:Description xmlns:x=\"http://ns.adobe.com/xap/1.0/\"><x:CreateDate>2020-12-16T15:11:55-00:00</x:CreateDate></r:Description></r:RDF><?xpacket end=\"r\"?>\\'D\\xfd\\xf9\\x00\\x009\\x8aIDATx\\xda\\xec\\x98M\\x8b\\x12q\\x1c\\xc7ema\\x97\\x0e\\xb6y\\xd9\\xd7\\xe0\\xc0<\\x1cf\\x9b\\xe6ACc\\x1e\\xc8Q\\xd1!\\x85\\nM\\xa5\\x8d\\x90\\xb2)\\xe9 \\x19Q\\x90\\xa9\\xb5\\xf4\\xe4@\\xa5\\xc1\\xa2B!t\\xeb\\xb8\\x9d\\xbau(:t\\xe8\\xd2K\\xe9\\xfb\\x9b\\xed\\xe9%4\\xd3~\\x9b\\xf97\\xeb\\xee\\xe5\\xf7\\xf1\\xfb{\\x9a\\xc8\\x81\\x0et\\xa0\\x03\\x1d\\xe8@\\xff\\x98\\xd6\\xd6\\x0e\\xad\\xaf\\xad\\x1f=\\x14\\xf9O\\x85\\xd8\\xe3\\x9b\\xd1(\\x93`\\x13\\ty3zt}u-\\xf2\\x7fiu#\\xce2\\x89\\x04Cw\\xe2\\x97\\xa2\\xb1\\xff\\xc9\\x11\\xeb\\xb1(\\x82\\'\\x02\\xac\\x0f\\x828\\xe0 G\\xc4V#\\xff\\x85\\xd67)d\"\\xc0\\x10\\x00\\x16\\x96\\xf8\\x05\\x81t$\\x12~m\\xb0\\x14\\xf0~\\xfc\\x0c+\\xfb8 \\xfa\\x99h\\xe0\\xda\\x0c}m\\xd8\\xa48!\\x99N\\x96X\\xe0\\x99\\xa5\\'\\x1f\\x8a\\x8fA\\x0e\\xb7\\x19V\\xe3~\\xd4\\xb8qA\\xc8\\x05\\x96\\x80\\xb0\\xc4\\xe1wu\\x80\\x19\\xd6#\\xa1\\xd5:\\xc2\\x96e\\xbf\\x0e\\xec\\xdb !\\xcbt\\x12\\x17\\\\\\xf41\\x89\\x00\\xc5\"!U\\x8c2\\x9f\\x82\\x06\\x01\\x04O\\x18\\xf0\\xbf\\x1f\\xbc\\x8cg\\x82\\xf3\\xbb>$\\xe2\\xa1l\\x13\\xab\\x98\\x8b(XD\\x8d\\x83\\x91\\x89\\x87\\xff\\xe4y,%\\x04~\\xf9W\\xa6\\xc0$!\\xa4\\x10#\\xef#tHf\\xfdR(x\\xb0\\x83\\x80\\x84\\xf0<\\x8fa=\\x86\\x11X\\xdf\\n\\xc0\\x84\\x83\\ta\\x97Xe |\\xedQ\\xfa\\xc6\\x05\\x01\\xa5A\\xf6<\\x01$d\\xfaT\\x06\\x0bO\\xa0|\\xf8S7CH!\\x86\\xf8\\xa8\\x19F\\xa3\\tV\\x80^T\\xa3\\xb2\\x9c\\x10^\\xbcxQ\\xbdv\\xb7\\xd9|\\xdc\\xac\\n\\x1aJ\\x83L\\xf9\\x01\\xfd\\xac\\x96\\xe1j\\x12\\x9b\\x94\\xfd22\\xc0\\x13\\x04|\\xe7\\xd5&\\x82\\xae^\\xdb\\xae\\xddo\\xb7\\xdbRJo;\\xce\\xf6\\xd5&(\\x00\\xc1{\\xe1\\xa7!\\x08C\\x98(\\x1ced\\x82 x\\tM\\x93\\xab\\x8cv\\xed\\xc1\\xb5\\x9b7\\x9f\\xadl)\\xa6$\\x8eD(g\\xd9\\x96\\xbd\\xfdx)T58\"\\xc1z2\\x0eP\\x88\\x86\\xa7:n$|\\x04r\\xb5\\x8a /_{X\\xbb\\x7f\\xf5\\xfe9]\\x92$\\xdd\\xd1\\xc5\\x05\\x97S\\xb9\\x1co\\xd8<gW\\xdcJc\\xacU5F\\xa6\\xe6A\\xfbU<\\x12\\x12m0\\xd4\\x1a\\x11\\xbfV\\xed>\\xdc\\xb6m\\xb3m[\\xba\\xa2[\\x92\\xa2H\\xa2\\x9a\\xe385\\xc7\\xefd2n&\\xc3\\x03Fe:mt\\x05\\x01\\x99\\xe3\\xefXG#\\xa1\\xd0!B {\\x9a 4\\x1b\\xd7j:\\x8c/q\\xa2hI\\xa2\\xa2;\\x12\\x07\\x04*\\xc7\\xe5v\\\\\\x17\\x10H;\\xbc\\xeb\\x1a\\x0f\\x96\\x84\\xc1\\x9f\\x9e\\xc2\\xf1\\x8e!\\x0e#\\x08\\xd5\\xaa\\xb6l\\x9c3-\\xc3\\xb0x\\x1eq\\xf3\\x86*\\xa9\\xbc#\\xa9*\\xbc@\\xda\\xa1\\xf83\\x05\\xfft\\r\\xbb\\xd1\\xed\\x82\\x02\\xeac8\\x12b\\x83AW\\xd0\\xba\\xcd\\xcb5\\xc51x\\x83\\xe7y3\\xc7\\xe5,\\x8e3-\\x0e\\x08\\xeaiq\\x91\\xcb\\xc1\\n\\xfc\\x0eq\\xc8\\x14\\n\\xb83\\x86\\xebN\\xba\\x9a\\xc0z,\\x13\\x865bU\\x96\\xa9\\x1c4\\x1c\\xdbr\\\\ \\xb0\\x101e\\x00\\x04\\x13,\\xe6\\xad\\xd6|\\xbeX,\\x00\\x81\\x87\\x07p\\x11\\x057\\x83\\xec\\xe8\\x8c\\x97T\\x18\\x98\\xe0\\xbffY\\xdb\\x94eA\\xab>tL\\xdep\\xe1\\x02.\\x87\\xd8\\x15\\x10\\xc8\\xa9\"b\\x17\\x01\\x810\\xcc\\xc5\\x1c\\x8a\"\\xb9\\xc1\\xb7\\x83\\x0b+\\xdc\\xebL\\xa6\\xbbK\\x8f\\tA\\x878\\xca\\x82Aw\\\\\\xb1\\x0cw\\xbf\\x1cHzJ!\\x1f,\\xc4\\xf4\\xbc^le\\xfb\\xfdr\\x7f\\xde\\x12\\x17\\xa2\\x8aj\\t\\x87\\xec\\xf7\\t\\xdc\\x9dNg\\xd2\\x9b\\x80\\x02\\xc3lD\\x82\\xad8\\xcbV\\x85\\xee\\x03\\xc74@\\xc12%\\xb4\\xc5|\\x1eN\\x10G\\xe9\\xfc\\xd6\\xd6lv\\xfcl\\xb9\\xdf\\xef\\xcfEq\\xa4r\\xea\\x08\\x14\\xf8\\x9c\\x85\\xca\\x01\\x08\\x85^g\\xd2\\xe9\\x0c\\xba\\xe8\\x10\\x9b\\x91@\\xeb\\x10*\\x82v\\xf9a\\xc5\\xb6m\\x87\\x18(\\xba\\xae\\x9b\\xfaHJ%O\\\\H&\\x8b\\xb3\\xe3\\xc7g\\xe520\\x94\\xb3\\xf9Q]\\xe4\\xa8B\\xf2\\x90\\x81| \\x08\\x93Ig `l\\nv\\x9b\\x8c\\xc9Q\\xf8\\xe0\\xaam\\x196\\x18\\xd0\\x90\\x9cJ)\\xc3\\xd2\\xf3\\x0bI}\\x94\\xcd\\x16g\\xfd~\\xb1|\\xb6\\x8f\\xaa\\xb0he\\xd3\\xe9t]U\\x01\\x01\\x97\\x81\\x84\\xe8\\xf5z\\xc8\\x88\\x81\\x86\\xb5#\\xd0\\x13\\x13Z\\x83\\x0c#\\\\7M\\x8b\\xb7M\\xd3\\xd4\\xc1`x\\xe3\\xf9\\xf3\\x1b\\xc9\\xb4(fg\\xb3b\\x16\\x0c\\xce\\xee\\xcd\\x08\\x03R\\xa2\\x9e\\xc5\\xe7\\xa8\\x17<\\x84F\\xd9#\\x0c\\xa8\\n\\x01/\\x8d\\xfb\\x10nn\\x9b\\x96\\x85\\\\0M%5\\x1c\\x0eS\\xa9\\xd4(=\\x1a\\xa5\\xb3\\xb3b\\x11\\x1c\\x08\\xc3\\xec,\\x01I\\x83B\\xbd\\xeeWGT\\x06\\xe4\\x03\\xfd\\xebL5\\x8f\\r\\xf4N\\xbd\\x81l\\xd0\\xbaw\\xef[\\xb0\\x02\\xedK\\xcap\\xa8\\x10\\x82\\xf4H\\x04\\x84\\xf2\\xec\\xf8\\x0c*\\x17\\x8b\\xc5>\\x1e\\x8bi\\x14\\xcbz\\x9d\\x86\\xe8\\x9cA[D\\xc1\\x870\\xd8\\xd5\\x98D\\x90\\xfbC\\x0cs\\xd2\\xe5f\\x03\\xdb\\x82\\t#\\xe8p\\x01i\\xa4\\x8cJ\\xa5d>\\xb9u\\x12\\x10\\x8aPv>\\xcff\\xd3\\xf9|:\\x9d\\x07\\x1e\\x15\\xb3\\x04o\\xa0\\x9b\\xb8\\xa0\\x80\\xb20\\xd6\\xd8@O\\x8dq\\xd6\\xebv\\x9b\\xf7,\\x1d\\x0c,\\x13>\\xd0S\\xa5T\\xaa\\xa4\\xe0\\xd2G\\x14r\\x96&F\\xdcYL\\n\\xaa(b\\x94\\xd4\\xc1\\xc0\\xe4x\\xd7\\xc8\\x14\\\\L\\x8f\\x05@\\xa0M*\\xb8\\xfda\\x15\\x83\\x12\\x8cPk+\\x12YAG\\xfcCe\\xa8H:g\\xf041\\xa6\\xb3i\\x8a\\xbf\\x85y\\xa95\\x17\\xebj\\xce\\x80\\x03x\\x92\\x911\\x8c^\\xc1Wo\\x8aM*\\xc0\\xaf\\x98\\x8e\\xb2X\\x9c\\x1e\\xd4\\x1aVJGM\\xc0\\xa4\\x94\\x1a*x\\xa2\\xa4\\xe7 \\x11\\xe32!\\xe8\\x17gY4I\\xca\\x03\\xea\\n\\xc4\\xc1\\xa0\\xee\\xd0\\xe9\\x15\\xc8\\x0b\\x83]\\xc1\\x0b\\xf0\\xfe@%\\xe1a\\xad\\xf1\\xc0D\\xe4\\xa6e\\x9b\\xd2J\\xbb\\x8dq\\x89\\xd6\\'x\\x7f\\xe1\\xab\\xe5S(\\x12\\x05N\\x05\\x1dB\\x80\\x1b\\r\\xc2\\xed\\xf4\\xc8\\x0c\\x99\\xc1x\\x89\\xd7\\xf5\\x81}\\xf3\\x1cg\\xabM@pR\\x12z\\xa4\\xe3H\\xba\\xdeVP\\x1c\\xd1\\x1aF\\xd9\\x162\\x01\\x81/\\xe0\\x06<\\x14\\x8b8\\xe8G\\x95\\x96m\\xbcP\\x80`\\x05\\xc2\\x90\\x99\\x8ew\\x056\\xb0\\xefV\\xd6\\xa2r\\xb5y\\xf3AEQ\\x14\\xf8\\xa0b\\xdf^Y\\x19\\xbe*\\x95J\\xa9|>\\x99E[l\\x91\\xe6Da\\x0e7\\xf4[\\xf8\\x00\\xe5\\xd1\\xef\\x0cH\\x03\\x9a\\x9b;\\x9dBfg2\\xeev\\x97\\x81m\\x92k\\x18\\x99\\x9bWk\\xe7\\x14E\\x02\\x83\\xca\\xb9\\xdb\\x8a\\xf2\\xa64,\\x95\\xf2h\\x8fEl\\r}\\n\\x1d\\x00p\\xfcy\\xaa\\xa3>\\xe6x\\xbf?v\\xf6!t\\xa6\\xd3]-\\x11\\xd4\\xc9y\\x9d\\xea\\xe26\\x92 %YN\\xed\\xfe9Z!S4 \\x9c\\xd8:u\\xea\\xe2\\xc5\\x8b\\'\\xb1B\\xfaK$\\xcer\\x1f\\x9a\\x1d\\xdb\\xdb*b\\x87\\x10U\\xbc\\x82w\\xdd\\xded0\\x01\\x84\\xccdww\\x19`\\x08\\x02\\xfa\\xa3\\xa5\\xeb\\xc8\\x86J\\xcd6\\x89\\xc1\\x89\\x13\\x17.\\xbc|\\xf9\\xf2\\xce\\x93\\'\\xb8.\\x9e9\\x7f\\xe9\\xcc\\xd9\\xb3e,\\xd4\\xd0\\xf93\\x00sj\\x0b\\x7fQ\\xca\\x8fF\\x92i;\\xf7\\xa6\\x83\\x1eYa<^\\x06v\\\\\\x82\\x13n6\\x1c\\x13V\\x90\\x9c\\xab\\xf7Wn\\xdf~\\xf5\\xe6\\xf5\\xcb/_\\xbe\\xbc\\xf9\\xf0\\xed\\xeb\\xd7\\xafwHON_\\xda\\xdb\\xdb;\\xb3\\xb7w\\xe9\\xd2\\xe9\\'\\xa7\\x81\\xe5\\xd4\\x97\\'/_^\\xb9r\\xe1FR1Mgpx\\xd2+\\xec\\xf4\\x06c\\x8d\\t\\xea\\x0eu\\x88\\xd5\\x1e\\xd6l\\x0b\\x14\\xac{\\xdb\\xc3\\x95\\xa7o\\x1f}\\xfc\\xfc\\xe1\\xc3\\xf7\\x0f\\x9f\\t\\x82\\x8f\\xe1\\xd3\\xbb;\\xa7/B\\x97.>\\xb9\\x05\"\\xe4\\x8e\\xaf_\\x81\\xe9\\xf5\\xeb\\x1b\\xafV\\xda\\x96\\xe9\\x1e>L]\\x12\\xfd!\\xb0/V~po.\\xaf\\x89\\x9da\\x18W\\xdbBKB\\xaf\\xb4\\xd0a\\xdaM\\x17\\x85vq\\xcc\\xc2\\xa3\\xa7Z=\\x18\\xf1\\x82\\xb7\\xa0\\x87x@eL\\x14\\x95\\x18\\xe2\\xbd)\\x84DD\\xd1x\\x89\\xc1\\xc4\\x18b\\xa3I\\xc5d\\xd0\\x86f3\\xa4\\x9b\\x19\\xbb(Z\\x06f %\\x94\\x81d\\x16!\\xb8\\x99.\\x1aB\\x17ev}N\\x16\\xbd\\xfc\\t\\xa7o$$$\\x1b\\x7f\\xe7\\xfb\\xde\\xef{\\x9f\\xe7\\xf1\\xd5/\\xbe\\xf4y\\x18P\\xd02\\xdet\\xb5\\xf6\\xf4\\xc9\\x93\\'?\\xfd\\xf4\\xf0\\xa7_\\x1f\\xffr98\\xdb\\xe5\\xde\\xf0\\xe9i&5\\x8d\\x1a\\x0e3\\x99\\x93\\xd4\\xe6\\xce\\x0e\\x00\\x0c\\xaa\\xc7O\\xf1\\x95\\x0by\\x02nCq\\x8c\\x1b%\\x8bc\\xedm\\xbe^\\x14^{\\xe5\\x9bJ\\x9e\\xe1\\x86h\\xcfV:\\x90=\\xfe\\xe5\\xc9\\x93\\x07\\x0f\\x1e=\\xda\\xdf\\xdf\\x7f\\xfc\\xa4\\x9a\\xee\\xed\\x1a7\\x01!\\x03\\x0c\\xa9\\xe9\\xe1t\\n4\\xfc{\\xe3\\xd5\\xad\\x87\\xd9\\xfb\\xf7\\xefo\\xc4\\xb3\\xa1@4Z`\\xc6\\x8aX\\t\\xcd\\xb1\\xa5\\t\\xbef6^\\x7f\\xe5\\x9e\\xcf\\xcbBJ0{\\n\\xf1\\xd0\\xc3_\\x06\\x97\\xa8\\xc7\\x8f\\xf6\\x1f|{\\xff\\xf1\\xf1\\xb8p\\xcf\\xe8\\x9c\\xce\\x9c\\x00B\\nKan\\xce9\\xa7)\\xd5\\x9e\\x86\\x1e<x\\xb0\\x7f\\xff\\xdb\\xfd\\\\.\\xb0\\x95\\xcb\\xb6\\x98\\xfcX\\x92\\xd3\\x14\\x8ex\\x0bA\\xf0\\xde7>/\\x03\\x088\\x1fs\\xbf\\x8c\\x8f?\\xe3Z\\xc1\\xd9\\xe5\\xe3\\x87\\x0f\\x7f\\x10V\\xbb\\xdd\\x1e\\x8d\\x13a\\'\\x83e\\x00\\x08N\\xc7\\xaaI%\\x12\\xe6~\\xf8\\x01\\x0b!t<\\x18\\x8c\\xf7\\xf6\\xf6\\x84\\xdeb\\xac\\x95D\\x15\\xdb\\xdb\\xaf\\xf0t;\\x08\\xde\\xfe\\xb2\\xe2ea\\xc0\\xb2\\x81tw\\xb0{\\x86N\\x88\\xd7i&\\xbcH\\x1b5\\xb4\\x9fT\\xce\\x1f\\xacJ3;.\\x1c\\x0fR\\xd7\\xfc!!Q\\xed\\x89D\\xb5Z\\xad\\xb7\\xbb\\xb3\\xb9\\xb3\\xbb\\xb9\\xbb\\xe8\\x17\\xad\\xe5\\x8b\\xc9\\x95f\\xb2\\xb9\\xb4\\xcd\\xd7\\xd3A\\xf0\\xce=_\\x94e\\xccf6P\\xf3\\xef\\xec\\xecl\\xa2\\xfd?;=I\\xa5RC\\xa9\\x8d2R\\xb4\\tCtj\\x87\\xea\\xbb\\\\\\xab\\x07``U*i\\xa5\\x95\\x9a\\xe3\\x0e\\x0c`0\\x1a\\xfd\\x8b5o\\xab9\\t\\xc9\\xf9h\\x9b\\xaf\\xf7\\x04\\xc1k?\\xfa\\xbc\\t\\xc6\\xc0\\x04D\\xa5\\xc5\\xddM`H\\x9dd65\\xa4MIS.*\\x1c\\xd6P\\x90\\xdbg\\xa6\\x83R\\xe8\\xcd\\x18\\'\\x1d$EQR\\xe74*\\x15\\xd48\\x83\\xd3s\\x1aRe.\\x16\\xa7\\x92\\xc5\\xd6\\xd26_g\\x074\\x85\\x05\\x0e\\x02[\\xb0/\\xfa\\xf1hS\\xd3J\\x99>\\xad\\xd7M\\x9a\\x19F\\xaf\\xd4\\xecj\\x1c\\xd2\\xbeK\\x13\\x0c:\\xa5\\x0e\\xccQ\\x0e\\x07\\xa9\\x91\\x9a\\xd4J\\xbb\\xd5J\\xfa5\\x9a\\x99\\xb99\\xa9\\x94T\\xcb\\x12\\xc5\\x95\\x15@\\xe0m_\\xc4\\x9dq\\xc1\\xeba\\x18Fk\\xf7\\x1b\\xb1\\x0ch\\xb6\\x950\\xe7\\xbc\\xad\\xb1\\xbc\\xbb\\xc0\\xb0\\xaapc\\x1e\\x97e\\xe3&n\\x8d\\x8e\\x038\\xb3&\\x92\\xb4\\x98\\xd3\\xd5\\xb4\\x81\\xe0\\x8c\\x87\\xf5Y\\xe7\\xdc\\x0ce\"b\\xcd[\\x08\\xbcm\\t\\xa8\\x0f\\xbc\\t6aV.\\x02B\\xb0\\\\l%Z\\x95\\x89G\\xdf}\\xf1\\xed\\x91wE\\x9fn4fW\\x1d\\x0e\\xe9\\xe6\\x8e\\xd3\\xb9jY?<\\x9c5\\x89\\x0b\\x97\\x83\\xae0\\xdf\\xcc\\xb3\\xcd\\x95\\xb1\\xb1Ij\\x8e\\x9c%\\xc4+Il\\x87#\\xfe\\xcak\\x02\\xc1\\xfbY@\\xd0\\xc3s\\xa3(\\xb9\\'?\\xd6\\xde\\xff\\xed\\xf3_\\xbf\\xfe\\xee\\xa7o_\\x1e\\x17\\xf4r\\xb9\\xe4`\\xd5!\\r\\xe2xp\\xc0\\x9a_\\xb7\\xe8\"\\x03\\x15S\\xd9\\xffq\\xe2\\xfeD\\xbb\\xb5R\\x1c\\x9b\"I+$W@X\\xe3m[\\x14\\x08\\xde|\\xf3\\xa3\\xac\\x87eU\\xa4\\x92\\xb6\\xab\\xb4l{\\xfb\\xfe\\xcbO\\xf7\\xb7\\x8f&\\x8e.\\xaf\\xcf\\x85\\x9e\\x82X\\x01\\x05\\xa1c4\\xc2|!`\\xc9\\xaf\\xb0%\\xc3\\xd3\\x97\\x8f\\xbe\\xfe\\xfa\\xbb\\x9f?{\\x1cj\\xd7\\xc7\\x9a\\xeb&\\x13\\xfe\\x80\\x89\\xba\\xf2\\xe1\\xdb\\x1f\\xf2\\xf4\\x9e\\xf0\\xaa\\x81\\xc8\\xc7=y\\xd6J\\xd1j\\xad\\xb9\\x10\\xf5\\xad1\\xd5\\x9b\\xcb\\xa3\\xa3\\xa3\\xe5j$\\xc6fCi\\x05\\x0c\\xfay\\x8d\\xd1\\xe1\\xa2\\x0e9E5\\xe1\\x8d\\xbe\\xb8\\xfe\\xfe\\x1e\\xfe\\xe1\\xcb\\x17/\\xb2GGc+\\x96C\\xb4\\x07@\\xf0U\\x92\\xc57\\x05\\xbc\\xac\\xf7\\x19\\x96\\x89\\xe6\\xf3\\x065I*\\x98\\x80\\'\\x9a` \\xa3\\x8f./\\x852\\xb1\\xd9 \\x12\\x1eG\\xa0\\xa6\\x1er\\x10\\xfa\\x9a\\xf9\\xf5d2\\xe6YK\\xb8\\xb5\\x83\\x07\\x13G\\xdb\\xc7\\xcf\\xaa\\xecZ\\xbb\\x9e\\x8cM\\xae[\\xd0\\x14\\x9a\\xf5\\x84e\\x8a\\xaf\\x10<\\xac(\\xba\\x96(+\\xe9\\xb2\\xd9\\xedf\\x18\\x9dY&\\xb7w\\xcf\\x06=\\xad\\xbe\\x10I\\x8f\\xd2\\xe2I\\x1d\\xa1\\xee\\x04\\x83\\x1d\\x97\\xc6d\\x81\\xdf\\x96w\\x8bJ\\x8d\\xb2U$\\x14\\xca!\\xb7\\'\\x8aE8\\xf3\\xeb\\x04\\xb6C\\xb3\\xce\\x1e\\xae\\xf3\\x14\\xc2\\x1d\\x99[\\x1b\\xf5&\\x14V;\\x97J\\x90A_\\xb5\\xd2\\xfepxQk\\x8e\\xa4\\x85\\xe9\\x88\\x1e\\xb9\\xc5r\\x07\\xf7\\x84~\\x9f2I\\xc4S\\xcd&\\xab\\x1f\\xa5K4m\\x0c\\xabd\\x84\\x98\\xe3\\x00]\\x89\\xc0!Y\\xac3\\x96\\xd8\\xfb\\x02^\\xd6\\x9d\\xbe6\\x10\\xcf\\xc7\\xb4v\\x95\\x1c\\x16\\x14\\x00\\x18\\xc3(\\xda^\\x1a\\x95F\\xe9\\x88\\x9c\\xd0\\xe9\\x144\\x85\\xc6\\x08\\x08eB?\\t\\xe1@\\x17\\x19E\\xb4\\x80\\x85\\xa4\\x02\\xc1\\x95E7)\\xc6!Yl\\xe7\\xa7\\xd6y\\xaa\\xb9\\xdfY]\\x8f.\\xe7\\xf5v\\xbb\\\\\\xa6\\x8f\\xf85FT\\x18\\xe1\\x84R\\xa9\\xd1h\\xd0~\\xabxRl\\xf5\\x93\\x1a,\\x84NG\\xcd]\\x8f&\\xd7\\t\\x02\\xc6\\xb5]^\\x96\\xc0\\x9bQ+\\x95\\xcaY\\x89X\\x07\\xe5\\xb9X\\xaf\\xaf\\x1c\\xf2\\x14\\xc2]\\x0b\\x11]N\\xc8\\xec2\\x83\\xdc\\\\\\x82r\\xa8\\xf1/\\xd2v;\\x08\\xf8\\x83\\xc6\\xb0_\\xa6\\x13Kh%I\\xf5)8\\xd3e\\x98\\r0\\x9b$65\\'H\\xd3\\xb4\\x92\\xb3\\xac)\\xbf\\xcd\\x84\\x0c\\x93n\\n\\x10\\x92b\\xbeB8\\xf0\\x07*\\xac^\\x0e\\xb9\\xd9\\xee\\xf7\\xd3J\\xdaj\\xb5\\xe3\\rj\\x82;F\\xda\\xae\\xb5(\\x14e\\x1b\\xddA\\xc1\\x80PpO\\x1c\\xdbAB\\xd3V\\xad\\xa2\\xac\\xa4H\\x92\\xa2)\\reEl\\xe5\\x16B\\xcc\\xc0W\\x08\\xd4t`\\x995\\xc8\\xec%\\x0c\\x0f\\x1a\\xa5\\x8d$m$\\x85=\\x114bb.\\xdbljnr\\xee\\xf4\\xfb\\xf0\\xe0\\x14\\n\\x9d\\xee6\\xabD`\\x9eV#\\xe8\\xaa\\xb6\\xe1\\x7fIZ\\xa90\\xc0\\x94k\\xd6\\xeb\\x06=_!\\x047\\x01A\\'S\\xc9\\xb9@\\x06z\\x02$\\xb4 \\x06\\xea 8\\xe0\\xbb\\x1f\\x1bC\\xd9\\xa1\\xd0\\x12l\\xf3\\xe52\\xdcz\\x85Zi\\x95\\xc0r\\xa0\\xc9Y@@a\\xa4,\\xdf\\xda\\xd3cm\\x89\\x9e\\xa7c\\xe4\\xdd\\x13@H\\xe8\\x0cZ\\x95\\x12J\\xc1\\xcc\\x8cs\\xc69\\xe4\\xe4\\x12\\x0c\\x8e;\\xc10\\xddCt\\xc7O\\xa1+\\xe2uP\\x96\\xeb\\xccfB\\xad\\xc1\\xe3\\xb7\\xaam4\\x92L\\x98*m\\xb4Ub\\xe1 \\xb4\\xda6\\xa1\\x80\\x9fu7e\\x0cq\\x10\\xe4h\\x7f\\x0ejf.\\xe8\\x1c\\xc2^\\tB`\\x0ev\\x1aZ\\x83\\x01W\\'\\xd2u\\xeb\\xbd`1\\x94u\\x0c\\xcb\\x9aU\\xa41\\xa8!Q\\xc8\\xba\\xda\\x1c\\xa4\\rG\\xe5mDaI}W\\xc0\\xcf\\xba\\xeb4\\x85\\x96YF\\'\\xc3\\xa3\\x95:\\xb1\\x04`\\xae\\xe0\\x05\\x06\\xab\\x8d\\x12\\x81\\xbeh\\xb7u\\xfa\\xceaj8t:\\xfb\\xf3\\x16\\x04>c\\x8c\\xcc\\x84m3c\\x9c\\xb9u)\\x1d6\\xb5D|\\x0ba\\xc1\\xc2W\\x08\\x1f\\xb9\\x0e\\x03q6\\x86\\xa5@\\x93N\\xe7\\x0e\\xde\\x7f\\n\\x95\\xd9\\x1c:\\xec]Yy\\x1eG\\x03VA\\xe6\\xe2d\\xd8?\\xc98\\x1d\\x87\\n\\x99\\\\\\x16\\x8b\\x11e\\xaa\\x1f\\x9cv\\xf6\\xe7\\xa40)M\\xd0\\x13\\xd6\\x91Qh-\\x13w\\x04\\xfc\\xac;V\"\\x1a\\xc7\\x1a\\x17\\xc3\\x86\\xa5\\xfa\\x9bP\\xdc3\\x9c\\xe1\\xe4\\xec\\xd0\\x18\\x1fl\\x0e\\x9c\\x13\\xf0\\xde\\xae\\xae\\xa0\\xbb\\x9e\\x9f\\x0f\\xfb\\x8ey\\x04\\xf8\\xc41\\x83\\xe1\\xc057\\x1c\\xceM\\xcf9!=J\\x08\\xf1\\xe4Jr\\xa5\\xb5f\\xe1\\xe9\\xe8 x\\xdf`N,{X\\xb3^e\\xa5\\xa9`\\xe6\\xe2\\xfc\\x02\\x06,\\x1c\\x06\\x93\\xbf\\x0b\\x083X\\x15\\'\\xa7\\xa7\\xe7W\\'\\xa9\\x93\\xf3S\\xa7\\xd3)E\\x92\\xf1\\x10\\xae\\x9d\\xc2\\xe4r\\xc2\\x91\\xcaL\\xf7\\xb1\\x12\\xd0\\x18!-U*+|\\x95\\x96^5k\\xedY\\xef-\\x04\\x9b\\xe6\\x16\\xc2\\xc94v\\xff\\xaa\\xcd\\xda\\x1btU6\\x12\\xc3\\x84s8<9\\x05\\r\\x97\\x86\"q\\x8a\\xda,\\x06\\x83\\x9809\\xfa\\x80p\\x92r\\xba\\x10\\xe0\\x01\\x04n\\x94fyzB\\n^w\\xfbO\\xb66\\xe0\\xbeh\\xe5j\\n\\x10.N3\\xc3>\\xd6\\xb8u1\\x1c\\x1et\\xd3\\xf9\\xbc[Xk\\xa4Rx\\xc3}\\t\\xc3\\xb0\\x9eDDk\\xd6#\\xf8\\xaa\\xee\\xb8@\\xe1$\\x13t\\xac\\xce\\x1eZ\\x90\\xd5h\\xd5\\x89\\x8f\\x04|\\xad\\x8f\\xfc\\xc1\\xc0\\x06\\xe4f\\x83\\xbeL\\xcd\\x18a?9\\x11H98\\xa0w\\xcf\\xc2\\r\\x7f/\\xed6\\x17\\x9e\\x1e\\x8b\\x00&\\xa8\\xce\\x17\\xf3\\xcd\\xd6XB&Q \\xedY\\xb69n7D\\xb0c\\xc3J\\x98\\x02\\x84\\x85u\\xbe\\xf6E\\xec\\x87R\\x9fY\\xe6<(Bm\\xa3\\xa4F\\xbf\\xc9\\xd5q\\x98\\xe6I\\xcea\\xb3#\\xee\\x1e\\xf1D\\xb3\\x0f\\xe3\\xe9\\xa0]\\x0e\\xd5\\xa9\\t\\xab\\x89\\xfbh\\x90\\x95\\xb6\\xabM6W\\x1f\\x14\\x9c$\\xe2l\\x16x/\\x95\\x85$\\x7f!\\x08\\xee\\x1c\\xb2\\xcbY\\x0f\\xae\\x82\\nSG\\xd3)\\xcb;dY\\xd1\\x08s\\x0c\\x1aZ7[Y\\x0e\\xc5\\xe3\\xd9h!\\x9d\\xae\\xd5\\xbc\\xdez+\\x19\\x8b!\\xe7\\xaa\\xc4\\x08\\t\\n\\xc8\\xae\\xcc\\x98f\\x0f\\t\\xcb\\x14$\\xc6z\\x93\\xbf\\xdbA\\xf0\\x06\\xa1\\x8f\\xc7\\xb9\\xfd\\xa0P\\xe3\\xc2D\\xab\\xca*\\x99\\xdc\\xbf\\x1b\\xf4\\xcb#n\\xc6\\xb3|\\x0f\\x106\\xd6<\\xee\\x92(\\x1d\\xa8\\xf8*\\xf5\\xa5Vbr\\xd2P\\xe6\\xa2[\\xa0 \\x95:\\xac\\x80\\x10kb7\\xac\\xf1\\x19\\x82\\xe0\\xae)\\xba\\x11\\xc7\\xb1G\\x94\\xcbj\\xa8kr\\x99jq\\xc7/\\xdas{\\xbc\\xde\\xb8\\xcf\\xb7\\xb0\\xe0[\\xa8{\\xf6J\\x85-O|a\\xa9\\xd2^j\\xb7\\xdb\\xacB,W\\xce\\x96\\xad&\\xab\\xcd\\x06\\xd1M\\x9c,6+>\\xdd\\x14Og\\xc8\\xdbz\\xfdn`9\\xce\\x82\\x82D\\xa2\\x95p\\x17\\xe5Fx\\xb7\\x96\\x0bx\\xa3\\x15\\xdf\\xc2\\x06(\\xf8\\xa2n\\xb7\\'\\xe2.\\xb8\\x0b\\xd1\\x85\\xf6\\xd2\\x11\\xbeZy8V\\xc8\\xbc*0T\\xce*\\xc4\\x98\\x9e\\x9a\\xed\\x8a\\x85\\xc7-\\x81\\xab7\\xa3q\\x0f\\xcb\\x18d2.\\xc6\\x0fQ\\xc9_\\xdb\\ne7\\x16\\xe2\\xde\\xad@<P\\xed\\x0ez%=\\x94\\xe7\\xd2^\\xc3\\x9c\\xf0V*\\x95|\\xe5\\xc8\\xe7\\xd5+,\\n\\x8bX\"A\\xaa\\x13Rs\\xb3\\xfd!_/\\t\\x7f\\x9f\\x10!o\\x94)\\x98\\r\\x9cPb\\xb57J[\\xd9\\xe5\\x8dP`+-\\n\\x0f\\xaa\\x83\\x1b\\xe4\\xb4\\xc2\\xcf\\x1b\\xcf\\x9f7\\xba\\xe1\\xe7\\xa5Q\\xc4lN\\xd4\\xb1\\'\\xa2f\\x1dA\\x80\\x034\\xb7f\\xb1\\xd8\\xaa\\xf3\\xd7\\x96\\xff\\x07\\x82\\xb7\\xc0\\x00\\x82\\x1a\\xaa\\x99\\xbdQ\\x08\\xc5\\xf1\\x99(a\\xa3\\xd1\\x1b\\x1f\\x1f\\xdc\\xdc\\xdc\\x0c\\x9e\\xdfV\\xaf\\xdb\\x1d\\xef\\x8d\\xa0\\xc3\\x19\\xf2\\xf5\\xca\\xc2B>\\xc6Q@\\xc4\\xb9\\xd9*6\\xeb\\xf7\\xf8\\xdc\\x10n\\xeb\\xf5\\x8f\\xe1\\xaeqqVtE{c/\\x17\\xda\\xd8\\xd8\\xaaE\"nwu\\xfcr\\x80\\x85\\xd0@\\x81B\\x17\\x19\\xa6R\\xda\\xcc\\xc4t\\xac\\x17\\x10\\x12\\xd0\\x99$\\x9c\\xf8\\n\\n\\xedo\\xf8\\xbe\\x1b\\x04\\xaf\\x7f\\xc2F\\xa3\\x9e\\x02R\\xde\\xf6R\\xc9\\xbe\\x17\\nl\\xf8\\xaa\\xee\\x80\\' \\x1c\\xefU\\xdd\\xeeH\\x04\\xda\\n!\\x1b\\xc9\\xd0\\x1cqV\\x96\\xdc\\xf9<\\xcbz\\xe3\\xf1\\x04\\xfc\\x06BGX&\\x13\\xf9\\xd6\\xd1\\x07\\x02\\xde\\xd7\\xbb\\x81\\xa87\\x1a\\x08\\x14D%\\x91\\xbc\\x94\\x0e\\x1d\\xc7\\xe3\\x08(\\xa2+\\x08\\xd3\\xc2\\xc1`TB\\x82\\xb7{\\xf6\\xecYct6\\xce\\x8c\\xdc\\x883\\xb7\\xea\\x85jh-\\xaf\\x13\\xeb\\xadeq\\x0c\\xbfWx\\xec\\xcb\\xff\\xd3\\x14\\xd8h(\\x1a\\r\\xa4E\\xa2\\x86=\\x9d\\x0b\\xe5\\x8e\\xe3\\x9f/]\\xde\\\\\\x9e\\x9d?\\xbb\\xbe\\xbe\\xb8\\xb8>\\xbf8\\xbf\\xbe\\xba>}vu\\xde=\\x13\\xd5\\xaa\\xf1\\xed\\xcf=\\x83Z\\xbe\\x98\\x10\\xab\\x94\\xe2X\"\\x86H/_\\xa5\\x84\\x7fC\\x88\\x9b=\\x01<\\xfeBz\\x8f\\x8b&\\x1e#\\xb0\\xbb\\xbd}yuuqu~u}~\\x8e\\xd7\\xf9\\x15 \\xe0\\x07\\x84\\x1c\\x07g\\xfb\\x9fM\\xb8\\xc7\\xd3n6\\x86\\x10\\x87.\\x91\\xc0v\\xb8\\xc7\\xfb\\xc3\\x01\\xf5!\\x0b_~\\xad\\xb2\\x15)\\x95\\xf6\\xf6j\\xd5jnkk\\xed\\xe1\\xcd\\xcd\\xc59 \\\\\\x81\\xc3\\x15\\xea+\\xfc|q\\xb1;\\x18\\x17f\\xdb\\xd1\\xe3j\\xcd\\xcd\\x8aU\\xa1\\x84\\x98M\\xac$\\xc7\\xee\\xf1\\xf5\\xa3\\x0e\\xff\\x81\\x80\\x88r!P\\x89FD\\xa2^)\\x1b\\xaaUs\\xeeQd4j,\\x8e\\xbf\\xbc\\xe9^_\\x03\\x01\\x87b\\xf0\\xe2\\xacW\\xd2Ale\\x13\\xb5\\'\\xb9P%&\\xf3\\xb0\\xba\\x98.\\x96oO\\xfc\\x0fV\\xc2\\xaboy=\\x85B-\\x1bM\\x8b\\xf6J\\xa2@\\xe8i\\xaf\\x96\\xcb\\xb9e\\xa3?\\xff\\xf8\\xe3Pw\\xfc\\xf2\\xc5\\xcb\\x17\\x90\\x9c.^\\x14\\x98\\xc6\\xef\\x7f\\xfc)\\xd3\\x15<y!\\x9a\\xa7\\x8f5\\'b:\\x06fl{\\x82\\xaf\\xca\\xda_\\xdc]\\xfbk#U\\x146\\x8d\\x82/\\xea\\x03\\x14\\x1f\\xf8V\\x10\\x85m\\x83\\x9a&m\\xa7\\xa9mL\\x1b\\xd34\\xda\\x04\\x8d\\xd6q\\xa6\\x9d1\\xb3\\xec\\xecN2\\x9dH\\xc4q\\xc4b\\x9a\\x9a\\x8d\\x936c\\x92j\\x13\\x8dQ\\xb1\\xb6\\x14EDZ_\\xa8X\\x15+\\xab\\x88\\xa2[\\x8d\\xf8\\xa0\\xac\\x0f\\xd6*(\\x8a\\x0f\\xc4\\xef\\x8eE\\x14\\xfc\\x03\\x9a9\\x9b\\xc9t\\x97\\xfd\\xe5~\\xfd\\xce\\xb9\\xe7>\\xcew\\xfem\\xc7p\\\\\\x04sa\\x91\\xce\\xda&[&W@\\x85\\xa2p`\\x92\\xce\\x1d:\\xb4\\xb5u\\xa8\\xf1\\xf9\\xaf7\\xfcz\\xc3\\x97\\xbf~\\xd3\\xf8qkks~3\\x98IF\\'3\\xd2\\xb2\\xee\\x0frQ\\x10\\x01\\xb7\\xf7Nl\\xd2\\xdbJ\\xff\\x05\\xc1\\x88\\xca\\xd1l\"\\x9b\\x15h\\x9b\\xad\\x98\\xd62\\xc7\\x17\\xe8\\x03\\xefm\\xba\\xe6\\xd7\\xd7\\xb7\\xb6~\\xdcj|\\x84m\\xe8\\xc6\\xd6\\xcf[{\\x1b\\r\\x97\\xbf <\\x14\\xc9\\xd1\\xbc\\x8at!\\n\\x10\\xaeA\\r\\x98\\x05\\xbc\\x01\\x97{/\\x88\\xea:-\\x08t\\x91\\xc6\\x0c\\xa9\\xf0\\xc5j\\xad\\x98\\xcd\\x146\\xe7\\xab\\x1f\\x7f\\xbc\\x85\\xc1\\xff\\xf8\\xe3cx\\xad\\xaf\\xaf7\\xba\\\\\\x05z\\xfaA\\xff<\\xadqQ.\\xcfM\\x0c\\xa0\\x06l\\xee\\xb4\\xa6\\xcf\\x17Mk\\xcd\\xf3:Q[+N\\x162\\x8a\\xa6,US\\x93E\\xa1\\x88U\\xc3\\xe1\\xef?\\xc6\\xd8\\x0f\\x1d:\\x84o\\xec\\xc7\\xc7\\xe7\\x17\\x0b\\xd3\\x0f\\x0e\\xdc\\x1b\\x8e\\xc82\\x17\\xd5\\x1fJ\\x0e\\xf4\\xa3\\xd0\\xa1\\x99\\xef\\xb2\\xfe\\xcbN\\xe2y^1w\\r\\x8a\\x072i\\xd1\\x16\\x8b\\xcfO&\\xe8\\xcd\\xc6\\xfa:B\\xe2a\\xd8\\xfa\\xe1O>\\xf9\\xe4\\xf0\\xdd\\x0fTs\\xc9\\xe9hw\\xa8+\\x11)\\xf3\\x11x\\x03.&P\\x0e\\x0b\\xe4\\x8b\\xc4\\x8e>W\\xa7(\\x85\\xce\\nB)\\x9dY\\xc9\\xd8Rq\\xa0\\x80\\xc8\\xd8\\xa8\\x1e>L@X_\\xc7\\x17^\\x8d\\\\0\\x19\\x1d\\xf4x\\x12YV\\xd3\\xa7\\x93\\xd1\\x81\\xfd\\xcb\\xcb\\x0e+L\\x90\\xa6\\x9dbPT^\\x144MKg\\xc4R-e\\xa2@O\\xd6\\xe6\\x1b\\xd5u\\x18\\xbc\\x01\\xd6\\x98\\xcf\\xb9\\xd8\\xa4\\xbf\\xcf\\x83\\xacB\\xd7\\xe5\\xa4\\x9e\\xdf\\xafB\\xb4\\xeeTk\\x84\\x04\\xb2\\x92T\\x19U\\xd2\\x0c\\x95\\xa7Kp\\x87\\xc5\\xa5\\x14\\x96M-Q\\xba\\x96\\x9b\\xff\\xdb\\x1axr.\\x9aM\\x06}!\\x9f\\xc0Fu\\x89\\xe7\\xcae\\xf5\\x929\\x87%\\xd2\\xc5\\xed\\xa4Q\\xe3!9%1J\\x16)\\xb3\\xb0\\x98\\x8a\\xc5a\\x9e`\\x16\\xc4\\x97\\xe5H\\xc2\\x1f\\x8c\\x04#\\\\\\xbe\\x8c\\xd2r\\x8f\\xc7\\xe7\\x915=\\xbf\\xac\\xaa*\\x05\\x1d\\xdfN\\xeb\\x80pb\\x85\\xe7)\\x95\\xd7\\x14Y(ib\\x0e\\xfeP\\rx\\xbd\\xb1\\xae\\xc1\\x88\\xccqr\\x96\\xe5d.\\xaf\\xcb\\x11WW\\xa8\\x17\\x9a+r^\\xc7ep\\xe8g@\\x7f\\xce\\xde\\xf4\\xbbJ\\xffX\\xabdH\\x94\\xa1\\xf0\\x92\\xa2\\x19|i2\\x0e\\x14\\x02\\xa4f\\xdc\\x1b\\x8b\\x85<]\\xbeM\"\\xc5\\x15v\\xf6tyzz\\xc2\\x9e\\xc1hY\\xe2\\x96!\\xb45\\xb7\\xcbQ\\xb7B\\xca\\xbcmg\\xb0F]Kk\\xbcD6\\xda\\xc5b*\\x0e\\x7f\\xc0\\x8d\\x94\\x07H\\x85x`\\xd4\\xdb\\xeb\\xecq\\x02\\x13T\\xc8\\xe1\\xf4\\t\\x17\\x9f\\x15I\\x82\\x16#d\\x08\\xa9\\xe6U\\x11\\xf9\\x1f\\x10\\x06\\x19\\xbb\\xa6\\xaaJ\\x9d\\x92\\x141-\\xe7P\\x11\\x1e0-\\xbe\\xfb\\x81\\xdd\\xd7\\xdd\\xb7\\xdb\\x1b\\xd8\\r\\xf7\\xc0\\x95\\xbdpOx\\xd0Gs\\x00\\xe1R\"ol\\x8d\\x94\\xf9\\x1f\\x10\\xd8\\n\\x84\\xaa%\\x062\\xa5\\x9aX\\x9aL\\x05b\\xb18\\xc1 \\x0e2\\x10\\xb7\\x80\\x96\\x02\\xae\\xb1\\x86p\\xb3\\x11\\xda;l\\x1e1\\xf1R\\x88\\xb4R\\x94u\"\\x02@p\\x85\\xe9z\\xc5\\xa0\\x1c0F\\xcc\\x94r\\xd5X\\x8cd\\x0b\\xa9j5\\x00\\xab\\xa6\\xc8|\\xe1\\x86\\x1e\\x9b3\\xec\\xf2%X\\xc9A\\xf4Y\\xe7\\xd4\\xb2n%\\x10\\xce\\x82B1-;^f\\x1c\\x0e;\\xa3e\\x9e*,-\"GX\\xac-\\xbe_E\\x89\\xd8|<\\xde\\x82\\rW\\x8f\\'t\\x85\\xc7\\x87\\x93Z\\x19\\xff\\xad\\x13-\\x00\\xf23wZ\\n\\x04\\x97\\xcf\\xe5i\\xd1\\x18\\xbb\\x1dd0\\xd2+\\x05\\x9b\\xcd\\xb6\\xb4\\xb8\\x84\\xefZj\\xb1Z\\xa0kK\\xc5\\x04]j\\xe9\\x1d\\xf4\\xb3\\x11V7\\x18\\xfb.;\\x14\\xbc\\x1fj\\xb3\\x16\\x08\\xd85\\xf5\\xe5\\x122\\xd3i\\xb7C\\x8dM)\\xbc\\xb7r\\xa0\\x90\\xc9\\xd8\\x0e\\x1c(\\x15k\\xb5\\x82\\x9c(\\xdaJ\\x02-$\\x12\\xac\\xa2s\\x1a\\xef\\xe8\\xdc\\x05\\to\\x15B\"\\x96\\x02\\x01r*\\t_*a8\\x88\\x9a9\\xb5\\xf0VF\\x14_\\\\Y\\x11\\x00\\x83P\\xb4\\x89\"+\\x08B\\xa6X\\x92K\\xb2\\xc6H<\\xc4i\\x01\\x035\\xf1x\\xbf\\xa5@8\\x8fH\\xecLb\\xe5XA_\\x83]vF2\\x16\\xd2JZ\\x11\\x051MC5\\x02h`\\x85\\xa9\\xb3\\x8a&K\\x14E\\x11\\x11\\xf7N5?0\\xdc\\x7f\\xab\\x85r\\xa5#\\xce\\x1bD\\xc9C*\\x9c\\x138\\x0c\\x12\\x92\\xe6L\\xbd\\xae\\x19u)\\x8d<ZT4Q\\xd4dA1\\x96U\\xbeR\\xa1(\\x90\\x00\\x7f(}z\\xc2Z \\x1c\\r\\xb1%\\xa4\\xc4\\xb1\\x16!!2\\x94\\xdd\\xde\\x89\\x1e\\x17\\x8ez\\x9dQ\\x8d\\xb4\\xc8\\x1b\\xc8#\\x91Mk<E\\x91\\xbe\\x06\\x98\\x18\\x900S<w\\r\\x94\\xcd\\x9b\\xf6\\n\\xe7\\xff\\xd8Q\\xec\\xa0\\x0f\\xab\\xc3T\\xadV\\xcb\\x18\\x0c\\x83\\x81RvdB\\x9d\\x00Bb\\x18\\x89\\xaa\\xf0*X\\xc0\\x00\\x84\\xb9N\\xb2l\\x02\\x1c\\xbc\\x1e\\x1dn\\xef\\xbf\\xb5IK\\xe0\\xfe\\xcf\\x8eD\\xf9\\x8b\\'Lj\\x80b\\x93i\\x86\\x829\\xd0\\xec\\x84L\\x01\\xcc\\xdf\\x90\\xe0e\\x9f\\xc3k\\x17\\x9a\\xe3\\x90\\xb7\\xa4\\xe5\\xa7\\x93\\xed3\\xd7X\\t\\x84S&\\xfc>W8\\xe6\\t\\xc7\\xe39\\xa1B\\xf1F\\xc5\\x8ei\\xc2\\xf4}dO\\xbb\\x1c\\xe0\\x84\\x1d?\\xe3A0\\xa0\\xec\\xe0E\\x9eC%\\x90\\xb5@h\\x1d\\xf0{\\xba<\\xf3\\xb1T8\\x9e\\x9aT\\xa4\\x8a\\xa2\\x81\\x00\\x18\\xfa\\xcbv\\x8c\\x1c\\x8f\\x83\\xd0\\x02\\x7fs\\xc0(\\x95\\xe1yG~\\xb0}x\\xd8Z \\x9c\\x15\\x84X14\\x08S\\xf0\\x87x\\xd6`()\\xad\\xd4\\xe1\\x12\\x0c(@\\x80\\x00\\x1f@\\x05\\x82\\x01|E\\xa5\\x18\\x8d\\xcf\\x07\\xc7\\x1f\\x9f\\x01\\x08\\x168\\x95\\xffg\\x86\\x1c 1\\x01\\x1b&X6-\\x15\\x15iY|\\x11(T\\x80\\xc1\\x1c\\t\\x8fH\\xa6\\xed\\x97\\x9a\\xa1\\x12\\x8bL\\xac4y\\xad\\xac\\xfb\\xbbq\\xbf\\xddJ \\x1c\\xc5\\xfa1;x\\xb0u\\x82\\xc5b,!\\x88\\x86\\x9c^\\xd0\\xea\\x15\\xa0\\x80y\\x00c\\x07\\x14 \\x81\\t\\x81\\x84D\\x82/s\\x11t\\x04j\\xb7\\x14\\x08\\xad\\x13\\xd8>\\xbb7\\xd4\\x8b\\xba_\\xe8\\x10\\xb6\\x94V\\x0cmE4\\x16*\\x95\\x05\\x060\\xbc\\xdc\\t\\x04H\\x96D\\xba\\x81\\xa8\\x86\\xccS\\x1c\\xcbE\\x87\\xc7\\xbbg\\x00\\x82uv\\x96\\xce\\x0e\\x12\"\\x84\\xc1\\x85po\\xac\\x1a/\\x89\\xb2(\\x8auQ4\\x10\\x1c\\x19\\xf3a*\\x12\\xd6\\x0c\\x9a\\xceKZRW\\xb9 \\xcb\\xcd<\\xde\\x06&\\xdcy\\xfa\\x11\\x16\\xb1\\xd3\\x93$.b\\x0f\\xd5C\"c\\xa0\\n-\\xbat\\x1a\\xe70\\x86V\\xa1\\xe6\\xf8:e\\xa8\\x8e\\xca\\x02@\\xe0tN\\xd6\\xb0\\xdb\\xae\\xa38 \\x82\\x96 \\x84\\t\\x16\\x01\\xe1\\xc8s\\xa1A\\x87\\x95t\\x08\\xce\\xd0\\x0b\\xd5\\xcd\\xdd\\xb1\\xdaRF\\x14\\x0cE\\x94\\xd2\\x0b\\x8c!WT^E(\\xe0\\x15\\x03\\xb7zq\\xec\\xc4\\xb1\\xd1\\xaeH\\x04-\\x0e\\xc8\\x14y\\xe7\\xb9V\\xb8\\x9bp\\xe4\\x89\\x8a\\xceEi\\x97\\x8fH\\xb3\\xe2\\xe3\\x8c\\xa1t>\\xbeh\\x13\\x04E\\x12\\xc5\\xe2\\x02\\xcbQ\\x9a\"I\\x86\\xc4\\xa7\\r\\x9c]s\\xc0\\x80eC\\xa1n\\x14\\x85v\\xb7\\xa3\\xc5\\xc3\\xfe\\xe6>\\x85;\\xf2\\xf4\\x93\\x8f8\\xea\\xd4:\\x98?\\x1dA-,\\xf4uP\\x10\\x0f\\xbd\\xb1^O<VM--\\x96\\xd4t\\xa9\\x946\\x8f\"$N\\xac/+\\x1a/\\xd2\\x11\\x1dB\\xd7\\xfe!4\\x7fA#\\x1c\\x13\\x84\\xb2\\xda\\xbc\\x9d\\xa6\\x8f\\xbap\\xc3\\xf1\\xf2\\xa9/\\xd5\\xf1\\xab\\x96\\xd9\\xa0\\x0bGKa\\xa2\\x89@\\x04\\x01z\\xbc\\x01o*U\\xb0\\x15k\\xe0\\x83\\x9efyU\\x8e\\xc8\\xaa\\x14e\\x15\\x97/JG\\xda\\x08\\rH\\x83\\x83a\\x12\\x14\\x88f3sjs\\xae%[7\\xd6\\xd6^\\xaec\\xe7\\x84M\\xca\\xa40\\xd2\\x87\\xc0\\x08\\x1axI\\xd9\\x9f\\x13\\xb2\\x08\\xb1pn\\t\\xaa\\x12\\xaf\\x97\\xc0\\x06A\\xe3u\\x9d\\x13\\xb2tdp\\xbc\\x0b\\x1b\\xce`\\x01\\xa80\\x8e\\xb2P\\xb2\\x82z\\xa8\\x8cB\\x10\\xf5\\x82\\xe6\\x83\\xe1\\x18@\\xb0\\xba\\xca\\xd7!4%\\x88(\\xfeA;<\\xd2\\xcf!\\xd4\\xeb\\xf4B\\x1f\\x83|b\\x017\\x04V\\xaaq[\\xae\\x85\\xce&ZXT\\xbf\\xb8z|\\xae\\xa1>\\xd7\\xf8\\xf5}]\\xe3\\xa1q\\x82\\x05\\xe9\\x94v\\xeb~\\x08H\\xe4\\xcb\\x8f,WZ\\x8f<\\x81om\\x9a0y\\xca9\\xbf\\x13\\x0c\\x0e\\x1e\\xa7\\x04\\x05\\\\\\xe3\\x14\\xa0\\xc7\\xe8\\xc2\\x8e\\x8a\\xa7\\xc7I\"\\x02  N\\x11\\xf0\\xba\\x03\\xbb\\xab\\x88\\x925\\xcc\\x19o\\x84[\\x02$d\\x90\\xa6/\\xb0\\xb6n\\x800\\xde\\xd7=\\x03&\\x90\\x9a\\xc8\\xf2#e\\xb3&\\x06K\\xcfGNo\\x8aM\\xc7\\xa3/z\\xe6\\xcf\\x9fVWW\\xa7\\x0e\\xae-$h!\\x1a\\xccfq\\x8f}\\x9b\\x08\\xce^74\\x17\\xe1\\x12n/\\xd1\\x94\\xf0\\x06F\\x9d\\xde\\xd1={\\xbc\\xbd\\xa9\\x189\\x7fB/\\x9c\\x11\\x08\\xeb\\x90\\x90p\\x05\\xa6\\x87aS?\"\\xbf\\xbf,\\xe9j\\xf9\\xa1\\xf2\\xb2\\xca\\xd8766v~\"}\\xe6E\\xcf\\xbf\\xfb\\xcc\\x1f\\xbf|=555{0\\xff\\xd2\\xc3+\\x99\\xa0\\x1f\\x86\\xd5\\x13~\\xd1@\\x0088\\xc1\\x04\\x84F\\x98\\x89\\x03\"D\\xc0\\xed\\xf6Bped\\xc8\\xac\\x82\\xeb\\x1b\\x1aB#$\\x80`6\\x91D= t\\x03t\\x89\\xcf\\xf3\\xbcJ\\xd5\\x7f\\x02\\n\\x17\\xee\\xec\\xd9\\xe2\\xccc?{\\xfe\\xc6\\'\\xdf>\\xf6;\\x800;\\xfb\\xca\\xda\\x0f\\xcf\\x16\\xb3\\x82\\xcbEz`\\x85\\x08\\x08\\xa0\\x00\\x06M\\xa8\\x10\\x00\\x17\\xc6\\xc6 <966\\xd6\\x01Iw\\xe7\\x08\\x8c\\x00\\x80r\\xc0!0\\xa1\\x1b\\\\@%\\x1cI\\x9co\\xbd&Y\\xa9\\xf0XX\\xe5u\\xf5\\xc5\\xaf\\xd6\\xd666\\x8e\\xdb\\xb9d8\\x9a@\\xf0\\xce;\\xb7<\\xff\\xc1\\xbb\\xc7~upv\\xf6\\xf6}\\xfb\\x96\\x9fM\\x0c\\xa2\\xe4\\xc5\\x8f]V\\xf8Bo\\xef\\x08q\\x043$xac\\x1dcc\\x10*\\xee\\x18\\xeb\\xe8\\xe8\\xb8\\xc9\\t\\x1b\\x02\\x04{A\\x07\\xf8C\\x1fi\\x844l\\xfa\\x03\\xe4Iu>\\xcfq\\xd3\\xd7\\xf4\\x97~[]#(<}\\xea\\xce\\x0c\\x90G_\\x04\\x08\\x80\\xc1\\x8d\\xb7<z\\xec\\x07_\\xfcv\\xf0v\\x18\\xa8\\x90\\tu\\xf9\\xd0\\xed\\xc5C\\x02B\\xcf\\x90\\x13\\xe6\\x06\\x0ePi\\x85\\'`\\xf0\\xe0\\xc1(\\x1e\\xfc\\x04s_?t\\xfd\\xc8\\xde\\x11\\xc2\\x05\\xc2\\x03\\x92(@p\\xeb\\xce|r\\x06*T\\x90k\\x9c\\xd9\\xff\\xdd\\xd6\\xaa\\x89\\xc23\\xf7\\x9fs\\xe6\\x11;\\xce\\xce\\xbc\\xe8\\xb3\\xbb\\xb6!x\\xf4\\xb2\\xe7\\xdf\\xfd\\xf0\\xb3\\xd9\\xe7\\x08\\n\\xfb\\xf2\\xaf\\x85\\xc3\\x04\\x05\\xcf\\xbd!\\xa7\\x1b\\xee\\x00\\xf3vxG1h\\xaf\\xbbc\\x1b\\x04h\\xf3\\xee\\xc1\\xbf@7\\x03\\xaa\\xb5C\\xd0\\x93\\xd9K\\xfc\\x81\\xe4\\t\\xb0v\\x88\\xf3\\xcd\\xccD\\'\\x86\\xd1\\xfac8\\xbd95EP\\xf8\\xfd\\xcd\\xa7\\xdf|\\xe2\\xfc\\x1d\\x06\\xc3\\x99\\xdb$\\xb8\\xf1\\x16`\\xf0\\xe8\\xe5W=\\xf1\\xea\\x17\\xbf\\x99 \\xdc1%.aS\\x8dt\\xfd\\xe9\\xc1\\xf0\\x11\\x16\\x11\\x11L\\x0cFG\\xa1\\xcb\\xdba\\xfa\\x03Dy\\xf7\\xec\\x01\\x19\\x80\\x01\\x0c3\\xe4^29\\xc0!L*\\xf4\\xf7O\\'\\xa7\\xa7\\xdb\\xd8\\x01\\x7fp\\xf8\\xbbO\\xbf\\x9eZ\\x05\\n+\\x7f\\xde\\xf6\\xf6\\x0b\\xaf~\\xbb\\x93`0C\\x01\\x81\\x00\\x08\\\\\\xfd\\xe8\\xd5W]}1\\xa8\\xf0\\xe4\\xed@a\\xdf\\xbe}?\\x15R\\x90\\xe4D\\\\t\\xbbGFHPt\\x92\\xb1\\x13\\xb9! `\\x82\\x01&\\xc0\\xf6\\x8c\\x99D\\xc0\\x04Ab\\x02&\\xc8\\xbenX\\x1b\\x14\\xc7\\xda\\x8d\\xfc\\xc4pT\\xbe\\'\\x18\\xb4\\xfdv\\x10L\\x80}\\xf0\\xf63O\\xdc\\xf5\\xe4\\x13\\xdf\\xee\\x10\\x18\\x8e\\x06\\x04w=\\xff\\xce\\xb5&\\x02\\xb7\\x00\\x01bWnS\\x01\\x18\\xdc\\xbcZ\\xaa\\xc2!\\xbaH\\\\t#,\\x12\\x10\\xc6 \\xcd\\x8cO\\x07\\x1e\\x10\\x01F\\x98`\\x12\\x01\\xda\\nC&\\n$i6W\\x0f\\x98$\\x07\\x8c\\xe9\\xbd\\xed\\\\\\xdbM\\x83\\xa5\\xc2\\xec\\xd7\\x04\\x84\\xbf\\x8a;\\x13\\xa06\\xaa0\\x8e\\x9b\\xe0I\\xeb]\\xed\\x8c\\xcex\\x8c\\n\\xa1\\xb2\\xa2\\x81RZ\\x14\\x08\\x16\\xa4\\xa5\\x88\\xe1R\\xa8P\\xa4M\\x81bKZ0I)H8\\x0c\\xa2V\\x01A\\xc3\\xc0H\\xc0#\\x814\\x17I\\x88%d\\x02DKS\\xa0\\x08\\x02\\xa33\"v\\x10\\xd1j\\x9d\\xaa\\xf5l\\xab\\xfe\\xdf\\xdbE\\xeb1\\xde\\xc7\\xb7\\x9b\\xbce\\xa9\\xb5\\xef\\xb7\\xff\\xef{\\xdf{\\xbb\\xfb\\xde\\xfb_\\x9e\\x1a\\x1a6\\x18\\x94N\\xa3N\\xf7\\xffc8\\xff\\x9c\\xab\\x14c\\x8b\\x1a\\x80\\n@!&&$$&DH\\xa2B\\tK\\xe1D}T$\\x18\\xa0\\xdf\\x80\\x80\\x08\\x83\\xeb\\xaf\\xc2\\xfb\\xf0\\xd0\\xc1\\xfd\\xab\\x10\\x0f\\x08\\x82\\x07 \\x07\\x9c\\x06\\x03\\xba\\xf2\\t\\x96H\\xcb\\x81Ec\\xf1\\xc8 \\xbc\\x12\\xb8\\xab,\\xe5\\xd1[\\x13\\xee\\xbd7\\xc5\\xf1\\xd9\\x1b\\x8f\\x00\\xc2\\xfb/ON\\x0e\\xe92*\\rJ\\xa5\\x13\\x1c\\xfe_\\x0cg\\xdf\\xf8\\xa6\\xe7\\xdb\\xa11\\t\\x17\\t\\xd6\\xc3H\\x11\\x03\\x0e\\x011\\x03D\\n\\xdbA\\xa1\\xf4\\x91\\x9aB(!:\\x02\\xa9\\x01\\x9b\\x19\\xadf\\t\\x80\\x05l#\\x8b\\x81B\\x00\\x03\\xc2\\x01\\xd3X\\xb3\\x14\\xc8\\xb2\\xcbA)\\xc5wfgF\\xc6!\\x93\\xcc\\xdd\\x05\\x06T\\x08\\xbe\\xc3C\\x06Ie\\xa5\\x01\\xa6t\\xea\\x10\\x1b\\xfe\\xa7\\xe4\\t=e\\xf4\\x91N\\x9c\\xfav\\xb87\\x84E\\x10\\x13\\x12\\xc3Q\\x80\\x18\\x84\\x87Y)\\x80B\\xff+\\xaa\\xf8H\\x8c\\xa6$\\xd1\\xfc0>\\xf4^\\xac\\xee\\x82I\\xa9\\x01\\x00\\x188-l\\xdc\\x08(X\\x18\\r\\x100\\xc3\\x14Y\\x15\\t-$\\x95B\\xca\\xa6\\xb2\\x97^\\x92\\xba\\x8b6<\\xbaRU\\xc7\\tallH\\'\\xc9\\x10W\\x1238\\x8dN\\xa7\\xee\\xe8Mg\\xfd\\x1fv\\x05\\x10\\xa0\\x93t\\xccwx6\\x00\\x12@\\xbd\\x83\\x83\\t\\x05\\x8e\\x87(\\xc08p\\xe4\\xf3\\xfd\\xc4\\x1d\\xb2\\xb6?V\\x9f,_\\x1bA\\xdb\\x85\\xb5\\xab\\x1e\\x80G\\x90\\x88\\x88j\\xdf\\xcbja\\x1bM\\x1aQ{V\\x07\\xf8\\xc2\\x8c:\\xc8\\x96\\x88\\x16\\x9eJ\\xf1\\xd9\\x14\\xf4\\xa2T\\xefS\\x90\\xd8\\xb4\\x00\\x06\\xb0\\xf7G|\\x87\\x87+\\xd33\\xa8\\x19\\x9cNx\\x05\\xa2\\xc3\\xc0\\xd5\\xff\\x83\\x1a\\xce~\\xe5\\xe5W\\x882\\xa7\\xc7\\xc6\\xd6\\x07\\xa0\\xfe!\"\\x11\\xf9\\x8e\\xe1(\\xc4\\x083\\xc6|\\x8f\\xcc\\x80\\x02\\xa4\\xf0\\xc8\\xe6F\\x8d\\t\\x04\\xd0] \\xd1pU(\\t\\x06\\x0fP\\x07\\xa0+\\xfe\\xc0\\x08\\x11\\x08\\x83l(\\x1f\\\\\\xf9b\\xf4\\xbd\\x1b\\xd0D\\xdc}WP\\xc1-\\xd9\\x8f\\xc6\\xd9\\xecn\\x9f\\x13\\xdb)\\x048\\xc3\\xe4\\x90\\x91e 68\\x95\\x06\\x188\\x18&\\xd5\\x97\\xfc\\xf7\\x18nD7\\x11\\xd2\\x1c\\xf0\\xfd\\xf6\\xb0\\x0c\\xf5\\xe7,&\\x86\\x8b\\x0e\\xc1\\x02\\xe3\\x18\\xa4\\x90E\\xa40\\xf8\\xf2\\x1a\\x1f\\x07A\\x809\\x08\\x1f \\xe1\\x90$F8\\xa0B\\xa0\\xa9\\x02\\xa7\\n\\xe8\\x83D\\x8b$dKH\\x1d\\xe9\\xea\\x99w\\xc5i}\\xd6\\x857\\xf2\\x8e?\\xfbFI\\x1d\\x18Pg8*\\x91\\x10\\x04\\x95J\\xa7\\x12\\x0eQ)\\xc6\\xc70\\xa4\\xb0j\\x96\\xdc\\xf8\\xdfv\\xb3/=\\xc9j\\xf3\\x9b\\xe9I\\xa3\\x00RX\\xb4\\x10H\\x81j\\xc1\\xff\\xf91\\xdd\\x91\\x8f\\xf7\\xc3\\x1b\\xb2J\\x07\\xf7\\xd9\\x0b\\xd16\\xe4\\x01\\x02\\xa6cDc\\x90\\x97Fc\\xc2\\xbd\\xa86\\x81@\"\\x02)`8A|\\x02\\xa93&\\x13\\t\\x8dF\\x1b)u\\xb7\\xf0#T\\x9bK\\xb6\\xd7Q\\x08\\xc7Xg\\x10\\x8b+{q\\xfd+ab\\xf0\\x908\\xadCC\\'\\xff\\xdbn\\xf6\\xd9W\\xb6,A\\x8c\\xc2\\xbfia\\xdawR\"X$\\x80\\x0f\\xe2\\x02\\x81\\xc05\\x93\\xdb\\xf7g\\xc1J\\xb3\\x964\\xae\\x8e/\\xdf\\x86\\x87\\x97\\xd3\\xd2\\xaa\\xd2\\x10\\x05\\x90\\x1c!$B\\xfaP\\xc5\\xb6<\\x9cXEy\\x80\\x01|\\x04}\\x08dTH\\'\\xa2s\\x00!H\\xe5n\\xb7\\xd5,2x\\x17\\xce\\xe0\\xcc\\xcf\\x00\\x02\\x03e\\x00\\xcb\\x80\\xa5\\x8f\\r}\\xebE\\xc7\\n\\x1d\\xcc\\xff\\xc8)\\xce\\xbf\\xb8\\x05\\xb7R_y\\x84\\xda\\xd1\\xe9Ie \\xc2\"\\x00\\xc0\\xb8\\xe8HBe\\xa0\\xc8\\x17\\xb1\\x91Ja\\xfb`\\xdd3\\xf5<Sa\\x1e\\xaa\\x8be\\x0c\\xe8\\x9aWH\\x12I\\x9fa\\x1b l#\\n %\\xcd\\x9c\\x00\\x03D\\xe0<m\\x9a\\x84\\xa4\\xdbo\\xc5\\xbc*\\xaa\\xe3\\xb7\\xd5e\\xd5\\x01\\x02\\x1b\\x10\\x06\\xd2%\\x95\\x94A/\\xe4@\\x85\\x90\\x91\\xdf;4\\xfc\\xed\\tDjP\\xf8o<\\xe2\"WYQuY\\xcb\\x9b4N\\xbd\\xf1\\xcd\\xf4\\x98\\x8e\\xe6\\x06!?\\x84\\x85\\xf5\\\\l\\x94\\x8c\\x19\\xe7\\xdf\\xeb\\xce\"6X\\xd7r\\xdc\\xec\\xdd\\x8aU~\\x08\\x824\\xccBWUN\\xac*\\x0f\\x08\\xb0mCI&\\x9cC\\xca\\x00\\x1c\\x98\\xbeS\\xae\\xd1\\x1cwm@\\xaa\\xf0\\x04?\\xac`\\xc7#\\x1c\\x83\\x05\\xdf\\x81\\xe1\\xc9\\x0c\\x9a\"(\\x11\\x0e(\\x031(<?0\\xf4\\xed\\xd4+\\x14\\xc2cg\\xfd\\x07v\\xa96\\x1bs\\xa4\\xed\\xdc\\xab}\\xec\\x91:\\xd8\\x1b\\x0b\\xd3\\x03c\\x92`\\x82\\xe1\\x0c-P\\x0b\\xf1S\\x8e\\xcd\\xce\\xcdt\\x97\\xc2\\x1fJ\\x07_\\xa9n\\x93\\xaf\\xedin\\xa6\\x18\\xaa\\x9e\\xceK\\x03\\x10\\x1c\\xe3\\x03=\\xe4\\xe5\\xe1\\xa0\\x1ck\\x83\\xf5\\x94C\\x0bP\\xc6\\x01\\x9e^oKN\\xba\\xfd\\xf6\\xdc\\x86\\xf65\\x1d%\\x84A\\xdd\"\\x83t\\xaa\\x03\\xc4C\\x8e\\x01(\\x1c\\xfev\\xf8\\xd4\\x97\\xe8]\\xc2:\\xfe\\xf5\\x9b\\x14\\xe7_V\\xbd\\xb7\\xf8\\xf6\\xd8\\xa6\\x02X\\xeeB\\t\\x81P\\xa7\\xf3\\x9d<,\\xa2\\x97\\xfe\\x0c-P\\x13\\t\\x90,\\xcceu\\x97\\x02B\\xd6\\xe0\\xc2\\xe6\\xd5r\\x95Z\\xcdC\\xb5\\xf30;e\\x0f\\xe6 \\xecy\\xad\\x87`\\xa8\\x02\\x08\\x18\\xce\\xe0TOO\\xda6\\x84\\t\\x9e\\xa9+~5\\x9ey\\xaf\\xbe\\xf9\\xe6\\x8e\\xed`@y\\xfb\\xfa\\x0eO\\x8a\\xd3\\xc5\\xbd\\xbd\\x06\\x03\\xba+\\x04\\x82\\x98\\x9aD9\\xfc\\xed\\xe4\\xcb0\\xb4\\xdb\\xfbZ\\xf4\\xff\\xeeK\\xc5\\x17\\xd9\\xb2\\xd7e\\xd6F$7\\xa9x\\x15*\\xd3B\\t\\xa5\\xf0\\x0e\\x82\\x82\\x08\\x0e\\xf0\\x13)\\x90m=\\x12\\x08t\\xa4\\x94\\xa0PZ\\x9a\\x9a\\xda\\x7fR5\\xe2\\x19\\x9d2\\xc5\\xc3\\x1b\\x9a\\xcb\\xab^\\x7fg\\x04\\xcb\\xc4UaA0\\xfc\\\\\\x0e\\x14\\xaf\\xbd\\xf6\\xfa\\xab\\xe3S\\x1e/\\xafp#R\\n\\xafcch\\xa8\\xaa\\xbd\\xa8\\xdd\\xe7\\xe4`)E\\xb0\\xc8\\x001\\x11\\xdd\\xf6J\\x8e\\x01\\xb5\\xe7u\\xc3\\xa7L\\xef\\x13\\n\\x8f\\xbc\\xb9\\xe9\\xc9\\xb2\\x06\\xfde\\xff\\x16\\x86\\xf3\\xafp\\x15d6\\xb5%W\\xe0n\\xaa\\x89\\xa7\\x1a]\\xfa \\x0b\\xe1\\x9b#cF4\\x8c4k\\xa4\\x18PP-\\x00\\x8b\\xffz\\x9d\\xee\\x88s?\\xa50\\x98u\\xd2D\\x96\\xfdZ\\x1b\\xbf-\\xady|\\xc8j\\x86\\xa9=K_{\\xad\\x9c\\xac\\t\\xd7\\xf3\\xda\\xebS\\n\\x8b\\x1a\\xe7\\xf4-\\xfc\\x07\\x12\\xb7z\\xd6\\xb4\\xc4\\x85V\\xbb\\xd7\\xdcV7\\x98\\x85q\\t0\\xf8l\\x9ac@\\x0c.\\x00\\x08\\xf4[\\x8c\\xfe\\xdb\\xd8\\xb0/\\x86v\\x89u\\xb4\\xec\\xc1c\\x0e\\xee\\x7f\\x07\\xc39\\x97(\\xaa\\xfb2s\\xb5\\xda\\xbe>S\\xa7\\xc9\\xbbtT\\xa3\\xc9,!\\xb6\\x7ffz@\\x17\\x13\\xc2V\\x9a\\xa3\\xc0j\\x81\\xc4\\t\\xbf\\xe7\\x07t\\xf3\\x1fp\\x14\\xfaO6\\xc5o$\\xc1?~JmQ(,\\x16Ri\\xcf\\xd3p\\x010\\x18\\xb1\\xa8\\xadCV\\x8bBmw\\xb7\\xf3#\\xc2+lk\\xee\\xd8Y]}2k\\x10\\xbd\\xb0\\x92\\x927\\x10\\x80\\x07\\x86\\x8ff\\xa4\\xd3\\xaa\\x93\\x8e{\\xc6\\x8fBH?<96@\\x93\\xea7^~\\xac\\t\\xafXw\\xec\\x03\\x87\\x7f:c\\xc0\\x9de\\xbb}SK\\xbb\\xcb\\xe5\\xb2{y\\x9d\\xe5\\xf5\\x8e\\xd6\\x9e\\x11\\xb3\\xcf\\xcb\\xa5\\x80\\xf0\\xc6\\xcc\\xac\\xef\\xc0\\xfa\\x00\\xee\\xda\\x83\\x02\\x85@\\xb5\\x00\\x12!~\\xcf\\xeb\\x8c\\xf3\\x9fts\\x14N4%\\xafF\\xee\\xac\\xb2\\xab\\x15\\n\\xab\\x82r0{\\xaa\\xc0\\xa0jJ\\xad@\\xba\\x83s.\\xbd\\xcb\\xa7:4:\\'R\\xa5\\xbfe\\xcb\\xcc`\\x16\\xf2n\\x90\\xae\\xfb|zl\\xd2(\\x01\\x03\\x82\\x00F\\x19d\\xb0\\x16\\xd2;\\xe9{\\xf4\\x917\\x10\\xa8K^NH$\\x13\\x95\\x15?\\xd6\\xb1g\\x93\\xfb\\x9fT\\x03\\xee,\\x1f\\xf7\\xf1q\\xbb]\\x9e\\x91q\\x8f\\xddT(O\\x93\\x9b:\\xd3\\xdaL\\x8a\\x05\\x08\\x15=E\\x9d\\xef\\x98D\\xc8\\xd5;\\x04\\x86C\\xf2\\x03\\x84\\x90\\x8f\\x8f\\x9f\\x04\\x14>\\xe8\\xefN%\\x14\\x06\\x17\\x8a+\\xa2B\\x0b5z\\xb5Y\\r\\n\\xd4@\\xa1\\xbcgJM\\x10\\xe0\\x94\\xc5\\xecjw\\x17%?\\x11\\xbe\\x92\\xef8Y\\n\\x06Y\\xc0\\xb0\\x7f\\xc69}tR\\x99.\\xe1\\x18H$\\x80\\xc02\\x90\\xc0D\\xca\\xc9\\xe9o0\\xba\\r\\x08\\'T\\xe1\\x18\\xd5\\xc5\\xb4\\xe7\\xb8\\x99\\xdd\\xb1\\xc7\\xfd\\x8fu\\'\\xce\\xbf\\xc4\\xaeo\\xd1\\xf6\\xd9\\xbcKy^\\x9b[o\\x1f\\xe9\\x8c\\xef\\xf2\\xd6\\x97\\xcb\\x0bL\\x9f\\xe1\"\\xc1p\\x91\\xc4\\xe8>\\x84\\x10\\xf9\\xd3\\xb8@\\x81Pi\\x90\\x82jAY\\n\\n\\xa9\\xa9\\xbb\\x07\\xb7\\xdf\\xa3\\x8a\\xd8j\\xd3\\xdb\\xf5.\\x0bB\\x00\\x0c\\xd5\\x1eym\\\\m\\xb5\\xc29,V\\x85\\xd9\\xd5\\xe2\\xd2\\xf7\\xad\\x8d\\x8cU\\xed\\x9a9\\xb8\\xbb4\\x0b\\xb6\\x7f\\xff{s\\xd3Gu\\xe2\\x18\\t\\t\\x01l\\xc5\\x01a\\xf10=]4;\\x06\\x08%`Pr2\\x05k\\xf9c\\x80\\x16b\\xa8\\xa9\\xd9\\xfb\\xcc\\x9e\\x96\\x8b\\xcf\\xfeGZ\\x04\\\\\\x9a\\xf6\\x02\\x87\\xa3]\\xaf\\xb1\\x1f\\xd7\\xdb\\xcdzO\\xd7\\xb6Bo\\x9f\\xca\\xd4\\x07\\x08T\\xaa\\xef\\x1c\\x19\\xeb\\x15\\x06\\x82\\x02\\x07\\x81\\x13\\x02\\xe7 $:\\xce\\xea\\xe6{\\x97u\\xf7\\xa7\\xc2\\x0e\\xa6.4u\\x9a\\xecn\\xbdK\\xa3\\xf6x@\\x80\\x98\\x07,\\x14\\x9e\\x11,(j\\xb1\\x03\\xb3\\xa6+\\x8a\\xd7\\xb4P:X\\n\\x03\\x83e\\x9f\\xcc;\\x07\\x94!\\x81\\xe9\\xe9\\x92E\\xcb\\xe0\\x14A\\x19\\xe4\\x07\\x1b\\xc7\\xa6g\\xf6\\x13\\x06u\\x0f\\xc7%\\x91\\xc19\\x8cN\\xe2\\xa1\\xa7\\xb2\\x86\\x1d{\\xf6m\\xba\\xf2oc8G\\xad\\xd66\\xb4\\x93h`v\\xe9-\\x1e\\xef\\x88\\xc5n\\xa9_\\xbb\\x8dW\\xef\\xb5\\xbb\\x1d/@\\xaa\\xd0\\xea7G\\x06\\x94~\"\\xda\\x95\\x86\\x0c\\xb8\\x1d\\x08\\x16-_ R\\xea\\xe6\\xe6\\xbf\\xe0(\\x1c\\x9c\\t\\x9a2\\xb7\\xb7\\xbb4\\xf5\\xadX&\\xb4s\\x1c\\x8b\\x89\\x9a\\xc6\\x97\\xbe\\xfaz\\x15\\xb2\\x06\\x93\\xddn7\\xdbGZy\\t3\\x83\\xf8\\xb3\\x80\\xd0\\xbd\\xff\\xbd\\xf9y\\xa3\\xae\\xd2?\\x10|\\xf3\\xf3\\xf3\\xd3\\x81\\xe2\\':\\x00\\x83\\xf5:_\\xe3\\xcc~2\\xc0\\xbf\\xb0+<1\\x9a\\x8cS\\xc75U7\\xb4\\xc3Z6m\\xda\\xd7\\xf27\\x1fu\\xb9\\xc2\\xd5p_\\xae\\xfb\\xb8\\xdd\\xd3\\xd99\\xa5wun\\xcb\\x8b\\x1f5\\x9b\\xeb7\\xaem\\xe4\\x97\\xd7\\xbb|\\xb2\\x97Q\\x08\\x1f\\x1f\\x19\\x98\\r\\x08\\x08\\x14\\xc1~\\xecA\\x80\\x020p$\\x02\\x03{us\\x13\\x1f!0\\xc0#v\\x1f\\xdc\\xfd\\x99\\xebxK\\x8bKN&\\xe9%\\x19\\x12v\\xd2B4\\xf7\\xb4\\xda\\xccj\\xb3\\xdb\\xf3\\xaa\\xe9\\xb3T\\x96A\\x7f\\xf7\\xb2\\x0f&\\x94F\\xa3D\\x16\\x10\\x8c\\xbf>\\x04F8\\xd0\\x8e4\\xab\\x03X\\xa0d\\xc0W\\x07\\x04\\x04\\x02\\x9e\\xa5\\x8f]\\x19\\x1d\\xdeTD\\x104h\\xcb\\x8a\\x8a\\xf6\\xee}r\\xcf\\xa6\\xbf\\xd3R\\\\\\xd6\\xbecKv\\x18\\xcfl\\xd6\\xf07.\\xd5\\xbb\\xb6\\xde\\xbf:\\xb4^}\\xdc!_\\xeb\\xe0\\x1d\\x90\\xab4>u\\xa9\\x04\\xc2\\xcc\\x9c\\xaf1P\\x00\\x080J\\x00%\\xbcC\\xc4\\xe1 &\\xf2\\xcb0*\\'*\\x97w\\x0f\\xee&\\x14\\x0e.\\xdb{\\xdc\\xae\\x19\\x8d\\xd8X\\x0e\\x03\\x07\\xec(\\xab\\x9a\\xeb\\xd1f\\xda\\xd5\\xef\\xf0f\\x06Y\\x06\\xdd\\xdd\\x90\\x81S\\xa7\\x0c\\x91\\x05\\x04\\x12\\x13Q\\xba\\xf9\\x14\\x82\\x84e\\x00\\x0b\\x10\\x8fMc\\x10\\x8b@8\\xb13.\\x16\\x08\\xf0|dCA\\x13y\"`]\\xc2\\xce\\xbd;6\\xed\\xbb\\xe3\\xaf\\xdf\\xb5\\xbbd\\xef\\xde\\x06mA\\x81\\n\\x15\\xef\\xdb\\x98\\xe7\\xb1\\xb5\\xad>\\xb0\\xb1\\xde\\xe6\\xb1\\xa9\\x0ex5\\xf2\\xf8\\x82\\x8a\\xbe\\x85~\\x1a\\xbag}\\x8d\"\\x7f\\n\\x01\\x00(\\x82\\xc0\\x00\\xd6HI\\xff\\xf5\\x81\\xb2\\xf5J\\xe7\\xfc\\xc4\\xa1\\xfenP \\x18\\x16\\xb4z{{Ac\\x05Y7\\x8f\\xbc!\\xda\\xc5\\x1bu\\xd846\\x8b\\xda>\\xf5\\x05d\\x00ce\\xd0k4\\x8a\\x852\\xfc\\x85\\xd8\\xc8\\xff\\x02\\x14\\x88\\x14XKg!\\xf4\\x0eL\\xbf\\x05o\\x80=t\\xdf\\x86\\xc4\\xdc\\x86\\x96vmu-\\x9e\\x1d\\xbd=v]B\\xd8N\\xdc\\xc8\\xdd\\xfb\\\\\\x87\\xfe\\xec\\xbf\\xc8\\x00k\\x1c\\xee\\xd4V\\xf7\\xb9F\\xa7\\x8e{\\x0e\\x1ch\\x9d\\xea\\xe3\\xf1U\\x1a\\xcf\\x88\\xdd\\xdb\\xcc\\xf3j\\n\\x1a\\xa5\\xbc\\x19\\xc4-\\x16B\\xb0\\x1f*\\xcar@I\\xea\\xee\\xe7/\\xf0\\xf7\\x13\\xf8\\t\\xfcQ\\x06\\x08\\x02\\x04\\xb2\\x80\\xc3\\xce\\xde\\xaf\\xbe&b\\xa0\\x14v\\x7f\\xa9\\xb5\\xbb\\xf4n\\xb7\\xbeE\\xdf\\xde\\xe2Fiwy<j\\x85y\\xd7\\xf2\\xc1\\x83\\xbb\\x81 \\xb5\\xbb\\xfb\\x8b\\xc3\\xf3J\\xa33\\x9f\\xf1\\x03\\x00\\x16\\x02\\x8cBH\\xe7\\x08\\xd0\\x18\\x11\\xa0\\x1c;\\xf2\\r\\x1d\\xd3\\xad\\xbbg]\\xad\\xb6\\xbd(73\\xf6\\x89\\x9c\\x95ODGg\\xee\\xbcoe\\x9c\\xb6}\\xc7\\xe6\\x9a%\\xcf\\xec\\xb8\\xe0/5\\x0be5;\\x13\\xc2\\n4\\xa3\\x1e\\xbbGm\\xeb\\xe2{5n\\xbb\\x1e\\xcd\\x83\\xfbf[kc\\x9b\\\\\\xe3R\\xb5\\xcd\\xf4\\x13\\x08\\xdbg\\xa7u1B\\x0e\\x02\\x0c\\x10\\x04\\x80\\x00\\xf3\\xf7\\x13bC\\x89\\x8f@&\\x93(\\x95\\x13T\\x0c\\x8b\\x182\\xbd\\xdeQ\\x87\\xc3\\xd1\\xd7\\xe7\\xf5\\x8e,\\xc5\\x12Yj\\xb5t\\xd9\\xc1\\x83\\xa9\\xbbSa\\xdd\\xa5\\x9f@\\x06:\\xb1\\x9fL\\x80\\xfasF \\x90\\xe8\\x08c!\\xe08?P9\\x80!\\xac\\xed\\xa0P\\xf2\\xd0\\x8e\\x86\\x9d\\xd2\\xa4$\\xdc\\xbc\\x8a\\xc3\\xe2A\\xeb\\x12b\\xa3s\\x9a\\xb4\\rx.pK\\xc7s\\xcf\\xfc\\x05\\n\\x17ly\\xb2\\xac\\xa86Rj\\xeb\\x1bQ\\xe3\\x92\\xa9\\xed\\xc7\\xd1>\\xe8\\xcd\\n\\x8f\\xc7l\\xc6\\x1b\\x9dy\\xcd\\xae5\\xde\\x19\\xda\\x8cowN\\x0f\\xa4\\x0bI\\xdd\\t\\x00R\\xe2\\xca\\xfb\\xfb\\xfb\\xa3\\xf2 @ \\xb0$dLp\\xaf\\xf20\\x11C\\xff\"\\x86\\x99\\x07\\xdb:[\\xf1\\xaet\\xf9kO\\x8f\\x8f\\x8f\\xab\\xbe\\x04\\x02\\x10\\x80\\xf5w\\x7fQ\\x89\\x88\\xa8\\x0ca\\x84\\xe4\\xef\\xa3\\x008w\\xe0(p\\x0c\\x00!xv`z\\x06\\x10\\xd0\\xd9\\xdc\\xb7%<4)26n]\\xdc\\xedA\\xd8\\xf0\\xb4GXu\\x83\\x16\\x8f\\xc7\\x16\\xef\\xd8\\xf4\\x17(\\x9c\\xd3\\x80y!\\xb5\\xaa\\xe4\\x88\\xc6\\xbeq\\x8f\\x8f[\\xef\\x19\\x1fQ\\x80\\x81eh\\xbc\\xf5\\x98}\\xb4\\xbe+~+\\xafe\\xcd\\xc2 \\xc9f\\xb6\\x7f2= \\x91\\x05R\\x0b\\xa0\\xb2\\x85\\xfa)\\x04V\\x08\\\\\\xe1\\xef/d\\x84\\x19\\x06\\xc3\\xc4W\\x1f\\xed\\x86Op\\x18\\x96}\\xf6\\x92\\xd4\\x14\\x998j\\xcb\\xfdl\\x06\\xcd\\'NR\\x04\\xa5\\x87&\\xe6\\x9d\\xce\\x0c\\x19\\x1b\\x11\\xcf\\x14\\x02 \\x10c!\\xc4P\\x08\\xc6\\x81Y\\x16\\xc2\\xcb{o\\x8f\\xc2}\\xcfX\\xb2\\x8aTP\\x10\\xbd\\xb1]\\xd0\\xae-X\\x17\\xb7\\xee\\xae\\xcd\\x9b\\xf6,\\xe9\\xf8\\xb3\\x14.yrsAuQSdh\\xd4\\xa8i\\\\a\\xb7{\\xf2\\xaa4>f\\xab\\xc5\\xae1\\xd9\\x8e\\x8f\\xd4w\\xad\\xed\\xaaP\\xad9I!\\xec\\xff\\x9c@`C >\\xc0  \\x91\\x80\\x13\\x02\\xc7\\x02\\x1b~\\x941\"\\xb1\\xb2\\xf7+\\t|\"\\x95\\xc5\\x00[\\xf6\\xd9;\\xc3\\xd93\\x07\\x079\\x04\\xf0\\x84\\xfe/z!\\x03\\x83hQ\\x06\"\\xcaw\\x91\\x02j\\xbeh1h*BH\\x9a\\xb0\\x8c\\x0e\\xee/\\xa4$\\xf0\\xf1\\xa8\\xe0\\x86h\\xe4\\xce\\x98!9..G\\x8a\\xc5\\x99\\xe3@#\\xe8\\xbe-\\x9b\\xf6-\\xd9s\\xf6\\x9ft\\x86-x\\x06]\\xd3\\xd7\\xc4\\x8bo\\xeb\\xeb\\xaa\\xf2\\xaa\\x15\\x9ew\\\\\\xc7\\xa7^\\x9f\\xa2Y\\xa3\\xa9K\\x8e77*\\\\\\x8b\\x10\\x8e\\xb0\\x10`D\\x0b` \\xc0u\\xc7.$\\x18\\xa8\\x11\\x1c\\x14\\x05#\\x8b\\xa9$>\\xf1\\x05\\xc1\\xc0q\\x18\\\\\\xfe\\xc5n\\xdavRG@@D\\xa3\\xe0tJd\\x8c\\x80\\xfa\\xd6O\\xa4@\\x9a\\xdc3 @\\x11!$M@d\"\\xb7=w\\xa6\\xf0\\x93\\xa3B\\x13\\xe3\\xc2\\x10\\x15W&\\xa4\\xc4\\x86\\x17h\\x0b\\xa4\\xe4.\\xf7K\\xeb\\x8a\\xd0R>s\\xf9\\x9fj)\\xaf\\xdc\\xd2\\xa0\\xcd-\\xd0hlH\\n\\x1ay\\x07Z\\x87\\xd0\\xe3\\xb1\\x98\\x97\\xbeVu\\xcc\\xaaP\\xeb=\\x9dr\\xb9\\xbc\"\\xd3v\\xe2\\x07\\x08\\x19\\x80 \\xc0\\x1eHv\\xb6]\\xa0A\\xe1\\x0c!\\xc08\\x0c\\xeb\\x89O|\\x00\\x0c\\xacS\\xa0G\\xd1O\\x83!E\\xd0\\x0f\\x04\\xf0\\x84\\xca@FHS/RsN\\n\\x9c\\x12 \\x05\\x02\"\\x86*\\x01=\\x87\\x8c\\x81\\xe9\\xcf\\x81\\x80@(K@/5Q\\x1a\\x16\\x99\\x14\\x15\\x89\\xc7\\x06\\x13\\x0bZ\\xb4qx\\x02(\\xf1\\x89\\x95A\\x98!x\\xd3\\xbe\\x8e\\x8b\\xff\\xcc@\\xe2\\x93\\rZ\\xad\\xaaBE\\x02\\xf7\\xd6\\xad\\xa6\\xae\\x03\\x85V\\x8bK=T\\x88E\\xc1\\xdf\\x19\\xb7Z\\xd4\\xe3x\\x89\\x87G!\\x94\\x9e\\xa9\\x04h\\x00_\\x04\\x02\\x08\\x10\\x06\\xf8\\x08\\xcf\\x8c\\r\\\\\\x80\\xf4\\xcfP\\x1a\\xbe\\xa2\\x18\\xfai\\xe5\\x01\\x82\\x13A\\xea{\\x1fLL(\\x9d\\x86|\\x99,P$\\x10\\n\\x19\\x86\\x81g\\x89\\x02 \\x01\\xb0\\xc07\\'\\x05\\x90\\x08\\x81/\\xc4\\xa0\\xbd\\x14\\x89Y\\x08\\xb0\\x93{\\xc3V=\\x10!\\rK\\xc4\\xa2\\xab\\x99\\xb5a\\xf7J\\xdb\\xdbs\\x93\\x92b\\xe3\\x9e\\x88\\xceYW\\x86\\xd7(\\xee\\xd8\\xb3\\xef\\xd2?1)R\\x19 h\\xfa\\xf0&\\xe7\\xa8\\xc7Th\\xe2\\x1d80e\\xb1(\\x8eM\\xd9\\x15S\\x1e\\x8dZ\\xa1\\xf6b2\\x10~- \\xa4\\xb2\\x10t\\x12\\x99\\x800\\xa0\\xbb?\\xf1\\x06\\xce\\x0b\\xc8\\xc6\\x85E\\x19*\\xc4\\x9dgd\\xc1b%\\xd4\\xf0\\xf5\\xa1\\xdd\\xdd\\xfd\\x83,\\x84A\\x8c9|q\\xa8wb\\x1e\\xb7\\x95$~2\\xe4\\x06\\xe4\\xbf\\x10\\x1f\\x1532\\x82B\\xc8\\xa0\\x94\\x91\\xbb<P\\x00 p\\x16\\x03\\x08\\x87i\\xc2H\\xec\\xe1\\xe2\\x9cUQ|i\\xe4\\xea\\xd0H\\xcc\\x02\\xbc!Q\\xdb\\xb2s\\xc3\\xa39\\xb5Ma\\x0f\\xe6\\xdc\\x87\\x85\\x98v=\\xb9\\xafc\\xc79\\x7f\\xb8\\xcb\\xf0d\\xbb\\xb6\\xa8\\xda\\xe6\\xea\\xeb\\xe2\\xe31\\xec.\\xd3h\\xe1\\x88Y\\x8d\\x8e.r\\x19\\x94f\\x8b\\xc5\\xd6\\x19\\x0f\\x08\\x9e/\\x01\\xa1\\x14\\x10\\xe6t\\xe9\\x0c\\x82!\\xab\\x03\\xea\\rd\\xa35FX \\x08\\x18X\\xe5\\xd0\\xb0P\\x06\\x1a,\\x86\\x181q\\n\\xf1\\xa1\\xe5\\xfd\\xddp\\x06|-?d\\x98\\x98\\xe8\\x85\\n$\\x81\\x0c\\xd5\\x95P&c\\xd4C\\n\\xe4\\x16F\\x97\\x91Q\\x1e5\\xc8\\xf2\\x03\\x18\\x7f\\xf0\\x08\\x0c\\x06\\x05Q\\x08T\\x91\\xbf\\x9e@\\x188\\xf2\\x1e\\xbd\\xc7S\\xf2TJNr\\x9849tu\\xb2\\xb4)3\\xf1\\xfe\\\\}Q\\xec\\xbd\\x1bbkk\\xc3\\x1e|\\x02\\xeb\\x92\\x05\\xdd\\xba\\xf7\\xb9\\xe7:.\\xf9\\xc3/\\xaaln\\xaf.\\xb0i4\\x1a$\\x04\\x85\\xf1r\\xde(\\x86\\xff\\xac\\xd6c\\xc7\\x86\\x80\\xe1\\xd8\\xb1\\xf1)\\x85\\xdd\\x94\\'\\xe7g\\xda\\x00!\\x15\\x10>\\x99\\xd3\\xad\\x87j\\x01\\x01\\x14\\x02e\\xe4p\\xd1\\x0b\\x08\\tz!\\r\\n\\xb7\\xdeZ)\\x13\\xfa\\x81\\x10\\xdb\\\\\\xca\\xf2+\\x95\\x86\\xc3_M|ph9u\\x83yB@Y\\x99/`\\x844\\xb6B\\t2\\xc62i\\xd1\\xcd\\xe9\\x14\\x06\\xb5\\xce2Vy\\xd4>$\\xf6\\xc7\\x98\\xbb\\xcc\\x9f\\xb0\\xf0\\x0f\\x14\\n\\x03I\\xff\\xa9\\x97@@\\xfe\\x0e\\x08\\xbbR\\xa4\\xd0\\xc1\\xaa\\x88\\nL\\x12}o\\xa4\\xb6]\\xba\\x01\\x99BS\\xd3\\x13\\x1brR6\\xdf\\x15\\xb4\\x8bd\\x8e\\x1dg\\xff\\xc1\\xa6\\xa1,\\xa5\\xba\\xbaO\\xe3r\\xd8\\xbcm\\xa3\\xf2x\\xb9\\xc9\\xc4{\\x07\\x83>\\xefT\\xbdz\\xcc\\xa2\\x18oNk\\x9d\\xb2;\\xe2\\x93\\xf9\\xb5}T\\t\\xfdY\\x80\\x90\\x8f\\x9a#\\x12\\x80\\x01#\\x19\\x16\\x9eA\\x808\\x81\\xc8\\xa9X\\xb1\\xc2\\xe5\\x04\\x0c\\x01\\x0b\\x00:!\\x18\\xfc\\x9e\\x07\\x86\\xde\\x89\\xaf2\\x0e\\x1d\\xaa\\xfcjN\\x89\\xdcH\\x12\\x8c\\\\B\\x10\\x80\\rz\"\\xa0\\xd4:\\xb5\\xf2\\xa8u\\x98\\x19\\x9a\\xb4N2\\x93\\xc3\\xba!\\xa7^W9l\\x19\\xa8\\x1c\\xa8L\\xf7\\xcf\\x17\\x07\\xf8I\\xd0uXTB\\xdd\\x9d5\\xd9*~\\x14<\"33<)4S_@\\xeei\\xc6\\xe5\\xe6\\xc6n@S\\x11\\x14TS\\xf3\\xd8s\\x8f-\\xf9\\x83\\xaf\\x13]\\xbc\\xa5\\xb6Zk\\xd3\\xa8\\xe4\\xb6\\xbe./?\\xbek\\xd4d*\\x1fA\\xf5\\xd3\\n_W(\\xc6\\xf3\\xf2\\n\\xc7-\\x1e,\\x84\\xdf\\xe4\\x98Y\\x84`\\x8c!\\x10`\\x012\\xc6me\\xb8pH\\t\\x04\\x1b\\x15x\\xfdy8\\x04>M3\\x07!\\x8d\\x99D7\\xf8\\xb5_z%\\xee(\\x8a\\'&\\x0eW:\\x81@\\x80?\\x13\\xc0z\\x15\\x07\\xc1<iq\\x0e\\x0f[\\xd2\\x15\\x93\\x8a\\xa3\\xa2\\xb1I\\x8b\\xe1\\xb0\\xdd)SX\\x94\\x19\\xba5F\\x9db \\x83\\xc9?\\x13\\xc2=\\xc5\\xd9\\xd2\\xe4Uk\\x1f\\xaf\\x90VD\\xac\\x8e\\xd2h#\\x93\"\\x92\\x92\\xa0\\x04\\xe9\\x13aXY\\x01\\xcb\\xb8>V\\xf3\\xd8\\x92?\\xb6H\\xf7\\xd9-[\\n\\xaa\\xd1\\xa3\\xdb\\xcawy\\xbb\\xfa\\xda\\xd2\\xda\\x1c\\xf5\\xf5\\xcdO+\\x14S\\xcd[\\x9f\\x9e\\xb2\\xd4\\xc7\\x17v.\\xb5(\\xe4m\\x98\\xfa\\x01\\x10\\xd0\\xd9+u\\xce\\x1a\\x83QC\\xf4\\x96\\x02\\xfc\\x18\\x85\\x9b\\x91\\x11\\x02\\xd4\\x0b\\xf2u\\n\\x9f\\x15+\\xd4\\x06\\x1c\\x82\\x00\\xbb\\x83\\x001\\xca\\x021\\xe2\\xf9^%8(\\x91\\x17 P\\x08\\x04\\x04\\x02\\xd7\\xfd\\xc4o\\x85\\xc2\\xaf\\xd3\\x99\\x0c?\\x9d\\xc5(\\x1ef\\x18\\x85\\xce9i\\xb4W\\n\\xadV1#v1Cz\\xa7\\x88\\t\\xc9\\x0f\\xc0X\\x05\\xbd\\xd9WZW|\\xcf]\\xe1Q\\xab#\\xf8\\xaa\\xda\\x88\\xd0\\x8d*m[T,\\x9e\\xf2AL\\x88\\x8d\\x0eK\\xb8\\x9d@\\xa8)~n\\xcf\\xbe\\x8b\\xffP\\xb2\\xb8\\xa5\\xa8H\\xe3\\xe8\\xc3n\\xe39\\xbc[\\xe3\\x1b\\xbd\\x9d\\xbc\\xce\\x9e\\x11\\xb5\\xa2\\xb3\\xb5|\\x1c\\x10Z\\xbb:\\x15\\xb66\\xfe\\x8f\\x10\\x94\\xb3\\xce@D<\\x01\\xbc\\x811\\xae\\xd01\\x84\\x01\\xaa\\x9d>\\xa0p\\xafXq\\xdbP\\x06C\\xb1\\x90\\xf8\\xc8\\xaa@@\\xbf\\x88G\\x08\\xd0\\x02\\x08c2\\x0cJ1\\x89\\x86\\x08\\xad$\\x18P\\x088B\\xbb\\xc2|u\\xfa\\xf4\\xe9y\\x11\\x03\\xb7\\x02\\x90|\\x7f\\x99\\xc1`\\x1d\\xcePX\\r\\xfe\\xee\\xa3\\x8c\\xd5e\\x10\\xc8\\xf2\\xf3\\x05\\x87Y\\x08PB\\xf1\\xc3\\xb7&\\xaf\\x8d\\xe2\\xf33\\xa5\\xabW%k3W\\xf1c#\\xa3\\xa3\\xc3k3WF\\xc7\\xc5\\xad\\\\\\x99\\xb2\\xb9\\x06OD>\\xd3\\xf1G\\xa2\\xc29;\\x1a\\xaa\\xab5\\x9a\\xbe>\\x9b\\xc3\\xe4p\\xc8\\xa3\\xe4\\xde\\xfaf\\xd3\\xd2\\x9eq\\xb5e\\xbc\\xb9\\xb9u\\xaa\\xbe\\xb9\\xb9\\xab\\xd3\\xeai\\xcb\\xccl*Xv\\x90$\\xb9\\xcb\\x0e\\xcf*\\x052?\\x81\\x00\\x0cB\\xdc\\x80@\\xccOi\\xf5\\xb9y\\xc5\\n\\xfb$\\xf1\\x03\\xd2\\\\\\x08\\xb1\\xd1\\x1c\\x8a\\x83\\x00\\x03\\x15h_\\x06\\x1f@4e\\x04\\xac?\\x91~7\\x0c\\x10@2\\xf8mb\\x8c\\xe0\\xd3\\xb7?\\xfd\\xf4\\x14\\xc3\\x9c\\x9e\\x8b\\xf9*X\"\\x0c4:\\xc5j\\xabxLa\\x143\\xf9\\xf9\\xfe\\x1c\\x84R@(\\xde\\x15\\x1d\\xca\\xaf\\xa8x<4t\\x95\\xaa \\x14\\x8d%n\\xe4\\xc5ffF\\x87\\xe7\\xc6\\xe5$\\xec,.\\xde\\\\\\xf3\\xf0\\x93K\\x96\\xfc\\x81\\x06\\xe2\\xa2-\\xedZ\\x1b\\xdc\\x01]\\\\\\x87\\xa9\\xb3Q\\xde\\xe6\\xe8j\\xe6\\xd5\\xf7\\xbcjQO\\xb5\\xe6\\x95\\x8f 0\\x16.\\xb5*\\xea!\\x84\\\\\\x16\\xc2\\xf2y\\xa3\\x01\\xed \\xb9\\x8c\\xcc\\xf0\\n\\xbd{ \\x10\\xf7\\x06]\\xb7\\xdcr\\xcb\\xcdf\\x1d\\x14!$*\\xa0\\x10\\x04\\xd4ePW\\xea\\x12\\x90>\\x0e\\xb0\\xe3\\x8a\\xcbP\\xe24I\\xb6\\xb0Qo\\xc0\\x8f\\x0c\\x83\\xca\\xbf\\xfdv\\x08[<\\xcf|\\xfa!\\x88\\x88\\x98S\\xa7&&\\xe6\\x18A\\xbaP\\xe2\\x94 &\\x00\\xc2\\xfc{\\xf4\\xae/ \\xdc\\x15\\x0b\\x06H\\x9d\\xa3B#C\\x93\\xa5\\xfc\\xc8\\x88\\xa4Difltln\\xdcJ\\xac1\\x83\\xe6\\x01k\\x95/\\xe9\\xf8\\xfd\\\\\\xe1\\x86\\'\\xdb]\\x05}*8C\\x1f\\xaf\\xd3\\xeb\\xd8::*O\\xeb\\xaaOK\\x9b2\\x0f\\xb5\\xc6/\\xb5Z_/o\\xed\\xf4\\x98M\\x99\\xb9}\\t\\x18.\\x04\\x84/\\xe6\\x8dh\\xfbH\\xad\\x98@\\xbb\\x8f\\xde}\\x8b\\xde\\xbd\\xe6\\x16\\xf7\\x9a\\x9b\\xd5J\\\\_\\x1a\\x0bi4\\x84\\xf9\\xb3\\xad\\x03\\n|ho[\\xc0\\xfd@vD\\x03jl\\'\\x84\\xc4\\x97\\xd3\\x10\\xc0\\xdbs\\xccw\\xa8\\xfc\\x87\\\\q\\x9a9\\xf5!\\xec\\x14\\xfd\\xdd\\xa7\\xe9\\x14\\x82\\x91@(\\x05\\x84\\x9a\\x9a;\\x130\\x17.\\xdeK\\xc7\\xc3aQ\\x15\\x15\\xe1x\\xeb*\\xb1B\\x1a\\t5\\xac\\x8c\\xab\\xc6\\x8c\\x875\\xc5X`mI\\xc7e\\xbf\\xdfu*C\\xaeX\\xe0\\x18\\xc5D\\xaam}\\xb66\\xb9\\x03\\x0fWt\\xd6\\xe7\\xf5\\x8c(\\x86_\\x1dQ#]\\x98\\x9a:\\xa6P\\xd7K\\x9b\\x1cA\\xe8\\xf6\\x01\\xc2{\\x13\\xc6\\x0cFH|\\x9c\\x11\\xa3\\xd3\\xad\\xd7\\xe3\\xb3f\\x85YI\\xfc`1Y\\xe6\\x1a\\x06\\xea\\x14`A\\x85@\\n\\xa8\\x01$\\xb0\\xb1:\\xe0\\xfc\\x01B\\xa0\\x1e\\x11,\\x08X\\x9f\\xcf\\x08N\\x9f>\\xf5\\xddif\\xe2m0\\xf8\\x8e9\\xfd\\xe1\\x87\\xa4\\x98\\x03\\x89[\\xbecdT\\ts\\x80\\x00+y\\x08ca\\x99\\xf0\\x01\\xbc\\\\\\xb2:\\xa2\\xa21\\x16\\x0c\"\"\\xa5\\xb1\\x89\\x89\\xb1\\xebV\\xae\\xab\\xdey\\xdff@\\xc0\\n\\xd5\\xfb.\\xff\\xfd\\xb0XV\\x8d\\x80\\xa0\\xb15n\\xe5\\xd9l\\xa3y<\\x9b\\t\\x8db\\xfd\\xc8\\xd4\\x90\\x02w\\x89\\xb0Y\\xccj\\xdc62E\\x847~\\xc6B84a\\x94P\\xd1\\xfb1!>k\\xec\\x80p\\xf3\\x1a\\xcb,\\xf1\\x03.e$\\xde\\x80\\x03\\xb6i\\xe4\\xea\\xcfB\\xa0j`\\xf5@7.\\x1ap\\xdf\"\\x7f!\\x02\\x06R\\x0fb2\\x8c^O\\xcc\\t\\x99S\\x10\\xc7\\xa7L\\x00\\x91\\xc3\\xdb8\\x9b\\x9e\\xee/1\\xce\\x1d\\x02\\x048\\xc4C\\x9bkR\\xc2\"#`\\xe1|0\\xc0QT\"&w\\xda\\x10\\xbeneNX6f\\xf2\\xaa)\\xbe\\x07sa\\xef\\xf9\\xbdV\\xf2\\x9c\\x96\\x86\"t\\x1bT\\x8d\\x8e\\xb6\\n\\x8d\\xcd#\\x97;l]]\\xc8\\x18\\xcdf\\x0b\\x12\\xe7\\xe1a\\xc5\\x10\\xee\\x9c\\r+\\xf4\\x9e\\xe4\\xd8\\xc6\\x19\\x02\\xa1\\xbf\\xff\\x83y\\x8c\\x03\\n\\x85\\xe4J3N\\x9f\\x9b\\xd7\\xf8\\xd8\\xad\\xbd\\x8b*\\xa0=IRp\\x1fT\\x97~\\xc1Pp\\xf5\\x17rd \\x82E\\nt\\xf7g{\\xcfd\\'aBH\\xa2g\\x08:\\xd8\\xc8\\x9e\\xc5\\xbe\\xa7\\xbe\\x833\\x08\\x85\\x18b|\\xde8\\xf7y\\x7fi*0\\x9c\\xd8[s\\xdf:\\xf26r\\x85J\\xd5\\xc8O\\x86\"\\xa2\\x12#\\xa5\\xe1\\x11a\\xb5\\xd1\\xd1qx\\x19+\\x05\\x91\\xf3\\xce\\x9a\\x8eg~/a\\xba\\x94\\xb4\\rZ\\x97\\x06\\xeb\\xde7jl\\xbc\\xf8QM}\\xa1w\\xca\\xaa@\\xd2l\\x1dBa\\xb5b\\x1c\\xec\\xd5)\\xbb\\xadB*]N!,C\\xbe\\x13\\xc0A\\x80\\x16\\x8c\\xc6^\\x11\\x10\\xa0^\\x8bI#5T\\x97\\xfeD}\\xe0\\x07=\\xb0\\x05\\x8cU\\x06Ka\\xb1}\\xc0\\xf6\\xe3\\x88\\x12\\xfd&\\xb7\\xf8p(\\x13 \\xb7\\x86\\x91\\x1eF~\\xba`\\xbdq\\xee\\x93\\xfe~@\\x18<QVS\\x8c\\x95\\x8bC\\xdb\\x1a\\xc1\\x00\\xef\\x95\\xe1\\xc5\\x82\\x88H\\xb8\\x87\\xb46\\',7;;\\xe1\\xae\\xfbj\\xc8B\\xac\\xcf\\xfdNh<\\xff\\xca\\x1dZ\\xdam\\x18\\xe5!\\x1a8\\xb6\\xd6k\\x1c\\xad[\\x0b{ZG^M\\xebD\\xdf\\xc1\\xaeG\\xcaXX\\xf8\\xf4\\x88\\xde\\xc6o\\xbc}7\\x19\\n\\xea_>\\xa14\\xc8d`@w\\x86\\x18m\\x0c\\xa9\\xff\\xd3\\x8a\\xa3\\x00\\n\\x01\\xf9\"\\x05\\x1b\\nX\\r\\xd0\\xca\\xd3\\r\\xe6G\\xea\\x8f\\xfd\\xc76\\xe2\\xc7a\\x04v\\x881\\x98\\x1de\\xa47\\xffC \\x0f\\x91(?=0fv\\xd6\\x99\\xda_\\n\\x08\\x0b\\x04\\xc2\\xedI\\x10BE$\\x08\\xd0w\\xb3c\\xa5\\xd1\\x89\\xd2\\xda\\xe8\\xcc\\x82\\x9d\\xd9\\xb7b\\xb1\\x88\\xe2{\\x1e&\\xef\\x18^\\xf6\\x9baqG\\xc3u\\xd7]w\\xcd5\\xd7\\xf0x\\xf5<oW\\xfd5\\xd7t\\x16\\xb6\\x15>\\xdd9ZX\\xbe\\xd4;u\\xad\\xe2Z\\xd8\\xc8\\xd2\\xd6\\x11\\xf3\\xf5|\\xd5\\x8b\\x07\\x97/\\x07\\x84C\\x13N\\xb1\\xec<\\xd6\\xce\\xc5\\x8e\\x8d\\x1e\\x9di\\xdc)\\xfakl0Z,\\x9e\\xa2\\xa7\\x7f\\xdd.$\\x1b\\xbb\\xff\\xcc\\xd2\\xf19\\x97\\x14\\xe7\\xa2\\xdf\\xb5\\xbc\\x7f\\xd9\\xb2e\\xbbg\\xae\\xcb\\xde\\x95\\x10\\xc6ol\\xe4\\xf1\\xe5QQ\\xf2d>\\x1f\\x0b\\xac\\xf0\\x93\\x9333\\x933\\xaf\\xb9\\xfe\\xfa\\xb0[\\xaf\\xcf\\xce\\xde\\x85\\xc8\\xf0\\xdc\\x9e\\xcb\\x7f\\x11\\x15\\xbe\\x07\\xc1\\x0e\\xbd\\xb9\\'\\xe3\\xb9\\x87\\x00\\x00\\x00\\x00IEND\\xaeB`\\x82'"
      ]
     },
     "execution_count": 56,
     "metadata": {},
     "output_type": "execute_result"
    }
   ],
   "source": [
    "player_img.getvalue()"
   ]
  },
  {
   "cell_type": "code",
   "execution_count": 22,
   "id": "6e89a7b5",
   "metadata": {
    "ExecuteTime": {
     "end_time": "2021-08-29T22:25:35.448967Z",
     "start_time": "2021-08-29T22:25:35.437002Z"
    }
   },
   "outputs": [
    {
     "data": {
      "text/plain": [
       "bytes"
      ]
     },
     "execution_count": 22,
     "metadata": {},
     "output_type": "execute_result"
    }
   ],
   "source": [
    "type(player_img.read())"
   ]
  },
  {
   "cell_type": "code",
   "execution_count": 25,
   "id": "c0eebea0",
   "metadata": {
    "ExecuteTime": {
     "end_time": "2021-08-29T22:31:41.699403Z",
     "start_time": "2021-08-29T22:31:41.679460Z"
    }
   },
   "outputs": [
    {
     "ename": "FileNotFoundError",
     "evalue": "[Errno 2] No such file or directory: b''",
     "output_type": "error",
     "traceback": [
      "\u001b[1;31m---------------------------------------------------------------------------\u001b[0m",
      "\u001b[1;31mFileNotFoundError\u001b[0m                         Traceback (most recent call last)",
      "\u001b[1;32m~\\AppData\\Local\\Temp/ipykernel_2404/186151930.py\u001b[0m in \u001b[0;36m<module>\u001b[1;34m\u001b[0m\n\u001b[1;32m----> 1\u001b[1;33m \u001b[1;32mwith\u001b[0m \u001b[0mopen\u001b[0m\u001b[1;33m(\u001b[0m\u001b[0mplayer_img\u001b[0m\u001b[1;33m.\u001b[0m\u001b[0mread\u001b[0m\u001b[1;33m(\u001b[0m\u001b[1;33m)\u001b[0m\u001b[1;33m,\u001b[0m \u001b[1;34m'rb'\u001b[0m\u001b[1;33m)\u001b[0m \u001b[1;32mas\u001b[0m \u001b[0mf\u001b[0m\u001b[1;33m:\u001b[0m\u001b[1;33m\u001b[0m\u001b[1;33m\u001b[0m\u001b[0m\n\u001b[0m\u001b[0;32m      2\u001b[0m     \u001b[0mcontent\u001b[0m \u001b[1;33m=\u001b[0m \u001b[0mf\u001b[0m\u001b[1;33m.\u001b[0m\u001b[0mread\u001b[0m\u001b[1;33m(\u001b[0m\u001b[1;33m)\u001b[0m\u001b[1;33m\u001b[0m\u001b[1;33m\u001b[0m\u001b[0m\n",
      "\u001b[1;31mFileNotFoundError\u001b[0m: [Errno 2] No such file or directory: b''"
     ]
    }
   ],
   "source": [
    "with open(player_img, 'rb') as f:\n",
    "    content = f.read()"
   ]
  },
  {
   "cell_type": "code",
   "execution_count": 29,
   "id": "8921cda3",
   "metadata": {
    "ExecuteTime": {
     "end_time": "2021-08-29T22:33:50.229433Z",
     "start_time": "2021-08-29T22:33:50.211447Z"
    }
   },
   "outputs": [
    {
     "ename": "AttributeError",
     "evalue": "'_io.BytesIO' object has no attribute 'save'",
     "output_type": "error",
     "traceback": [
      "\u001b[1;31m---------------------------------------------------------------------------\u001b[0m",
      "\u001b[1;31mAttributeError\u001b[0m                            Traceback (most recent call last)",
      "\u001b[1;32m~\\AppData\\Local\\Temp/ipykernel_2404/2288690513.py\u001b[0m in \u001b[0;36m<module>\u001b[1;34m\u001b[0m\n\u001b[0;32m      1\u001b[0m \u001b[1;32mwith\u001b[0m \u001b[0mBytesIO\u001b[0m\u001b[1;33m(\u001b[0m\u001b[1;33m)\u001b[0m \u001b[1;32mas\u001b[0m \u001b[0moutput\u001b[0m\u001b[1;33m:\u001b[0m\u001b[1;33m\u001b[0m\u001b[1;33m\u001b[0m\u001b[0m\n\u001b[1;32m----> 2\u001b[1;33m     \u001b[0mplayer_img\u001b[0m\u001b[1;33m.\u001b[0m\u001b[0msave\u001b[0m\u001b[1;33m(\u001b[0m\u001b[0moutput\u001b[0m\u001b[1;33m)\u001b[0m\u001b[1;33m\u001b[0m\u001b[1;33m\u001b[0m\u001b[0m\n\u001b[0m\u001b[0;32m      3\u001b[0m     \u001b[0mcontents\u001b[0m \u001b[1;33m=\u001b[0m \u001b[0moutput\u001b[0m\u001b[1;33m.\u001b[0m\u001b[0mget_value\u001b[0m\u001b[1;33m(\u001b[0m\u001b[1;33m)\u001b[0m\u001b[1;33m\u001b[0m\u001b[1;33m\u001b[0m\u001b[0m\n",
      "\u001b[1;31mAttributeError\u001b[0m: '_io.BytesIO' object has no attribute 'save'"
     ]
    }
   ],
   "source": [
    "with BytesIO() as output:\n",
    "    player_img.save(output)\n",
    "    contents = output.get_value()"
   ]
  },
  {
   "cell_type": "code",
   "execution_count": 35,
   "id": "37d00ce6",
   "metadata": {
    "ExecuteTime": {
     "end_time": "2021-08-29T22:35:38.164979Z",
     "start_time": "2021-08-29T22:35:38.141043Z"
    }
   },
   "outputs": [
    {
     "ename": "AttributeError",
     "evalue": "'_io.BytesIO' object has no attribute 'get_value'",
     "output_type": "error",
     "traceback": [
      "\u001b[1;31m---------------------------------------------------------------------------\u001b[0m",
      "\u001b[1;31mAttributeError\u001b[0m                            Traceback (most recent call last)",
      "\u001b[1;32m~\\AppData\\Local\\Temp/ipykernel_2404/2219026279.py\u001b[0m in \u001b[0;36m<module>\u001b[1;34m\u001b[0m\n\u001b[0;32m      2\u001b[0m \u001b[1;32mwith\u001b[0m \u001b[0mBytesIO\u001b[0m\u001b[1;33m(\u001b[0m\u001b[1;33m)\u001b[0m \u001b[1;32mas\u001b[0m \u001b[0mbuffer\u001b[0m\u001b[1;33m:\u001b[0m\u001b[1;33m\u001b[0m\u001b[1;33m\u001b[0m\u001b[0m\n\u001b[0;32m      3\u001b[0m     \u001b[0mimg\u001b[0m\u001b[1;33m.\u001b[0m\u001b[0msave\u001b[0m\u001b[1;33m(\u001b[0m\u001b[0mbuffer\u001b[0m\u001b[1;33m,\u001b[0m \u001b[0mformat\u001b[0m\u001b[1;33m=\u001b[0m\u001b[1;34m'png'\u001b[0m\u001b[1;33m)\u001b[0m\u001b[1;33m\u001b[0m\u001b[1;33m\u001b[0m\u001b[0m\n\u001b[1;32m----> 4\u001b[1;33m     \u001b[0mcontent\u001b[0m \u001b[1;33m=\u001b[0m \u001b[0mbuffer\u001b[0m\u001b[1;33m.\u001b[0m\u001b[0mget_value\u001b[0m\u001b[1;33m(\u001b[0m\u001b[1;33m)\u001b[0m\u001b[1;33m\u001b[0m\u001b[1;33m\u001b[0m\u001b[0m\n\u001b[0m",
      "\u001b[1;31mAttributeError\u001b[0m: '_io.BytesIO' object has no attribute 'get_value'"
     ]
    }
   ],
   "source": [
    "img = Image.open(player_img)\n",
    "with BytesIO() as buffer:\n",
    "    img.save(buffer, format='png')\n",
    "    content = buffer.get_value()"
   ]
  },
  {
   "cell_type": "code",
   "execution_count": 37,
   "id": "fce9d561",
   "metadata": {
    "ExecuteTime": {
     "end_time": "2021-08-29T22:36:11.585416Z",
     "start_time": "2021-08-29T22:36:11.574446Z"
    }
   },
   "outputs": [],
   "source": [
    "img = Image.open(player_img, mode='r')\n",
    "\n",
    "img_byte_arr = BytesIO()\n",
    "img.save(img_byte_arr, format='PNG')\n",
    "img_byte_arr = img_byte_arr.getvalue()"
   ]
  },
  {
   "cell_type": "code",
   "execution_count": 39,
   "id": "84370371",
   "metadata": {
    "ExecuteTime": {
     "end_time": "2021-08-29T22:36:30.206679Z",
     "start_time": "2021-08-29T22:36:30.195609Z"
    }
   },
   "outputs": [
    {
     "data": {
      "text/plain": [
       "PIL.PngImagePlugin.PngImageFile"
      ]
     },
     "execution_count": 39,
     "metadata": {},
     "output_type": "execute_result"
    }
   ],
   "source": [
    "type(img)"
   ]
  },
  {
   "cell_type": "code",
   "execution_count": 40,
   "id": "ba583e3c",
   "metadata": {
    "ExecuteTime": {
     "end_time": "2021-08-29T22:36:35.139867Z",
     "start_time": "2021-08-29T22:36:35.119942Z"
    }
   },
   "outputs": [
    {
     "data": {
      "text/plain": [
       "bytes"
      ]
     },
     "execution_count": 40,
     "metadata": {},
     "output_type": "execute_result"
    }
   ],
   "source": [
    "type(img_byte_arr)"
   ]
  },
  {
   "cell_type": "code",
   "execution_count": 42,
   "id": "02f6510b",
   "metadata": {
    "ExecuteTime": {
     "end_time": "2021-08-29T22:37:25.997629Z",
     "start_time": "2021-08-29T22:37:25.974383Z"
    }
   },
   "outputs": [
    {
     "ename": "AttributeError",
     "evalue": "'bytes' object has no attribute 'save'",
     "output_type": "error",
     "traceback": [
      "\u001b[1;31m---------------------------------------------------------------------------\u001b[0m",
      "\u001b[1;31mAttributeError\u001b[0m                            Traceback (most recent call last)",
      "\u001b[1;32m~\\AppData\\Local\\Temp/ipykernel_2404/2161934590.py\u001b[0m in \u001b[0;36m<module>\u001b[1;34m\u001b[0m\n\u001b[0;32m      1\u001b[0m \u001b[0mbuffer\u001b[0m \u001b[1;33m=\u001b[0m \u001b[0mBytesIO\u001b[0m\u001b[1;33m(\u001b[0m\u001b[1;33m)\u001b[0m\u001b[1;33m\u001b[0m\u001b[1;33m\u001b[0m\u001b[0m\n\u001b[1;32m----> 2\u001b[1;33m \u001b[0mplayer_img\u001b[0m\u001b[1;33m.\u001b[0m\u001b[0mread\u001b[0m\u001b[1;33m(\u001b[0m\u001b[1;33m)\u001b[0m\u001b[1;33m.\u001b[0m\u001b[0msave\u001b[0m\u001b[1;33m(\u001b[0m\u001b[0mbuffer\u001b[0m\u001b[1;33m,\u001b[0m \u001b[0mformat\u001b[0m\u001b[1;33m=\u001b[0m\u001b[1;34m'PNG'\u001b[0m\u001b[1;33m)\u001b[0m\u001b[1;33m\u001b[0m\u001b[1;33m\u001b[0m\u001b[0m\n\u001b[0m",
      "\u001b[1;31mAttributeError\u001b[0m: 'bytes' object has no attribute 'save'"
     ]
    }
   ],
   "source": [
    "buffer = BytesIO()\n",
    "player_img.save(buffer, format='PNG')"
   ]
  },
  {
   "cell_type": "code",
   "execution_count": 51,
   "id": "d3bca348",
   "metadata": {
    "ExecuteTime": {
     "end_time": "2021-08-29T22:39:18.700219Z",
     "start_time": "2021-08-29T22:39:18.677280Z"
    }
   },
   "outputs": [
    {
     "ename": "AttributeError",
     "evalue": "__enter__",
     "output_type": "error",
     "traceback": [
      "\u001b[1;31m---------------------------------------------------------------------------\u001b[0m",
      "\u001b[1;31mAttributeError\u001b[0m                            Traceback (most recent call last)",
      "\u001b[1;32m~\\AppData\\Local\\Temp/ipykernel_2404/1556732097.py\u001b[0m in \u001b[0;36m<module>\u001b[1;34m\u001b[0m\n\u001b[1;32m----> 1\u001b[1;33m \u001b[1;32mwith\u001b[0m \u001b[1;33m(\u001b[0m\u001b[1;34m'player_test.png'\u001b[0m\u001b[1;33m,\u001b[0m \u001b[1;34m'w'\u001b[0m\u001b[1;33m)\u001b[0m \u001b[1;32mas\u001b[0m \u001b[0mf\u001b[0m\u001b[1;33m:\u001b[0m\u001b[1;33m\u001b[0m\u001b[1;33m\u001b[0m\u001b[0m\n\u001b[0m\u001b[0;32m      2\u001b[0m     \u001b[0mf\u001b[0m\u001b[1;33m.\u001b[0m\u001b[0mwrite\u001b[0m\u001b[1;33m(\u001b[0m\u001b[0mplayer_img\u001b[0m\u001b[1;33m)\u001b[0m\u001b[1;33m\u001b[0m\u001b[1;33m\u001b[0m\u001b[0m\n",
      "\u001b[1;31mAttributeError\u001b[0m: __enter__"
     ]
    }
   ],
   "source": [
    "with ('player_test.png', 'w') as f:\n",
    "    f.write(player_img)"
   ]
  },
  {
   "cell_type": "code",
   "execution_count": 53,
   "id": "014bcd24",
   "metadata": {
    "ExecuteTime": {
     "end_time": "2021-08-29T22:40:42.347833Z",
     "start_time": "2021-08-29T22:40:42.325859Z"
    }
   },
   "outputs": [
    {
     "data": {
      "text/plain": [
       "array([[0, 0, 0, ..., 0, 0, 0],\n",
       "       [0, 0, 0, ..., 0, 0, 0],\n",
       "       [0, 0, 0, ..., 0, 0, 0],\n",
       "       ...,\n",
       "       [0, 0, 0, ..., 0, 0, 0],\n",
       "       [0, 0, 0, ..., 0, 0, 0],\n",
       "       [0, 0, 0, ..., 0, 0, 0]], dtype=uint8)"
      ]
     },
     "execution_count": 53,
     "metadata": {},
     "output_type": "execute_result"
    }
   ],
   "source": [
    "img = Image.open(player_img)\n"
   ]
  },
  {
   "cell_type": "code",
   "execution_count": null,
   "id": "1519da1d",
   "metadata": {},
   "outputs": [],
   "source": []
  }
 ],
 "metadata": {
  "hide_input": false,
  "kernelspec": {
   "display_name": "Python 3 (ipykernel)",
   "language": "python",
   "name": "python3"
  },
  "language_info": {
   "codemirror_mode": {
    "name": "ipython",
    "version": 3
   },
   "file_extension": ".py",
   "mimetype": "text/x-python",
   "name": "python",
   "nbconvert_exporter": "python",
   "pygments_lexer": "ipython3",
   "version": "3.8.10"
  },
  "toc": {
   "base_numbering": 1,
   "nav_menu": {},
   "number_sections": true,
   "sideBar": true,
   "skip_h1_title": false,
   "title_cell": "Table of Contents",
   "title_sidebar": "Contents",
   "toc_cell": true,
   "toc_position": {},
   "toc_section_display": true,
   "toc_window_display": true
  },
  "varInspector": {
   "cols": {
    "lenName": 16,
    "lenType": 16,
    "lenVar": 40
   },
   "kernels_config": {
    "python": {
     "delete_cmd_postfix": "",
     "delete_cmd_prefix": "del ",
     "library": "var_list.py",
     "varRefreshCmd": "print(var_dic_list())"
    },
    "r": {
     "delete_cmd_postfix": ") ",
     "delete_cmd_prefix": "rm(",
     "library": "var_list.r",
     "varRefreshCmd": "cat(var_dic_list()) "
    }
   },
   "types_to_exclude": [
    "module",
    "function",
    "builtin_function_or_method",
    "instance",
    "_Feature"
   ],
   "window_display": false
  }
 },
 "nbformat": 4,
 "nbformat_minor": 5
}
