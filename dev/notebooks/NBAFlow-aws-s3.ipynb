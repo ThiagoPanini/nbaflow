{
 "cells": [
  {
   "cell_type": "markdown",
   "id": "be539a48",
   "metadata": {
    "toc": true
   },
   "source": [
    "<h1>Table of Contents<span class=\"tocSkip\"></span></h1>\n",
    "<div class=\"toc\"><ul class=\"toc-item\"><li><span><a href=\"#Introdução-e-Cenário\" data-toc-modified-id=\"Introdução-e-Cenário-1\"><span class=\"toc-item-num\">1&nbsp;&nbsp;</span>Introdução e Cenário</a></span><ul class=\"toc-item\"><li><span><a href=\"#Objetos-e-Elementos-do-Projeto\" data-toc-modified-id=\"Objetos-e-Elementos-do-Projeto-1.1\"><span class=\"toc-item-num\">1.1&nbsp;&nbsp;</span>Objetos e Elementos do Projeto</a></span></li></ul></li><li><span><a href=\"#Operações-com-Buckets-no-S3\" data-toc-modified-id=\"Operações-com-Buckets-no-S3-2\"><span class=\"toc-item-num\">2&nbsp;&nbsp;</span>Operações com Buckets no S3</a></span><ul class=\"toc-item\"><li><span><a href=\"#Via-Console\" data-toc-modified-id=\"Via-Console-2.1\"><span class=\"toc-item-num\">2.1&nbsp;&nbsp;</span>Via Console</a></span></li><li><span><a href=\"#Via-boto3\" data-toc-modified-id=\"Via-boto3-2.2\"><span class=\"toc-item-num\">2.2&nbsp;&nbsp;</span>Via boto3</a></span></li></ul></li><li><span><a href=\"#NBAFlow-+-boto3\" data-toc-modified-id=\"NBAFlow-+-boto3-3\"><span class=\"toc-item-num\">3&nbsp;&nbsp;</span>NBAFlow + boto3</a></span></li></ul></div>"
   ]
  },
  {
   "cell_type": "markdown",
   "id": "e2da04cc",
   "metadata": {},
   "source": [
    "# Introdução e Cenário"
   ]
  },
  {
   "cell_type": "markdown",
   "id": "e5324b5d",
   "metadata": {},
   "source": [
    "Este notebook tem por objetivo documentar e detalhar os passos realizados para a utilização do serviço **S3** (do inglês, _Simple Storage Service_) da AWS para o armazenamento de objetos gerados pelas funcionalidades do projeto [nbaflow](https://github.com/ThiagoPanini/nbaflow). Dentro da proposta de migração do projeto para uma arquitetura em nuvem, no notebook [NBAFlow-aws-migration](https://github.com/ThiagoPanini/nbaflow/blob/main/notebooks/NBAFlow-aws-migration.ipynb) foi proposta uma documentação completa sobre todas as etapas realizadas dentro do processo de utilização de um serviço de banco de dados relacional (RDS) conectado a um serviço computacional (EC2) para consultar dados de jogadores da NBA e, eventualmente, entregá-los por e-mail ao usuário.\n",
    "\n",
    "Como resultado dessa frente de migração, foi possível alcançar a seguinte arquitetura já testada e validada dentro dos propósitos iniciais estabelecidos:\n",
    "\n",
    "<div align=\"center\">\n",
    "    <br><img src=\"https://i.imgur.com/8uRYLEH.png\" alt=\"aws_diagram\">\n",
    "</div>\n",
    "\n",
    "Na prática, a instância EC2 possui scripts python clonados do repositório oficial do projeto no GitHub via SSH e, a partir deles, o desenvolvedor pode manualmente solicitar a execução para dois propósitos específicos:\n",
    "\n",
    "* _**insert_gamelog_data.py**_: lê um arquivo csv processado previamente e disponibilizado no diretório `data/` para realizar um processo de criação de tabela e ingestão de dados em um banco de dados RDS PostgreSQL.\n",
    "* _**player_gamelog_from_db.py**_: recebe parâmetros do usuário no prompt de comando (nome de um jogador e temporada válida da NBA) para construir uma query de consulta a ser executada no banco de dados. Os dados são retornados em um formato DataFrame e, opcionalmente, enviados por e-mail para um destinatário fornecido também manualmente.\n",
    "\n",
    "<div class=\"alert alert-block alert-info\">\n",
    "<b>Observação:</b> Até este ponto, ainda não foi possível construir uma lógica inteiramente voltada à APIs. Em outras palavras, todas as iterações usuário-código são feitas diretamente pelo prompt de comando e, futuramente, a ideia é que essa comunicação seja feita a partir de uma rota específica onde o usuário possa acessar e enviar suas solicitações de acordo com os filtros desejados. Além disso, ainda existem oportunidades de otimizar esse fluxo a partir da utilização de outros serviços da AWS capazes de servir como um alicerce computacional como, por exemplo, funções lambda.\n",
    "</div>\n",
    "\n",
    "___\n",
    "**_Para entender todo o contexto do projeto, é sugerido o consumo dos seguintes materiais:_**\n",
    "\n",
    "* [1. NBAFlow - documentação e exploração inicial da API nba_api](https://github.com/ThiagoPanini/nbaflow/blob/main/notebooks/NBAflow-doc-api.ipynb)\n",
    "\n",
    "* [2. NBAFlow - documentação de fluxo de extração de imagens de jogadores](https://github.com/ThiagoPanini/nbaflow/blob/main/notebooks/NBAflow-players-images.ipynb)\n",
    "\n",
    "* [3. NBAFlow - estruturação de armazenamento em banco de dados Postgres (OPCIONAL)](https://github.com/ThiagoPanini/nbaflow/blob/main/notebooks/NBAflow-psql.ipynb)\n",
    "\n",
    "* [4. NBAFlow - primeiros passos da migração para a AWS](https://github.com/ThiagoPanini/nbaflow/blob/main/notebooks/NBAFlow-aws-migration.ipynb)\n",
    "\n",
    "* [5. Classes estruturadas de processamento de dados](https://github.com/ThiagoPanini/nbaflow/tree/main/core)\n",
    "\n",
    "* [6. Scripts de processamento de dados utilizando as classes estruturadas](https://github.com/ThiagoPanini/nbaflow/tree/main/scripts)\n",
    "___"
   ]
  },
  {
   "cell_type": "markdown",
   "id": "063cbf03",
   "metadata": {},
   "source": [
    "## Objetos e Elementos do Projeto"
   ]
  },
  {
   "cell_type": "markdown",
   "id": "e1635b52",
   "metadata": {},
   "source": [
    "Assim, em paralelo aos desafios acima explicados e, dentro dos objetivos estabelecidos no início deste material, a grande exploração a ser realizada nas próxima seções gira em torno da utilização do serviço S3 para o armazenamento de alguns objetos presentes em momentos específicos do fluxo de trabalho do projeto NBAFlow. \n",
    "\n",
    "Neste cenário, os objetos citados referem-se a:\n",
    "\n",
    "* **_Arquivos de dados_**: ao longo do desenvolvimento do projeto, foram criados scripts de requisição e processamento de dados de jogadores da NBA para serem analisados posteriormente. Neste propósito, o módulo [`gamelog`](https://github.com/ThiagoPanini/nbaflow/blob/main/core/gamelog.py) foi concebido como uma forma de centralizar o consumo do pacote [nba_api](https://github.com/swar/nba_api) no univero de análise de partidas e estatísticas individuais de jogadores da liga em todas as temporadas disponíveis. Ao longo do processamento, notou-se uma carga excessiva de requisições realizadas, gerando assim um alto tempo de execução para o retorno dos dados de todas as partidas, de todos os jogadores, em todas as temporadas válidas. Assim, visando otimizar as etapas posteriores, todo o histórico processado foi armazenado no arquivo [all_players_gamelog.csv](https://github.com/ThiagoPanini/nbaflow/blob/main/data/all_players_gamelog.csv) contendo todos os insumos necessários para uma análise completa da liga. Exemplificando a utilidade deste arquivo, o script [`insert_gamelog_data`](https://github.com/ThiagoPanini/nbaflow/blob/main/scripts/db_integration/insert_gamelog_data.py) se utiliza deste arquivo csv para inserir registros em uma tabela em um banco de dados PostgreSQL (local ou na nuvem). Como um passo adicional, neste material será proposto o armazenamento deste arquivo em um bucket do S3 para consumo direto via script. Eventualmente, será possível adicionar lógicas no módulo `gamelog` para salvar os resultados das requisições à nba_api direto em buckets do S3 utilizando o SDK [`boto3`](https://boto3.amazonaws.com/v1/documentation/api/latest/guide/quickstart.html).\n",
    "\n",
    "\n",
    "* **_Imagens de jogadores_**: em uma outra frente extremamente relevante dentro do projeto NBAFlow, foi construída uma lógica capaz de extrair imagens de alta qualidade dos jogadores da NBA diretamente do [site oficial](https://www.nba.com/stats/). Neste cenário, o módulo [`images`](https://github.com/ThiagoPanini/nbaflow/blob/main/core/images.py) foi concebido como uma forma de centralizar os elementos necessários para a consolidação dessas requisições e o salvamento local dos arquivos png recebidos no sistema operacional. Como alternativas, será proposta a inclusão dessas imagens em um bucket do S3 para um armazenamento mais sustentável dentro das propostas gerais do projeto. Eventualmente, será possível aplicar algumas alterações no módulo `images` para que as imagens obtidas pelas requisições já sejam automaticamente salvas em buckets do S3. Para tal, mais uma vez, será preciso utilizar as funcionalidade so SDK `boto3`."
   ]
  },
  {
   "cell_type": "markdown",
   "id": "7f68ff30",
   "metadata": {},
   "source": [
    "# Operações com Buckets no S3"
   ]
  },
  {
   "cell_type": "markdown",
   "id": "ddca5ade",
   "metadata": {},
   "source": [
    "Iniciando as etapas práticas de construção dos elementos propostos, em um primeiro momento, serão detalhados os passos para a criação de um (ou mais de um) bucket S3 pela AWS utilizando o console de gerenciamento. Posteriormente, um primeiro contato com o SDK `boto3` será fornecido como uma forma eficiente de automatizar, organizar e gerenciar recursos da AWS utilizando a linguagem Python."
   ]
  },
  {
   "cell_type": "markdown",
   "id": "b8bad74a",
   "metadata": {},
   "source": [
    "## Via Console"
   ]
  },
  {
   "cell_type": "markdown",
   "id": "7dd6bdeb",
   "metadata": {},
   "source": [
    "Conforme mencionado acima, as primeiras iterações com o serviço S3 serão obtidas a partir do console de gerenciamento da AWS. Nesse formato, a [página do serviço](https://console.aws.amazon.com/s3/home?region=sa-east-1) foi utilizada para a criação de um novo bucket denominado `nbaflow-console`. Nele, dois novos [diretórios](https://docs.aws.amazon.com/AmazonS3/latest/userguide/using-folders.html) foram criados para armazenar _dados_ (arquivos em geral) e _imagens_.\n",
    "\n",
    "> 📌**Nota**: de acordo com a documentação oficial, no S3, buckets e objetos são os recursos principais, sendo os objetos armazenados em buckets. Mesmo sem o mesmo significado dos sistemas operacionais, é possível criar \"diretórios\" nos buckets para fins organizacionais, facilitando assim as referências e o armazenamento de objetos. O conceito fundamental de diretórios no S3 é o de simplesmente agrupar objetos a partir de um prefixo adicionado à rota do objeto.\n",
    "\n",
    "A imagem abaixo traz o bucket `nbaflow-console` criado com os diretórios `data/` e `imgs/` associados:\n",
    "\n",
    "<div align=\"center\">\n",
    "    <br><img src=\"https://i.imgur.com/geU2QZE.png\" alt=\"s3_bucket_nbaflow-console\">\n",
    "</div>\n",
    "\n",
    "Na sequência, também utilizando as funcionalidades do console, foram realizados os uploads do arquivo `all_players_gamelog.csv` e das imagens png originalmente armazenadas no diretório `data/images/players` do repositório do projeto. A imagem abaixo traz um exemplo do diretório `imgs/` do bucket recém criado já com as imagens de jogadores armazenadas.\n",
    "\n",
    "<div align=\"center\">\n",
    "    <br><img src=\"https://i.imgur.com/0s9jFyP.png\" alt=\"s3_imgs\">\n",
    "</div>\n",
    "\n",
    "Dessa forma, em um processo altamente intuitivo, foi possível finalizar essa primeira etapa de criação de bucket a partir do console de gerenciamento da AWS. Além disso, o upload dos arquivos selecionados foram realizados dentro dos diretórios criados no bucket. A criação do bucket e o upload dos arquivos foram realizados seguindos todas as configurações padrão propostas no processo o que, em resumo, podem ser descritadas como:\n",
    "\n",
    "* Bucket criado sem acesso público\n",
    "* Bucket criado sem versionamento\n",
    "* Bucket sem encriptação dos dados\n",
    "* Acesso de leitura e escrita aos objetos está restrito ao owner do bucket\n",
    "\n",
    "Na próxima seção, os processos de criação, configuração e upload de objetos no bucket serão realizados a partir do SDK Python `boto3`."
   ]
  },
  {
   "cell_type": "markdown",
   "id": "e13e8140",
   "metadata": {},
   "source": [
    "## Via boto3"
   ]
  },
  {
   "cell_type": "markdown",
   "id": "59ec90df",
   "metadata": {},
   "source": [
    "De acordo com a [página oficial de documentação](https://boto3.amazonaws.com/v1/documentation/api/latest/index.html), o SDK `boto3` pode ser resumido a:\n",
    "\n",
    "> _You use the AWS SDK for Python (Boto3) to create, configure, and manage AWS services, such as Amazon Elastic Compute Cloud (Amazon EC2) and Amazon Simple Storage Service (Amazon S3). The SDK provides an object-oriented API as well as low-level access to AWS services._\n",
    "\n",
    "Considerando a riqueza de detalhes e de exemplos fornecidos pela própria AWS, grande parte dos primeiros passos aqui documentados serão reproduções adaptadas da página oficial de documentação. Para tal, visando alinhar os propósitos deste notebook, é sugerido que o usuário consumidor do material aqui presente siga algumas instruções básicas de configuração propostas pela documentação do boto3 para que os códigos aqui escritos tenham a eficácia planejada.\n",
    "\n",
    "Assim, depois de um breve estudo no material oficial, a instalação do boto3 foi feita, dentro do ambiente virtual criado para o projeto NBAFLow, através do comando:\n",
    "\n",
    "    pip install boto3\n",
    "    \n",
    "Mesmo após a instalação, as primeiras tentativas de uso do SDK não foram bem sucedidas. Isto porque, de maneira direta, o boto3 necessita encontrar (ou ser devidamente configurado para isso) credenciais válidas do usuário para que as operações possam ser realizadas. Dessa forma, com a instalação do [AWS CLI](https://aws.amazon.com/pt/cli/) e a execução do comando `aws configure`, foi possível providenciar os insumos necessários para que o boto3 consiga autenticar o usuário dentro da utilização dos recursos na nuvem. Para detalhes adicionais, pode-se analisar a seção de [Configuração](https://boto3.amazonaws.com/v1/documentation/api/latest/guide/quickstart.html#configuration) da documentação oficial.\n",
    "\n",
    "Por fim, as linhas de código abaixo trazem a importação da biblioteca boto3 juntamente com a criação de um recurso \"s3\" utilizado para gerenciar e automatizar ações dentro deste serviço de armazenamento. Como validação, serão mostrados todos os buckets presentes na conta AWS configurada."
   ]
  },
  {
   "cell_type": "code",
   "execution_count": 1,
   "id": "ecea4a0f",
   "metadata": {
    "ExecuteTime": {
     "end_time": "2021-08-28T01:49:50.052798Z",
     "start_time": "2021-08-28T01:49:48.902525Z"
    }
   },
   "outputs": [
    {
     "name": "stdout",
     "output_type": "stream",
     "text": [
      "nbaflow-boto3\n",
      "nbaflow-console\n",
      "nbaflow-files\n"
     ]
    }
   ],
   "source": [
    "# Importando biblioteca\n",
    "import boto3\n",
    "\n",
    "# Criando recurso e listando buckets\n",
    "s3 = boto3.resource('s3')\n",
    "for bucket in s3.buckets.all():\n",
    "    print(bucket.name)"
   ]
  },
  {
   "cell_type": "markdown",
   "id": "969d9cd6",
   "metadata": {},
   "source": [
    "De fato, com o código acima, foi possível verificar que existe apenas um bucket criado na conta configurada da AWS (o recém criado *nbaflow-console*). Ainda nessas primeiras interações com boto3 e buckets S3, o código abaixo é responsável por conectar a um bucket e ler um objeto diretamente na memória. Neste caso, será proposta a leitura de uma das imagens de jogadores da NBA utilizando uma `key` específica que contempla, como prefixo, o diretório criado manualmente no bucket para organização do armazenamento."
   ]
  },
  {
   "cell_type": "code",
   "execution_count": 2,
   "id": "9fae8b56",
   "metadata": {
    "ExecuteTime": {
     "end_time": "2021-08-28T01:49:50.303514Z",
     "start_time": "2021-08-28T01:49:50.057785Z"
    }
   },
   "outputs": [
    {
     "data": {
      "image/png": "[encoded data removed]",
      "text/plain": [
       "<PIL.PngImagePlugin.PngImageFile image mode=P size=260x190 at 0x2665BEDBC70>"
      ]
     },
     "execution_count": 2,
     "metadata": {},
     "output_type": "execute_result"
    }
   ],
   "source": [
    "from PIL import Image\n",
    "from io import BytesIO\n",
    "\n",
    "# Vinculando bucket alvo\n",
    "bucket = s3.Bucket('nbaflow-console')\n",
    "\n",
    "# Coletando objeto\n",
    "obj = bucket.Object(key='imgs/Damian Lillard.png')\n",
    "response = obj.get()\n",
    "file_stream = response['Body']\n",
    "Image.open(file_stream)"
   ]
  },
  {
   "cell_type": "markdown",
   "id": "b2b788d4",
   "metadata": {
    "ExecuteTime": {
     "end_time": "2021-08-26T18:58:34.227503Z",
     "start_time": "2021-08-26T18:58:34.207528Z"
    }
   },
   "source": [
    "**_Referência:_** https://stackoverflow.com/questions/44043036/how-to-read-image-file-from-s3-bucket-directly-into-memory\n",
    "\n",
    "Até este ponto, já é possível mensurar o poder fornecido pelo SDK boto3 dentro das possibilidades de gerenciamento de recursos na AWS. Com ele, foi possível ler diretamente na memória um objeto armazenado manualmente em um bucket s3 criado diretamente pelo console. Considerando esta atuação, o bloco de código abaixo irá propor a criação de um **novo bucket** S3 em uma região específica para que, futuramente, este código possa ser encapsulado juntamente com outras funcionalidades de leitura e escrita de objetos dentro de buckets, tudo via boto3."
   ]
  },
  {
   "cell_type": "code",
   "execution_count": 3,
   "id": "81d056d0",
   "metadata": {
    "ExecuteTime": {
     "end_time": "2021-08-28T01:49:50.994706Z",
     "start_time": "2021-08-28T01:49:50.306503Z"
    }
   },
   "outputs": [
    {
     "name": "stdout",
     "output_type": "stream",
     "text": [
      "Erro ao tentar deletar bucket nbaflow-boto3. Exception: An error occurred (BucketNotEmpty) when calling the DeleteBucket operation: The bucket you tried to delete is not empty\n",
      "Erro ao criar bucket. Exception: An error occurred (BucketAlreadyOwnedByYou) when calling the CreateBucket operation: Your previous request to create the named bucket succeeded and you already own it.\n",
      "\n",
      "nbaflow-boto3\n",
      "nbaflow-console\n",
      "nbaflow-files\n"
     ]
    }
   ],
   "source": [
    "# Definindo parâmetros\n",
    "REGION = 'sa-east-1'\n",
    "BUCKET_NAME = 'nbaflow-boto3'\n",
    "LOCATION = {'LocationConstraint': REGION}\n",
    "\n",
    "# Instanciando client\n",
    "s3_client = boto3.client('s3', region_name=REGION)\n",
    "\n",
    "# Deletando bucket\n",
    "try:\n",
    "    s3_client.delete_bucket(Bucket=BUCKET_NAME)\n",
    "except Exception as e:\n",
    "    print(f'Erro ao tentar deletar bucket {BUCKET_NAME}. Exception: {e}')\n",
    "\n",
    "# Criando um novo bucket\n",
    "try:\n",
    "    s3_client.create_bucket(Bucket=BUCKET_NAME,\n",
    "                            CreateBucketConfiguration=LOCATION)\n",
    "except Exception as e:\n",
    "    print(f'Erro ao criar bucket. Exception: {e}')\n",
    "    \n",
    "# Listando buckets criados\n",
    "print()\n",
    "for bucket in s3.buckets.all():\n",
    "    print(bucket.name)"
   ]
  },
  {
   "cell_type": "markdown",
   "id": "34998331",
   "metadata": {
    "ExecuteTime": {
     "end_time": "2021-08-26T18:56:54.911104Z",
     "start_time": "2021-08-26T18:56:54.899168Z"
    }
   },
   "source": [
    "* **_Referência:_** https://boto3.amazonaws.com/v1/documentation/api/latest/guide/s3-example-creating-buckets.html\n",
    "\n",
    "Com o resultado acima, percebe-se agora a presença de dois buckets listados na conta AWS. Ao atualizar a página no console de gerenciamento, uma nova linha na lista de buckets que realmente a criação foi realizada com sucesso. Entretanto, observando os detalhes relacionados a acesso, mesmo que tenhamos restringido a criação do bucket a uma região em específico da maneira referenciada na documentação, os objetos do novo bucket `nbaflow-boto3` criado podem ser acessados publicamente o que, de fato, pode não ser o desejado pra grande parte das aplicações.\n",
    "\n",
    "<div align=\"center\">\n",
    "    <br><img src=\"https://i.imgur.com/jMzMEeZ.png\" alt=\"s3_public_bucket\">\n",
    "</div>\n",
    "\n",
    "Assim, para manter um bucket restrito através do boto3, é possível definir um dicionário de configurações com algumas chaves específicas e executar o método `put_public_access_block()` do objeto `s3_client`. Adicionalmente, na referência oficial da [documentação do client S3](https://boto3.amazonaws.com/v1/documentation/api/1.9.42/reference/services/s3.html#S3.Client.create_bucket), pode-se procurar pelo método `create_bucket()` e observar alguns detalhes adicionais sobre como o processo de criação pode ser melhor gerenciado."
   ]
  },
  {
   "cell_type": "code",
   "execution_count": 4,
   "id": "562a0491",
   "metadata": {
    "ExecuteTime": {
     "end_time": "2021-08-28T01:49:51.343184Z",
     "start_time": "2021-08-28T01:49:50.998689Z"
    }
   },
   "outputs": [
    {
     "data": {
      "text/plain": [
       "{'ResponseMetadata': {'RequestId': 'DB28ZTKFAJG7ETKT',\n",
       "  'HostId': 'SWi0tLuoOwukWj+L72ZApRXlEG2Wvlsd34ErodgcqQb7AlftkvSdtxW9KTAeEJDNWoBzXJkz25Y=',\n",
       "  'HTTPStatusCode': 200,\n",
       "  'HTTPHeaders': {'x-amz-id-2': 'SWi0tLuoOwukWj+L72ZApRXlEG2Wvlsd34ErodgcqQb7AlftkvSdtxW9KTAeEJDNWoBzXJkz25Y=',\n",
       "   'x-amz-request-id': 'DB28ZTKFAJG7ETKT',\n",
       "   'date': 'Sat, 28 Aug 2021 01:49:52 GMT',\n",
       "   'server': 'AmazonS3',\n",
       "   'content-length': '0'},\n",
       "  'RetryAttempts': 0}}"
      ]
     },
     "execution_count": 4,
     "metadata": {},
     "output_type": "execute_result"
    }
   ],
   "source": [
    "# Definindo configurações\n",
    "BLOCK_PUBLIC_CONFIG = {\n",
    "    'BlockPublicAcls': True,\n",
    "    'IgnorePublicAcls': True,\n",
    "    'BlockPublicPolicy': True,\n",
    "    'RestrictPublicBuckets': True\n",
    "}\n",
    "\n",
    "# Modificando acesso do bucket\n",
    "response_public = s3_client.put_public_access_block(Bucket=BUCKET_NAME,\n",
    "                                                    PublicAccessBlockConfiguration=BLOCK_PUBLIC_CONFIG)\n",
    "response_public"
   ]
  },
  {
   "cell_type": "markdown",
   "id": "67281144",
   "metadata": {},
   "source": [
    "Após a execução do bloco de código acima, foi possível verificar, no console, o efeito da alteração das permissões no bucket `nbaflow-boto3`.\n",
    "\n",
    "<div align=\"center\">\n",
    "    <br><img src=\"https://i.imgur.com/c4VYbgH.png\" alt=\"s3_notpublic_bucket\">\n",
    "</div>"
   ]
  },
  {
   "cell_type": "markdown",
   "id": "ff8d74a6",
   "metadata": {},
   "source": [
    "Assim como a criação e leitura de objetos em buckets, é possível realizar a ingestão de novos objetos a partir da definição de chaves específicas que, eventualmente, podem conter informações a respeito de _diretórios_ de armazenamento. Como informado anteriormente, os diretórios em buckets do S3 funcionam, em essência, como organizadores de objetos e, na prática, seu impacto se reflete como um prefixo das _chaves_ relacionadas aos objetos. Dessa forma, ao definir uma chave de objeto com uma referência semelhante a um caminho de diretório, o mesmo será automaticamente armazenado dentro desta estrutura.\n",
    "\n",
    "Para ilustrar este conceito, será proposta a leitura, em memória, de um arquivo csv salvo localmente para que, posteriormente, seja aplicado um processo de ingestão dos dados no bucket S3 recém criado."
   ]
  },
  {
   "cell_type": "code",
   "execution_count": 5,
   "id": "21b28cab",
   "metadata": {
    "ExecuteTime": {
     "end_time": "2021-08-28T01:49:51.359168Z",
     "start_time": "2021-08-28T01:49:51.346174Z"
    }
   },
   "outputs": [
    {
     "data": {
      "text/plain": [
       "'nbaflow-boto3'"
      ]
     },
     "execution_count": 5,
     "metadata": {},
     "output_type": "execute_result"
    }
   ],
   "source": [
    "BUCKET_NAME"
   ]
  },
  {
   "cell_type": "code",
   "execution_count": 6,
   "id": "7024d2ea",
   "metadata": {
    "ExecuteTime": {
     "end_time": "2021-08-28T01:50:03.375755Z",
     "start_time": "2021-08-28T01:49:51.362131Z"
    }
   },
   "outputs": [
    {
     "data": {
      "text/plain": [
       "{'ResponseMetadata': {'RequestId': 'DB2B2C164EXC5E7V',\n",
       "  'HostId': 'JHbmPSyLGfEjpcTHa6ZFbOtgCMC1owIf1ISDkvgq290DUc4HZdqvfgdw3n5lWkAQN6oC1oUAFcg=',\n",
       "  'HTTPStatusCode': 200,\n",
       "  'HTTPHeaders': {'x-amz-id-2': 'JHbmPSyLGfEjpcTHa6ZFbOtgCMC1owIf1ISDkvgq290DUc4HZdqvfgdw3n5lWkAQN6oC1oUAFcg=',\n",
       "   'x-amz-request-id': 'DB2B2C164EXC5E7V',\n",
       "   'date': 'Sat, 28 Aug 2021 01:49:52 GMT',\n",
       "   'etag': '\"412281cfcdc50b2bcac43630b4d0099a\"',\n",
       "   'server': 'AmazonS3',\n",
       "   'content-length': '0'},\n",
       "  'RetryAttempts': 0},\n",
       " 'ETag': '\"412281cfcdc50b2bcac43630b4d0099a\"'}"
      ]
     },
     "execution_count": 6,
     "metadata": {},
     "output_type": "execute_result"
    }
   ],
   "source": [
    "# Definindo variáveis\n",
    "FILEPATH = r'C:\\Users\\thipa\\workspaces\\nbaflow\\dev\\data\\all_players_gamelog.csv'\n",
    "KEY = 'data/all_players_gamelog.csv'\n",
    "with open(FILEPATH, 'rb') as f:\n",
    "    file = f.read()\n",
    "    \n",
    "# Coletando recurso e realizando upload\n",
    "s3_client.put_object(Bucket=BUCKET_NAME, Body=file, Key=KEY)"
   ]
  },
  {
   "cell_type": "code",
   "execution_count": 7,
   "id": "f305831a",
   "metadata": {
    "ExecuteTime": {
     "end_time": "2021-08-28T01:50:15.079373Z",
     "start_time": "2021-08-28T01:50:03.377750Z"
    }
   },
   "outputs": [],
   "source": [
    "# Testando outra forma de uploag\n",
    "KEY2 = 'data/all_players_gamelog_2.csv'\n",
    "s3_client.upload_file(Filename=FILEPATH, Bucket=BUCKET_NAME, Key=KEY2)"
   ]
  },
  {
   "cell_type": "markdown",
   "id": "5eff92b9",
   "metadata": {},
   "source": [
    "https://www.stackvidhya.com/write-a-file-to-s3-using-boto3/\n",
    "\n",
    "https://stackoverflow.com/questions/40336918/how-to-write-a-file-or-data-to-an-s3-object-using-boto3"
   ]
  },
  {
   "cell_type": "code",
   "execution_count": 8,
   "id": "897ae8b4",
   "metadata": {
    "ExecuteTime": {
     "end_time": "2021-08-28T01:50:15.095134Z",
     "start_time": "2021-08-28T01:50:15.081175Z"
    }
   },
   "outputs": [
    {
     "ename": "SyntaxError",
     "evalue": "unexpected EOF while parsing (Temp/ipykernel_8720/1872490330.py, line 2)",
     "output_type": "error",
     "traceback": [
      "\u001b[1;36m  File \u001b[1;32m\"C:\\Users\\thipa\\AppData\\Local\\Temp/ipykernel_8720/1872490330.py\"\u001b[1;36m, line \u001b[1;32m2\u001b[0m\n\u001b[1;33m    \u001b[0m\n\u001b[1;37m    ^\u001b[0m\n\u001b[1;31mSyntaxError\u001b[0m\u001b[1;31m:\u001b[0m unexpected EOF while parsing\n"
     ]
    }
   ],
   "source": [
    "def upload_object():\n",
    "    "
   ]
  },
  {
   "cell_type": "markdown",
   "id": "99267054",
   "metadata": {},
   "source": [
    "Nos exemplos acima, foram utilizadas dois métodos distintos para o upload de objetos em um bucket S3. No primeiro exemplo, o método `put_object()` recebe um arquivo em formato binário como argumento Body do método, permitindo assim com que arquivos já lidos em memória sejam transferidos pro bucket. No segundo caso, o método `upload_file()` recebe, de forma direta, um caminho do arquivo salvo localmente na máquina para que a ingestão seja realizada sem a leitura explícita.\n",
    "\n",
    "**_Referências:_**\n",
    "* https://boto3.amazonaws.com/v1/documentation/api/latest/guide/s3-uploading-files.html\n",
    "* https://boto3.amazonaws.com/v1/documentation/api/1.9.42/reference/services/s3.html#S3.Client.upload_file\n",
    "* https://stackoverflow.com/questions/1939743/amazon-s3-boto-how-to-create-a-folder\n",
    "* https://intellipaat.com/community/41744/using-boto3-how-can-i-create-a-folder-inside-s3"
   ]
  },
  {
   "cell_type": "markdown",
   "id": "3d79c7c4",
   "metadata": {},
   "source": [
    "# NBAFlow + boto3"
   ]
  },
  {
   "cell_type": "markdown",
   "id": "c39c15ee",
   "metadata": {},
   "source": [
    "Após uma jornada inicial em algumas operações básicas com S3 utilizando o boto3, nesta seção será proposta a aplicação de alguns recursos já construídos para o projeto NBAFlow para que, de forma adaptada, o SDK boto3 possa ser utilizado como uma forma adicional de prover a escrita e leitura de objetos direto no S3. Para validar, de fato, este tipo de abordagem, será desenvolvido um bloco de código capaz de navegar por todas as imagens de jogadores salvas localmente em formato png e realizar ingestões individuais dos arquivos diretamente em um bucket s3."
   ]
  },
  {
   "cell_type": "code",
   "execution_count": null,
   "id": "5c4610af",
   "metadata": {
    "ExecuteTime": {
     "end_time": "2021-08-28T01:50:15.125054Z",
     "start_time": "2021-08-28T01:50:15.125054Z"
    }
   },
   "outputs": [],
   "source": [
    "# Importando bibliotecas\n",
    "import boto3\n",
    "from botocore.exceptions import ClientError, EndpointConnectionError\n",
    "import os\n",
    "import logging"
   ]
  },
  {
   "cell_type": "code",
   "execution_count": null,
   "id": "30e3db44",
   "metadata": {
    "ExecuteTime": {
     "end_time": "2021-08-28T01:50:15.130041Z",
     "start_time": "2021-08-28T01:50:15.130041Z"
    },
    "code_folding": [
     1
    ]
   },
   "outputs": [],
   "source": [
    "# Definindo função para gerenciamento de logs\n",
    "def log_config(logger, level=logging.DEBUG, \n",
    "               log_format='%(levelname)s;%(asctime)s;%(filename)s;%(module)s;%(lineno)d;%(message)s',\n",
    "               log_filepath=os.path.join(os.getcwd(), 'exec_log/execution_log.log'),\n",
    "               flag_file_handler=False, flag_stream_handler=True, filemode='a'):\n",
    "    \"\"\"\n",
    "    Função que recebe um objeto logging e aplica configurações básicas ao mesmo\n",
    "    \n",
    "    Parâmetros\n",
    "    ----------\n",
    "    :param logger: objeto logger criado no escopo do módulo [type: logging.getLogger()]\n",
    "    :param level: level do objeto logger criado [type: level, default=logging.DEBUG]\n",
    "    :param log_format: formato do log a ser armazenado [type: string]\n",
    "    :param log_filepath: caminho onde o arquivo .log será armazenado \n",
    "        [type: string, default='exec_log/execution_log.log']\n",
    "    :param flag_file_handler: define se será criado um arquivo de armazenamento de log\n",
    "        [type: bool, default=False]\n",
    "    :param flag_stream_handler: define se as mensagens de log serão mostradas na tela\n",
    "        [type: bool, default=True]\n",
    "    :param filemode: tipo de escrita no arquivo de log [type: string, default='a' (append)]\n",
    "    \n",
    "    Retorno\n",
    "    -------\n",
    "    :return logger: objeto logger pré-configurado\n",
    "    \"\"\"\n",
    "\n",
    "    # Setting level for the logger object\n",
    "    logger.setLevel(level)\n",
    "\n",
    "    # Creating a formatter\n",
    "    formatter = logging.Formatter(log_format, datefmt='%Y-%m-%d %H:%M:%S')\n",
    "\n",
    "    # Creating handlers\n",
    "    if flag_file_handler:\n",
    "        log_path = '/'.join(log_filepath.split('/')[:-1])\n",
    "        if not isdir(log_path):\n",
    "            makedirs(log_path)\n",
    "\n",
    "        # Adding file_handler\n",
    "        file_handler = logging.FileHandler(log_filepath, mode=filemode, encoding='utf-8')\n",
    "        file_handler.setFormatter(formatter)\n",
    "        logger.addHandler(file_handler)\n",
    "\n",
    "    if flag_stream_handler:\n",
    "        # Adding stream_handler\n",
    "        stream_handler = logging.StreamHandler()\n",
    "        stream_handler.setFormatter(formatter)    \n",
    "        logger.addHandler(stream_handler)\n",
    "\n",
    "    return logger\n",
    "\n",
    "# Instanciando e configurando objeto de log\n",
    "logger = logging.getLogger('notebook')\n",
    "logger = log_config(logger)"
   ]
  },
  {
   "cell_type": "code",
   "execution_count": null,
   "id": "81833418",
   "metadata": {
    "ExecuteTime": {
     "end_time": "2021-08-28T01:50:15.135027Z",
     "start_time": "2021-08-28T01:50:15.135027Z"
    }
   },
   "outputs": [],
   "source": [
    "# Definindo variáveis do ambiente S3\n",
    "REGION = 'sa-east-1'\n",
    "BUCKET_NAME = 'nbaflow-files'\n",
    "IMGS_FOLDER = 'imgs/'\n",
    "DATA_FOLDER = 'data/'\n",
    "\n",
    "# Definindo variáveis de configuração do bucket\n",
    "LOCATION = {'LocationConstraint': REGION}\n",
    "BLOCK_PUBLIC = True\n",
    "BLOCK_PUBLIC_CONFIG = {\n",
    "    'BlockPublicAcls': True,\n",
    "    'IgnorePublicAcls': True,\n",
    "    'BlockPublicPolicy': True,\n",
    "    'RestrictPublicBuckets': True\n",
    "}\n",
    "\n",
    "# Definindo variáveis de repositório local\n",
    "DATA_PATH = r'C:/Users/thipa/workspaces/nbaflow/data'\n",
    "IMGS_PATH = os.path.join(DATA_PATH, 'images/players')\n",
    "\n",
    "# Instanciando client e resource do S3\n",
    "try:\n",
    "    s3_client = boto3.client('s3', region_name=REGION)\n",
    "    s3 = boto3.resource('s3', region_name=REGION)\n",
    "except Exception as e:\n",
    "    logger.error(f'Erro ao instanciar o client ou o recurso S3. Exception: {e}')\n",
    "\n",
    "# Gerenciando criação de um novo bucket\n",
    "try:\n",
    "    # Listando buckets já existentes\n",
    "    buckets = [bucket.name for bucket in s3.buckets.all()]\n",
    "    if BUCKET_NAME not in buckets:\n",
    "        s3.create_bucket(Bucket=BUCKET_NAME,\n",
    "                         ACL='private',\n",
    "                         CreateBucketConfiguration=LOCATION)\n",
    "\n",
    "        # Definindo acesso público restrito\n",
    "        if BLOCK_PUBLIC:\n",
    "            response = s3_client.put_public_access_block(Bucket=BUCKET_NAME,\n",
    "                                                         PublicAccessBlockConfiguration=BLOCK_PUBLIC_CONFIG)\n",
    "        logger.info(f'Bucket {BUCKET_NAME} criado com sucesso')\n",
    "    else: \n",
    "        # Bucket já existente\n",
    "        logger.warning(f'Bucket {BUCKET_NAME} já existente. A criação de um novo bucket não será realizada.')\n",
    "\n",
    "except EndpointConnectionError as edperror:\n",
    "    logger.error(f'Erro de conexão ao endpoint. Verificar região fornecida na instância do recurso ou do client. Exception: {edperror}')\n"
   ]
  },
  {
   "cell_type": "code",
   "execution_count": null,
   "id": "106c76fc",
   "metadata": {
    "ExecuteTime": {
     "end_time": "2021-08-28T01:50:15.139017Z",
     "start_time": "2021-08-28T01:50:15.139017Z"
    },
    "code_folding": [
     1
    ]
   },
   "outputs": [],
   "source": [
    "# Definindo função encapsulada para a criação de novos buckets na AWS\n",
    "def create_bucket(bucket_name, region, acl='private', **kwargs):\n",
    "    \"\"\"\n",
    "    Função criada para consolidar os principais elementos de\n",
    "    criação de buckets s3 através do SDK boto3. O código aqui\n",
    "    encapsulado visa propor um detalhamento mais claro sobre\n",
    "    as etapas mais comuns de criação de bucket, providenciando\n",
    "    ao usuário uma maior abstração nas configurações mais\n",
    "    básicas dentro deste universo. De maneira geral, esta\n",
    "    função instancia um recurso s3 via boto3 e utiliza o método\n",
    "    create_bucket() para consolidar as operações de criação\n",
    "    de buckets.\n",
    "    \n",
    "    Para detalhes adicionais ou operações mais avançadas\n",
    "    relacionadas à criação de buckets, verificar a documentação\n",
    "    oficial do boto3 na AWS.\n",
    "    \n",
    "    Parâmetros\n",
    "    ----------\n",
    "    :param bucket_name:\n",
    "        Referência do bucket a ser criado dentro da conta\n",
    "        AWS configurada para a utilização do boto3. O nome\n",
    "        do bucket deve seguir as diretrizes propostas pela\n",
    "        própria AWS dentro das boas práticas e restrições\n",
    "        estabelecidas.\n",
    "        [type: string]\n",
    "        \n",
    "    :param region:\n",
    "        Região a qual o bucket será criado. Este argumento\n",
    "        também é utilizado para a criação do dicionário\n",
    "        de configuração de localização do bucket a ser \n",
    "        passado também como parâmetro do método\n",
    "        create_bucket() do recurso s3 instanciado.\n",
    "        \n",
    "    :param acl:\n",
    "        Parâmetro que define o controle de acesso definido\n",
    "        para o bucket (Access Control List). Neste contexto\n",
    "        o argumento acl propõe a utilização de um bloco\n",
    "        consolidado de controle predefinido dentro das \n",
    "        diretrizes da AWS. Através da documentação de \n",
    "        referência do SDK, é possível visualizar as opções \n",
    "        possíveis enblocadas para a definição de controle \n",
    "        de acesso.\n",
    "        [type: string, default='private']\n",
    "        \n",
    "    Argumentos Adicionais\n",
    "    ---------------------\n",
    "    :kwarg block_public:\n",
    "        Flag que define a modificação da política de acesso\n",
    "        ao bucket criado. Ao ser configurado como True, é\n",
    "        instanciado um client s3 via boto3 e executado o\n",
    "        método put_public_access_block() para bloqueio de\n",
    "        todo acesso público proveniente ACLs ou configurações\n",
    "        adicionais do bucket. A definição exata do bloqueio\n",
    "        de acesso público é definida a partir do argumento\n",
    "        adicional block_public_config.\n",
    "        [type: bool, default=True]\n",
    "    \n",
    "    :kwarg block_public_config:\n",
    "        Dicionário de configuração com chaves específicas \n",
    "        de definição das restrições a serem aplicadas no\n",
    "        método put_public_acess_block() do client s3\n",
    "        instanciado.\n",
    "        [type: dict, default={\n",
    "                        'BlockPublicAcls': True,\n",
    "                        'IgnorePublicAcls': True,\n",
    "                        'BlockPublicPolicy': True,\n",
    "                        'RestrictPublicBuckets': True\n",
    "                    }]\n",
    "    \"\"\"\n",
    "    \n",
    "    # Instanciando recurso S3 e listando buckets existentes\n",
    "    s3 = boto3.resource('s3', region_name=region)\n",
    "    try:\n",
    "        buckets = [bucket.name for bucket in s3.buckets.all()]\n",
    "    except EndpointConnectionError as ece:\n",
    "        logger.error(f'Erro de conexão ao endpoint. Verificar região {region}. Exception: {ece}')\n",
    "        return None\n",
    "    \n",
    "    # Validando existência do bucket\n",
    "    if bucket_name in buckets:\n",
    "        logger.warning(f'Bucket {bucket_name} já existente. A criação de um novo bucket não será realizada.')\n",
    "        return None\n",
    "    else:\n",
    "        # Criando um novo bucket\n",
    "        try:\n",
    "            location = kwargs['location'] if 'location' in kwargs else {'LocationConstraint': region}\n",
    "            s3.create_bucket(\n",
    "                Bucket=bucket_name, \n",
    "                ACL=acl,\n",
    "                CreateBucketConfiguration=location\n",
    "            )\n",
    "            logger.info(f'Bucket {bucket_name} criado com sucesso.')\n",
    "        except ClientError as ce:\n",
    "            logger.error(f'Erro durante a criação do bucket. Exception: {ce}')\n",
    "            \n",
    "    # Validando bloqueio de acesso público ao bucket\n",
    "    block_public = kwargs['block_public'] if 'block_public' in kwargs else True\n",
    "    if block_public:\n",
    "        config = {\n",
    "            'BlockPublicAcls': True,\n",
    "            'IgnorePublicAcls': True,\n",
    "            'BlockPublicPolicy': True,\n",
    "            'RestrictPublicBuckets': True\n",
    "        }\n",
    "        block_public_config = kwargs['block_public_config'] if 'block_public_config' in kwargs else config\n",
    "        \n",
    "        # Instanciando sessão e configurando bloqueio de acesso público\n",
    "        try:\n",
    "            s3_client = boto3.client('s3', region_name=region)\n",
    "            response = s3_client.put_public_access_block(Bucket=bucket_name,\n",
    "                                                         PublicAccessBlockConfiguration=block_public_config)\n",
    "        except Exception as e:\n",
    "            logger.warning(f'Erro ao instanciar client e bloquear acesso público ao bucket {bucket_name}. Exception: {e}')\n",
    "            "
   ]
  },
  {
   "cell_type": "code",
   "execution_count": null,
   "id": "151bf512",
   "metadata": {
    "ExecuteTime": {
     "end_time": "2021-08-28T01:50:15.141012Z",
     "start_time": "2021-08-28T01:50:15.141012Z"
    }
   },
   "outputs": [],
   "source": [
    "# Definindo variáveis do ambiente S3\n",
    "REGION = 'sa-east-1'\n",
    "BUCKET_NAME = 'nbaflow-files'\n",
    "IMGS_FOLDER = 'imgs/'\n",
    "DATA_FOLDER = 'data/'\n",
    "\n",
    "# Definindo variáveis de configuração do bucket\n",
    "LOCATION = {'LocationConstraint': REGION}\n",
    "ACL = 'private'\n",
    "BLOCK_PUBLIC = True\n",
    "BLOCK_PUBLIC_CONFIG = {\n",
    "    'BlockPublicAcls': True,\n",
    "    'IgnorePublicAcls': True,\n",
    "    'BlockPublicPolicy': True,\n",
    "    'RestrictPublicBuckets': True\n",
    "}\n",
    "\n",
    "# Definindo variáveis de repositório local\n",
    "DATA_PATH = r'C:/Users/thipa/workspaces/nbaflow/data'\n",
    "IMGS_PATH = os.path.join(DATA_PATH, 'images/players')"
   ]
  },
  {
   "cell_type": "code",
   "execution_count": null,
   "id": "817e4306",
   "metadata": {
    "ExecuteTime": {
     "end_time": "2021-08-28T01:50:15.151982Z",
     "start_time": "2021-08-28T01:50:15.151982Z"
    }
   },
   "outputs": [],
   "source": [
    "# Deletando bucket (opcional)\n",
    "s3_client = boto3.client('s3', region_name=REGION)\n",
    "s3_client.delete_bucket(Bucket=BUCKET_NAME)"
   ]
  },
  {
   "cell_type": "code",
   "execution_count": null,
   "id": "1101fcdd",
   "metadata": {
    "ExecuteTime": {
     "end_time": "2021-08-28T01:50:15.157968Z",
     "start_time": "2021-08-28T01:50:15.157968Z"
    }
   },
   "outputs": [],
   "source": [
    "# Criando novo bucket\n",
    "create_bucket(bucket_name=BUCKET_NAME, region=REGION, acl=ACL, \n",
    "              block_public=BLOCK_PUBLIC, block_public_config=BLOCK_PUBLIC_CONFIG)"
   ]
  },
  {
   "cell_type": "code",
   "execution_count": null,
   "id": "bf6b6082",
   "metadata": {
    "ExecuteTime": {
     "end_time": "2021-08-28T01:50:15.163951Z",
     "start_time": "2021-08-28T01:50:15.162957Z"
    }
   },
   "outputs": [],
   "source": [
    "s3 = boto3.resource('s3')\n",
    "bucket = s3.Bucket('nbaflow-boto3')\n",
    "bucket.delete()"
   ]
  },
  {
   "cell_type": "code",
   "execution_count": null,
   "id": "b60ed2e6",
   "metadata": {
    "ExecuteTime": {
     "end_time": "2021-08-28T01:50:15.166943Z",
     "start_time": "2021-08-28T01:50:15.166943Z"
    }
   },
   "outputs": [],
   "source": [
    "bucket.objects.all().delete()"
   ]
  },
  {
   "cell_type": "code",
   "execution_count": null,
   "id": "bec07075",
   "metadata": {
    "ExecuteTime": {
     "end_time": "2021-08-28T01:50:15.169955Z",
     "start_time": "2021-08-28T01:50:15.168938Z"
    }
   },
   "outputs": [],
   "source": [
    "bucket_objects = [obj for obj in bucket.objects.all()]\n",
    "bucket_objects[0].e_tag"
   ]
  },
  {
   "cell_type": "code",
   "execution_count": null,
   "id": "51309423",
   "metadata": {
    "ExecuteTime": {
     "end_time": "2021-08-28T01:50:15.171930Z",
     "start_time": "2021-08-28T01:50:15.171930Z"
    }
   },
   "outputs": [],
   "source": [
    "from botocore.errorfactory import No"
   ]
  },
  {
   "cell_type": "code",
   "execution_count": null,
   "id": "023865a3",
   "metadata": {
    "ExecuteTime": {
     "end_time": "2021-08-28T01:50:15.173930Z",
     "start_time": "2021-08-28T01:50:15.173930Z"
    }
   },
   "outputs": [],
   "source": [
    "[e for e in dir(s3.exceptions) if e.endswith('Exception')]"
   ]
  },
  {
   "cell_type": "code",
   "execution_count": null,
   "id": "35be7857",
   "metadata": {
    "ExecuteTime": {
     "end_time": "2021-08-28T01:50:15.175920Z",
     "start_time": "2021-08-28T01:50:15.175920Z"
    }
   },
   "outputs": [],
   "source": [
    "s3_client.exceptions.BucketNotEmpty"
   ]
  },
  {
   "cell_type": "code",
   "execution_count": null,
   "id": "6cb36ab4",
   "metadata": {
    "ExecuteTime": {
     "end_time": "2021-08-28T01:50:15.177913Z",
     "start_time": "2021-08-28T01:50:15.177913Z"
    }
   },
   "outputs": [],
   "source": [
    "boto3.client('s3').exceptions.NoSuchBucket"
   ]
  },
  {
   "cell_type": "code",
   "execution_count": null,
   "id": "26351bef",
   "metadata": {
    "ExecuteTime": {
     "end_time": "2021-08-28T01:50:15.180906Z",
     "start_time": "2021-08-28T01:50:15.180906Z"
    }
   },
   "outputs": [],
   "source": [
    "boto3.client('s3').exceptions.BucketNotEmpty"
   ]
  },
  {
   "cell_type": "code",
   "execution_count": null,
   "id": "ccd284a9",
   "metadata": {
    "ExecuteTime": {
     "end_time": "2021-08-28T01:50:15.184895Z",
     "start_time": "2021-08-28T01:50:15.184895Z"
    }
   },
   "outputs": [],
   "source": [
    "DATA_PATH = r'C:/Users/thipa/workspaces/nbaflow/dev/data/'\n",
    "import os\n",
    "print(os.listdir(DATA_PATH))"
   ]
  },
  {
   "cell_type": "code",
   "execution_count": null,
   "id": "1e32168b",
   "metadata": {
    "ExecuteTime": {
     "end_time": "2021-08-28T01:50:15.188898Z",
     "start_time": "2021-08-28T01:50:15.188898Z"
    }
   },
   "outputs": [],
   "source": [
    "for path, dirs, files in os.walk(DATA_PATH):\n",
    "    for d in dirs:\n",
    "        print(d)\n",
    "    \"\"\"for name in files:\n",
    "        filepath = os.path.join(path, name)\n",
    "        print(name)\n",
    "        #print(os.path.basename(filepath))\"\"\""
   ]
  },
  {
   "cell_type": "code",
   "execution_count": null,
   "id": "1612c56b",
   "metadata": {
    "ExecuteTime": {
     "end_time": "2021-08-28T01:50:15.194869Z",
     "start_time": "2021-08-28T01:50:15.194869Z"
    }
   },
   "outputs": [],
   "source": [
    "path, dirs, files = os.walk(DATA_PATH)"
   ]
  },
  {
   "cell_type": "code",
   "execution_count": null,
   "id": "f4945e77",
   "metadata": {
    "ExecuteTime": {
     "end_time": "2021-08-28T01:50:15.197861Z",
     "start_time": "2021-08-28T01:50:15.197861Z"
    }
   },
   "outputs": [],
   "source": [
    "len([name for _, _, files in os.walk(DATA_PATH) for name in files])"
   ]
  },
  {
   "cell_type": "code",
   "execution_count": null,
   "id": "043d714d",
   "metadata": {
    "ExecuteTime": {
     "end_time": "2021-08-28T01:50:15.204852Z",
     "start_time": "2021-08-28T01:50:15.204852Z"
    }
   },
   "outputs": [],
   "source": [
    "for path, dirs, files in os.walk(DATA_PATH):\n",
    "    for name in files:\n",
    "        filepath = os.path.join(path, name)\n",
    "        key = filepath.replace(DATA_PATH, 'root/')\n",
    "        print(key)"
   ]
  },
  {
   "cell_type": "code",
   "execution_count": null,
   "id": "f3ee1f27",
   "metadata": {
    "ExecuteTime": {
     "end_time": "2021-08-28T01:50:15.207833Z",
     "start_time": "2021-08-28T01:50:15.207833Z"
    }
   },
   "outputs": [],
   "source": [
    "os.path.basename(DATA_PATH)"
   ]
  },
  {
   "cell_type": "code",
   "execution_count": null,
   "id": "493883b1",
   "metadata": {
    "ExecuteTime": {
     "end_time": "2021-08-28T01:50:15.209828Z",
     "start_time": "2021-08-28T01:50:15.209828Z"
    }
   },
   "outputs": [],
   "source": [
    "os.path.sep"
   ]
  },
  {
   "cell_type": "code",
   "execution_count": null,
   "id": "20f1a545",
   "metadata": {
    "ExecuteTime": {
     "end_time": "2021-08-28T01:50:15.210825Z",
     "start_time": "2021-08-28T01:50:15.210825Z"
    }
   },
   "outputs": [],
   "source": [
    "DATA_PATH"
   ]
  },
  {
   "cell_type": "code",
   "execution_count": null,
   "id": "d9778740",
   "metadata": {
    "ExecuteTime": {
     "end_time": "2021-08-28T01:50:15.212819Z",
     "start_time": "2021-08-28T01:50:15.212819Z"
    }
   },
   "outputs": [],
   "source": [
    "DATA_PATH.replace(os.path.sep, '')"
   ]
  },
  {
   "cell_type": "markdown",
   "id": "63e89e74",
   "metadata": {},
   "source": [
    "https://towardsdatascience.com/reading-and-writing-files-from-to-amazon-s3-with-pandas-ccaf90bfe86c"
   ]
  },
  {
   "cell_type": "code",
   "execution_count": null,
   "id": "18f2a04d",
   "metadata": {
    "ExecuteTime": {
     "end_time": "2021-08-28T01:50:15.215812Z",
     "start_time": "2021-08-28T01:50:15.215812Z"
    }
   },
   "outputs": [],
   "source": [
    "from io import BytesIO, StringIO\n",
    "import pandas as pd\n",
    "\n",
    "bucket = 'nbaflow-files'\n",
    "obj = s3_client.get_object(Bucket=bucket, Key='imgs/Damian Lillard.png')\n",
    "data_stream = BytesIO(obj['Body'].read())\n",
    "pd.read_csv(data_stream)"
   ]
  },
  {
   "cell_type": "code",
   "execution_count": null,
   "id": "d10ed601",
   "metadata": {
    "ExecuteTime": {
     "end_time": "2021-08-28T01:50:15.216809Z",
     "start_time": "2021-08-28T01:50:15.216809Z"
    }
   },
   "outputs": [],
   "source": [
    "s3_client.exceptions.NoSuchKey"
   ]
  },
  {
   "cell_type": "code",
   "execution_count": null,
   "id": "a56f6767",
   "metadata": {
    "ExecuteTime": {
     "end_time": "2021-08-28T01:50:15.218804Z",
     "start_time": "2021-08-28T01:50:15.218804Z"
    }
   },
   "outputs": [],
   "source": [
    "import os\n",
    "local_dir = os.path.join(os.getcwd(), 's3_temp')\n",
    "\n",
    "paginator = s3_client.get_paginator('list_objects')\n",
    "for result in paginator.paginate(Bucket='nbaflow-files', Delimiter='/', Prefix=''):\n",
    "    prefixes = result.get('CommonPrefixes')\n",
    "    if prefixes is not None:\n",
    "        for subdir in result.get('CommonPrefixes'):\n",
    "            print(subdir.get('Prefix'))\n",
    "            \n",
    "    contents = result.get('Contents', [])\n",
    "    for file in contents:\n",
    "        obj_key = file.get('Key')\n",
    "        local_path = os.path.join(local_dir, obj_key)\n",
    "        if not os.path.exists(os.path.dirname(local_path)):\n",
    "            os.makedirs(os.path.dirname(local_path))\n",
    "        s3_client.download_file('nbaflow-files', obj_key, local_path)"
   ]
  },
  {
   "cell_type": "code",
   "execution_count": null,
   "id": "dfbaf767",
   "metadata": {
    "ExecuteTime": {
     "end_time": "2021-08-28T01:50:15.220814Z",
     "start_time": "2021-08-28T01:50:15.220814Z"
    }
   },
   "outputs": [],
   "source": [
    "import os\n",
    "local_dir = os.path.join(os.getcwd(), 's3_temp')\n",
    "\n",
    "def download_all_objects(bucket, prefix='', local=local_dir):\n",
    "    paginator = s3_client.get_paginator('list_objects')\n",
    "    for result in paginator.paginate(Bucket='nbaflow-files', Delimiter='/', Prefix=''):\n",
    "        prefixes = result.get('CommonPrefixes')\n",
    "        if prefixes is not None:\n",
    "            for subdir in result.get('CommonPrefixes'):\n",
    "                #print(subdir.get('Prefix'))\n",
    "                download_all_objects(bucket=bucket, prefix=subdir.get('Prefix'))\n",
    "\n",
    "        contents = result.get('Contents', [])\n",
    "        for file in contents:\n",
    "            obj_key = file.get('Key')\n",
    "            local_path = os.path.join(local_dir, obj_key)\n",
    "            if not os.path.exists(os.path.dirname(local_path)):\n",
    "                os.makedirs(os.path.dirname(local_path))\n",
    "            s3_client.download_file('nbaflow-files', obj_key, local_path)"
   ]
  },
  {
   "cell_type": "code",
   "execution_count": null,
   "id": "cf41a3ce",
   "metadata": {
    "ExecuteTime": {
     "end_time": "2021-08-28T01:50:15.221796Z",
     "start_time": "2021-08-28T01:50:15.221796Z"
    }
   },
   "outputs": [],
   "source": [
    "download_all_objects(bucket='nbaflow-files')"
   ]
  },
  {
   "cell_type": "code",
   "execution_count": null,
   "id": "4ee1c763",
   "metadata": {
    "ExecuteTime": {
     "end_time": "2021-08-28T01:50:15.225786Z",
     "start_time": "2021-08-28T01:50:15.225786Z"
    }
   },
   "outputs": [],
   "source": [
    "bucket = s3.Bucket('nbaflow-files')\n",
    "objects = [obj for obj in bucket.objects.all()]\n",
    "objects"
   ]
  },
  {
   "cell_type": "code",
   "execution_count": null,
   "id": "2a8588a8",
   "metadata": {
    "ExecuteTime": {
     "end_time": "2021-08-28T01:50:15.228781Z",
     "start_time": "2021-08-28T01:50:15.228781Z"
    }
   },
   "outputs": [],
   "source": [
    "os.path.dirname(objects[50].key)"
   ]
  },
  {
   "cell_type": "code",
   "execution_count": null,
   "id": "07a9ac6f",
   "metadata": {
    "ExecuteTime": {
     "end_time": "2021-08-28T01:50:15.231780Z",
     "start_time": "2021-08-28T01:50:15.231780Z"
    }
   },
   "outputs": [],
   "source": [
    "objects[50].key"
   ]
  },
  {
   "cell_type": "code",
   "execution_count": null,
   "id": "13ec232a",
   "metadata": {
    "ExecuteTime": {
     "end_time": "2021-08-28T01:50:15.235758Z",
     "start_time": "2021-08-28T01:50:15.235758Z"
    }
   },
   "outputs": [],
   "source": [
    "import os\n",
    "local_dir = os.path.join(os.getcwd(), 's3_temp')\n",
    "\n",
    "paginator = s3_client.get_paginator('list_objects')\n",
    "for result in paginator.paginate(Bucket='nbaflow-files', Delimiter='/', Prefix=''):\n",
    "    prefixes = result.get('CommonPrefixes')\n",
    "    if prefixes is not None:\n",
    "        for subdir in result.get('CommonPrefixes'):\n",
    "            print(subdir.get('Prefix'))\n",
    "            \n",
    "    contents = result.get('Contents', [])\n",
    "    for file in contents:\n",
    "        obj_key = file.get('Key')\n",
    "        local_path = os.path.join(local_dir, obj_key)\n",
    "        if not os.path.exists(os.path.dirname(local_path)):\n",
    "            os.makedirs(os.path.dirname(local_path))\n",
    "        s3_client.download_file('nbaflow-files', obj_key, local_path)"
   ]
  },
  {
   "cell_type": "code",
   "execution_count": null,
   "id": "dbedd495",
   "metadata": {},
   "outputs": [],
   "source": []
  },
  {
   "cell_type": "code",
   "execution_count": null,
   "id": "204c3ad9",
   "metadata": {
    "ExecuteTime": {
     "end_time": "2021-08-28T01:50:15.237754Z",
     "start_time": "2021-08-28T01:50:15.237754Z"
    }
   },
   "outputs": [],
   "source": [
    "objects = s3.list_objects(Bucket='nbaflow-files')['Contents']"
   ]
  },
  {
   "cell_type": "code",
   "execution_count": 42,
   "id": "6145e68d",
   "metadata": {
    "ExecuteTime": {
     "end_time": "2021-08-28T02:16:04.213736Z",
     "start_time": "2021-08-28T02:14:34.649483Z"
    }
   },
   "outputs": [
    {
     "name": "stdout",
     "output_type": "stream",
     "text": [
      "True\n",
      "True\n",
      "True\n",
      "True\n",
      "True\n"
     ]
    }
   ],
   "source": [
    "import os\n",
    "import boto3\n",
    "\n",
    "s3_resource = boto3.resource('s3')\n",
    "s3_client = boto3.client('s3')\n",
    "\n",
    "# Coletando estrutura do bucket com chaves e prefixos\n",
    "bucket = s3_resource.Bucket('nbaflow-files')\n",
    "keys = [obj.key for obj in bucket.objects.all()]\n",
    "prefixes = sorted(list(dict.fromkeys([os.path.dirname(k) for k in keys if '/' in k ])))\n",
    "\n",
    "# Criando estrutura local de diretórios com os prefixos\n",
    "local_dir = os.path.join(os.getcwd(), 's3_temp')\n",
    "for dirname in prefixes:\n",
    "    try:\n",
    "        print(os.path.isdir(os.path.join(local_dir, dirname)))\n",
    "        os.makedirs(os.path.join(local_dir, dirname))\n",
    "    except FileExistsError as fee:\n",
    "        continue\n",
    "        \n",
    "# Realizando o download dos objetos\n",
    "for k in keys:\n",
    "    s3_client.download_file('nbaflow-files', k, os.path.join(local_dir, k))"
   ]
  },
  {
   "cell_type": "markdown",
   "id": "c2708ddb",
   "metadata": {},
   "source": [
    "https://qastack.com.br/programming/30249069/listing-contents-of-a-bucket-with-boto3"
   ]
  },
  {
   "cell_type": "code",
   "execution_count": null,
   "id": "a7765cb0",
   "metadata": {},
   "outputs": [],
   "source": []
  },
  {
   "cell_type": "code",
   "execution_count": 40,
   "id": "82569fdb",
   "metadata": {
    "ExecuteTime": {
     "end_time": "2021-08-28T02:09:58.243298Z",
     "start_time": "2021-08-28T02:09:57.474348Z"
    }
   },
   "outputs": [
    {
     "data": {
      "text/plain": [
       "['all_players_gamelog.csv',\n",
       " 'backup/2019-20_gamelog.csv',\n",
       " 'backup/2020-21_gamelog.csv',\n",
       " 'backup/all_players_gamelog.csv',\n",
       " 'backup/all_players_gamelog_101_150.csv',\n",
       " 'backup/all_players_gamelog_151_200.csv',\n",
       " 'backup/all_players_gamelog_1_50.csv',\n",
       " 'backup/all_players_gamelog_201_250.csv',\n",
       " 'backup/all_players_gamelog_251_300.csv',\n",
       " 'backup/all_players_gamelog_301_350.csv',\n",
       " 'backup/all_players_gamelog_351_400.csv',\n",
       " 'backup/all_players_gamelog_401_450.csv',\n",
       " 'backup/all_players_gamelog_451_end.csv',\n",
       " 'backup/all_players_gamelog_51_100.csv',\n",
       " 'backup/images/Aaron Gordon.png',\n",
       " 'backup/images/Aaron Holiday.png',\n",
       " 'backup/images/Abdel Nader.png',\n",
       " 'backup/images/Adam Mokoka.png',\n",
       " 'backup/images/Al Horford.png',\n",
       " 'backup/images/Al-Farouq Aminu.png',\n",
       " 'backup/images/Alec Burks.png',\n",
       " 'backup/images/Alen Smailagic.png',\n",
       " 'backup/images/Alex Caruso.png',\n",
       " 'backup/images/Alex Len.png',\n",
       " 'backup/images/Alfonzo McKinnie.png',\n",
       " 'backup/images/Alize Johnson.png',\n",
       " 'backup/images/Amida Brimah.png',\n",
       " 'backup/images/Amir Coffey.png',\n",
       " 'backup/images/Andre Drummond.png',\n",
       " 'backup/images/Andre Iguodala.png',\n",
       " 'backup/images/Andrew Wiggins.png',\n",
       " 'backup/images/Anfernee Simons.png',\n",
       " 'backup/images/Anthony Davis.png',\n",
       " 'backup/images/Anthony Tolliver.png',\n",
       " 'backup/images/Aron Baynes.png',\n",
       " 'backup/images/Austin Rivers.png',\n",
       " 'backup/images/Avery Bradley.png',\n",
       " 'backup/images/Axel Toupane.png',\n",
       " 'backup/images/Bam Adebayo.png',\n",
       " 'backup/images/Ben McLemore.png',\n",
       " 'backup/images/Ben Simmons.png',\n",
       " 'backup/images/Bismack Biyombo.png',\n",
       " 'backup/images/Blake Griffin.png',\n",
       " 'backup/images/Boban Marjanovic.png',\n",
       " 'backup/images/Bobby Portis.png',\n",
       " 'backup/images/Bogdan Bogdanovic.png',\n",
       " 'backup/images/Bojan Bogdanovic.png',\n",
       " 'backup/images/Bol Bol.png',\n",
       " 'backup/images/Brad Wanamaker.png',\n",
       " 'backup/images/Bradley Beal.png',\n",
       " 'backup/images/Brandon Clarke.png',\n",
       " 'backup/images/Brandon Goodwin.png',\n",
       " 'backup/images/Brandon Ingram.png',\n",
       " 'backup/images/Brook Lopez.png',\n",
       " 'backup/images/Bruce Brown.png',\n",
       " 'backup/images/Bruno Fernando.png',\n",
       " 'backup/images/Bryn Forbes.png',\n",
       " 'backup/images/Buddy Hield.png',\n",
       " 'backup/images/CJ McCollum.png',\n",
       " 'backup/images/Caleb Martin.png',\n",
       " 'backup/images/Cam Reddish.png',\n",
       " 'backup/images/Cameron Johnson.png',\n",
       " 'backup/images/Cameron Payne.png',\n",
       " 'backup/images/Caris LeVert.png',\n",
       " 'backup/images/Carmelo Anthony.png',\n",
       " 'backup/images/Carsen Edwards.png',\n",
       " 'backup/images/Cedi Osman.png',\n",
       " 'backup/images/Chandler Hutchison.png',\n",
       " 'backup/images/Charlie Brown Jr..png',\n",
       " 'backup/images/Chasson Randle.png',\n",
       " 'backup/images/Chimezie Metu.png',\n",
       " 'backup/images/Chris Boucher.png',\n",
       " 'backup/images/Chris Chiozza.png',\n",
       " 'backup/images/Chris Paul.png',\n",
       " 'backup/images/Christian Wood.png',\n",
       " 'backup/images/Clint Capela.png',\n",
       " 'backup/images/Coby White.png',\n",
       " 'backup/images/Cody Martin.png',\n",
       " 'backup/images/Cody Zeller.png',\n",
       " 'backup/images/Collin Sexton.png',\n",
       " 'backup/images/Cory Joseph.png',\n",
       " 'backup/images/Cristiano Felicio.png',\n",
       " \"backup/images/D'Angelo Russell.png\",\n",
       " 'backup/images/D.J. Augustin.png',\n",
       " 'backup/images/D.J. Wilson.png',\n",
       " 'backup/images/DaQuan Jeffries.png',\n",
       " 'backup/images/Damian Jones.png',\n",
       " 'backup/images/Damian Lillard.png',\n",
       " 'backup/images/Damion Lee.png',\n",
       " 'backup/images/Damyean Dotson.png',\n",
       " 'backup/images/Daniel Gafford.png',\n",
       " 'backup/images/Daniel Theis.png',\n",
       " 'backup/images/Danilo Gallinari.png',\n",
       " 'backup/images/Danny Green.png',\n",
       " 'backup/images/Dante Exum.png',\n",
       " 'backup/images/Danuel House Jr..png',\n",
       " 'backup/images/Dario Saric.png',\n",
       " 'backup/images/Darius Bazley.png',\n",
       " 'backup/images/Darius Garland.png',\n",
       " 'backup/images/David Nwaba.png',\n",
       " 'backup/images/Davis Bertans.png',\n",
       " \"backup/images/De'Aaron Fox.png\",\n",
       " \"backup/images/De'Andre Hunter.png\",\n",
       " \"backup/images/De'Anthony Melton.png\",\n",
       " 'backup/images/DeAndre Jordan.png',\n",
       " \"backup/images/DeAndre' Bembry.png\",\n",
       " 'backup/images/DeMar DeRozan.png',\n",
       " 'backup/images/DeMarcus Cousins.png',\n",
       " 'backup/images/Dean Wade.png',\n",
       " 'backup/images/Deandre Ayton.png',\n",
       " 'backup/images/Dejounte Murray.png',\n",
       " 'backup/images/Delon Wright.png',\n",
       " 'backup/images/Dennis Schroder.png',\n",
       " 'backup/images/Dennis Smith Jr..png',\n",
       " 'backup/images/Denzel Valentine.png',\n",
       " 'backup/images/Derrick Favors.png',\n",
       " 'backup/images/Derrick Jones Jr..png',\n",
       " 'backup/images/Derrick Rose.png',\n",
       " 'backup/images/Derrick White.png',\n",
       " 'backup/images/Devin Booker.png',\n",
       " 'backup/images/Devontae Cacok.png',\n",
       " \"backup/images/Devonte' Graham.png\",\n",
       " 'backup/images/Dewayne Dedmon.png',\n",
       " 'backup/images/Dillon Brooks.png',\n",
       " 'backup/images/Domantas Sabonis.png',\n",
       " 'backup/images/Donovan Mitchell.png',\n",
       " 'backup/images/Donte DiVincenzo.png',\n",
       " 'backup/images/Dorian Finney-Smith.png',\n",
       " 'backup/images/Doug McDermott.png',\n",
       " 'backup/images/Draymond Green.png',\n",
       " 'backup/images/Drew Eubanks.png',\n",
       " 'backup/images/Duncan Robinson.png',\n",
       " 'backup/images/Dwayne Bacon.png',\n",
       " 'backup/images/Dwight Howard.png',\n",
       " 'backup/images/Dwight Powell.png',\n",
       " \"backup/images/E'Twaun Moore.png\",\n",
       " 'backup/images/Ed Davis.png',\n",
       " 'backup/images/Edmond Sumner.png',\n",
       " 'backup/images/Elfrid Payton.png',\n",
       " 'backup/images/Enes Kanter.png',\n",
       " 'backup/images/Eric Bledsoe.png',\n",
       " 'backup/images/Eric Gordon.png',\n",
       " 'backup/images/Eric Paschall.png',\n",
       " 'backup/images/Ersan Ilyasova.png',\n",
       " 'backup/images/Evan Fournier.png',\n",
       " 'backup/images/Frank Jackson.png',\n",
       " 'backup/images/Frank Kaminsky.png',\n",
       " 'backup/images/Frank Ntilikina.png',\n",
       " 'backup/images/Fred VanVleet.png',\n",
       " 'backup/images/Furkan Korkmaz.png',\n",
       " 'backup/images/Gabe Vincent.png',\n",
       " 'backup/images/Garrett Temple.png',\n",
       " 'backup/images/Garrison Mathews.png',\n",
       " 'backup/images/Gary Clark.png',\n",
       " 'backup/images/Gary Harris.png',\n",
       " 'backup/images/Gary Payton II.png',\n",
       " 'backup/images/Gary Trent Jr..png',\n",
       " 'backup/images/George Hill.png',\n",
       " 'backup/images/Georges Niang.png',\n",
       " 'backup/images/Giannis Antetokounmpo.png',\n",
       " 'backup/images/Goga Bitadze.png',\n",
       " 'backup/images/Goran Dragic.png',\n",
       " 'backup/images/Gordon Hayward.png',\n",
       " 'backup/images/Gorgui Dieng.png',\n",
       " 'backup/images/Grant Williams.png',\n",
       " 'backup/images/Grayson Allen.png',\n",
       " 'backup/images/Hamidou Diallo.png',\n",
       " 'backup/images/Harrison Barnes.png',\n",
       " 'backup/images/Harry Giles III.png',\n",
       " 'backup/images/Hassan Whiteside.png',\n",
       " 'backup/images/Ignas Brazdeikis.png',\n",
       " 'backup/images/Isaac Bonga.png',\n",
       " 'backup/images/Isaiah Hartenstein.png',\n",
       " 'backup/images/Isaiah Roby.png',\n",
       " 'backup/images/Ish Smith.png',\n",
       " 'backup/images/Ivica Zubac.png',\n",
       " 'backup/images/JJ Redick.png',\n",
       " 'backup/images/Ja Morant.png',\n",
       " 'backup/images/JaKarr Sampson.png',\n",
       " 'backup/images/JaMychal Green.png',\n",
       " 'backup/images/JaVale McGee.png',\n",
       " 'backup/images/Jabari Parker.png',\n",
       " 'backup/images/Jae Crowder.png',\n",
       " 'backup/images/Jahlil Okafor.png',\n",
       " 'backup/images/Jake Layman.png',\n",
       " 'backup/images/Jakob Poeltl.png',\n",
       " 'backup/images/Jalen Brunson.png',\n",
       " 'backup/images/Jalen McDaniels.png',\n",
       " 'backup/images/Jamal Murray.png',\n",
       " 'backup/images/James Ennis III.png',\n",
       " 'backup/images/James Harden.png',\n",
       " 'backup/images/James Johnson.png',\n",
       " 'backup/images/James Nunnally.png',\n",
       " 'backup/images/Jared Dudley.png',\n",
       " 'backup/images/Jared Harper.png',\n",
       " 'backup/images/Jaren Jackson Jr..png',\n",
       " 'backup/images/Jarred Vanderbilt.png',\n",
       " 'backup/images/Jarrell Brantley.png',\n",
       " 'backup/images/Jarrett Allen.png',\n",
       " 'backup/images/Jarrett Culver.png',\n",
       " 'backup/images/Javonte Green.png',\n",
       " 'backup/images/Jaxson Hayes.png',\n",
       " 'backup/images/Jaylen Brown.png',\n",
       " 'backup/images/Jaylen Hoard.png',\n",
       " 'backup/images/Jaylen Nowell.png',\n",
       " 'backup/images/Jayson Tatum.png',\n",
       " 'backup/images/Jeff Green.png',\n",
       " 'backup/images/Jeff Teague.png',\n",
       " 'backup/images/Jerami Grant.png',\n",
       " 'backup/images/Jeremiah Martin.png',\n",
       " 'backup/images/Jeremy Lamb.png',\n",
       " 'backup/images/Jevon Carter.png',\n",
       " 'backup/images/Jimmy Butler.png',\n",
       " 'backup/images/Joe Harris.png',\n",
       " 'backup/images/Joe Ingles.png',\n",
       " 'backup/images/Joel Embiid.png',\n",
       " 'backup/images/John Collins.png',\n",
       " 'backup/images/John Konchar.png',\n",
       " 'backup/images/John Wall.png',\n",
       " 'backup/images/Jonas Valanciunas.png',\n",
       " 'backup/images/Jonathan Isaac.png',\n",
       " 'backup/images/Jordan Bell.png',\n",
       " 'backup/images/Jordan Clarkson.png',\n",
       " 'backup/images/Jordan McLaughlin.png',\n",
       " 'backup/images/Jordan Poole.png',\n",
       " 'backup/images/Josh Hart.png',\n",
       " 'backup/images/Josh Jackson.png',\n",
       " 'backup/images/Josh Okogie.png',\n",
       " 'backup/images/Josh Richardson.png',\n",
       " 'backup/images/Jrue Holiday.png',\n",
       " 'backup/images/Juan Toscano-Anderson.png',\n",
       " 'backup/images/Juancho Hernangomez.png',\n",
       " 'backup/images/Julius Randle.png',\n",
       " 'backup/images/Justin Holiday.png',\n",
       " 'backup/images/Justin Jackson.png',\n",
       " 'backup/images/Justin James.png',\n",
       " 'backup/images/Justise Winslow.png',\n",
       " 'backup/images/Jusuf Nurkic.png',\n",
       " 'backup/images/Juwan Morgan.png',\n",
       " 'backup/images/KZ Okpala.png',\n",
       " 'backup/images/Karl-Anthony Towns.png',\n",
       " 'backup/images/Kawhi Leonard.png',\n",
       " 'backup/images/Keita Bates-Diop.png',\n",
       " 'backup/images/Kelan Martin.png',\n",
       " 'backup/images/Keldon Johnson.png',\n",
       " 'backup/images/Kelly Olynyk.png',\n",
       " 'backup/images/Kelly Oubre Jr..png',\n",
       " 'backup/images/Kemba Walker.png',\n",
       " 'backup/images/Kendrick Nunn.png',\n",
       " 'backup/images/Kenrich Williams.png',\n",
       " 'backup/images/Kent Bazemore.png',\n",
       " 'backup/images/Kentavious Caldwell-Pope.png',\n",
       " 'backup/images/Kevin Durant.png',\n",
       " 'backup/images/Kevin Huerter.png',\n",
       " 'backup/images/Kevin Knox II.png',\n",
       " 'backup/images/Kevin Love.png',\n",
       " 'backup/images/Kevin Porter Jr..png',\n",
       " 'backup/images/Kevon Looney.png',\n",
       " 'backup/images/Khem Birch.png',\n",
       " 'backup/images/Khris Middleton.png',\n",
       " 'backup/images/Khyri Thomas.png',\n",
       " 'backup/images/Klay Thompson.png',\n",
       " 'backup/images/Kostas Antetokounmpo.png',\n",
       " 'backup/images/Kris Dunn.png',\n",
       " 'backup/images/Kristaps Porzingis.png',\n",
       " 'backup/images/Kyle Anderson.png',\n",
       " 'backup/images/Kyle Guy.png',\n",
       " 'backup/images/Kyle Kuzma.png',\n",
       " 'backup/images/Kyle Lowry.png',\n",
       " 'backup/images/Kyrie Irving.png',\n",
       " 'backup/images/Landry Shamet.png',\n",
       " 'backup/images/Langston Galloway.png',\n",
       " 'backup/images/Larry Nance Jr..png',\n",
       " 'backup/images/Lauri Markkanen.png',\n",
       " 'backup/images/LeBron James.png',\n",
       " 'backup/images/Lonnie Walker IV.png',\n",
       " 'backup/images/Lonzo Ball.png',\n",
       " 'backup/images/Lou Williams.png',\n",
       " 'backup/images/Louis King.png',\n",
       " 'backup/images/Luguentz Dort.png',\n",
       " 'backup/images/Luka Doncic.png',\n",
       " 'backup/images/Luka Samanic.png',\n",
       " 'backup/images/Luke Kennard.png',\n",
       " 'backup/images/Luke Kornet.png',\n",
       " 'backup/images/Malcolm Brogdon.png',\n",
       " 'backup/images/Malik Beasley.png',\n",
       " 'backup/images/Malik Monk.png',\n",
       " 'backup/images/Marc Gasol.png',\n",
       " 'backup/images/Marcus Morris Sr..png',\n",
       " 'backup/images/Marcus Smart.png',\n",
       " 'backup/images/Markelle Fultz.png',\n",
       " 'backup/images/Markieff Morris.png',\n",
       " 'backup/images/Marvin Bagley III.png',\n",
       " 'backup/images/Mason Plumlee.png',\n",
       " 'backup/images/Matisse Thybulle.png',\n",
       " 'backup/images/Matt Thomas.png',\n",
       " 'backup/images/Matthew Dellavedova.png',\n",
       " 'backup/images/Maurice Harkless.png',\n",
       " 'backup/images/Max Strus.png',\n",
       " 'backup/images/Maxi Kleber.png',\n",
       " 'backup/images/Mfiondu Kabengele.png',\n",
       " 'backup/images/Michael Carter-Williams.png',\n",
       " 'backup/images/Michael Porter Jr..png',\n",
       " 'backup/images/Mikal Bridges.png',\n",
       " 'backup/images/Mike Conley.png',\n",
       " 'backup/images/Mike James.png',\n",
       " 'backup/images/Mike Muscala.png',\n",
       " 'backup/images/Mike Scott.png',\n",
       " 'backup/images/Miles Bridges.png',\n",
       " 'backup/images/Mitchell Robinson.png',\n",
       " 'backup/images/Miye Oni.png',\n",
       " 'backup/images/Mo Bamba.png',\n",
       " 'backup/images/Monte Morris.png',\n",
       " 'backup/images/Montrezl Harrell.png',\n",
       " 'backup/images/Moritz Wagner.png',\n",
       " 'backup/images/Moses Brown.png',\n",
       " 'backup/images/Mychal Mulder.png',\n",
       " 'backup/images/Myles Turner.png',\n",
       " 'backup/images/Nassir Little.png',\n",
       " 'backup/images/Naz Reid.png',\n",
       " 'backup/images/Nemanja Bjelica.png',\n",
       " 'backup/images/Nerlens Noel.png',\n",
       " 'backup/images/Nickeil Alexander-Walker.png',\n",
       " 'backup/images/Nico Mannion.png',\n",
       " 'backup/images/Nicolas Batum.png',\n",
       " 'backup/images/Nicolas Claxton.png',\n",
       " 'backup/images/Nicolo Melli.png',\n",
       " 'backup/images/Nikola Jokic.png',\n",
       " 'backup/images/Nikola Vucevic.png',\n",
       " 'backup/images/Norman Powell.png',\n",
       " 'backup/images/Norvel Pelle.png',\n",
       " 'backup/images/OG Anunoby.png',\n",
       " 'backup/images/Oshae Brissett.png',\n",
       " 'backup/images/Otto Porter Jr..png',\n",
       " 'backup/images/P.J. Tucker.png',\n",
       " 'backup/images/P.J. Washington.png',\n",
       " 'backup/images/PJ Dozier.png',\n",
       " 'backup/images/Pascal Siakam.png',\n",
       " 'backup/images/Pat Connaughton.png',\n",
       " 'backup/images/Patrick Beverley.png',\n",
       " 'backup/images/Patrick Patterson.png',\n",
       " 'backup/images/Patty Mills.png',\n",
       " 'backup/images/Paul George.png',\n",
       " 'backup/images/Paul Millsap.png',\n",
       " 'backup/images/Paul Watson.png',\n",
       " 'backup/images/Quinndary Weatherspoon.png',\n",
       " 'backup/images/RJ Barrett.png',\n",
       " 'backup/images/Rajon Rondo.png',\n",
       " 'backup/images/Raul Neto.png',\n",
       " 'backup/images/Rayjon Tucker.png',\n",
       " 'backup/images/Reggie Bullock.png',\n",
       " 'backup/images/Reggie Jackson.png',\n",
       " 'backup/images/Richaun Holmes.png',\n",
       " 'backup/images/Ricky Rubio.png',\n",
       " 'backup/images/Robert Covington.png',\n",
       " 'backup/images/Robert Williams III.png',\n",
       " 'backup/images/Robin Lopez.png',\n",
       " 'backup/images/Rodney Hood.png',\n",
       " 'backup/images/Rodney McGruder.png',\n",
       " 'backup/images/Romeo Langford.png',\n",
       " 'backup/images/Rondae Hollis-Jefferson.png',\n",
       " \"backup/images/Royce O'Neale.png\",\n",
       " 'backup/images/Rudy Gay.png',\n",
       " 'backup/images/Rudy Gobert.png',\n",
       " 'backup/images/Rui Hachimura.png',\n",
       " 'backup/images/Russell Westbrook.png',\n",
       " 'backup/images/Ryan Arcidiacono.png',\n",
       " 'backup/images/Sean McDermott.png',\n",
       " 'backup/images/Sekou Doumbouya.png',\n",
       " 'backup/images/Semi Ojeleye.png',\n",
       " 'backup/images/Serge Ibaka.png',\n",
       " 'backup/images/Seth Curry.png',\n",
       " 'backup/images/Shai Gilgeous-Alexander.png',\n",
       " 'backup/images/Shake Milton.png',\n",
       " 'backup/images/Shaquille Harrison.png',\n",
       " 'backup/images/Sindarius Thornwell.png',\n",
       " 'backup/images/Solomon Hill.png',\n",
       " 'backup/images/Spencer Dinwiddie.png',\n",
       " 'backup/images/Stanley Johnson.png',\n",
       " 'backup/images/Stephen Curry.png',\n",
       " 'backup/images/Sterling Brown.png',\n",
       " 'backup/images/Steven Adams.png',\n",
       " 'backup/images/Svi Mykhailiuk.png',\n",
       " 'backup/images/T.J. Leaf.png',\n",
       " 'backup/images/T.J. McConnell.png',\n",
       " 'backup/images/T.J. Warren.png',\n",
       " 'backup/images/Tacko Fall.png',\n",
       " 'backup/images/Taj Gibson.png',\n",
       " 'backup/images/Talen Horton-Tucker.png',\n",
       " 'backup/images/Taurean Prince.png',\n",
       " 'backup/images/Terance Mann.png',\n",
       " 'backup/images/Terence Davis.png',\n",
       " 'backup/images/Terrence Ross.png',\n",
       " 'backup/images/Terry Rozier.png',\n",
       " 'backup/images/Thaddeus Young.png',\n",
       " 'backup/images/Thanasis Antetokounmpo.png',\n",
       " 'backup/images/Theo Pinson.png',\n",
       " 'backup/images/Thomas Bryant.png',\n",
       " 'backup/images/Tim Frazier.png',\n",
       " 'backup/images/Tim Hardaway Jr..png',\n",
       " 'backup/images/Timothe Luwawu-Cabarrot.png',\n",
       " 'backup/images/Tobias Harris.png',\n",
       " 'backup/images/Tomas Satoransky.png',\n",
       " 'backup/images/Tony Bradley.png',\n",
       " 'backup/images/Tony Snell.png',\n",
       " 'backup/images/Torrey Craig.png',\n",
       " 'backup/images/Trae Young.png',\n",
       " 'backup/images/Tremont Waters.png',\n",
       " 'backup/images/Trevor Ariza.png',\n",
       " 'backup/images/Trey Burke.png',\n",
       " 'backup/images/Trey Lyles.png',\n",
       " 'backup/images/Tristan Thompson.png',\n",
       " 'backup/images/Troy Brown Jr..png',\n",
       " 'backup/images/Ty Jerome.png',\n",
       " 'backup/images/Ty-Shon Alexander.png',\n",
       " 'backup/images/Tyler Cook.png',\n",
       " 'backup/images/Tyler Herro.png',\n",
       " 'backup/images/Tyler Johnson.png',\n",
       " 'backup/images/Tyus Jones.png',\n",
       " 'backup/images/Udonis Haslem.png',\n",
       " 'backup/images/Victor Oladipo.png',\n",
       " 'backup/images/Vlatko Cancar.png',\n",
       " 'backup/images/Wayne Ellington.png',\n",
       " 'backup/images/Wendell Carter Jr..png',\n",
       " 'backup/images/Wenyen Gabriel.png',\n",
       " 'backup/images/Wes Iwundu.png',\n",
       " 'backup/images/Wesley Matthews.png',\n",
       " 'backup/images/Will Barton.png',\n",
       " 'backup/images/Willie Cauley-Stein.png',\n",
       " 'backup/images/Willy Hernangomez.png',\n",
       " 'backup/images/Yogi Ferrell.png',\n",
       " 'backup/images/Yuta Watanabe.png',\n",
       " 'backup/images/Zach Collins.png',\n",
       " 'backup/images/Zach LaVine.png',\n",
       " 'backup/images/Zion Williamson.png',\n",
       " 'backup/one_player_gamelog.csv',\n",
       " 'images/docs/aws-defaultvpc.PNG',\n",
       " 'images/docs/aws-dev-diagram-v0.png',\n",
       " 'images/docs/aws-dev-diagram-v1.png',\n",
       " 'images/docs/aws-dev-diagram-v2.png',\n",
       " 'images/docs/aws-ec2-connection.PNG',\n",
       " 'images/docs/aws-ec2-insertdata.PNG',\n",
       " 'images/docs/aws-ec2-playergamelog.PNG',\n",
       " 'images/docs/aws-ec2-vscode.PNG',\n",
       " 'images/docs/aws-git-clone.PNG',\n",
       " 'images/docs/aws-igw.PNG',\n",
       " 'images/docs/aws-rds-creation.PNG',\n",
       " 'images/docs/aws-rds-local-createtable.PNG',\n",
       " 'images/docs/aws-rds-pgadmin.PNG',\n",
       " 'images/docs/aws-rtb.PNG',\n",
       " 'images/docs/aws-s3-boto3-creation.PNG',\n",
       " 'images/docs/aws-s3-bucket-nbaflow.PNG',\n",
       " 'images/docs/aws-s3-bucket-public.PNG',\n",
       " 'images/docs/aws-s3-imgs.PNG',\n",
       " 'images/docs/aws-s3-not-public.PNG',\n",
       " 'images/docs/aws-sg-creation.PNG',\n",
       " 'images/docs/aws-ssh-config.PNG',\n",
       " 'images/docs/aws-subnets.PNG',\n",
       " 'images/docs/aws-vpcprojectdev.PNG',\n",
       " 'images/docs/aws-vscode-sshextension.PNG',\n",
       " 'images/docs/local-pgadmin-script.PNG',\n",
       " 'images/docs/local-pgadmin-server.PNG',\n",
       " 'images/docs/local-psycopg2-conn.PNG',\n",
       " 'images/players/Aaron Gordon.png',\n",
       " 'images/players/Aaron Holiday.png',\n",
       " 'images/players/Abdel Nader.png',\n",
       " 'images/players/Adam Mokoka.png',\n",
       " 'images/players/Al Horford.png',\n",
       " 'images/players/Al-Farouq Aminu.png',\n",
       " 'images/players/Alec Burks.png',\n",
       " 'images/players/Alen Smailagic.png',\n",
       " 'images/players/Alex Caruso.png',\n",
       " 'images/players/Alex Len.png',\n",
       " 'images/players/Alfonzo McKinnie.png',\n",
       " 'images/players/Alize Johnson.png',\n",
       " 'images/players/Amida Brimah.png',\n",
       " 'images/players/Amir Coffey.png',\n",
       " 'images/players/Andre Drummond.png',\n",
       " 'images/players/Andre Iguodala.png',\n",
       " 'images/players/Andrew Wiggins.png',\n",
       " 'images/players/Anfernee Simons.png',\n",
       " 'images/players/Anthony Davis.png',\n",
       " 'images/players/Anthony Tolliver.png',\n",
       " 'images/players/Aron Baynes.png',\n",
       " 'images/players/Austin Rivers.png',\n",
       " 'images/players/Avery Bradley.png',\n",
       " 'images/players/Axel Toupane.png',\n",
       " 'images/players/Bam Adebayo.png',\n",
       " 'images/players/Ben McLemore.png',\n",
       " 'images/players/Ben Simmons.png',\n",
       " 'images/players/Bismack Biyombo.png',\n",
       " 'images/players/Blake Griffin.png',\n",
       " 'images/players/Boban Marjanovic.png',\n",
       " 'images/players/Bobby Portis.png',\n",
       " 'images/players/Bogdan Bogdanovic.png',\n",
       " 'images/players/Bojan Bogdanovic.png',\n",
       " 'images/players/Bol Bol.png',\n",
       " 'images/players/Brad Wanamaker.png',\n",
       " 'images/players/Bradley Beal.png',\n",
       " 'images/players/Brandon Clarke.png',\n",
       " 'images/players/Brandon Goodwin.png',\n",
       " 'images/players/Brandon Ingram.png',\n",
       " 'images/players/Brook Lopez.png',\n",
       " 'images/players/Bruce Brown.png',\n",
       " 'images/players/Bruno Fernando.png',\n",
       " 'images/players/Bryn Forbes.png',\n",
       " 'images/players/Buddy Hield.png',\n",
       " 'images/players/CJ McCollum.png',\n",
       " 'images/players/Caleb Martin.png',\n",
       " 'images/players/Cam Reddish.png',\n",
       " 'images/players/Cameron Johnson.png',\n",
       " 'images/players/Cameron Payne.png',\n",
       " 'images/players/Caris LeVert.png',\n",
       " 'images/players/Carmelo Anthony.png',\n",
       " 'images/players/Carsen Edwards.png',\n",
       " 'images/players/Cedi Osman.png',\n",
       " 'images/players/Chandler Hutchison.png',\n",
       " 'images/players/Charlie Brown Jr..png',\n",
       " 'images/players/Chasson Randle.png',\n",
       " 'images/players/Chimezie Metu.png',\n",
       " 'images/players/Chris Boucher.png',\n",
       " 'images/players/Chris Chiozza.png',\n",
       " 'images/players/Chris Paul.png',\n",
       " 'images/players/Christian Wood.png',\n",
       " 'images/players/Clint Capela.png',\n",
       " 'images/players/Coby White.png',\n",
       " 'images/players/Cody Martin.png',\n",
       " 'images/players/Cody Zeller.png',\n",
       " 'images/players/Collin Sexton.png',\n",
       " 'images/players/Cory Joseph.png',\n",
       " 'images/players/Cristiano Felicio.png',\n",
       " \"images/players/D'Angelo Russell.png\",\n",
       " 'images/players/D.J. Augustin.png',\n",
       " 'images/players/D.J. Wilson.png',\n",
       " 'images/players/DaQuan Jeffries.png',\n",
       " 'images/players/Damian Jones.png',\n",
       " 'images/players/Damian Lillard.png',\n",
       " 'images/players/Damion Lee.png',\n",
       " 'images/players/Damyean Dotson.png',\n",
       " 'images/players/Daniel Gafford.png',\n",
       " 'images/players/Daniel Theis.png',\n",
       " 'images/players/Danilo Gallinari.png',\n",
       " 'images/players/Danny Green.png',\n",
       " 'images/players/Dante Exum.png',\n",
       " 'images/players/Danuel House Jr..png',\n",
       " 'images/players/Dario Saric.png',\n",
       " 'images/players/Darius Bazley.png',\n",
       " 'images/players/Darius Garland.png',\n",
       " 'images/players/David Nwaba.png',\n",
       " 'images/players/Davis Bertans.png',\n",
       " \"images/players/De'Aaron Fox.png\",\n",
       " \"images/players/De'Andre Hunter.png\",\n",
       " \"images/players/De'Anthony Melton.png\",\n",
       " 'images/players/DeAndre Jordan.png',\n",
       " \"images/players/DeAndre' Bembry.png\",\n",
       " 'images/players/DeMar DeRozan.png',\n",
       " 'images/players/DeMarcus Cousins.png',\n",
       " 'images/players/Dean Wade.png',\n",
       " 'images/players/Deandre Ayton.png',\n",
       " 'images/players/Dejounte Murray.png',\n",
       " 'images/players/Delon Wright.png',\n",
       " 'images/players/Dennis Schroder.png',\n",
       " 'images/players/Dennis Smith Jr..png',\n",
       " 'images/players/Denzel Valentine.png',\n",
       " 'images/players/Derrick Favors.png',\n",
       " 'images/players/Derrick Jones Jr..png',\n",
       " 'images/players/Derrick Rose.png',\n",
       " 'images/players/Derrick White.png',\n",
       " 'images/players/Devin Booker.png',\n",
       " 'images/players/Devontae Cacok.png',\n",
       " \"images/players/Devonte' Graham.png\",\n",
       " 'images/players/Dewayne Dedmon.png',\n",
       " 'images/players/Dillon Brooks.png',\n",
       " 'images/players/Domantas Sabonis.png',\n",
       " 'images/players/Donovan Mitchell.png',\n",
       " 'images/players/Donte DiVincenzo.png',\n",
       " 'images/players/Dorian Finney-Smith.png',\n",
       " 'images/players/Doug McDermott.png',\n",
       " 'images/players/Draymond Green.png',\n",
       " 'images/players/Drew Eubanks.png',\n",
       " 'images/players/Duncan Robinson.png',\n",
       " 'images/players/Dwayne Bacon.png',\n",
       " 'images/players/Dwight Howard.png',\n",
       " 'images/players/Dwight Powell.png',\n",
       " \"images/players/E'Twaun Moore.png\",\n",
       " 'images/players/Ed Davis.png',\n",
       " 'images/players/Edmond Sumner.png',\n",
       " 'images/players/Elfrid Payton.png',\n",
       " 'images/players/Enes Kanter.png',\n",
       " 'images/players/Eric Bledsoe.png',\n",
       " 'images/players/Eric Gordon.png',\n",
       " 'images/players/Eric Paschall.png',\n",
       " 'images/players/Ersan Ilyasova.png',\n",
       " 'images/players/Evan Fournier.png',\n",
       " 'images/players/Frank Jackson.png',\n",
       " 'images/players/Frank Kaminsky.png',\n",
       " 'images/players/Frank Ntilikina.png',\n",
       " 'images/players/Fred VanVleet.png',\n",
       " 'images/players/Furkan Korkmaz.png',\n",
       " 'images/players/Gabe Vincent.png',\n",
       " 'images/players/Garrett Temple.png',\n",
       " 'images/players/Garrison Mathews.png',\n",
       " 'images/players/Gary Clark.png',\n",
       " 'images/players/Gary Harris.png',\n",
       " 'images/players/Gary Payton II.png',\n",
       " 'images/players/Gary Trent Jr..png',\n",
       " 'images/players/George Hill.png',\n",
       " 'images/players/Georges Niang.png',\n",
       " 'images/players/Giannis Antetokounmpo.png',\n",
       " 'images/players/Goga Bitadze.png',\n",
       " 'images/players/Goran Dragic.png',\n",
       " 'images/players/Gordon Hayward.png',\n",
       " 'images/players/Gorgui Dieng.png',\n",
       " 'images/players/Grant Williams.png',\n",
       " 'images/players/Grayson Allen.png',\n",
       " 'images/players/Hamidou Diallo.png',\n",
       " 'images/players/Harrison Barnes.png',\n",
       " 'images/players/Harry Giles III.png',\n",
       " 'images/players/Hassan Whiteside.png',\n",
       " 'images/players/Ignas Brazdeikis.png',\n",
       " 'images/players/Isaac Bonga.png',\n",
       " 'images/players/Isaiah Hartenstein.png',\n",
       " 'images/players/Isaiah Roby.png',\n",
       " 'images/players/Ish Smith.png',\n",
       " 'images/players/Ivica Zubac.png',\n",
       " 'images/players/JJ Redick.png',\n",
       " 'images/players/Ja Morant.png',\n",
       " 'images/players/JaKarr Sampson.png',\n",
       " 'images/players/JaMychal Green.png',\n",
       " 'images/players/JaVale McGee.png',\n",
       " 'images/players/Jabari Parker.png',\n",
       " 'images/players/Jae Crowder.png',\n",
       " 'images/players/Jahlil Okafor.png',\n",
       " 'images/players/Jake Layman.png',\n",
       " 'images/players/Jakob Poeltl.png',\n",
       " 'images/players/Jalen Brunson.png',\n",
       " 'images/players/Jalen McDaniels.png',\n",
       " 'images/players/Jamal Murray.png',\n",
       " 'images/players/James Ennis III.png',\n",
       " 'images/players/James Harden.png',\n",
       " 'images/players/James Johnson.png',\n",
       " 'images/players/James Nunnally.png',\n",
       " 'images/players/Jared Dudley.png',\n",
       " 'images/players/Jared Harper.png',\n",
       " 'images/players/Jaren Jackson Jr..png',\n",
       " 'images/players/Jarred Vanderbilt.png',\n",
       " 'images/players/Jarrell Brantley.png',\n",
       " 'images/players/Jarrett Allen.png',\n",
       " 'images/players/Jarrett Culver.png',\n",
       " 'images/players/Javonte Green.png',\n",
       " 'images/players/Jaxson Hayes.png',\n",
       " 'images/players/Jaylen Brown.png',\n",
       " 'images/players/Jaylen Hoard.png',\n",
       " 'images/players/Jaylen Nowell.png',\n",
       " 'images/players/Jayson Tatum.png',\n",
       " 'images/players/Jeff Green.png',\n",
       " 'images/players/Jeff Teague.png',\n",
       " 'images/players/Jerami Grant.png',\n",
       " 'images/players/Jeremiah Martin.png',\n",
       " 'images/players/Jeremy Lamb.png',\n",
       " 'images/players/Jevon Carter.png',\n",
       " 'images/players/Jimmy Butler.png',\n",
       " 'images/players/Joe Harris.png',\n",
       " 'images/players/Joe Ingles.png',\n",
       " 'images/players/Joel Embiid.png',\n",
       " 'images/players/John Collins.png',\n",
       " 'images/players/John Konchar.png',\n",
       " 'images/players/John Wall.png',\n",
       " 'images/players/Jonas Valanciunas.png',\n",
       " 'images/players/Jonathan Isaac.png',\n",
       " 'images/players/Jordan Bell.png',\n",
       " 'images/players/Jordan Clarkson.png',\n",
       " 'images/players/Jordan McLaughlin.png',\n",
       " 'images/players/Jordan Poole.png',\n",
       " 'images/players/Josh Hart.png',\n",
       " 'images/players/Josh Jackson.png',\n",
       " 'images/players/Josh Okogie.png',\n",
       " 'images/players/Josh Richardson.png',\n",
       " 'images/players/Jrue Holiday.png',\n",
       " 'images/players/Juan Toscano-Anderson.png',\n",
       " 'images/players/Juancho Hernangomez.png',\n",
       " 'images/players/Julius Randle.png',\n",
       " 'images/players/Justin Holiday.png',\n",
       " 'images/players/Justin Jackson.png',\n",
       " 'images/players/Justin James.png',\n",
       " 'images/players/Justise Winslow.png',\n",
       " 'images/players/Jusuf Nurkic.png',\n",
       " 'images/players/Juwan Morgan.png',\n",
       " 'images/players/KZ Okpala.png',\n",
       " 'images/players/Karl-Anthony Towns.png',\n",
       " 'images/players/Kawhi Leonard.png',\n",
       " 'images/players/Keita Bates-Diop.png',\n",
       " 'images/players/Kelan Martin.png',\n",
       " 'images/players/Keldon Johnson.png',\n",
       " 'images/players/Kelly Olynyk.png',\n",
       " 'images/players/Kelly Oubre Jr..png',\n",
       " 'images/players/Kemba Walker.png',\n",
       " 'images/players/Kendrick Nunn.png',\n",
       " 'images/players/Kenrich Williams.png',\n",
       " 'images/players/Kent Bazemore.png',\n",
       " 'images/players/Kentavious Caldwell-Pope.png',\n",
       " 'images/players/Kevin Durant.png',\n",
       " 'images/players/Kevin Huerter.png',\n",
       " 'images/players/Kevin Knox II.png',\n",
       " 'images/players/Kevin Love.png',\n",
       " 'images/players/Kevin Porter Jr..png',\n",
       " 'images/players/Kevon Looney.png',\n",
       " 'images/players/Khem Birch.png',\n",
       " 'images/players/Khris Middleton.png',\n",
       " 'images/players/Khyri Thomas.png',\n",
       " 'images/players/Klay Thompson.png',\n",
       " 'images/players/Kostas Antetokounmpo.png',\n",
       " 'images/players/Kris Dunn.png',\n",
       " 'images/players/Kristaps Porzingis.png',\n",
       " 'images/players/Kyle Anderson.png',\n",
       " 'images/players/Kyle Guy.png',\n",
       " 'images/players/Kyle Kuzma.png',\n",
       " 'images/players/Kyle Lowry.png',\n",
       " 'images/players/Kyrie Irving.png',\n",
       " 'images/players/Landry Shamet.png',\n",
       " 'images/players/Langston Galloway.png',\n",
       " 'images/players/Larry Nance Jr..png',\n",
       " 'images/players/Lauri Markkanen.png',\n",
       " 'images/players/LeBron James.png',\n",
       " 'images/players/Lonnie Walker IV.png',\n",
       " 'images/players/Lonzo Ball.png',\n",
       " 'images/players/Lou Williams.png',\n",
       " 'images/players/Louis King.png',\n",
       " 'images/players/Luguentz Dort.png',\n",
       " 'images/players/Luka Doncic.png',\n",
       " 'images/players/Luka Samanic.png',\n",
       " 'images/players/Luke Kennard.png',\n",
       " 'images/players/Luke Kornet.png',\n",
       " 'images/players/Malcolm Brogdon.png',\n",
       " 'images/players/Malik Beasley.png',\n",
       " 'images/players/Malik Monk.png',\n",
       " 'images/players/Marc Gasol.png',\n",
       " 'images/players/Marcus Morris Sr..png',\n",
       " 'images/players/Marcus Smart.png',\n",
       " 'images/players/Markelle Fultz.png',\n",
       " 'images/players/Markieff Morris.png',\n",
       " 'images/players/Marvin Bagley III.png',\n",
       " 'images/players/Mason Plumlee.png',\n",
       " 'images/players/Matisse Thybulle.png',\n",
       " 'images/players/Matt Thomas.png',\n",
       " 'images/players/Matthew Dellavedova.png',\n",
       " 'images/players/Maurice Harkless.png',\n",
       " 'images/players/Max Strus.png',\n",
       " 'images/players/Maxi Kleber.png',\n",
       " 'images/players/Mfiondu Kabengele.png',\n",
       " 'images/players/Michael Carter-Williams.png',\n",
       " 'images/players/Michael Porter Jr..png',\n",
       " 'images/players/Mikal Bridges.png',\n",
       " 'images/players/Mike Conley.png',\n",
       " 'images/players/Mike James.png',\n",
       " 'images/players/Mike Muscala.png',\n",
       " 'images/players/Mike Scott.png',\n",
       " 'images/players/Miles Bridges.png',\n",
       " 'images/players/Mitchell Robinson.png',\n",
       " 'images/players/Miye Oni.png',\n",
       " 'images/players/Mo Bamba.png',\n",
       " 'images/players/Monte Morris.png',\n",
       " 'images/players/Montrezl Harrell.png',\n",
       " 'images/players/Moritz Wagner.png',\n",
       " 'images/players/Moses Brown.png',\n",
       " 'images/players/Mychal Mulder.png',\n",
       " 'images/players/Myles Turner.png',\n",
       " 'images/players/Nassir Little.png',\n",
       " 'images/players/Naz Reid.png',\n",
       " 'images/players/Nemanja Bjelica.png',\n",
       " 'images/players/Nerlens Noel.png',\n",
       " 'images/players/Nickeil Alexander-Walker.png',\n",
       " 'images/players/Nico Mannion.png',\n",
       " 'images/players/Nicolas Batum.png',\n",
       " 'images/players/Nicolas Claxton.png',\n",
       " 'images/players/Nicolo Melli.png',\n",
       " 'images/players/Nikola Jokic.png',\n",
       " 'images/players/Nikola Vucevic.png',\n",
       " 'images/players/Norman Powell.png',\n",
       " 'images/players/Norvel Pelle.png',\n",
       " 'images/players/OG Anunoby.png',\n",
       " 'images/players/Oshae Brissett.png',\n",
       " 'images/players/Otto Porter Jr..png',\n",
       " 'images/players/P.J. Tucker.png',\n",
       " 'images/players/P.J. Washington.png',\n",
       " 'images/players/PJ Dozier.png',\n",
       " 'images/players/Pascal Siakam.png',\n",
       " 'images/players/Pat Connaughton.png',\n",
       " 'images/players/Patrick Beverley.png',\n",
       " 'images/players/Patrick Patterson.png',\n",
       " 'images/players/Patty Mills.png',\n",
       " 'images/players/Paul George.png',\n",
       " 'images/players/Paul Millsap.png',\n",
       " 'images/players/Paul Watson.png',\n",
       " 'images/players/Quinndary Weatherspoon.png',\n",
       " 'images/players/RJ Barrett.png',\n",
       " 'images/players/Rajon Rondo.png',\n",
       " 'images/players/Raul Neto.png',\n",
       " 'images/players/Rayjon Tucker.png',\n",
       " 'images/players/Reggie Bullock.png',\n",
       " 'images/players/Reggie Jackson.png',\n",
       " 'images/players/Richaun Holmes.png',\n",
       " 'images/players/Ricky Rubio.png',\n",
       " 'images/players/Robert Covington.png',\n",
       " 'images/players/Robert Williams III.png',\n",
       " 'images/players/Robin Lopez.png',\n",
       " 'images/players/Rodney Hood.png',\n",
       " 'images/players/Rodney McGruder.png',\n",
       " 'images/players/Romeo Langford.png',\n",
       " 'images/players/Rondae Hollis-Jefferson.png',\n",
       " \"images/players/Royce O'Neale.png\",\n",
       " 'images/players/Rudy Gay.png',\n",
       " 'images/players/Rudy Gobert.png',\n",
       " 'images/players/Rui Hachimura.png',\n",
       " 'images/players/Russell Westbrook.png',\n",
       " 'images/players/Ryan Arcidiacono.png',\n",
       " 'images/players/Sean McDermott.png',\n",
       " 'images/players/Sekou Doumbouya.png',\n",
       " 'images/players/Semi Ojeleye.png',\n",
       " 'images/players/Serge Ibaka.png',\n",
       " 'images/players/Seth Curry.png',\n",
       " 'images/players/Shai Gilgeous-Alexander.png',\n",
       " 'images/players/Shake Milton.png',\n",
       " 'images/players/Shaquille Harrison.png',\n",
       " 'images/players/Sindarius Thornwell.png',\n",
       " 'images/players/Solomon Hill.png',\n",
       " 'images/players/Spencer Dinwiddie.png',\n",
       " 'images/players/Stanley Johnson.png',\n",
       " 'images/players/Stephen Curry.png',\n",
       " 'images/players/Sterling Brown.png',\n",
       " 'images/players/Steven Adams.png',\n",
       " 'images/players/Svi Mykhailiuk.png',\n",
       " 'images/players/T.J. Leaf.png',\n",
       " 'images/players/T.J. McConnell.png',\n",
       " 'images/players/T.J. Warren.png',\n",
       " 'images/players/Tacko Fall.png',\n",
       " 'images/players/Taj Gibson.png',\n",
       " 'images/players/Talen Horton-Tucker.png',\n",
       " 'images/players/Taurean Prince.png',\n",
       " 'images/players/Terance Mann.png',\n",
       " 'images/players/Terence Davis.png',\n",
       " 'images/players/Terrence Ross.png',\n",
       " 'images/players/Terry Rozier.png',\n",
       " 'images/players/Thaddeus Young.png',\n",
       " 'images/players/Thanasis Antetokounmpo.png',\n",
       " 'images/players/Theo Pinson.png',\n",
       " 'images/players/Thomas Bryant.png',\n",
       " 'images/players/Tim Frazier.png',\n",
       " 'images/players/Tim Hardaway Jr..png',\n",
       " 'images/players/Timothe Luwawu-Cabarrot.png',\n",
       " 'images/players/Tobias Harris.png',\n",
       " 'images/players/Tomas Satoransky.png',\n",
       " 'images/players/Tony Bradley.png',\n",
       " 'images/players/Tony Snell.png',\n",
       " 'images/players/Torrey Craig.png',\n",
       " 'images/players/Trae Young.png',\n",
       " 'images/players/Tremont Waters.png',\n",
       " 'images/players/Trevor Ariza.png',\n",
       " 'images/players/Trey Burke.png',\n",
       " 'images/players/Trey Lyles.png',\n",
       " 'images/players/Tristan Thompson.png',\n",
       " 'images/players/Troy Brown Jr..png',\n",
       " 'images/players/Ty Jerome.png',\n",
       " 'images/players/Ty-Shon Alexander.png',\n",
       " 'images/players/Tyler Cook.png',\n",
       " 'images/players/Tyler Herro.png',\n",
       " 'images/players/Tyler Johnson.png',\n",
       " 'images/players/Tyus Jones.png',\n",
       " 'images/players/Udonis Haslem.png',\n",
       " 'images/players/Victor Oladipo.png',\n",
       " 'images/players/Vlatko Cancar.png',\n",
       " 'images/players/Wayne Ellington.png',\n",
       " 'images/players/Wendell Carter Jr..png',\n",
       " 'images/players/Wenyen Gabriel.png',\n",
       " 'images/players/Wes Iwundu.png',\n",
       " 'images/players/Wesley Matthews.png',\n",
       " 'images/players/Will Barton.png',\n",
       " 'images/players/Willie Cauley-Stein.png',\n",
       " 'images/players/Willy Hernangomez.png',\n",
       " 'images/players/Yogi Ferrell.png',\n",
       " 'images/players/Yuta Watanabe.png',\n",
       " 'images/players/Zach Collins.png',\n",
       " 'images/players/Zach LaVine.png',\n",
       " 'images/players/Zion Williamson.png',\n",
       " 'images/unknown.png']"
      ]
     },
     "execution_count": 40,
     "metadata": {},
     "output_type": "execute_result"
    }
   ],
   "source": [
    "keys = [obj.key for obj in bucket.objects.filter(Prefix='')]\n",
    "keys"
   ]
  },
  {
   "cell_type": "code",
   "execution_count": 30,
   "id": "f32e2c37",
   "metadata": {
    "ExecuteTime": {
     "end_time": "2021-08-28T02:00:24.843743Z",
     "start_time": "2021-08-28T02:00:24.829749Z"
    }
   },
   "outputs": [],
   "source": [
    "local_dir = os.path.join(os.getcwd(), 's3_temp')\n",
    "for dirname in prefixes:\n",
    "    os.makedirs(os.path.join(local_dir, dirname))"
   ]
  },
  {
   "cell_type": "code",
   "execution_count": 28,
   "id": "2895e372",
   "metadata": {
    "ExecuteTime": {
     "end_time": "2021-08-28T01:59:31.110920Z",
     "start_time": "2021-08-28T01:59:31.090938Z"
    }
   },
   "outputs": [],
   "source": [
    "local_dir = os.path.join(os.getcwd(), 's3_temp')\n",
    "for dirname in prefixes:\n",
    "    try:\n",
    "        os.makedirs(os.path.join(local_dir, dirname))\n",
    "    except FileExistsError as fee:\n",
    "        continue"
   ]
  },
  {
   "cell_type": "code",
   "execution_count": null,
   "id": "7e5caab2",
   "metadata": {},
   "outputs": [],
   "source": [
    "keys = [obj.key for obj in bucket.objects.all()]"
   ]
  },
  {
   "cell_type": "code",
   "execution_count": 18,
   "id": "eb5fc85a",
   "metadata": {
    "ExecuteTime": {
     "end_time": "2021-08-28T01:54:33.833332Z",
     "start_time": "2021-08-28T01:54:33.818372Z"
    }
   },
   "outputs": [
    {
     "data": {
      "text/plain": [
       "'backup'"
      ]
     },
     "execution_count": 18,
     "metadata": {},
     "output_type": "execute_result"
    }
   ],
   "source": [
    "os.path.dirname(keys[10])"
   ]
  },
  {
   "cell_type": "code",
   "execution_count": 19,
   "id": "d48f498b",
   "metadata": {
    "ExecuteTime": {
     "end_time": "2021-08-28T01:54:39.607416Z",
     "start_time": "2021-08-28T01:54:39.600436Z"
    }
   },
   "outputs": [
    {
     "data": {
      "text/plain": [
       "'backup/images'"
      ]
     },
     "execution_count": 19,
     "metadata": {},
     "output_type": "execute_result"
    }
   ],
   "source": [
    "os.path.dirname(keys[50])"
   ]
  },
  {
   "cell_type": "code",
   "execution_count": 16,
   "id": "03ed55ab",
   "metadata": {
    "ExecuteTime": {
     "end_time": "2021-08-28T01:53:33.913677Z",
     "start_time": "2021-08-28T01:53:33.893224Z"
    }
   },
   "outputs": [
    {
     "data": {
      "text/plain": [
       "['backup']"
      ]
     },
     "execution_count": 16,
     "metadata": {},
     "output_type": "execute_result"
    }
   ],
   "source": [
    "keys[10].split('/')[:-1]"
   ]
  },
  {
   "cell_type": "code",
   "execution_count": 17,
   "id": "01d0fe29",
   "metadata": {
    "ExecuteTime": {
     "end_time": "2021-08-28T01:53:39.950389Z",
     "start_time": "2021-08-28T01:53:39.931483Z"
    }
   },
   "outputs": [
    {
     "data": {
      "text/plain": [
       "['backup', 'images']"
      ]
     },
     "execution_count": 17,
     "metadata": {},
     "output_type": "execute_result"
    }
   ],
   "source": [
    "keys[50].split('/')[:-1]"
   ]
  },
  {
   "cell_type": "code",
   "execution_count": 12,
   "id": "8658c249",
   "metadata": {
    "ExecuteTime": {
     "end_time": "2021-08-28T01:53:03.407064Z",
     "start_time": "2021-08-28T01:53:03.126467Z"
    }
   },
   "outputs": [
    {
     "data": {
      "text/plain": [
       "['backup/', 'images/']"
      ]
     },
     "execution_count": 12,
     "metadata": {},
     "output_type": "execute_result"
    }
   ],
   "source": [
    "def get_list_of_prefixes_from_prefix(bucket, prefix):\n",
    "    \"\"\"gets list of prefixes for given bucket and prefix\"\"\"\n",
    "    list_of_prefixes = []\n",
    "    paginator = boto3.resource('s3').meta.client.get_paginator('list_objects')\n",
    "    for result in paginator.paginate(Bucket=bucket, Prefix=prefix, Delimiter='/'):\n",
    "        # print(result)\n",
    "        if 'CommonPrefixes' in result:\n",
    "            prefixes = [f['Prefix'] for f in result['CommonPrefixes']]\n",
    "            list_of_prefixes.extend(prefixes)\n",
    "    return list_of_prefixes\n",
    "\n",
    "list_of_prefixes = get_list_of_prefixes_from_prefix('nbaflow-files', '')\n",
    "list_of_prefixes"
   ]
  },
  {
   "cell_type": "code",
   "execution_count": null,
   "id": "991a70d2",
   "metadata": {},
   "outputs": [],
   "source": []
  }
 ],
 "metadata": {
  "hide_input": false,
  "kernelspec": {
   "display_name": "Python 3 (ipykernel)",
   "language": "python",
   "name": "python3"
  },
  "language_info": {
   "codemirror_mode": {
    "name": "ipython",
    "version": 3
   },
   "file_extension": ".py",
   "mimetype": "text/x-python",
   "name": "python",
   "nbconvert_exporter": "python",
   "pygments_lexer": "ipython3",
   "version": "3.8.10"
  },
  "toc": {
   "base_numbering": 1,
   "nav_menu": {},
   "number_sections": true,
   "sideBar": true,
   "skip_h1_title": false,
   "title_cell": "Table of Contents",
   "title_sidebar": "Contents",
   "toc_cell": true,
   "toc_position": {},
   "toc_section_display": true,
   "toc_window_display": true
  },
  "varInspector": {
   "cols": {
    "lenName": 16,
    "lenType": 16,
    "lenVar": 40
   },
   "kernels_config": {
    "python": {
     "delete_cmd_postfix": "",
     "delete_cmd_prefix": "del ",
     "library": "var_list.py",
     "varRefreshCmd": "print(var_dic_list())"
    },
    "r": {
     "delete_cmd_postfix": ") ",
     "delete_cmd_prefix": "rm(",
     "library": "var_list.r",
     "varRefreshCmd": "cat(var_dic_list()) "
    }
   },
   "types_to_exclude": [
    "module",
    "function",
    "builtin_function_or_method",
    "instance",
    "_Feature"
   ],
   "window_display": false
  }
 },
 "nbformat": 4,
 "nbformat_minor": 5
}
