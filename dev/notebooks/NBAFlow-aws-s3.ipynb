{
 "cells": [
  {
   "cell_type": "markdown",
   "id": "be539a48",
   "metadata": {
    "toc": true
   },
   "source": [
    "<h1>Table of Contents<span class=\"tocSkip\"></span></h1>\n",
    "<div class=\"toc\"><ul class=\"toc-item\"><li><span><a href=\"#Introdução-e-Cenário\" data-toc-modified-id=\"Introdução-e-Cenário-1\"><span class=\"toc-item-num\">1&nbsp;&nbsp;</span>Introdução e Cenário</a></span><ul class=\"toc-item\"><li><span><a href=\"#Objetos-e-Elementos-do-Projeto\" data-toc-modified-id=\"Objetos-e-Elementos-do-Projeto-1.1\"><span class=\"toc-item-num\">1.1&nbsp;&nbsp;</span>Objetos e Elementos do Projeto</a></span></li></ul></li><li><span><a href=\"#Operações-com-Buckets-no-S3\" data-toc-modified-id=\"Operações-com-Buckets-no-S3-2\"><span class=\"toc-item-num\">2&nbsp;&nbsp;</span>Operações com Buckets no S3</a></span><ul class=\"toc-item\"><li><span><a href=\"#Via-Console\" data-toc-modified-id=\"Via-Console-2.1\"><span class=\"toc-item-num\">2.1&nbsp;&nbsp;</span>Via Console</a></span></li><li><span><a href=\"#Via-boto3\" data-toc-modified-id=\"Via-boto3-2.2\"><span class=\"toc-item-num\">2.2&nbsp;&nbsp;</span>Via boto3</a></span></li></ul></li><li><span><a href=\"#NBAFlow-+-boto3\" data-toc-modified-id=\"NBAFlow-+-boto3-3\"><span class=\"toc-item-num\">3&nbsp;&nbsp;</span>NBAFlow + boto3</a></span></li></ul></div>"
   ]
  },
  {
   "cell_type": "markdown",
   "id": "e2da04cc",
   "metadata": {},
   "source": [
    "# Introdução e Cenário"
   ]
  },
  {
   "cell_type": "markdown",
   "id": "e5324b5d",
   "metadata": {},
   "source": [
    "Este notebook tem por objetivo documentar e detalhar os passos realizados para a utilização do serviço **S3** (do inglês, _Simple Storage Service_) da AWS para o armazenamento de objetos gerados pelas funcionalidades do projeto [nbaflow](https://github.com/ThiagoPanini/nbaflow). Dentro da proposta de migração do projeto para uma arquitetura em nuvem, no notebook [NBAFlow-aws-migration](https://github.com/ThiagoPanini/nbaflow/blob/main/notebooks/NBAFlow-aws-migration.ipynb) foi proposta uma documentação completa sobre todas as etapas realizadas dentro do processo de utilização de um serviço de banco de dados relacional (RDS) conectado a um serviço computacional (EC2) para consultar dados de jogadores da NBA e, eventualmente, entregá-los por e-mail ao usuário.\n",
    "\n",
    "Como resultado dessa frente de migração, foi possível alcançar a seguinte arquitetura já testada e validada dentro dos propósitos iniciais estabelecidos:\n",
    "\n",
    "<div align=\"center\">\n",
    "    <br><img src=\"https://i.imgur.com/8uRYLEH.png\" alt=\"aws_diagram\">\n",
    "</div>\n",
    "\n",
    "Na prática, a instância EC2 possui scripts python clonados do repositório oficial do projeto no GitHub via SSH e, a partir deles, o desenvolvedor pode manualmente solicitar a execução para dois propósitos específicos:\n",
    "\n",
    "* _**insert_gamelog_data.py**_: lê um arquivo csv processado previamente e disponibilizado no diretório `data/` para realizar um processo de criação de tabela e ingestão de dados em um banco de dados RDS PostgreSQL.\n",
    "* _**player_gamelog_from_db.py**_: recebe parâmetros do usuário no prompt de comando (nome de um jogador e temporada válida da NBA) para construir uma query de consulta a ser executada no banco de dados. Os dados são retornados em um formato DataFrame e, opcionalmente, enviados por e-mail para um destinatário fornecido também manualmente.\n",
    "\n",
    "<div class=\"alert alert-block alert-info\">\n",
    "<b>Observação:</b> Até este ponto, ainda não foi possível construir uma lógica inteiramente voltada à APIs. Em outras palavras, todas as iterações usuário-código são feitas diretamente pelo prompt de comando e, futuramente, a ideia é que essa comunicação seja feita a partir de uma rota específica onde o usuário possa acessar e enviar suas solicitações de acordo com os filtros desejados. Além disso, ainda existem oportunidades de otimizar esse fluxo a partir da utilização de outros serviços da AWS capazes de servir como um alicerce computacional como, por exemplo, funções lambda.\n",
    "</div>\n",
    "\n",
    "___\n",
    "**_Para entender todo o contexto do projeto, é sugerido o consumo dos seguintes materiais:_**\n",
    "\n",
    "* [1. NBAFlow - documentação e exploração inicial da API nba_api](https://github.com/ThiagoPanini/nbaflow/blob/main/notebooks/NBAflow-doc-api.ipynb)\n",
    "\n",
    "* [2. NBAFlow - documentação de fluxo de extração de imagens de jogadores](https://github.com/ThiagoPanini/nbaflow/blob/main/notebooks/NBAflow-players-images.ipynb)\n",
    "\n",
    "* [3. NBAFlow - estruturação de armazenamento em banco de dados Postgres (OPCIONAL)](https://github.com/ThiagoPanini/nbaflow/blob/main/notebooks/NBAflow-psql.ipynb)\n",
    "\n",
    "* [4. NBAFlow - primeiros passos da migração para a AWS](https://github.com/ThiagoPanini/nbaflow/blob/main/notebooks/NBAFlow-aws-migration.ipynb)\n",
    "\n",
    "* [5. Classes estruturadas de processamento de dados](https://github.com/ThiagoPanini/nbaflow/tree/main/core)\n",
    "\n",
    "* [6. Scripts de processamento de dados utilizando as classes estruturadas](https://github.com/ThiagoPanini/nbaflow/tree/main/scripts)\n",
    "___"
   ]
  },
  {
   "cell_type": "markdown",
   "id": "063cbf03",
   "metadata": {},
   "source": [
    "## Objetos e Elementos do Projeto"
   ]
  },
  {
   "cell_type": "markdown",
   "id": "e1635b52",
   "metadata": {},
   "source": [
    "Assim, em paralelo aos desafios acima explicados e, dentro dos objetivos estabelecidos no início deste material, a grande exploração a ser realizada nas próxima seções gira em torno da utilização do serviço S3 para o armazenamento de alguns objetos presentes em momentos específicos do fluxo de trabalho do projeto NBAFlow. \n",
    "\n",
    "Neste cenário, os objetos citados referem-se a:\n",
    "\n",
    "* **_Arquivos de dados_**: ao longo do desenvolvimento do projeto, foram criados scripts de requisição e processamento de dados de jogadores da NBA para serem analisados posteriormente. Neste propósito, o módulo [`gamelog`](https://github.com/ThiagoPanini/nbaflow/blob/main/core/gamelog.py) foi concebido como uma forma de centralizar o consumo do pacote [nba_api](https://github.com/swar/nba_api) no univero de análise de partidas e estatísticas individuais de jogadores da liga em todas as temporadas disponíveis. Ao longo do processamento, notou-se uma carga excessiva de requisições realizadas, gerando assim um alto tempo de execução para o retorno dos dados de todas as partidas, de todos os jogadores, em todas as temporadas válidas. Assim, visando otimizar as etapas posteriores, todo o histórico processado foi armazenado no arquivo [all_players_gamelog.csv](https://github.com/ThiagoPanini/nbaflow/blob/main/data/all_players_gamelog.csv) contendo todos os insumos necessários para uma análise completa da liga. Exemplificando a utilidade deste arquivo, o script [`insert_gamelog_data`](https://github.com/ThiagoPanini/nbaflow/blob/main/scripts/db_integration/insert_gamelog_data.py) se utiliza deste arquivo csv para inserir registros em uma tabela em um banco de dados PostgreSQL (local ou na nuvem). Como um passo adicional, neste material será proposto o armazenamento deste arquivo em um bucket do S3 para consumo direto via script. Eventualmente, será possível adicionar lógicas no módulo `gamelog` para salvar os resultados das requisições à nba_api direto em buckets do S3 utilizando o SDK [`boto3`](https://boto3.amazonaws.com/v1/documentation/api/latest/guide/quickstart.html).\n",
    "\n",
    "\n",
    "* **_Imagens de jogadores_**: em uma outra frente extremamente relevante dentro do projeto NBAFlow, foi construída uma lógica capaz de extrair imagens de alta qualidade dos jogadores da NBA diretamente do [site oficial](https://www.nba.com/stats/). Neste cenário, o módulo [`images`](https://github.com/ThiagoPanini/nbaflow/blob/main/core/images.py) foi concebido como uma forma de centralizar os elementos necessários para a consolidação dessas requisições e o salvamento local dos arquivos png recebidos no sistema operacional. Como alternativas, será proposta a inclusão dessas imagens em um bucket do S3 para um armazenamento mais sustentável dentro das propostas gerais do projeto. Eventualmente, será possível aplicar algumas alterações no módulo `images` para que as imagens obtidas pelas requisições já sejam automaticamente salvas em buckets do S3. Para tal, mais uma vez, será preciso utilizar as funcionalidade so SDK `boto3`."
   ]
  },
  {
   "cell_type": "markdown",
   "id": "7f68ff30",
   "metadata": {},
   "source": [
    "# Operações com Buckets no S3"
   ]
  },
  {
   "cell_type": "markdown",
   "id": "ddca5ade",
   "metadata": {},
   "source": [
    "Iniciando as etapas práticas de construção dos elementos propostos, em um primeiro momento, serão detalhados os passos para a criação de um (ou mais de um) bucket S3 pela AWS utilizando o console de gerenciamento. Posteriormente, um primeiro contato com o SDK `boto3` será fornecido como uma forma eficiente de automatizar, organizar e gerenciar recursos da AWS utilizando a linguagem Python."
   ]
  },
  {
   "cell_type": "markdown",
   "id": "b8bad74a",
   "metadata": {},
   "source": [
    "## Via Console"
   ]
  },
  {
   "cell_type": "markdown",
   "id": "7dd6bdeb",
   "metadata": {},
   "source": [
    "Conforme mencionado acima, as primeiras iterações com o serviço S3 serão obtidas a partir do console de gerenciamento da AWS. Nesse formato, a [página do serviço](https://console.aws.amazon.com/s3/home?region=sa-east-1) foi utilizada para a criação de um novo bucket denominado `nbaflow-console`. Nele, dois novos [diretórios](https://docs.aws.amazon.com/AmazonS3/latest/userguide/using-folders.html) foram criados para armazenar _dados_ (arquivos em geral) e _imagens_.\n",
    "\n",
    "> 📌**Nota**: de acordo com a documentação oficial, no S3, buckets e objetos são os recursos principais, sendo os objetos armazenados em buckets. Mesmo sem o mesmo significado dos sistemas operacionais, é possível criar \"diretórios\" nos buckets para fins organizacionais, facilitando assim as referências e o armazenamento de objetos. O conceito fundamental de diretórios no S3 é o de simplesmente agrupar objetos a partir de um prefixo adicionado à rota do objeto.\n",
    "\n",
    "A imagem abaixo traz o bucket `nbaflow-console` criado com os diretórios `data/` e `imgs/` associados:\n",
    "\n",
    "<div align=\"center\">\n",
    "    <br><img src=\"https://i.imgur.com/geU2QZE.png\" alt=\"s3_bucket_nbaflow-console\">\n",
    "</div>\n",
    "\n",
    "Na sequência, também utilizando as funcionalidades do console, foram realizados os uploads do arquivo `all_players_gamelog.csv` e das imagens png originalmente armazenadas no diretório `data/images/players` do repositório do projeto. A imagem abaixo traz um exemplo do diretório `imgs/` do bucket recém criado já com as imagens de jogadores armazenadas.\n",
    "\n",
    "<div align=\"center\">\n",
    "    <br><img src=\"https://i.imgur.com/0s9jFyP.png\" alt=\"s3_imgs\">\n",
    "</div>\n",
    "\n",
    "Dessa forma, em um processo altamente intuitivo, foi possível finalizar essa primeira etapa de criação de bucket a partir do console de gerenciamento da AWS. Além disso, o upload dos arquivos selecionados foram realizados dentro dos diretórios criados no bucket. A criação do bucket e o upload dos arquivos foram realizados seguindos todas as configurações padrão propostas no processo o que, em resumo, podem ser descritadas como:\n",
    "\n",
    "* Bucket criado sem acesso público\n",
    "* Bucket criado sem versionamento\n",
    "* Bucket sem encriptação dos dados\n",
    "* Acesso de leitura e escrita aos objetos está restrito ao owner do bucket\n",
    "\n",
    "Na próxima seção, os processos de criação, configuração e upload de objetos no bucket serão realizados a partir do SDK Python `boto3`."
   ]
  },
  {
   "cell_type": "markdown",
   "id": "e13e8140",
   "metadata": {},
   "source": [
    "## Via boto3"
   ]
  },
  {
   "cell_type": "markdown",
   "id": "59ec90df",
   "metadata": {},
   "source": [
    "De acordo com a [página oficial de documentação](https://boto3.amazonaws.com/v1/documentation/api/latest/index.html), o SDK `boto3` pode ser resumido a:\n",
    "\n",
    "> _You use the AWS SDK for Python (Boto3) to create, configure, and manage AWS services, such as Amazon Elastic Compute Cloud (Amazon EC2) and Amazon Simple Storage Service (Amazon S3). The SDK provides an object-oriented API as well as low-level access to AWS services._\n",
    "\n",
    "Considerando a riqueza de detalhes e de exemplos fornecidos pela própria AWS, grande parte dos primeiros passos aqui documentados serão reproduções adaptadas da página oficial de documentação. Para tal, visando alinhar os propósitos deste notebook, é sugerido que o usuário consumidor do material aqui presente siga algumas instruções básicas de configuração propostas pela documentação do boto3 para que os códigos aqui escritos tenham a eficácia planejada.\n",
    "\n",
    "Assim, depois de um breve estudo no material oficial, a instalação do boto3 foi feita, dentro do ambiente virtual criado para o projeto NBAFLow, através do comando:\n",
    "\n",
    "    pip install boto3\n",
    "    \n",
    "Mesmo após a instalação, as primeiras tentativas de uso do SDK não foram bem sucedidas. Isto porque, de maneira direta, o boto3 necessita encontrar (ou ser devidamente configurado para isso) credenciais válidas do usuário para que as operações possam ser realizadas. Dessa forma, com a instalação do [AWS CLI](https://aws.amazon.com/pt/cli/) e a execução do comando `aws configure`, foi possível providenciar os insumos necessários para que o boto3 consiga autenticar o usuário dentro da utilização dos recursos na nuvem. Para detalhes adicionais, pode-se analisar a seção de [Configuração](https://boto3.amazonaws.com/v1/documentation/api/latest/guide/quickstart.html#configuration) da documentação oficial.\n",
    "\n",
    "Por fim, as linhas de código abaixo trazem a importação da biblioteca boto3 juntamente com a criação de um recurso \"s3\" utilizado para gerenciar e automatizar ações dentro deste serviço de armazenamento. Como validação, serão mostrados todos os buckets presentes na conta AWS configurada."
   ]
  },
  {
   "cell_type": "code",
   "execution_count": 1,
   "id": "ecea4a0f",
   "metadata": {
    "ExecuteTime": {
     "end_time": "2021-08-27T17:14:43.551496Z",
     "start_time": "2021-08-27T17:14:42.833531Z"
    }
   },
   "outputs": [
    {
     "name": "stdout",
     "output_type": "stream",
     "text": [
      "nbaflow-boto3\n",
      "nbaflow-console\n"
     ]
    }
   ],
   "source": [
    "# Importando biblioteca\n",
    "import boto3\n",
    "\n",
    "# Criando recurso e listando buckets\n",
    "s3 = boto3.resource('s3')\n",
    "for bucket in s3.buckets.all():\n",
    "    print(bucket.name)"
   ]
  },
  {
   "cell_type": "markdown",
   "id": "969d9cd6",
   "metadata": {},
   "source": [
    "De fato, com o código acima, foi possível verificar que existe apenas um bucket criado na conta configurada da AWS (o recém criado *nbaflow-console*). Ainda nessas primeiras interações com boto3 e buckets S3, o código abaixo é responsável por conectar a um bucket e ler um objeto diretamente na memória. Neste caso, será proposta a leitura de uma das imagens de jogadores da NBA utilizando uma `key` específica que contempla, como prefixo, o diretório criado manualmente no bucket para organização do armazenamento."
   ]
  },
  {
   "cell_type": "code",
   "execution_count": 2,
   "id": "9fae8b56",
   "metadata": {
    "ExecuteTime": {
     "end_time": "2021-08-27T17:14:43.708042Z",
     "start_time": "2021-08-27T17:14:43.554456Z"
    }
   },
   "outputs": [
    {
     "data": {
      "image/png": "[encoded data removed]",
      "text/plain": [
       "<PIL.PngImagePlugin.PngImageFile image mode=P size=260x190 at 0x1E1B5758C70>"
      ]
     },
     "execution_count": 2,
     "metadata": {},
     "output_type": "execute_result"
    }
   ],
   "source": [
    "from PIL import Image\n",
    "from io import BytesIO\n",
    "\n",
    "# Vinculando bucket alvo\n",
    "bucket = s3.Bucket('nbaflow-console')\n",
    "\n",
    "# Coletando objeto\n",
    "obj = bucket.Object(key='imgs/Damian Lillard.png')\n",
    "response = obj.get()\n",
    "file_stream = response['Body']\n",
    "Image.open(file_stream)"
   ]
  },
  {
   "cell_type": "markdown",
   "id": "b2b788d4",
   "metadata": {
    "ExecuteTime": {
     "end_time": "2021-08-26T18:58:34.227503Z",
     "start_time": "2021-08-26T18:58:34.207528Z"
    }
   },
   "source": [
    "**_Referência:_** https://stackoverflow.com/questions/44043036/how-to-read-image-file-from-s3-bucket-directly-into-memory\n",
    "\n",
    "Até este ponto, já é possível mensurar o poder fornecido pelo SDK boto3 dentro das possibilidades de gerenciamento de recursos na AWS. Com ele, foi possível ler diretamente na memória um objeto armazenado manualmente em um bucket s3 criado diretamente pelo console. Considerando esta atuação, o bloco de código abaixo irá propor a criação de um **novo bucket** S3 em uma região específica para que, futuramente, este código possa ser encapsulado juntamente com outras funcionalidades de leitura e escrita de objetos dentro de buckets, tudo via boto3."
   ]
  },
  {
   "cell_type": "code",
   "execution_count": 3,
   "id": "81d056d0",
   "metadata": {
    "ExecuteTime": {
     "end_time": "2021-08-27T17:14:44.568317Z",
     "start_time": "2021-08-27T17:14:43.710013Z"
    }
   },
   "outputs": [
    {
     "name": "stdout",
     "output_type": "stream",
     "text": [
      "Erro ao tentar deletar bucket nbaflow-boto3. Exception: An error occurred (BucketNotEmpty) when calling the DeleteBucket operation: The bucket you tried to delete is not empty\n",
      "Erro ao criar bucket. Exception: An error occurred (BucketAlreadyOwnedByYou) when calling the CreateBucket operation: Your previous request to create the named bucket succeeded and you already own it.\n",
      "\n",
      "nbaflow-boto3\n",
      "nbaflow-console\n"
     ]
    }
   ],
   "source": [
    "# Definindo parâmetros\n",
    "REGION = 'sa-east-1'\n",
    "BUCKET_NAME = 'nbaflow-boto3'\n",
    "LOCATION = {'LocationConstraint': REGION}\n",
    "\n",
    "# Instanciando client\n",
    "s3_client = boto3.client('s3', region_name=REGION)\n",
    "\n",
    "# Deletando bucket\n",
    "try:\n",
    "    s3_client.delete_bucket(Bucket=BUCKET_NAME)\n",
    "except Exception as e:\n",
    "    print(f'Erro ao tentar deletar bucket {BUCKET_NAME}. Exception: {e}')\n",
    "\n",
    "# Criando um novo bucket\n",
    "try:\n",
    "    s3_client.create_bucket(Bucket=BUCKET_NAME,\n",
    "                            CreateBucketConfiguration=LOCATION)\n",
    "except Exception as e:\n",
    "    print(f'Erro ao criar bucket. Exception: {e}')\n",
    "    \n",
    "# Listando buckets criados\n",
    "print()\n",
    "for bucket in s3.buckets.all():\n",
    "    print(bucket.name)"
   ]
  },
  {
   "cell_type": "markdown",
   "id": "34998331",
   "metadata": {
    "ExecuteTime": {
     "end_time": "2021-08-26T18:56:54.911104Z",
     "start_time": "2021-08-26T18:56:54.899168Z"
    }
   },
   "source": [
    "* **_Referência:_** https://boto3.amazonaws.com/v1/documentation/api/latest/guide/s3-example-creating-buckets.html\n",
    "\n",
    "Com o resultado acima, percebe-se agora a presença de dois buckets listados na conta AWS. Ao atualizar a página no console de gerenciamento, uma nova linha na lista de buckets que realmente a criação foi realizada com sucesso. Entretanto, observando os detalhes relacionados a acesso, mesmo que tenhamos restringido a criação do bucket a uma região em específico da maneira referenciada na documentação, os objetos do novo bucket `nbaflow-boto3` criado podem ser acessados publicamente o que, de fato, pode não ser o desejado pra grande parte das aplicações.\n",
    "\n",
    "<div align=\"center\">\n",
    "    <br><img src=\"https://i.imgur.com/jMzMEeZ.png\" alt=\"s3_public_bucket\">\n",
    "</div>\n",
    "\n",
    "Assim, para manter um bucket restrito através do boto3, é possível definir um dicionário de configurações com algumas chaves específicas e executar o método `put_public_access_block()` do objeto `s3_client`. Adicionalmente, na referência oficial da [documentação do client S3](https://boto3.amazonaws.com/v1/documentation/api/1.9.42/reference/services/s3.html#S3.Client.create_bucket), pode-se procurar pelo método `create_bucket()` e observar alguns detalhes adicionais sobre como o processo de criação pode ser melhor gerenciado."
   ]
  },
  {
   "cell_type": "code",
   "execution_count": 4,
   "id": "562a0491",
   "metadata": {
    "ExecuteTime": {
     "end_time": "2021-08-27T17:14:44.926625Z",
     "start_time": "2021-08-27T17:14:44.572307Z"
    }
   },
   "outputs": [
    {
     "data": {
      "text/plain": [
       "{'ResponseMetadata': {'RequestId': '1ETHXMY23ZV3ADGB',\n",
       "  'HostId': '44EsNbPl7OfIKRqKV8y3o3CHkcdxfzhpjIk73s67D+jfM9CSmYvv/B1iieV7PVx4iA+mpjmjDI4=',\n",
       "  'HTTPStatusCode': 200,\n",
       "  'HTTPHeaders': {'x-amz-id-2': '44EsNbPl7OfIKRqKV8y3o3CHkcdxfzhpjIk73s67D+jfM9CSmYvv/B1iieV7PVx4iA+mpjmjDI4=',\n",
       "   'x-amz-request-id': '1ETHXMY23ZV3ADGB',\n",
       "   'date': 'Fri, 27 Aug 2021 17:14:45 GMT',\n",
       "   'server': 'AmazonS3',\n",
       "   'content-length': '0'},\n",
       "  'RetryAttempts': 0}}"
      ]
     },
     "execution_count": 4,
     "metadata": {},
     "output_type": "execute_result"
    }
   ],
   "source": [
    "# Definindo configurações\n",
    "BLOCK_PUBLIC_CONFIG = {\n",
    "    'BlockPublicAcls': True,\n",
    "    'IgnorePublicAcls': True,\n",
    "    'BlockPublicPolicy': True,\n",
    "    'RestrictPublicBuckets': True\n",
    "}\n",
    "\n",
    "# Modificando acesso do bucket\n",
    "response_public = s3_client.put_public_access_block(Bucket=BUCKET_NAME,\n",
    "                                                    PublicAccessBlockConfiguration=BLOCK_PUBLIC_CONFIG)\n",
    "response_public"
   ]
  },
  {
   "cell_type": "markdown",
   "id": "67281144",
   "metadata": {},
   "source": [
    "Após a execução do bloco de código acima, foi possível verificar, no console, o efeito da alteração das permissões no bucket `nbaflow-boto3`.\n",
    "\n",
    "<div align=\"center\">\n",
    "    <br><img src=\"https://i.imgur.com/c4VYbgH.png\" alt=\"s3_notpublic_bucket\">\n",
    "</div>"
   ]
  },
  {
   "cell_type": "markdown",
   "id": "ff8d74a6",
   "metadata": {},
   "source": [
    "Assim como a criação e leitura de objetos em buckets, é possível realizar a ingestão de novos objetos a partir da definição de chaves específicas que, eventualmente, podem conter informações a respeito de _diretórios_ de armazenamento. Como informado anteriormente, os diretórios em buckets do S3 funcionam, em essência, como organizadores de objetos e, na prática, seu impacto se reflete como um prefixo das _chaves_ relacionadas aos objetos. Dessa forma, ao definir uma chave de objeto com uma referência semelhante a um caminho de diretório, o mesmo será automaticamente armazenado dentro desta estrutura.\n",
    "\n",
    "Para ilustrar este conceito, será proposta a leitura, em memória, de um arquivo csv salvo localmente para que, posteriormente, seja aplicado um processo de ingestão dos dados no bucket S3 recém criado."
   ]
  },
  {
   "cell_type": "code",
   "execution_count": 11,
   "id": "21b28cab",
   "metadata": {
    "ExecuteTime": {
     "end_time": "2021-08-27T17:56:20.972477Z",
     "start_time": "2021-08-27T17:56:20.964500Z"
    }
   },
   "outputs": [
    {
     "data": {
      "text/plain": [
       "'nbaflow-boto3'"
      ]
     },
     "execution_count": 11,
     "metadata": {},
     "output_type": "execute_result"
    }
   ],
   "source": [
    "BUCKET_NAME"
   ]
  },
  {
   "cell_type": "code",
   "execution_count": 17,
   "id": "7024d2ea",
   "metadata": {
    "ExecuteTime": {
     "end_time": "2021-08-27T18:00:36.771461Z",
     "start_time": "2021-08-27T18:00:24.766800Z"
    }
   },
   "outputs": [
    {
     "data": {
      "text/plain": [
       "{'ResponseMetadata': {'RequestId': 'R9QF04HC8N2W6Q47',\n",
       "  'HostId': 'RfGJcZMK48QxrqodXhNJoEp1ylhZQ9pyYIUISayo0kL7SIlfa65/eW3c1KNwO5cyhkRgYCklBcw=',\n",
       "  'HTTPStatusCode': 200,\n",
       "  'HTTPHeaders': {'x-amz-id-2': 'RfGJcZMK48QxrqodXhNJoEp1ylhZQ9pyYIUISayo0kL7SIlfa65/eW3c1KNwO5cyhkRgYCklBcw=',\n",
       "   'x-amz-request-id': 'R9QF04HC8N2W6Q47',\n",
       "   'date': 'Fri, 27 Aug 2021 18:00:26 GMT',\n",
       "   'etag': '\"412281cfcdc50b2bcac43630b4d0099a\"',\n",
       "   'server': 'AmazonS3',\n",
       "   'content-length': '0'},\n",
       "  'RetryAttempts': 0},\n",
       " 'ETag': '\"412281cfcdc50b2bcac43630b4d0099a\"'}"
      ]
     },
     "execution_count": 17,
     "metadata": {},
     "output_type": "execute_result"
    }
   ],
   "source": [
    "# Definindo variáveis\n",
    "FILEPATH = r'C:\\Users\\thipa\\workspaces\\nbaflow\\dev\\data\\all_players_gamelog.csv'\n",
    "KEY = 'data/all_players_gamelog.csv'\n",
    "with open(FILEPATH, 'rb') as f:\n",
    "    file = f.read()\n",
    "    \n",
    "# Coletando recurso e realizando upload\n",
    "s3_client.put_object(Bucket=BUCKET_NAME, Body=file, Key=KEY)"
   ]
  },
  {
   "cell_type": "code",
   "execution_count": 18,
   "id": "f305831a",
   "metadata": {
    "ExecuteTime": {
     "end_time": "2021-08-27T18:00:49.793206Z",
     "start_time": "2021-08-27T18:00:38.117595Z"
    }
   },
   "outputs": [],
   "source": [
    "# Testando outra forma de uploag\n",
    "KEY2 = 'data/all_players_gamelog_2.csv'\n",
    "s3_client.upload_file(Filename=FILEPATH, Bucket=BUCKET_NAME, Key=KEY2)"
   ]
  },
  {
   "cell_type": "markdown",
   "id": "5eff92b9",
   "metadata": {},
   "source": [
    "https://www.stackvidhya.com/write-a-file-to-s3-using-boto3/\n",
    "\n",
    "https://stackoverflow.com/questions/40336918/how-to-write-a-file-or-data-to-an-s3-object-using-boto3"
   ]
  },
  {
   "cell_type": "code",
   "execution_count": null,
   "id": "897ae8b4",
   "metadata": {},
   "outputs": [],
   "source": [
    "def upload_object():\n",
    "    "
   ]
  },
  {
   "cell_type": "markdown",
   "id": "99267054",
   "metadata": {},
   "source": [
    "Nos exemplos acima, foram utilizadas dois métodos distintos para o upload de objetos em um bucket S3. No primeiro exemplo, o método `put_object()` recebe um arquivo em formato binário como argumento Body do método, permitindo assim com que arquivos já lidos em memória sejam transferidos pro bucket. No segundo caso, o método `upload_file()` recebe, de forma direta, um caminho do arquivo salvo localmente na máquina para que a ingestão seja realizada sem a leitura explícita.\n",
    "\n",
    "**_Referências:_**\n",
    "* https://boto3.amazonaws.com/v1/documentation/api/latest/guide/s3-uploading-files.html\n",
    "* https://boto3.amazonaws.com/v1/documentation/api/1.9.42/reference/services/s3.html#S3.Client.upload_file\n",
    "* https://stackoverflow.com/questions/1939743/amazon-s3-boto-how-to-create-a-folder\n",
    "* https://intellipaat.com/community/41744/using-boto3-how-can-i-create-a-folder-inside-s3"
   ]
  },
  {
   "cell_type": "markdown",
   "id": "3d79c7c4",
   "metadata": {},
   "source": [
    "# NBAFlow + boto3"
   ]
  },
  {
   "cell_type": "markdown",
   "id": "c39c15ee",
   "metadata": {},
   "source": [
    "Após uma jornada inicial em algumas operações básicas com S3 utilizando o boto3, nesta seção será proposta a aplicação de alguns recursos já construídos para o projeto NBAFlow para que, de forma adaptada, o SDK boto3 possa ser utilizado como uma forma adicional de prover a escrita e leitura de objetos direto no S3. Para validar, de fato, este tipo de abordagem, será desenvolvido um bloco de código capaz de navegar por todas as imagens de jogadores salvas localmente em formato png e realizar ingestões individuais dos arquivos diretamente em um bucket s3."
   ]
  },
  {
   "cell_type": "code",
   "execution_count": null,
   "id": "5c4610af",
   "metadata": {
    "ExecuteTime": {
     "end_time": "2021-08-27T17:14:45.232016Z",
     "start_time": "2021-08-27T17:14:45.232016Z"
    }
   },
   "outputs": [],
   "source": [
    "# Importando bibliotecas\n",
    "import boto3\n",
    "from botocore.exceptions import ClientError, EndpointConnectionError\n",
    "import os\n",
    "import logging"
   ]
  },
  {
   "cell_type": "code",
   "execution_count": null,
   "id": "30e3db44",
   "metadata": {
    "ExecuteTime": {
     "end_time": "2021-08-27T17:14:45.234010Z",
     "start_time": "2021-08-27T17:14:45.234010Z"
    },
    "code_folding": [
     1
    ]
   },
   "outputs": [],
   "source": [
    "# Definindo função para gerenciamento de logs\n",
    "def log_config(logger, level=logging.DEBUG, \n",
    "               log_format='%(levelname)s;%(asctime)s;%(filename)s;%(module)s;%(lineno)d;%(message)s',\n",
    "               log_filepath=os.path.join(os.getcwd(), 'exec_log/execution_log.log'),\n",
    "               flag_file_handler=False, flag_stream_handler=True, filemode='a'):\n",
    "    \"\"\"\n",
    "    Função que recebe um objeto logging e aplica configurações básicas ao mesmo\n",
    "    \n",
    "    Parâmetros\n",
    "    ----------\n",
    "    :param logger: objeto logger criado no escopo do módulo [type: logging.getLogger()]\n",
    "    :param level: level do objeto logger criado [type: level, default=logging.DEBUG]\n",
    "    :param log_format: formato do log a ser armazenado [type: string]\n",
    "    :param log_filepath: caminho onde o arquivo .log será armazenado \n",
    "        [type: string, default='exec_log/execution_log.log']\n",
    "    :param flag_file_handler: define se será criado um arquivo de armazenamento de log\n",
    "        [type: bool, default=False]\n",
    "    :param flag_stream_handler: define se as mensagens de log serão mostradas na tela\n",
    "        [type: bool, default=True]\n",
    "    :param filemode: tipo de escrita no arquivo de log [type: string, default='a' (append)]\n",
    "    \n",
    "    Retorno\n",
    "    -------\n",
    "    :return logger: objeto logger pré-configurado\n",
    "    \"\"\"\n",
    "\n",
    "    # Setting level for the logger object\n",
    "    logger.setLevel(level)\n",
    "\n",
    "    # Creating a formatter\n",
    "    formatter = logging.Formatter(log_format, datefmt='%Y-%m-%d %H:%M:%S')\n",
    "\n",
    "    # Creating handlers\n",
    "    if flag_file_handler:\n",
    "        log_path = '/'.join(log_filepath.split('/')[:-1])\n",
    "        if not isdir(log_path):\n",
    "            makedirs(log_path)\n",
    "\n",
    "        # Adding file_handler\n",
    "        file_handler = logging.FileHandler(log_filepath, mode=filemode, encoding='utf-8')\n",
    "        file_handler.setFormatter(formatter)\n",
    "        logger.addHandler(file_handler)\n",
    "\n",
    "    if flag_stream_handler:\n",
    "        # Adding stream_handler\n",
    "        stream_handler = logging.StreamHandler()\n",
    "        stream_handler.setFormatter(formatter)    \n",
    "        logger.addHandler(stream_handler)\n",
    "\n",
    "    return logger\n",
    "\n",
    "# Instanciando e configurando objeto de log\n",
    "logger = logging.getLogger('notebook')\n",
    "logger = log_config(logger)"
   ]
  },
  {
   "cell_type": "code",
   "execution_count": null,
   "id": "81833418",
   "metadata": {
    "ExecuteTime": {
     "end_time": "2021-08-27T17:14:45.235007Z",
     "start_time": "2021-08-27T17:14:45.235007Z"
    }
   },
   "outputs": [],
   "source": [
    "# Definindo variáveis do ambiente S3\n",
    "REGION = 'sa-east-1'\n",
    "BUCKET_NAME = 'nbaflow-files'\n",
    "IMGS_FOLDER = 'imgs/'\n",
    "DATA_FOLDER = 'data/'\n",
    "\n",
    "# Definindo variáveis de configuração do bucket\n",
    "LOCATION = {'LocationConstraint': REGION}\n",
    "BLOCK_PUBLIC = True\n",
    "BLOCK_PUBLIC_CONFIG = {\n",
    "    'BlockPublicAcls': True,\n",
    "    'IgnorePublicAcls': True,\n",
    "    'BlockPublicPolicy': True,\n",
    "    'RestrictPublicBuckets': True\n",
    "}\n",
    "\n",
    "# Definindo variáveis de repositório local\n",
    "DATA_PATH = r'C:/Users/thipa/workspaces/nbaflow/data'\n",
    "IMGS_PATH = os.path.join(DATA_PATH, 'images/players')\n",
    "\n",
    "# Instanciando client e resource do S3\n",
    "try:\n",
    "    s3_client = boto3.client('s3', region_name=REGION)\n",
    "    s3 = boto3.resource('s3', region_name=REGION)\n",
    "except Exception as e:\n",
    "    logger.error(f'Erro ao instanciar o client ou o recurso S3. Exception: {e}')\n",
    "\n",
    "# Gerenciando criação de um novo bucket\n",
    "try:\n",
    "    # Listando buckets já existentes\n",
    "    buckets = [bucket.name for bucket in s3.buckets.all()]\n",
    "    if BUCKET_NAME not in buckets:\n",
    "        s3.create_bucket(Bucket=BUCKET_NAME,\n",
    "                         ACL='private',\n",
    "                         CreateBucketConfiguration=LOCATION)\n",
    "\n",
    "        # Definindo acesso público restrito\n",
    "        if BLOCK_PUBLIC:\n",
    "            response = s3_client.put_public_access_block(Bucket=BUCKET_NAME,\n",
    "                                                         PublicAccessBlockConfiguration=BLOCK_PUBLIC_CONFIG)\n",
    "        logger.info(f'Bucket {BUCKET_NAME} criado com sucesso')\n",
    "    else: \n",
    "        # Bucket já existente\n",
    "        logger.warning(f'Bucket {BUCKET_NAME} já existente. A criação de um novo bucket não será realizada.')\n",
    "\n",
    "except EndpointConnectionError as edperror:\n",
    "    logger.error(f'Erro de conexão ao endpoint. Verificar região fornecida na instância do recurso ou do client. Exception: {edperror}')\n"
   ]
  },
  {
   "cell_type": "code",
   "execution_count": null,
   "id": "106c76fc",
   "metadata": {
    "ExecuteTime": {
     "end_time": "2021-08-27T17:14:45.237002Z",
     "start_time": "2021-08-27T17:14:45.237002Z"
    },
    "code_folding": [
     1
    ]
   },
   "outputs": [],
   "source": [
    "# Definindo função encapsulada para a criação de novos buckets na AWS\n",
    "def create_bucket(bucket_name, region, acl='private', **kwargs):\n",
    "    \"\"\"\n",
    "    Função criada para consolidar os principais elementos de\n",
    "    criação de buckets s3 através do SDK boto3. O código aqui\n",
    "    encapsulado visa propor um detalhamento mais claro sobre\n",
    "    as etapas mais comuns de criação de bucket, providenciando\n",
    "    ao usuário uma maior abstração nas configurações mais\n",
    "    básicas dentro deste universo. De maneira geral, esta\n",
    "    função instancia um recurso s3 via boto3 e utiliza o método\n",
    "    create_bucket() para consolidar as operações de criação\n",
    "    de buckets.\n",
    "    \n",
    "    Para detalhes adicionais ou operações mais avançadas\n",
    "    relacionadas à criação de buckets, verificar a documentação\n",
    "    oficial do boto3 na AWS.\n",
    "    \n",
    "    Parâmetros\n",
    "    ----------\n",
    "    :param bucket_name:\n",
    "        Referência do bucket a ser criado dentro da conta\n",
    "        AWS configurada para a utilização do boto3. O nome\n",
    "        do bucket deve seguir as diretrizes propostas pela\n",
    "        própria AWS dentro das boas práticas e restrições\n",
    "        estabelecidas.\n",
    "        [type: string]\n",
    "        \n",
    "    :param region:\n",
    "        Região a qual o bucket será criado. Este argumento\n",
    "        também é utilizado para a criação do dicionário\n",
    "        de configuração de localização do bucket a ser \n",
    "        passado também como parâmetro do método\n",
    "        create_bucket() do recurso s3 instanciado.\n",
    "        \n",
    "    :param acl:\n",
    "        Parâmetro que define o controle de acesso definido\n",
    "        para o bucket (Access Control List). Neste contexto\n",
    "        o argumento acl propõe a utilização de um bloco\n",
    "        consolidado de controle predefinido dentro das \n",
    "        diretrizes da AWS. Através da documentação de \n",
    "        referência do SDK, é possível visualizar as opções \n",
    "        possíveis enblocadas para a definição de controle \n",
    "        de acesso.\n",
    "        [type: string, default='private']\n",
    "        \n",
    "    Argumentos Adicionais\n",
    "    ---------------------\n",
    "    :kwarg block_public:\n",
    "        Flag que define a modificação da política de acesso\n",
    "        ao bucket criado. Ao ser configurado como True, é\n",
    "        instanciado um client s3 via boto3 e executado o\n",
    "        método put_public_access_block() para bloqueio de\n",
    "        todo acesso público proveniente ACLs ou configurações\n",
    "        adicionais do bucket. A definição exata do bloqueio\n",
    "        de acesso público é definida a partir do argumento\n",
    "        adicional block_public_config.\n",
    "        [type: bool, default=True]\n",
    "    \n",
    "    :kwarg block_public_config:\n",
    "        Dicionário de configuração com chaves específicas \n",
    "        de definição das restrições a serem aplicadas no\n",
    "        método put_public_acess_block() do client s3\n",
    "        instanciado.\n",
    "        [type: dict, default={\n",
    "                        'BlockPublicAcls': True,\n",
    "                        'IgnorePublicAcls': True,\n",
    "                        'BlockPublicPolicy': True,\n",
    "                        'RestrictPublicBuckets': True\n",
    "                    }]\n",
    "    \"\"\"\n",
    "    \n",
    "    # Instanciando recurso S3 e listando buckets existentes\n",
    "    s3 = boto3.resource('s3', region_name=region)\n",
    "    try:\n",
    "        buckets = [bucket.name for bucket in s3.buckets.all()]\n",
    "    except EndpointConnectionError as ece:\n",
    "        logger.error(f'Erro de conexão ao endpoint. Verificar região {region}. Exception: {ece}')\n",
    "        return None\n",
    "    \n",
    "    # Validando existência do bucket\n",
    "    if bucket_name in buckets:\n",
    "        logger.warning(f'Bucket {bucket_name} já existente. A criação de um novo bucket não será realizada.')\n",
    "        return None\n",
    "    else:\n",
    "        # Criando um novo bucket\n",
    "        try:\n",
    "            location = kwargs['location'] if 'location' in kwargs else {'LocationConstraint': region}\n",
    "            s3.create_bucket(\n",
    "                Bucket=bucket_name, \n",
    "                ACL=acl,\n",
    "                CreateBucketConfiguration=location\n",
    "            )\n",
    "            logger.info(f'Bucket {bucket_name} criado com sucesso.')\n",
    "        except ClientError as ce:\n",
    "            logger.error(f'Erro durante a criação do bucket. Exception: {ce}')\n",
    "            \n",
    "    # Validando bloqueio de acesso público ao bucket\n",
    "    block_public = kwargs['block_public'] if 'block_public' in kwargs else True\n",
    "    if block_public:\n",
    "        config = {\n",
    "            'BlockPublicAcls': True,\n",
    "            'IgnorePublicAcls': True,\n",
    "            'BlockPublicPolicy': True,\n",
    "            'RestrictPublicBuckets': True\n",
    "        }\n",
    "        block_public_config = kwargs['block_public_config'] if 'block_public_config' in kwargs else config\n",
    "        \n",
    "        # Instanciando sessão e configurando bloqueio de acesso público\n",
    "        try:\n",
    "            s3_client = boto3.client('s3', region_name=region)\n",
    "            response = s3_client.put_public_access_block(Bucket=bucket_name,\n",
    "                                                         PublicAccessBlockConfiguration=block_public_config)\n",
    "        except Exception as e:\n",
    "            logger.warning(f'Erro ao instanciar client e bloquear acesso público ao bucket {bucket_name}. Exception: {e}')\n",
    "            "
   ]
  },
  {
   "cell_type": "code",
   "execution_count": null,
   "id": "151bf512",
   "metadata": {
    "ExecuteTime": {
     "end_time": "2021-08-27T17:14:45.238997Z",
     "start_time": "2021-08-27T17:14:45.238997Z"
    }
   },
   "outputs": [],
   "source": [
    "# Definindo variáveis do ambiente S3\n",
    "REGION = 'sa-east-1'\n",
    "BUCKET_NAME = 'nbaflow-files'\n",
    "IMGS_FOLDER = 'imgs/'\n",
    "DATA_FOLDER = 'data/'\n",
    "\n",
    "# Definindo variáveis de configuração do bucket\n",
    "LOCATION = {'LocationConstraint': REGION}\n",
    "ACL = 'private'\n",
    "BLOCK_PUBLIC = True\n",
    "BLOCK_PUBLIC_CONFIG = {\n",
    "    'BlockPublicAcls': True,\n",
    "    'IgnorePublicAcls': True,\n",
    "    'BlockPublicPolicy': True,\n",
    "    'RestrictPublicBuckets': True\n",
    "}\n",
    "\n",
    "# Definindo variáveis de repositório local\n",
    "DATA_PATH = r'C:/Users/thipa/workspaces/nbaflow/data'\n",
    "IMGS_PATH = os.path.join(DATA_PATH, 'images/players')"
   ]
  },
  {
   "cell_type": "code",
   "execution_count": null,
   "id": "817e4306",
   "metadata": {
    "ExecuteTime": {
     "end_time": "2021-08-27T17:14:45.241003Z",
     "start_time": "2021-08-27T17:14:45.241003Z"
    }
   },
   "outputs": [],
   "source": [
    "# Deletando bucket (opcional)\n",
    "s3_client = boto3.client('s3', region_name=REGION)\n",
    "s3_client.delete_bucket(Bucket=BUCKET_NAME)"
   ]
  },
  {
   "cell_type": "code",
   "execution_count": null,
   "id": "1101fcdd",
   "metadata": {
    "ExecuteTime": {
     "end_time": "2021-08-27T17:14:45.242986Z",
     "start_time": "2021-08-27T17:14:45.241989Z"
    }
   },
   "outputs": [],
   "source": [
    "# Criando novo bucket\n",
    "create_bucket(bucket_name=BUCKET_NAME, region=REGION, acl=ACL, \n",
    "              block_public=BLOCK_PUBLIC, block_public_config=BLOCK_PUBLIC_CONFIG)"
   ]
  },
  {
   "cell_type": "code",
   "execution_count": 10,
   "id": "bf6b6082",
   "metadata": {
    "ExecuteTime": {
     "end_time": "2021-08-27T17:52:57.760685Z",
     "start_time": "2021-08-27T17:52:57.568659Z"
    }
   },
   "outputs": [
    {
     "ename": "ClientError",
     "evalue": "An error occurred (BucketNotEmpty) when calling the DeleteBucket operation: The bucket you tried to delete is not empty",
     "output_type": "error",
     "traceback": [
      "\u001b[1;31m---------------------------------------------------------------------------\u001b[0m",
      "\u001b[1;31mClientError\u001b[0m                               Traceback (most recent call last)",
      "\u001b[1;32m~\\AppData\\Local\\Temp/ipykernel_11256/1999816167.py\u001b[0m in \u001b[0;36m<module>\u001b[1;34m\u001b[0m\n\u001b[0;32m      1\u001b[0m \u001b[0ms3\u001b[0m \u001b[1;33m=\u001b[0m \u001b[0mboto3\u001b[0m\u001b[1;33m.\u001b[0m\u001b[0mresource\u001b[0m\u001b[1;33m(\u001b[0m\u001b[1;34m's3'\u001b[0m\u001b[1;33m)\u001b[0m\u001b[1;33m\u001b[0m\u001b[1;33m\u001b[0m\u001b[0m\n\u001b[0;32m      2\u001b[0m \u001b[0mbucket\u001b[0m \u001b[1;33m=\u001b[0m \u001b[0ms3\u001b[0m\u001b[1;33m.\u001b[0m\u001b[0mBucket\u001b[0m\u001b[1;33m(\u001b[0m\u001b[1;34m'nbaflow-boto3'\u001b[0m\u001b[1;33m)\u001b[0m\u001b[1;33m\u001b[0m\u001b[1;33m\u001b[0m\u001b[0m\n\u001b[1;32m----> 3\u001b[1;33m \u001b[0mbucket\u001b[0m\u001b[1;33m.\u001b[0m\u001b[0mdelete\u001b[0m\u001b[1;33m(\u001b[0m\u001b[1;33m)\u001b[0m\u001b[1;33m\u001b[0m\u001b[1;33m\u001b[0m\u001b[0m\n\u001b[0m",
      "\u001b[1;32mc:\\users\\thipa\\python-venvs\\nbaflow-venv\\lib\\site-packages\\boto3\\resources\\factory.py\u001b[0m in \u001b[0;36mdo_action\u001b[1;34m(self, *args, **kwargs)\u001b[0m\n\u001b[0;32m    518\u001b[0m             \u001b[1;31m# instance via ``self``.\u001b[0m\u001b[1;33m\u001b[0m\u001b[1;33m\u001b[0m\u001b[1;33m\u001b[0m\u001b[0m\n\u001b[0;32m    519\u001b[0m             \u001b[1;32mdef\u001b[0m \u001b[0mdo_action\u001b[0m\u001b[1;33m(\u001b[0m\u001b[0mself\u001b[0m\u001b[1;33m,\u001b[0m \u001b[1;33m*\u001b[0m\u001b[0margs\u001b[0m\u001b[1;33m,\u001b[0m \u001b[1;33m**\u001b[0m\u001b[0mkwargs\u001b[0m\u001b[1;33m)\u001b[0m\u001b[1;33m:\u001b[0m\u001b[1;33m\u001b[0m\u001b[1;33m\u001b[0m\u001b[0m\n\u001b[1;32m--> 520\u001b[1;33m                 \u001b[0mresponse\u001b[0m \u001b[1;33m=\u001b[0m \u001b[0maction\u001b[0m\u001b[1;33m(\u001b[0m\u001b[0mself\u001b[0m\u001b[1;33m,\u001b[0m \u001b[1;33m*\u001b[0m\u001b[0margs\u001b[0m\u001b[1;33m,\u001b[0m \u001b[1;33m**\u001b[0m\u001b[0mkwargs\u001b[0m\u001b[1;33m)\u001b[0m\u001b[1;33m\u001b[0m\u001b[1;33m\u001b[0m\u001b[0m\n\u001b[0m\u001b[0;32m    521\u001b[0m \u001b[1;33m\u001b[0m\u001b[0m\n\u001b[0;32m    522\u001b[0m                 \u001b[1;32mif\u001b[0m \u001b[0mhasattr\u001b[0m\u001b[1;33m(\u001b[0m\u001b[0mself\u001b[0m\u001b[1;33m,\u001b[0m \u001b[1;34m'load'\u001b[0m\u001b[1;33m)\u001b[0m\u001b[1;33m:\u001b[0m\u001b[1;33m\u001b[0m\u001b[1;33m\u001b[0m\u001b[0m\n",
      "\u001b[1;32mc:\\users\\thipa\\python-venvs\\nbaflow-venv\\lib\\site-packages\\boto3\\resources\\action.py\u001b[0m in \u001b[0;36m__call__\u001b[1;34m(self, parent, *args, **kwargs)\u001b[0m\n\u001b[0;32m     81\u001b[0m                      operation_name, params)\n\u001b[0;32m     82\u001b[0m \u001b[1;33m\u001b[0m\u001b[0m\n\u001b[1;32m---> 83\u001b[1;33m         \u001b[0mresponse\u001b[0m \u001b[1;33m=\u001b[0m \u001b[0mgetattr\u001b[0m\u001b[1;33m(\u001b[0m\u001b[0mparent\u001b[0m\u001b[1;33m.\u001b[0m\u001b[0mmeta\u001b[0m\u001b[1;33m.\u001b[0m\u001b[0mclient\u001b[0m\u001b[1;33m,\u001b[0m \u001b[0moperation_name\u001b[0m\u001b[1;33m)\u001b[0m\u001b[1;33m(\u001b[0m\u001b[1;33m*\u001b[0m\u001b[0margs\u001b[0m\u001b[1;33m,\u001b[0m \u001b[1;33m**\u001b[0m\u001b[0mparams\u001b[0m\u001b[1;33m)\u001b[0m\u001b[1;33m\u001b[0m\u001b[1;33m\u001b[0m\u001b[0m\n\u001b[0m\u001b[0;32m     84\u001b[0m \u001b[1;33m\u001b[0m\u001b[0m\n\u001b[0;32m     85\u001b[0m         \u001b[0mlogger\u001b[0m\u001b[1;33m.\u001b[0m\u001b[0mdebug\u001b[0m\u001b[1;33m(\u001b[0m\u001b[1;34m'Response: %r'\u001b[0m\u001b[1;33m,\u001b[0m \u001b[0mresponse\u001b[0m\u001b[1;33m)\u001b[0m\u001b[1;33m\u001b[0m\u001b[1;33m\u001b[0m\u001b[0m\n",
      "\u001b[1;32mc:\\users\\thipa\\python-venvs\\nbaflow-venv\\lib\\site-packages\\botocore\\client.py\u001b[0m in \u001b[0;36m_api_call\u001b[1;34m(self, *args, **kwargs)\u001b[0m\n\u001b[0;32m    384\u001b[0m                     \"%s() only accepts keyword arguments.\" % py_operation_name)\n\u001b[0;32m    385\u001b[0m             \u001b[1;31m# The \"self\" in this scope is referring to the BaseClient.\u001b[0m\u001b[1;33m\u001b[0m\u001b[1;33m\u001b[0m\u001b[1;33m\u001b[0m\u001b[0m\n\u001b[1;32m--> 386\u001b[1;33m             \u001b[1;32mreturn\u001b[0m \u001b[0mself\u001b[0m\u001b[1;33m.\u001b[0m\u001b[0m_make_api_call\u001b[0m\u001b[1;33m(\u001b[0m\u001b[0moperation_name\u001b[0m\u001b[1;33m,\u001b[0m \u001b[0mkwargs\u001b[0m\u001b[1;33m)\u001b[0m\u001b[1;33m\u001b[0m\u001b[1;33m\u001b[0m\u001b[0m\n\u001b[0m\u001b[0;32m    387\u001b[0m \u001b[1;33m\u001b[0m\u001b[0m\n\u001b[0;32m    388\u001b[0m         \u001b[0m_api_call\u001b[0m\u001b[1;33m.\u001b[0m\u001b[0m__name__\u001b[0m \u001b[1;33m=\u001b[0m \u001b[0mstr\u001b[0m\u001b[1;33m(\u001b[0m\u001b[0mpy_operation_name\u001b[0m\u001b[1;33m)\u001b[0m\u001b[1;33m\u001b[0m\u001b[1;33m\u001b[0m\u001b[0m\n",
      "\u001b[1;32mc:\\users\\thipa\\python-venvs\\nbaflow-venv\\lib\\site-packages\\botocore\\client.py\u001b[0m in \u001b[0;36m_make_api_call\u001b[1;34m(self, operation_name, api_params)\u001b[0m\n\u001b[0;32m    703\u001b[0m             \u001b[0merror_code\u001b[0m \u001b[1;33m=\u001b[0m \u001b[0mparsed_response\u001b[0m\u001b[1;33m.\u001b[0m\u001b[0mget\u001b[0m\u001b[1;33m(\u001b[0m\u001b[1;34m\"Error\"\u001b[0m\u001b[1;33m,\u001b[0m \u001b[1;33m{\u001b[0m\u001b[1;33m}\u001b[0m\u001b[1;33m)\u001b[0m\u001b[1;33m.\u001b[0m\u001b[0mget\u001b[0m\u001b[1;33m(\u001b[0m\u001b[1;34m\"Code\"\u001b[0m\u001b[1;33m)\u001b[0m\u001b[1;33m\u001b[0m\u001b[1;33m\u001b[0m\u001b[0m\n\u001b[0;32m    704\u001b[0m             \u001b[0merror_class\u001b[0m \u001b[1;33m=\u001b[0m \u001b[0mself\u001b[0m\u001b[1;33m.\u001b[0m\u001b[0mexceptions\u001b[0m\u001b[1;33m.\u001b[0m\u001b[0mfrom_code\u001b[0m\u001b[1;33m(\u001b[0m\u001b[0merror_code\u001b[0m\u001b[1;33m)\u001b[0m\u001b[1;33m\u001b[0m\u001b[1;33m\u001b[0m\u001b[0m\n\u001b[1;32m--> 705\u001b[1;33m             \u001b[1;32mraise\u001b[0m \u001b[0merror_class\u001b[0m\u001b[1;33m(\u001b[0m\u001b[0mparsed_response\u001b[0m\u001b[1;33m,\u001b[0m \u001b[0moperation_name\u001b[0m\u001b[1;33m)\u001b[0m\u001b[1;33m\u001b[0m\u001b[1;33m\u001b[0m\u001b[0m\n\u001b[0m\u001b[0;32m    706\u001b[0m         \u001b[1;32melse\u001b[0m\u001b[1;33m:\u001b[0m\u001b[1;33m\u001b[0m\u001b[1;33m\u001b[0m\u001b[0m\n\u001b[0;32m    707\u001b[0m             \u001b[1;32mreturn\u001b[0m \u001b[0mparsed_response\u001b[0m\u001b[1;33m\u001b[0m\u001b[1;33m\u001b[0m\u001b[0m\n",
      "\u001b[1;31mClientError\u001b[0m: An error occurred (BucketNotEmpty) when calling the DeleteBucket operation: The bucket you tried to delete is not empty"
     ]
    }
   ],
   "source": [
    "s3 = boto3.resource('s3')\n",
    "bucket = s3.Bucket('nbaflow-boto3')\n",
    "bucket.delete()"
   ]
  },
  {
   "cell_type": "code",
   "execution_count": 12,
   "id": "b60ed2e6",
   "metadata": {
    "ExecuteTime": {
     "end_time": "2021-08-27T17:56:57.860204Z",
     "start_time": "2021-08-27T17:56:57.543706Z"
    }
   },
   "outputs": [
    {
     "data": {
      "text/plain": [
       "[{'ResponseMetadata': {'RequestId': 'F0Q7QJKPPPW8VAVQ',\n",
       "   'HostId': '1GBDG9FH/PMvbX3Q4T56CyOt6T3iGpJs/e7LIrGgbclcHHJQPh1NxNSXLahiE45vocS7Po7BlQ4=',\n",
       "   'HTTPStatusCode': 200,\n",
       "   'HTTPHeaders': {'x-amz-id-2': '1GBDG9FH/PMvbX3Q4T56CyOt6T3iGpJs/e7LIrGgbclcHHJQPh1NxNSXLahiE45vocS7Po7BlQ4=',\n",
       "    'x-amz-request-id': 'F0Q7QJKPPPW8VAVQ',\n",
       "    'date': 'Fri, 27 Aug 2021 17:56:58 GMT',\n",
       "    'content-type': 'application/xml',\n",
       "    'transfer-encoding': 'chunked',\n",
       "    'server': 'AmazonS3',\n",
       "    'connection': 'close'},\n",
       "   'RetryAttempts': 0},\n",
       "  'Deleted': [{'Key': 'data/all_players_gamelog.csv'},\n",
       "   {'Key': 'data/all_players_gamelog_2.csv'}]}]"
      ]
     },
     "execution_count": 12,
     "metadata": {},
     "output_type": "execute_result"
    }
   ],
   "source": [
    "bucket.objects.all().delete()"
   ]
  },
  {
   "cell_type": "code",
   "execution_count": 28,
   "id": "bec07075",
   "metadata": {
    "ExecuteTime": {
     "end_time": "2021-08-27T18:03:03.967139Z",
     "start_time": "2021-08-27T18:03:03.689598Z"
    }
   },
   "outputs": [
    {
     "data": {
      "text/plain": [
       "'\"412281cfcdc50b2bcac43630b4d0099a\"'"
      ]
     },
     "execution_count": 28,
     "metadata": {},
     "output_type": "execute_result"
    }
   ],
   "source": [
    "bucket_objects = [obj for obj in bucket.objects.all()]\n",
    "bucket_objects[0].e_tag"
   ]
  },
  {
   "cell_type": "code",
   "execution_count": 30,
   "id": "51309423",
   "metadata": {
    "ExecuteTime": {
     "end_time": "2021-08-27T18:16:10.349789Z",
     "start_time": "2021-08-27T18:16:10.332837Z"
    }
   },
   "outputs": [
    {
     "ename": "ModuleNotFoundError",
     "evalue": "No module named 'botocore.errorfactory.errorfactory'; 'botocore.errorfactory' is not a package",
     "output_type": "error",
     "traceback": [
      "\u001b[1;31m---------------------------------------------------------------------------\u001b[0m",
      "\u001b[1;31mModuleNotFoundError\u001b[0m                       Traceback (most recent call last)",
      "\u001b[1;32m~\\AppData\\Local\\Temp/ipykernel_11256/3258032657.py\u001b[0m in \u001b[0;36m<module>\u001b[1;34m\u001b[0m\n\u001b[1;32m----> 1\u001b[1;33m \u001b[1;32mfrom\u001b[0m \u001b[0mbotocore\u001b[0m\u001b[1;33m.\u001b[0m\u001b[0merrorfactory\u001b[0m\u001b[1;33m.\u001b[0m\u001b[0merrorfactory\u001b[0m \u001b[1;32mimport\u001b[0m \u001b[0mNoSuchBucket\u001b[0m\u001b[1;33m\u001b[0m\u001b[1;33m\u001b[0m\u001b[0m\n\u001b[0m",
      "\u001b[1;31mModuleNotFoundError\u001b[0m: No module named 'botocore.errorfactory.errorfactory'; 'botocore.errorfactory' is not a package"
     ]
    }
   ],
   "source": [
    "from botocore.errorfactory import No"
   ]
  },
  {
   "cell_type": "code",
   "execution_count": 31,
   "id": "023865a3",
   "metadata": {
    "ExecuteTime": {
     "end_time": "2021-08-27T18:17:49.232795Z",
     "start_time": "2021-08-27T18:17:49.212814Z"
    }
   },
   "outputs": [
    {
     "ename": "AttributeError",
     "evalue": "'s3.ServiceResource' object has no attribute 'exceptions'",
     "output_type": "error",
     "traceback": [
      "\u001b[1;31m---------------------------------------------------------------------------\u001b[0m",
      "\u001b[1;31mAttributeError\u001b[0m                            Traceback (most recent call last)",
      "\u001b[1;32m~\\AppData\\Local\\Temp/ipykernel_11256/3267502207.py\u001b[0m in \u001b[0;36m<module>\u001b[1;34m\u001b[0m\n\u001b[1;32m----> 1\u001b[1;33m \u001b[1;33m[\u001b[0m\u001b[0me\u001b[0m \u001b[1;32mfor\u001b[0m \u001b[0me\u001b[0m \u001b[1;32min\u001b[0m \u001b[0mdir\u001b[0m\u001b[1;33m(\u001b[0m\u001b[0ms3\u001b[0m\u001b[1;33m.\u001b[0m\u001b[0mexceptions\u001b[0m\u001b[1;33m)\u001b[0m \u001b[1;32mif\u001b[0m \u001b[0me\u001b[0m\u001b[1;33m.\u001b[0m\u001b[0mendswith\u001b[0m\u001b[1;33m(\u001b[0m\u001b[1;34m'Exception'\u001b[0m\u001b[1;33m)\u001b[0m\u001b[1;33m]\u001b[0m\u001b[1;33m\u001b[0m\u001b[1;33m\u001b[0m\u001b[0m\n\u001b[0m",
      "\u001b[1;31mAttributeError\u001b[0m: 's3.ServiceResource' object has no attribute 'exceptions'"
     ]
    }
   ],
   "source": [
    "[e for e in dir(s3.exceptions) if e.endswith('Exception')]"
   ]
  },
  {
   "cell_type": "code",
   "execution_count": 35,
   "id": "35be7857",
   "metadata": {
    "ExecuteTime": {
     "end_time": "2021-08-27T18:42:59.934966Z",
     "start_time": "2021-08-27T18:42:59.916951Z"
    }
   },
   "outputs": [
    {
     "ename": "AttributeError",
     "evalue": "<botocore.errorfactory.S3Exceptions object at 0x000001E1B5A6E550> object has no attribute 'BucketNotEmpty'. Valid exceptions are: BucketAlreadyExists, BucketAlreadyOwnedByYou, InvalidObjectState, NoSuchBucket, NoSuchKey, NoSuchUpload, ObjectAlreadyInActiveTierError, ObjectNotInActiveTierError",
     "output_type": "error",
     "traceback": [
      "\u001b[1;31m---------------------------------------------------------------------------\u001b[0m",
      "\u001b[1;31mAttributeError\u001b[0m                            Traceback (most recent call last)",
      "\u001b[1;32m~\\AppData\\Local\\Temp/ipykernel_11256/942627314.py\u001b[0m in \u001b[0;36m<module>\u001b[1;34m\u001b[0m\n\u001b[1;32m----> 1\u001b[1;33m \u001b[0ms3_client\u001b[0m\u001b[1;33m.\u001b[0m\u001b[0mexceptions\u001b[0m\u001b[1;33m.\u001b[0m\u001b[0mBucketNotEmpty\u001b[0m\u001b[1;33m\u001b[0m\u001b[1;33m\u001b[0m\u001b[0m\n\u001b[0m",
      "\u001b[1;32mc:\\users\\thipa\\python-venvs\\nbaflow-venv\\lib\\site-packages\\botocore\\errorfactory.py\u001b[0m in \u001b[0;36m__getattr__\u001b[1;34m(self, name)\u001b[0m\n\u001b[0;32m     49\u001b[0m             \u001b[1;32min\u001b[0m \u001b[0mself\u001b[0m\u001b[1;33m.\u001b[0m\u001b[0m_code_to_exception\u001b[0m\u001b[1;33m.\u001b[0m\u001b[0mvalues\u001b[0m\u001b[1;33m(\u001b[0m\u001b[1;33m)\u001b[0m\u001b[1;33m\u001b[0m\u001b[1;33m\u001b[0m\u001b[0m\n\u001b[0;32m     50\u001b[0m         ]\n\u001b[1;32m---> 51\u001b[1;33m         raise AttributeError(\n\u001b[0m\u001b[0;32m     52\u001b[0m             '%r object has no attribute %r. Valid exceptions are: %s' % (\n\u001b[0;32m     53\u001b[0m                 self, name, ', '.join(exception_cls_names)))\n",
      "\u001b[1;31mAttributeError\u001b[0m: <botocore.errorfactory.S3Exceptions object at 0x000001E1B5A6E550> object has no attribute 'BucketNotEmpty'. Valid exceptions are: BucketAlreadyExists, BucketAlreadyOwnedByYou, InvalidObjectState, NoSuchBucket, NoSuchKey, NoSuchUpload, ObjectAlreadyInActiveTierError, ObjectNotInActiveTierError"
     ]
    }
   ],
   "source": [
    "s3_client.exceptions.BucketNotEmpty"
   ]
  },
  {
   "cell_type": "code",
   "execution_count": 33,
   "id": "6cb36ab4",
   "metadata": {
    "ExecuteTime": {
     "end_time": "2021-08-27T18:19:53.634476Z",
     "start_time": "2021-08-27T18:19:53.611517Z"
    }
   },
   "outputs": [
    {
     "data": {
      "text/plain": [
       "botocore.errorfactory.NoSuchBucket"
      ]
     },
     "execution_count": 33,
     "metadata": {},
     "output_type": "execute_result"
    }
   ],
   "source": [
    "boto3.client('s3').exceptions.NoSuchBucket"
   ]
  },
  {
   "cell_type": "code",
   "execution_count": 34,
   "id": "26351bef",
   "metadata": {
    "ExecuteTime": {
     "end_time": "2021-08-27T18:26:01.858588Z",
     "start_time": "2021-08-27T18:26:01.837617Z"
    }
   },
   "outputs": [
    {
     "ename": "AttributeError",
     "evalue": "<botocore.errorfactory.S3Exceptions object at 0x000001E1B5A6E550> object has no attribute 'BucketNotEmpty'. Valid exceptions are: BucketAlreadyExists, BucketAlreadyOwnedByYou, InvalidObjectState, NoSuchBucket, NoSuchKey, NoSuchUpload, ObjectAlreadyInActiveTierError, ObjectNotInActiveTierError",
     "output_type": "error",
     "traceback": [
      "\u001b[1;31m---------------------------------------------------------------------------\u001b[0m",
      "\u001b[1;31mAttributeError\u001b[0m                            Traceback (most recent call last)",
      "\u001b[1;32m~\\AppData\\Local\\Temp/ipykernel_11256/131116626.py\u001b[0m in \u001b[0;36m<module>\u001b[1;34m\u001b[0m\n\u001b[1;32m----> 1\u001b[1;33m \u001b[0mboto3\u001b[0m\u001b[1;33m.\u001b[0m\u001b[0mclient\u001b[0m\u001b[1;33m(\u001b[0m\u001b[1;34m's3'\u001b[0m\u001b[1;33m)\u001b[0m\u001b[1;33m.\u001b[0m\u001b[0mexceptions\u001b[0m\u001b[1;33m.\u001b[0m\u001b[0mBucketNotEmpty\u001b[0m\u001b[1;33m\u001b[0m\u001b[1;33m\u001b[0m\u001b[0m\n\u001b[0m",
      "\u001b[1;32mc:\\users\\thipa\\python-venvs\\nbaflow-venv\\lib\\site-packages\\botocore\\errorfactory.py\u001b[0m in \u001b[0;36m__getattr__\u001b[1;34m(self, name)\u001b[0m\n\u001b[0;32m     49\u001b[0m             \u001b[1;32min\u001b[0m \u001b[0mself\u001b[0m\u001b[1;33m.\u001b[0m\u001b[0m_code_to_exception\u001b[0m\u001b[1;33m.\u001b[0m\u001b[0mvalues\u001b[0m\u001b[1;33m(\u001b[0m\u001b[1;33m)\u001b[0m\u001b[1;33m\u001b[0m\u001b[1;33m\u001b[0m\u001b[0m\n\u001b[0;32m     50\u001b[0m         ]\n\u001b[1;32m---> 51\u001b[1;33m         raise AttributeError(\n\u001b[0m\u001b[0;32m     52\u001b[0m             '%r object has no attribute %r. Valid exceptions are: %s' % (\n\u001b[0;32m     53\u001b[0m                 self, name, ', '.join(exception_cls_names)))\n",
      "\u001b[1;31mAttributeError\u001b[0m: <botocore.errorfactory.S3Exceptions object at 0x000001E1B5A6E550> object has no attribute 'BucketNotEmpty'. Valid exceptions are: BucketAlreadyExists, BucketAlreadyOwnedByYou, InvalidObjectState, NoSuchBucket, NoSuchKey, NoSuchUpload, ObjectAlreadyInActiveTierError, ObjectNotInActiveTierError"
     ]
    }
   ],
   "source": [
    "boto3.client('s3').exceptions.BucketNotEmpty"
   ]
  },
  {
   "cell_type": "code",
   "execution_count": 38,
   "id": "ccd284a9",
   "metadata": {
    "ExecuteTime": {
     "end_time": "2021-08-27T19:57:35.713606Z",
     "start_time": "2021-08-27T19:57:35.704630Z"
    }
   },
   "outputs": [
    {
     "name": "stdout",
     "output_type": "stream",
     "text": [
      "['all_players_gamelog.csv', 'backup', 'images']\n"
     ]
    }
   ],
   "source": [
    "DATA_PATH = r'C:/Users/thipa/workspaces/nbaflow/dev/data/'\n",
    "import os\n",
    "print(os.listdir(DATA_PATH))"
   ]
  },
  {
   "cell_type": "code",
   "execution_count": 45,
   "id": "1e32168b",
   "metadata": {
    "ExecuteTime": {
     "end_time": "2021-08-27T20:01:44.918391Z",
     "start_time": "2021-08-27T20:01:44.895456Z"
    }
   },
   "outputs": [
    {
     "name": "stdout",
     "output_type": "stream",
     "text": [
      "backup\n",
      "images\n",
      "images\n",
      "docs\n",
      "players\n"
     ]
    }
   ],
   "source": [
    "for path, dirs, files in os.walk(DATA_PATH):\n",
    "    for d in dirs:\n",
    "        print(d)\n",
    "    \"\"\"for name in files:\n",
    "        filepath = os.path.join(path, name)\n",
    "        print(name)\n",
    "        #print(os.path.basename(filepath))\"\"\""
   ]
  },
  {
   "cell_type": "code",
   "execution_count": 47,
   "id": "1612c56b",
   "metadata": {
    "ExecuteTime": {
     "end_time": "2021-08-27T20:16:34.938203Z",
     "start_time": "2021-08-27T20:16:34.915238Z"
    }
   },
   "outputs": [
    {
     "ename": "ValueError",
     "evalue": "too many values to unpack (expected 3)",
     "output_type": "error",
     "traceback": [
      "\u001b[1;31m---------------------------------------------------------------------------\u001b[0m",
      "\u001b[1;31mValueError\u001b[0m                                Traceback (most recent call last)",
      "\u001b[1;32m~\\AppData\\Local\\Temp/ipykernel_11256/2783527602.py\u001b[0m in \u001b[0;36m<module>\u001b[1;34m\u001b[0m\n\u001b[1;32m----> 1\u001b[1;33m \u001b[0mpath\u001b[0m\u001b[1;33m,\u001b[0m \u001b[0mdirs\u001b[0m\u001b[1;33m,\u001b[0m \u001b[0mfiles\u001b[0m \u001b[1;33m=\u001b[0m \u001b[0mos\u001b[0m\u001b[1;33m.\u001b[0m\u001b[0mwalk\u001b[0m\u001b[1;33m(\u001b[0m\u001b[0mDATA_PATH\u001b[0m\u001b[1;33m)\u001b[0m\u001b[1;33m\u001b[0m\u001b[1;33m\u001b[0m\u001b[0m\n\u001b[0m",
      "\u001b[1;31mValueError\u001b[0m: too many values to unpack (expected 3)"
     ]
    }
   ],
   "source": [
    "path, dirs, files = os.walk(DATA_PATH)"
   ]
  },
  {
   "cell_type": "code",
   "execution_count": 57,
   "id": "f4945e77",
   "metadata": {
    "ExecuteTime": {
     "end_time": "2021-08-27T20:18:48.115403Z",
     "start_time": "2021-08-27T20:18:48.100431Z"
    }
   },
   "outputs": [
    {
     "data": {
      "text/plain": [
       "885"
      ]
     },
     "execution_count": 57,
     "metadata": {},
     "output_type": "execute_result"
    }
   ],
   "source": [
    "len([name for _, _, files in os.walk(DATA_PATH) for name in files])"
   ]
  },
  {
   "cell_type": "code",
   "execution_count": 67,
   "id": "043d714d",
   "metadata": {
    "ExecuteTime": {
     "end_time": "2021-08-27T20:30:02.009672Z",
     "start_time": "2021-08-27T20:30:01.933877Z"
    }
   },
   "outputs": [
    {
     "name": "stdout",
     "output_type": "stream",
     "text": [
      "root/all_players_gamelog.csv\n",
      "root/backup\\2019-20_gamelog.csv\n",
      "root/backup\\2020-21_gamelog.csv\n",
      "root/backup\\all_players_gamelog.csv\n",
      "root/backup\\all_players_gamelog_101_150.csv\n",
      "root/backup\\all_players_gamelog_151_200.csv\n",
      "root/backup\\all_players_gamelog_1_50.csv\n",
      "root/backup\\all_players_gamelog_201_250.csv\n",
      "root/backup\\all_players_gamelog_251_300.csv\n",
      "root/backup\\all_players_gamelog_301_350.csv\n",
      "root/backup\\all_players_gamelog_351_400.csv\n",
      "root/backup\\all_players_gamelog_401_450.csv\n",
      "root/backup\\all_players_gamelog_451_end.csv\n",
      "root/backup\\all_players_gamelog_51_100.csv\n",
      "root/backup\\one_player_gamelog.csv\n",
      "root/backup\\images\\Aaron Gordon.png\n",
      "root/backup\\images\\Aaron Holiday.png\n",
      "root/backup\\images\\Abdel Nader.png\n",
      "root/backup\\images\\Adam Mokoka.png\n",
      "root/backup\\images\\Al Horford.png\n",
      "root/backup\\images\\Al-Farouq Aminu.png\n",
      "root/backup\\images\\Alec Burks.png\n",
      "root/backup\\images\\Alen Smailagic.png\n",
      "root/backup\\images\\Alex Caruso.png\n",
      "root/backup\\images\\Alex Len.png\n",
      "root/backup\\images\\Alfonzo McKinnie.png\n",
      "root/backup\\images\\Alize Johnson.png\n",
      "root/backup\\images\\Amida Brimah.png\n",
      "root/backup\\images\\Amir Coffey.png\n",
      "root/backup\\images\\Andre Drummond.png\n",
      "root/backup\\images\\Andre Iguodala.png\n",
      "root/backup\\images\\Andrew Wiggins.png\n",
      "root/backup\\images\\Anfernee Simons.png\n",
      "root/backup\\images\\Anthony Davis.png\n",
      "root/backup\\images\\Anthony Tolliver.png\n",
      "root/backup\\images\\Aron Baynes.png\n",
      "root/backup\\images\\Austin Rivers.png\n",
      "root/backup\\images\\Avery Bradley.png\n",
      "root/backup\\images\\Axel Toupane.png\n",
      "root/backup\\images\\Bam Adebayo.png\n",
      "root/backup\\images\\Ben McLemore.png\n",
      "root/backup\\images\\Ben Simmons.png\n",
      "root/backup\\images\\Bismack Biyombo.png\n",
      "root/backup\\images\\Blake Griffin.png\n",
      "root/backup\\images\\Boban Marjanovic.png\n",
      "root/backup\\images\\Bobby Portis.png\n",
      "root/backup\\images\\Bogdan Bogdanovic.png\n",
      "root/backup\\images\\Bojan Bogdanovic.png\n",
      "root/backup\\images\\Bol Bol.png\n",
      "root/backup\\images\\Brad Wanamaker.png\n",
      "root/backup\\images\\Bradley Beal.png\n",
      "root/backup\\images\\Brandon Clarke.png\n",
      "root/backup\\images\\Brandon Goodwin.png\n",
      "root/backup\\images\\Brandon Ingram.png\n",
      "root/backup\\images\\Brook Lopez.png\n",
      "root/backup\\images\\Bruce Brown.png\n",
      "root/backup\\images\\Bruno Fernando.png\n",
      "root/backup\\images\\Bryn Forbes.png\n",
      "root/backup\\images\\Buddy Hield.png\n",
      "root/backup\\images\\Caleb Martin.png\n",
      "root/backup\\images\\Cam Reddish.png\n",
      "root/backup\\images\\Cameron Johnson.png\n",
      "root/backup\\images\\Cameron Payne.png\n",
      "root/backup\\images\\Caris LeVert.png\n",
      "root/backup\\images\\Carmelo Anthony.png\n",
      "root/backup\\images\\Carsen Edwards.png\n",
      "root/backup\\images\\Cedi Osman.png\n",
      "root/backup\\images\\Chandler Hutchison.png\n",
      "root/backup\\images\\Charlie Brown Jr..png\n",
      "root/backup\\images\\Chasson Randle.png\n",
      "root/backup\\images\\Chimezie Metu.png\n",
      "root/backup\\images\\Chris Boucher.png\n",
      "root/backup\\images\\Chris Chiozza.png\n",
      "root/backup\\images\\Chris Paul.png\n",
      "root/backup\\images\\Christian Wood.png\n",
      "root/backup\\images\\CJ McCollum.png\n",
      "root/backup\\images\\Clint Capela.png\n",
      "root/backup\\images\\Coby White.png\n",
      "root/backup\\images\\Cody Martin.png\n",
      "root/backup\\images\\Cody Zeller.png\n",
      "root/backup\\images\\Collin Sexton.png\n",
      "root/backup\\images\\Cory Joseph.png\n",
      "root/backup\\images\\Cristiano Felicio.png\n",
      "root/backup\\images\\D'Angelo Russell.png\n",
      "root/backup\\images\\D.J. Augustin.png\n",
      "root/backup\\images\\D.J. Wilson.png\n",
      "root/backup\\images\\Damian Jones.png\n",
      "root/backup\\images\\Damian Lillard.png\n",
      "root/backup\\images\\Damion Lee.png\n",
      "root/backup\\images\\Damyean Dotson.png\n",
      "root/backup\\images\\Daniel Gafford.png\n",
      "root/backup\\images\\Daniel Theis.png\n",
      "root/backup\\images\\Danilo Gallinari.png\n",
      "root/backup\\images\\Danny Green.png\n",
      "root/backup\\images\\Dante Exum.png\n",
      "root/backup\\images\\Danuel House Jr..png\n",
      "root/backup\\images\\DaQuan Jeffries.png\n",
      "root/backup\\images\\Dario Saric.png\n",
      "root/backup\\images\\Darius Bazley.png\n",
      "root/backup\\images\\Darius Garland.png\n",
      "root/backup\\images\\David Nwaba.png\n",
      "root/backup\\images\\Davis Bertans.png\n",
      "root/backup\\images\\De'Aaron Fox.png\n",
      "root/backup\\images\\De'Andre Hunter.png\n",
      "root/backup\\images\\De'Anthony Melton.png\n",
      "root/backup\\images\\Dean Wade.png\n",
      "root/backup\\images\\Deandre Ayton.png\n",
      "root/backup\\images\\DeAndre Jordan.png\n",
      "root/backup\\images\\DeAndre' Bembry.png\n",
      "root/backup\\images\\Dejounte Murray.png\n",
      "root/backup\\images\\Delon Wright.png\n",
      "root/backup\\images\\DeMar DeRozan.png\n",
      "root/backup\\images\\DeMarcus Cousins.png\n",
      "root/backup\\images\\Dennis Schroder.png\n",
      "root/backup\\images\\Dennis Smith Jr..png\n",
      "root/backup\\images\\Denzel Valentine.png\n",
      "root/backup\\images\\Derrick Favors.png\n",
      "root/backup\\images\\Derrick Jones Jr..png\n",
      "root/backup\\images\\Derrick Rose.png\n",
      "root/backup\\images\\Derrick White.png\n",
      "root/backup\\images\\Devin Booker.png\n",
      "root/backup\\images\\Devontae Cacok.png\n",
      "root/backup\\images\\Devonte' Graham.png\n",
      "root/backup\\images\\Dewayne Dedmon.png\n",
      "root/backup\\images\\Dillon Brooks.png\n",
      "root/backup\\images\\Domantas Sabonis.png\n",
      "root/backup\\images\\Donovan Mitchell.png\n",
      "root/backup\\images\\Donte DiVincenzo.png\n",
      "root/backup\\images\\Dorian Finney-Smith.png\n",
      "root/backup\\images\\Doug McDermott.png\n",
      "root/backup\\images\\Draymond Green.png\n",
      "root/backup\\images\\Drew Eubanks.png\n",
      "root/backup\\images\\Duncan Robinson.png\n",
      "root/backup\\images\\Dwayne Bacon.png\n",
      "root/backup\\images\\Dwight Howard.png\n",
      "root/backup\\images\\Dwight Powell.png\n",
      "root/backup\\images\\E'Twaun Moore.png\n",
      "root/backup\\images\\Ed Davis.png\n",
      "root/backup\\images\\Edmond Sumner.png\n",
      "root/backup\\images\\Elfrid Payton.png\n",
      "root/backup\\images\\Enes Kanter.png\n",
      "root/backup\\images\\Eric Bledsoe.png\n",
      "root/backup\\images\\Eric Gordon.png\n",
      "root/backup\\images\\Eric Paschall.png\n",
      "root/backup\\images\\Ersan Ilyasova.png\n",
      "root/backup\\images\\Evan Fournier.png\n",
      "root/backup\\images\\Frank Jackson.png\n",
      "root/backup\\images\\Frank Kaminsky.png\n",
      "root/backup\\images\\Frank Ntilikina.png\n",
      "root/backup\\images\\Fred VanVleet.png\n",
      "root/backup\\images\\Furkan Korkmaz.png\n",
      "root/backup\\images\\Gabe Vincent.png\n",
      "root/backup\\images\\Garrett Temple.png\n",
      "root/backup\\images\\Garrison Mathews.png\n",
      "root/backup\\images\\Gary Clark.png\n",
      "root/backup\\images\\Gary Harris.png\n",
      "root/backup\\images\\Gary Payton II.png\n",
      "root/backup\\images\\Gary Trent Jr..png\n",
      "root/backup\\images\\George Hill.png\n",
      "root/backup\\images\\Georges Niang.png\n",
      "root/backup\\images\\Giannis Antetokounmpo.png\n",
      "root/backup\\images\\Goga Bitadze.png\n",
      "root/backup\\images\\Goran Dragic.png\n",
      "root/backup\\images\\Gordon Hayward.png\n",
      "root/backup\\images\\Gorgui Dieng.png\n",
      "root/backup\\images\\Grant Williams.png\n",
      "root/backup\\images\\Grayson Allen.png\n",
      "root/backup\\images\\Hamidou Diallo.png\n",
      "root/backup\\images\\Harrison Barnes.png\n",
      "root/backup\\images\\Harry Giles III.png\n",
      "root/backup\\images\\Hassan Whiteside.png\n",
      "root/backup\\images\\Ignas Brazdeikis.png\n",
      "root/backup\\images\\Isaac Bonga.png\n",
      "root/backup\\images\\Isaiah Hartenstein.png\n",
      "root/backup\\images\\Isaiah Roby.png\n",
      "root/backup\\images\\Ish Smith.png\n",
      "root/backup\\images\\Ivica Zubac.png\n",
      "root/backup\\images\\Ja Morant.png\n",
      "root/backup\\images\\Jabari Parker.png\n",
      "root/backup\\images\\Jae Crowder.png\n",
      "root/backup\\images\\Jahlil Okafor.png\n",
      "root/backup\\images\\JaKarr Sampson.png\n",
      "root/backup\\images\\Jake Layman.png\n",
      "root/backup\\images\\Jakob Poeltl.png\n",
      "root/backup\\images\\Jalen Brunson.png\n",
      "root/backup\\images\\Jalen McDaniels.png\n",
      "root/backup\\images\\Jamal Murray.png\n",
      "root/backup\\images\\James Ennis III.png\n",
      "root/backup\\images\\James Harden.png\n",
      "root/backup\\images\\James Johnson.png\n",
      "root/backup\\images\\James Nunnally.png\n",
      "root/backup\\images\\JaMychal Green.png\n",
      "root/backup\\images\\Jared Dudley.png\n",
      "root/backup\\images\\Jared Harper.png\n",
      "root/backup\\images\\Jaren Jackson Jr..png\n",
      "root/backup\\images\\Jarred Vanderbilt.png\n",
      "root/backup\\images\\Jarrell Brantley.png\n",
      "root/backup\\images\\Jarrett Allen.png\n",
      "root/backup\\images\\Jarrett Culver.png\n",
      "root/backup\\images\\JaVale McGee.png\n",
      "root/backup\\images\\Javonte Green.png\n",
      "root/backup\\images\\Jaxson Hayes.png\n",
      "root/backup\\images\\Jaylen Brown.png\n",
      "root/backup\\images\\Jaylen Hoard.png\n",
      "root/backup\\images\\Jaylen Nowell.png\n",
      "root/backup\\images\\Jayson Tatum.png\n",
      "root/backup\\images\\Jeff Green.png\n",
      "root/backup\\images\\Jeff Teague.png\n",
      "root/backup\\images\\Jerami Grant.png\n",
      "root/backup\\images\\Jeremiah Martin.png\n",
      "root/backup\\images\\Jeremy Lamb.png\n",
      "root/backup\\images\\Jevon Carter.png\n",
      "root/backup\\images\\Jimmy Butler.png\n",
      "root/backup\\images\\JJ Redick.png\n",
      "root/backup\\images\\Joe Harris.png\n",
      "root/backup\\images\\Joe Ingles.png\n",
      "root/backup\\images\\Joel Embiid.png\n",
      "root/backup\\images\\John Collins.png\n",
      "root/backup\\images\\John Konchar.png\n",
      "root/backup\\images\\John Wall.png\n",
      "root/backup\\images\\Jonas Valanciunas.png\n",
      "root/backup\\images\\Jonathan Isaac.png\n",
      "root/backup\\images\\Jordan Bell.png\n",
      "root/backup\\images\\Jordan Clarkson.png\n",
      "root/backup\\images\\Jordan McLaughlin.png\n",
      "root/backup\\images\\Jordan Poole.png\n",
      "root/backup\\images\\Josh Hart.png\n",
      "root/backup\\images\\Josh Jackson.png\n",
      "root/backup\\images\\Josh Okogie.png\n",
      "root/backup\\images\\Josh Richardson.png\n",
      "root/backup\\images\\Jrue Holiday.png\n",
      "root/backup\\images\\Juan Toscano-Anderson.png\n",
      "root/backup\\images\\Juancho Hernangomez.png\n",
      "root/backup\\images\\Julius Randle.png\n",
      "root/backup\\images\\Justin Holiday.png\n",
      "root/backup\\images\\Justin Jackson.png\n",
      "root/backup\\images\\Justin James.png\n",
      "root/backup\\images\\Justise Winslow.png\n",
      "root/backup\\images\\Jusuf Nurkic.png\n",
      "root/backup\\images\\Juwan Morgan.png\n",
      "root/backup\\images\\Karl-Anthony Towns.png\n",
      "root/backup\\images\\Kawhi Leonard.png\n",
      "root/backup\\images\\Keita Bates-Diop.png\n",
      "root/backup\\images\\Kelan Martin.png\n",
      "root/backup\\images\\Keldon Johnson.png\n",
      "root/backup\\images\\Kelly Olynyk.png\n",
      "root/backup\\images\\Kelly Oubre Jr..png\n",
      "root/backup\\images\\Kemba Walker.png\n",
      "root/backup\\images\\Kendrick Nunn.png\n",
      "root/backup\\images\\Kenrich Williams.png\n",
      "root/backup\\images\\Kent Bazemore.png\n",
      "root/backup\\images\\Kentavious Caldwell-Pope.png\n",
      "root/backup\\images\\Kevin Durant.png\n",
      "root/backup\\images\\Kevin Huerter.png\n",
      "root/backup\\images\\Kevin Knox II.png\n",
      "root/backup\\images\\Kevin Love.png\n",
      "root/backup\\images\\Kevin Porter Jr..png\n",
      "root/backup\\images\\Kevon Looney.png\n",
      "root/backup\\images\\Khem Birch.png\n",
      "root/backup\\images\\Khris Middleton.png\n",
      "root/backup\\images\\Khyri Thomas.png\n",
      "root/backup\\images\\Klay Thompson.png\n",
      "root/backup\\images\\Kostas Antetokounmpo.png\n",
      "root/backup\\images\\Kris Dunn.png\n",
      "root/backup\\images\\Kristaps Porzingis.png\n",
      "root/backup\\images\\Kyle Anderson.png\n",
      "root/backup\\images\\Kyle Guy.png\n",
      "root/backup\\images\\Kyle Kuzma.png\n",
      "root/backup\\images\\Kyle Lowry.png\n",
      "root/backup\\images\\Kyrie Irving.png\n",
      "root/backup\\images\\KZ Okpala.png\n",
      "root/backup\\images\\Landry Shamet.png\n",
      "root/backup\\images\\Langston Galloway.png\n",
      "root/backup\\images\\Larry Nance Jr..png\n",
      "root/backup\\images\\Lauri Markkanen.png\n",
      "root/backup\\images\\LeBron James.png\n",
      "root/backup\\images\\Lonnie Walker IV.png\n",
      "root/backup\\images\\Lonzo Ball.png\n",
      "root/backup\\images\\Lou Williams.png\n",
      "root/backup\\images\\Louis King.png\n",
      "root/backup\\images\\Luguentz Dort.png\n",
      "root/backup\\images\\Luka Doncic.png\n",
      "root/backup\\images\\Luka Samanic.png\n",
      "root/backup\\images\\Luke Kennard.png\n",
      "root/backup\\images\\Luke Kornet.png\n",
      "root/backup\\images\\Malcolm Brogdon.png\n",
      "root/backup\\images\\Malik Beasley.png\n",
      "root/backup\\images\\Malik Monk.png\n",
      "root/backup\\images\\Marc Gasol.png\n",
      "root/backup\\images\\Marcus Morris Sr..png\n",
      "root/backup\\images\\Marcus Smart.png\n",
      "root/backup\\images\\Markelle Fultz.png\n",
      "root/backup\\images\\Markieff Morris.png\n",
      "root/backup\\images\\Marvin Bagley III.png\n",
      "root/backup\\images\\Mason Plumlee.png\n",
      "root/backup\\images\\Matisse Thybulle.png\n",
      "root/backup\\images\\Matt Thomas.png\n",
      "root/backup\\images\\Matthew Dellavedova.png\n",
      "root/backup\\images\\Maurice Harkless.png\n",
      "root/backup\\images\\Max Strus.png\n",
      "root/backup\\images\\Maxi Kleber.png\n",
      "root/backup\\images\\Mfiondu Kabengele.png\n",
      "root/backup\\images\\Michael Carter-Williams.png\n",
      "root/backup\\images\\Michael Porter Jr..png\n",
      "root/backup\\images\\Mikal Bridges.png\n",
      "root/backup\\images\\Mike Conley.png\n",
      "root/backup\\images\\Mike James.png\n",
      "root/backup\\images\\Mike Muscala.png\n",
      "root/backup\\images\\Mike Scott.png\n",
      "root/backup\\images\\Miles Bridges.png\n",
      "root/backup\\images\\Mitchell Robinson.png\n",
      "root/backup\\images\\Miye Oni.png\n",
      "root/backup\\images\\Mo Bamba.png\n",
      "root/backup\\images\\Monte Morris.png\n",
      "root/backup\\images\\Montrezl Harrell.png\n",
      "root/backup\\images\\Moritz Wagner.png\n",
      "root/backup\\images\\Moses Brown.png\n",
      "root/backup\\images\\Mychal Mulder.png\n",
      "root/backup\\images\\Myles Turner.png\n",
      "root/backup\\images\\Nassir Little.png\n",
      "root/backup\\images\\Naz Reid.png\n",
      "root/backup\\images\\Nemanja Bjelica.png\n",
      "root/backup\\images\\Nerlens Noel.png\n",
      "root/backup\\images\\Nickeil Alexander-Walker.png\n",
      "root/backup\\images\\Nico Mannion.png\n",
      "root/backup\\images\\Nicolas Batum.png\n",
      "root/backup\\images\\Nicolas Claxton.png\n",
      "root/backup\\images\\Nicolo Melli.png\n",
      "root/backup\\images\\Nikola Jokic.png\n",
      "root/backup\\images\\Nikola Vucevic.png\n",
      "root/backup\\images\\Norman Powell.png\n",
      "root/backup\\images\\Norvel Pelle.png\n",
      "root/backup\\images\\OG Anunoby.png\n",
      "root/backup\\images\\Oshae Brissett.png\n",
      "root/backup\\images\\Otto Porter Jr..png\n",
      "root/backup\\images\\P.J. Tucker.png\n",
      "root/backup\\images\\P.J. Washington.png\n",
      "root/backup\\images\\Pascal Siakam.png\n",
      "root/backup\\images\\Pat Connaughton.png\n",
      "root/backup\\images\\Patrick Beverley.png\n",
      "root/backup\\images\\Patrick Patterson.png\n",
      "root/backup\\images\\Patty Mills.png\n",
      "root/backup\\images\\Paul George.png\n",
      "root/backup\\images\\Paul Millsap.png\n",
      "root/backup\\images\\Paul Watson.png\n",
      "root/backup\\images\\PJ Dozier.png\n",
      "root/backup\\images\\Quinndary Weatherspoon.png\n",
      "root/backup\\images\\Rajon Rondo.png\n",
      "root/backup\\images\\Raul Neto.png\n",
      "root/backup\\images\\Rayjon Tucker.png\n",
      "root/backup\\images\\Reggie Bullock.png\n",
      "root/backup\\images\\Reggie Jackson.png\n",
      "root/backup\\images\\Richaun Holmes.png\n",
      "root/backup\\images\\Ricky Rubio.png\n",
      "root/backup\\images\\RJ Barrett.png\n",
      "root/backup\\images\\Robert Covington.png\n",
      "root/backup\\images\\Robert Williams III.png\n",
      "root/backup\\images\\Robin Lopez.png\n",
      "root/backup\\images\\Rodney Hood.png\n",
      "root/backup\\images\\Rodney McGruder.png\n",
      "root/backup\\images\\Romeo Langford.png\n",
      "root/backup\\images\\Rondae Hollis-Jefferson.png\n",
      "root/backup\\images\\Royce O'Neale.png\n",
      "root/backup\\images\\Rudy Gay.png\n",
      "root/backup\\images\\Rudy Gobert.png\n",
      "root/backup\\images\\Rui Hachimura.png\n",
      "root/backup\\images\\Russell Westbrook.png\n",
      "root/backup\\images\\Ryan Arcidiacono.png\n",
      "root/backup\\images\\Sean McDermott.png\n",
      "root/backup\\images\\Sekou Doumbouya.png\n",
      "root/backup\\images\\Semi Ojeleye.png\n",
      "root/backup\\images\\Serge Ibaka.png\n",
      "root/backup\\images\\Seth Curry.png\n",
      "root/backup\\images\\Shai Gilgeous-Alexander.png\n",
      "root/backup\\images\\Shake Milton.png\n",
      "root/backup\\images\\Shaquille Harrison.png\n",
      "root/backup\\images\\Sindarius Thornwell.png\n",
      "root/backup\\images\\Solomon Hill.png\n",
      "root/backup\\images\\Spencer Dinwiddie.png\n",
      "root/backup\\images\\Stanley Johnson.png\n",
      "root/backup\\images\\Stephen Curry.png\n",
      "root/backup\\images\\Sterling Brown.png\n",
      "root/backup\\images\\Steven Adams.png\n",
      "root/backup\\images\\Svi Mykhailiuk.png\n",
      "root/backup\\images\\T.J. Leaf.png\n",
      "root/backup\\images\\T.J. McConnell.png\n",
      "root/backup\\images\\T.J. Warren.png\n",
      "root/backup\\images\\Tacko Fall.png\n",
      "root/backup\\images\\Taj Gibson.png\n",
      "root/backup\\images\\Talen Horton-Tucker.png\n",
      "root/backup\\images\\Taurean Prince.png\n",
      "root/backup\\images\\Terance Mann.png\n",
      "root/backup\\images\\Terence Davis.png\n",
      "root/backup\\images\\Terrence Ross.png\n",
      "root/backup\\images\\Terry Rozier.png\n",
      "root/backup\\images\\Thaddeus Young.png\n",
      "root/backup\\images\\Thanasis Antetokounmpo.png\n",
      "root/backup\\images\\Theo Pinson.png\n",
      "root/backup\\images\\Thomas Bryant.png\n",
      "root/backup\\images\\Tim Frazier.png\n",
      "root/backup\\images\\Tim Hardaway Jr..png\n",
      "root/backup\\images\\Timothe Luwawu-Cabarrot.png\n",
      "root/backup\\images\\Tobias Harris.png\n",
      "root/backup\\images\\Tomas Satoransky.png\n",
      "root/backup\\images\\Tony Bradley.png\n",
      "root/backup\\images\\Tony Snell.png\n",
      "root/backup\\images\\Torrey Craig.png\n",
      "root/backup\\images\\Trae Young.png\n",
      "root/backup\\images\\Tremont Waters.png\n",
      "root/backup\\images\\Trevor Ariza.png\n",
      "root/backup\\images\\Trey Burke.png\n",
      "root/backup\\images\\Trey Lyles.png\n",
      "root/backup\\images\\Tristan Thompson.png\n",
      "root/backup\\images\\Troy Brown Jr..png\n",
      "root/backup\\images\\Ty Jerome.png\n",
      "root/backup\\images\\Ty-Shon Alexander.png\n",
      "root/backup\\images\\Tyler Cook.png\n",
      "root/backup\\images\\Tyler Herro.png\n",
      "root/backup\\images\\Tyler Johnson.png\n",
      "root/backup\\images\\Tyus Jones.png\n",
      "root/backup\\images\\Udonis Haslem.png\n",
      "root/backup\\images\\Victor Oladipo.png\n",
      "root/backup\\images\\Vlatko Cancar.png\n",
      "root/backup\\images\\Wayne Ellington.png\n",
      "root/backup\\images\\Wendell Carter Jr..png\n",
      "root/backup\\images\\Wenyen Gabriel.png\n",
      "root/backup\\images\\Wes Iwundu.png\n",
      "root/backup\\images\\Wesley Matthews.png\n",
      "root/backup\\images\\Will Barton.png\n",
      "root/backup\\images\\Willie Cauley-Stein.png\n",
      "root/backup\\images\\Willy Hernangomez.png\n",
      "root/backup\\images\\Yogi Ferrell.png\n",
      "root/backup\\images\\Yuta Watanabe.png\n",
      "root/backup\\images\\Zach Collins.png\n",
      "root/backup\\images\\Zach LaVine.png\n",
      "root/backup\\images\\Zion Williamson.png\n",
      "root/images\\unknown.png\n",
      "root/images\\docs\\aws-defaultvpc.PNG\n",
      "root/images\\docs\\aws-dev-diagram-v0.png\n",
      "root/images\\docs\\aws-dev-diagram-v1.png\n",
      "root/images\\docs\\aws-dev-diagram-v2.png\n",
      "root/images\\docs\\aws-ec2-connection.PNG\n",
      "root/images\\docs\\aws-ec2-insertdata.PNG\n",
      "root/images\\docs\\aws-ec2-playergamelog.PNG\n",
      "root/images\\docs\\aws-ec2-vscode.PNG\n",
      "root/images\\docs\\aws-git-clone.PNG\n",
      "root/images\\docs\\aws-igw.PNG\n",
      "root/images\\docs\\aws-rds-creation.PNG\n",
      "root/images\\docs\\aws-rds-local-createtable.PNG\n",
      "root/images\\docs\\aws-rds-pgadmin.PNG\n",
      "root/images\\docs\\aws-rtb.PNG\n",
      "root/images\\docs\\aws-s3-boto3-creation.PNG\n",
      "root/images\\docs\\aws-s3-bucket-nbaflow.PNG\n",
      "root/images\\docs\\aws-s3-bucket-public.PNG\n",
      "root/images\\docs\\aws-s3-imgs.PNG\n",
      "root/images\\docs\\aws-s3-not-public.PNG\n",
      "root/images\\docs\\aws-sg-creation.PNG\n",
      "root/images\\docs\\aws-ssh-config.PNG\n",
      "root/images\\docs\\aws-subnets.PNG\n",
      "root/images\\docs\\aws-vpcprojectdev.PNG\n",
      "root/images\\docs\\aws-vscode-sshextension.PNG\n",
      "root/images\\docs\\local-pgadmin-script.PNG\n",
      "root/images\\docs\\local-pgadmin-server.PNG\n",
      "root/images\\docs\\local-psycopg2-conn.PNG\n",
      "root/images\\players\\Aaron Gordon.png\n",
      "root/images\\players\\Aaron Holiday.png\n",
      "root/images\\players\\Abdel Nader.png\n",
      "root/images\\players\\Adam Mokoka.png\n",
      "root/images\\players\\Al Horford.png\n",
      "root/images\\players\\Al-Farouq Aminu.png\n",
      "root/images\\players\\Alec Burks.png\n",
      "root/images\\players\\Alen Smailagic.png\n",
      "root/images\\players\\Alex Caruso.png\n",
      "root/images\\players\\Alex Len.png\n",
      "root/images\\players\\Alfonzo McKinnie.png\n",
      "root/images\\players\\Alize Johnson.png\n",
      "root/images\\players\\Amida Brimah.png\n",
      "root/images\\players\\Amir Coffey.png\n",
      "root/images\\players\\Andre Drummond.png\n",
      "root/images\\players\\Andre Iguodala.png\n",
      "root/images\\players\\Andrew Wiggins.png\n",
      "root/images\\players\\Anfernee Simons.png\n",
      "root/images\\players\\Anthony Davis.png\n",
      "root/images\\players\\Anthony Tolliver.png\n",
      "root/images\\players\\Aron Baynes.png\n",
      "root/images\\players\\Austin Rivers.png\n",
      "root/images\\players\\Avery Bradley.png\n",
      "root/images\\players\\Axel Toupane.png\n",
      "root/images\\players\\Bam Adebayo.png\n",
      "root/images\\players\\Ben McLemore.png\n",
      "root/images\\players\\Ben Simmons.png\n",
      "root/images\\players\\Bismack Biyombo.png\n",
      "root/images\\players\\Blake Griffin.png\n",
      "root/images\\players\\Boban Marjanovic.png\n",
      "root/images\\players\\Bobby Portis.png\n",
      "root/images\\players\\Bogdan Bogdanovic.png\n",
      "root/images\\players\\Bojan Bogdanovic.png\n",
      "root/images\\players\\Bol Bol.png\n",
      "root/images\\players\\Brad Wanamaker.png\n",
      "root/images\\players\\Bradley Beal.png\n",
      "root/images\\players\\Brandon Clarke.png\n",
      "root/images\\players\\Brandon Goodwin.png\n",
      "root/images\\players\\Brandon Ingram.png\n",
      "root/images\\players\\Brook Lopez.png\n",
      "root/images\\players\\Bruce Brown.png\n",
      "root/images\\players\\Bruno Fernando.png\n",
      "root/images\\players\\Bryn Forbes.png\n",
      "root/images\\players\\Buddy Hield.png\n",
      "root/images\\players\\Caleb Martin.png\n",
      "root/images\\players\\Cam Reddish.png\n",
      "root/images\\players\\Cameron Johnson.png\n",
      "root/images\\players\\Cameron Payne.png\n",
      "root/images\\players\\Caris LeVert.png\n",
      "root/images\\players\\Carmelo Anthony.png\n",
      "root/images\\players\\Carsen Edwards.png\n",
      "root/images\\players\\Cedi Osman.png\n",
      "root/images\\players\\Chandler Hutchison.png\n",
      "root/images\\players\\Charlie Brown Jr..png\n",
      "root/images\\players\\Chasson Randle.png\n",
      "root/images\\players\\Chimezie Metu.png\n",
      "root/images\\players\\Chris Boucher.png\n",
      "root/images\\players\\Chris Chiozza.png\n",
      "root/images\\players\\Chris Paul.png\n",
      "root/images\\players\\Christian Wood.png\n",
      "root/images\\players\\CJ McCollum.png\n",
      "root/images\\players\\Clint Capela.png\n",
      "root/images\\players\\Coby White.png\n",
      "root/images\\players\\Cody Martin.png\n",
      "root/images\\players\\Cody Zeller.png\n",
      "root/images\\players\\Collin Sexton.png\n",
      "root/images\\players\\Cory Joseph.png\n",
      "root/images\\players\\Cristiano Felicio.png\n",
      "root/images\\players\\D'Angelo Russell.png\n",
      "root/images\\players\\D.J. Augustin.png\n",
      "root/images\\players\\D.J. Wilson.png\n",
      "root/images\\players\\Damian Jones.png\n",
      "root/images\\players\\Damian Lillard.png\n",
      "root/images\\players\\Damion Lee.png\n",
      "root/images\\players\\Damyean Dotson.png\n",
      "root/images\\players\\Daniel Gafford.png\n",
      "root/images\\players\\Daniel Theis.png\n",
      "root/images\\players\\Danilo Gallinari.png\n",
      "root/images\\players\\Danny Green.png\n",
      "root/images\\players\\Dante Exum.png\n",
      "root/images\\players\\Danuel House Jr..png\n",
      "root/images\\players\\DaQuan Jeffries.png\n",
      "root/images\\players\\Dario Saric.png\n",
      "root/images\\players\\Darius Bazley.png\n",
      "root/images\\players\\Darius Garland.png\n",
      "root/images\\players\\David Nwaba.png\n",
      "root/images\\players\\Davis Bertans.png\n",
      "root/images\\players\\De'Aaron Fox.png\n",
      "root/images\\players\\De'Andre Hunter.png\n",
      "root/images\\players\\De'Anthony Melton.png\n",
      "root/images\\players\\Dean Wade.png\n",
      "root/images\\players\\Deandre Ayton.png\n",
      "root/images\\players\\DeAndre Jordan.png\n",
      "root/images\\players\\DeAndre' Bembry.png\n",
      "root/images\\players\\Dejounte Murray.png\n",
      "root/images\\players\\Delon Wright.png\n",
      "root/images\\players\\DeMar DeRozan.png\n",
      "root/images\\players\\DeMarcus Cousins.png\n",
      "root/images\\players\\Dennis Schroder.png\n",
      "root/images\\players\\Dennis Smith Jr..png\n",
      "root/images\\players\\Denzel Valentine.png\n",
      "root/images\\players\\Derrick Favors.png\n",
      "root/images\\players\\Derrick Jones Jr..png\n",
      "root/images\\players\\Derrick Rose.png\n",
      "root/images\\players\\Derrick White.png\n",
      "root/images\\players\\Devin Booker.png\n",
      "root/images\\players\\Devontae Cacok.png\n",
      "root/images\\players\\Devonte' Graham.png\n",
      "root/images\\players\\Dewayne Dedmon.png\n",
      "root/images\\players\\Dillon Brooks.png\n",
      "root/images\\players\\Domantas Sabonis.png\n",
      "root/images\\players\\Donovan Mitchell.png\n",
      "root/images\\players\\Donte DiVincenzo.png\n",
      "root/images\\players\\Dorian Finney-Smith.png\n",
      "root/images\\players\\Doug McDermott.png\n",
      "root/images\\players\\Draymond Green.png\n",
      "root/images\\players\\Drew Eubanks.png\n",
      "root/images\\players\\Duncan Robinson.png\n",
      "root/images\\players\\Dwayne Bacon.png\n",
      "root/images\\players\\Dwight Howard.png\n",
      "root/images\\players\\Dwight Powell.png\n",
      "root/images\\players\\E'Twaun Moore.png\n",
      "root/images\\players\\Ed Davis.png\n",
      "root/images\\players\\Edmond Sumner.png\n",
      "root/images\\players\\Elfrid Payton.png\n",
      "root/images\\players\\Enes Kanter.png\n",
      "root/images\\players\\Eric Bledsoe.png\n",
      "root/images\\players\\Eric Gordon.png\n",
      "root/images\\players\\Eric Paschall.png\n",
      "root/images\\players\\Ersan Ilyasova.png\n",
      "root/images\\players\\Evan Fournier.png\n",
      "root/images\\players\\Frank Jackson.png\n",
      "root/images\\players\\Frank Kaminsky.png\n",
      "root/images\\players\\Frank Ntilikina.png\n",
      "root/images\\players\\Fred VanVleet.png\n",
      "root/images\\players\\Furkan Korkmaz.png\n",
      "root/images\\players\\Gabe Vincent.png\n",
      "root/images\\players\\Garrett Temple.png\n",
      "root/images\\players\\Garrison Mathews.png\n",
      "root/images\\players\\Gary Clark.png\n",
      "root/images\\players\\Gary Harris.png\n",
      "root/images\\players\\Gary Payton II.png\n",
      "root/images\\players\\Gary Trent Jr..png\n",
      "root/images\\players\\George Hill.png\n",
      "root/images\\players\\Georges Niang.png\n",
      "root/images\\players\\Giannis Antetokounmpo.png\n",
      "root/images\\players\\Goga Bitadze.png\n",
      "root/images\\players\\Goran Dragic.png\n",
      "root/images\\players\\Gordon Hayward.png\n",
      "root/images\\players\\Gorgui Dieng.png\n",
      "root/images\\players\\Grant Williams.png\n",
      "root/images\\players\\Grayson Allen.png\n",
      "root/images\\players\\Hamidou Diallo.png\n",
      "root/images\\players\\Harrison Barnes.png\n",
      "root/images\\players\\Harry Giles III.png\n",
      "root/images\\players\\Hassan Whiteside.png\n",
      "root/images\\players\\Ignas Brazdeikis.png\n",
      "root/images\\players\\Isaac Bonga.png\n",
      "root/images\\players\\Isaiah Hartenstein.png\n",
      "root/images\\players\\Isaiah Roby.png\n",
      "root/images\\players\\Ish Smith.png\n",
      "root/images\\players\\Ivica Zubac.png\n",
      "root/images\\players\\Ja Morant.png\n",
      "root/images\\players\\Jabari Parker.png\n",
      "root/images\\players\\Jae Crowder.png\n",
      "root/images\\players\\Jahlil Okafor.png\n",
      "root/images\\players\\JaKarr Sampson.png\n",
      "root/images\\players\\Jake Layman.png\n",
      "root/images\\players\\Jakob Poeltl.png\n",
      "root/images\\players\\Jalen Brunson.png\n",
      "root/images\\players\\Jalen McDaniels.png\n",
      "root/images\\players\\Jamal Murray.png\n",
      "root/images\\players\\James Ennis III.png\n",
      "root/images\\players\\James Harden.png\n",
      "root/images\\players\\James Johnson.png\n",
      "root/images\\players\\James Nunnally.png\n",
      "root/images\\players\\JaMychal Green.png\n",
      "root/images\\players\\Jared Dudley.png\n",
      "root/images\\players\\Jared Harper.png\n",
      "root/images\\players\\Jaren Jackson Jr..png\n",
      "root/images\\players\\Jarred Vanderbilt.png\n",
      "root/images\\players\\Jarrell Brantley.png\n",
      "root/images\\players\\Jarrett Allen.png\n",
      "root/images\\players\\Jarrett Culver.png\n",
      "root/images\\players\\JaVale McGee.png\n",
      "root/images\\players\\Javonte Green.png\n",
      "root/images\\players\\Jaxson Hayes.png\n",
      "root/images\\players\\Jaylen Brown.png\n",
      "root/images\\players\\Jaylen Hoard.png\n",
      "root/images\\players\\Jaylen Nowell.png\n",
      "root/images\\players\\Jayson Tatum.png\n",
      "root/images\\players\\Jeff Green.png\n",
      "root/images\\players\\Jeff Teague.png\n",
      "root/images\\players\\Jerami Grant.png\n",
      "root/images\\players\\Jeremiah Martin.png\n",
      "root/images\\players\\Jeremy Lamb.png\n",
      "root/images\\players\\Jevon Carter.png\n",
      "root/images\\players\\Jimmy Butler.png\n",
      "root/images\\players\\JJ Redick.png\n",
      "root/images\\players\\Joe Harris.png\n",
      "root/images\\players\\Joe Ingles.png\n",
      "root/images\\players\\Joel Embiid.png\n",
      "root/images\\players\\John Collins.png\n",
      "root/images\\players\\John Konchar.png\n",
      "root/images\\players\\John Wall.png\n",
      "root/images\\players\\Jonas Valanciunas.png\n",
      "root/images\\players\\Jonathan Isaac.png\n",
      "root/images\\players\\Jordan Bell.png\n",
      "root/images\\players\\Jordan Clarkson.png\n",
      "root/images\\players\\Jordan McLaughlin.png\n",
      "root/images\\players\\Jordan Poole.png\n",
      "root/images\\players\\Josh Hart.png\n",
      "root/images\\players\\Josh Jackson.png\n",
      "root/images\\players\\Josh Okogie.png\n",
      "root/images\\players\\Josh Richardson.png\n",
      "root/images\\players\\Jrue Holiday.png\n",
      "root/images\\players\\Juan Toscano-Anderson.png\n",
      "root/images\\players\\Juancho Hernangomez.png\n",
      "root/images\\players\\Julius Randle.png\n",
      "root/images\\players\\Justin Holiday.png\n",
      "root/images\\players\\Justin Jackson.png\n",
      "root/images\\players\\Justin James.png\n",
      "root/images\\players\\Justise Winslow.png\n",
      "root/images\\players\\Jusuf Nurkic.png\n",
      "root/images\\players\\Juwan Morgan.png\n",
      "root/images\\players\\Karl-Anthony Towns.png\n",
      "root/images\\players\\Kawhi Leonard.png\n",
      "root/images\\players\\Keita Bates-Diop.png\n",
      "root/images\\players\\Kelan Martin.png\n",
      "root/images\\players\\Keldon Johnson.png\n",
      "root/images\\players\\Kelly Olynyk.png\n",
      "root/images\\players\\Kelly Oubre Jr..png\n",
      "root/images\\players\\Kemba Walker.png\n",
      "root/images\\players\\Kendrick Nunn.png\n",
      "root/images\\players\\Kenrich Williams.png\n",
      "root/images\\players\\Kent Bazemore.png\n",
      "root/images\\players\\Kentavious Caldwell-Pope.png\n",
      "root/images\\players\\Kevin Durant.png\n",
      "root/images\\players\\Kevin Huerter.png\n",
      "root/images\\players\\Kevin Knox II.png\n",
      "root/images\\players\\Kevin Love.png\n",
      "root/images\\players\\Kevin Porter Jr..png\n",
      "root/images\\players\\Kevon Looney.png\n",
      "root/images\\players\\Khem Birch.png\n",
      "root/images\\players\\Khris Middleton.png\n",
      "root/images\\players\\Khyri Thomas.png\n",
      "root/images\\players\\Klay Thompson.png\n",
      "root/images\\players\\Kostas Antetokounmpo.png\n",
      "root/images\\players\\Kris Dunn.png\n",
      "root/images\\players\\Kristaps Porzingis.png\n",
      "root/images\\players\\Kyle Anderson.png\n",
      "root/images\\players\\Kyle Guy.png\n",
      "root/images\\players\\Kyle Kuzma.png\n",
      "root/images\\players\\Kyle Lowry.png\n",
      "root/images\\players\\Kyrie Irving.png\n",
      "root/images\\players\\KZ Okpala.png\n",
      "root/images\\players\\Landry Shamet.png\n",
      "root/images\\players\\Langston Galloway.png\n",
      "root/images\\players\\Larry Nance Jr..png\n",
      "root/images\\players\\Lauri Markkanen.png\n",
      "root/images\\players\\LeBron James.png\n",
      "root/images\\players\\Lonnie Walker IV.png\n",
      "root/images\\players\\Lonzo Ball.png\n",
      "root/images\\players\\Lou Williams.png\n",
      "root/images\\players\\Louis King.png\n",
      "root/images\\players\\Luguentz Dort.png\n",
      "root/images\\players\\Luka Doncic.png\n",
      "root/images\\players\\Luka Samanic.png\n",
      "root/images\\players\\Luke Kennard.png\n",
      "root/images\\players\\Luke Kornet.png\n",
      "root/images\\players\\Malcolm Brogdon.png\n",
      "root/images\\players\\Malik Beasley.png\n",
      "root/images\\players\\Malik Monk.png\n",
      "root/images\\players\\Marc Gasol.png\n",
      "root/images\\players\\Marcus Morris Sr..png\n",
      "root/images\\players\\Marcus Smart.png\n",
      "root/images\\players\\Markelle Fultz.png\n",
      "root/images\\players\\Markieff Morris.png\n",
      "root/images\\players\\Marvin Bagley III.png\n",
      "root/images\\players\\Mason Plumlee.png\n",
      "root/images\\players\\Matisse Thybulle.png\n",
      "root/images\\players\\Matt Thomas.png\n",
      "root/images\\players\\Matthew Dellavedova.png\n",
      "root/images\\players\\Maurice Harkless.png\n",
      "root/images\\players\\Max Strus.png\n",
      "root/images\\players\\Maxi Kleber.png\n",
      "root/images\\players\\Mfiondu Kabengele.png\n",
      "root/images\\players\\Michael Carter-Williams.png\n",
      "root/images\\players\\Michael Porter Jr..png\n",
      "root/images\\players\\Mikal Bridges.png\n",
      "root/images\\players\\Mike Conley.png\n",
      "root/images\\players\\Mike James.png\n",
      "root/images\\players\\Mike Muscala.png\n",
      "root/images\\players\\Mike Scott.png\n",
      "root/images\\players\\Miles Bridges.png\n",
      "root/images\\players\\Mitchell Robinson.png\n",
      "root/images\\players\\Miye Oni.png\n",
      "root/images\\players\\Mo Bamba.png\n",
      "root/images\\players\\Monte Morris.png\n",
      "root/images\\players\\Montrezl Harrell.png\n",
      "root/images\\players\\Moritz Wagner.png\n",
      "root/images\\players\\Moses Brown.png\n",
      "root/images\\players\\Mychal Mulder.png\n",
      "root/images\\players\\Myles Turner.png\n",
      "root/images\\players\\Nassir Little.png\n",
      "root/images\\players\\Naz Reid.png\n",
      "root/images\\players\\Nemanja Bjelica.png\n",
      "root/images\\players\\Nerlens Noel.png\n",
      "root/images\\players\\Nickeil Alexander-Walker.png\n",
      "root/images\\players\\Nico Mannion.png\n",
      "root/images\\players\\Nicolas Batum.png\n",
      "root/images\\players\\Nicolas Claxton.png\n",
      "root/images\\players\\Nicolo Melli.png\n",
      "root/images\\players\\Nikola Jokic.png\n",
      "root/images\\players\\Nikola Vucevic.png\n",
      "root/images\\players\\Norman Powell.png\n",
      "root/images\\players\\Norvel Pelle.png\n",
      "root/images\\players\\OG Anunoby.png\n",
      "root/images\\players\\Oshae Brissett.png\n",
      "root/images\\players\\Otto Porter Jr..png\n",
      "root/images\\players\\P.J. Tucker.png\n",
      "root/images\\players\\P.J. Washington.png\n",
      "root/images\\players\\Pascal Siakam.png\n",
      "root/images\\players\\Pat Connaughton.png\n",
      "root/images\\players\\Patrick Beverley.png\n",
      "root/images\\players\\Patrick Patterson.png\n",
      "root/images\\players\\Patty Mills.png\n",
      "root/images\\players\\Paul George.png\n",
      "root/images\\players\\Paul Millsap.png\n",
      "root/images\\players\\Paul Watson.png\n",
      "root/images\\players\\PJ Dozier.png\n",
      "root/images\\players\\Quinndary Weatherspoon.png\n",
      "root/images\\players\\Rajon Rondo.png\n",
      "root/images\\players\\Raul Neto.png\n",
      "root/images\\players\\Rayjon Tucker.png\n",
      "root/images\\players\\Reggie Bullock.png\n",
      "root/images\\players\\Reggie Jackson.png\n",
      "root/images\\players\\Richaun Holmes.png\n",
      "root/images\\players\\Ricky Rubio.png\n",
      "root/images\\players\\RJ Barrett.png\n",
      "root/images\\players\\Robert Covington.png\n",
      "root/images\\players\\Robert Williams III.png\n",
      "root/images\\players\\Robin Lopez.png\n",
      "root/images\\players\\Rodney Hood.png\n",
      "root/images\\players\\Rodney McGruder.png\n",
      "root/images\\players\\Romeo Langford.png\n",
      "root/images\\players\\Rondae Hollis-Jefferson.png\n",
      "root/images\\players\\Royce O'Neale.png\n",
      "root/images\\players\\Rudy Gay.png\n",
      "root/images\\players\\Rudy Gobert.png\n",
      "root/images\\players\\Rui Hachimura.png\n",
      "root/images\\players\\Russell Westbrook.png\n",
      "root/images\\players\\Ryan Arcidiacono.png\n",
      "root/images\\players\\Sean McDermott.png\n",
      "root/images\\players\\Sekou Doumbouya.png\n",
      "root/images\\players\\Semi Ojeleye.png\n",
      "root/images\\players\\Serge Ibaka.png\n",
      "root/images\\players\\Seth Curry.png\n",
      "root/images\\players\\Shai Gilgeous-Alexander.png\n",
      "root/images\\players\\Shake Milton.png\n",
      "root/images\\players\\Shaquille Harrison.png\n",
      "root/images\\players\\Sindarius Thornwell.png\n",
      "root/images\\players\\Solomon Hill.png\n",
      "root/images\\players\\Spencer Dinwiddie.png\n",
      "root/images\\players\\Stanley Johnson.png\n",
      "root/images\\players\\Stephen Curry.png\n",
      "root/images\\players\\Sterling Brown.png\n",
      "root/images\\players\\Steven Adams.png\n",
      "root/images\\players\\Svi Mykhailiuk.png\n",
      "root/images\\players\\T.J. Leaf.png\n",
      "root/images\\players\\T.J. McConnell.png\n",
      "root/images\\players\\T.J. Warren.png\n",
      "root/images\\players\\Tacko Fall.png\n",
      "root/images\\players\\Taj Gibson.png\n",
      "root/images\\players\\Talen Horton-Tucker.png\n",
      "root/images\\players\\Taurean Prince.png\n",
      "root/images\\players\\Terance Mann.png\n",
      "root/images\\players\\Terence Davis.png\n",
      "root/images\\players\\Terrence Ross.png\n",
      "root/images\\players\\Terry Rozier.png\n",
      "root/images\\players\\Thaddeus Young.png\n",
      "root/images\\players\\Thanasis Antetokounmpo.png\n",
      "root/images\\players\\Theo Pinson.png\n",
      "root/images\\players\\Thomas Bryant.png\n",
      "root/images\\players\\Tim Frazier.png\n",
      "root/images\\players\\Tim Hardaway Jr..png\n",
      "root/images\\players\\Timothe Luwawu-Cabarrot.png\n",
      "root/images\\players\\Tobias Harris.png\n",
      "root/images\\players\\Tomas Satoransky.png\n",
      "root/images\\players\\Tony Bradley.png\n",
      "root/images\\players\\Tony Snell.png\n",
      "root/images\\players\\Torrey Craig.png\n",
      "root/images\\players\\Trae Young.png\n",
      "root/images\\players\\Tremont Waters.png\n",
      "root/images\\players\\Trevor Ariza.png\n",
      "root/images\\players\\Trey Burke.png\n",
      "root/images\\players\\Trey Lyles.png\n",
      "root/images\\players\\Tristan Thompson.png\n",
      "root/images\\players\\Troy Brown Jr..png\n",
      "root/images\\players\\Ty Jerome.png\n",
      "root/images\\players\\Ty-Shon Alexander.png\n",
      "root/images\\players\\Tyler Cook.png\n",
      "root/images\\players\\Tyler Herro.png\n",
      "root/images\\players\\Tyler Johnson.png\n",
      "root/images\\players\\Tyus Jones.png\n",
      "root/images\\players\\Udonis Haslem.png\n",
      "root/images\\players\\Victor Oladipo.png\n",
      "root/images\\players\\Vlatko Cancar.png\n",
      "root/images\\players\\Wayne Ellington.png\n",
      "root/images\\players\\Wendell Carter Jr..png\n",
      "root/images\\players\\Wenyen Gabriel.png\n",
      "root/images\\players\\Wes Iwundu.png\n",
      "root/images\\players\\Wesley Matthews.png\n",
      "root/images\\players\\Will Barton.png\n",
      "root/images\\players\\Willie Cauley-Stein.png\n",
      "root/images\\players\\Willy Hernangomez.png\n",
      "root/images\\players\\Yogi Ferrell.png\n",
      "root/images\\players\\Yuta Watanabe.png\n",
      "root/images\\players\\Zach Collins.png\n",
      "root/images\\players\\Zach LaVine.png\n",
      "root/images\\players\\Zion Williamson.png\n"
     ]
    }
   ],
   "source": [
    "for path, dirs, files in os.walk(DATA_PATH):\n",
    "    for name in files:\n",
    "        filepath = os.path.join(path, name)\n",
    "        key = filepath.replace(DATA_PATH, 'root/')\n",
    "        print(key)"
   ]
  },
  {
   "cell_type": "code",
   "execution_count": 68,
   "id": "f3ee1f27",
   "metadata": {
    "ExecuteTime": {
     "end_time": "2021-08-27T20:33:16.405692Z",
     "start_time": "2021-08-27T20:33:16.385746Z"
    }
   },
   "outputs": [
    {
     "data": {
      "text/plain": [
       "''"
      ]
     },
     "execution_count": 68,
     "metadata": {},
     "output_type": "execute_result"
    }
   ],
   "source": [
    "os.path.basename(DATA_PATH)"
   ]
  },
  {
   "cell_type": "code",
   "execution_count": 70,
   "id": "493883b1",
   "metadata": {
    "ExecuteTime": {
     "end_time": "2021-08-27T20:34:09.394891Z",
     "start_time": "2021-08-27T20:34:09.378895Z"
    }
   },
   "outputs": [
    {
     "data": {
      "text/plain": [
       "'\\\\'"
      ]
     },
     "execution_count": 70,
     "metadata": {},
     "output_type": "execute_result"
    }
   ],
   "source": [
    "os.path.sep"
   ]
  },
  {
   "cell_type": "code",
   "execution_count": 71,
   "id": "20f1a545",
   "metadata": {
    "ExecuteTime": {
     "end_time": "2021-08-27T20:34:27.507781Z",
     "start_time": "2021-08-27T20:34:27.491794Z"
    }
   },
   "outputs": [
    {
     "data": {
      "text/plain": [
       "'C:/Users/thipa/workspaces/nbaflow/dev/data/'"
      ]
     },
     "execution_count": 71,
     "metadata": {},
     "output_type": "execute_result"
    }
   ],
   "source": [
    "DATA_PATH"
   ]
  },
  {
   "cell_type": "code",
   "execution_count": 72,
   "id": "d9778740",
   "metadata": {
    "ExecuteTime": {
     "end_time": "2021-08-27T20:34:36.185661Z",
     "start_time": "2021-08-27T20:34:36.170701Z"
    }
   },
   "outputs": [
    {
     "data": {
      "text/plain": [
       "'C:/Users/thipa/workspaces/nbaflow/dev/data/'"
      ]
     },
     "execution_count": 72,
     "metadata": {},
     "output_type": "execute_result"
    }
   ],
   "source": [
    "DATA_PATH.replace(os.path.sep, '')"
   ]
  },
  {
   "cell_type": "code",
   "execution_count": null,
   "id": "e1da703e",
   "metadata": {},
   "outputs": [],
   "source": []
  }
 ],
 "metadata": {
  "hide_input": false,
  "kernelspec": {
   "display_name": "Python 3 (ipykernel)",
   "language": "python",
   "name": "python3"
  },
  "language_info": {
   "codemirror_mode": {
    "name": "ipython",
    "version": 3
   },
   "file_extension": ".py",
   "mimetype": "text/x-python",
   "name": "python",
   "nbconvert_exporter": "python",
   "pygments_lexer": "ipython3",
   "version": "3.8.10"
  },
  "toc": {
   "base_numbering": 1,
   "nav_menu": {},
   "number_sections": true,
   "sideBar": true,
   "skip_h1_title": false,
   "title_cell": "Table of Contents",
   "title_sidebar": "Contents",
   "toc_cell": true,
   "toc_position": {},
   "toc_section_display": true,
   "toc_window_display": true
  },
  "varInspector": {
   "cols": {
    "lenName": 16,
    "lenType": 16,
    "lenVar": 40
   },
   "kernels_config": {
    "python": {
     "delete_cmd_postfix": "",
     "delete_cmd_prefix": "del ",
     "library": "var_list.py",
     "varRefreshCmd": "print(var_dic_list())"
    },
    "r": {
     "delete_cmd_postfix": ") ",
     "delete_cmd_prefix": "rm(",
     "library": "var_list.r",
     "varRefreshCmd": "cat(var_dic_list()) "
    }
   },
   "types_to_exclude": [
    "module",
    "function",
    "builtin_function_or_method",
    "instance",
    "_Feature"
   ],
   "window_display": false
  }
 },
 "nbformat": 4,
 "nbformat_minor": 5
}
