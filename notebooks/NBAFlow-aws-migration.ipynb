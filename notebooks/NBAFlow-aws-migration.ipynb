{
 "cells": [
  {
   "cell_type": "markdown",
   "id": "3b8b2439",
   "metadata": {
    "toc": true
   },
   "source": [
    "<h1>Table of Contents<span class=\"tocSkip\"></span></h1>\n",
    "<div class=\"toc\"><ul class=\"toc-item\"><li><span><a href=\"#Primeiro-Passo:-Armazenamento\" data-toc-modified-id=\"Primeiro-Passo:-Armazenamento-1\"><span class=\"toc-item-num\">1&nbsp;&nbsp;</span>Primeiro Passo: Armazenamento</a></span><ul class=\"toc-item\"><li><span><a href=\"#Virtual-Private-Cloud\" data-toc-modified-id=\"Virtual-Private-Cloud-1.1\"><span class=\"toc-item-num\">1.1&nbsp;&nbsp;</span>Virtual Private Cloud</a></span></li><li><span><a href=\"#Sub-redes\" data-toc-modified-id=\"Sub-redes-1.2\"><span class=\"toc-item-num\">1.2&nbsp;&nbsp;</span>Sub-redes</a></span></li><li><span><a href=\"#Internet-Gateway\" data-toc-modified-id=\"Internet-Gateway-1.3\"><span class=\"toc-item-num\">1.3&nbsp;&nbsp;</span>Internet Gateway</a></span></li><li><span><a href=\"#Tabelas-de-Roteamento\" data-toc-modified-id=\"Tabelas-de-Roteamento-1.4\"><span class=\"toc-item-num\">1.4&nbsp;&nbsp;</span>Tabelas de Roteamento</a></span></li><li><span><a href=\"#Instância-RDS\" data-toc-modified-id=\"Instância-RDS-1.5\"><span class=\"toc-item-num\">1.5&nbsp;&nbsp;</span>Instância RDS</a></span></li></ul></li><li><span><a href=\"#Segundo-Passo:-EC2\" data-toc-modified-id=\"Segundo-Passo:-EC2-2\"><span class=\"toc-item-num\">2&nbsp;&nbsp;</span>Segundo Passo: EC2</a></span><ul class=\"toc-item\"><li><span><a href=\"#Grupos-de-Segurança\" data-toc-modified-id=\"Grupos-de-Segurança-2.1\"><span class=\"toc-item-num\">2.1&nbsp;&nbsp;</span>Grupos de Segurança</a></span></li><li><span><a href=\"#Inicializando-Instâncias\" data-toc-modified-id=\"Inicializando-Instâncias-2.2\"><span class=\"toc-item-num\">2.2&nbsp;&nbsp;</span>Inicializando Instâncias</a></span></li><li><span><a href=\"#Instalando-e-Configurando-Git\" data-toc-modified-id=\"Instalando-e-Configurando-Git-2.3\"><span class=\"toc-item-num\">2.3&nbsp;&nbsp;</span>Instalando e Configurando Git</a></span></li><li><span><a href=\"#Conectando-com-VS-Code\" data-toc-modified-id=\"Conectando-com-VS-Code-2.4\"><span class=\"toc-item-num\">2.4&nbsp;&nbsp;</span>Conectando com VS Code</a></span></li></ul></li><li><span><a href=\"#Terceiro-Passo:-Conectando-ao-BD\" data-toc-modified-id=\"Terceiro-Passo:-Conectando-ao-BD-3\"><span class=\"toc-item-num\">3&nbsp;&nbsp;</span>Terceiro Passo: Conectando ao BD</a></span><ul class=\"toc-item\"><li><span><a href=\"#Banco-de-Dados-Local\" data-toc-modified-id=\"Banco-de-Dados-Local-3.1\"><span class=\"toc-item-num\">3.1&nbsp;&nbsp;</span>Banco de Dados Local</a></span><ul class=\"toc-item\"><li><span><a href=\"#Acesso-via-Interface-de-Gerenciamento\" data-toc-modified-id=\"Acesso-via-Interface-de-Gerenciamento-3.1.1\"><span class=\"toc-item-num\">3.1.1&nbsp;&nbsp;</span>Acesso via Interface de Gerenciamento</a></span></li><li><span><a href=\"#Acesso-via-Python\" data-toc-modified-id=\"Acesso-via-Python-3.1.2\"><span class=\"toc-item-num\">3.1.2&nbsp;&nbsp;</span>Acesso via Python</a></span></li></ul></li></ul></li></ul></div>"
   ]
  },
  {
   "cell_type": "markdown",
   "id": "af0a58a2",
   "metadata": {},
   "source": [
    "Entre algumas evoluções obtidas em um rico processo de construção e documentação do projeto _NBAFlow_, este notebook possui, como ponta de partida, o resultado obtido a partir da primeira entrega do [Painel de Estatísticas de Jogadores](https://public.tableau.com/app/profile/thiago.henrique.gomes.panini/viz/NBAFlow-InsightsdeDadosdaNBA/PaineldeEstatsticasdeJogadores) já publicado no [Tableau Public](https://public.tableau.com/s/). Dentro deste primeiro produto entregue, é possível consolidar o fluxo dos dados a partir do seguinte diagrama:\n",
    "\n",
    "<div align=\"center\">\n",
    "    <br><img src=\"https://i.imgur.com/HMfAMMV.jpg\" alt=\"nbaflow-c4\">\n",
    "</div>\n",
    "\n",
    "Em resumo, o painel analítico construído e publicado no Tableau é gerado a partir de uma fonte de dados, concebida em formato csv e armazenada localmente, cuja construção tem, como base, o processamento de scripts Python capazes de consumir _endpoints_ presentes na biblioteca `nba_api`. Neste primeiro momento, a solução adotada atendia perfeitamente os requisitos estabelecidos, permitindo assim uma rápida construção de um produto relevante.\n",
    "\n",
    "Em sequência ao desenvolvimento inicial proposto, o objetivo deste notebook é dar início aos passos necessários a serem concebidos visando um aprimoramento na arquitetura existente, abrindo margem para armazenamento e processamento dos dados em nuvem através da [AWS](https://aws.amazon.com/pt/). Conceitos e serviços como VPC, subredes, RDS, EC2, S3, SNS, entre outros, podem eventualmente serem abordados neste material. O intuito é explorar algumas possibilidades previamente estabelecidas e, ao longo do desenvolvimento, mapear novas ideias que possam surgir.\n",
    "\n",
    "___\n",
    "**_Para entender todo o contexto do projeto, é sugerido o consumo dos seguintes materiais:_**\n",
    "\n",
    "* [1. NBAFlow - documentação e exploração inicial da API nba_api](https://github.com/ThiagoPanini/nbaflow/blob/main/notebooks/NBAflow-doc-api.ipynb)\n",
    "\n",
    "* [2. NBAFlow - documentação de fluxo de extração de imagens de jogadores](https://github.com/ThiagoPanini/nbaflow/blob/main/notebooks/NBAflow-players-images.ipynb)\n",
    "\n",
    "* [3. NBAFlow - estruturação de armazenamento em banco de dados Postgres (OPCIONAL)](https://github.com/ThiagoPanini/nbaflow/blob/main/notebooks/NBAflow-psql.ipynb)\n",
    "\n",
    "* [4. Classes estruturadas de processamento de dados](https://github.com/ThiagoPanini/nbaflow/tree/main/core)\n",
    "\n",
    "* [5. Scripts de processamento de dados utilizando as classes estruturadas](https://github.com/ThiagoPanini/nbaflow/tree/main/scripts)\n",
    "___"
   ]
  },
  {
   "cell_type": "markdown",
   "id": "15bddd4f",
   "metadata": {},
   "source": [
    "# Primeiro Passo: Armazenamento"
   ]
  },
  {
   "cell_type": "markdown",
   "id": "9fcacf7f",
   "metadata": {},
   "source": [
    "Como mencionado anteriormente, a primeira solução do _dashboard analítico_ do projeto NBAFlow tem, como fonte de dados, um arquivo `.csv` gerado a partir da execução de scripts Python consturídos justamentepara este fim. Como uma primeira tentativa de contato com serviços da AWS, é possível analisar as possibilidades de armazenar estes dados em um serviço de banco de dados na nuvem. Dentro da construção do arquivo e, considerando seu conteúdo, o serviço da AWS que mais se enquadra neste cenário é o banco de dados relacional [RDS](https://aws.amazon.com/pt/rds/) (do inglês, _Relational Database Service_). Da página oficial do serviço, temos:\n",
    "\n",
    "> _O Amazon Relational Database Service (Amazon RDS) facilita a configuração, a operação e a escalabilidade de bancos de dados relacionais na nuvem. O serviço oferece capacidade econômica e redimensionável e automatiza tarefas demoradas de administração, como provisionamento de hardware, configuração de bancos de dados, aplicação de patches e backups. Dessa forma, você pode se concentrar na performance rápida, alta disponibilidade, segurança e conformidade que os aplicativos precisam._\n",
    "_O Amazon RDS está disponível em vários tipos de instância de banco de dados – com otimização para memória, performance ou E/S – e oferece seis mecanismos de bancos de dados comuns, incluindo Amazon Aurora, PostgreSQL, MySQL, MariaDB, Oracle Database e SQL Server. Você pode usar o AWS Database Migration Service para migrar ou replicar facilmente bancos de dados existentes para o Amazon RDS._\n",
    "\n",
    "Como uma forma estrutural de propor a construção e a implantação de serviços da AWS em um ambiente isolado capaz de fornecer toda a suite de conectividade exigida pelo projeto, os próximos passos dessa seção de armazenamento serão pautados pela organização de redes e grupos de acessos pertinentes à proposta em questão. Assim, criações de novas [VPCs](https://aws.amazon.com/pt/vpc/) (do inglês, _Virtual Private Cloud_), sub-redes e grupos de segurança serão exemplificados como forma de garantir a estrutura do projeto"
   ]
  },
  {
   "cell_type": "markdown",
   "id": "9af28e09",
   "metadata": {},
   "source": [
    "## Virtual Private Cloud"
   ]
  },
  {
   "cell_type": "markdown",
   "id": "4c23b324",
   "metadata": {},
   "source": [
    "Da página do serviço, disponibilizada pela própria AWS, temos:\n",
    "\n",
    ">_A Amazon Virtual Private Cloud (Amazon VPC) é um serviço que permite iniciar recursos da AWS em uma rede virtual isolada logicamente definida por você. Você tem controle total sobre seu ambiente de redes virtuais, incluindo a seleção do seu próprio intervalo de endereços IP, a criação de sub-redes e a configuração de tabelas de rotas e gateways de rede. Você pode usar IPv4 e IPv6 para a maioria dos recursos em sua nuvem privada virtual, garantindo acesso fácil e seguro a recursos e aplicações._\n",
    "_Como um dos serviços básicos da AWS, o Amazon VPC facilita a personalização da configuração de rede da VPC. Você pode criar uma sub-rede voltada ao público para seus servidores Web que têm acesso à Internet. Também é possível colocar seus sistemas back-end, como bancos de dados ou servidores de aplicações, em uma sub-rede privada, sem acesso à Internet. Com o Amazon VPC, você pode usar várias camadas de segurança, incluindo grupos de segurança e listas de controle de acesso à rede, para ajudar a controlar o acesso às instâncias do Amazon EC2 em cada sub-rede._\n",
    "\n",
    "Assim, dentro do objetivo simplório em criar um banco de dados relacional na nuvem capaz de armazenar os dados de jogadores da NBA obtidos a partir da biblioteca `nba_api`, criar uma rede isolada de recursos da provedora cloud é um passo importante para a implantação de recursos e a manutenção da organização de acessos entre os serviços e a internet pública.\n",
    "\n",
    "Por padrão, a AWS fornece uma VPC já com um bloco [CIDR](https://en.wikipedia.org/wiki/Classless_Inter-Domain_Routing) (do inglês, _Classeless Inter-Domain Route)_ associado. No exemplo abaixo, a VPC padrão `vpc-ea4ab68c` pode ser vista em detalhes, incluindo um parâmetro extremamente importante dentro do entendimento da conectividade interna e externa dos dispositivos internos dessa rede: o bloco de IPs CIDR. Na imagem, a partir do endereço `172.31.0.0/16`, associado ao bloco CIDR da VPC, é possível extrair, por exemplo, informações como:\n",
    "\n",
    "* Trata-se de um endereço de IP da classe B\n",
    "    - Primeiro octeto iniciado por 172 está entre 128 e 191, determinando assim o pertencimento à classe B\n",
    "    - Por ser de classe B, existem $2^{16}=65536$ possibilidades de conexão (redes, hosts e broadcasts)\n",
    "    - Máscara de sub-rede equivalente a 255.255.0.0 (característica de IPs da classe B)\n",
    "* A notação CIDR indica que existem diferentes sub-redes \n",
    "    - O número 16, após a barra \"/\", indica que são utilizados 16 bits \"1s\" na máscara de sub-rede atrelada\n",
    "    - Transformando em binário, temos que a máscara equivale aos octetos: 11111111.11111111.00000000.00000000\n",
    "    - Após essa confirmação, de fato, a máscara de sub-rede equivale a 255.255.0.0, mantendo assim as 65536 possibilidades de conexão\n",
    "\n",
    "<div align=\"center\">\n",
    "    <br><img src=\"https://i.imgur.com/dCobYeO.png\" alt=\"aws-defaultvpc\">\n",
    "</div>\n",
    "\n",
    "Após esse entendimento inicial, será proposta a criação de uma nova VPC para alocação dos recursos de novos projetos dentro da AWS. Considerando um cenário exploratório, essa nova VPC será construída com base em estudos de endereçamento de modo a propor uma arquitetura enxuta e organizada dos recursos nela alocados. Assim, a figura abaixo ilustra a `vpc-dev` dentro de um bloco CIDR definido pela máscara `192.168.0.0/16`, indicando assim um endereço de máscara definido por `255.255.0.0` ou, em binário, `11111111.11111111.00000000.00000000`.\n",
    "\n",
    "<div align=\"center\">\n",
    "    <br><img src=\"https://i.imgur.com/9MOONa6.png\" alt=\"aws-defaultvpc\">\n",
    "</div>\n",
    "\n",
    "Com isso, é possível seguir na construção da estrutura de rede para a implantação do projeto de acordo com diretrizes organizacionais e boas práticas de utilização de endereçamento. No próximo tópico, será proposto um entendimento inicial e a criação de algumas sub-redes, públicas e privadas, em diferentes zonas de disponibilidade da AWS. Para cada sub-rede, será estabelecido um bloco CIDR de acordo com a capacidade de alocação de dispositivos definida."
   ]
  },
  {
   "cell_type": "markdown",
   "id": "f18f1520",
   "metadata": {},
   "source": [
    "## Sub-redes"
   ]
  },
  {
   "cell_type": "markdown",
   "id": "84e6512e",
   "metadata": {},
   "source": [
    "Observando o bloco CIDR definido para a VPC recém criada (`192.168.0.0/16`), é possível criada tem a capacidade, por si só, de alocar $2^{16}=65534$ conexões (reserva de 1 endereço de rede e 1 endereço de broadcast). Nesse formato, iniciou-se então estudos para a criação de diferentes sub-redes dentro da VPC criada. Visando obter um maior entendimento sobre o endereçamento de redes e a alocação de recursos, foram definidos blocos CIDR variados para as sub-redes criadas em diferentes zonas de disponibilidade. A imagem abaixo traz todas as sub-redes criadas.\n",
    "\n",
    "<div align=\"center\">\n",
    "    <br><img src=\"https://i.imgur.com/ZO4rS1C.png\" alt=\"aws-subnets\">\n",
    "</div>\n",
    "\n",
    "Observando a imagem acima, é possível destacar o endereçamento de cada bloco CIDR definido para cada sub-rede do projeto. Estrategicamente, as sub-redes foram criadas utilizando uma máscara de sub-rede definida pela sufixo `/24` (`11111111.11111111.11111111.00000000` em binário ou `255.255.255.0` em decimal) e, neste cenário, alterou-se apenas o terceiro octeto como uma fórma de representar o \"índice\" da sub-rede, facilitando assim a organização e o gerenciamento do endereçamento proposto. Ao fim do processo, definiu-se a criação de sub-redes com seus respectivos endereçamentos definidos por `192.168.X.0/24`, onde X pode ser um número qualquer entre 0 e 255. Dentro da proposta de criação de um espaço de alocação de IPs, público e privado, para duas zonas de disponibilidades diferentes, as sub-redes criadas foram:\n",
    "\n",
    "    - 192.168.1.0/24\n",
    "    - 192.168.2.0/24\n",
    "    - 192.168.3.0/24\n",
    "    - 192.168.4.0/24\n",
    "\n",
    "Observando as máscaras definidas para cada sub-rede, percebe-se que o último octeto é o único que varia dentro do intervalo de endereços de IPs possíveis. Sendo assim, cada bloco possui a capacidade para 254 endereços (já retirando o próprio endereço de rede e o broadcast). Na imagem referenciada acima, é possível notar a capacidade para 251 endereços de IPs (a AWS provavelmente reserva mais alguns endereços para outros fins).\n",
    "\n",
    "Por fim, é este tópico encerra-se com o desenho do diagrama de soluções obtido até o momento, ao qual pode ser visualizado a partir da figura abaixo gerada pelo [draw.io](https://app.diagrams.net/):\n",
    "\n",
    "<div align=\"center\">\n",
    "    <br><img src=\"https://i.imgur.com/liKM1SX.png\" alt=\"aws-diagram-v0\">\n",
    "</div>\n",
    "\n",
    "Após um entendimento prévio sobre os blocos fundamentais de construção relacionados à etapas de redes, é preciso definir algumas questões voltadas a como tais blocos se relacionam entrem si e através da internet. "
   ]
  },
  {
   "cell_type": "markdown",
   "id": "0e343a89",
   "metadata": {},
   "source": [
    "## Internet Gateway"
   ]
  },
  {
   "cell_type": "markdown",
   "id": "5c2b1bca",
   "metadata": {
    "ExecuteTime": {
     "end_time": "2021-08-11T00:09:53.113377Z",
     "start_time": "2021-08-11T00:09:53.101402Z"
    }
   },
   "source": [
    "Em um primeiro momento, com o intuito de providenciar conectividade dos recursos implantados nas camadas de rede definidas pela VPC e as sub-redes nela inseridas, é preciso criar um componente capaz de gerenciar esse tráfego: o [Internet Gateway](https://docs.aws.amazon.com/vpc/latest/userguide/VPC_Internet_Gateway.html).\n",
    "\n",
    "> _De acordo com a própria página da AWS, um Internet Gateway nada mais é do que um componente capaz de permitir conexões entre a VPC e a internet, servindo a dois principais propósitos: proporcionar um destino **target** na tabela de roteamento da VPC (ou **route table**, do inglês) e também performar um processo conhecido como **Network Address Translation** (ou NAT) para instâncias que contenham um endereço publico de IPv4._\n",
    "\n",
    "Assim, através do console de gerenciamento da AWS, foi criado um componente Internet Gateway, sendo este associado a VPC `vpc-dev` recém criada.\n",
    "\n",
    "<div align=\"center\">\n",
    "    <br><img src=\"https://i.imgur.com/1kAMpwm.png\" alt=\"aws-igw\">\n",
    "</div>\n",
    "\n",
    "Após a criação dessa estrutura, é preciso utilizar um recurso da AWS extremamente importante no que diz respeito ao roteamento e direcionamento do tráfego: as tabelas de roteamento."
   ]
  },
  {
   "cell_type": "markdown",
   "id": "b0dc35ef",
   "metadata": {},
   "source": [
    "## Tabelas de Roteamento"
   ]
  },
  {
   "cell_type": "markdown",
   "id": "1944bb20",
   "metadata": {},
   "source": [
    "As [tabelas de roteamento](https://docs.aws.amazon.com/vpc/latest/userguide/VPC_Route_Tables.html) (ou _route tables_) são instrumentos essenciais para a definição de regras utilizadas no gerenciamento de como o tráfego das sub-redes ou _gateways_ é direcionado. Da página oficial, é possível pontuar que:\n",
    "\n",
    "> _Uma VPC possui um roteador implícito e é possível utilizar tabelas de roteamento para controlar o direcionamento do tráfego. Cada sub-rede na VPC necessita estar associada a uma tabela de roteamento para o gerenciamento das rotas à ela associda. Também é possível associar explicitamente, e de maneira individual, uma sub-rede a uma tabela de roteamento. Caso contrário, as sub-redes serão associadas a tabela de roteamento principal já existente. Uma sub-rede somente pode estar associada a uma tabela de roteamento por vez, porém é possível associar múltiplas sub-redes a uma mesma tabela. \n",
    "Opcionalmente, é possível associar uma tabela de roteamento a um internet gateway ou a um vpn gateway, possibilitando assim a especificação regras para tráfego de entrada na VPC._\n",
    "\n",
    "Neste cenário, uma _route table_ serve como um controlador de roteamento de tráfego, sendo este associado a uma ou mais sub-redes. A partir deste instrumento, é possível gerenciar ou habilitar rotas de acordo com as necessidades do projeto. Observando a definição teórica na documentação do componente _internet gateway_, é possível encontrar tópicos relevantes sobre situações práticas envolvendo os conceitos analisados até o presente momento. Como exemplo, para habilitar acesso a internet através de recursos implantados na AWS, é possível:\n",
    "\n",
    "> 1. Criar um internet gateway e anexá-lo a uma VPC\n",
    "2. Adicionar uma rota na _route table_ da sub-rede presente na VPC em questão para direcionar o tráfego de entrada para o componente internet gateway\n",
    "3. Garantir que instâncias implantadas nesta sub-rede possuam um endereço de IP global único (IPv4 público, Elastic IP ou IPv6)\n",
    "4. Garantir que as regras contidas no(s) NACL e _security group_ permitam o fluxo estabelecido para a instância na sub-rede\n",
    "\n",
    "**_Sobre sub-redes públicas e privadas:_**\n",
    "Se uma sub-rede está associada a uma _route table_ que possui uma rota para um _internet gateway_, então é esta é uma sub-rede **pública**. Se uma sub-rede está associada a uma _route table_ que não possui rota para um _internet gateway_, esta é conhecida como uma sub-rede **privada**.\n",
    "\n",
    "Dentro da estrutura criada até aqui, temos 4 sub-redes definidas por:\n",
    "* pub-subnet-1a\n",
    "* pvt-subnet-1a\n",
    "* pub-subnet-1b\n",
    "* pvt-subnet-1b\n",
    "\n",
    "Considerando a afirmação acima, será proposta a criação de duas tabelas de roteamento considerando as propostas de sub-redes pública e privada definidas após a criação da VPC. Para a dupla de sub-redes públicas, será definido um destino para o _internet gateway_ recém criado. Para a dupla de sub-redes privadas, não será definido um destino para o _igw_. Nesse formato, um exemplo de uma tabela de roteamento para as sub-redes públicas criadas na VPC de desenvolvimento é dado por:\n",
    "\n",
    "<div align=\"center\">\n",
    "    <br><img src=\"https://i.imgur.com/PK3Ssju.png\" alt=\"aws-rtb\">\n",
    "</div>\n",
    "\n",
    "Por fim, uma nova versão do diagrama da solução pode ser visualizada a partir da figura abaixo:\n",
    "\n",
    "<div align=\"center\">\n",
    "    <br><img src=\"https://i.imgur.com/XpIcTpA.png\" alt=\"aws-diagrama-v1\">\n",
    "</div>"
   ]
  },
  {
   "cell_type": "markdown",
   "id": "127caf97",
   "metadata": {},
   "source": [
    "## Instância RDS"
   ]
  },
  {
   "cell_type": "markdown",
   "id": "0962eb38",
   "metadata": {},
   "source": [
    "Uma vez criada e configurada a estrutura do projeto (com um requinte estratégico de aprendizado), é possível partir para a implantação de um banco de dados relacional da AWS. Também conhecido como RDS (do inglês, _Relational Database Service_), este serviço proporciona o armazenamento de dados em um banco com infraestrutura gerenciada pela própria provedora cloud, permitindo assim aos usuários um maior gerenciamento de recursos de acordo com as provisões necessárias para o projeto. No início desta seção, é possível visualizar um resumo sobre o serviço extraído diretamente de sua [página oficial](https://aws.amazon.com/pt/rds/).\n",
    "\n",
    "Adentrando a página de criação de um banco RDS na AWS, é possível instanciar um banco _free tier_ a partir de algumas configurações básicas. A imagem abaixo ilustra algumas das etapas de definição e, entre elas, é possível verificar as _engines_ SQL aceitáveis dentro do serviço\n",
    "\n",
    "<div align=\"center\">\n",
    "    <br><img src=\"https://i.imgur.com/LdFgIrc.png\" alt=\"aws-rds-creation\">\n",
    "</div>\n",
    "\n",
    "Assim, ao finalizar toda a etapa de configuração a partir da seleção dos parâmetros exigidos (entre eles, a zona de disponibilidade a qual a instância EC2 do banco de dados será implementada), tem-se um banco de dados relacional pronto pra uso. Considerando a seleção do _Postgres_ como principal _engine_, os principais atributos deste banco de dados a serem utilizados para conexão são:\n",
    "\n",
    "* **_endpoint:_** db-nbaflow.c9mwwwoeltyl.sa-east-1.rds.amazonaws.com\n",
    "* **_username:_** paninit\n",
    "* **_password:_** \\******\n",
    "* **_db identifier:_** db-nbaflow\n",
    "* **_porta:_** 5432\n",
    "\n",
    "Considerando uma atualização no diagrama da solução, temos:\n",
    "\n",
    "<div align=\"center\">\n",
    "    <br><img src=\"https://i.imgur.com/QjxfuyV.png\" alt=\"aws-diagram-v2\">\n",
    "</div>\n",
    "\n",
    "Como próximos passos, será proposta a criação de uma instância EC2 estrategicamente alocada em uma sub-rede acessível ao banco de dados RDS para realizar as primeiras tentativas de conexão."
   ]
  },
  {
   "cell_type": "markdown",
   "id": "28637068",
   "metadata": {},
   "source": [
    "# Segundo Passo: EC2"
   ]
  },
  {
   "cell_type": "markdown",
   "id": "2b091f9e",
   "metadata": {},
   "source": [
    "Após uma jornada inicial na organização da arquitetura para a implantação de um banco de dados relacional na nuvem, é chegado o momento de inicializar os recursos computacionais capazes de realizar processamentos de dados e consumo das informações armazenadas no banco de dados, bem como a ingestão de novos registros no mesmo. Neste cenário, será utilizado o serviço EC2 da AWS (do inglês, _Elastic Compute Cloud_) que, por sua vez, pode ser definido como um elemento capaz de entregar poder computacional de forma dinâmica sem que o usuário precise cuidar da infraestrutura envolvida. Da própria [página oficial do serviço](https://aws.amazon.com/pt/ec2/), temos:\n",
    "\n",
    ">_O Amazon Elastic Compute Cloud (Amazon EC2) é um serviço Web que disponibiliza capacidade computacional segura e redimensionável na nuvem. Ele foi projetado para facilitar a computação em nuvem na escala da web para os desenvolvedores. A interface de serviço Web simples do Amazon EC2 permite que você obtenha e configure a capacidade sem muito esforço. Oferece um controle completo de seus recursos computacionais e permite que você trabalhe no ambiente computacional comprovado da Amazon._\n",
    "_O Amazon EC2 oferece a maior e mais abrangente plataforma de computação com a possibilidade de escolha de processador, armazenamento, rede, sistema operacional e modelo de compra. Oferecemos os processadores mais rápidos na nuvem e somos a única nuvem com rede Ethernet de 400 Gbps. Temos as instâncias de GPU mais potentes para treinamento de machine learning e cargas de trabalho gráficas, bem como as instâncias de menor custo por inferência na nuvem. Mais cargas de trabalho SAP, HPC, machine learning e Windows são executadas na AWS do que em qualquer outra nuvem. Clique aqui para conhecer as Novidades do Amazon EC2._\n",
    "\n",
    "Assim como a abordagem feita nas etapas de criação do banco de dados RDS, antes de inicializar e implantar instâncias EC2 na AWS, é preciso definir alguns conceitos básicos, porém importantes, dentro do universo de gerenciamento de acesso e controle de tráfego pelas instâncias computacionais envolvidas. Dentro deste cenário, o próximo tópico irá pontuar conceitos relevantes sobre os grupos de segurança (ou _security groups_, em inglês)."
   ]
  },
  {
   "cell_type": "markdown",
   "id": "02fe0733",
   "metadata": {},
   "source": [
    "## Grupos de Segurança"
   ]
  },
  {
   "cell_type": "markdown",
   "id": "f2e0c26c",
   "metadata": {},
   "source": [
    "Como introduzido acima, os grupos de segurança são elementos fundamentais para o gerenciamento e controle de tráfego atuante na **camada da instância**. Em outras palavras, são estes os responsáveis por permitir ou negar conexões solicitadas para instâncias de acordo com o protocolo e o endereço de origem. Da mesma forma, é possível também controlar o fluxo de saída de pacotes e determinar algumas restrições de acordo com as necessidades do projeto.\n",
    "\n",
    "Assim, visando preparar todo esse gerenciamento de acesso antes de implantar qualquer serviço computacional, a imagem abaixo traz as configurações definidas para um grupo de segurança criado para permitir tráfego de qualquer origem dentro dos protocolos SSH, HTTP e HTTPS.\n",
    "\n",
    "<div align=\"center\">\n",
    "    <br><img src=\"https://i.imgur.com/KBtLw5e.png\" alt=\"aws-sg-creation\">\n",
    "</div>\n",
    "\n",
    "Com isso, nesse primeiro momento, será proposta a inicialização da primeira instância EC2 do projeto a partir da utilização do grupo de segurança recém criado. Com isso, a instância poderá receber conexões de qualquer fonte de acordo com os protocolos estabelecidos, bem como entregar pacotes para qualquer destino."
   ]
  },
  {
   "cell_type": "markdown",
   "id": "a9e8ec93",
   "metadata": {},
   "source": [
    "## Inicializando Instâncias"
   ]
  },
  {
   "cell_type": "markdown",
   "id": "50ed3ef4",
   "metadata": {},
   "source": [
    "Como mencionado na etapa anterior, neste momento serão dados os primeiros passos no console de gerenciamento da AWS para a inicialização da primeira instância EC2 do projeto. Em um caráter visual e intuitivo, o console fornece uma série de opções básicas de configuração para o serviço computacional a ser inicializado. Seguindo os critérios _free tier_ da conta, será proposta a utilização dos parâmetros adequados disponíveis para a utilização \"gratuita\".\n",
    "\n",
    "Dessa forma, a primeira instância EC2 será implantada em uma sub-rede pública. Suas configurações são dadas por:\n",
    "\n",
    "* **_Imagem:_** Amazon Linux 2 AMI (HVM), SSD Volume Type\n",
    "* **_Família:_** t2.micro\n",
    "* **_VPC:_** vpc-dev\n",
    "* **_Sub-rede:_** pub-subnet-1a\n",
    "* **_Volume/Storage:_** 8GB General Purpose SSD (Delete on Termination)\n",
    "* **_Security Group:_** web-access\n",
    "\n",
    "Assim, para realizar a conexão a uma instância já inicializada, é preciso utilizar a chave particular de dupla custódia configurada e acessível a partir de um comando ssh (via terminal ou putty). Em geral, basta navegar até o diretório onde o arquivo `.pem` está armazenado localmente e executar o comando:\n",
    "\n",
    "    ssh -i keypar.pem ec2-user@public-ipv4\n",
    "    \n",
    "A imagem abaixo ilustra essa etapa de conexão diretamente em um terminal windows.\n",
    "\n",
    "<div align=\"center\">\n",
    "    <br><img src=\"https://i.imgur.com/F1RSvnD.png\" alt=\"aws-ec2-connection\">\n",
    "</div>\n",
    "\n",
    "Dessa forma, com o intuito de aprimorar o processo de desenvolvimento de novas soluções utilizando IDEs e intgrações com git, as próximas duas seções deste material trarão alguns tópicos importantes para a instalação de alguns pacotes e configuração de conexões via ssh com a AWS."
   ]
  },
  {
   "cell_type": "markdown",
   "id": "e732ced0",
   "metadata": {},
   "source": [
    "## Instalando e Configurando Git"
   ]
  },
  {
   "cell_type": "markdown",
   "id": "ff0f31a6",
   "metadata": {},
   "source": [
    "Imaginando um cenário onde existe a necessidade do usuário consumir e contribuir com desenvolvimentos em um repositório de versionamento de código (como o GitHub ou o GitLab, por exemplo), é possível utilizar instâncias EC2 para realização de tais tarefas. Propondo então uma seção curta e direta, para que a proposta de utilização do git na AWS a partir de instâncias EC2 seja possível, basta realizar a instalação do git através do seguinte comando:\n",
    "\n",
    "    sudo yum install git -y\n",
    "    \n",
    "Para que seja possível configurar um fluxo adequado de versionamento de código no github a partir de instâncias EC2, é preciso estabelecer uma lógica de comunicação a partir de de um dos protocolos disponíveis (https ou ssh). Após estudar e pesquisar algumas possibilidades, conclui-se que a forma mais intuitiva de realizar essa operação resum-se às seguintes etapas:\n",
    "\n",
    "    1. Geração de uma chave ssh privada e pública via ssh-keygen direto na instância ec2\n",
    "    2. Adição da chave pública na conta do github\n",
    "    3. Clone do repositório via ssh\n",
    "    \n",
    "* **Prós:** todas as operações de versionamento poderão ser realizadas, visto que a comunicação via SSH será estabelecida entre a instância EC2 e o repositório remoto do GitHub\n",
    "* **Contras:** infelizmente, trata-se de um processo individual a ser realizada para cada instância EC2 inicializada com intenções de aplicar o versionamento de código. Dessa forma, será necessário configurar chaves SSH a cada necessidade de versionamento em uma EC2 inicializada. Nesse cenário, ainda estão sendo realizadas pesquisas para utilizar uma única chave SSH (arquivo .pem disponibilizado pela própria AWS para realização da conexão da máquina local e todas as instâncias EC2 inicializadas com esse vínculo).\n",
    "\n",
    "Mesmo considerando a parte \"negativa\" da proposta de configuração de chaves individuais pra cada instância, esse é o procedimento mais direto encontrado até o momento e é com ele que iremos seguir atuando a partir deste ponto. Para referências mais assertivas sobre como realizar tal configuração, os links de [gerar uma nova chave ssh](https://docs.github.com/pt/github/authenticating-to-github/connecting-to-github-with-ssh/generating-a-new-ssh-key-and-adding-it-to-the-ssh-agent) e [configurar uma chave ssh](https://docs.github.com/pt/github/authenticating-to-github/connecting-to-github-with-ssh/adding-a-new-ssh-key-to-your-github-account) podem ser utilizados.\n",
    "\n",
    "Uma vez relizada a configuração proposta, é possível executar o comando `git clone` utilizando o protocolo ssh para obter acesso ao repositório remoto.\n",
    "\n",
    "<div align=\"center\">\n",
    "    <br><img src=\"https://i.imgur.com/12LC0QP.png\" alt=\"aws-git-clone\">\n",
    "</div>\n",
    "\n",
    "No próximo tópico, será proposto um tutorial de conexão com a AWS utilizando a IDE VSCode."
   ]
  },
  {
   "cell_type": "markdown",
   "id": "6a2a37a9",
   "metadata": {},
   "source": [
    "## Conectando com VS Code"
   ]
  },
  {
   "cell_type": "markdown",
   "id": "2d6b52af",
   "metadata": {},
   "source": [
    "Em uma situação colaborativa de desenvolvimento ou mesmo onde o usuário pretende implementar e organizar grandes projetos, utilizar uma interface de desenvolvimento é primordial. Até o momento, as conexões a instâncias EC2 com a AWS foram realizadas a partir de comandos ssh no prompt de comando do sistema operacional o que, de fato, contribui com uma certa dificuldade em gerenciar códigos e arquivos em um diretório de projeto.\n",
    "\n",
    "Para sanar esse ponto, a proposta desta seção é utilizar o [VS Code](https://code.visualstudio.com/) como uma IDE capaz de se conectar aos recursos EC2 diretamente na provedora cloud. Com isso, um novo leque de possibilidades de desenvolvimento se abre para que o desenvolvedor possa usufruir de um ambiente mais convidativo de implementação de soluções.\n",
    "\n",
    "De forma resumida, os passos para esta configuração se resumem a:\n",
    "\n",
    "1. Instalação da extensão \"Remote - SSH\"\n",
    "2. Preparação do arquivo de configuração ssh com informações sobre a instância EC2\n",
    "3. Realização da conexão\n",
    "\n",
    "Em um cenário prático, apesar dos poucos passos propostos, foram encontrados alguns problemas que demandaram uma pesquisa mais refinada em algumas fontes na internet às quais serão registradas furutamente neste tópico. \n",
    "\n",
    "Assim, após os entendimentos e as pesquisas realizadas, os passos obtidos são ilustrados a partir das figuras abaixo:\n",
    "\n",
    "**_1. Instalação da extensão \"Remote - SSH\"_**\n",
    "<div align=\"center\">\n",
    "    <br><img src=\"https://i.imgur.com/9SXG02A.png\" alt=\"aws-vscode-ssh-ext\">\n",
    "</div>\n",
    "\n",
    "**_2. Arquivo de configuração SSH_**\n",
    "<div align=\"center\">\n",
    "    <br><img src=\"https://i.imgur.com/L4TMcy9.png\" alt=\"aws-vscode-ssh-config\">\n",
    "</div>\n",
    "\n",
    "**_3. Realização da conexão_**\n",
    "<div align=\"center\">\n",
    "    <br><img src=\"https://i.imgur.com/sQOlGbk.png\" alt=\"aws-vscode-ec2-connection\">\n",
    "</div>\n",
    "\n",
    "___\n",
    "**_Troubleshooting_**\n",
    "\n",
    "Como informado anteriormente, a conexão não foi realizada logo na primeira tentativa. Pensando em auxiliar os usuários consumidores deste material, serão fornecidos abaixo links úteis que podem auxiliar em possível erros.\n",
    "\n",
    "> [Tutorial de conexão do VS Code com uma instância EC2 na AWS via SSH](https://medium.com/@christyjacob4/using-vscode-remotely-on-an-ec2-instance-7822c4032cff)\n",
    "\n",
    "> [Lidando com erro de \"Bad owner or permissions\" ou \"pipe inexistente\"](https://github.com/microsoft/vscode-docs/issues/3210)\n",
    "\n",
    "> [Lidando com erro de permissões na conexão](https://www.youtube.com/watch?v=R7cUtQu7jww)\n",
    "\n",
    "> [Lidando com erro de \"Bad owner or premissions\" no arquivo de configuração do ssh](https://github.com/cmderdev/cmder/issues/1763)\n",
    "___\n",
    "\n",
    "Assim, considerando todos o cumprimento de os pré-requisitos definidos relacionados à inicialização dos recursos na nuvem em prol do alcance do objetivo, é possível, neste momento, utilizar as instâncias EC2 como ponte para conexão ao banco de dados RDS já existente. Dessa forma, as próximas seções deste material irão abordar, de forma didática, as tentativas realizadas em diferentes formados: local e em nuvem"
   ]
  },
  {
   "cell_type": "markdown",
   "id": "2cc8a685",
   "metadata": {},
   "source": [
    "# Terceiro Passo: Conectando ao BD"
   ]
  },
  {
   "cell_type": "markdown",
   "id": "2564386c",
   "metadata": {},
   "source": [
    "Após toda uma jornada de entendimento de conceitos em nuvem e implementação de recursos, é chegado um dos momentos mais cruciais da jornada de migração do projeto. Para que se tenha uma noção clara do desafio aqui proposto, é neste ponto onde deve-se consolidar todos os conhecimentos adquiridos para implementar uma conexão clara e robusta entre o recurso computacional instanciado (EC2) e o banco de dados relacional existente (RDS). Em um cenário inédito, algumas tentativas serão realizadas de maneira prévia, visando sempre fornecer uma maneira didática e simples de ganho de conhecimento. Nesta abordagem, em um primeiro momento, será proposta a utilização de um servidor local do _postgresql_ através da interface _pgAdmin_. Após este primeiro entendimento, um segundo passo da proposta contempla a utilização do RDS a partir do pgAdmin4. Por fim, com o sucesso dos passos anteriores, serão exploradas formas de realizar e manusear os elementos dos bancos de dados via scripts python."
   ]
  },
  {
   "cell_type": "markdown",
   "id": "33ff412a",
   "metadata": {},
   "source": [
    "## Banco de Dados Local"
   ]
  },
  {
   "cell_type": "markdown",
   "id": "0ebec528",
   "metadata": {},
   "source": [
    "### Acesso via Interface de Gerenciamento"
   ]
  },
  {
   "cell_type": "markdown",
   "id": "c550bee0",
   "metadata": {},
   "source": [
    "Para esta primeira abordagem, foi realizada a instalação dos seguintes elementos:\n",
    "\n",
    "* [Banco de dados PostgreSQL](https://www.postgresql.org/download/) - versão 13.2\n",
    "* [Utilitário pgAdmin4](https://www.pgadmin.org/download/) - versão v5\n",
    "\n",
    "Após as instalações e as devidas configurações, é possível acessar, a partir do pgAdmin4, um servidor padrão denominado `PostgreSQL 13` criado automaticamente para o usuário final. Este servidor aponta direto para o _localhost_ do usuário na porta 5432 (padrão do PostgreSQL) e seu nome de super-usuário é `postgres`. Uma senha é configurada no ato de instalação do utilitário para o devido acesso ao servidor. Para maiores detalhes sobre este servidor padrão é possível acessar, no pgAdmin4, as propriedades disponíveis. A imagem abaixo mostra uma interface de configuração de conexão definida para o dado servidor.\n",
    "\n",
    "<div align=\"center\">\n",
    "    <br><img src=\"https://i.imgur.com/lweWytV.png\" alt=\"local-pgadmin-server\">\n",
    "</div>\n",
    "\n",
    "Em um cenário exploratório, é possível utilizar o pgAdmin4 como uma interface verdadeiramente dinâmica em termos de criação de elementos de bancos de dados. Em outras palavras, é possível afirmar que o software desempenha um papel fundamental para usuários iniciantes, dado que fornece, de maneira simples e direta, telas e menus de configuração de elementos, sejam eles bancos de dados, tabelas, scripts de ingestão, seleção, entre outros. Neste cenário, utilizando os menus exploratórios oferecidos pelo pgadmin4, foram desenvolvidos scripts de testes que realizam as seguintes operações:\n",
    "\n",
    "1. Criação de um novo banco de dados no servidor local;\n",
    "2. Criação de uma tabela de testes dentro do banco de dados recém criado;\n",
    "3. Ingestão de linhas na tabela;\n",
    "4. Seleção de dados da tabela.\n",
    "\n",
    "Os scripts sql capaz de realizar todas essas operações pode visualizado abaixo e, seu resultado, na imagem subsequente.\n",
    "\n",
    "    --[1] Script de criação de banco de dados\n",
    "    CREATE DATABASE nbaflow_local\n",
    "        WITH \n",
    "        OWNER = postgres\n",
    "        ENCODING = 'UTF8'\n",
    "        LC_COLLATE = 'Portuguese_Brazil.1252'\n",
    "        LC_CTYPE = 'Portuguese_Brazil.1252'\n",
    "        TABLESPACE = pg_default\n",
    "        CONNECTION LIMIT = -1;\n",
    "\n",
    "    /*Após a criação do banco de dados via query tool,\n",
    "    é importante abrir uma nova janela de query para evitar\n",
    "    a criação dos elementos em um banco de dados incorreto*/\n",
    "\n",
    "    --[2] Script de criação de tabela\n",
    "    CREATE TABLE IF NOT EXISTS public.players\n",
    "    (\n",
    "        player_id integer NOT NULL,\n",
    "        player_name character varying(255) NOT NULL,\n",
    "        CONSTRAINT pk PRIMARY KEY (player_id)\n",
    "    )\n",
    "\n",
    "    TABLESPACE pg_default;\n",
    "\n",
    "    ALTER TABLE public.players\n",
    "        OWNER to postgres;\n",
    "\n",
    "    --[3] Script de ingestão de dados em tabela\n",
    "    INSERT INTO public.players \n",
    "        (player_id, player_name)\n",
    "    VALUES \n",
    "        (1, 'Damian Lillard'),\n",
    "        (2, 'Lebron James');\n",
    "\n",
    "    --[4] Selecionando dados da tabela\n",
    "    SELECT\n",
    "        player_id,\n",
    "        player_name\n",
    "\n",
    "    FROM public.players\n",
    "\n",
    "    WHERE player_id = 1;\n",
    "    \n",
    "<div align=\"center\">\n",
    "    <br><img src=\"https://i.imgur.com/9Lsj2CF.png\" alt=\"local-pgadmin-script\">\n",
    "</div>\n",
    "\n",
    "Assim, considerando um primeiro contato com as ferramentas locais de banco de dados, mais especificamente o PostgreSQL e o pgAdmin4 como software de gerenciamento, foi possível verificar a utilidade exploratória da interface e do sistema local como fontes de armazenamento de dados, entregando ao usuário final todo o leque que os bancos de dados podem fornecer. Para aprendizados mais detalhados nessa frente de usabilidade gráfica do banco de dados, a [trilha de PostgreSQL](https://www.youtube.com/watch?v=rw972yYVGcM&list=PLucm8g_ezqNoAkYKXN_zWupyH6hQCAwxY&index=10) do canal [Bóson Treinamentos](https://www.youtube.com/channel/UCzOGJclZQvPVgYZIwERsf5g) pode ser de grande utilidade.\n",
    "\n",
    "Ainda no contexto local, a próxima seção irá abordar esta mesma relação com um viés de linha de código. O grande objetivo será consolidar algumas das principais ações realizadas em bancos de dados em scripts automáticos que podem ser executados em conjunto com outras ações. Dessa forma, serão explorados os elementos disponíveis e compatíveis com a linguagem Python para conectar, criar elementos ou selecionar dados de um banco já existente."
   ]
  },
  {
   "cell_type": "markdown",
   "id": "30283a05",
   "metadata": {},
   "source": [
    "### Acesso via Python"
   ]
  },
  {
   "cell_type": "markdown",
   "id": "4e5830c1",
   "metadata": {},
   "source": [
    "Em linha com os objetivos estabelecidos, nesta seção serão oferecidos detalhes práticos de utilização de um banco de dados PostgreSQL utilizando a linguagem de programação Python. Para isso, algumas bibliotecas adicionais da linguagem serão utilizadas para a devida configuração e o correto gerenciamento das ações a serem aplicadas no banco. Após uma pesquisa rápida nas possibilidades existentes, foi possível levantar duas bibliotecas interessantes que podem ser de grande utilidade, sendo elas:\n",
    "\n",
    "* [`psycopg2`](https://pypi.org/project/psycopg2/): _biblioteca python para conexão e utilização de bancos de dados PostgreSQL_\n",
    "\n",
    "    * [Criando conexão com psycopg2](https://www.devmedia.com.br/como-criar-uma-conexao-em-postgresql-com-python/34079);\n",
    "    * [Using psycopg2 with postgresql](https://wiki.postgresql.org/wiki/Using_psycopg2_with_PostgreSQL);\n",
    "    * [Primeiros passos com postgresql e python3](http://pythonclub.com.br/postgresql-e-python3.html);\n",
    "    * [Usar o python para conectar e consultar dados no Azure - postgresql](https://docs.microsoft.com/pt-br/azure/postgresql/flexible-server/connect-python);\n",
    "    \n",
    "    \n",
    "* [`sqlalchemy`](https://www.sqlalchemy.org/): _biblioteca que proporciona uma maior abstração aos comandos SQL normalmente exigidos em gerenciamentos de bancos de dados via código_\n",
    "    * [Beginners tutorial for using sqlalchemy with postgresql](https://www.learndatasci.com/tutorials/using-databases-python-postgres-sqlalchemy-and-alembic/)\n",
    "    * [Using postgresql through sqlalchemy](https://www.compose.com/articles/using-postgresql-through-sqlalchemy/)\n",
    "    \n",
    "Em linhas gerais, existem prós e contras de utilizar ambas as ferramentas. Ao utilizar o `psycopg2` para esse gerenciamento, o usuário possui total controle sobre as ações do banco de dados, ficando a seu cargo a escrita das queries necessárias para serem executadas no servidor. Por outro lado, com o `sqlalchemy`, alguns objetos já são fornecidos previamente, evitando assim a criação de códigos com uma série de strings com comandos sql. Apesar de parecer algo totalmente vantajoso, utilizar um ORM específico como o `sqlalchemy` pode se tornar algo menos generalista, dificultando assim o entendimento de código por outros usuários. A seguir, detalhes práticos sobre a utilização de cada um deles serão dados e utilizados em meio ao servidor local de PostgreSQL criado."
   ]
  },
  {
   "cell_type": "markdown",
   "id": "20bd643a",
   "metadata": {},
   "source": [
    "Visando detalhar os passos necessários para realizar uma conexão python com o banco de dados postgresql, esta seção trará os conceitos para este propósito utilizando a biblitoeca `psycopg2`."
   ]
  },
  {
   "cell_type": "markdown",
   "id": "f2769d28",
   "metadata": {
    "ExecuteTime": {
     "end_time": "2021-08-16T17:36:55.566039Z",
     "start_time": "2021-08-16T17:36:51.450426Z"
    }
   },
   "source": [
    "    !pip install psycopg2"
   ]
  },
  {
   "cell_type": "code",
   "execution_count": 1,
   "id": "d4875c7c",
   "metadata": {
    "ExecuteTime": {
     "end_time": "2021-08-16T20:35:08.450249Z",
     "start_time": "2021-08-16T20:35:07.884438Z"
    }
   },
   "outputs": [
    {
     "name": "stdout",
     "output_type": "stream",
     "text": [
      "Conexão realizada com sucesso no PostgreSQL versão:\n",
      "\n",
      "PostgreSQL 13.3, compiled by Visual C++ build 1914, 64-bit\n"
     ]
    }
   ],
   "source": [
    "# Biblioteca postgres\n",
    "import psycopg2\n",
    "\n",
    "# Importando bibliotecas\n",
    "import os\n",
    "import pandas as pd\n",
    "from dotenv import load_dotenv, find_dotenv\n",
    "\n",
    "# Lendo variáveis de ambiente\n",
    "load_dotenv(find_dotenv())\n",
    "\n",
    "# Coletando variáveis e definindo parâmetros de configuração\n",
    "HOST = os.getenv('DB_HOST')\n",
    "DB_USER = os.getenv('DB_USER')\n",
    "DB_NAME = os.getenv('DB_NAME')\n",
    "\n",
    "# Criando objeto de conexão\n",
    "conn = psycopg2.connect(host=HOST,\n",
    "                        database=DB_NAME,\n",
    "                        user=DB_USER,\n",
    "                        password=os.getenv('DB_PWD'))\n",
    "\n",
    "# Criando cursor e testando conexão\n",
    "with conn.cursor() as cur:\n",
    "    print(f'Conexão realizada com sucesso no PostgreSQL versão:\\n')\n",
    "    cur.execute('SELECT version()')\n",
    "    print(cur.fetchone()[0])"
   ]
  },
  {
   "cell_type": "markdown",
   "id": "059334cc",
   "metadata": {},
   "source": [
    "Com o código acima, foi realizada a importação das biblitoecas python necessárias (incluindo a `psycopg2`), a definição de parâmetros de conexão do banco de dados PostgreSQL, a criação de um objeto de conexão a partir do método `psycopg2.connect()` e a criação de um cursor para aplicar um SELECT simples na versão do banco de dados instalado localmente.\n",
    "\n",
    "A seguir, será proposta a ingestão de novos dados e subsequente seleção na tabela `players` do banco de dados `nbaflow_local` criado manualmente através do pgAdmin4."
   ]
  },
  {
   "cell_type": "code",
   "execution_count": 2,
   "id": "290eb2b8",
   "metadata": {
    "ExecuteTime": {
     "end_time": "2021-08-16T20:35:08.498120Z",
     "start_time": "2021-08-16T20:35:08.453243Z"
    }
   },
   "outputs": [
    {
     "name": "stdout",
     "output_type": "stream",
     "text": [
      "Erro de ingestão de dados. Exception: duplicate key value violates unique constraint \"pk\"\n",
      "DETAIL:  Key (player_id)=(3) already exists.\n",
      "\n"
     ]
    },
    {
     "data": {
      "text/html": [
       "<div>\n",
       "<style scoped>\n",
       "    .dataframe tbody tr th:only-of-type {\n",
       "        vertical-align: middle;\n",
       "    }\n",
       "\n",
       "    .dataframe tbody tr th {\n",
       "        vertical-align: top;\n",
       "    }\n",
       "\n",
       "    .dataframe thead th {\n",
       "        text-align: right;\n",
       "    }\n",
       "</style>\n",
       "<table border=\"1\" class=\"dataframe\">\n",
       "  <thead>\n",
       "    <tr style=\"text-align: right;\">\n",
       "      <th></th>\n",
       "      <th>player_id</th>\n",
       "      <th>player_name</th>\n",
       "    </tr>\n",
       "  </thead>\n",
       "  <tbody>\n",
       "    <tr>\n",
       "      <th>0</th>\n",
       "      <td>1</td>\n",
       "      <td>Damian Lillard</td>\n",
       "    </tr>\n",
       "    <tr>\n",
       "      <th>1</th>\n",
       "      <td>2</td>\n",
       "      <td>Lebron James</td>\n",
       "    </tr>\n",
       "    <tr>\n",
       "      <th>2</th>\n",
       "      <td>3</td>\n",
       "      <td>Kyrie Irving</td>\n",
       "    </tr>\n",
       "  </tbody>\n",
       "</table>\n",
       "</div>"
      ],
      "text/plain": [
       "   player_id     player_name\n",
       "0          1  Damian Lillard\n",
       "1          2    Lebron James\n",
       "2          3    Kyrie Irving"
      ]
     },
     "execution_count": 2,
     "metadata": {},
     "output_type": "execute_result"
    }
   ],
   "source": [
    "# Definindo string sql de ingestão de dados\n",
    "insert_query = \"\"\"\n",
    "    INSERT INTO players (player_id, player_name)\n",
    "        VALUES (3, 'Kyrie Irving')\n",
    "\"\"\"\n",
    "\n",
    "# Definindo string sql de seleção de dados\n",
    "select_query = \"\"\"\n",
    "    SELECT\n",
    "        player_id, \n",
    "        player_name\n",
    "    \n",
    "    FROM players\n",
    "\"\"\"\n",
    "\n",
    "# Criando cursor e aplicando comandos no banco de daods\n",
    "with conn.cursor() as cur:\n",
    "    try:\n",
    "        cur.execute(insert_query)\n",
    "        conn.commit()\n",
    "    except Exception as e:\n",
    "        print(f'Erro de ingestão de dados. Exception: {e}')\n",
    "        conn.rollback()\n",
    "    finally:\n",
    "        cur.execute(select_query)\n",
    "        conn.commit()\n",
    "        data = pd.DataFrame(cur.fetchall(), columns=['player_id', 'player_name'])\n",
    "        \n",
    "# Verificando resultado\n",
    "data.head()"
   ]
  },
  {
   "cell_type": "markdown",
   "id": "1c2a268c",
   "metadata": {},
   "source": [
    "Em um cenário especial, os próximos blocos de código terão como desafio receber um objeto DataFrame como entrada e realizar um processo de ingestão em um banco de dados. Em um primeiro momento, será proposta a construção de uma query a partir dos registros existentes no objeto DataFrame."
   ]
  },
  {
   "cell_type": "code",
   "execution_count": 3,
   "id": "594fb6f1",
   "metadata": {
    "ExecuteTime": {
     "end_time": "2021-08-16T20:35:08.514189Z",
     "start_time": "2021-08-16T20:35:08.500116Z"
    },
    "code_folding": [
     1,
     10
    ]
   },
   "outputs": [],
   "source": [
    "# Função auxiliar para conversão de tipos primitivos\n",
    "def convert_dtype(dtype):\n",
    "    if dtype in ('int64', 'int32'):\n",
    "        return 'INT'\n",
    "    elif dtype == 'object':\n",
    "        return 'VARCHAR(255)'\n",
    "    elif dtype in ('float64', 'float32'):\n",
    "        return 'NUMERIC'\n",
    "    \n",
    "# Definindo função de construção de query CREATE TABLE\n",
    "def create_table_from_df(df, table_name, constraints='', \n",
    "                         run=False, db_connection=None):\n",
    "    \"\"\"\n",
    "    Função responsável por gerar uma string de criação de \n",
    "    tabela por meio de um objeto DataFrame fornecido como\n",
    "    argumento da função. Visando propor uma abordagem\n",
    "    básica e simples de utilização, foi desenvolvida uma\n",
    "    função auxiliar para conversão dos tipos primitivos \n",
    "    originais do objeto DataFrame para versões aplicáveis\n",
    "    em um banco de dados padrão.\n",
    "    \n",
    "    Parâmetros\n",
    "    ----------\n",
    "    :param df: \n",
    "        Objeto DataFrame do pandas contendo as referências\n",
    "        colunares a serem utilizadas como base para a \n",
    "        construção da query de criação de tabela.\n",
    "        [type: pd.DataFrame]\n",
    "        \n",
    "    :param table_name:\n",
    "        Nome da tabela a ser utilizada no comando de criação.\n",
    "        [type: string]\n",
    "        \n",
    "    :param constraints:\n",
    "        Restrições adicionais a serem estabelecidas na query\n",
    "        de criação de tabela.\n",
    "        [type: string, default='']\n",
    "        \n",
    "    :param run:\n",
    "        Flag para execução opcional da query criada utilizando\n",
    "        uma conexão existente do banco de dados. Ao configurar\n",
    "        este parâmetro como True, a função inicializa um cursor\n",
    "        da conexão existente e executa a query direto no banco.\n",
    "        [type: bool, default=False]\n",
    "        \n",
    "    :param db_connection:\n",
    "        Objeto de conexão existente do banco de dados a ser\n",
    "        utilizada para execução da query. Este argumento é\n",
    "        definido em conjunto com o argumento \"run\". A condição\n",
    "        estabelecida para execução da query ocorre quando o \n",
    "        argumento \"run\" é True e o argumento db_connection\n",
    "        existe.\n",
    "        [type: conn, default=None]\n",
    "        \n",
    "    Retorno\n",
    "    -------\n",
    "    :return ct_string:\n",
    "        Query de criação de tabela devidamente formatada de\n",
    "        acordo com os elementos contidos no objeto DataFrame.\n",
    "        [type: string]\n",
    "    \"\"\"\n",
    "    \n",
    "    # Inicializando strings e parâmetros\n",
    "    ct_string = 'CREATE TABLE IF NOT EXISTS <table_name> (<col_string>)'\n",
    "    col_string = ''\n",
    "    constraints = ''\n",
    "\n",
    "    # Iterando sobre colunas e tipos primitivos do DataFrame\n",
    "    for col, dtype in df.dtypes.items():\n",
    "\n",
    "        # Convertendo tipos primitivos mais básicos\n",
    "        psql_dtype = convert_dtype(dtype)\n",
    "\n",
    "        # Incrementando query string\n",
    "        splitter = ', '\n",
    "        col_string += col + ' ' + str(psql_dtype) + splitter\n",
    "\n",
    "    # Eliminando última vírgula\n",
    "    col_string = col_string[:-len(splitter)]\n",
    "    col_string += ' ' + constraints\n",
    "    col_string = col_string.strip()\n",
    "\n",
    "    # Substituindo valores na query principal\n",
    "    ct_string = ct_string.replace('<table_name>', table_name)\n",
    "    ct_string = ct_string.replace('<col_string>', col_string)\n",
    "    \n",
    "    # Executando query (se aplicável)\n",
    "    if run and db_connection is not None:\n",
    "        with db_connection.cursor() as cur:\n",
    "            try:\n",
    "                cur.execute(ct_string)\n",
    "                db_connection.commit()\n",
    "            except Exception as e:\n",
    "                print(f'Erro ao criar a tabela {table_name}. Exception: {e}')           \n",
    "            \n",
    "    return ct_string"
   ]
  },
  {
   "cell_type": "code",
   "execution_count": 4,
   "id": "64cdc28e",
   "metadata": {
    "ExecuteTime": {
     "end_time": "2021-08-16T20:35:08.546108Z",
     "start_time": "2021-08-16T20:35:08.516184Z"
    }
   },
   "outputs": [
    {
     "name": "stdout",
     "output_type": "stream",
     "text": [
      "Query string de criação de tabela:\n",
      "CREATE TABLE IF NOT EXISTS players_python (player_id INT, player_name VARCHAR(255))\n",
      "\n",
      "A tabela foi criada? Sim\n"
     ]
    }
   ],
   "source": [
    "# Testando função\n",
    "players_table = 'players_python'\n",
    "create_string = create_table_from_df(df=data, table_name=players_table,\n",
    "                                     run=True, db_connection=conn)\n",
    "\n",
    "# Verificando resultados\n",
    "print(f'Query string de criação de tabela:\\n{create_string}')\n",
    "with conn.cursor() as cur:\n",
    "    conn.commit()\n",
    "    cur.execute(\"SELECT table_name FROM information_schema.tables WHERE table_schema='public'\")\n",
    "    print(f'\\nA tabela foi criada? {\"Sim\" if players_table in pd.DataFrame(cur.fetchall()).values else \"Não\"}')"
   ]
  },
  {
   "cell_type": "markdown",
   "id": "3194ca4a",
   "metadata": {},
   "source": [
    "Com o encapsulamento do código, nasce a função `create_table_from_df()` capaz de receber um objeto do tipo DataFrame, construir uma query de criação de tabela e opcionalmente executá-la a partir de uma conexão existente de banco de dados. Como próximos passos, será proposto um encapsulamento semelhante para a ingestão de dados no banco."
   ]
  },
  {
   "cell_type": "code",
   "execution_count": 5,
   "id": "b678aa81",
   "metadata": {
    "ExecuteTime": {
     "end_time": "2021-08-16T20:35:08.562062Z",
     "start_time": "2021-08-16T20:35:08.549096Z"
    },
    "code_folding": [
     1
    ]
   },
   "outputs": [],
   "source": [
    "# Definindo função de construção de query INSERT INTO\n",
    "def insert_into_from_df(df, table_name, run=False, \n",
    "                        db_connection=None):\n",
    "    \"\"\"\n",
    "    Função responsável por gerar uma string de criação de \n",
    "    tabela por meio de um objeto DataFrame fornecido como\n",
    "    argumento da função. Visando propor uma abordagem\n",
    "    básica e simples de utilização, foi desenvolvida uma\n",
    "    função auxiliar para conversão dos tipos primitivos \n",
    "    originais do objeto DataFrame para versões aplicáveis\n",
    "    em um banco de dados padrão.\n",
    "    \n",
    "    Parâmetros\n",
    "    ----------\n",
    "    :param df: \n",
    "        Objeto DataFrame do pandas contendo as referências\n",
    "        colunares a serem utilizadas como base para a \n",
    "        construção da query de criação de tabela.\n",
    "        [type: pd.DataFrame]\n",
    "        \n",
    "    :param table_name:\n",
    "        Nome da tabela a ser utilizada no comando de criação.\n",
    "        [type: string]\n",
    "        \n",
    "    :param run:\n",
    "        Flag para execução opcional da query criada utilizando\n",
    "        uma conexão existente do banco de dados. Ao configurar\n",
    "        este parâmetro como True, a função inicializa um cursor\n",
    "        da conexão existente e executa a query direto no banco.\n",
    "        [type: bool, default=False]\n",
    "        \n",
    "    :param db_connection:\n",
    "        Objeto de conexão existente do banco de dados a ser\n",
    "        utilizada para execução da query. Este argumento é\n",
    "        definido em conjunto com o argumento \"run\". A condição\n",
    "        estabelecida para execução da query ocorre quando o \n",
    "        argumento \"run\" é True e o argumento db_connection\n",
    "        existe.\n",
    "        [type: conn, default=None]\n",
    "        \n",
    "    Retorno\n",
    "    -------\n",
    "    :return insert_string:\n",
    "        Query de inserção de dados em tabela devidamente \n",
    "        formatada de acordo com os elementos contidos no \n",
    "        objeto DataFrame.\n",
    "        [type: string]\n",
    "    \"\"\"\n",
    "    \n",
    "    # Inicializando strings e parâmetros\n",
    "    insert_string = 'INSERT INTO <table_name> (<col_string>) VALUES <value_string>'\n",
    "    col_string = ', '.join(df.columns)\n",
    "    splitter = ', '\n",
    "    value_string = ''\n",
    "\n",
    "    # Iterando sobre os registros do DataFrame\n",
    "    for index, value in df.iterrows():\n",
    "        value_string += '('\n",
    "        for col, dtype in df.dtypes.items():\n",
    "            # Preparando tupla de inserção\n",
    "            if dtype == 'object':\n",
    "                value_string += \"'\" + str(value[col]) + \"'\" + splitter\n",
    "            else:\n",
    "                value_string += str(value[col]) + splitter\n",
    "\n",
    "        # Eliminando delimitador e adicionando fechamento de parênteses\n",
    "        value_string = value_string[:-len(splitter)]\n",
    "        value_string += ')' + splitter\n",
    "\n",
    "    # Eliminando delimitador\n",
    "    value_string = value_string[:-len(splitter)]\n",
    "    value_string = value_string.strip()\n",
    "\n",
    "    # Substituindo valores na query principal\n",
    "    insert_string = insert_string.replace('<table_name>', table_name)\n",
    "    insert_string = insert_string.replace('<col_string>', col_string)\n",
    "    insert_string = insert_string.replace('<value_string>', value_string)\n",
    "    \n",
    "    # Executando query (se aplicável)\n",
    "    if run and db_connection is not None:\n",
    "        with db_connection.cursor() as cur:\n",
    "            try:\n",
    "                db_connection.commit()\n",
    "                cur.execute(insert_string)\n",
    "                db_connection.commit()\n",
    "            except Exception as e:\n",
    "                print(f'Erro ao inserir dados na tabela {table_name}. Exception: {e}')           \n",
    "            \n",
    "    return insert_string"
   ]
  },
  {
   "cell_type": "code",
   "execution_count": 6,
   "id": "a3eec7af",
   "metadata": {
    "ExecuteTime": {
     "end_time": "2021-08-16T20:35:08.656402Z",
     "start_time": "2021-08-16T20:35:08.564056Z"
    }
   },
   "outputs": [
    {
     "data": {
      "text/html": [
       "<div>\n",
       "<style scoped>\n",
       "    .dataframe tbody tr th:only-of-type {\n",
       "        vertical-align: middle;\n",
       "    }\n",
       "\n",
       "    .dataframe tbody tr th {\n",
       "        vertical-align: top;\n",
       "    }\n",
       "\n",
       "    .dataframe thead th {\n",
       "        text-align: right;\n",
       "    }\n",
       "</style>\n",
       "<table border=\"1\" class=\"dataframe\">\n",
       "  <thead>\n",
       "    <tr style=\"text-align: right;\">\n",
       "      <th></th>\n",
       "      <th>0</th>\n",
       "      <th>1</th>\n",
       "    </tr>\n",
       "  </thead>\n",
       "  <tbody>\n",
       "    <tr>\n",
       "      <th>0</th>\n",
       "      <td>1</td>\n",
       "      <td>Damian Lillard</td>\n",
       "    </tr>\n",
       "    <tr>\n",
       "      <th>1</th>\n",
       "      <td>2</td>\n",
       "      <td>Lebron James</td>\n",
       "    </tr>\n",
       "    <tr>\n",
       "      <th>2</th>\n",
       "      <td>3</td>\n",
       "      <td>Kyrie Irving</td>\n",
       "    </tr>\n",
       "  </tbody>\n",
       "</table>\n",
       "</div>"
      ],
      "text/plain": [
       "   0               1\n",
       "0  1  Damian Lillard\n",
       "1  2    Lebron James\n",
       "2  3    Kyrie Irving"
      ]
     },
     "execution_count": 6,
     "metadata": {},
     "output_type": "execute_result"
    }
   ],
   "source": [
    "# Inserindo dados na tabela\n",
    "insert_string = insert_into_from_df(df=data, table_name='players_python',\n",
    "                                    run=True, db_connection=conn)\n",
    "\n",
    "# Verificando sucesso a partir da seleção de dados\n",
    "with conn.cursor() as cur:\n",
    "    cur.execute(f'SELECT player_id, player_name FROM {players_table}')\n",
    "    data = pd.DataFrame(cur.fetchall())\n",
    "data"
   ]
  },
  {
   "cell_type": "markdown",
   "id": "8843335d",
   "metadata": {},
   "source": [
    "Por fim, visando realizar um procedimento completo de criação e ingestão de dados utilizando DataFrames com um número relevante de registros, será proposta a leitura de um arquivo csv contendo registros de partidas de jogadores da NBA para que este seja utilizado como referência principal na criação e ingestão de dados."
   ]
  },
  {
   "cell_type": "code",
   "execution_count": 7,
   "id": "605f52ad",
   "metadata": {
    "ExecuteTime": {
     "end_time": "2021-08-16T20:35:08.704278Z",
     "start_time": "2021-08-16T20:35:08.659394Z"
    }
   },
   "outputs": [
    {
     "name": "stdout",
     "output_type": "stream",
     "text": [
      "Dimensões da base de dados lida: (73, 30)\n"
     ]
    },
    {
     "data": {
      "text/html": [
       "<div>\n",
       "<style scoped>\n",
       "    .dataframe tbody tr th:only-of-type {\n",
       "        vertical-align: middle;\n",
       "    }\n",
       "\n",
       "    .dataframe tbody tr th {\n",
       "        vertical-align: top;\n",
       "    }\n",
       "\n",
       "    .dataframe thead th {\n",
       "        text-align: right;\n",
       "    }\n",
       "</style>\n",
       "<table border=\"1\" class=\"dataframe\">\n",
       "  <thead>\n",
       "    <tr style=\"text-align: right;\">\n",
       "      <th></th>\n",
       "      <th>season_id</th>\n",
       "      <th>player_id</th>\n",
       "      <th>player_name</th>\n",
       "      <th>game_id</th>\n",
       "      <th>game_date</th>\n",
       "      <th>matchup</th>\n",
       "      <th>wl</th>\n",
       "      <th>min</th>\n",
       "      <th>fgm</th>\n",
       "      <th>fga</th>\n",
       "      <th>...</th>\n",
       "      <th>ast</th>\n",
       "      <th>stl</th>\n",
       "      <th>blk</th>\n",
       "      <th>tov</th>\n",
       "      <th>pf</th>\n",
       "      <th>pts</th>\n",
       "      <th>plus_minus</th>\n",
       "      <th>video_available</th>\n",
       "      <th>season</th>\n",
       "      <th>season_type</th>\n",
       "    </tr>\n",
       "  </thead>\n",
       "  <tbody>\n",
       "    <tr>\n",
       "      <th>0</th>\n",
       "      <td>42020</td>\n",
       "      <td>203081</td>\n",
       "      <td>Damian Lillard</td>\n",
       "      <td>42000166</td>\n",
       "      <td>2021-06-03</td>\n",
       "      <td>POR vs. DEN</td>\n",
       "      <td>L</td>\n",
       "      <td>43</td>\n",
       "      <td>8</td>\n",
       "      <td>20</td>\n",
       "      <td>...</td>\n",
       "      <td>13</td>\n",
       "      <td>2</td>\n",
       "      <td>0</td>\n",
       "      <td>5</td>\n",
       "      <td>1</td>\n",
       "      <td>28</td>\n",
       "      <td>-11</td>\n",
       "      <td>1</td>\n",
       "      <td>2020-21</td>\n",
       "      <td>Playoffs</td>\n",
       "    </tr>\n",
       "    <tr>\n",
       "      <th>1</th>\n",
       "      <td>42020</td>\n",
       "      <td>203081</td>\n",
       "      <td>Damian Lillard</td>\n",
       "      <td>42000165</td>\n",
       "      <td>2021-06-01</td>\n",
       "      <td>POR @ DEN</td>\n",
       "      <td>L</td>\n",
       "      <td>52</td>\n",
       "      <td>17</td>\n",
       "      <td>24</td>\n",
       "      <td>...</td>\n",
       "      <td>10</td>\n",
       "      <td>1</td>\n",
       "      <td>3</td>\n",
       "      <td>1</td>\n",
       "      <td>0</td>\n",
       "      <td>55</td>\n",
       "      <td>2</td>\n",
       "      <td>1</td>\n",
       "      <td>2020-21</td>\n",
       "      <td>Playoffs</td>\n",
       "    </tr>\n",
       "    <tr>\n",
       "      <th>2</th>\n",
       "      <td>42020</td>\n",
       "      <td>203081</td>\n",
       "      <td>Damian Lillard</td>\n",
       "      <td>42000164</td>\n",
       "      <td>2021-05-29</td>\n",
       "      <td>POR vs. DEN</td>\n",
       "      <td>W</td>\n",
       "      <td>31</td>\n",
       "      <td>1</td>\n",
       "      <td>10</td>\n",
       "      <td>...</td>\n",
       "      <td>10</td>\n",
       "      <td>1</td>\n",
       "      <td>0</td>\n",
       "      <td>1</td>\n",
       "      <td>2</td>\n",
       "      <td>10</td>\n",
       "      <td>33</td>\n",
       "      <td>1</td>\n",
       "      <td>2020-21</td>\n",
       "      <td>Playoffs</td>\n",
       "    </tr>\n",
       "    <tr>\n",
       "      <th>3</th>\n",
       "      <td>42020</td>\n",
       "      <td>203081</td>\n",
       "      <td>Damian Lillard</td>\n",
       "      <td>42000163</td>\n",
       "      <td>2021-05-27</td>\n",
       "      <td>POR vs. DEN</td>\n",
       "      <td>L</td>\n",
       "      <td>40</td>\n",
       "      <td>15</td>\n",
       "      <td>31</td>\n",
       "      <td>...</td>\n",
       "      <td>5</td>\n",
       "      <td>2</td>\n",
       "      <td>0</td>\n",
       "      <td>1</td>\n",
       "      <td>3</td>\n",
       "      <td>37</td>\n",
       "      <td>-6</td>\n",
       "      <td>1</td>\n",
       "      <td>2020-21</td>\n",
       "      <td>Playoffs</td>\n",
       "    </tr>\n",
       "    <tr>\n",
       "      <th>4</th>\n",
       "      <td>42020</td>\n",
       "      <td>203081</td>\n",
       "      <td>Damian Lillard</td>\n",
       "      <td>42000162</td>\n",
       "      <td>2021-05-24</td>\n",
       "      <td>POR @ DEN</td>\n",
       "      <td>L</td>\n",
       "      <td>42</td>\n",
       "      <td>11</td>\n",
       "      <td>24</td>\n",
       "      <td>...</td>\n",
       "      <td>10</td>\n",
       "      <td>0</td>\n",
       "      <td>1</td>\n",
       "      <td>3</td>\n",
       "      <td>1</td>\n",
       "      <td>42</td>\n",
       "      <td>-16</td>\n",
       "      <td>1</td>\n",
       "      <td>2020-21</td>\n",
       "      <td>Playoffs</td>\n",
       "    </tr>\n",
       "  </tbody>\n",
       "</table>\n",
       "<p>5 rows × 30 columns</p>\n",
       "</div>"
      ],
      "text/plain": [
       "   season_id  player_id     player_name   game_id   game_date      matchup wl  \\\n",
       "0      42020     203081  Damian Lillard  42000166  2021-06-03  POR vs. DEN  L   \n",
       "1      42020     203081  Damian Lillard  42000165  2021-06-01    POR @ DEN  L   \n",
       "2      42020     203081  Damian Lillard  42000164  2021-05-29  POR vs. DEN  W   \n",
       "3      42020     203081  Damian Lillard  42000163  2021-05-27  POR vs. DEN  L   \n",
       "4      42020     203081  Damian Lillard  42000162  2021-05-24    POR @ DEN  L   \n",
       "\n",
       "   min  fgm  fga  ...  ast  stl  blk  tov  pf  pts  plus_minus  \\\n",
       "0   43    8   20  ...   13    2    0    5   1   28         -11   \n",
       "1   52   17   24  ...   10    1    3    1   0   55           2   \n",
       "2   31    1   10  ...   10    1    0    1   2   10          33   \n",
       "3   40   15   31  ...    5    2    0    1   3   37          -6   \n",
       "4   42   11   24  ...   10    0    1    3   1   42         -16   \n",
       "\n",
       "   video_available   season  season_type  \n",
       "0                1  2020-21     Playoffs  \n",
       "1                1  2020-21     Playoffs  \n",
       "2                1  2020-21     Playoffs  \n",
       "3                1  2020-21     Playoffs  \n",
       "4                1  2020-21     Playoffs  \n",
       "\n",
       "[5 rows x 30 columns]"
      ]
     },
     "execution_count": 7,
     "metadata": {},
     "output_type": "execute_result"
    }
   ],
   "source": [
    "# Definindo variáveis de diretório\n",
    "DATA_PATH = r'C:\\Users\\thipa\\workspaces\\nbaflow\\data'\n",
    "FILENAME = 'one_player_gamelog.csv'\n",
    "\n",
    "# Lendo arquivo\n",
    "player_gamelog = pd.read_csv(os.path.join(DATA_PATH, FILENAME))\n",
    "print(f'Dimensões da base de dados lida: {player_gamelog.shape}')\n",
    "player_gamelog.head()"
   ]
  },
  {
   "cell_type": "code",
   "execution_count": 8,
   "id": "5c8627dc",
   "metadata": {
    "ExecuteTime": {
     "end_time": "2021-08-16T20:35:08.750288Z",
     "start_time": "2021-08-16T20:35:08.708262Z"
    }
   },
   "outputs": [
    {
     "name": "stdout",
     "output_type": "stream",
     "text": [
      "Query string de criação de tabela:\n",
      "\n",
      "CREATE TABLE IF NOT EXISTS players_gamelog_python (season_id INT, player_id INT, player_name VARCHAR(255), game_id INT, game_date VARCHAR(255), matchup VARCHAR(255), wl VARCHAR(255), min INT, fgm INT, fga INT, fg_pct NUMERIC, fg3m INT, fg3a INT, fg3_pct NUMERIC, ftm INT, fta INT, ft_pct NUMERIC, oreb INT, dreb INT, reb INT, ast INT, stl INT, blk INT, tov INT, pf INT, pts INT, plus_minus INT, video_available INT, season VARCHAR(255), season_type VARCHAR(255))\n",
      "\n",
      "A tabela foi criada? Sim\n"
     ]
    }
   ],
   "source": [
    "# Criando tabela\n",
    "gamelog_table = 'players_gamelog_python'\n",
    "ct_str = create_table_from_df(df=player_gamelog, table_name=gamelog_table,\n",
    "                              run=True, db_connection=conn)\n",
    "\n",
    "# Verificando se a tabela existe\n",
    "print(f'Query string de criação de tabela:\\n\\n{ct_str}')\n",
    "with conn.cursor() as cur:\n",
    "    cur.execute(\"SELECT table_name FROM information_schema.tables WHERE table_schema='public'\")\n",
    "    print(f'\\nA tabela foi criada? {\"Sim\" if gamelog_table in pd.DataFrame(cur.fetchall()).values else \"Não\"}')"
   ]
  },
  {
   "cell_type": "code",
   "execution_count": 9,
   "id": "b47a7dc8",
   "metadata": {
    "ExecuteTime": {
     "end_time": "2021-08-16T20:35:08.827774Z",
     "start_time": "2021-08-16T20:35:08.752278Z"
    }
   },
   "outputs": [
    {
     "name": "stdout",
     "output_type": "stream",
     "text": [
      "Quantidade de linhas do DataFrame original: 73\n"
     ]
    },
    {
     "data": {
      "text/html": [
       "<div>\n",
       "<style scoped>\n",
       "    .dataframe tbody tr th:only-of-type {\n",
       "        vertical-align: middle;\n",
       "    }\n",
       "\n",
       "    .dataframe tbody tr th {\n",
       "        vertical-align: top;\n",
       "    }\n",
       "\n",
       "    .dataframe thead th {\n",
       "        text-align: right;\n",
       "    }\n",
       "</style>\n",
       "<table border=\"1\" class=\"dataframe\">\n",
       "  <thead>\n",
       "    <tr style=\"text-align: right;\">\n",
       "      <th></th>\n",
       "      <th>0</th>\n",
       "      <th>1</th>\n",
       "    </tr>\n",
       "  </thead>\n",
       "  <tbody>\n",
       "    <tr>\n",
       "      <th>0</th>\n",
       "      <td>Damian Lillard</td>\n",
       "      <td>73</td>\n",
       "    </tr>\n",
       "  </tbody>\n",
       "</table>\n",
       "</div>"
      ],
      "text/plain": [
       "                0   1\n",
       "0  Damian Lillard  73"
      ]
     },
     "execution_count": 9,
     "metadata": {},
     "output_type": "execute_result"
    }
   ],
   "source": [
    "# Inserindo dados na tabela\n",
    "insert_string = insert_into_from_df(df=player_gamelog, table_name=gamelog_table,\n",
    "                                    run=True, db_connection=conn)\n",
    "\n",
    "# Verificando sucesso a partir da seleção de dados\n",
    "with conn.cursor() as cur:\n",
    "    cur.execute(f'SELECT player_name, count(1) AS qtd_linhas FROM {gamelog_table} GROUP BY player_name')\n",
    "    gamelog_rows = pd.DataFrame(cur.fetchall())\n",
    "    \n",
    "print(f'Quantidade de linhas do DataFrame original: {len(player_gamelog)}')\n",
    "gamelog_rows"
   ]
  },
  {
   "cell_type": "markdown",
   "id": "ac992f46",
   "metadata": {},
   "source": [
    "Nesta seção, foi possível navegar de forma exploratória nos principais elementos de código para um manuseio dos dados em meio a um banco de dados relacional disponível localmente. Neste processo, foram desenvolvidas funções relevantes para a criação de tabelas e inserção de dados, além de garantir uma proximidade maior em scripts de consulta e transformação de dados utilizando strings SQL em conjunto com a linguagem Python.\n",
    "\n",
    "Para finalizar esta etapa, será proposta uma ingestão completa de uma base de dados extraída a partir dos propósitos de histórico de partidas de todos os jogadores ativos da NBA. "
   ]
  },
  {
   "cell_type": "code",
   "execution_count": 11,
   "id": "1aa972e2",
   "metadata": {
    "ExecuteTime": {
     "end_time": "2021-08-16T20:45:25.922225Z",
     "start_time": "2021-08-16T20:45:25.897290Z"
    }
   },
   "outputs": [],
   "source": [
    "# Opcionalmente dropando as tabelas criadas\n",
    "with conn.cursor() as cur:\n",
    "    cur.execute(f'DROP TABLE IF EXISTS {players_table}')\n",
    "    cur.execute(f'DROP TABLE IF EXISTS {gamelog_table}')\n",
    "    conn.commit()"
   ]
  },
  {
   "cell_type": "code",
   "execution_count": 12,
   "id": "80536e3f",
   "metadata": {
    "ExecuteTime": {
     "end_time": "2021-08-16T20:46:26.700782Z",
     "start_time": "2021-08-16T20:46:26.096632Z"
    }
   },
   "outputs": [
    {
     "name": "stdout",
     "output_type": "stream",
     "text": [
      "Dimensões da base completa: (133889, 32)\n"
     ]
    },
    {
     "data": {
      "text/html": [
       "<div>\n",
       "<style scoped>\n",
       "    .dataframe tbody tr th:only-of-type {\n",
       "        vertical-align: middle;\n",
       "    }\n",
       "\n",
       "    .dataframe tbody tr th {\n",
       "        vertical-align: top;\n",
       "    }\n",
       "\n",
       "    .dataframe thead th {\n",
       "        text-align: right;\n",
       "    }\n",
       "</style>\n",
       "<table border=\"1\" class=\"dataframe\">\n",
       "  <thead>\n",
       "    <tr style=\"text-align: right;\">\n",
       "      <th></th>\n",
       "      <th>player_id</th>\n",
       "      <th>player_name</th>\n",
       "      <th>player_team</th>\n",
       "      <th>player_team_abbrev</th>\n",
       "      <th>season_id</th>\n",
       "      <th>season</th>\n",
       "      <th>season_type</th>\n",
       "      <th>game_id</th>\n",
       "      <th>game_date</th>\n",
       "      <th>matchup</th>\n",
       "      <th>...</th>\n",
       "      <th>dreb</th>\n",
       "      <th>reb</th>\n",
       "      <th>ast</th>\n",
       "      <th>stl</th>\n",
       "      <th>blk</th>\n",
       "      <th>tov</th>\n",
       "      <th>pf</th>\n",
       "      <th>pts</th>\n",
       "      <th>plus_minus</th>\n",
       "      <th>video_available</th>\n",
       "    </tr>\n",
       "  </thead>\n",
       "  <tbody>\n",
       "    <tr>\n",
       "      <th>0</th>\n",
       "      <td>1629076</td>\n",
       "      <td>Tyler Cook</td>\n",
       "      <td>Detroit Pistons</td>\n",
       "      <td>DET</td>\n",
       "      <td>42019</td>\n",
       "      <td>2019-20</td>\n",
       "      <td>Playoffs</td>\n",
       "      <td>41900162</td>\n",
       "      <td>2020-08-19</td>\n",
       "      <td>DEN vs. UTA</td>\n",
       "      <td>...</td>\n",
       "      <td>2</td>\n",
       "      <td>2.0</td>\n",
       "      <td>0</td>\n",
       "      <td>0</td>\n",
       "      <td>0</td>\n",
       "      <td>0</td>\n",
       "      <td>0</td>\n",
       "      <td>0.0</td>\n",
       "      <td>7.0</td>\n",
       "      <td>1</td>\n",
       "    </tr>\n",
       "    <tr>\n",
       "      <th>1</th>\n",
       "      <td>1629076</td>\n",
       "      <td>Tyler Cook</td>\n",
       "      <td>Detroit Pistons</td>\n",
       "      <td>DET</td>\n",
       "      <td>22019</td>\n",
       "      <td>2019-20</td>\n",
       "      <td>Regular Season</td>\n",
       "      <td>21901318</td>\n",
       "      <td>2020-08-14</td>\n",
       "      <td>DEN @ TOR</td>\n",
       "      <td>...</td>\n",
       "      <td>2</td>\n",
       "      <td>4.0</td>\n",
       "      <td>0</td>\n",
       "      <td>2</td>\n",
       "      <td>0</td>\n",
       "      <td>2</td>\n",
       "      <td>1</td>\n",
       "      <td>4.0</td>\n",
       "      <td>-3.0</td>\n",
       "      <td>1</td>\n",
       "    </tr>\n",
       "    <tr>\n",
       "      <th>2</th>\n",
       "      <td>1629076</td>\n",
       "      <td>Tyler Cook</td>\n",
       "      <td>Detroit Pistons</td>\n",
       "      <td>DET</td>\n",
       "      <td>22019</td>\n",
       "      <td>2019-20</td>\n",
       "      <td>Regular Season</td>\n",
       "      <td>21901272</td>\n",
       "      <td>2020-08-06</td>\n",
       "      <td>DEN vs. POR</td>\n",
       "      <td>...</td>\n",
       "      <td>0</td>\n",
       "      <td>0.0</td>\n",
       "      <td>0</td>\n",
       "      <td>0</td>\n",
       "      <td>0</td>\n",
       "      <td>0</td>\n",
       "      <td>0</td>\n",
       "      <td>0.0</td>\n",
       "      <td>0.0</td>\n",
       "      <td>1</td>\n",
       "    </tr>\n",
       "    <tr>\n",
       "      <th>3</th>\n",
       "      <td>1629076</td>\n",
       "      <td>Tyler Cook</td>\n",
       "      <td>Detroit Pistons</td>\n",
       "      <td>DET</td>\n",
       "      <td>22019</td>\n",
       "      <td>2019-20</td>\n",
       "      <td>Regular Season</td>\n",
       "      <td>21900700</td>\n",
       "      <td>2020-01-28</td>\n",
       "      <td>CLE vs. NOP</td>\n",
       "      <td>...</td>\n",
       "      <td>2</td>\n",
       "      <td>2.0</td>\n",
       "      <td>0</td>\n",
       "      <td>0</td>\n",
       "      <td>0</td>\n",
       "      <td>0</td>\n",
       "      <td>0</td>\n",
       "      <td>2.0</td>\n",
       "      <td>1.0</td>\n",
       "      <td>1</td>\n",
       "    </tr>\n",
       "    <tr>\n",
       "      <th>4</th>\n",
       "      <td>1629076</td>\n",
       "      <td>Tyler Cook</td>\n",
       "      <td>Detroit Pistons</td>\n",
       "      <td>DET</td>\n",
       "      <td>22019</td>\n",
       "      <td>2019-20</td>\n",
       "      <td>Regular Season</td>\n",
       "      <td>21900693</td>\n",
       "      <td>2020-01-27</td>\n",
       "      <td>CLE @ DET</td>\n",
       "      <td>...</td>\n",
       "      <td>0</td>\n",
       "      <td>0.0</td>\n",
       "      <td>0</td>\n",
       "      <td>0</td>\n",
       "      <td>0</td>\n",
       "      <td>0</td>\n",
       "      <td>0</td>\n",
       "      <td>0.0</td>\n",
       "      <td>-6.0</td>\n",
       "      <td>1</td>\n",
       "    </tr>\n",
       "  </tbody>\n",
       "</table>\n",
       "<p>5 rows × 32 columns</p>\n",
       "</div>"
      ],
      "text/plain": [
       "   player_id player_name      player_team player_team_abbrev  season_id  \\\n",
       "0    1629076  Tyler Cook  Detroit Pistons                DET      42019   \n",
       "1    1629076  Tyler Cook  Detroit Pistons                DET      22019   \n",
       "2    1629076  Tyler Cook  Detroit Pistons                DET      22019   \n",
       "3    1629076  Tyler Cook  Detroit Pistons                DET      22019   \n",
       "4    1629076  Tyler Cook  Detroit Pistons                DET      22019   \n",
       "\n",
       "    season     season_type   game_id   game_date      matchup  ... dreb  reb  \\\n",
       "0  2019-20        Playoffs  41900162  2020-08-19  DEN vs. UTA  ...    2  2.0   \n",
       "1  2019-20  Regular Season  21901318  2020-08-14    DEN @ TOR  ...    2  4.0   \n",
       "2  2019-20  Regular Season  21901272  2020-08-06  DEN vs. POR  ...    0  0.0   \n",
       "3  2019-20  Regular Season  21900700  2020-01-28  CLE vs. NOP  ...    2  2.0   \n",
       "4  2019-20  Regular Season  21900693  2020-01-27    CLE @ DET  ...    0  0.0   \n",
       "\n",
       "   ast  stl  blk  tov  pf  pts  plus_minus  video_available  \n",
       "0    0    0    0    0   0  0.0         7.0                1  \n",
       "1    0    2    0    2   1  4.0        -3.0                1  \n",
       "2    0    0    0    0   0  0.0         0.0                1  \n",
       "3    0    0    0    0   0  2.0         1.0                1  \n",
       "4    0    0    0    0   0  0.0        -6.0                1  \n",
       "\n",
       "[5 rows x 32 columns]"
      ]
     },
     "execution_count": 12,
     "metadata": {},
     "output_type": "execute_result"
    }
   ],
   "source": [
    "# Lendo arquivo\n",
    "GAMELOG_FILENAME = 'all_players_gamelog.csv'\n",
    "complete_gamelog = pd.read_csv(os.path.join(DATA_PATH, GAMELOG_FILENAME))\n",
    "print(f'Dimensões da base completa: {complete_gamelog.shape}')\n",
    "complete_gamelog.head()"
   ]
  },
  {
   "cell_type": "code",
   "execution_count": null,
   "id": "8931193d",
   "metadata": {
    "ExecuteTime": {
     "start_time": "2021-08-16T20:49:12.784Z"
    }
   },
   "outputs": [],
   "source": [
    "# Criando tabela e realizando ingestão\n",
    "table_name = 'nba_players_gamelog'\n",
    "_ = create_table_from_df(df=complete_gamelog, table_name=table_name, run=True, db_connection=conn)\n",
    "_ = insert_into_from_df(df=complete_gamelog, table_name=table_name, run=True, db_connection=conn)\n",
    "\n",
    "# Realizando consulta para teste dos dados\n",
    "with conn.cursor() as cur:\n",
    "    cur.execute(f'SELECT player_name, count(1) AS qtd_linhas FROM {table_name} GROUP BY player_name ORDER BY qtd_linhas DESC')\n",
    "    gamelog_rows = pd.DataFrame(cur.fetchall())\n",
    "gamelog_rows    "
   ]
  },
  {
   "cell_type": "markdown",
   "id": "b347e520",
   "metadata": {},
   "source": [
    "Ao executar as funções de criação e ingestão de dados em uma tabela robusta com mais de 100 mil registros, foi possível notar uma demora expressiva no script, principalmente na parte de execução. De acordo com o modelo proposto, a construção da string depende de uma iteração individual, linha a linha, no conteúdo do objeto DataFrame o que, de fato, eleva o tempo de processamento total. Um outro fator a ser considerado é que a ingestão ocorre apenas após a criação de toda a string de ingestão (e não linha a linha, como uma possível alternativa mais veloz). Este ponto pôde ser notado ao realizar tentativas de consultas no pgAdmin4 durante a execução do código de ingestão, não obtendo nenhum retorno de dados."
   ]
  }
 ],
 "metadata": {
  "hide_input": false,
  "kernelspec": {
   "display_name": "Python 3 (ipykernel)",
   "language": "python",
   "name": "python3"
  },
  "language_info": {
   "codemirror_mode": {
    "name": "ipython",
    "version": 3
   },
   "file_extension": ".py",
   "mimetype": "text/x-python",
   "name": "python",
   "nbconvert_exporter": "python",
   "pygments_lexer": "ipython3",
   "version": "3.8.10"
  },
  "toc": {
   "base_numbering": 1,
   "nav_menu": {},
   "number_sections": true,
   "sideBar": true,
   "skip_h1_title": false,
   "title_cell": "Table of Contents",
   "title_sidebar": "Contents",
   "toc_cell": true,
   "toc_position": {
    "height": "calc(100% - 180px)",
    "left": "10px",
    "top": "150px",
    "width": "384px"
   },
   "toc_section_display": true,
   "toc_window_display": true
  },
  "varInspector": {
   "cols": {
    "lenName": 16,
    "lenType": 16,
    "lenVar": 40
   },
   "kernels_config": {
    "python": {
     "delete_cmd_postfix": "",
     "delete_cmd_prefix": "del ",
     "library": "var_list.py",
     "varRefreshCmd": "print(var_dic_list())"
    },
    "r": {
     "delete_cmd_postfix": ") ",
     "delete_cmd_prefix": "rm(",
     "library": "var_list.r",
     "varRefreshCmd": "cat(var_dic_list()) "
    }
   },
   "types_to_exclude": [
    "module",
    "function",
    "builtin_function_or_method",
    "instance",
    "_Feature"
   ],
   "window_display": false
  }
 },
 "nbformat": 4,
 "nbformat_minor": 5
}
