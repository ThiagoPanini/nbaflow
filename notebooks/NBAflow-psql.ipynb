{
 "cells": [
  {
   "cell_type": "markdown",
   "id": "182e1505",
   "metadata": {
    "toc": true
   },
   "source": [
    "<h1>Table of Contents<span class=\"tocSkip\"></span></h1>\n",
    "<div class=\"toc\"><ul class=\"toc-item\"><li><span><a href=\"#Preparação-do-Ambiente\" data-toc-modified-id=\"Preparação-do-Ambiente-1\"><span class=\"toc-item-num\">1&nbsp;&nbsp;</span>Preparação do Ambiente</a></span></li><li><span><a href=\"#Conexão-ao-Banco-de-Dados\" data-toc-modified-id=\"Conexão-ao-Banco-de-Dados-2\"><span class=\"toc-item-num\">2&nbsp;&nbsp;</span>Conexão ao Banco de Dados</a></span></li><li><span><a href=\"#Objetos-do-Banco-de-Dados\" data-toc-modified-id=\"Objetos-do-Banco-de-Dados-3\"><span class=\"toc-item-num\">3&nbsp;&nbsp;</span>Objetos do Banco de Dados</a></span><ul class=\"toc-item\"><li><span><a href=\"#Insumos\" data-toc-modified-id=\"Insumos-3.1\"><span class=\"toc-item-num\">3.1&nbsp;&nbsp;</span>Insumos</a></span></li></ul></li></ul></div>"
   ]
  },
  {
   "cell_type": "markdown",
   "id": "61f88e2b",
   "metadata": {},
   "source": [
    "Uma das mais poderosas funcionalidades proporcionadas pela linguagem Python é justamente a facilidade em se trabalhar com dados. Em situações genéricas, o pool de conexões a bancos de dados também abre um leque gigantesco de possibilidades, permitindo assim com que usuários gerenciem, consultem e automatizem tarefas envolvendo persistências de dados utilizando diferentes SGBDs.\n",
    "\n",
    "Neste cenário, considerando o desenvolvimento prévio composto pelo notebook de documentação da API `nba_api`, bem como a construção das classes responsáveis por consumir tal pacote python e retornar dados estatísticos da NBA dentro das propostas definidas, este notebook pretende alocar as etapas introdutórias para utilização de um banco de dados para armazenamento dos dados extraídos da API. Essa atuação, de alguma forma, será extremamente importante para propor um entendimento mais claro sobre como a solução como um todo pode ser integrada a outros sistemas e plataformas.\n",
    "\n",
    "Para isso, será utilizado o **PostgreSQL** como SGBD principal e a biblioteca [`psycopg2`](https://pypi.org/project/psycopg2/) que permite a conexão entre Python e o SGBD. O comando para instalação da biblioteca diretamente no jupyter notebook é:\n",
    "\n",
    "        !pip install psycopg2\n",
    "        \n",
    "<div align=\"center\">\n",
    "    <img src=\"https://cpl.thalesgroup.com/sites/default/files/content/paragraphs/intro/2020-03/postgresql-logo.png\" height=500 width=300 alt=\"postgresql logo\">\n",
    "</div>"
   ]
  },
  {
   "cell_type": "markdown",
   "id": "630a526b",
   "metadata": {
    "ExecuteTime": {
     "end_time": "2021-07-03T00:50:43.360025Z",
     "start_time": "2021-07-03T00:50:36.030898Z"
    }
   },
   "source": [
    "# Preparação do Ambiente"
   ]
  },
  {
   "cell_type": "markdown",
   "id": "7485a43b",
   "metadata": {},
   "source": [
    "Após a [instalação](https://www.youtube.com/watch?v=wuAdsns3qMA&list=PLucm8g_ezqNoAkYKXN_zWupyH6hQCAwxY&index=5) do [PostgreSQL](https://www.postgresql.org/download/) no sistema operacional utilizado e a configuração do ambiente a partir da [criação de novos usuários](https://www.youtube.com/watch?v=XqkGdFO-ENc&list=PLucm8g_ezqNoAkYKXN_zWupyH6hQCAwxY&index=8) e definição de [políticas de senha](https://www.youtube.com/watch?v=HbAJQ1WuGRE&list=PLucm8g_ezqNoAkYKXN_zWupyH6hQCAwxY&index=7), é preciso criar um banco de dados. Essa criação pode ser realizada a partir do utilitário `psql` diretamente no prompt de comando ou então utilizando a interface gráfica proposta pelo [`pgAdmin4`](https://www.pgadmin.org/download/).\n",
    "\n",
    "Para criação de um novo banco de dados no postgres, é preciso realizar o login utilizando um usuário com permissões de criação de bancos de dados e, no ambiente postgres, executar o comando `CREATE DATABASE <nome_database>;`. A imagem abaixo mostra os detalhes sobre esse procedimento a partir da criação do banco de dados _nbaflow_ utilizando o usuário _paninit_.\n",
    "\n",
    "<div align=\"center\">\n",
    "    <br><img src=\"https://i.imgur.com/bCdtHLu.png\" height=800 width=800 alt=\"postgresql logo\">\n",
    "</div>"
   ]
  },
  {
   "cell_type": "markdown",
   "id": "691470a6",
   "metadata": {},
   "source": [
    "# Conexão ao Banco de Dados"
   ]
  },
  {
   "cell_type": "markdown",
   "id": "d9bf9151",
   "metadata": {},
   "source": [
    "Uma vez criado o banco de dados, é possível realizar a conexão de um usuário a partir da função `connect()` do pacote `psycopg2`. A função `connect()` cria uma nova sessão do banco de dados e retorna uma instância da classe \"conexão\". Com esse novo objeto, é possível criar cursores para executar comandos SQL. Para executar a função `connect()` é preciso especificar, em um primeiro momento, parâmetros relacionados ao banco de dados do PostgreSQL como uma string de conexão."
   ]
  },
  {
   "cell_type": "code",
   "execution_count": 1,
   "id": "34637841",
   "metadata": {
    "ExecuteTime": {
     "end_time": "2021-07-03T17:03:47.679641Z",
     "start_time": "2021-07-03T17:03:47.644031Z"
    }
   },
   "outputs": [],
   "source": [
    "# Adicionando diretório do ambiente virtual como uma variável de ambiente para importação dos pacotes\n",
    "import sys\n",
    "sys.path.append('/home/paninit/python-venvs/nbaflow-venv/lib/python3.8/site-packages')\n",
    "\n",
    "# Biblioteca postgres\n",
    "import psycopg2\n",
    "\n",
    "# Importando bibliotecas\n",
    "import os\n",
    "from dotenv import load_dotenv, find_dotenv"
   ]
  },
  {
   "cell_type": "code",
   "execution_count": 2,
   "id": "801f3a4c",
   "metadata": {
    "ExecuteTime": {
     "end_time": "2021-07-03T17:03:47.706758Z",
     "start_time": "2021-07-03T17:03:47.681942Z"
    }
   },
   "outputs": [
    {
     "name": "stdout",
     "output_type": "stream",
     "text": [
      "Conexão realizada com sucesso no PostgreSQL versão:\n",
      "\n",
      "PostgreSQL 11.12 (Ubuntu 11.12-1.pgdg18.04+1) on x86_64-pc-linux-gnu, compiled by gcc (Ubuntu 7.5.0-3ubuntu1~18.04) 7.5.0, 64-bit\n"
     ]
    }
   ],
   "source": [
    "# Lendo variáveis de ambiente\n",
    "load_dotenv(find_dotenv())\n",
    "\n",
    "# Definindo variáveis de diretório\n",
    "HOST = '127.0.0.1'\n",
    "DB_USER = 'paninit'\n",
    "DB_NAME = 'nbaflow'\n",
    "\n",
    "# Criando objeto de conexão\n",
    "conn = psycopg2.connect(host=HOST,\n",
    "                        database=DB_NAME,\n",
    "                        user=DB_USER,\n",
    "                        password=os.getenv('DB_PASSWORD'))\n",
    "\n",
    "# Criando cursor e testando conexão\n",
    "cur = conn.cursor()\n",
    "print(f'Conexão realizada com sucesso no PostgreSQL versão:\\n')\n",
    "cur.execute('SELECT version()')\n",
    "print(cur.fetchone()[0])\n",
    "cur.close()"
   ]
  },
  {
   "cell_type": "markdown",
   "id": "bfa24c5b",
   "metadata": {},
   "source": [
    "No bloco acima, foi definido um exemplo de conexão com o banco de dados PostgreSQL utilizando credenciais passadas pelo próprio usuário. Como uma das informações requisitadas para a conexão é a senha do usuário, é preciso pensar em alternativas para mascarar essa informação e deixá-la inacessível para outras aplicações. Nesse primeiro momento, informações sensíveis (como a senha, por exemplo) podem ser armazenadas em um arquivo `.env` localizado no direorio do projeto, sendo sua leitura gerenciada pelas funções `find_dotenv()` e `load_dotenv()`. Dessa forma, é possível simular a inserção de variáveis como se fossem variáveis de ambiente do sistema operacional, permitindo assim sua posterior coleta utilizando a função `os.getenv()`.\n",
    "\n",
    "Eventualmente, uma outra alternativa visa a criação de um [arquivo de conexão](https://www.postgresqltutorial.com/postgresql-python/connect/) para armazenar as informações sensíveis de conexão."
   ]
  },
  {
   "cell_type": "markdown",
   "id": "156d85f4",
   "metadata": {},
   "source": [
    "# Objetos do Banco de Dados"
   ]
  },
  {
   "cell_type": "markdown",
   "id": "b4792036",
   "metadata": {},
   "source": [
    "Após a apresentação do método `connect()` da biblioteca `psycopg2` para realizar a conexão a um banco de dados PostgreSQL, é possível encapsular códigos capazes de manusear os objetos dentro do banco de dados com base em elementos externos. Em outras palavras, é possível investigar a possibilidade de executar um comando `CREATE TABLE` a partir dos nomes e tipos primitivos de uma base de dados originalmente dada em um objeto DataFrame do pandas.\n",
    "\n",
    "Nesta sessão, investigações serão realizadas nessa linha tendo, como premissa, a base de dados de partidas (gamelog) extraída no notebook de apresentação da API `nba_api`."
   ]
  },
  {
   "cell_type": "markdown",
   "id": "aff06731",
   "metadata": {},
   "source": [
    "## Insumos"
   ]
  },
  {
   "cell_type": "code",
   "execution_count": 3,
   "id": "5afaddac",
   "metadata": {
    "ExecuteTime": {
     "end_time": "2021-07-03T17:03:48.752979Z",
     "start_time": "2021-07-03T17:03:47.712936Z"
    }
   },
   "outputs": [
    {
     "name": "stdout",
     "output_type": "stream",
     "text": [
      "Dimensões da base de dados lida: (159414, 29)\n"
     ]
    },
    {
     "data": {
      "text/html": [
       "<div>\n",
       "<style scoped>\n",
       "    .dataframe tbody tr th:only-of-type {\n",
       "        vertical-align: middle;\n",
       "    }\n",
       "\n",
       "    .dataframe tbody tr th {\n",
       "        vertical-align: top;\n",
       "    }\n",
       "\n",
       "    .dataframe thead th {\n",
       "        text-align: right;\n",
       "    }\n",
       "</style>\n",
       "<table border=\"1\" class=\"dataframe\">\n",
       "  <thead>\n",
       "    <tr style=\"text-align: right;\">\n",
       "      <th></th>\n",
       "      <th>season_id</th>\n",
       "      <th>player_id</th>\n",
       "      <th>player_name</th>\n",
       "      <th>game_id</th>\n",
       "      <th>game_date</th>\n",
       "      <th>matchup</th>\n",
       "      <th>wl</th>\n",
       "      <th>min</th>\n",
       "      <th>fgm</th>\n",
       "      <th>fga</th>\n",
       "      <th>fg_pct</th>\n",
       "      <th>fg3m</th>\n",
       "      <th>fg3a</th>\n",
       "      <th>fg3_pct</th>\n",
       "      <th>ftm</th>\n",
       "      <th>fta</th>\n",
       "      <th>ft_pct</th>\n",
       "      <th>oreb</th>\n",
       "      <th>dreb</th>\n",
       "      <th>reb</th>\n",
       "      <th>ast</th>\n",
       "      <th>stl</th>\n",
       "      <th>blk</th>\n",
       "      <th>tov</th>\n",
       "      <th>pf</th>\n",
       "      <th>pts</th>\n",
       "      <th>plus_minus</th>\n",
       "      <th>video_available</th>\n",
       "      <th>season_type</th>\n",
       "    </tr>\n",
       "  </thead>\n",
       "  <tbody>\n",
       "    <tr>\n",
       "      <th>0</th>\n",
       "      <td>42019</td>\n",
       "      <td>203500</td>\n",
       "      <td>Steven Adams</td>\n",
       "      <td>41900177</td>\n",
       "      <td>2020-09-02</td>\n",
       "      <td>OKC @ HOU</td>\n",
       "      <td>L</td>\n",
       "      <td>34</td>\n",
       "      <td>4</td>\n",
       "      <td>6</td>\n",
       "      <td>0.667</td>\n",
       "      <td>0</td>\n",
       "      <td>0</td>\n",
       "      <td>0.0</td>\n",
       "      <td>2</td>\n",
       "      <td>3</td>\n",
       "      <td>0.667</td>\n",
       "      <td>4</td>\n",
       "      <td>5</td>\n",
       "      <td>9.0</td>\n",
       "      <td>0</td>\n",
       "      <td>2</td>\n",
       "      <td>1</td>\n",
       "      <td>1</td>\n",
       "      <td>0</td>\n",
       "      <td>10</td>\n",
       "      <td>0</td>\n",
       "      <td>1</td>\n",
       "      <td>Playoffs</td>\n",
       "    </tr>\n",
       "    <tr>\n",
       "      <th>1</th>\n",
       "      <td>42019</td>\n",
       "      <td>203500</td>\n",
       "      <td>Steven Adams</td>\n",
       "      <td>41900176</td>\n",
       "      <td>2020-08-31</td>\n",
       "      <td>OKC vs. HOU</td>\n",
       "      <td>W</td>\n",
       "      <td>31</td>\n",
       "      <td>3</td>\n",
       "      <td>9</td>\n",
       "      <td>0.333</td>\n",
       "      <td>0</td>\n",
       "      <td>0</td>\n",
       "      <td>0.0</td>\n",
       "      <td>0</td>\n",
       "      <td>0</td>\n",
       "      <td>0.000</td>\n",
       "      <td>9</td>\n",
       "      <td>5</td>\n",
       "      <td>14.0</td>\n",
       "      <td>1</td>\n",
       "      <td>1</td>\n",
       "      <td>0</td>\n",
       "      <td>4</td>\n",
       "      <td>1</td>\n",
       "      <td>6</td>\n",
       "      <td>-4</td>\n",
       "      <td>1</td>\n",
       "      <td>Playoffs</td>\n",
       "    </tr>\n",
       "    <tr>\n",
       "      <th>2</th>\n",
       "      <td>42019</td>\n",
       "      <td>203500</td>\n",
       "      <td>Steven Adams</td>\n",
       "      <td>41900175</td>\n",
       "      <td>2020-08-29</td>\n",
       "      <td>OKC @ HOU</td>\n",
       "      <td>L</td>\n",
       "      <td>25</td>\n",
       "      <td>6</td>\n",
       "      <td>8</td>\n",
       "      <td>0.750</td>\n",
       "      <td>0</td>\n",
       "      <td>0</td>\n",
       "      <td>0.0</td>\n",
       "      <td>0</td>\n",
       "      <td>2</td>\n",
       "      <td>0.000</td>\n",
       "      <td>8</td>\n",
       "      <td>6</td>\n",
       "      <td>14.0</td>\n",
       "      <td>0</td>\n",
       "      <td>0</td>\n",
       "      <td>0</td>\n",
       "      <td>0</td>\n",
       "      <td>1</td>\n",
       "      <td>12</td>\n",
       "      <td>-15</td>\n",
       "      <td>1</td>\n",
       "      <td>Playoffs</td>\n",
       "    </tr>\n",
       "    <tr>\n",
       "      <th>3</th>\n",
       "      <td>42019</td>\n",
       "      <td>203500</td>\n",
       "      <td>Steven Adams</td>\n",
       "      <td>41900174</td>\n",
       "      <td>2020-08-24</td>\n",
       "      <td>OKC vs. HOU</td>\n",
       "      <td>W</td>\n",
       "      <td>26</td>\n",
       "      <td>4</td>\n",
       "      <td>5</td>\n",
       "      <td>0.800</td>\n",
       "      <td>0</td>\n",
       "      <td>0</td>\n",
       "      <td>0.0</td>\n",
       "      <td>4</td>\n",
       "      <td>6</td>\n",
       "      <td>0.667</td>\n",
       "      <td>4</td>\n",
       "      <td>4</td>\n",
       "      <td>8.0</td>\n",
       "      <td>1</td>\n",
       "      <td>0</td>\n",
       "      <td>0</td>\n",
       "      <td>3</td>\n",
       "      <td>1</td>\n",
       "      <td>12</td>\n",
       "      <td>-7</td>\n",
       "      <td>1</td>\n",
       "      <td>Playoffs</td>\n",
       "    </tr>\n",
       "    <tr>\n",
       "      <th>4</th>\n",
       "      <td>42019</td>\n",
       "      <td>203500</td>\n",
       "      <td>Steven Adams</td>\n",
       "      <td>41900173</td>\n",
       "      <td>2020-08-22</td>\n",
       "      <td>OKC vs. HOU</td>\n",
       "      <td>W</td>\n",
       "      <td>35</td>\n",
       "      <td>3</td>\n",
       "      <td>7</td>\n",
       "      <td>0.429</td>\n",
       "      <td>0</td>\n",
       "      <td>0</td>\n",
       "      <td>0.0</td>\n",
       "      <td>0</td>\n",
       "      <td>3</td>\n",
       "      <td>0.000</td>\n",
       "      <td>2</td>\n",
       "      <td>11</td>\n",
       "      <td>13.0</td>\n",
       "      <td>2</td>\n",
       "      <td>0</td>\n",
       "      <td>1</td>\n",
       "      <td>3</td>\n",
       "      <td>4</td>\n",
       "      <td>6</td>\n",
       "      <td>5</td>\n",
       "      <td>1</td>\n",
       "      <td>Playoffs</td>\n",
       "    </tr>\n",
       "  </tbody>\n",
       "</table>\n",
       "</div>"
      ],
      "text/plain": [
       "   season_id  player_id   player_name   game_id   game_date      matchup wl  \\\n",
       "0      42019     203500  Steven Adams  41900177  2020-09-02    OKC @ HOU  L   \n",
       "1      42019     203500  Steven Adams  41900176  2020-08-31  OKC vs. HOU  W   \n",
       "2      42019     203500  Steven Adams  41900175  2020-08-29    OKC @ HOU  L   \n",
       "3      42019     203500  Steven Adams  41900174  2020-08-24  OKC vs. HOU  W   \n",
       "4      42019     203500  Steven Adams  41900173  2020-08-22  OKC vs. HOU  W   \n",
       "\n",
       "   min  fgm  fga  fg_pct  fg3m  fg3a  fg3_pct  ftm  fta  ft_pct  oreb  dreb  \\\n",
       "0   34    4    6   0.667     0     0      0.0    2    3   0.667     4     5   \n",
       "1   31    3    9   0.333     0     0      0.0    0    0   0.000     9     5   \n",
       "2   25    6    8   0.750     0     0      0.0    0    2   0.000     8     6   \n",
       "3   26    4    5   0.800     0     0      0.0    4    6   0.667     4     4   \n",
       "4   35    3    7   0.429     0     0      0.0    0    3   0.000     2    11   \n",
       "\n",
       "    reb  ast  stl  blk  tov  pf  pts  plus_minus  video_available season_type  \n",
       "0   9.0    0    2    1    1   0   10           0                1    Playoffs  \n",
       "1  14.0    1    1    0    4   1    6          -4                1    Playoffs  \n",
       "2  14.0    0    0    0    0   1   12         -15                1    Playoffs  \n",
       "3   8.0    1    0    0    3   1   12          -7                1    Playoffs  \n",
       "4  13.0    2    0    1    3   4    6           5                1    Playoffs  "
      ]
     },
     "execution_count": 3,
     "metadata": {},
     "output_type": "execute_result"
    }
   ],
   "source": [
    "# Importando pandas e lendo base de dados\n",
    "import pandas as pd\n",
    "pd.set_option('display.max_columns', 500)\n",
    "\n",
    "gamelog = pd.read_csv('../data/players_gamelog.csv')\n",
    "print(f'Dimensões da base de dados lida: {gamelog.shape}')\n",
    "gamelog.head()"
   ]
  },
  {
   "cell_type": "markdown",
   "id": "3a6739f1",
   "metadata": {},
   "source": [
    "Acima, é apresentada a base de dados de partidas de cada um dos jogadores da NBA em todas as temporadas de atuação dos mesmos. Para maiores detalhes sobre como esse dado foi extraído, é possível checar o material disponível no [link](https://github.com/ThiagoPanini/nbaflow/blob/main/notebooks/NBAflow-doc-api.ipynb).\n",
    "\n",
    "Bom, após a leitura e visualização da base, é possível executar o atributo `dtypes` do pandas para visualizar os nomes das colunas e seus respectivos tipos primitivos."
   ]
  },
  {
   "cell_type": "code",
   "execution_count": 4,
   "id": "40ed61f9",
   "metadata": {
    "ExecuteTime": {
     "end_time": "2021-07-03T17:03:48.761263Z",
     "start_time": "2021-07-03T17:03:48.754794Z"
    }
   },
   "outputs": [
    {
     "data": {
      "text/plain": [
       "season_id            int64\n",
       "player_id            int64\n",
       "player_name         object\n",
       "game_id              int64\n",
       "game_date           object\n",
       "matchup             object\n",
       "wl                  object\n",
       "min                  int64\n",
       "fgm                  int64\n",
       "fga                  int64\n",
       "fg_pct             float64\n",
       "fg3m                 int64\n",
       "fg3a                 int64\n",
       "fg3_pct            float64\n",
       "ftm                  int64\n",
       "fta                  int64\n",
       "ft_pct             float64\n",
       "oreb                 int64\n",
       "dreb                 int64\n",
       "reb                float64\n",
       "ast                  int64\n",
       "stl                  int64\n",
       "blk                  int64\n",
       "tov                  int64\n",
       "pf                   int64\n",
       "pts                  int64\n",
       "plus_minus           int64\n",
       "video_available      int64\n",
       "season_type         object\n",
       "dtype: object"
      ]
     },
     "execution_count": 4,
     "metadata": {},
     "output_type": "execute_result"
    }
   ],
   "source": [
    "# Tipagem da base\n",
    "gamelog.dtypes"
   ]
  },
  {
   "cell_type": "markdown",
   "id": "a33675b1",
   "metadata": {},
   "source": [
    "A partir desse momento, considerando os conhecimentos básicos e os blocos fundamentais da linguagem SQL, seria possível utilizar as informações das colunas e dos tipos primitivos fornecidos pelo atributo `dtype` para definir, individualmente, o schema a ser considerado no comando `CREATE TABLE` (e posteriormente no comando `INSERT INTO` para inserção dos dados na tabela). Neste cenário, o usuário teria total liberdade para definir o schema por conta própria, gerenciando contraints e demais fatores customizados que poderiam fazer parte da tabela.\n",
    "\n",
    "Entretanto, fatalmente usuários desenvolveram técnicas mais fáceis de transcrever DataFrames em tabelas SQL"
   ]
  },
  {
   "cell_type": "markdown",
   "id": "2505b6d7",
   "metadata": {},
   "source": [
    "_PRÓXIMOS PASSOS_\n",
    "\n",
    "    - Criação de tabela com o layout da base de gamelog extraída\n",
    "    - Tentativa de criação dinâmica de tabela utilizando o schema extraído do próprio DataFrame\n",
    "        * Encapsulamento de script\n",
    "        * Alteração de parâmetros (nome de colunas e tipos primitivos)\n",
    "        * Execução do script de criação, se aplicável\n",
    "    - Proposta de ingestão de dados a partir de um DataFrame (INSERT INTO)"
   ]
  },
  {
   "cell_type": "code",
   "execution_count": null,
   "id": "c4d12cc7",
   "metadata": {},
   "outputs": [],
   "source": []
  }
 ],
 "metadata": {
  "kernelspec": {
   "display_name": "Python 3",
   "language": "python",
   "name": "python3"
  },
  "language_info": {
   "codemirror_mode": {
    "name": "ipython",
    "version": 3
   },
   "file_extension": ".py",
   "mimetype": "text/x-python",
   "name": "python",
   "nbconvert_exporter": "python",
   "pygments_lexer": "ipython3",
   "version": "3.8.0"
  },
  "toc": {
   "base_numbering": 1,
   "nav_menu": {},
   "number_sections": true,
   "sideBar": true,
   "skip_h1_title": false,
   "title_cell": "Table of Contents",
   "title_sidebar": "Contents",
   "toc_cell": true,
   "toc_position": {},
   "toc_section_display": true,
   "toc_window_display": false
  }
 },
 "nbformat": 4,
 "nbformat_minor": 5
}
