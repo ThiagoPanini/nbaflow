{
 "cells": [
  {
   "cell_type": "markdown",
   "id": "be539a48",
   "metadata": {
    "toc": true
   },
   "source": [
    "<h1>Table of Contents<span class=\"tocSkip\"></span></h1>\n",
    "<div class=\"toc\"><ul class=\"toc-item\"><li><span><a href=\"#Introdução-e-Cenário\" data-toc-modified-id=\"Introdução-e-Cenário-1\"><span class=\"toc-item-num\">1&nbsp;&nbsp;</span>Introdução e Cenário</a></span><ul class=\"toc-item\"><li><span><a href=\"#Objetos-e-Elementos-do-Projeto\" data-toc-modified-id=\"Objetos-e-Elementos-do-Projeto-1.1\"><span class=\"toc-item-num\">1.1&nbsp;&nbsp;</span>Objetos e Elementos do Projeto</a></span></li></ul></li><li><span><a href=\"#Operações-com-Buckets-no-S3\" data-toc-modified-id=\"Operações-com-Buckets-no-S3-2\"><span class=\"toc-item-num\">2&nbsp;&nbsp;</span>Operações com Buckets no S3</a></span><ul class=\"toc-item\"><li><span><a href=\"#Via-Console\" data-toc-modified-id=\"Via-Console-2.1\"><span class=\"toc-item-num\">2.1&nbsp;&nbsp;</span>Via Console</a></span></li><li><span><a href=\"#Via-boto3\" data-toc-modified-id=\"Via-boto3-2.2\"><span class=\"toc-item-num\">2.2&nbsp;&nbsp;</span>Via boto3</a></span></li></ul></li><li><span><a href=\"#NBAFlow-+-boto3\" data-toc-modified-id=\"NBAFlow-+-boto3-3\"><span class=\"toc-item-num\">3&nbsp;&nbsp;</span>NBAFlow + boto3</a></span></li></ul></div>"
   ]
  },
  {
   "cell_type": "markdown",
   "id": "e2da04cc",
   "metadata": {},
   "source": [
    "# Introdução e Cenário"
   ]
  },
  {
   "cell_type": "markdown",
   "id": "e5324b5d",
   "metadata": {},
   "source": [
    "Este notebook tem por objetivo documentar e detalhar os passos realizados para a utilização do serviço **S3** (do inglês, _Simple Storage Service_) da AWS para o armazenamento de objetos gerados pelas funcionalidades do projeto [nbaflow](https://github.com/ThiagoPanini/nbaflow). Dentro da proposta de migração do projeto para uma arquitetura em nuvem, no notebook [NBAFlow-aws-migration](https://github.com/ThiagoPanini/nbaflow/blob/main/notebooks/NBAFlow-aws-migration.ipynb) foi proposta uma documentação completa sobre todas as etapas realizadas dentro do processo de utilização de um serviço de banco de dados relacional (RDS) conectado a um serviço computacional (EC2) para consultar dados de jogadores da NBA e, eventualmente, entregá-los por e-mail ao usuário.\n",
    "\n",
    "Como resultado dessa frente de migração, foi possível alcançar a seguinte arquitetura já testada e validada dentro dos propósitos iniciais estabelecidos:\n",
    "\n",
    "<div align=\"center\">\n",
    "    <br><img src=\"https://i.imgur.com/8uRYLEH.png\" alt=\"aws_diagram\">\n",
    "</div>\n",
    "\n",
    "Na prática, a instância EC2 possui scripts python clonados do repositório oficial do projeto no GitHub via SSH e, a partir deles, o desenvolvedor pode manualmente solicitar a execução para dois propósitos específicos:\n",
    "\n",
    "* _**insert_gamelog_data.py**_: lê um arquivo csv processado previamente e disponibilizado no diretório `data/` para realizar um processo de criação de tabela e ingestão de dados em um banco de dados RDS PostgreSQL.\n",
    "* _**player_gamelog_from_db.py**_: recebe parâmetros do usuário no prompt de comando (nome de um jogador e temporada válida da NBA) para construir uma query de consulta a ser executada no banco de dados. Os dados são retornados em um formato DataFrame e, opcionalmente, enviados por e-mail para um destinatário fornecido também manualmente.\n",
    "\n",
    "<div class=\"alert alert-block alert-info\">\n",
    "<b>Observação:</b> Até este ponto, ainda não foi possível construir uma lógica inteiramente voltada à APIs. Em outras palavras, todas as iterações usuário-código são feitas diretamente pelo prompt de comando e, futuramente, a ideia é que essa comunicação seja feita a partir de uma rota específica onde o usuário possa acessar e enviar suas solicitações de acordo com os filtros desejados. Além disso, ainda existem oportunidades de otimizar esse fluxo a partir da utilização de outros serviços da AWS capazes de servir como um alicerce computacional como, por exemplo, funções lambda.\n",
    "</div>\n",
    "\n",
    "___\n",
    "**_Para entender todo o contexto do projeto, é sugerido o consumo dos seguintes materiais:_**\n",
    "\n",
    "* [1. NBAFlow - documentação e exploração inicial da API nba_api](https://github.com/ThiagoPanini/nbaflow/blob/main/notebooks/NBAflow-doc-api.ipynb)\n",
    "\n",
    "* [2. NBAFlow - documentação de fluxo de extração de imagens de jogadores](https://github.com/ThiagoPanini/nbaflow/blob/main/notebooks/NBAflow-players-images.ipynb)\n",
    "\n",
    "* [3. NBAFlow - estruturação de armazenamento em banco de dados Postgres (OPCIONAL)](https://github.com/ThiagoPanini/nbaflow/blob/main/notebooks/NBAflow-psql.ipynb)\n",
    "\n",
    "* [4. NBAFlow - primeiros passos da migração para a AWS](https://github.com/ThiagoPanini/nbaflow/blob/main/notebooks/NBAFlow-aws-migration.ipynb)\n",
    "\n",
    "* [5. Classes estruturadas de processamento de dados](https://github.com/ThiagoPanini/nbaflow/tree/main/core)\n",
    "\n",
    "* [6. Scripts de processamento de dados utilizando as classes estruturadas](https://github.com/ThiagoPanini/nbaflow/tree/main/scripts)\n",
    "___"
   ]
  },
  {
   "cell_type": "markdown",
   "id": "063cbf03",
   "metadata": {},
   "source": [
    "## Objetos e Elementos do Projeto"
   ]
  },
  {
   "cell_type": "markdown",
   "id": "e1635b52",
   "metadata": {},
   "source": [
    "Assim, em paralelo aos desafios acima explicados e, dentro dos objetivos estabelecidos no início deste material, a grande exploração a ser realizada nas próxima seções gira em torno da utilização do serviço S3 para o armazenamento de alguns objetos presentes em momentos específicos do fluxo de trabalho do projeto NBAFlow. \n",
    "\n",
    "Neste cenário, os objetos citados referem-se a:\n",
    "\n",
    "* **_Arquivos de dados_**: ao longo do desenvolvimento do projeto, foram criados scripts de requisição e processamento de dados de jogadores da NBA para serem analisados posteriormente. Neste propósito, o módulo [`gamelog`](https://github.com/ThiagoPanini/nbaflow/blob/main/core/gamelog.py) foi concebido como uma forma de centralizar o consumo do pacote [nba_api](https://github.com/swar/nba_api) no univero de análise de partidas e estatísticas individuais de jogadores da liga em todas as temporadas disponíveis. Ao longo do processamento, notou-se uma carga excessiva de requisições realizadas, gerando assim um alto tempo de execução para o retorno dos dados de todas as partidas, de todos os jogadores, em todas as temporadas válidas. Assim, visando otimizar as etapas posteriores, todo o histórico processado foi armazenado no arquivo [all_players_gamelog.csv](https://github.com/ThiagoPanini/nbaflow/blob/main/data/all_players_gamelog.csv) contendo todos os insumos necessários para uma análise completa da liga. Exemplificando a utilidade deste arquivo, o script [`insert_gamelog_data`](https://github.com/ThiagoPanini/nbaflow/blob/main/scripts/db_integration/insert_gamelog_data.py) se utiliza deste arquivo csv para inserir registros em uma tabela em um banco de dados PostgreSQL (local ou na nuvem). Como um passo adicional, neste material será proposto o armazenamento deste arquivo em um bucket do S3 para consumo direto via script. Eventualmente, será possível adicionar lógicas no módulo `gamelog` para salvar os resultados das requisições à nba_api direto em buckets do S3 utilizando o SDK [`boto3`](https://boto3.amazonaws.com/v1/documentation/api/latest/guide/quickstart.html).\n",
    "\n",
    "\n",
    "* **_Imagens de jogadores_**: em uma outra frente extremamente relevante dentro do projeto NBAFlow, foi construída uma lógica capaz de extrair imagens de alta qualidade dos jogadores da NBA diretamente do [site oficial](https://www.nba.com/stats/). Neste cenário, o módulo [`images`](https://github.com/ThiagoPanini/nbaflow/blob/main/core/images.py) foi concebido como uma forma de centralizar os elementos necessários para a consolidação dessas requisições e o salvamento local dos arquivos png recebidos no sistema operacional. Como alternativas, será proposta a inclusão dessas imagens em um bucket do S3 para um armazenamento mais sustentável dentro das propostas gerais do projeto. Eventualmente, será possível aplicar algumas alterações no módulo `images` para que as imagens obtidas pelas requisições já sejam automaticamente salvas em buckets do S3. Para tal, mais uma vez, será preciso utilizar as funcionalidade so SDK `boto3`."
   ]
  },
  {
   "cell_type": "markdown",
   "id": "7f68ff30",
   "metadata": {},
   "source": [
    "# Operações com Buckets no S3"
   ]
  },
  {
   "cell_type": "markdown",
   "id": "ddca5ade",
   "metadata": {},
   "source": [
    "Iniciando as etapas práticas de construção dos elementos propostos, em um primeiro momento, serão detalhados os passos para a criação de um (ou mais de um) bucket S3 pela AWS utilizando o console de gerenciamento. Posteriormente, um primeiro contato com o SDK `boto3` será fornecido como uma forma eficiente de automatizar, organizar e gerenciar recursos da AWS utilizando a linguagem Python."
   ]
  },
  {
   "cell_type": "markdown",
   "id": "b8bad74a",
   "metadata": {},
   "source": [
    "## Via Console"
   ]
  },
  {
   "cell_type": "markdown",
   "id": "7dd6bdeb",
   "metadata": {},
   "source": [
    "Conforme mencionado acima, as primeiras iterações com o serviço S3 serão obtidas a partir do console de gerenciamento da AWS. Nesse formato, a [página do serviço](https://console.aws.amazon.com/s3/home?region=sa-east-1) foi utilizada para a criação de um novo bucket denominado `nbaflow-console`. Nele, dois novos [diretórios](https://docs.aws.amazon.com/AmazonS3/latest/userguide/using-folders.html) foram criados para armazenar _dados_ (arquivos em geral) e _imagens_.\n",
    "\n",
    "> 📌**Nota**: de acordo com a documentação oficial, no S3, buckets e objetos são os recursos principais, sendo os objetos armazenados em buckets. Mesmo sem o mesmo significado dos sistemas operacionais, é possível criar \"diretórios\" nos buckets para fins organizacionais, facilitando assim as referências e o armazenamento de objetos. O conceito fundamental de diretórios no S3 é o de simplesmente agrupar objetos a partir de um prefixo adicionado à rota do objeto.\n",
    "\n",
    "A imagem abaixo traz o bucket `nbaflow-console` criado com os diretórios `data/` e `imgs/` associados:\n",
    "\n",
    "<div align=\"center\">\n",
    "    <br><img src=\"https://i.imgur.com/geU2QZE.png\" alt=\"s3_bucket_nbaflow-console\">\n",
    "</div>\n",
    "\n",
    "Na sequência, também utilizando as funcionalidades do console, foram realizados os uploads do arquivo `all_players_gamelog.csv` e das imagens png originalmente armazenadas no diretório `data/images/players` do repositório do projeto. A imagem abaixo traz um exemplo do diretório `imgs/` do bucket recém criado já com as imagens de jogadores armazenadas.\n",
    "\n",
    "<div align=\"center\">\n",
    "    <br><img src=\"https://i.imgur.com/0s9jFyP.png\" alt=\"s3_imgs\">\n",
    "</div>\n",
    "\n",
    "Dessa forma, em um processo altamente intuitivo, foi possível finalizar essa primeira etapa de criação de bucket a partir do console de gerenciamento da AWS. Além disso, o upload dos arquivos selecionados foram realizados dentro dos diretórios criados no bucket. A criação do bucket e o upload dos arquivos foram realizados seguindos todas as configurações padrão propostas no processo o que, em resumo, podem ser descritadas como:\n",
    "\n",
    "* Bucket criado sem acesso público\n",
    "* Bucket criado sem versionamento\n",
    "* Bucket sem encriptação dos dados\n",
    "* Acesso de leitura e escrita aos objetos está restrito ao owner do bucket\n",
    "\n",
    "Na próxima seção, os processos de criação, configuração e upload de objetos no bucket serão realizados a partir do SDK Python `boto3`."
   ]
  },
  {
   "cell_type": "markdown",
   "id": "e13e8140",
   "metadata": {},
   "source": [
    "## Via boto3"
   ]
  },
  {
   "cell_type": "markdown",
   "id": "59ec90df",
   "metadata": {},
   "source": [
    "De acordo com a [página oficial de documentação](https://boto3.amazonaws.com/v1/documentation/api/latest/index.html), o SDK `boto3` pode ser resumido a:\n",
    "\n",
    "> _You use the AWS SDK for Python (Boto3) to create, configure, and manage AWS services, such as Amazon Elastic Compute Cloud (Amazon EC2) and Amazon Simple Storage Service (Amazon S3). The SDK provides an object-oriented API as well as low-level access to AWS services._\n",
    "\n",
    "Considerando a riqueza de detalhes e de exemplos fornecidos pela própria AWS, grande parte dos primeiros passos aqui documentados serão reproduções adaptadas da página oficial de documentação. Para tal, visando alinhar os propósitos deste notebook, é sugerido que o usuário consumidor do material aqui presente siga algumas instruções básicas de configuração propostas pela documentação do boto3 para que os códigos aqui escritos tenham a eficácia planejada.\n",
    "\n",
    "Assim, depois de um breve estudo no material oficial, a instalação do boto3 foi feita, dentro do ambiente virtual criado para o projeto NBAFLow, através do comando:\n",
    "\n",
    "    pip install boto3\n",
    "    \n",
    "Mesmo após a instalação, as primeiras tentativas de uso do SDK não foram bem sucedidas. Isto porque, de maneira direta, o boto3 necessita encontrar (ou ser devidamente configurado para isso) credenciais válidas do usuário para que as operações possam ser realizadas. Dessa forma, com a instalação do [AWS CLI](https://aws.amazon.com/pt/cli/) e a execução do comando `aws configure`, foi possível providenciar os insumos necessários para que o boto3 consiga autenticar o usuário dentro da utilização dos recursos na nuvem. Para detalhes adicionais, pode-se analisar a seção de [Configuração](https://boto3.amazonaws.com/v1/documentation/api/latest/guide/quickstart.html#configuration) da documentação oficial.\n",
    "\n",
    "Por fim, as linhas de código abaixo trazem a importação da biblioteca boto3 juntamente com a criação de um recurso \"s3\" utilizado para gerenciar e automatizar ações dentro deste serviço de armazenamento. Como validação, serão mostrados todos os buckets presentes na conta AWS configurada."
   ]
  },
  {
   "cell_type": "code",
   "execution_count": 1,
   "id": "ecea4a0f",
   "metadata": {
    "ExecuteTime": {
     "end_time": "2021-08-27T00:31:26.648644Z",
     "start_time": "2021-08-27T00:31:25.073896Z"
    }
   },
   "outputs": [
    {
     "name": "stdout",
     "output_type": "stream",
     "text": [
      "nbaflow-boto3\n",
      "nbaflow-console\n"
     ]
    }
   ],
   "source": [
    "# Importando biblioteca\n",
    "import boto3\n",
    "\n",
    "# Criando recurso e listando buckets\n",
    "s3 = boto3.resource('s3')\n",
    "for bucket in s3.buckets.all():\n",
    "    print(bucket.name)"
   ]
  },
  {
   "cell_type": "markdown",
   "id": "969d9cd6",
   "metadata": {},
   "source": [
    "De fato, com o código acima, foi possível verificar que existe apenas um bucket criado na conta configurada da AWS (o recém criado *nbaflow-console*). Ainda nessas primeiras interações com boto3 e buckets S3, o código abaixo é responsável por conectar a um bucket e ler um objeto diretamente na memória. Neste caso, será proposta a leitura de uma das imagens de jogadores da NBA utilizando uma `key` específica que contempla, como prefixo, o diretório criado manualmente no bucket para organização do armazenamento."
   ]
  },
  {
   "cell_type": "code",
   "execution_count": 2,
   "id": "9fae8b56",
   "metadata": {
    "ExecuteTime": {
     "end_time": "2021-08-27T00:31:28.521275Z",
     "start_time": "2021-08-27T00:31:28.243026Z"
    }
   },
   "outputs": [
    {
     "data": {
      "image/png": "[encoded data removed]",
      "text/plain": [
       "<PIL.PngImagePlugin.PngImageFile image mode=P size=260x190 at 0x2BA92875820>"
      ]
     },
     "execution_count": 2,
     "metadata": {},
     "output_type": "execute_result"
    }
   ],
   "source": [
    "from PIL import Image\n",
    "from io import BytesIO\n",
    "\n",
    "# Vinculando bucket alvo\n",
    "bucket = s3.Bucket('nbaflow-console')\n",
    "\n",
    "# Coletando objeto\n",
    "obj = bucket.Object(key='imgs/Damian Lillard.png')\n",
    "response = obj.get()\n",
    "file_stream = response['Body']\n",
    "Image.open(file_stream)"
   ]
  },
  {
   "cell_type": "markdown",
   "id": "b2b788d4",
   "metadata": {
    "ExecuteTime": {
     "end_time": "2021-08-26T18:58:34.227503Z",
     "start_time": "2021-08-26T18:58:34.207528Z"
    }
   },
   "source": [
    "**_Referência:_** https://stackoverflow.com/questions/44043036/how-to-read-image-file-from-s3-bucket-directly-into-memory\n",
    "\n",
    "Até este ponto, já é possível mensurar o poder fornecido pelo SDK boto3 dentro das possibilidades de gerenciamento de recursos na AWS. Com ele, foi possível ler diretamente na memória um objeto armazenado manualmente em um bucket s3 criado diretamente pelo console. Considerando esta atuação, o bloco de código abaixo irá propor a criação de um **novo bucket** S3 em uma região específica para que, futuramente, este código possa ser encapsulado juntamente com outras funcionalidades de leitura e escrita de objetos dentro de buckets, tudo via boto3."
   ]
  },
  {
   "cell_type": "code",
   "execution_count": 9,
   "id": "81d056d0",
   "metadata": {
    "ExecuteTime": {
     "end_time": "2021-08-27T00:38:48.600906Z",
     "start_time": "2021-08-27T00:38:47.182276Z"
    }
   },
   "outputs": [
    {
     "name": "stdout",
     "output_type": "stream",
     "text": [
      "nbaflow-boto3\n",
      "nbaflow-console\n"
     ]
    }
   ],
   "source": [
    "# Definindo parâmetros\n",
    "REGION = 'sa-east-1'\n",
    "BUCKET_NAME = 'nbaflow-boto3'\n",
    "LOCATION = {'LocationConstraint': REGION}\n",
    "\n",
    "# Instanciando client\n",
    "s3_client = boto3.client('s3', region_name=REGION)\n",
    "\n",
    "# Deletando bucket e criando um novo\n",
    "s3_client.delete_bucket(Bucket=BUCKET_NAME)\n",
    "s3_client.create_bucket(Bucket=BUCKET_NAME,\n",
    "                        CreateBucketConfiguration=LOCATION)\n",
    "\n",
    "# Listando buckets criados\n",
    "for bucket in s3.buckets.all():\n",
    "    print(bucket.name)"
   ]
  },
  {
   "cell_type": "markdown",
   "id": "34998331",
   "metadata": {
    "ExecuteTime": {
     "end_time": "2021-08-26T18:56:54.911104Z",
     "start_time": "2021-08-26T18:56:54.899168Z"
    }
   },
   "source": [
    "* **_Referência:_** https://boto3.amazonaws.com/v1/documentation/api/latest/guide/s3-example-creating-buckets.html\n",
    "\n",
    "Com o resultado acima, percebe-se agora a presença de dois buckets listados na conta AWS. Ao atualizar a página no console de gerenciamento, uma nova linha na lista de buckets que realmente a criação foi realizada com sucesso. Entretanto, observando os detalhes relacionados a acesso, mesmo que tenhamos restringido a criação do bucket a uma região em específico da maneira referenciada na documentação, os objetos do novo bucket `nbaflow-boto3` criado podem ser acessados publicamente o que, de fato, pode não ser o desejado pra grande parte das aplicações.\n",
    "\n",
    "<div align=\"center\">\n",
    "    <br><img src=\"https://i.imgur.com/jMzMEeZ.png\" alt=\"s3_public_bucket\">\n",
    "</div>\n",
    "\n",
    "Assim, para manter um bucket restrito através do boto3, é possível definir um dicionário de configurações com algumas chaves específicas e executar o método `put_public_access_block()` do objeto `s3_client`. Adicionalmente, na referência oficial da [documentação do client S3](https://boto3.amazonaws.com/v1/documentation/api/1.9.42/reference/services/s3.html#S3.Client.create_bucket), pode-se procurar pelo método `create_bucket()` e observar alguns detalhes adicionais sobre como o processo de criação pode ser melhor gerenciado."
   ]
  },
  {
   "cell_type": "code",
   "execution_count": 10,
   "id": "562a0491",
   "metadata": {
    "ExecuteTime": {
     "end_time": "2021-08-27T00:39:33.204283Z",
     "start_time": "2021-08-27T00:39:32.554131Z"
    }
   },
   "outputs": [
    {
     "data": {
      "text/plain": [
       "{'ResponseMetadata': {'RequestId': '5TBCE2KVNMCJXEK5',\n",
       "  'HostId': 'MUuWllf7mwxbQjhFT0wchO10hvnPbnxEQBgiAN9zifn5RoGSwehpoVuOWbXlKGVpkg1uh2NTHdg=',\n",
       "  'HTTPStatusCode': 200,\n",
       "  'HTTPHeaders': {'x-amz-id-2': 'MUuWllf7mwxbQjhFT0wchO10hvnPbnxEQBgiAN9zifn5RoGSwehpoVuOWbXlKGVpkg1uh2NTHdg=',\n",
       "   'x-amz-request-id': '5TBCE2KVNMCJXEK5',\n",
       "   'date': 'Fri, 27 Aug 2021 00:39:33 GMT',\n",
       "   'server': 'AmazonS3',\n",
       "   'content-length': '0'},\n",
       "  'RetryAttempts': 0}}"
      ]
     },
     "execution_count": 10,
     "metadata": {},
     "output_type": "execute_result"
    }
   ],
   "source": [
    "# Definindo configurações\n",
    "BLOCK_PUBLIC_CONFIG = {\n",
    "    'BlockPublicAcls': True,\n",
    "    'IgnorePublicAcls': True,\n",
    "    'BlockPublicPolicy': True,\n",
    "    'RestrictPublicBuckets': True\n",
    "}\n",
    "\n",
    "# Modificando acesso do bucket\n",
    "response_public = s3_client.put_public_access_block(Bucket=BUCKET_NAME,\n",
    "                                                    PublicAccessBlockConfiguration=BLOCK_PUBLIC_CONFIG)\n",
    "response_public"
   ]
  },
  {
   "cell_type": "markdown",
   "id": "67281144",
   "metadata": {},
   "source": [
    "Após a execução do bloco de código acima, foi possível verificar, no console, o efeito da alteração das permissões no bucket `nbaflow-boto3`.\n",
    "\n",
    "<div align=\"center\">\n",
    "    <br><img src=\"https://i.imgur.com/c4VYbgH.png\" alt=\"s3_notpublic_bucket\">\n",
    "</div>"
   ]
  },
  {
   "cell_type": "markdown",
   "id": "ff8d74a6",
   "metadata": {},
   "source": [
    "Assim como a criação e leitura de objetos em buckets, é possível realizar a ingestão de novos objetos a partir da definição de chaves específicas que, eventualmente, podem conter informações a respeito de _diretórios_ de armazenamento. Como informado anteriormente, os diretórios em buckets do S3 funcionam, em essência, como organizadores de objetos e, na prática, seu impacto se reflete como um prefixo das _chaves_ relacionadas aos objetos. Dessa forma, ao definir uma chave de objeto com uma referência semelhante a um caminho de diretório, o mesmo será automaticamente armazenado dentro desta estrutura.\n",
    "\n",
    "Para ilustrar este conceito, será proposta a leitura, em memória, de um arquivo csv salvo localmente para que, posteriormente, seja aplicado um processo de ingestão dos dados no bucket S3 recém criado."
   ]
  },
  {
   "cell_type": "code",
   "execution_count": 18,
   "id": "7024d2ea",
   "metadata": {
    "ExecuteTime": {
     "end_time": "2021-08-27T00:49:21.671220Z",
     "start_time": "2021-08-27T00:49:09.333792Z"
    }
   },
   "outputs": [
    {
     "data": {
      "text/plain": [
       "{'ResponseMetadata': {'RequestId': 'H6CJMF65EXRN74Q0',\n",
       "  'HostId': '/P9ibC9kzW49r604yGX5tAybaYaZiRP/3xCH9JLCagQzA0qcIhwANllR9VkBtlX5AglpROeSBXs=',\n",
       "  'HTTPStatusCode': 200,\n",
       "  'HTTPHeaders': {'x-amz-id-2': '/P9ibC9kzW49r604yGX5tAybaYaZiRP/3xCH9JLCagQzA0qcIhwANllR9VkBtlX5AglpROeSBXs=',\n",
       "   'x-amz-request-id': 'H6CJMF65EXRN74Q0',\n",
       "   'date': 'Fri, 27 Aug 2021 00:49:10 GMT',\n",
       "   'etag': '\"85d917258a0795b3f55c49fae0a13093\"',\n",
       "   'server': 'AmazonS3',\n",
       "   'content-length': '0'},\n",
       "  'RetryAttempts': 0},\n",
       " 'ETag': '\"85d917258a0795b3f55c49fae0a13093\"'}"
      ]
     },
     "execution_count": 18,
     "metadata": {},
     "output_type": "execute_result"
    }
   ],
   "source": [
    "# Definindo variáveis\n",
    "FILEPATH = r'C:\\Users\\thipa\\workspaces\\nbaflow\\data\\all_players_gamelog.csv'\n",
    "KEY = 'data/all_players_gamelog.csv'\n",
    "with open(FILEPATH, 'rb') as f:\n",
    "    file = f.read()\n",
    "    \n",
    "# Coletando recurso e realizando upload\n",
    "s3_client.put_object(Bucket=BUCKET_NAME, Body=file, Key=KEY)"
   ]
  },
  {
   "cell_type": "code",
   "execution_count": 20,
   "id": "f305831a",
   "metadata": {
    "ExecuteTime": {
     "end_time": "2021-08-27T00:53:21.711064Z",
     "start_time": "2021-08-27T00:53:10.066215Z"
    }
   },
   "outputs": [],
   "source": [
    "# Testando outra forma de uploag\n",
    "KEY2 = 'data/all_players_gamelog_2.csv'\n",
    "s3_client.upload_file(Filename=FILEPATH, Bucket=BUCKET_NAME, Key=KEY2)"
   ]
  },
  {
   "cell_type": "markdown",
   "id": "99267054",
   "metadata": {},
   "source": [
    "Nos exemplos acima, foram utilizadas dois métodos distintos para o upload de objetos em um bucket S3. No primeiro exemplo, o método `put_object()` recebe um arquivo em formato binário como argumento Body do método, permitindo assim com que arquivos já lidos em memória sejam transferidos pro bucket. No segundo caso, o método `put_object()` recebe, de forma direta, um caminho do arquivo salvo localmente na máquina para que a ingestão seja realizada sem a leitura explícita.\n",
    "\n",
    "**_Referências:_**\n",
    "* https://boto3.amazonaws.com/v1/documentation/api/latest/guide/s3-uploading-files.html\n",
    "* https://boto3.amazonaws.com/v1/documentation/api/1.9.42/reference/services/s3.html#S3.Client.upload_file\n",
    "* https://stackoverflow.com/questions/1939743/amazon-s3-boto-how-to-create-a-folder\n",
    "* https://intellipaat.com/community/41744/using-boto3-how-can-i-create-a-folder-inside-s3"
   ]
  },
  {
   "cell_type": "markdown",
   "id": "3d79c7c4",
   "metadata": {},
   "source": [
    "# NBAFlow + boto3"
   ]
  },
  {
   "cell_type": "markdown",
   "id": "c39c15ee",
   "metadata": {},
   "source": [
    "Após uma jornada inicial em algumas operações básicas com S3 utilizando o boto3, nesta seção será proposta a aplicação de alguns recursos já construídos para o projeto NBAFlow para que, de forma adaptada, o SDK boto3 possa ser utilizado como uma forma adicional de prover a escrita e leitura de objetos direto no S3. Para validar, de fato, este tipo de abordagem, será desenvolvido um bloco de código capaz de navegar por todas as imagens de jogadores salvas localmente em formato png e realizar ingestões individuais dos arquivos diretamente em um bucket s3."
   ]
  },
  {
   "cell_type": "code",
   "execution_count": 48,
   "id": "5c4610af",
   "metadata": {
    "ExecuteTime": {
     "end_time": "2021-08-27T01:51:17.625183Z",
     "start_time": "2021-08-27T01:51:17.609262Z"
    }
   },
   "outputs": [],
   "source": [
    "# Importando bibliotecas\n",
    "import boto3\n",
    "from botocore.exceptions import ClientError, EndpointConnectionError\n",
    "import os\n",
    "import logging"
   ]
  },
  {
   "cell_type": "code",
   "execution_count": 42,
   "id": "30e3db44",
   "metadata": {
    "ExecuteTime": {
     "end_time": "2021-08-27T01:50:16.451548Z",
     "start_time": "2021-08-27T01:50:16.439580Z"
    },
    "code_folding": [
     8
    ]
   },
   "outputs": [],
   "source": [
    "# Definindo função para gerenciamento de logs\n",
    "def log_config(logger, level=logging.DEBUG, \n",
    "               log_format='%(levelname)s;%(asctime)s;%(filename)s;%(module)s;%(lineno)d;%(message)s',\n",
    "               log_filepath=os.path.join(os.getcwd(), 'exec_log/execution_log.log'),\n",
    "               flag_file_handler=False, flag_stream_handler=True, filemode='a'):\n",
    "    \"\"\"\n",
    "    Função que recebe um objeto logging e aplica configurações básicas ao mesmo\n",
    "    \n",
    "    Parâmetros\n",
    "    ----------\n",
    "    :param logger: objeto logger criado no escopo do módulo [type: logging.getLogger()]\n",
    "    :param level: level do objeto logger criado [type: level, default=logging.DEBUG]\n",
    "    :param log_format: formato do log a ser armazenado [type: string]\n",
    "    :param log_filepath: caminho onde o arquivo .log será armazenado \n",
    "        [type: string, default='exec_log/execution_log.log']\n",
    "    :param flag_file_handler: define se será criado um arquivo de armazenamento de log\n",
    "        [type: bool, default=False]\n",
    "    :param flag_stream_handler: define se as mensagens de log serão mostradas na tela\n",
    "        [type: bool, default=True]\n",
    "    :param filemode: tipo de escrita no arquivo de log [type: string, default='a' (append)]\n",
    "    \n",
    "    Retorno\n",
    "    -------\n",
    "    :return logger: objeto logger pré-configurado\n",
    "    \"\"\"\n",
    "\n",
    "    # Setting level for the logger object\n",
    "    logger.setLevel(level)\n",
    "\n",
    "    # Creating a formatter\n",
    "    formatter = logging.Formatter(log_format, datefmt='%Y-%m-%d %H:%M:%S')\n",
    "\n",
    "    # Creating handlers\n",
    "    if flag_file_handler:\n",
    "        log_path = '/'.join(log_filepath.split('/')[:-1])\n",
    "        if not isdir(log_path):\n",
    "            makedirs(log_path)\n",
    "\n",
    "        # Adding file_handler\n",
    "        file_handler = logging.FileHandler(log_filepath, mode=filemode, encoding='utf-8')\n",
    "        file_handler.setFormatter(formatter)\n",
    "        logger.addHandler(file_handler)\n",
    "\n",
    "    if flag_stream_handler:\n",
    "        # Adding stream_handler\n",
    "        stream_handler = logging.StreamHandler()\n",
    "        stream_handler.setFormatter(formatter)    \n",
    "        logger.addHandler(stream_handler)\n",
    "\n",
    "    return logger\n",
    "\n",
    "# Instanciando e configurando objeto de log\n",
    "logger = logging.getLogger('notebook')\n",
    "logger = log_config(logger)"
   ]
  },
  {
   "cell_type": "code",
   "execution_count": 68,
   "id": "81833418",
   "metadata": {
    "ExecuteTime": {
     "end_time": "2021-08-27T02:11:10.736620Z",
     "start_time": "2021-08-27T02:11:09.117500Z"
    }
   },
   "outputs": [
    {
     "name": "stderr",
     "output_type": "stream",
     "text": [
      "INFO;2021-08-26 23:11:10;3267312978.py;3267312978;41;Bucket nbaflow-files criado com sucesso\n"
     ]
    }
   ],
   "source": [
    "# Definindo variáveis do ambiente S3\n",
    "REGION = 'sa-east-1'\n",
    "BUCKET_NAME = 'nbaflow-files'\n",
    "IMGS_FOLDER = 'imgs/'\n",
    "DATA_FOLDER = 'data/'\n",
    "\n",
    "# Definindo variáveis de configuração do bucket\n",
    "LOCATION = {'LocationConstraint': REGION}\n",
    "BLOCK_PUBLIC = True\n",
    "BLOCK_PUBLIC_CONFIG = {\n",
    "    'BlockPublicAcls': True,\n",
    "    'IgnorePublicAcls': True,\n",
    "    'BlockPublicPolicy': True,\n",
    "    'RestrictPublicBuckets': True\n",
    "}\n",
    "\n",
    "# Definindo variáveis de repositório local\n",
    "DATA_PATH = r'C:/Users/thipa/workspaces/nbaflow/data'\n",
    "IMGS_PATH = os.path.join(DATA_PATH, 'images/players')\n",
    "\n",
    "# Instanciando client e resource do S3\n",
    "try:\n",
    "    s3_client = boto3.client('s3', region_name=REGION)\n",
    "    s3 = boto3.resource('s3', region_name=REGION)\n",
    "except Exception as e:\n",
    "    logger.error(f'Erro ao instanciar o client ou o recurso S3. Exception: {e}')\n",
    "\n",
    "# Gerenciando criação de um novo bucket\n",
    "try:\n",
    "    # Listando buckets já existentes\n",
    "    buckets = [bucket.name for bucket in s3.buckets.all()]\n",
    "    if BUCKET_NAME not in buckets:\n",
    "        s3.create_bucket(Bucket=BUCKET_NAME,\n",
    "                         ACL='private',\n",
    "                         CreateBucketConfiguration=LOCATION)\n",
    "\n",
    "        # Definindo acesso público restrito\n",
    "        if BLOCK_PUBLIC:\n",
    "            response = s3_client.put_public_access_block(Bucket=BUCKET_NAME,\n",
    "                                                         PublicAccessBlockConfiguration=BLOCK_PUBLIC_CONFIG)\n",
    "        logger.info(f'Bucket {BUCKET_NAME} criado com sucesso')\n",
    "    else: \n",
    "        # Bucket já existente\n",
    "        logger.warning(f'Bucket {BUCKET_NAME} já existente. A criação de um novo bucket não será realizada.')\n",
    "\n",
    "except EndpointConnectionError as edperror:\n",
    "    logger.error(f'Erro de conexão ao endpoint. Verificar região fornecida na instância do recurso ou do client. Exception: {edperror}')\n"
   ]
  },
  {
   "cell_type": "code",
   "execution_count": 99,
   "id": "106c76fc",
   "metadata": {
    "ExecuteTime": {
     "end_time": "2021-08-27T02:45:19.819823Z",
     "start_time": "2021-08-27T02:45:19.792381Z"
    },
    "code_folding": [
     1
    ]
   },
   "outputs": [],
   "source": [
    "# Definindo função encapsulada para a criação de novos buckets na AWS\n",
    "def create_bucket(bucket_name, region, acl='private', **kwargs):\n",
    "    \"\"\"\n",
    "    Função criada para consolidar os principais elementos de\n",
    "    criação de buckets s3 através do SDK boto3. O código aqui\n",
    "    encapsulado visa propor um detalhamento mais claro sobre\n",
    "    as etapas mais comuns de criação de bucket, providenciando\n",
    "    ao usuário uma maior abstração nas configurações mais\n",
    "    básicas dentro deste universo. De maneira geral, esta\n",
    "    função instancia um recurso s3 via boto3 e utiliza o método\n",
    "    create_bucket() para consolidar as operações de criação\n",
    "    de buckets.\n",
    "    \n",
    "    Para detalhes adicionais ou operações mais avançadas\n",
    "    relacionadas à criação de buckets, verificar a documentação\n",
    "    oficial do boto3 na AWS.\n",
    "    \n",
    "    Parâmetros\n",
    "    ----------\n",
    "    :param bucket_name:\n",
    "        Referência do bucket a ser criado dentro da conta\n",
    "        AWS configurada para a utilização do boto3. O nome\n",
    "        do bucket deve seguir as diretrizes propostas pela\n",
    "        própria AWS dentro das boas práticas e restrições\n",
    "        estabelecidas.\n",
    "        [type: string]\n",
    "        \n",
    "    :param region:\n",
    "        Região a qual o bucket será criado. Este argumento\n",
    "        também é utilizado para a criação do dicionário\n",
    "        de configuração de localização do bucket a ser \n",
    "        passado também como parâmetro do método\n",
    "        create_bucket() do recurso s3 instanciado.\n",
    "        \n",
    "    :param acl:\n",
    "        Parâmetro que define o controle de acesso definido\n",
    "        para o bucket (Access Control List). Neste contexto\n",
    "        o argumento acl propõe a utilização de um bloco\n",
    "        consolidado de controle predefinido dentro das \n",
    "        diretrizes da AWS. Através da documentação de \n",
    "        referência do SDK, é possível visualizar as opções \n",
    "        possíveis enblocadas para a definição de controle \n",
    "        de acesso.\n",
    "        [type: string, default='private']\n",
    "        \n",
    "    Argumentos Adicionais\n",
    "    ---------------------\n",
    "    :kwarg block_public:\n",
    "        Flag que define a modificação da política de acesso\n",
    "        ao bucket criado. Ao ser configurado como True, é\n",
    "        instanciado um client s3 via boto3 e executado o\n",
    "        método put_public_access_block() para bloqueio de\n",
    "        todo acesso público proveniente ACLs ou configurações\n",
    "        adicionais do bucket. A definição exata do bloqueio\n",
    "        de acesso público é definida a partir do argumento\n",
    "        adicional block_public_config.\n",
    "        [type: bool, default=True]\n",
    "    \n",
    "    :kwarg block_public_config:\n",
    "        Dicionário de configuração com chaves específicas \n",
    "        de definição das restrições a serem aplicadas no\n",
    "        método put_public_acess_block() do client s3\n",
    "        instanciado.\n",
    "        [type: dict, default={\n",
    "                        'BlockPublicAcls': True,\n",
    "                        'IgnorePublicAcls': True,\n",
    "                        'BlockPublicPolicy': True,\n",
    "                        'RestrictPublicBuckets': True\n",
    "                    }]\n",
    "    \"\"\"\n",
    "    \n",
    "    # Instanciando recurso S3 e listando buckets existentes\n",
    "    s3 = boto3.resource('s3', region_name=region)\n",
    "    try:\n",
    "        buckets = [bucket.name for bucket in s3.buckets.all()]\n",
    "    except EndpointConnectionError as ece:\n",
    "        logger.error(f'Erro de conexão ao endpoint. Verificar região {region}. Exception: {ece}')\n",
    "        return None\n",
    "    \n",
    "    # Validando existência do bucket\n",
    "    if bucket_name in buckets:\n",
    "        logger.warning(f'Bucket {bucket_name} já existente. A criação de um novo bucket não será realizada.')\n",
    "        return None\n",
    "    else:\n",
    "        # Criando um novo bucket\n",
    "        try:\n",
    "            location = kwargs['location'] if 'location' in kwargs else {'LocationConstraint': region}\n",
    "            s3.create_bucket(\n",
    "                Bucket=bucket_name, \n",
    "                ACL=acl,\n",
    "                CreateBucketConfiguration=location\n",
    "            )\n",
    "            logger.info(f'Bucket {bucket_name} criado com sucesso.')\n",
    "        except ClientError as ce:\n",
    "            logger.error(f'Erro durante a criação do bucket. Exception: {ce}')\n",
    "            \n",
    "    # Validando bloqueio de acesso público ao bucket\n",
    "    block_public = kwargs['block_public'] if 'block_public' in kwargs else True\n",
    "    if block_public:\n",
    "        config = {\n",
    "            'BlockPublicAcls': True,\n",
    "            'IgnorePublicAcls': True,\n",
    "            'BlockPublicPolicy': True,\n",
    "            'RestrictPublicBuckets': True\n",
    "        }\n",
    "        block_public_config = kwargs['block_public_config'] if 'block_public_config' in kwargs else config\n",
    "        \n",
    "        # Instanciando sessão e configurando bloqueio de acesso público\n",
    "        try:\n",
    "            s3_client = boto3.client('s3', region_name=region)\n",
    "            response = s3_client.put_public_access_block(Bucket=bucket_name,\n",
    "                                                         PublicAccessBlockConfiguration=block_public_config)\n",
    "        except Exception as e:\n",
    "            logger.warning(f'Erro ao instanciar client e bloquear acesso público ao bucket {bucket_name}. Exception: {e}')\n",
    "            "
   ]
  },
  {
   "cell_type": "code",
   "execution_count": 104,
   "id": "151bf512",
   "metadata": {
    "ExecuteTime": {
     "end_time": "2021-08-27T02:47:27.805306Z",
     "start_time": "2021-08-27T02:47:27.790346Z"
    }
   },
   "outputs": [],
   "source": [
    "# Definindo variáveis do ambiente S3\n",
    "REGION = 'sa-east-1'\n",
    "BUCKET_NAME = 'nbaflow-files'\n",
    "IMGS_FOLDER = 'imgs/'\n",
    "DATA_FOLDER = 'data/'\n",
    "\n",
    "# Definindo variáveis de configuração do bucket\n",
    "LOCATION = {'LocationConstraint': REGION}\n",
    "ACL = 'private'\n",
    "BLOCK_PUBLIC = True\n",
    "BLOCK_PUBLIC_CONFIG = {\n",
    "    'BlockPublicAcls': True,\n",
    "    'IgnorePublicAcls': True,\n",
    "    'BlockPublicPolicy': True,\n",
    "    'RestrictPublicBuckets': True\n",
    "}\n",
    "\n",
    "# Definindo variáveis de repositório local\n",
    "DATA_PATH = r'C:/Users/thipa/workspaces/nbaflow/data'\n",
    "IMGS_PATH = os.path.join(DATA_PATH, 'images/players')"
   ]
  },
  {
   "cell_type": "code",
   "execution_count": 108,
   "id": "817e4306",
   "metadata": {
    "ExecuteTime": {
     "end_time": "2021-08-27T02:48:26.554593Z",
     "start_time": "2021-08-27T02:48:26.074551Z"
    }
   },
   "outputs": [
    {
     "data": {
      "text/plain": [
       "{'ResponseMetadata': {'RequestId': '9G01BSTEPX5SWSQX',\n",
       "  'HostId': '1nWl7HmzUkFNP+awiwk244doP+C62FsulwfnnNBNhW+dJV3pwaFdKRbDFqpoLb4TroJ6rHHr/2w=',\n",
       "  'HTTPStatusCode': 204,\n",
       "  'HTTPHeaders': {'x-amz-id-2': '1nWl7HmzUkFNP+awiwk244doP+C62FsulwfnnNBNhW+dJV3pwaFdKRbDFqpoLb4TroJ6rHHr/2w=',\n",
       "   'x-amz-request-id': '9G01BSTEPX5SWSQX',\n",
       "   'date': 'Fri, 27 Aug 2021 02:48:27 GMT',\n",
       "   'server': 'AmazonS3'},\n",
       "  'RetryAttempts': 0}}"
      ]
     },
     "execution_count": 108,
     "metadata": {},
     "output_type": "execute_result"
    }
   ],
   "source": [
    "# Deletando bucket (opcional)\n",
    "s3_client = boto3.client('s3', region_name=REGION)\n",
    "s3_client.delete_bucket(Bucket=BUCKET_NAME)"
   ]
  },
  {
   "cell_type": "code",
   "execution_count": 107,
   "id": "1101fcdd",
   "metadata": {
    "ExecuteTime": {
     "end_time": "2021-08-27T02:47:44.976673Z",
     "start_time": "2021-08-27T02:47:43.254698Z"
    }
   },
   "outputs": [
    {
     "name": "stderr",
     "output_type": "stream",
     "text": [
      "INFO;2021-08-26 23:47:44;592908619.py;592908619;93;Bucket nbaflow-files criado com sucesso.\n"
     ]
    }
   ],
   "source": [
    "# Criando novo bucket\n",
    "create_bucket(bucket_name=BUCKET_NAME, region=REGION, acl=ACL, \n",
    "              block_public=BLOCK_PUBLIC, block_public_config=BLOCK_PUBLIC_CONFIG)"
   ]
  },
  {
   "cell_type": "code",
   "execution_count": null,
   "id": "bf6b6082",
   "metadata": {},
   "outputs": [],
   "source": []
  }
 ],
 "metadata": {
  "hide_input": false,
  "kernelspec": {
   "display_name": "Python 3 (ipykernel)",
   "language": "python",
   "name": "python3"
  },
  "language_info": {
   "codemirror_mode": {
    "name": "ipython",
    "version": 3
   },
   "file_extension": ".py",
   "mimetype": "text/x-python",
   "name": "python",
   "nbconvert_exporter": "python",
   "pygments_lexer": "ipython3",
   "version": "3.8.10"
  },
  "toc": {
   "base_numbering": 1,
   "nav_menu": {},
   "number_sections": true,
   "sideBar": true,
   "skip_h1_title": false,
   "title_cell": "Table of Contents",
   "title_sidebar": "Contents",
   "toc_cell": true,
   "toc_position": {},
   "toc_section_display": true,
   "toc_window_display": true
  },
  "varInspector": {
   "cols": {
    "lenName": 16,
    "lenType": 16,
    "lenVar": 40
   },
   "kernels_config": {
    "python": {
     "delete_cmd_postfix": "",
     "delete_cmd_prefix": "del ",
     "library": "var_list.py",
     "varRefreshCmd": "print(var_dic_list())"
    },
    "r": {
     "delete_cmd_postfix": ") ",
     "delete_cmd_prefix": "rm(",
     "library": "var_list.r",
     "varRefreshCmd": "cat(var_dic_list()) "
    }
   },
   "types_to_exclude": [
    "module",
    "function",
    "builtin_function_or_method",
    "instance",
    "_Feature"
   ],
   "window_display": false
  }
 },
 "nbformat": 4,
 "nbformat_minor": 5
}
