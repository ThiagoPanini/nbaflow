{
 "cells": [
  {
   "cell_type": "markdown",
   "id": "be539a48",
   "metadata": {
    "toc": true
   },
   "source": [
    "<h1>Table of Contents<span class=\"tocSkip\"></span></h1>\n",
    "<div class=\"toc\"><ul class=\"toc-item\"><li><span><a href=\"#Introdução-e-Cenário\" data-toc-modified-id=\"Introdução-e-Cenário-1\"><span class=\"toc-item-num\">1&nbsp;&nbsp;</span>Introdução e Cenário</a></span><ul class=\"toc-item\"><li><span><a href=\"#Objetos-e-Elementos-do-Projeto\" data-toc-modified-id=\"Objetos-e-Elementos-do-Projeto-1.1\"><span class=\"toc-item-num\">1.1&nbsp;&nbsp;</span>Objetos e Elementos do Projeto</a></span></li></ul></li><li><span><a href=\"#Criando-um-Bucket-S3\" data-toc-modified-id=\"Criando-um-Bucket-S3-2\"><span class=\"toc-item-num\">2&nbsp;&nbsp;</span>Criando um Bucket S3</a></span><ul class=\"toc-item\"><li><span><a href=\"#Via-Console\" data-toc-modified-id=\"Via-Console-2.1\"><span class=\"toc-item-num\">2.1&nbsp;&nbsp;</span>Via Console</a></span></li><li><span><a href=\"#Via-boto3\" data-toc-modified-id=\"Via-boto3-2.2\"><span class=\"toc-item-num\">2.2&nbsp;&nbsp;</span>Via boto3</a></span></li></ul></li></ul></div>"
   ]
  },
  {
   "cell_type": "markdown",
   "id": "e2da04cc",
   "metadata": {},
   "source": [
    "# Introdução e Cenário"
   ]
  },
  {
   "cell_type": "markdown",
   "id": "e5324b5d",
   "metadata": {},
   "source": [
    "Este notebook tem por objetivo documentar e detalhar os passos realizados para a utilização do serviço **S3** (do inglês, _Simple Storage Service_) da AWS para o armazenamento de objetos gerados pelas funcionalidades do projeto [nbaflow](https://github.com/ThiagoPanini/nbaflow). Dentro da proposta de migração do projeto para uma arquitetura em nuvem, no notebook [NBAFlow-aws-migration](https://github.com/ThiagoPanini/nbaflow/blob/main/notebooks/NBAFlow-aws-migration.ipynb) foi proposta uma documentação completa sobre todas as etapas realizadas dentro do processo de utilização de um serviço de banco de dados relacional (RDS) conectado a um serviço computacional (EC2) para consultar dados de jogadores da NBA e, eventualmente, entregá-los por e-mail ao usuário.\n",
    "\n",
    "Como resultado dessa frente de migração, foi possível alcançar a seguinte arquitetura já testada e validada dentro dos propósitos iniciais estabelecidos:\n",
    "\n",
    "<div align=\"center\">\n",
    "    <br><img src=\"https://i.imgur.com/8uRYLEH.png\" alt=\"aws_diagram\">\n",
    "</div>\n",
    "\n",
    "Na prática, a instância EC2 possui scripts python clonados do repositório oficial do projeto no GitHub via SSH e, a partir deles, o desenvolvedor pode manualmente solicitar a execução para dois propósitos específicos:\n",
    "\n",
    "* _**insert_gamelog_data.py**_: lê um arquivo csv processado previamente e disponibilizado no diretório `data/` para realizar um processo de criação de tabela e ingestão de dados em um banco de dados RDS PostgreSQL.\n",
    "* _**player_gamelog_from_db.py**_: recebe parâmetros do usuário no prompt de comando (nome de um jogador e temporada válida da NBA) para construir uma query de consulta a ser executada no banco de dados. Os dados são retornados em um formato DataFrame e, opcionalmente, enviados por e-mail para um destinatário fornecido também manualmente.\n",
    "\n",
    "<div class=\"alert alert-block alert-info\">\n",
    "<b>Observação:</b> Até este ponto, ainda não foi possível construir uma lógica inteiramente voltada à APIs. Em outras palavras, todas as iterações usuário-código são feitas diretamente pelo prompt de comando e, futuramente, a ideia é que essa comunicação seja feita a partir de uma rota específica onde o usuário possa acessar e enviar suas solicitações de acordo com os filtros desejados. Além disso, ainda existem oportunidades de otimizar esse fluxo a partir da utilização de outros serviços da AWS capazes de servir como um alicerce computacional como, por exemplo, funções lambda.\n",
    "</div>\n",
    "\n",
    "___\n",
    "**_Para entender todo o contexto do projeto, é sugerido o consumo dos seguintes materiais:_**\n",
    "\n",
    "* [1. NBAFlow - documentação e exploração inicial da API nba_api](https://github.com/ThiagoPanini/nbaflow/blob/main/notebooks/NBAflow-doc-api.ipynb)\n",
    "\n",
    "* [2. NBAFlow - documentação de fluxo de extração de imagens de jogadores](https://github.com/ThiagoPanini/nbaflow/blob/main/notebooks/NBAflow-players-images.ipynb)\n",
    "\n",
    "* [3. NBAFlow - estruturação de armazenamento em banco de dados Postgres (OPCIONAL)](https://github.com/ThiagoPanini/nbaflow/blob/main/notebooks/NBAflow-psql.ipynb)\n",
    "\n",
    "* [4. NBAFlow - primeiros passos da migração para a AWS](https://github.com/ThiagoPanini/nbaflow/blob/main/notebooks/NBAFlow-aws-migration.ipynb)\n",
    "\n",
    "* [5. Classes estruturadas de processamento de dados](https://github.com/ThiagoPanini/nbaflow/tree/main/core)\n",
    "\n",
    "* [6. Scripts de processamento de dados utilizando as classes estruturadas](https://github.com/ThiagoPanini/nbaflow/tree/main/scripts)\n",
    "___"
   ]
  },
  {
   "cell_type": "markdown",
   "id": "063cbf03",
   "metadata": {},
   "source": [
    "## Objetos e Elementos do Projeto"
   ]
  },
  {
   "cell_type": "markdown",
   "id": "e1635b52",
   "metadata": {},
   "source": [
    "Assim, em paralelo aos desafios acima explicados e, dentro dos objetivos estabelecidos no início deste material, a grande exploração a ser realizada nas próxima seções gira em torno da utilização do serviço S3 para o armazenamento de alguns objetos presentes em momentos específicos do fluxo de trabalho do projeto NBAFlow. \n",
    "\n",
    "Neste cenário, os objetos citados referem-se a:\n",
    "\n",
    "* **_Arquivos de dados_**: ao longo do desenvolvimento do projeto, foram criados scripts de requisição e processamento de dados de jogadores da NBA para serem analisados posteriormente. Neste propósito, o módulo [`gamelog`](https://github.com/ThiagoPanini/nbaflow/blob/main/core/gamelog.py) foi concebido como uma forma de centralizar o consumo do pacote [nba_api](https://github.com/swar/nba_api) no univero de análise de partidas e estatísticas individuais de jogadores da liga em todas as temporadas disponíveis. Ao longo do processamento, notou-se uma carga excessiva de requisições realizadas, gerando assim um alto tempo de execução para o retorno dos dados de todas as partidas, de todos os jogadores, em todas as temporadas válidas. Assim, visando otimizar as etapas posteriores, todo o histórico processado foi armazenado no arquivo [all_players_gamelog.csv](https://github.com/ThiagoPanini/nbaflow/blob/main/data/all_players_gamelog.csv) contendo todos os insumos necessários para uma análise completa da liga. Exemplificando a utilidade deste arquivo, o script [`insert_gamelog_data`](https://github.com/ThiagoPanini/nbaflow/blob/main/scripts/db_integration/insert_gamelog_data.py) se utiliza deste arquivo csv para inserir registros em uma tabela em um banco de dados PostgreSQL (local ou na nuvem). Como um passo adicional, neste material será proposto o armazenamento deste arquivo em um bucket do S3 para consumo direto via script. Eventualmente, será possível adicionar lógicas no módulo `gamelog` para salvar os resultados das requisições à nba_api direto em buckets do S3 utilizando o SDK [`boto3`](https://boto3.amazonaws.com/v1/documentation/api/latest/guide/quickstart.html).\n",
    "\n",
    "\n",
    "* **_Imagens de jogadores_**: em uma outra frente extremamente relevante dentro do projeto NBAFlow, foi construída uma lógica capaz de extrair imagens de alta qualidade dos jogadores da NBA diretamente do [site oficial](https://www.nba.com/stats/). Neste cenário, o módulo [`images`](https://github.com/ThiagoPanini/nbaflow/blob/main/core/images.py) foi concebido como uma forma de centralizar os elementos necessários para a consolidação dessas requisições e o salvamento local dos arquivos png recebidos no sistema operacional. Como alternativas, será proposta a inclusão dessas imagens em um bucket do S3 para um armazenamento mais sustentável dentro das propostas gerais do projeto. Eventualmente, será possível aplicar algumas alterações no módulo `images` para que as imagens obtidas pelas requisições já sejam automaticamente salvas em buckets do S3. Para tal, mais uma vez, será preciso utilizar as funcionalidade so SDK `boto3`."
   ]
  },
  {
   "cell_type": "markdown",
   "id": "7f68ff30",
   "metadata": {},
   "source": [
    "# Criando um Bucket S3"
   ]
  },
  {
   "cell_type": "markdown",
   "id": "ddca5ade",
   "metadata": {},
   "source": [
    "Iniciando as etapas práticas de construção dos elementos propostos, em um primeiro momento, serão detalhados os passos para a criação de um (ou mais de um) bucket S3 pela AWS utilizando o console de gerenciamento. Posteriormente, um primeiro contato com o SDK `boto3` será fornecido como uma forma eficiente de automatizar, organizar e gerenciar recursos da AWS utilizando a linguagem Python."
   ]
  },
  {
   "cell_type": "markdown",
   "id": "b8bad74a",
   "metadata": {},
   "source": [
    "## Via Console"
   ]
  },
  {
   "cell_type": "markdown",
   "id": "7dd6bdeb",
   "metadata": {},
   "source": [
    "Conforme mencionado acima, as primeiras iterações com o serviço S3 serão obtidas a partir do console de gerenciamento da AWS. Nesse formato, a [página do serviço](https://console.aws.amazon.com/s3/home?region=sa-east-1) foi utilizada para a criação de um novo bucket denominado `nbaflow-console`. Nele, dois novos [diretórios](https://docs.aws.amazon.com/AmazonS3/latest/userguide/using-folders.html) foram criados para armazenar _dados_ (arquivos em geral) e _imagens_.\n",
    "\n",
    "> 📌**Nota**: de acordo com a documentação oficial, no S3, buckets e objetos são os recursos principais, sendo os objetos armazenados em buckets. Mesmo sem o mesmo significado dos sistemas operacionais, é possível criar \"diretórios\" nos buckets para fins organizacionais, facilitando assim as referências e o armazenamento de objetos. O conceito fundamental de diretórios no S3 é o de simplesmente agrupar objetos a partir de um prefixo adicionado à rota do objeto.\n",
    "\n",
    "A imagem abaixo traz o bucket `nbaflow-console` criado com os diretórios `data/` e `imgs/` associados:\n",
    "\n",
    "<div align=\"center\">\n",
    "    <br><img src=\"https://i.imgur.com/geU2QZE.png\" alt=\"s3_bucket_nbaflow-console\">\n",
    "</div>\n",
    "\n",
    "Na sequência, também utilizando as funcionalidades do console, foram realizados os uploads do arquivo `all_players_gamelog.csv` e das imagens png originalmente armazenadas no diretório `data/images/players` do repositório do projeto. A imagem abaixo traz um exemplo do diretório `imgs/` do bucket recém criado já com as imagens de jogadores armazenadas.\n",
    "\n",
    "<div align=\"center\">\n",
    "    <br><img src=\"https://i.imgur.com/0s9jFyP.png\" alt=\"s3_imgs\">\n",
    "</div>\n",
    "\n",
    "Dessa forma, em um processo altamente intuitivo, foi possível finalizar essa primeira etapa de criação de bucket a partir do console de gerenciamento da AWS. Além disso, o upload dos arquivos selecionados foram realizados dentro dos diretórios criados no bucket. A criação do bucket e o upload dos arquivos foram realizados seguindos todas as configurações padrão propostas no processo o que, em resumo, podem ser descritadas como:\n",
    "\n",
    "* Bucket criado sem acesso público\n",
    "* Bucket criado sem versionamento\n",
    "* Bucket sem encriptação dos dados\n",
    "* Acesso de leitura e escrita aos objetos está restrito ao owner do bucket\n",
    "\n",
    "Na próxima seção, os processos de criação, configuração e upload de objetos no bucket serão realizados a partir do SDK Python `boto3`."
   ]
  },
  {
   "cell_type": "markdown",
   "id": "e13e8140",
   "metadata": {},
   "source": [
    "## Via boto3"
   ]
  },
  {
   "cell_type": "markdown",
   "id": "59ec90df",
   "metadata": {},
   "source": [
    "De acordo com a [página oficial de documentação](https://boto3.amazonaws.com/v1/documentation/api/latest/index.html), o SDK `boto3` pode ser resumido a:\n",
    "\n",
    "> _You use the AWS SDK for Python (Boto3) to create, configure, and manage AWS services, such as Amazon Elastic Compute Cloud (Amazon EC2) and Amazon Simple Storage Service (Amazon S3). The SDK provides an object-oriented API as well as low-level access to AWS services._\n",
    "\n",
    "Considerando a riqueza de detalhes e de exemplos fornecidos pela própria AWS, grande parte dos primeiros passos aqui documentados serão reproduções adaptadas da página oficial de documentação. Para tal, visando alinhar os propósitos deste notebook, é sugerido que o usuário consumidor do material aqui presente siga algumas instruções básicas de configuração propostas pela documentação do boto3 para que os códigos aqui escritos tenham a eficácia planejada.\n",
    "\n",
    "Assim, depois de um breve estudo no material oficial, a instalação do boto3 foi feita, dentro do ambiente virtual criado para o projeto NBAFLow, através do comando:\n",
    "\n",
    "    pip install boto3\n",
    "    \n",
    "Mesmo após a instalação, as primeiras tentativas de uso do SDK não foram bem sucedidas. Isto porque, de maneira direta, o boto3 necessita encontrar (ou ser devidamente configurado para isso) credenciais válidas do usuário para que as operações possam ser realizadas. Dessa forma, com a instalação do [AWS CLI](https://aws.amazon.com/pt/cli/) e a execução do comando `aws configure`, foi possível providenciar os insumos necessários para que o boto3 consiga autenticar o usuário dentro da utilização dos recursos na nuvem. Para detalhes adicionais, pode-se analisar a seção de [Configuração](https://boto3.amazonaws.com/v1/documentation/api/latest/guide/quickstart.html#configuration) da documentação oficial.\n",
    "\n",
    "Por fim, as linhas de código abaixo trazem a importação da biblioteca boto3 juntamente com a criação de um recurso \"s3\" utilizado para gerenciar e automatizar ações dentro deste serviço de armazenamento. Como validação, serão mostrados todos os buckets presentes na conta AWS configurada."
   ]
  },
  {
   "cell_type": "code",
   "execution_count": 5,
   "id": "ecea4a0f",
   "metadata": {
    "ExecuteTime": {
     "end_time": "2021-08-26T18:53:46.083496Z",
     "start_time": "2021-08-26T18:53:45.765826Z"
    }
   },
   "outputs": [
    {
     "name": "stdout",
     "output_type": "stream",
     "text": [
      "nbaflow-console\n"
     ]
    }
   ],
   "source": [
    "# Importando biblioteca\n",
    "import boto3\n",
    "\n",
    "# Criando recurso e listando buckets\n",
    "s3 = boto3.resource('s3')\n",
    "for bucket in s3.buckets.all():\n",
    "    print(bucket.name)"
   ]
  },
  {
   "cell_type": "markdown",
   "id": "969d9cd6",
   "metadata": {},
   "source": [
    "De fato, com o código acima, foi possível verificar que existe apenas um bucket criado na conta configurada da AWS (o recém criado *nbaflow-console*). Ainda nessas primeiras interações com boto3 e buckets S3, o código abaixo é responsável por conectar a um bucket e ler um objeto diretamente na memória. Neste caso, será proposta a leitura de uma das imagens de jogadores da NBA utilizando uma `key` específica que contempla, como prefixo, o diretório criado manualmente no bucket para organização do armazenamento."
   ]
  },
  {
   "cell_type": "code",
   "execution_count": 23,
   "id": "9fae8b56",
   "metadata": {
    "ExecuteTime": {
     "end_time": "2021-08-26T19:08:34.215843Z",
     "start_time": "2021-08-26T19:08:34.060190Z"
    }
   },
   "outputs": [
    {
     "data": {
      "image/png": "[encoded data removed]",
      "text/plain": [
       "<PIL.PngImagePlugin.PngImageFile image mode=P size=260x190 at 0x1C53A978AF0>"
      ]
     },
     "execution_count": 23,
     "metadata": {},
     "output_type": "execute_result"
    }
   ],
   "source": [
    "from PIL import Image\n",
    "from io import BytesIO\n",
    "\n",
    "# Vinculando bucket alvo\n",
    "bucket = s3.Bucket('nbaflow-console')\n",
    "\n",
    "# Coletando objeto\n",
    "obj = bucket.Object(key='imgs/Damian Lillard.png')\n",
    "response = obj.get()\n",
    "file_stream = response['Body']\n",
    "Image.open(file_stream)"
   ]
  },
  {
   "cell_type": "markdown",
   "id": "b2b788d4",
   "metadata": {
    "ExecuteTime": {
     "end_time": "2021-08-26T18:58:34.227503Z",
     "start_time": "2021-08-26T18:58:34.207528Z"
    }
   },
   "source": [
    "**_Referência:_** https://stackoverflow.com/questions/44043036/how-to-read-image-file-from-s3-bucket-directly-into-memory\n",
    "\n",
    "Até este ponto, já é possível mensurar o poder fornecido pelo SDK boto3 dentro das possibilidades de gerenciamento de recursos na AWS. Com ele, foi possível ler diretamente na memória um objeto armazenado manualmente em um bucket s3 criado diretamente pelo console. Considerando esta atuação, o bloco de código abaixo irá propor a criação de um **novo bucket** S3 em uma região específica para que, futuramente, este código possa ser encapsulado juntamente com outras funcionalidades de leitura e escrita de objetos dentro de buckets, tudo via boto3."
   ]
  },
  {
   "cell_type": "code",
   "execution_count": 30,
   "id": "81d056d0",
   "metadata": {
    "ExecuteTime": {
     "end_time": "2021-08-26T19:20:54.809051Z",
     "start_time": "2021-08-26T19:20:53.387367Z"
    }
   },
   "outputs": [
    {
     "name": "stdout",
     "output_type": "stream",
     "text": [
      "nbaflow-boto3\n",
      "nbaflow-console\n"
     ]
    }
   ],
   "source": [
    "# Definindo parâmetros\n",
    "REGION = 'sa-east-1'\n",
    "BUCKET_NAME = 'nbaflow-boto3'\n",
    "LOCATION = {'LocationConstraint': REGION}\n",
    "\n",
    "# Instanciando cliente e criando bucket\n",
    "s3_client = boto3.client('s3', region_name=REGION)\n",
    "s3_client.create_bucket(Bucket=BUCKET_NAME,\n",
    "                        CreateBucketConfiguration=LOCATION)\n",
    "\n",
    "# Listando buckets criados\n",
    "for bucket in s3.buckets.all():\n",
    "    print(bucket.name)"
   ]
  },
  {
   "cell_type": "markdown",
   "id": "34998331",
   "metadata": {
    "ExecuteTime": {
     "end_time": "2021-08-26T18:56:54.911104Z",
     "start_time": "2021-08-26T18:56:54.899168Z"
    }
   },
   "source": [
    "* **_Referência:_** https://boto3.amazonaws.com/v1/documentation/api/latest/guide/s3-example-creating-buckets.html\n",
    "\n",
    "Com o resultado acima, percebe-se agora a presença de dois buckets listados na conta AWS. Ao atualizar a página no console de gerenciamento, uma nova linha na lista de buckets que realmente a criação foi realizada com sucesso. Entretanto, observando os detalhes relacionados a acesso, mesmo que tenhamos restringido a criação do bucket a uma região em específico da maneira referenciada na documentação, os objetos do novo bucket `nbaflow-boto3` criado podem ser acessados publicamente o que, de fato, pode não ser o desejado pra grande parte das aplicações.\n",
    "\n",
    "<div align=\"center\">\n",
    "    <br><img src=\"https://i.imgur.com/jMzMEeZ.png\" alt=\"s3_public_bucket\">\n",
    "</div>\n",
    "\n",
    "Assim, para manter um bucket restrito através do boto3, é possível definir um dicionário de configurações com algumas chaves específicas e executar o método `put_public_access_block()` do objeto `s3_client`. Adicionalmente, na referência oficial da [documentação do client S3](https://boto3.amazonaws.com/v1/documentation/api/1.9.42/reference/services/s3.html#S3.Client.create_bucket), pode-se procurar pelo método `create_bucket()` e observar alguns detalhes adicionais sobre como o processo de criação pode ser melhor gerenciado."
   ]
  },
  {
   "cell_type": "code",
   "execution_count": 53,
   "id": "562a0491",
   "metadata": {
    "ExecuteTime": {
     "end_time": "2021-08-26T19:45:47.210355Z",
     "start_time": "2021-08-26T19:45:46.758458Z"
    }
   },
   "outputs": [
    {
     "data": {
      "text/plain": [
       "{'ResponseMetadata': {'RequestId': 'EVRFQ9X6XMAWWZHB',\n",
       "  'HostId': 'RgamkNDM92DEA9mO2Blyr5ALKxxpyZvIuYHbNok1yova4TGKRx3qxvcnXtyD9QpWopRd/bHDt/I=',\n",
       "  'HTTPStatusCode': 200,\n",
       "  'HTTPHeaders': {'x-amz-id-2': 'RgamkNDM92DEA9mO2Blyr5ALKxxpyZvIuYHbNok1yova4TGKRx3qxvcnXtyD9QpWopRd/bHDt/I=',\n",
       "   'x-amz-request-id': 'EVRFQ9X6XMAWWZHB',\n",
       "   'date': 'Thu, 26 Aug 2021 19:45:48 GMT',\n",
       "   'server': 'AmazonS3',\n",
       "   'content-length': '0'},\n",
       "  'RetryAttempts': 0}}"
      ]
     },
     "execution_count": 53,
     "metadata": {},
     "output_type": "execute_result"
    }
   ],
   "source": [
    "# Definindo configurações\n",
    "PUBLIC_CONFIG = {\n",
    "    'BlockPublicAcls': True,\n",
    "    'IgnorePublicAcls': True,\n",
    "    'BlockPublicPolicy': True,\n",
    "    'RestrictPublicBuckets': True\n",
    "}\n",
    "\n",
    "# Modificando acesso do bucket\n",
    "response_public = s3_client.put_public_access_block(Bucket=BUCKET_NAME,\n",
    "                                                    PublicAccessBlockConfiguration=PUBLIC_CONFIG)\n",
    "response_public"
   ]
  },
  {
   "cell_type": "markdown",
   "id": "67281144",
   "metadata": {},
   "source": [
    "Após a execução do bloco de código acima, foi possível verificar, no console, o efeito da alteração das permissões no bucket `nbaflow-boto3`.\n",
    "\n",
    "<div align=\"center\">\n",
    "    <br><img src=\"https://i.imgur.com/c4VYbgH.png\" alt=\"s3_notpublic_bucket\">\n",
    "</div>"
   ]
  },
  {
   "cell_type": "raw",
   "id": "699d49b6",
   "metadata": {},
   "source": []
  }
 ],
 "metadata": {
  "hide_input": false,
  "kernelspec": {
   "display_name": "Python 3 (ipykernel)",
   "language": "python",
   "name": "python3"
  },
  "language_info": {
   "codemirror_mode": {
    "name": "ipython",
    "version": 3
   },
   "file_extension": ".py",
   "mimetype": "text/x-python",
   "name": "python",
   "nbconvert_exporter": "python",
   "pygments_lexer": "ipython3",
   "version": "3.8.10"
  },
  "toc": {
   "base_numbering": 1,
   "nav_menu": {},
   "number_sections": true,
   "sideBar": true,
   "skip_h1_title": false,
   "title_cell": "Table of Contents",
   "title_sidebar": "Contents",
   "toc_cell": true,
   "toc_position": {},
   "toc_section_display": true,
   "toc_window_display": true
  },
  "varInspector": {
   "cols": {
    "lenName": 16,
    "lenType": 16,
    "lenVar": 40
   },
   "kernels_config": {
    "python": {
     "delete_cmd_postfix": "",
     "delete_cmd_prefix": "del ",
     "library": "var_list.py",
     "varRefreshCmd": "print(var_dic_list())"
    },
    "r": {
     "delete_cmd_postfix": ") ",
     "delete_cmd_prefix": "rm(",
     "library": "var_list.r",
     "varRefreshCmd": "cat(var_dic_list()) "
    }
   },
   "types_to_exclude": [
    "module",
    "function",
    "builtin_function_or_method",
    "instance",
    "_Feature"
   ],
   "window_display": false
  }
 },
 "nbformat": 4,
 "nbformat_minor": 5
}
